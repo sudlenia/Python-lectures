{
  "nbformat": 4,
  "nbformat_minor": 0,
  "metadata": {
    "colab": {
      "provenance": [],
      "include_colab_link": true
    },
    "kernelspec": {
      "name": "python3",
      "display_name": "Python 3"
    },
    "language_info": {
      "name": "python"
    }
  },
  "cells": [
    {
      "cell_type": "markdown",
      "metadata": {
        "id": "view-in-github",
        "colab_type": "text"
      },
      "source": [
        "<a href=\"https://colab.research.google.com/github/sudlenia/Python-lectures/blob/main/%D0%9B%D0%B5%D0%BA%D1%86%D0%B8%D1%8F_%E2%84%966_%D0%91%D0%B8%D0%B1%D0%BB%D0%B8%D0%BE%D1%82%D0%B5%D0%BA%D0%B0_NumPy.ipynb\" target=\"_parent\"><img src=\"https://colab.research.google.com/assets/colab-badge.svg\" alt=\"Open In Colab\"/></a>"
      ]
    },
    {
      "cell_type": "markdown",
      "source": [
        "# Основы NumPy: массивы и векторные вычисления"
      ],
      "metadata": {
        "id": "Ugpw0FtUFm3z"
      }
    },
    {
      "cell_type": "markdown",
      "source": [
        "В данной лекции мы с вами познакомимся с библиотекой `NumPy`, которая часто используется в задачах анализа данных и машинного обучения.\n",
        "\n",
        "`Numerical Python`, или сокращенно `NumPy`, – один из важнейших пакетов для численных расчетов в Python. Во многих пакетах для научных расчетов используются объекты массивов `NumPy`, которые являются универсальным языком обмена данными.\n",
        "\n",
        "Возможности `NumPy`:\n",
        "1. объект `ndarray` - эффективный многомерный массив, предоставляющий быстрые\n",
        "арифметические операции с массивами;\n",
        "2. математические функции для выполнения быстрых операций над целыми массивами без явного использования циклов;\n",
        "3. средства для чтения массива данных с диска и записи его на диск;\n",
        "4. алгоритмы линейной алгебры, генерация случайных чисел и преобразование Фурье;\n",
        "5. средства для интеграции с кодом, написанным на C, C++ или Fortran.\n",
        "\n",
        "В большинстве приложений для анализа данных основной интерес представляет следующая функциональность:\n",
        "1. быстрые векторные операции для переформатирования и очистки данных, выборки подмножеств и фильтрации, преобразований и других видов вычислений;\n",
        "2. стандартные алгоритмы работы с массивами, например фильтрация, удаление дубликатов и теоретико-множественные операции;\n",
        "3. эффективная описательная статистика, агрегирование и обобщение данных;\n",
        "4. выравнивание данных и реляционные операции объединения и соединения разнородных наборов данных;\n",
        "5. описание условной логики в виде выражений-массивов вместо циклов с ветвлением if-elif-else;\n",
        "6. групповые операции с данными (агрегирование, преобразование, применение функции)."
      ],
      "metadata": {
        "id": "8Woo_EPhQZFA"
      }
    },
    {
      "cell_type": "markdown",
      "source": [
        "## NumPy ndarray: объект многомерного массива"
      ],
      "metadata": {
        "id": "r8Gx1bvNTGvJ"
      }
    },
    {
      "cell_type": "markdown",
      "source": [
        "Одна из ключевых особенностей `NumPy` – объект `ndarray` для представления\n",
        "N-мерного массива; это быстрый и гибкий контейнер для хранения больших\n",
        "наборов данных в Python. Массивы позволяют выполнять математические\n",
        "операции над целыми блоками данных, применяя такой же синтаксис, как для\n",
        "соответствующих операций над скалярами.\n",
        "\n",
        "Импортируем библиотеку `numpy` под псевдонимом `np`:"
      ],
      "metadata": {
        "id": "EnP5pVtoTO9x"
      }
    },
    {
      "cell_type": "code",
      "source": [
        "import numpy as np"
      ],
      "metadata": {
        "id": "kIuVNGNnQhhY"
      },
      "execution_count": null,
      "outputs": []
    },
    {
      "cell_type": "code",
      "source": [
        "data = np.array([[1.5, -0.1, 3], [0, -3, 6.5]])\n",
        "data"
      ],
      "metadata": {
        "colab": {
          "base_uri": "https://localhost:8080/"
        },
        "id": "Z3my-yMKTvgI",
        "outputId": "cb5e1bd0-44b7-4d0c-e62f-1b1a2ab40d8f"
      },
      "execution_count": null,
      "outputs": [
        {
          "output_type": "execute_result",
          "data": {
            "text/plain": [
              "array([[ 1.5, -0.1,  3. ],\n",
              "       [ 0. , -3. ,  6.5]])"
            ]
          },
          "metadata": {},
          "execution_count": 238
        }
      ]
    },
    {
      "cell_type": "code",
      "source": [
        "data * 10"
      ],
      "metadata": {
        "colab": {
          "base_uri": "https://localhost:8080/"
        },
        "id": "5JwB_qkYT5st",
        "outputId": "ad7a1655-cdec-405f-aaad-84323c26be66"
      },
      "execution_count": null,
      "outputs": [
        {
          "output_type": "execute_result",
          "data": {
            "text/plain": [
              "array([[ 15.,  -1.,  30.],\n",
              "       [  0., -30.,  65.]])"
            ]
          },
          "metadata": {},
          "execution_count": 5
        }
      ]
    },
    {
      "cell_type": "code",
      "source": [
        "data + data"
      ],
      "metadata": {
        "colab": {
          "base_uri": "https://localhost:8080/"
        },
        "id": "0ZjBPXg3T7b_",
        "outputId": "2720b034-8e5b-4991-8950-d700a2ff66f3"
      },
      "execution_count": null,
      "outputs": [
        {
          "output_type": "execute_result",
          "data": {
            "text/plain": [
              "array([[ 3. , -0.2,  6. ],\n",
              "       [ 0. , -6. , 13. ]])"
            ]
          },
          "metadata": {},
          "execution_count": 7
        }
      ]
    },
    {
      "cell_type": "markdown",
      "source": [
        "`ndarray` – это обобщенный многомерный контейнер для однородных данных, т.е. в нем могут храниться только элементы одного типа.\n",
        "\n",
        "У любого массива `ndarray` есть атрибуты:\n",
        "* `shape` – кортеж, описывающий размер по каждому измерению;\n",
        "* `dtype` – объект, описывающий тип данных в массиве;\n",
        "* `ndim` – размерность массива данных;\n",
        "* `size` - количество данных в массиве, то есть число элементов."
      ],
      "metadata": {
        "id": "mIAo2Gk7UJzg"
      }
    },
    {
      "cell_type": "code",
      "source": [
        "data.shape"
      ],
      "metadata": {
        "colab": {
          "base_uri": "https://localhost:8080/"
        },
        "id": "jY-mo3cNT8lH",
        "outputId": "7093611c-c679-4f6b-cf4c-054bae83b6d1"
      },
      "execution_count": null,
      "outputs": [
        {
          "output_type": "execute_result",
          "data": {
            "text/plain": [
              "(2, 3)"
            ]
          },
          "metadata": {},
          "execution_count": 10
        }
      ]
    },
    {
      "cell_type": "code",
      "source": [
        "data.dtype"
      ],
      "metadata": {
        "colab": {
          "base_uri": "https://localhost:8080/"
        },
        "id": "-VFa1lzRUSwC",
        "outputId": "319bbd2e-c06e-4b36-9d0c-177c6960aaff"
      },
      "execution_count": null,
      "outputs": [
        {
          "output_type": "execute_result",
          "data": {
            "text/plain": [
              "dtype('float64')"
            ]
          },
          "metadata": {},
          "execution_count": 9
        }
      ]
    },
    {
      "cell_type": "code",
      "source": [
        "data.ndim"
      ],
      "metadata": {
        "colab": {
          "base_uri": "https://localhost:8080/"
        },
        "id": "jtzYECWQMwPH",
        "outputId": "a93b2e2b-60e3-4ce8-df5e-109215671df2"
      },
      "execution_count": null,
      "outputs": [
        {
          "output_type": "execute_result",
          "data": {
            "text/plain": [
              "2"
            ]
          },
          "metadata": {},
          "execution_count": 239
        }
      ]
    },
    {
      "cell_type": "code",
      "source": [
        "data.size"
      ],
      "metadata": {
        "colab": {
          "base_uri": "https://localhost:8080/"
        },
        "id": "XTiqLOPGM0Vy",
        "outputId": "5ed9c62b-1167-4a03-91da-38cd253a2330"
      },
      "execution_count": null,
      "outputs": [
        {
          "output_type": "execute_result",
          "data": {
            "text/plain": [
              "6"
            ]
          },
          "metadata": {},
          "execution_count": 240
        }
      ]
    },
    {
      "cell_type": "markdown",
      "source": [
        "## Создание ndarray"
      ],
      "metadata": {
        "id": "m6yITMcIUi4C"
      }
    },
    {
      "cell_type": "markdown",
      "source": [
        "Проще всего создать массив с помощью функции `array`. Она принимает любой\n",
        "объект, похожий на последовательность (в том числе другой массив), и порождает новый массив `NumPy`, содержащий переданные данные. Например, такое\n",
        "преобразование можно проделать со списком:"
      ],
      "metadata": {
        "id": "BduqdTgIUuMB"
      }
    },
    {
      "cell_type": "code",
      "source": [
        "data = [6, 7.5, 8, 0, 1]\n",
        "arr = np.array(data)\n",
        "arr"
      ],
      "metadata": {
        "colab": {
          "base_uri": "https://localhost:8080/"
        },
        "id": "IL4rvkdvUppE",
        "outputId": "d6f83be1-1857-41c5-a70a-243ae54e103b"
      },
      "execution_count": null,
      "outputs": [
        {
          "output_type": "execute_result",
          "data": {
            "text/plain": [
              "array([6. , 7.5, 8. , 0. , 1. ])"
            ]
          },
          "metadata": {},
          "execution_count": 11
        }
      ]
    },
    {
      "cell_type": "markdown",
      "source": [
        "Вложенные последовательности, например список списков одинаковой длины, можно преобразовать в многомерный массив:"
      ],
      "metadata": {
        "id": "BhoB7YVYU-Za"
      }
    },
    {
      "cell_type": "code",
      "source": [
        "data = [[1, 2, 3, 4], [5, 6, 7, 8]]\n",
        "arr = np.array(data)\n",
        "arr"
      ],
      "metadata": {
        "colab": {
          "base_uri": "https://localhost:8080/"
        },
        "id": "XgKfoHHHU47A",
        "outputId": "349645ea-f002-41ba-d134-3ca222eef635"
      },
      "execution_count": null,
      "outputs": [
        {
          "output_type": "execute_result",
          "data": {
            "text/plain": [
              "array([[1, 2, 3, 4],\n",
              "       [5, 6, 7, 8]])"
            ]
          },
          "metadata": {},
          "execution_count": 12
        }
      ]
    },
    {
      "cell_type": "code",
      "source": [
        "arr.shape"
      ],
      "metadata": {
        "colab": {
          "base_uri": "https://localhost:8080/"
        },
        "id": "bBa5xeaOVDik",
        "outputId": "c95cb679-224f-45c6-e9ed-b7c40fbff0f7"
      },
      "execution_count": null,
      "outputs": [
        {
          "output_type": "execute_result",
          "data": {
            "text/plain": [
              "(2, 4)"
            ]
          },
          "metadata": {},
          "execution_count": 13
        }
      ]
    },
    {
      "cell_type": "markdown",
      "source": [
        "Если явно не задано иное, то функция `np.array` пытается самостоятельно определить подходящий тип данных для создаваемого массива."
      ],
      "metadata": {
        "id": "CldekIz2NB-5"
      }
    },
    {
      "cell_type": "code",
      "source": [
        "np.array([1, 1.9, True])"
      ],
      "metadata": {
        "colab": {
          "base_uri": "https://localhost:8080/"
        },
        "id": "_5wi6jmnNEwO",
        "outputId": "4f7d1f33-5072-4b7b-8170-7f59ff95c8a8"
      },
      "execution_count": null,
      "outputs": [
        {
          "output_type": "execute_result",
          "data": {
            "text/plain": [
              "array([1. , 1.9, 1. ])"
            ]
          },
          "metadata": {},
          "execution_count": 241
        }
      ]
    },
    {
      "cell_type": "markdown",
      "source": [
        "Помимо `numpy.array`, существует еще ряд функций для создания массивов.\n",
        "Например, `numpy.zeros` и `numpy.ones` создают массивы заданной длины или формы, состоящие из нулей и единиц соответственно, а `numpy.empty` создает массив,\n",
        "не инициализируя его элементы. Для создания многомерных массивов нужно\n",
        "передать кортеж, описывающий форму:"
      ],
      "metadata": {
        "id": "m9gqnjJ0VeRm"
      }
    },
    {
      "cell_type": "code",
      "source": [
        "np.zeros(10)"
      ],
      "metadata": {
        "colab": {
          "base_uri": "https://localhost:8080/"
        },
        "id": "bsIhVF5TVWRE",
        "outputId": "02780ec1-cd1b-468a-afa6-a50372436122"
      },
      "execution_count": null,
      "outputs": [
        {
          "output_type": "execute_result",
          "data": {
            "text/plain": [
              "array([0., 0., 0., 0., 0., 0., 0., 0., 0., 0.])"
            ]
          },
          "metadata": {},
          "execution_count": 14
        }
      ]
    },
    {
      "cell_type": "code",
      "source": [
        "np.ones((3, 6))"
      ],
      "metadata": {
        "colab": {
          "base_uri": "https://localhost:8080/"
        },
        "id": "BaeSIfSjVveF",
        "outputId": "50ea1529-0868-4b7b-ebcd-0ba7d66d94af"
      },
      "execution_count": null,
      "outputs": [
        {
          "output_type": "execute_result",
          "data": {
            "text/plain": [
              "array([[1., 1., 1., 1., 1., 1.],\n",
              "       [1., 1., 1., 1., 1., 1.],\n",
              "       [1., 1., 1., 1., 1., 1.]])"
            ]
          },
          "metadata": {},
          "execution_count": 17
        }
      ]
    },
    {
      "cell_type": "code",
      "source": [
        "np.empty((2, 3, 2))"
      ],
      "metadata": {
        "colab": {
          "base_uri": "https://localhost:8080/"
        },
        "id": "MizVoWYkVv1n",
        "outputId": "2b5e0693-1150-4451-c4f1-82c68af597c6"
      },
      "execution_count": null,
      "outputs": [
        {
          "output_type": "execute_result",
          "data": {
            "text/plain": [
              "array([[[4.65847997e-310, 0.00000000e+000],\n",
              "        [0.00000000e+000, 0.00000000e+000],\n",
              "        [0.00000000e+000, 0.00000000e+000]],\n",
              "\n",
              "       [[0.00000000e+000, 0.00000000e+000],\n",
              "        [0.00000000e+000, 0.00000000e+000],\n",
              "        [0.00000000e+000, 0.00000000e+000]]])"
            ]
          },
          "metadata": {},
          "execution_count": 16
        }
      ]
    },
    {
      "cell_type": "markdown",
      "source": [
        "Предполагать, что `numpy.empty` возвращает массив из одних нулей, небезопасно. Часто возвращается массив, содержащий неинициализированный мусор, – как в примере выше. Эту функцию следует использовать, только если вы собираетесь заполнить новый массив данными."
      ],
      "metadata": {
        "id": "A8gosZm9V6FO"
      }
    },
    {
      "cell_type": "markdown",
      "source": [
        "Функция `numpy.arange` – вариант встроенной в Python функции `range`, только\n",
        "возвращаемым значением является массив:"
      ],
      "metadata": {
        "id": "RWyiKxBzWCQz"
      }
    },
    {
      "cell_type": "code",
      "source": [
        "np.arange(15)"
      ],
      "metadata": {
        "colab": {
          "base_uri": "https://localhost:8080/"
        },
        "id": "G1mJX5feV9-C",
        "outputId": "d7ae161a-cf4c-47d5-8e0b-56ae7fd1e19f"
      },
      "execution_count": null,
      "outputs": [
        {
          "output_type": "execute_result",
          "data": {
            "text/plain": [
              "array([ 0,  1,  2,  3,  4,  5,  6,  7,  8,  9, 10, 11, 12, 13, 14])"
            ]
          },
          "metadata": {},
          "execution_count": 18
        }
      ]
    },
    {
      "cell_type": "code",
      "source": [
        "np.arange(2, 8)"
      ],
      "metadata": {
        "colab": {
          "base_uri": "https://localhost:8080/"
        },
        "id": "eR-REw7AWZvQ",
        "outputId": "f31de8f4-bd4a-4b81-85e8-f99205d730be"
      },
      "execution_count": null,
      "outputs": [
        {
          "output_type": "execute_result",
          "data": {
            "text/plain": [
              "array([2, 3, 4, 5, 6, 7])"
            ]
          },
          "metadata": {},
          "execution_count": 228
        }
      ]
    },
    {
      "cell_type": "code",
      "source": [
        "np.arange(2, 15, 3)"
      ],
      "metadata": {
        "colab": {
          "base_uri": "https://localhost:8080/"
        },
        "id": "orxLSveXFw-Q",
        "outputId": "edd76c4c-6cd3-47f9-cdf3-e5f6d8fa0830"
      },
      "execution_count": null,
      "outputs": [
        {
          "output_type": "execute_result",
          "data": {
            "text/plain": [
              "array([ 2,  5,  8, 11, 14])"
            ]
          },
          "metadata": {},
          "execution_count": 229
        }
      ]
    },
    {
      "cell_type": "code",
      "source": [
        "np.arange(1.1, 5.4, 0.4)"
      ],
      "metadata": {
        "colab": {
          "base_uri": "https://localhost:8080/"
        },
        "id": "HekiCqv4G0-_",
        "outputId": "63a3d1b1-d939-4380-9876-3230b55a1d8b"
      },
      "execution_count": null,
      "outputs": [
        {
          "output_type": "execute_result",
          "data": {
            "text/plain": [
              "array([1.1, 1.5, 1.9, 2.3, 2.7, 3.1, 3.5, 3.9, 4.3, 4.7, 5.1])"
            ]
          },
          "metadata": {},
          "execution_count": 231
        }
      ]
    },
    {
      "cell_type": "markdown",
      "source": [
        "Похожая на `arange()` функция — `linspace()`. Она также принимает в качестве первых двух аргументов первое и последнее значения последовательности, но третьим аргументом является не интервал, а количество элементов, на которое нужно разбить последовательность."
      ],
      "metadata": {
        "id": "gMjNQyRBG5R_"
      }
    },
    {
      "cell_type": "code",
      "source": [
        "np.linspace(0, 10, 5)"
      ],
      "metadata": {
        "colab": {
          "base_uri": "https://localhost:8080/"
        },
        "id": "QtaSKOHrHHCx",
        "outputId": "41e96c8d-390b-4516-fc71-d6bc6310e27e"
      },
      "execution_count": null,
      "outputs": [
        {
          "output_type": "execute_result",
          "data": {
            "text/plain": [
              "array([ 0. ,  2.5,  5. ,  7.5, 10. ])"
            ]
          },
          "metadata": {},
          "execution_count": 232
        }
      ]
    },
    {
      "cell_type": "markdown",
      "source": [
        "## Тип данных для ndarray"
      ],
      "metadata": {
        "id": "W199Q2W8WaXZ"
      }
    },
    {
      "cell_type": "markdown",
      "source": [
        "Тип данных, или `dtype`, – это специальный объект, который содержит информацию (метаданные), необходимую `ndarray` для интерпретации содержимого блока памяти:"
      ],
      "metadata": {
        "id": "F6UEesjvWn2u"
      }
    },
    {
      "cell_type": "code",
      "source": [
        "arr1 = np.array([1, 2, 3], dtype=np.float64)\n",
        "arr1"
      ],
      "metadata": {
        "colab": {
          "base_uri": "https://localhost:8080/"
        },
        "id": "yRr60SM8WfLb",
        "outputId": "49a7e508-dd12-4693-c963-dbb0e2ba65d3"
      },
      "execution_count": null,
      "outputs": [
        {
          "output_type": "execute_result",
          "data": {
            "text/plain": [
              "array([1., 2., 3.])"
            ]
          },
          "metadata": {},
          "execution_count": 19
        }
      ]
    },
    {
      "cell_type": "code",
      "source": [
        "arr2 = np.array([1, 2, 3], dtype=np.int32)\n",
        "arr2"
      ],
      "metadata": {
        "colab": {
          "base_uri": "https://localhost:8080/"
        },
        "id": "752Jtyn6WuZt",
        "outputId": "34052b96-4ee4-4036-b1e5-2626c41ef96a"
      },
      "execution_count": null,
      "outputs": [
        {
          "output_type": "execute_result",
          "data": {
            "text/plain": [
              "array([1, 2, 3], dtype=int32)"
            ]
          },
          "metadata": {},
          "execution_count": 20
        }
      ]
    },
    {
      "cell_type": "code",
      "source": [
        "arr1.dtype"
      ],
      "metadata": {
        "colab": {
          "base_uri": "https://localhost:8080/"
        },
        "id": "wyu5aLhiWxfu",
        "outputId": "d4dfe6d6-9398-492e-e128-1a1be6efc770"
      },
      "execution_count": null,
      "outputs": [
        {
          "output_type": "execute_result",
          "data": {
            "text/plain": [
              "dtype('float64')"
            ]
          },
          "metadata": {},
          "execution_count": 21
        }
      ]
    },
    {
      "cell_type": "code",
      "source": [
        "arr2.dtype"
      ],
      "metadata": {
        "colab": {
          "base_uri": "https://localhost:8080/"
        },
        "id": "a6rRGCqcWzsZ",
        "outputId": "f4505bc7-741a-4865-cb4f-f0e84d0999bf"
      },
      "execution_count": null,
      "outputs": [
        {
          "output_type": "execute_result",
          "data": {
            "text/plain": [
              "dtype('int32')"
            ]
          },
          "metadata": {},
          "execution_count": 22
        }
      ]
    },
    {
      "cell_type": "markdown",
      "source": [
        "Типам данных `NumPy` в значительной мере обязана своей эффективностью\n",
        "и гибкостью. В большинстве случаев они точно соответствуют внутреннему машинному представлению, что позволяет без труда читать и записывать двоичные\n",
        "потоки данных на диск, а также обмениваться данными с кодом, написанным\n",
        "на языке низкого уровня типа `C` или `Fortran`. Числовые `dtype` именуются единообразно: имя типа, например `float` или `int`, затем число, указывающее разрядность одного элемента. Стандартное значение с плавающей точкой двойной точности (хранящееся во внутреннем представлении объекта `Python` типа `float`) занимает 8 байт или 64 бита. Поэтому соответствующий тип в `NumPy` называется `float64`.\n",
        "\n",
        "Можно явно преобразовать, или привести, массив одного типа к другому,\n",
        "воспользовавшись методом `astype`:"
      ],
      "metadata": {
        "id": "tx-jXi5vXDBW"
      }
    },
    {
      "cell_type": "code",
      "source": [
        "arr"
      ],
      "metadata": {
        "colab": {
          "base_uri": "https://localhost:8080/"
        },
        "id": "XE9hHSDaW1tC",
        "outputId": "755d54fc-a38f-4feb-9cac-e325f584a9f9"
      },
      "execution_count": null,
      "outputs": [
        {
          "output_type": "execute_result",
          "data": {
            "text/plain": [
              "array([[1, 2, 3, 4],\n",
              "       [5, 6, 7, 8]])"
            ]
          },
          "metadata": {},
          "execution_count": 23
        }
      ]
    },
    {
      "cell_type": "code",
      "source": [
        "arr.dtype"
      ],
      "metadata": {
        "colab": {
          "base_uri": "https://localhost:8080/"
        },
        "id": "9pqfjFCAXp4w",
        "outputId": "b5935f5b-95da-44e5-f084-e833d7d51b6f"
      },
      "execution_count": null,
      "outputs": [
        {
          "output_type": "execute_result",
          "data": {
            "text/plain": [
              "dtype('int64')"
            ]
          },
          "metadata": {},
          "execution_count": 24
        }
      ]
    },
    {
      "cell_type": "code",
      "source": [
        "float_arr = arr.astype(np.float64)\n",
        "float_arr"
      ],
      "metadata": {
        "colab": {
          "base_uri": "https://localhost:8080/"
        },
        "id": "L9-bfbZLXsLO",
        "outputId": "e62dd1a3-8c10-4e82-8e56-263612460d00"
      },
      "execution_count": null,
      "outputs": [
        {
          "output_type": "execute_result",
          "data": {
            "text/plain": [
              "array([[1., 2., 3., 4.],\n",
              "       [5., 6., 7., 8.]])"
            ]
          },
          "metadata": {},
          "execution_count": 26
        }
      ]
    },
    {
      "cell_type": "code",
      "source": [
        "float_arr.dtype"
      ],
      "metadata": {
        "colab": {
          "base_uri": "https://localhost:8080/"
        },
        "id": "8qgXGFRSXvQc",
        "outputId": "b1855c04-07c3-4166-ff06-1085b74623b6"
      },
      "execution_count": null,
      "outputs": [
        {
          "output_type": "execute_result",
          "data": {
            "text/plain": [
              "dtype('float64')"
            ]
          },
          "metadata": {},
          "execution_count": 27
        }
      ]
    },
    {
      "cell_type": "markdown",
      "source": [
        "Здесь целые были приведены к типу с плавающей точкой. Если попытаться привести числа с плавающей точкой к целому типу, то дробная часть будет отброшена:"
      ],
      "metadata": {
        "id": "FE8iAWQrX1jG"
      }
    },
    {
      "cell_type": "code",
      "source": [
        "arr = np.array([3.7, -1.2, -2.6, 0.5, 12.9, 10.1])\n",
        "arr"
      ],
      "metadata": {
        "colab": {
          "base_uri": "https://localhost:8080/"
        },
        "id": "Vl4Y0-hVXyFC",
        "outputId": "c1165719-ffb9-44e8-c507-599c9eece6a6"
      },
      "execution_count": null,
      "outputs": [
        {
          "output_type": "execute_result",
          "data": {
            "text/plain": [
              "array([ 3.7, -1.2, -2.6,  0.5, 12.9, 10.1])"
            ]
          },
          "metadata": {},
          "execution_count": 29
        }
      ]
    },
    {
      "cell_type": "code",
      "source": [
        "arr = arr.astype(np.int32)\n",
        "arr"
      ],
      "metadata": {
        "colab": {
          "base_uri": "https://localhost:8080/"
        },
        "id": "IV-dEcHVX_8N",
        "outputId": "e58a4723-b0c7-4c82-fa4b-2fa0740eddc3"
      },
      "execution_count": null,
      "outputs": [
        {
          "output_type": "execute_result",
          "data": {
            "text/plain": [
              "array([ 3, -1, -2,  0, 12, 10], dtype=int32)"
            ]
          },
          "metadata": {},
          "execution_count": 31
        }
      ]
    },
    {
      "cell_type": "markdown",
      "source": [
        "Если имеется массив строк, представляющих целые числа, то `astype` позволит\n",
        "преобразовать их в числовую форму:"
      ],
      "metadata": {
        "id": "SYKPqHZgYR31"
      }
    },
    {
      "cell_type": "code",
      "source": [
        "numeric_strings = np.array([\"1.25\", \"-9.6\", \"42\"], dtype=np.string_)\n",
        "numeric_strings.astype(float)"
      ],
      "metadata": {
        "colab": {
          "base_uri": "https://localhost:8080/"
        },
        "id": "eseVOzU9YGbb",
        "outputId": "f634db43-44fe-439f-8a53-4e0dc4973dbe"
      },
      "execution_count": null,
      "outputs": [
        {
          "output_type": "execute_result",
          "data": {
            "text/plain": [
              "array([ 1.25, -9.6 , 42.  ])"
            ]
          },
          "metadata": {},
          "execution_count": 33
        }
      ]
    },
    {
      "cell_type": "markdown",
      "source": [
        "При вызове метода `astype` всегда создается новый массив (данные копируются), даже если новый `dtype` не отличается от старого."
      ],
      "metadata": {
        "id": "9Fpddip3YsGS"
      }
    },
    {
      "cell_type": "markdown",
      "source": [
        "## Арифметические операции с массивами NumPy"
      ],
      "metadata": {
        "id": "dG6kN_5-Yzex"
      }
    },
    {
      "cell_type": "markdown",
      "source": [
        "Массивы важны, потому что позволяют выразить операции над совокупностями данных без использования циклов `for`. Обычно это называется **векторизацией**. Любая арифметическая операция над массивами одинакового размера применяется к соответственным элементам:"
      ],
      "metadata": {
        "id": "5gUGv432ZQAX"
      }
    },
    {
      "cell_type": "code",
      "source": [
        "arr = np.array([[1., 2., 3.], [4., 5., 6.]])\n",
        "arr"
      ],
      "metadata": {
        "colab": {
          "base_uri": "https://localhost:8080/"
        },
        "id": "j8tgSqFtYXCK",
        "outputId": "93b0710c-1926-4d89-9e77-18e91de58070"
      },
      "execution_count": null,
      "outputs": [
        {
          "output_type": "execute_result",
          "data": {
            "text/plain": [
              "array([[1., 2., 3.],\n",
              "       [4., 5., 6.]])"
            ]
          },
          "metadata": {},
          "execution_count": 35
        }
      ]
    },
    {
      "cell_type": "code",
      "source": [
        "arr * arr"
      ],
      "metadata": {
        "colab": {
          "base_uri": "https://localhost:8080/"
        },
        "id": "UIGfPPr9Zgr2",
        "outputId": "da8c970f-2cb8-45f2-8601-3cd158e3f60e"
      },
      "execution_count": null,
      "outputs": [
        {
          "output_type": "execute_result",
          "data": {
            "text/plain": [
              "array([[ 1.,  4.,  9.],\n",
              "       [16., 25., 36.]])"
            ]
          },
          "metadata": {},
          "execution_count": 36
        }
      ]
    },
    {
      "cell_type": "code",
      "source": [
        "arr - arr"
      ],
      "metadata": {
        "colab": {
          "base_uri": "https://localhost:8080/"
        },
        "id": "olzfEpQlZikX",
        "outputId": "b190ed10-b575-4b50-c0f9-fc5656eb745a"
      },
      "execution_count": null,
      "outputs": [
        {
          "output_type": "execute_result",
          "data": {
            "text/plain": [
              "array([[0., 0., 0.],\n",
              "       [0., 0., 0.]])"
            ]
          },
          "metadata": {},
          "execution_count": 38
        }
      ]
    },
    {
      "cell_type": "markdown",
      "source": [
        "Попробуем выполнить арифметическую операцию над массивами разных размерностей:"
      ],
      "metadata": {
        "id": "SMJe7XuQQ531"
      }
    },
    {
      "cell_type": "code",
      "source": [
        "ones = np.ones(6)\n",
        "ones"
      ],
      "metadata": {
        "colab": {
          "base_uri": "https://localhost:8080/"
        },
        "id": "VHxESkWYPlVx",
        "outputId": "5260048a-6f14-49d7-c20d-55f4181ea5a4"
      },
      "execution_count": null,
      "outputs": [
        {
          "output_type": "execute_result",
          "data": {
            "text/plain": [
              "array([1., 1., 1., 1., 1., 1.])"
            ]
          },
          "metadata": {},
          "execution_count": 267
        }
      ]
    },
    {
      "cell_type": "code",
      "source": [
        "zeros = np.zeros(8)\n",
        "zeros"
      ],
      "metadata": {
        "colab": {
          "base_uri": "https://localhost:8080/"
        },
        "id": "rZbJNjezPwov",
        "outputId": "c19d9f90-1f63-48c7-896a-de79f28b019c"
      },
      "execution_count": null,
      "outputs": [
        {
          "output_type": "execute_result",
          "data": {
            "text/plain": [
              "array([0., 0., 0., 0., 0., 0., 0., 0.])"
            ]
          },
          "metadata": {},
          "execution_count": 268
        }
      ]
    },
    {
      "cell_type": "code",
      "source": [
        "ones - zeros"
      ],
      "metadata": {
        "colab": {
          "base_uri": "https://localhost:8080/",
          "height": 175
        },
        "id": "LUsYB9YvPzGz",
        "outputId": "58fdf837-12ba-4c5a-f737-3b2ec166a367"
      },
      "execution_count": null,
      "outputs": [
        {
          "output_type": "error",
          "ename": "ValueError",
          "evalue": "ignored",
          "traceback": [
            "\u001b[0;31m---------------------------------------------------------------------------\u001b[0m",
            "\u001b[0;31mValueError\u001b[0m                                Traceback (most recent call last)",
            "\u001b[0;32m<ipython-input-261-e7063d3f0a4b>\u001b[0m in \u001b[0;36m<cell line: 1>\u001b[0;34m()\u001b[0m\n\u001b[0;32m----> 1\u001b[0;31m \u001b[0mones\u001b[0m \u001b[0;34m-\u001b[0m \u001b[0mzeros\u001b[0m\u001b[0;34m\u001b[0m\u001b[0;34m\u001b[0m\u001b[0m\n\u001b[0m",
            "\u001b[0;31mValueError\u001b[0m: operands could not be broadcast together with shapes (6,) (8,) "
          ]
        }
      ]
    },
    {
      "cell_type": "code",
      "source": [
        "ones = np.append(ones, [1, 1]) # Дополним массив до 8 элементов\n",
        "ones"
      ],
      "metadata": {
        "colab": {
          "base_uri": "https://localhost:8080/"
        },
        "id": "h4wdQvhbQCmP",
        "outputId": "633400a6-0316-47d6-a499-2759342bc475"
      },
      "execution_count": null,
      "outputs": [
        {
          "output_type": "execute_result",
          "data": {
            "text/plain": [
              "array([1., 1., 1., 1., 1., 1., 1., 1.])"
            ]
          },
          "metadata": {},
          "execution_count": 270
        }
      ]
    },
    {
      "cell_type": "code",
      "source": [
        "ones - zeros"
      ],
      "metadata": {
        "colab": {
          "base_uri": "https://localhost:8080/"
        },
        "id": "v74fFuQoQ2le",
        "outputId": "bd03f5a6-f703-43e2-fc34-219b3caeaea5"
      },
      "execution_count": null,
      "outputs": [
        {
          "output_type": "execute_result",
          "data": {
            "text/plain": [
              "array([1., 1., 1., 1., 1., 1., 1., 1.])"
            ]
          },
          "metadata": {},
          "execution_count": 271
        }
      ]
    },
    {
      "cell_type": "markdown",
      "source": [
        "Таким образом, для выполнения арифметических операций массивы должны иметь одинаковую размерность."
      ],
      "metadata": {
        "id": "sq3X__NrR0tW"
      }
    },
    {
      "cell_type": "markdown",
      "source": [
        "Арифметические операции, в которых участвует скаляр, применяются к каждому элементу массива:"
      ],
      "metadata": {
        "id": "hYsk4nVLZozl"
      }
    },
    {
      "cell_type": "code",
      "source": [
        "1 / arr"
      ],
      "metadata": {
        "colab": {
          "base_uri": "https://localhost:8080/"
        },
        "id": "Fh_rUzaQZkPM",
        "outputId": "91b0361c-6fb9-482c-8cde-0b0a5496501a"
      },
      "execution_count": null,
      "outputs": [
        {
          "output_type": "execute_result",
          "data": {
            "text/plain": [
              "array([[1.        , 0.5       , 0.33333333],\n",
              "       [0.25      , 0.2       , 0.16666667]])"
            ]
          },
          "metadata": {},
          "execution_count": 39
        }
      ]
    },
    {
      "cell_type": "code",
      "source": [
        "arr ** 2"
      ],
      "metadata": {
        "colab": {
          "base_uri": "https://localhost:8080/"
        },
        "id": "vmP7E3cwZrLF",
        "outputId": "9286c81e-0397-4563-9c62-a16fd62b5283"
      },
      "execution_count": null,
      "outputs": [
        {
          "output_type": "execute_result",
          "data": {
            "text/plain": [
              "array([[ 1.,  4.,  9.],\n",
              "       [16., 25., 36.]])"
            ]
          },
          "metadata": {},
          "execution_count": 40
        }
      ]
    },
    {
      "cell_type": "markdown",
      "source": [
        "Сравнение массивов одинакового размера дает булев массив:"
      ],
      "metadata": {
        "id": "JjjUU_1eZwud"
      }
    },
    {
      "cell_type": "code",
      "source": [
        "arr2 = np.array([[0., 4., 1.], [7., 2., 12.]])\n",
        "arr2"
      ],
      "metadata": {
        "colab": {
          "base_uri": "https://localhost:8080/"
        },
        "id": "3ZyiKxw_ZtBb",
        "outputId": "fdfdc033-3e23-4a0c-80aa-99a2dd296c1e"
      },
      "execution_count": null,
      "outputs": [
        {
          "output_type": "execute_result",
          "data": {
            "text/plain": [
              "array([[ 0.,  4.,  1.],\n",
              "       [ 7.,  2., 12.]])"
            ]
          },
          "metadata": {},
          "execution_count": 41
        }
      ]
    },
    {
      "cell_type": "code",
      "source": [
        "arr2 > arr"
      ],
      "metadata": {
        "colab": {
          "base_uri": "https://localhost:8080/"
        },
        "id": "-8hfOBsNZzd3",
        "outputId": "7d49b7a9-6438-4814-812a-592cf41e1906"
      },
      "execution_count": null,
      "outputs": [
        {
          "output_type": "execute_result",
          "data": {
            "text/plain": [
              "array([[False,  True, False],\n",
              "       [ True, False,  True]])"
            ]
          },
          "metadata": {},
          "execution_count": 42
        }
      ]
    },
    {
      "cell_type": "markdown",
      "source": [
        "## Индексирование и вырезание"
      ],
      "metadata": {
        "id": "dd0igYi6Z7hz"
      }
    },
    {
      "cell_type": "code",
      "source": [
        "arr = np.arange(10)\n",
        "arr"
      ],
      "metadata": {
        "colab": {
          "base_uri": "https://localhost:8080/"
        },
        "id": "Wul9Utf9Z06k",
        "outputId": "dd7e4d51-5c6c-4796-ed82-bc4f873aff71"
      },
      "execution_count": null,
      "outputs": [
        {
          "output_type": "execute_result",
          "data": {
            "text/plain": [
              "array([0, 1, 2, 3, 4, 5, 6, 7, 8, 9])"
            ]
          },
          "metadata": {},
          "execution_count": 44
        }
      ]
    },
    {
      "cell_type": "code",
      "source": [
        "arr[5]"
      ],
      "metadata": {
        "colab": {
          "base_uri": "https://localhost:8080/"
        },
        "id": "bzNHnOp6afqW",
        "outputId": "190676cd-3169-4988-ab5a-4e974dfb272a"
      },
      "execution_count": null,
      "outputs": [
        {
          "output_type": "execute_result",
          "data": {
            "text/plain": [
              "5"
            ]
          },
          "metadata": {},
          "execution_count": 45
        }
      ]
    },
    {
      "cell_type": "code",
      "source": [
        "arr[5:8]"
      ],
      "metadata": {
        "colab": {
          "base_uri": "https://localhost:8080/"
        },
        "id": "IUUUg6Zfah4p",
        "outputId": "877f57ee-75d4-45f3-b476-f1dc8743bd67"
      },
      "execution_count": null,
      "outputs": [
        {
          "output_type": "execute_result",
          "data": {
            "text/plain": [
              "array([5, 6, 7])"
            ]
          },
          "metadata": {},
          "execution_count": 46
        }
      ]
    },
    {
      "cell_type": "code",
      "source": [
        "arr[5:8] = 12\n",
        "arr"
      ],
      "metadata": {
        "colab": {
          "base_uri": "https://localhost:8080/"
        },
        "id": "86_rXEJxajt-",
        "outputId": "e090f0de-3edc-4785-dc35-50ae29bb74a1"
      },
      "execution_count": null,
      "outputs": [
        {
          "output_type": "execute_result",
          "data": {
            "text/plain": [
              "array([ 0,  1,  2,  3,  4, 12, 12, 12,  8,  9])"
            ]
          },
          "metadata": {},
          "execution_count": 66
        }
      ]
    },
    {
      "cell_type": "markdown",
      "source": [
        "Как видите, если присвоить скалярное значение срезу, как в `arr[5:8] = 12`, то\n",
        "оно распространяется (или укладывается) на весь срез.\n",
        "\n",
        "Важнейшее отличие от встроенных в `Python` списков состоит в том, что срез массива является представлением исходного массива. Это означает, что данные на самом деле не копируются, а любые изменения, внесенные в представление, попадают и в исходный массив.\n",
        "\n",
        "Чтобы получить копию, а не представление среза массива, нужно выполнить операцию копирования явно с помощью метода `copy()`."
      ],
      "metadata": {
        "id": "vyb5j9Peaq0f"
      }
    },
    {
      "cell_type": "code",
      "source": [
        "arr_slice = arr[5:8].copy()\n",
        "arr_slice[:] = [5, 6, 7]\n",
        "arr"
      ],
      "metadata": {
        "colab": {
          "base_uri": "https://localhost:8080/"
        },
        "id": "BrPUwCE7audA",
        "outputId": "eb402b29-fadc-487b-e9f4-0759006d64fa"
      },
      "execution_count": null,
      "outputs": [
        {
          "output_type": "execute_result",
          "data": {
            "text/plain": [
              "array([ 0,  1,  2,  3,  4, 12, 12, 12,  8,  9])"
            ]
          },
          "metadata": {},
          "execution_count": 67
        }
      ]
    },
    {
      "cell_type": "markdown",
      "source": [
        "В случае двумерного массива элемент с заданным индексом является не скаляром, а одномерным массивом:"
      ],
      "metadata": {
        "id": "nrET5yFccnLr"
      }
    },
    {
      "cell_type": "code",
      "source": [
        "arr2d = np.array([[1, 2, 3], [4, 5, 6], [7, 8, 9]])\n",
        "arr2d"
      ],
      "metadata": {
        "colab": {
          "base_uri": "https://localhost:8080/"
        },
        "id": "N_Vi6bnMbXDz",
        "outputId": "74f21d9e-5f35-455b-9ccc-443f885f7460"
      },
      "execution_count": null,
      "outputs": [
        {
          "output_type": "execute_result",
          "data": {
            "text/plain": [
              "array([[1, 2, 3],\n",
              "       [4, 5, 6],\n",
              "       [7, 8, 9]])"
            ]
          },
          "metadata": {},
          "execution_count": 272
        }
      ]
    },
    {
      "cell_type": "code",
      "source": [
        "arr2d[2]"
      ],
      "metadata": {
        "colab": {
          "base_uri": "https://localhost:8080/"
        },
        "id": "hXkyIiQyqIjJ",
        "outputId": "2ac58dd3-5cb6-404f-8071-6c72f4cbe730"
      },
      "execution_count": null,
      "outputs": [
        {
          "output_type": "execute_result",
          "data": {
            "text/plain": [
              "array([7, 8, 9])"
            ]
          },
          "metadata": {},
          "execution_count": 273
        }
      ]
    },
    {
      "cell_type": "markdown",
      "source": [
        "К отдельным элементам можно обращаться рекурсивно. Но это слишком громоздко, поэтому для выбора одного элемента можно указать список индексов через запятую. Таким образом, следующие две конструкции эквивалентны:"
      ],
      "metadata": {
        "id": "usrvuv1DcwKa"
      }
    },
    {
      "cell_type": "code",
      "source": [
        "arr2d[0][2]"
      ],
      "metadata": {
        "colab": {
          "base_uri": "https://localhost:8080/"
        },
        "id": "Cmdb2_WPcs8M",
        "outputId": "a4667564-3b1d-42ee-b767-9657f8cbe42b"
      },
      "execution_count": null,
      "outputs": [
        {
          "output_type": "execute_result",
          "data": {
            "text/plain": [
              "3"
            ]
          },
          "metadata": {},
          "execution_count": 69
        }
      ]
    },
    {
      "cell_type": "code",
      "source": [
        "arr2d[0, 2]"
      ],
      "metadata": {
        "colab": {
          "base_uri": "https://localhost:8080/"
        },
        "id": "bS1GjghMczg0",
        "outputId": "9f30adcb-772e-4fc1-c130-a7627e95408a"
      },
      "execution_count": null,
      "outputs": [
        {
          "output_type": "execute_result",
          "data": {
            "text/plain": [
              "3"
            ]
          },
          "metadata": {},
          "execution_count": 70
        }
      ]
    },
    {
      "cell_type": "markdown",
      "source": [
        "![image.png](data:image/png;base64,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)"
      ],
      "metadata": {
        "id": "g7aDlpT2c_Tf"
      }
    },
    {
      "cell_type": "markdown",
      "source": [
        "Если при работе с многомерным массивом опустить несколько последних индексов, то будет возвращен объект `ndarray` меньшей размерности, содержащий данные по указанным при индексировании осям. Так, пусть имеется массив `arr3d` размерности `2x2x3`:"
      ],
      "metadata": {
        "id": "AccOWSDOdEZm"
      }
    },
    {
      "cell_type": "code",
      "source": [
        "arr3d = np.array([[[1, 2, 3], [4, 5, 6]], [[7, 8, 9], [10, 11, 12]]])\n",
        "arr3d"
      ],
      "metadata": {
        "colab": {
          "base_uri": "https://localhost:8080/"
        },
        "id": "VjPLIn9gc06L",
        "outputId": "081772ec-9167-4fa2-ee00-409e7cb14828"
      },
      "execution_count": null,
      "outputs": [
        {
          "output_type": "execute_result",
          "data": {
            "text/plain": [
              "array([[[ 1,  2,  3],\n",
              "        [ 4,  5,  6]],\n",
              "\n",
              "       [[ 7,  8,  9],\n",
              "        [10, 11, 12]]])"
            ]
          },
          "metadata": {},
          "execution_count": 71
        }
      ]
    },
    {
      "cell_type": "markdown",
      "source": [
        "Тогда `arr3d[0]` – массив размерности `2x3`:"
      ],
      "metadata": {
        "id": "Id6c3u8WdVvo"
      }
    },
    {
      "cell_type": "code",
      "source": [
        "arr3d[0]"
      ],
      "metadata": {
        "colab": {
          "base_uri": "https://localhost:8080/"
        },
        "id": "86CEWA-udYf_",
        "outputId": "edba7506-aa25-4422-f164-e55871191c8a"
      },
      "execution_count": null,
      "outputs": [
        {
          "output_type": "execute_result",
          "data": {
            "text/plain": [
              "array([[1, 2, 3],\n",
              "       [4, 5, 6]])"
            ]
          },
          "metadata": {},
          "execution_count": 72
        }
      ]
    },
    {
      "cell_type": "markdown",
      "source": [
        "Выражению `arr3d[0]` можно присвоить как скалярное значение, так и массив:"
      ],
      "metadata": {
        "id": "HDZP50O4djB5"
      }
    },
    {
      "cell_type": "code",
      "source": [
        "old_values = arr3d[0].copy()\n",
        "arr3d[0] = 42\n",
        "arr3d"
      ],
      "metadata": {
        "colab": {
          "base_uri": "https://localhost:8080/"
        },
        "id": "z8oQK0GwdZhe",
        "outputId": "4e3a780c-9364-4a0c-c9de-4361806348d2"
      },
      "execution_count": null,
      "outputs": [
        {
          "output_type": "execute_result",
          "data": {
            "text/plain": [
              "array([[[42, 42, 42],\n",
              "        [42, 42, 42]],\n",
              "\n",
              "       [[ 7,  8,  9],\n",
              "        [10, 11, 12]]])"
            ]
          },
          "metadata": {},
          "execution_count": 73
        }
      ]
    },
    {
      "cell_type": "code",
      "source": [
        "arr3d[0] = old_values\n",
        "arr3d"
      ],
      "metadata": {
        "colab": {
          "base_uri": "https://localhost:8080/"
        },
        "id": "2IGm1eJodrqK",
        "outputId": "74bdc10a-30ec-41ca-9838-9aa4b913c22a"
      },
      "execution_count": null,
      "outputs": [
        {
          "output_type": "execute_result",
          "data": {
            "text/plain": [
              "array([[[ 1,  2,  3],\n",
              "        [ 4,  5,  6]],\n",
              "\n",
              "       [[ 7,  8,  9],\n",
              "        [10, 11, 12]]])"
            ]
          },
          "metadata": {},
          "execution_count": 74
        }
      ]
    },
    {
      "cell_type": "markdown",
      "source": [
        "Аналогично `arr3d[1, 0]` дает все значения, список индексов которых начинается с `(1, 0)`, т.е. одномерный массив:"
      ],
      "metadata": {
        "id": "aEf91JVud8CG"
      }
    },
    {
      "cell_type": "code",
      "source": [
        "arr3d[1, 0]"
      ],
      "metadata": {
        "colab": {
          "base_uri": "https://localhost:8080/"
        },
        "id": "Jm2iwCSedvZt",
        "outputId": "61f283fb-5655-4a8c-8247-b6b107de9bc4"
      },
      "execution_count": null,
      "outputs": [
        {
          "output_type": "execute_result",
          "data": {
            "text/plain": [
              "array([7, 8, 9])"
            ]
          },
          "metadata": {},
          "execution_count": 75
        }
      ]
    },
    {
      "cell_type": "markdown",
      "source": [
        "Результат такой же, как если бы мы индексировали в два приема:"
      ],
      "metadata": {
        "id": "upyh1QTaeMUb"
      }
    },
    {
      "cell_type": "code",
      "source": [
        "arr3d[1]"
      ],
      "metadata": {
        "colab": {
          "base_uri": "https://localhost:8080/"
        },
        "id": "dZpgOJrieAa-",
        "outputId": "97a8d542-3ec2-4d90-812c-6899487e5978"
      },
      "execution_count": null,
      "outputs": [
        {
          "output_type": "execute_result",
          "data": {
            "text/plain": [
              "array([[ 7,  8,  9],\n",
              "       [10, 11, 12]])"
            ]
          },
          "metadata": {},
          "execution_count": 76
        }
      ]
    },
    {
      "cell_type": "code",
      "source": [
        "arr3d[1][0]"
      ],
      "metadata": {
        "colab": {
          "base_uri": "https://localhost:8080/"
        },
        "id": "pakA4jR5eFWG",
        "outputId": "d577f1b5-5282-424a-b5a6-4419d8c81272"
      },
      "execution_count": null,
      "outputs": [
        {
          "output_type": "execute_result",
          "data": {
            "text/plain": [
              "array([7, 8, 9])"
            ]
          },
          "metadata": {},
          "execution_count": 77
        }
      ]
    },
    {
      "cell_type": "markdown",
      "source": [
        "## Индексирование срезами"
      ],
      "metadata": {
        "id": "RNtUIpYNekof"
      }
    },
    {
      "cell_type": "markdown",
      "source": [
        "Как и для одномерных объектов наподобие списков `Python`, для объектов `ndarray` можно формировать срезы:"
      ],
      "metadata": {
        "id": "bCpmVOPhetFf"
      }
    },
    {
      "cell_type": "code",
      "source": [
        "arr"
      ],
      "metadata": {
        "colab": {
          "base_uri": "https://localhost:8080/"
        },
        "id": "PkHeBTQSeOPN",
        "outputId": "6e697901-9178-483b-e2c6-e0e596c79aca"
      },
      "execution_count": null,
      "outputs": [
        {
          "output_type": "execute_result",
          "data": {
            "text/plain": [
              "array([ 0,  1,  2,  3,  4, 12, 12, 12,  8,  9])"
            ]
          },
          "metadata": {},
          "execution_count": 78
        }
      ]
    },
    {
      "cell_type": "code",
      "source": [
        "arr[1:6]"
      ],
      "metadata": {
        "colab": {
          "base_uri": "https://localhost:8080/"
        },
        "id": "TSVlTxidgC6K",
        "outputId": "ea4d696b-d0aa-484f-aedf-684db8342406"
      },
      "execution_count": null,
      "outputs": [
        {
          "output_type": "execute_result",
          "data": {
            "text/plain": [
              "array([ 1,  2,  3,  4, 12])"
            ]
          },
          "metadata": {},
          "execution_count": 79
        }
      ]
    },
    {
      "cell_type": "markdown",
      "source": [
        "Рассмотрим приведенный выше двумерный массив `arr2d`. Применение к нему вырезания дает несколько иной результат:"
      ],
      "metadata": {
        "id": "48Nw6OqTgLSP"
      }
    },
    {
      "cell_type": "code",
      "source": [
        "arr2d"
      ],
      "metadata": {
        "colab": {
          "base_uri": "https://localhost:8080/"
        },
        "id": "ww5bXJYEgG6_",
        "outputId": "3e8e42c4-0a40-4aa7-9fd8-8a6b76987a1b"
      },
      "execution_count": null,
      "outputs": [
        {
          "output_type": "execute_result",
          "data": {
            "text/plain": [
              "array([[1, 2, 3],\n",
              "       [4, 5, 6],\n",
              "       [7, 8, 9]])"
            ]
          },
          "metadata": {},
          "execution_count": 80
        }
      ]
    },
    {
      "cell_type": "code",
      "source": [
        "arr2d[:2]"
      ],
      "metadata": {
        "colab": {
          "base_uri": "https://localhost:8080/"
        },
        "id": "yoH1PtAngPfi",
        "outputId": "bdf03fb7-d5e8-4f4e-87c3-e58364ee91f5"
      },
      "execution_count": null,
      "outputs": [
        {
          "output_type": "execute_result",
          "data": {
            "text/plain": [
              "array([[1, 2, 3],\n",
              "       [4, 5, 6]])"
            ]
          },
          "metadata": {},
          "execution_count": 81
        }
      ]
    },
    {
      "cell_type": "markdown",
      "source": [
        "Как видите, вырезание производится вдоль оси 0, первой оси. Поэтому срез\n",
        "содержит диапазон элементов вдоль этой оси. Выражение `arr2d[:2]` можно читать так: «выбрать первые две строки `arr2d`».\n",
        "\n",
        "Можно указать несколько срезов – как несколько индексов:"
      ],
      "metadata": {
        "id": "7uoRekAogZBj"
      }
    },
    {
      "cell_type": "code",
      "source": [
        "arr2d[:2, 1:]"
      ],
      "metadata": {
        "colab": {
          "base_uri": "https://localhost:8080/"
        },
        "id": "ClxBBcwfgQMg",
        "outputId": "31a770f3-7f7c-4c29-e0fd-6833dadf7a28"
      },
      "execution_count": null,
      "outputs": [
        {
          "output_type": "execute_result",
          "data": {
            "text/plain": [
              "array([[2, 3],\n",
              "       [5, 6]])"
            ]
          },
          "metadata": {},
          "execution_count": 82
        }
      ]
    },
    {
      "cell_type": "markdown",
      "source": [
        "При таком вырезании мы всегда получаем представления массивов с таким же числом измерений, как у исходного. Сочетая срезы и целочисленные индексы, можно получить массивы меньшей размерности.\n",
        "\n",
        "Например, выберем вторую строку, а в ней только первые два столбца:"
      ],
      "metadata": {
        "id": "Lboz_otVguFB"
      }
    },
    {
      "cell_type": "code",
      "source": [
        "arr2d[1, :2]"
      ],
      "metadata": {
        "colab": {
          "base_uri": "https://localhost:8080/"
        },
        "id": "BESVUTCVgzYS",
        "outputId": "67f16a24-38f6-4f18-8587-b5045649812a"
      },
      "execution_count": null,
      "outputs": [
        {
          "output_type": "execute_result",
          "data": {
            "text/plain": [
              "array([4, 5])"
            ]
          },
          "metadata": {},
          "execution_count": 83
        }
      ]
    },
    {
      "cell_type": "markdown",
      "source": [
        "Аналогично выберем третий столбец, а в нем только первые две строки:"
      ],
      "metadata": {
        "id": "MbPEaIY0hBqf"
      }
    },
    {
      "cell_type": "code",
      "source": [
        "arr2d[:2, 2]"
      ],
      "metadata": {
        "colab": {
          "base_uri": "https://localhost:8080/"
        },
        "id": "MQWcRcF-hEdz",
        "outputId": "26f946de-37da-4573-fb37-4aa2c7082897"
      },
      "execution_count": null,
      "outputs": [
        {
          "output_type": "execute_result",
          "data": {
            "text/plain": [
              "array([3, 6])"
            ]
          },
          "metadata": {},
          "execution_count": 84
        }
      ]
    },
    {
      "cell_type": "markdown",
      "source": [
        "Разумеется, присваивание выражению-срезу означает присваивание всем элементам этого среза:"
      ],
      "metadata": {
        "id": "eE6azVkGhT1I"
      }
    },
    {
      "cell_type": "code",
      "source": [
        "arr2d[:2, 1:] = 0\n",
        "arr2d"
      ],
      "metadata": {
        "colab": {
          "base_uri": "https://localhost:8080/"
        },
        "id": "ixFGQTt4hGIG",
        "outputId": "016ad880-b8c3-4b5f-dbc4-298026afdebf"
      },
      "execution_count": null,
      "outputs": [
        {
          "output_type": "execute_result",
          "data": {
            "text/plain": [
              "array([[1, 0, 0],\n",
              "       [4, 0, 0],\n",
              "       [7, 8, 9]])"
            ]
          },
          "metadata": {},
          "execution_count": 85
        }
      ]
    },
    {
      "cell_type": "markdown",
      "source": [
        "![image.png](data:image/png;base64,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)"
      ],
      "metadata": {
        "id": "SlX-tYuJheBa"
      }
    },
    {
      "cell_type": "markdown",
      "source": [
        "## Булево индексирование"
      ],
      "metadata": {
        "id": "tx8eBOBJhjs0"
      }
    },
    {
      "cell_type": "markdown",
      "source": [
        "Пусть имеется некоторый массив с данными и массив имен, содержащий дубликаты:"
      ],
      "metadata": {
        "id": "X_h8kb_yhnFO"
      }
    },
    {
      "cell_type": "code",
      "source": [
        "names = np.array([\"Bob\", \"Joe\", \"Will\", \"Bob\", \"Will\", \"Joe\", \"Joe\"])\n",
        "data = np.array([[4, 7], [0, 2], [-5, 6], [0, 0], [1, 2], [-12, -4], [3, 4]])"
      ],
      "metadata": {
        "id": "aCZn6o4ghXch"
      },
      "execution_count": null,
      "outputs": []
    },
    {
      "cell_type": "code",
      "source": [
        "names"
      ],
      "metadata": {
        "colab": {
          "base_uri": "https://localhost:8080/"
        },
        "id": "y9fbqE7Jht6J",
        "outputId": "14d5a36e-231f-4782-c72e-c5588b73b291"
      },
      "execution_count": null,
      "outputs": [
        {
          "output_type": "execute_result",
          "data": {
            "text/plain": [
              "array(['Bob', 'Joe', 'Will', 'Bob', 'Will', 'Joe', 'Joe'], dtype='<U4')"
            ]
          },
          "metadata": {},
          "execution_count": 88
        }
      ]
    },
    {
      "cell_type": "code",
      "source": [
        "data"
      ],
      "metadata": {
        "colab": {
          "base_uri": "https://localhost:8080/"
        },
        "id": "FsxMU0fQhyB0",
        "outputId": "09b80ba7-a6b1-4d6e-d132-90573087b2d8"
      },
      "execution_count": null,
      "outputs": [
        {
          "output_type": "execute_result",
          "data": {
            "text/plain": [
              "array([[  4,   7],\n",
              "       [  0,   2],\n",
              "       [ -5,   6],\n",
              "       [  0,   0],\n",
              "       [  1,   2],\n",
              "       [-12,  -4],\n",
              "       [  3,   4]])"
            ]
          },
          "metadata": {},
          "execution_count": 89
        }
      ]
    },
    {
      "cell_type": "markdown",
      "source": [
        "Допустим, что каждое имя соответствует строке в массиве `data` и мы хотим выбрать все строки, которым соответствует имя `'Bob'`. Операции сравнения массивов (например, `==`), как и арифметические, также векторизованы. Поэтому сравнение `names` со строкой `'Bob'` дает массив булевых величин:"
      ],
      "metadata": {
        "id": "JJAUNpAjh3Ht"
      }
    },
    {
      "cell_type": "code",
      "source": [
        "names == \"Bob\""
      ],
      "metadata": {
        "colab": {
          "base_uri": "https://localhost:8080/"
        },
        "id": "sOttit7Why-o",
        "outputId": "1c2d8f84-057a-4503-a384-a4e1e27dfe55"
      },
      "execution_count": null,
      "outputs": [
        {
          "output_type": "execute_result",
          "data": {
            "text/plain": [
              "array([ True, False, False,  True, False, False, False])"
            ]
          },
          "metadata": {},
          "execution_count": 90
        }
      ]
    },
    {
      "cell_type": "markdown",
      "source": [
        "Этот булев массив можно использовать для индексирования другого массива:"
      ],
      "metadata": {
        "id": "omB3ZQmeiEDB"
      }
    },
    {
      "cell_type": "code",
      "source": [
        "data[names == \"Bob\"]"
      ],
      "metadata": {
        "colab": {
          "base_uri": "https://localhost:8080/"
        },
        "id": "DpnRMjjeiCf1",
        "outputId": "0ac2275e-1442-4efb-e10f-6c779ebea705"
      },
      "execution_count": null,
      "outputs": [
        {
          "output_type": "execute_result",
          "data": {
            "text/plain": [
              "array([[4, 7],\n",
              "       [0, 0]])"
            ]
          },
          "metadata": {},
          "execution_count": 91
        }
      ]
    },
    {
      "cell_type": "markdown",
      "source": [
        "Длина булева массива должна совпадать с длиной индексируемой им оси. Можно даже сочетать булевы массивы со срезами и целыми числами (или последовательностями целых чисел).\n",
        "\n",
        "Выберем строки, в которых `names == 'Bob'`, и одновременно зададим индекс столбцов:"
      ],
      "metadata": {
        "id": "WgC4bo7qiZn1"
      }
    },
    {
      "cell_type": "code",
      "source": [
        "data[names == \"Bob\", 1:]"
      ],
      "metadata": {
        "colab": {
          "base_uri": "https://localhost:8080/"
        },
        "id": "HbTAp2vYiF6E",
        "outputId": "496adf2d-f678-4f4d-b650-2e441a970845"
      },
      "execution_count": null,
      "outputs": [
        {
          "output_type": "execute_result",
          "data": {
            "text/plain": [
              "array([[7],\n",
              "       [0]])"
            ]
          },
          "metadata": {},
          "execution_count": 92
        }
      ]
    },
    {
      "cell_type": "code",
      "source": [
        "data[names == \"Bob\", 1]"
      ],
      "metadata": {
        "colab": {
          "base_uri": "https://localhost:8080/"
        },
        "id": "PlSYngoUipLZ",
        "outputId": "dc369595-ae85-4b3a-cbbb-293ecf67a389"
      },
      "execution_count": null,
      "outputs": [
        {
          "output_type": "execute_result",
          "data": {
            "text/plain": [
              "array([7, 0])"
            ]
          },
          "metadata": {},
          "execution_count": 93
        }
      ]
    },
    {
      "cell_type": "markdown",
      "source": [
        "Чтобы выбрать все, кроме `'Bob'`, можно либо воспользоваться оператором сравнения `!=`, либо применить отрицание – условие, обозначаемое знаком `~`:"
      ],
      "metadata": {
        "id": "lpdjDv4CitTL"
      }
    },
    {
      "cell_type": "code",
      "source": [
        "names != \"Bob\""
      ],
      "metadata": {
        "colab": {
          "base_uri": "https://localhost:8080/"
        },
        "id": "NYeMhYqSipa1",
        "outputId": "2db4d56d-f598-444c-e09f-19f3b1a49b7b"
      },
      "execution_count": null,
      "outputs": [
        {
          "output_type": "execute_result",
          "data": {
            "text/plain": [
              "array([False,  True,  True, False,  True,  True,  True])"
            ]
          },
          "metadata": {},
          "execution_count": 94
        }
      ]
    },
    {
      "cell_type": "code",
      "source": [
        "~(names == \"Bob\")"
      ],
      "metadata": {
        "colab": {
          "base_uri": "https://localhost:8080/"
        },
        "id": "atRAUVkHiyfc",
        "outputId": "06a7a04d-9e23-4a8a-c558-28e77d72bff6"
      },
      "execution_count": null,
      "outputs": [
        {
          "output_type": "execute_result",
          "data": {
            "text/plain": [
              "array([False,  True,  True, False,  True,  True,  True])"
            ]
          },
          "metadata": {},
          "execution_count": 95
        }
      ]
    },
    {
      "cell_type": "code",
      "source": [
        "data[~(names == \"Bob\")]"
      ],
      "metadata": {
        "colab": {
          "base_uri": "https://localhost:8080/"
        },
        "id": "7LZ18eAgi1ev",
        "outputId": "adf42695-ba67-4d9f-a2ea-df5ac2ee413b"
      },
      "execution_count": null,
      "outputs": [
        {
          "output_type": "execute_result",
          "data": {
            "text/plain": [
              "array([[  0,   2],\n",
              "       [ -5,   6],\n",
              "       [  1,   2],\n",
              "       [-12,  -4],\n",
              "       [  3,   4]])"
            ]
          },
          "metadata": {},
          "execution_count": 96
        }
      ]
    },
    {
      "cell_type": "markdown",
      "source": [
        "Чтобы сформировать составное булево условие, включающее два из трех имен, воспользуемся булевыми операторами `&` (И) и `|` (ИЛИ):"
      ],
      "metadata": {
        "id": "yI7ilQ0_jCm-"
      }
    },
    {
      "cell_type": "code",
      "source": [
        "mask = (names == \"Bob\") | (names == \"Will\")\n",
        "mask"
      ],
      "metadata": {
        "colab": {
          "base_uri": "https://localhost:8080/"
        },
        "id": "HYM1fkPHi3Cz",
        "outputId": "c92a849e-94b9-4af0-fb5c-bfb496663997"
      },
      "execution_count": null,
      "outputs": [
        {
          "output_type": "execute_result",
          "data": {
            "text/plain": [
              "array([ True, False,  True,  True,  True, False, False])"
            ]
          },
          "metadata": {},
          "execution_count": 98
        }
      ]
    },
    {
      "cell_type": "code",
      "source": [
        "data[mask]"
      ],
      "metadata": {
        "colab": {
          "base_uri": "https://localhost:8080/"
        },
        "id": "rAjra7a0jIQ0",
        "outputId": "bfcab89b-a002-4fd4-eca1-0e57a8932684"
      },
      "execution_count": null,
      "outputs": [
        {
          "output_type": "execute_result",
          "data": {
            "text/plain": [
              "array([[ 4,  7],\n",
              "       [-5,  6],\n",
              "       [ 0,  0],\n",
              "       [ 1,  2]])"
            ]
          },
          "metadata": {},
          "execution_count": 99
        }
      ]
    },
    {
      "cell_type": "markdown",
      "source": [
        "При выборке данных из массива путем булева индексирования **всегда** создается копия данных, даже если возвращенный массив совпадает с исходным.\n",
        "\n",
        "Ключевые слова Python `and` и `or` с булевыми массивами не работают. Поэтому вместо них следует использовать операторы `&` (и) и `|` (или)."
      ],
      "metadata": {
        "id": "ltrHWeM-jQhx"
      }
    },
    {
      "cell_type": "markdown",
      "source": [
        "Если значение устанавливается с применением булева массива, то значения\n",
        "из массива в правой части копируются в левую часть только тогда, когда значение соответствующего элемента булева массива равно `True`. Например, чтобы заменить все отрицательные значения в массиве `data` нулями, нужно всего лишь написать:"
      ],
      "metadata": {
        "id": "KvF1t7zVkCPr"
      }
    },
    {
      "cell_type": "code",
      "source": [
        "data[data < 0] = 0\n",
        "data"
      ],
      "metadata": {
        "colab": {
          "base_uri": "https://localhost:8080/"
        },
        "id": "mBdxOyhQjMSQ",
        "outputId": "131bd9b5-6c04-4815-ea35-177f77b680d2"
      },
      "execution_count": null,
      "outputs": [
        {
          "output_type": "execute_result",
          "data": {
            "text/plain": [
              "array([[4, 7],\n",
              "       [0, 2],\n",
              "       [0, 6],\n",
              "       [0, 0],\n",
              "       [1, 2],\n",
              "       [0, 0],\n",
              "       [3, 4]])"
            ]
          },
          "metadata": {},
          "execution_count": 101
        }
      ]
    },
    {
      "cell_type": "markdown",
      "source": [
        "Задать целые строки или столбцы с помощью одномерного булева массива\n",
        "тоже просто:"
      ],
      "metadata": {
        "id": "rA9NTsJAkf9T"
      }
    },
    {
      "cell_type": "code",
      "source": [
        "data[names != \"Joe\"] = 7\n",
        "data"
      ],
      "metadata": {
        "colab": {
          "base_uri": "https://localhost:8080/"
        },
        "id": "kOBjZxTwkRBp",
        "outputId": "6eb6ef4e-5358-43d4-a055-e272d92c06b7"
      },
      "execution_count": null,
      "outputs": [
        {
          "output_type": "execute_result",
          "data": {
            "text/plain": [
              "array([[7, 7],\n",
              "       [0, 2],\n",
              "       [7, 7],\n",
              "       [7, 7],\n",
              "       [7, 7],\n",
              "       [0, 0],\n",
              "       [3, 4]])"
            ]
          },
          "metadata": {},
          "execution_count": 102
        }
      ]
    },
    {
      "cell_type": "markdown",
      "source": [
        "## Прихотливое индексирование"
      ],
      "metadata": {
        "id": "KvlfTzTwkoDc"
      }
    },
    {
      "cell_type": "markdown",
      "source": [
        "Термином прихотливое индексирование (fancy indexing) в `NumPy` обозначается индексирование с помощью целочисленных массивов. Допустим, имеется массив `8x4`:"
      ],
      "metadata": {
        "id": "zRyb1GPskrW8"
      }
    },
    {
      "cell_type": "code",
      "source": [
        "arr = np.zeros((8, 4))\n",
        "for i in range(8):\n",
        "  arr[i] = i\n",
        "arr"
      ],
      "metadata": {
        "colab": {
          "base_uri": "https://localhost:8080/"
        },
        "id": "S6z-x54tkjOy",
        "outputId": "abd1f8ab-cbd6-4a0d-d692-0ac54ac3b13f"
      },
      "execution_count": null,
      "outputs": [
        {
          "output_type": "execute_result",
          "data": {
            "text/plain": [
              "array([[0., 0., 0., 0.],\n",
              "       [1., 1., 1., 1.],\n",
              "       [2., 2., 2., 2.],\n",
              "       [3., 3., 3., 3.],\n",
              "       [4., 4., 4., 4.],\n",
              "       [5., 5., 5., 5.],\n",
              "       [6., 6., 6., 6.],\n",
              "       [7., 7., 7., 7.]])"
            ]
          },
          "metadata": {},
          "execution_count": 103
        }
      ]
    },
    {
      "cell_type": "markdown",
      "source": [
        "Чтобы выбрать подмножество строк в определенном порядке, можно просто передать список или массив целых чисел, описывающих желаемый порядок:"
      ],
      "metadata": {
        "id": "gHWREHfIk5q7"
      }
    },
    {
      "cell_type": "code",
      "source": [
        "arr[[4, 3, 0, 6]]"
      ],
      "metadata": {
        "colab": {
          "base_uri": "https://localhost:8080/"
        },
        "id": "k18gbY8tk1KE",
        "outputId": "f6d11e9d-3ebc-442d-95d3-5aa1f2fa4dac"
      },
      "execution_count": null,
      "outputs": [
        {
          "output_type": "execute_result",
          "data": {
            "text/plain": [
              "array([[4., 4., 4., 4.],\n",
              "       [3., 3., 3., 3.],\n",
              "       [0., 0., 0., 0.],\n",
              "       [6., 6., 6., 6.]])"
            ]
          },
          "metadata": {},
          "execution_count": 104
        }
      ]
    },
    {
      "cell_type": "markdown",
      "source": [
        "Если указать отрицательный индекс, то номер соответствующей строки будет отсчитываться с конца:"
      ],
      "metadata": {
        "id": "0tsc0ceslA-H"
      }
    },
    {
      "cell_type": "code",
      "source": [
        "arr[[-3, -5, -7]]"
      ],
      "metadata": {
        "colab": {
          "base_uri": "https://localhost:8080/"
        },
        "id": "81zUMffNk8ob",
        "outputId": "58013d92-89f7-43c3-d9b8-91b35100358f"
      },
      "execution_count": null,
      "outputs": [
        {
          "output_type": "execute_result",
          "data": {
            "text/plain": [
              "array([[5., 5., 5., 5.],\n",
              "       [3., 3., 3., 3.],\n",
              "       [1., 1., 1., 1.]])"
            ]
          },
          "metadata": {},
          "execution_count": 106
        }
      ]
    },
    {
      "cell_type": "markdown",
      "source": [
        "При передаче нескольких массивов индексов делается несколько иное: выбирается одномерный массив элементов, соответствующих каждому кортежу индексов:"
      ],
      "metadata": {
        "id": "0D5HOh4NlOVq"
      }
    },
    {
      "cell_type": "code",
      "source": [
        "np.arange(32)"
      ],
      "metadata": {
        "colab": {
          "base_uri": "https://localhost:8080/"
        },
        "id": "rUUEQb5tlWOY",
        "outputId": "fadc5816-cca7-42b6-9832-e1edfe13db5d"
      },
      "execution_count": null,
      "outputs": [
        {
          "output_type": "execute_result",
          "data": {
            "text/plain": [
              "array([ 0,  1,  2,  3,  4,  5,  6,  7,  8,  9, 10, 11, 12, 13, 14, 15, 16,\n",
              "       17, 18, 19, 20, 21, 22, 23, 24, 25, 26, 27, 28, 29, 30, 31])"
            ]
          },
          "metadata": {},
          "execution_count": 109
        }
      ]
    },
    {
      "cell_type": "code",
      "source": [
        "arr = np.arange(32).reshape((8, 4))\n",
        "arr"
      ],
      "metadata": {
        "colab": {
          "base_uri": "https://localhost:8080/"
        },
        "id": "fMJmAdqFlDtV",
        "outputId": "a025b938-d1bd-4505-d3ff-4a0e84b81647"
      },
      "execution_count": null,
      "outputs": [
        {
          "output_type": "execute_result",
          "data": {
            "text/plain": [
              "array([[ 0,  1,  2,  3],\n",
              "       [ 4,  5,  6,  7],\n",
              "       [ 8,  9, 10, 11],\n",
              "       [12, 13, 14, 15],\n",
              "       [16, 17, 18, 19],\n",
              "       [20, 21, 22, 23],\n",
              "       [24, 25, 26, 27],\n",
              "       [28, 29, 30, 31]])"
            ]
          },
          "metadata": {},
          "execution_count": 108
        }
      ]
    },
    {
      "cell_type": "code",
      "source": [
        "arr.shape"
      ],
      "metadata": {
        "colab": {
          "base_uri": "https://localhost:8080/"
        },
        "id": "DGaC2mvIlUCw",
        "outputId": "38b21f87-e26e-4de1-ec94-21b1ec9fde04"
      },
      "execution_count": null,
      "outputs": [
        {
          "output_type": "execute_result",
          "data": {
            "text/plain": [
              "(8, 4)"
            ]
          },
          "metadata": {},
          "execution_count": 110
        }
      ]
    },
    {
      "cell_type": "code",
      "source": [
        "arr[[1, 5, 7, 2], [0, 3, 1, 2]]"
      ],
      "metadata": {
        "colab": {
          "base_uri": "https://localhost:8080/"
        },
        "id": "FhxLWistliWt",
        "outputId": "c80757a0-db0b-4ab5-a1b6-b6958114970c"
      },
      "execution_count": null,
      "outputs": [
        {
          "output_type": "execute_result",
          "data": {
            "text/plain": [
              "array([ 4, 23, 29, 10])"
            ]
          },
          "metadata": {},
          "execution_count": 111
        }
      ]
    },
    {
      "cell_type": "markdown",
      "source": [
        "Здесь отбираются элементы в позициях `(1, 0)`, `(5, 3)`, `(7, 1)` и `(2, 2)`. Результат прихотливого индексирования в случае, когда целочисленных массивов столько же, сколько осей, всегда одномерный.\n",
        "\n",
        "Прихотливое индексирование, в отличие от вырезания, **всегда** копирует данные в новый массив, когда результат присваивается новой переменной. Если присвоить значения с помощью прихотливого индексирования, то индексированные значения будут модифицированы:"
      ],
      "metadata": {
        "id": "7rShTe8rmMpT"
      }
    },
    {
      "cell_type": "code",
      "source": [
        "arr[[1, 5, 7, 2], [0, 3, 1, 2]] = 0\n",
        "arr"
      ],
      "metadata": {
        "colab": {
          "base_uri": "https://localhost:8080/"
        },
        "id": "nM45IxJ4mZzH",
        "outputId": "be6ab747-185c-48a3-b55a-7d083f927eff"
      },
      "execution_count": null,
      "outputs": [
        {
          "output_type": "execute_result",
          "data": {
            "text/plain": [
              "array([[ 0,  1,  2,  3],\n",
              "       [ 0,  5,  6,  7],\n",
              "       [ 8,  9,  0, 11],\n",
              "       [12, 13, 14, 15],\n",
              "       [16, 17, 18, 19],\n",
              "       [20, 21, 22,  0],\n",
              "       [24, 25, 26, 27],\n",
              "       [28,  0, 30, 31]])"
            ]
          },
          "metadata": {},
          "execution_count": 112
        }
      ]
    },
    {
      "cell_type": "markdown",
      "source": [
        "## Транспонирование массивов и перестановка осей"
      ],
      "metadata": {
        "id": "3d3meb-anDgz"
      }
    },
    {
      "cell_type": "markdown",
      "source": [
        "**Транспонирование** – частный случай изменения формы, при этом также возвращается представление исходных данных без какого-либо копирования. У массивов имеется метод `transpose` и специальный атрибут `T`:"
      ],
      "metadata": {
        "id": "ywPT2R1nnIJt"
      }
    },
    {
      "cell_type": "code",
      "source": [
        "arr = np.arange(15).reshape((3, 5))\n",
        "arr"
      ],
      "metadata": {
        "colab": {
          "base_uri": "https://localhost:8080/"
        },
        "id": "bCYvzF1zmj_1",
        "outputId": "b84eb296-6cc9-491e-dd78-abfcaeab3d2c"
      },
      "execution_count": null,
      "outputs": [
        {
          "output_type": "execute_result",
          "data": {
            "text/plain": [
              "array([[ 0,  1,  2,  3,  4],\n",
              "       [ 5,  6,  7,  8,  9],\n",
              "       [10, 11, 12, 13, 14]])"
            ]
          },
          "metadata": {},
          "execution_count": 113
        }
      ]
    },
    {
      "cell_type": "code",
      "source": [
        "arr.T"
      ],
      "metadata": {
        "colab": {
          "base_uri": "https://localhost:8080/"
        },
        "id": "uKD4iupgnSVv",
        "outputId": "4b0545ab-b811-40ec-f9e9-4aa365e2920a"
      },
      "execution_count": null,
      "outputs": [
        {
          "output_type": "execute_result",
          "data": {
            "text/plain": [
              "array([[ 0,  5, 10],\n",
              "       [ 1,  6, 11],\n",
              "       [ 2,  7, 12],\n",
              "       [ 3,  8, 13],\n",
              "       [ 4,  9, 14]])"
            ]
          },
          "metadata": {},
          "execution_count": 114
        }
      ]
    },
    {
      "cell_type": "code",
      "source": [
        "arr.transpose()"
      ],
      "metadata": {
        "colab": {
          "base_uri": "https://localhost:8080/"
        },
        "id": "WTqg-1s_nTRO",
        "outputId": "cf95dd1d-fb53-48e6-ac43-284e6568bad2"
      },
      "execution_count": null,
      "outputs": [
        {
          "output_type": "execute_result",
          "data": {
            "text/plain": [
              "array([[ 0,  5, 10],\n",
              "       [ 1,  6, 11],\n",
              "       [ 2,  7, 12],\n",
              "       [ 3,  8, 13],\n",
              "       [ 4,  9, 14]])"
            ]
          },
          "metadata": {},
          "execution_count": 116
        }
      ]
    },
    {
      "cell_type": "markdown",
      "source": [
        "Обычное транспонирование с помощью `.T` – частный случай перестановки\n",
        "осей. У объекта `ndarray` имеется метод `swapaxes`, который принимает пару номеров осей и меняет их местами, в результате чего данные реорганизуются:"
      ],
      "metadata": {
        "id": "ay1GfOc5nhom"
      }
    },
    {
      "cell_type": "code",
      "source": [
        "arr = arr.swapaxes(0, 1)\n",
        "arr"
      ],
      "metadata": {
        "colab": {
          "base_uri": "https://localhost:8080/"
        },
        "id": "gK6xQCAJnUUM",
        "outputId": "8fb1de61-1c2a-48da-b94a-01203c9ef452"
      },
      "execution_count": null,
      "outputs": [
        {
          "output_type": "execute_result",
          "data": {
            "text/plain": [
              "array([[ 0,  5, 10],\n",
              "       [ 1,  6, 11],\n",
              "       [ 2,  7, 12],\n",
              "       [ 3,  8, 13],\n",
              "       [ 4,  9, 14]])"
            ]
          },
          "metadata": {},
          "execution_count": 118
        }
      ]
    },
    {
      "cell_type": "markdown",
      "source": [
        "Метод `swapaxes` также возвращает представление без копирования данных."
      ],
      "metadata": {
        "id": "3t_NjUhcnvIT"
      }
    },
    {
      "cell_type": "markdown",
      "source": [
        "## Генерирование псевдослучайных чисел"
      ],
      "metadata": {
        "id": "Dr3EcBYln0oE"
      }
    },
    {
      "cell_type": "markdown",
      "source": [
        "Модуль `numpy.random` дополняет встроенный модуль `random` функциями, которые\n",
        "генерируют целые массивы случайных чисел с различными распределениями\n",
        "вероятности. Например, с помощью функции `numpy.random.standard_normal` можно\n",
        "получить случайный массив `4x4`, выбранный из стандартного нормального\n",
        "распределения:"
      ],
      "metadata": {
        "id": "TIct9yKfn6du"
      }
    },
    {
      "cell_type": "code",
      "source": [
        "samples = np.random.standard_normal(size=(4, 4))\n",
        "samples"
      ],
      "metadata": {
        "colab": {
          "base_uri": "https://localhost:8080/"
        },
        "id": "xG0xWrX4noAo",
        "outputId": "c1aef2a2-78f0-4f6d-d302-1cb43178a8dc"
      },
      "execution_count": null,
      "outputs": [
        {
          "output_type": "execute_result",
          "data": {
            "text/plain": [
              "array([[ 0.62474452,  0.54973315, -1.07524632,  0.463986  ],\n",
              "       [ 0.05468456, -0.6276615 , -1.29973052, -0.54388508],\n",
              "       [ 1.72710926,  0.64350096,  0.51416032,  0.70683213],\n",
              "       [-0.17325154,  1.44922777,  0.70462802,  0.30430017]])"
            ]
          },
          "metadata": {},
          "execution_count": 129
        }
      ]
    },
    {
      "cell_type": "markdown",
      "source": [
        "**Методы генератора случайных чисел NumPy**\n",
        "\n",
        "|Функция|Описание|\n",
        "|:-|:-|\n",
        "|choice|Генерирует случайную выборку из заданного одномерного массива|\n",
        "|permutation|Возвращает случайную перестановку последовательности или диапазона|\n",
        "|shuffle|Случайным образом переставляет последовательность на месте|\n",
        "|integers|Случайная выборка целых чисел из заданного диапазона|\n",
        "|standard_normal|Случайная выборка из нормального распределения со средним 0 и стандартным отклонением 1|\n",
        "|binomial|Случайная выборка из биномиального распределения|\n",
        "|normal|Случайная выборка из нормального (гауссова) распределения|\n",
        "|beta|Случайная выборка из бета-распределения|\n",
        "|chisquare|Случайная выборка из распределения хи-квадрат|\n",
        "|gamma|Случайная выборка из гамма-распределения|\n",
        "|uniform|Случайная выборка из равномерного распределения на полуинтервале [0, 1)|"
      ],
      "metadata": {
        "id": "T81ctV3HpoJI"
      }
    },
    {
      "cell_type": "code",
      "source": [
        "a = np.array([1, 2, 5, 7])\n",
        "np.random.choice(a, 2)"
      ],
      "metadata": {
        "colab": {
          "base_uri": "https://localhost:8080/"
        },
        "id": "T_isxqGXNonG",
        "outputId": "5140cdc8-3d5f-43c7-fda9-8341db22d3d6"
      },
      "execution_count": null,
      "outputs": [
        {
          "output_type": "execute_result",
          "data": {
            "text/plain": [
              "array([7, 7])"
            ]
          },
          "metadata": {},
          "execution_count": 249
        }
      ]
    },
    {
      "cell_type": "code",
      "source": [
        "np.random.choice(5, 10)"
      ],
      "metadata": {
        "colab": {
          "base_uri": "https://localhost:8080/"
        },
        "id": "hzd2v3JEN7ta",
        "outputId": "434dab6c-bfef-47a9-a4dd-b91290b6991d"
      },
      "execution_count": null,
      "outputs": [
        {
          "output_type": "execute_result",
          "data": {
            "text/plain": [
              "array([1, 2, 3, 3, 0, 0, 4, 2, 1, 3])"
            ]
          },
          "metadata": {},
          "execution_count": 245
        }
      ]
    },
    {
      "cell_type": "code",
      "source": [
        "np.random.permutation(a)"
      ],
      "metadata": {
        "colab": {
          "base_uri": "https://localhost:8080/"
        },
        "id": "SsjESfrRNzkD",
        "outputId": "9146580f-c35c-4fb4-a495-54adcafb6fb1"
      },
      "execution_count": null,
      "outputs": [
        {
          "output_type": "execute_result",
          "data": {
            "text/plain": [
              "array([2, 5, 1, 7])"
            ]
          },
          "metadata": {},
          "execution_count": 250
        }
      ]
    },
    {
      "cell_type": "code",
      "source": [
        "a"
      ],
      "metadata": {
        "colab": {
          "base_uri": "https://localhost:8080/"
        },
        "id": "7mYQp80yOqnC",
        "outputId": "5bcb7775-2cf2-47d2-d9a7-0a3c1eaba214"
      },
      "execution_count": null,
      "outputs": [
        {
          "output_type": "execute_result",
          "data": {
            "text/plain": [
              "array([1, 2, 5, 7])"
            ]
          },
          "metadata": {},
          "execution_count": 253
        }
      ]
    },
    {
      "cell_type": "code",
      "source": [
        "np.random.shuffle(a)\n",
        "a"
      ],
      "metadata": {
        "colab": {
          "base_uri": "https://localhost:8080/"
        },
        "id": "voQfTwDUOsY3",
        "outputId": "92df8df0-2222-4785-8aaa-c72335bd0c5a"
      },
      "execution_count": null,
      "outputs": [
        {
          "output_type": "execute_result",
          "data": {
            "text/plain": [
              "array([7, 1, 2, 5])"
            ]
          },
          "metadata": {},
          "execution_count": 257
        }
      ]
    },
    {
      "cell_type": "markdown",
      "source": [
        "**Пример.** Сгенерируем массивы `numpy` из 1000000 элементов, распределенные по следующим законам распределения: равномерное (`uniform`), нормальное (`normal`), экспоненциальное (`exponential`). Нарисуем гистограммы распределений."
      ],
      "metadata": {
        "id": "75flt9P1ryVF"
      }
    },
    {
      "cell_type": "code",
      "source": [
        "def arr(distr, n):\n",
        "    if distr == 'uniform':\n",
        "        fun = np.random.uniform\n",
        "    elif distr == 'normal':\n",
        "        fun = np.random.normal\n",
        "    elif distr == 'exponential':\n",
        "        fun = np.random.exponential\n",
        "    return fun(size = n)"
      ],
      "metadata": {
        "id": "QV3DQM7JsDBr"
      },
      "execution_count": null,
      "outputs": []
    },
    {
      "cell_type": "code",
      "source": [
        "uniform_arr = arr('uniform', 1000000) # Массив равномерно распределенных значений\n",
        "uniform_arr[:10]"
      ],
      "metadata": {
        "colab": {
          "base_uri": "https://localhost:8080/"
        },
        "id": "09W-K2uFsFbT",
        "outputId": "56adbdc3-b847-4275-adba-9da87dc684d7"
      },
      "execution_count": null,
      "outputs": [
        {
          "output_type": "execute_result",
          "data": {
            "text/plain": [
              "array([0.95743667, 0.26334249, 0.52437331, 0.68158254, 0.72138797,\n",
              "       0.79690224, 0.6189757 , 0.67090777, 0.7284554 , 0.83294098])"
            ]
          },
          "metadata": {},
          "execution_count": 142
        }
      ]
    },
    {
      "cell_type": "code",
      "source": [
        "normal_arr = arr('normal', 1000000) # Массив нормально распределенных значений\n",
        "normal_arr[:10]"
      ],
      "metadata": {
        "colab": {
          "base_uri": "https://localhost:8080/"
        },
        "id": "DfM8ajgKsMP5",
        "outputId": "b3b977b6-8540-4f28-c451-1c785e1f6889"
      },
      "execution_count": null,
      "outputs": [
        {
          "output_type": "execute_result",
          "data": {
            "text/plain": [
              "array([-1.00806114,  1.2739489 ,  0.79622081,  0.18298765, -0.43219432,\n",
              "        0.59293853,  0.29038883, -2.09889976, -0.5279075 ,  0.05382512])"
            ]
          },
          "metadata": {},
          "execution_count": 143
        }
      ]
    },
    {
      "cell_type": "code",
      "source": [
        "exp_arr = arr('exponential', 1000000) # Массив экспоненциально распределенных значений\n",
        "exp_arr[:10]"
      ],
      "metadata": {
        "colab": {
          "base_uri": "https://localhost:8080/"
        },
        "id": "PA3pwk-jsPB6",
        "outputId": "5bf803ca-dee8-496e-ac6a-838104d437be"
      },
      "execution_count": null,
      "outputs": [
        {
          "output_type": "execute_result",
          "data": {
            "text/plain": [
              "array([0.6965173 , 3.34198415, 1.8933067 , 0.47567176, 0.10295753,\n",
              "       0.13455487, 0.66796475, 1.31949912, 1.0622459 , 0.77618979])"
            ]
          },
          "metadata": {},
          "execution_count": 144
        }
      ]
    },
    {
      "cell_type": "code",
      "source": [
        "import matplotlib.pyplot as plt"
      ],
      "metadata": {
        "id": "twlLx5GFs91o"
      },
      "execution_count": null,
      "outputs": []
    },
    {
      "cell_type": "code",
      "source": [
        "fig, ax = plt.subplots(1,3, figsize=(15, 5))\n",
        "ax[0].hist(uniform_arr, edgecolor='black', linewidth=0.3)\n",
        "ax[0].set_title('Равномерное')\n",
        "ax[0].set_xlabel('Интервал')\n",
        "ax[0].set_ylabel('Кол-во значений')\n",
        "ax[1].hist(normal_arr, color = 'orange', edgecolor='black', linewidth=0.3)\n",
        "ax[1].set_title('Нормальное')\n",
        "ax[1].set_xlabel('Интервал')\n",
        "ax[1].set_ylabel('Кол-во значений')\n",
        "ax[2].hist(exp_arr, color = 'green', edgecolor='black', linewidth=0.3)\n",
        "ax[2].set_title('Экспоненциальное')\n",
        "ax[2].set_xlabel('Интервал')\n",
        "ax[2].set_ylabel('Кол-во значений')\n",
        "fig.suptitle(f'Гистограммы распределений массивов 1000000 элементов', fontsize=14)"
      ],
      "metadata": {
        "colab": {
          "base_uri": "https://localhost:8080/",
          "height": 532
        },
        "id": "s21s1j_ZoTHA",
        "outputId": "430e3c14-60ed-4d80-b614-52a66bd7642a"
      },
      "execution_count": null,
      "outputs": [
        {
          "output_type": "execute_result",
          "data": {
            "text/plain": [
              "Text(0.5, 0.98, 'Гистограммы распределений массивов 1000000 элементов')"
            ]
          },
          "metadata": {},
          "execution_count": 151
        },
        {
          "output_type": "display_data",
          "data": {
            "text/plain": [
              "<Figure size 1500x500 with 3 Axes>"
            ],
            "image/png": "[encoded data removed]"
          },
          "metadata": {}
        }
      ]
    },
    {
      "cell_type": "markdown",
      "source": [
        "## Запись логических условий в виде операций с массивами"
      ],
      "metadata": {
        "id": "9c9jBV3Lu-19"
      }
    },
    {
      "cell_type": "markdown",
      "source": [
        "Функция `numpy.where` – векторный вариант выражения `x if условие\n",
        "else y`. Пусть имеется булев массив и два массива значений:"
      ],
      "metadata": {
        "id": "Sjxo1QzXvJKF"
      }
    },
    {
      "cell_type": "code",
      "source": [
        "xarr = np.array([1.1, 1.2, 1.3, 1.4, 1.5])"
      ],
      "metadata": {
        "id": "BCb8fhY5pJJI"
      },
      "execution_count": null,
      "outputs": []
    },
    {
      "cell_type": "code",
      "source": [
        "yarr = np.array([2.1, 2.2, 2.3, 2.4, 2.5])"
      ],
      "metadata": {
        "id": "QROmLY1hvWU6"
      },
      "execution_count": null,
      "outputs": []
    },
    {
      "cell_type": "code",
      "source": [
        "cond = np.array([True, False, True, True, False])"
      ],
      "metadata": {
        "id": "jpwA3g2-vXxK"
      },
      "execution_count": null,
      "outputs": []
    },
    {
      "cell_type": "markdown",
      "source": [
        "Допустим, что мы хотим брать значение из массива `xarr`, если соответственное значение в массиве `cond` равно `True`, а в противном случае – значение из `yarr`. Эту задачу решает такая операция спискового включения:"
      ],
      "metadata": {
        "id": "Pd6TuIB0vjY4"
      }
    },
    {
      "cell_type": "code",
      "source": [
        "result = [(x if c else y) for x, y, c in zip(xarr, yarr, cond)]\n",
        "result"
      ],
      "metadata": {
        "colab": {
          "base_uri": "https://localhost:8080/"
        },
        "id": "OKRkHJD7viky",
        "outputId": "daacd61d-981f-406d-bba2-9a38c5152720"
      },
      "execution_count": null,
      "outputs": [
        {
          "output_type": "execute_result",
          "data": {
            "text/plain": [
              "[1.1, 2.2, 1.3, 1.4, 2.5]"
            ]
          },
          "metadata": {},
          "execution_count": 155
        }
      ]
    },
    {
      "cell_type": "markdown",
      "source": [
        "Здесь есть сразу несколько проблем. Во-первых, для больших массивов это будет не быстро (потому что весь код написан на чистом Python). Во-вторых, к многомерным массивам такое решение вообще неприменимо. С помощью функции `numpy.where` можно написать очень лаконичный код:"
      ],
      "metadata": {
        "id": "GvtSymMdwACo"
      }
    },
    {
      "cell_type": "code",
      "source": [
        "result = np.where(cond, xarr, yarr)\n",
        "result"
      ],
      "metadata": {
        "colab": {
          "base_uri": "https://localhost:8080/"
        },
        "id": "YZ-xZcU2wGu5",
        "outputId": "9ba46122-6810-442c-f499-4347c0d47692"
      },
      "execution_count": null,
      "outputs": [
        {
          "output_type": "execute_result",
          "data": {
            "text/plain": [
              "array([1.1, 2.2, 1.3, 1.4, 2.5])"
            ]
          },
          "metadata": {},
          "execution_count": 156
        }
      ]
    },
    {
      "cell_type": "markdown",
      "source": [
        "Второй и третий аргументы `numpy.where` не обязаны быть массивами – один\n",
        "или оба могут быть скалярами. При анализе данные `where` обычно применяются, чтобы создать новый массив на основе существующего. Предположим, имеется матрица со случайными данными, и мы хотим заменить все положительные значения на 2, а все отрицательные – на -2. С помощью `numpy.where` сделать это очень просто:"
      ],
      "metadata": {
        "id": "iNlENOKDwRRb"
      }
    },
    {
      "cell_type": "code",
      "source": [
        "arr = np.random.standard_normal((4, 4))\n",
        "arr"
      ],
      "metadata": {
        "colab": {
          "base_uri": "https://localhost:8080/"
        },
        "id": "JkH7vDsbwLnh",
        "outputId": "1d7bb36e-d10e-4a30-f61b-e6cdec509ee5"
      },
      "execution_count": null,
      "outputs": [
        {
          "output_type": "execute_result",
          "data": {
            "text/plain": [
              "array([[-0.75298408,  0.23663158, -0.72304166, -0.77830513],\n",
              "       [-1.92546768,  1.25510372,  1.6767741 ,  0.04062976],\n",
              "       [ 0.39331493, -0.0551137 ,  0.14063393, -1.27564901],\n",
              "       [-0.05690362, -0.22072711,  1.0060856 , -0.90121952]])"
            ]
          },
          "metadata": {},
          "execution_count": 158
        }
      ]
    },
    {
      "cell_type": "code",
      "source": [
        "arr > 0"
      ],
      "metadata": {
        "colab": {
          "base_uri": "https://localhost:8080/"
        },
        "id": "MaBXoeXPwh0j",
        "outputId": "6b2176dc-e219-4f03-dd10-36adee7b5012"
      },
      "execution_count": null,
      "outputs": [
        {
          "output_type": "execute_result",
          "data": {
            "text/plain": [
              "array([[False,  True, False, False],\n",
              "       [False,  True,  True,  True],\n",
              "       [ True, False,  True, False],\n",
              "       [False, False,  True, False]])"
            ]
          },
          "metadata": {},
          "execution_count": 159
        }
      ]
    },
    {
      "cell_type": "code",
      "source": [
        "np.where(arr > 0, 2, -2)"
      ],
      "metadata": {
        "colab": {
          "base_uri": "https://localhost:8080/"
        },
        "id": "YabK2Ft4wy9P",
        "outputId": "3684ede7-9f28-4f43-825b-90309f00f923"
      },
      "execution_count": null,
      "outputs": [
        {
          "output_type": "execute_result",
          "data": {
            "text/plain": [
              "array([[-2,  2, -2, -2],\n",
              "       [-2,  2,  2,  2],\n",
              "       [ 2, -2,  2, -2],\n",
              "       [-2, -2,  2, -2]])"
            ]
          },
          "metadata": {},
          "execution_count": 160
        }
      ]
    },
    {
      "cell_type": "markdown",
      "source": [
        "С помощью `numpy.where` можно комбинировать скаляры и массивы. Например, заменим все положительные элементы `arr` константой 2:"
      ],
      "metadata": {
        "id": "z0r8IbeoxEDF"
      }
    },
    {
      "cell_type": "code",
      "source": [
        "np.where(arr > 0, 2, arr) # заменить положительные элементы на 2"
      ],
      "metadata": {
        "colab": {
          "base_uri": "https://localhost:8080/"
        },
        "id": "uq-mNptKw-5i",
        "outputId": "8b14fe58-dbaf-490c-cf76-fea2067a71ce"
      },
      "execution_count": null,
      "outputs": [
        {
          "output_type": "execute_result",
          "data": {
            "text/plain": [
              "array([[-0.75298408,  2.        , -0.72304166, -0.77830513],\n",
              "       [-1.92546768,  2.        ,  2.        ,  2.        ],\n",
              "       [ 2.        , -0.0551137 ,  2.        , -1.27564901],\n",
              "       [-0.05690362, -0.22072711,  2.        , -0.90121952]])"
            ]
          },
          "metadata": {},
          "execution_count": 161
        }
      ]
    },
    {
      "cell_type": "markdown",
      "source": [
        "## Математические и статистические операции"
      ],
      "metadata": {
        "id": "bEj_HDKdxaX6"
      }
    },
    {
      "cell_type": "markdown",
      "source": [
        "Библиотека `NumPy` имеет множество встроенных математических и статистических функций."
      ],
      "metadata": {
        "id": "WQR-afJfIuaC"
      }
    },
    {
      "cell_type": "code",
      "source": [
        "np.abs(-8)"
      ],
      "metadata": {
        "colab": {
          "base_uri": "https://localhost:8080/"
        },
        "id": "cECm0ZPVKTDh",
        "outputId": "ba4ebdf4-3cfc-4fd2-ca77-c28704762fc4"
      },
      "execution_count": null,
      "outputs": [
        {
          "output_type": "execute_result",
          "data": {
            "text/plain": [
              "8"
            ]
          },
          "metadata": {},
          "execution_count": 233
        }
      ]
    },
    {
      "cell_type": "code",
      "source": [
        "np.sqrt(256)"
      ],
      "metadata": {
        "colab": {
          "base_uri": "https://localhost:8080/"
        },
        "id": "d-HXl3nYKVkH",
        "outputId": "8ed581d3-0bd7-45ba-b6c6-90965d2770aa"
      },
      "execution_count": null,
      "outputs": [
        {
          "output_type": "execute_result",
          "data": {
            "text/plain": [
              "16.0"
            ]
          },
          "metadata": {},
          "execution_count": 234
        }
      ]
    },
    {
      "cell_type": "code",
      "source": [
        "np.log2([16, 32, 64, 128])"
      ],
      "metadata": {
        "colab": {
          "base_uri": "https://localhost:8080/"
        },
        "id": "-loPf07uKbK4",
        "outputId": "2d4a4f3a-3da3-4ac1-a531-e8a84f5f6f0c"
      },
      "execution_count": null,
      "outputs": [
        {
          "output_type": "execute_result",
          "data": {
            "text/plain": [
              "array([4., 5., 6., 7.])"
            ]
          },
          "metadata": {},
          "execution_count": 235
        }
      ]
    },
    {
      "cell_type": "code",
      "source": [
        "np.sin(np.radians([0, 90, 180, 270, 360]))"
      ],
      "metadata": {
        "colab": {
          "base_uri": "https://localhost:8080/"
        },
        "id": "8cZ-97KNKjYL",
        "outputId": "7d639249-d2d4-4fa7-dd84-68502346b5ff"
      },
      "execution_count": null,
      "outputs": [
        {
          "output_type": "execute_result",
          "data": {
            "text/plain": [
              "array([ 0.0000000e+00,  1.0000000e+00,  1.2246468e-16, -1.0000000e+00,\n",
              "       -2.4492936e-16])"
            ]
          },
          "metadata": {},
          "execution_count": 236
        }
      ]
    },
    {
      "cell_type": "code",
      "source": [
        "np.cos(np.pi)"
      ],
      "metadata": {
        "colab": {
          "base_uri": "https://localhost:8080/"
        },
        "id": "ZhRV1g2IK4WU",
        "outputId": "8c8ccdd9-5281-4dea-f54f-3846b8ff3012"
      },
      "execution_count": null,
      "outputs": [
        {
          "output_type": "execute_result",
          "data": {
            "text/plain": [
              "-1.0"
            ]
          },
          "metadata": {},
          "execution_count": 237
        }
      ]
    },
    {
      "cell_type": "markdown",
      "source": [
        "**Основные математические функции библиотеки NumPy**\n",
        "\n",
        "|Функция|Описание|\n",
        "|:-|:-|\n",
        "|np.abs(x)|Вычисление модуля от аргумента(ов) x; x может быть числом, списком или массивом (это правило распространяется на все функции этой таблицы)|\n",
        "|np.sqrt(x)|Вычислить квадратный корень из каждого элемента|\n",
        "|np.square(x)|Вычислить квадрат каждого элемента|\n",
        "|np.exp(x)|Экспонента всех элементов массива x|\n",
        "|np.log(x)|Вычисление натурального логарифма|\n",
        "|np.log2(x)|Вычисление логарифма по основанию 2|\n",
        "|np.log10(x)|Вычисление логарифма по основанию 10|\n",
        "|degrees(x)|Преобразует радианную меру угла в градусную|\n",
        "|radians(x)|Преобразует градусную меру угла в радианную|\n",
        "|np.sin(x)|Вычисление синуса угла x (в радианах)|\n",
        "|np.cos(x)|Вычисление косинуса угла(ов) x|\n",
        "|np.tan(x)|Вычисление тангенса угла(ов) x|"
      ],
      "metadata": {
        "id": "HNg1HuUmJBMf"
      }
    },
    {
      "cell_type": "code",
      "source": [
        "arr"
      ],
      "metadata": {
        "colab": {
          "base_uri": "https://localhost:8080/"
        },
        "id": "nUyKeBqDxQyO",
        "outputId": "1dd448df-2a7d-49ab-baec-f04a4dc50f0d"
      },
      "execution_count": null,
      "outputs": [
        {
          "output_type": "execute_result",
          "data": {
            "text/plain": [
              "array([[-0.75298408,  0.23663158, -0.72304166, -0.77830513],\n",
              "       [-1.92546768,  1.25510372,  1.6767741 ,  0.04062976],\n",
              "       [ 0.39331493, -0.0551137 ,  0.14063393, -1.27564901],\n",
              "       [-0.05690362, -0.22072711,  1.0060856 , -0.90121952]])"
            ]
          },
          "metadata": {},
          "execution_count": 162
        }
      ]
    },
    {
      "cell_type": "code",
      "source": [
        "arr.mean()"
      ],
      "metadata": {
        "colab": {
          "base_uri": "https://localhost:8080/"
        },
        "id": "zoVplR7Oxu0P",
        "outputId": "19300878-7679-4597-a8dc-bea329b9193f"
      },
      "execution_count": null,
      "outputs": [
        {
          "output_type": "execute_result",
          "data": {
            "text/plain": [
              "-0.12126486890395831"
            ]
          },
          "metadata": {},
          "execution_count": 163
        }
      ]
    },
    {
      "cell_type": "code",
      "source": [
        "np.mean(arr)"
      ],
      "metadata": {
        "colab": {
          "base_uri": "https://localhost:8080/"
        },
        "id": "ywVgMG2kxzBQ",
        "outputId": "83372749-52a7-4f64-cb7d-1240bef939b8"
      },
      "execution_count": null,
      "outputs": [
        {
          "output_type": "execute_result",
          "data": {
            "text/plain": [
              "-0.12126486890395831"
            ]
          },
          "metadata": {},
          "execution_count": 164
        }
      ]
    },
    {
      "cell_type": "code",
      "source": [
        "arr.sum()"
      ],
      "metadata": {
        "colab": {
          "base_uri": "https://localhost:8080/"
        },
        "id": "gvnll3x1x1Nr",
        "outputId": "1de859b9-51e4-4bac-e8c9-2873bb2c1c5c"
      },
      "execution_count": null,
      "outputs": [
        {
          "output_type": "execute_result",
          "data": {
            "text/plain": [
              "-1.940237902463333"
            ]
          },
          "metadata": {},
          "execution_count": 165
        }
      ]
    },
    {
      "cell_type": "markdown",
      "source": [
        "Функции типа `mean` и `sum` принимают необязательный аргумент `axis`, при наличии которого вычисляется статистика по заданной оси, и в результате порождается массив на единицу меньшей размерности:"
      ],
      "metadata": {
        "id": "XuwvbtUWx9XS"
      }
    },
    {
      "cell_type": "code",
      "source": [
        "arr.mean(axis=1)"
      ],
      "metadata": {
        "colab": {
          "base_uri": "https://localhost:8080/"
        },
        "id": "iLzzhzujx5Ga",
        "outputId": "3f0b41fd-d0c4-489a-cd44-44582cbbd2e4"
      },
      "execution_count": null,
      "outputs": [
        {
          "output_type": "execute_result",
          "data": {
            "text/plain": [
              "array([-0.50442482,  0.26175998, -0.19920346, -0.04319116])"
            ]
          },
          "metadata": {},
          "execution_count": 166
        }
      ]
    },
    {
      "cell_type": "code",
      "source": [
        "arr.sum(axis=0)"
      ],
      "metadata": {
        "colab": {
          "base_uri": "https://localhost:8080/"
        },
        "id": "kgLTOBFYyGmF",
        "outputId": "40fbfc5e-096a-4f04-eaa5-8df3d32b6c27"
      },
      "execution_count": null,
      "outputs": [
        {
          "output_type": "execute_result",
          "data": {
            "text/plain": [
              "array([-2.34204046,  1.21589449,  2.10045196, -2.9145439 ])"
            ]
          },
          "metadata": {},
          "execution_count": 167
        }
      ]
    },
    {
      "cell_type": "markdown",
      "source": [
        "Здесь `arr.mean(axis=1)` означает «вычислить среднее по столбцам», а `arr.sum(axis=0)` – «вычислить сумму по строкам».\n",
        "\n",
        "Другие методы, например `cumsum` и `cumprod`, ничего не агрегируют, а порождают массив промежуточных результатов:"
      ],
      "metadata": {
        "id": "VPokgyd3yZb6"
      }
    },
    {
      "cell_type": "code",
      "source": [
        "arr = np.array([0, 1, 2, 3, 4, 5, 6, 7])"
      ],
      "metadata": {
        "id": "RkDap6sQyTut"
      },
      "execution_count": null,
      "outputs": []
    },
    {
      "cell_type": "code",
      "source": [
        "arr.cumsum()"
      ],
      "metadata": {
        "colab": {
          "base_uri": "https://localhost:8080/"
        },
        "id": "NkE00SrnyuHe",
        "outputId": "cdf1a30b-05a5-442b-9dfe-bb00425e0eee"
      },
      "execution_count": null,
      "outputs": [
        {
          "output_type": "execute_result",
          "data": {
            "text/plain": [
              "array([ 0,  1,  3,  6, 10, 15, 21, 28])"
            ]
          },
          "metadata": {},
          "execution_count": 169
        }
      ]
    },
    {
      "cell_type": "markdown",
      "source": [
        "Для двумерного массива выражение `arr.cumsum(axis=0)` вычисляет сумму с накопительным итогом по строкам, а `arr.cumsum(axis=1)` – сумму с накопительным итогом по столбцам:"
      ],
      "metadata": {
        "id": "2dewdifbzMo3"
      }
    },
    {
      "cell_type": "code",
      "source": [
        "arr = np.array([[0, 1, 2], [3, 4, 5], [6, 7, 8]])\n",
        "arr"
      ],
      "metadata": {
        "colab": {
          "base_uri": "https://localhost:8080/"
        },
        "id": "adaXkxQeyw_R",
        "outputId": "7a2fe2ea-082c-4d7d-e4e3-fc47f2d81bb5"
      },
      "execution_count": null,
      "outputs": [
        {
          "output_type": "execute_result",
          "data": {
            "text/plain": [
              "array([[0, 1, 2],\n",
              "       [3, 4, 5],\n",
              "       [6, 7, 8]])"
            ]
          },
          "metadata": {},
          "execution_count": 173
        }
      ]
    },
    {
      "cell_type": "code",
      "source": [
        "arr.cumsum(axis=0)"
      ],
      "metadata": {
        "colab": {
          "base_uri": "https://localhost:8080/"
        },
        "id": "ADVCXVoezVw6",
        "outputId": "0327b8e4-3876-48e9-cd6f-a84a952e9cd9"
      },
      "execution_count": null,
      "outputs": [
        {
          "output_type": "execute_result",
          "data": {
            "text/plain": [
              "array([[ 0,  1,  2],\n",
              "       [ 3,  5,  7],\n",
              "       [ 9, 12, 15]])"
            ]
          },
          "metadata": {},
          "execution_count": 171
        }
      ]
    },
    {
      "cell_type": "code",
      "source": [
        "arr.cumsum(axis=1)"
      ],
      "metadata": {
        "colab": {
          "base_uri": "https://localhost:8080/"
        },
        "id": "5-uWoPdXzXVR",
        "outputId": "615c8614-c55e-4502-f041-987cf01708b3"
      },
      "execution_count": null,
      "outputs": [
        {
          "output_type": "execute_result",
          "data": {
            "text/plain": [
              "array([[ 0,  1,  3],\n",
              "       [ 3,  7, 12],\n",
              "       [ 6, 13, 21]])"
            ]
          },
          "metadata": {},
          "execution_count": 172
        }
      ]
    },
    {
      "cell_type": "markdown",
      "source": [
        "**Статистические методы массива NumPy**\n",
        "\n",
        "|Метод|Описание|\n",
        "|:-|:-|\n",
        "|sum|Сумма элементов всего массива или вдоль одной оси. Для массивов нулевой длины функция sum возвращает 0|\n",
        "|mean|Среднее арифметическое. Для массивов нулевой длины равно NaN|\n",
        "|std, var|Стандартное отклонение и дисперсия соответственно|\n",
        "|min, max|Минимум и максимум|\n",
        "|argmin, argmax|Индексы минимального и максимального элементов|\n",
        "|cumsum|Сумма с нарастающим итогом с начальным значением 0|\n",
        "|cumprod|Произведение с нарастающим итогом с начальным значением 1|"
      ],
      "metadata": {
        "id": "87bRucZyzn5P"
      }
    },
    {
      "cell_type": "markdown",
      "source": [
        "## Методы булевых массивов"
      ],
      "metadata": {
        "id": "sVCmHQYC0iaK"
      }
    },
    {
      "cell_type": "markdown",
      "source": [
        "Поскольку булевы значения приводятся к 1 (`True`) и 0 (`False`), функция `sum` часто используется для подсчета значений `True` в булевом массиве:"
      ],
      "metadata": {
        "id": "oVPTzx3c0li_"
      }
    },
    {
      "cell_type": "code",
      "source": [
        "arr = np.random.standard_normal(100)"
      ],
      "metadata": {
        "id": "C8UKvjhFzYpg"
      },
      "execution_count": null,
      "outputs": []
    },
    {
      "cell_type": "code",
      "source": [
        "(arr > 0).sum() # количество положительных значений"
      ],
      "metadata": {
        "colab": {
          "base_uri": "https://localhost:8080/"
        },
        "id": "RV413KJ106cW",
        "outputId": "caec12d1-e24c-4c65-ff65-54a08a1443a6"
      },
      "execution_count": null,
      "outputs": [
        {
          "output_type": "execute_result",
          "data": {
            "text/plain": [
              "54"
            ]
          },
          "metadata": {},
          "execution_count": 176
        }
      ]
    },
    {
      "cell_type": "code",
      "source": [
        "(arr <= 0).sum() # количество неположительных значений"
      ],
      "metadata": {
        "colab": {
          "base_uri": "https://localhost:8080/"
        },
        "id": "fbopaDrF1Bmi",
        "outputId": "15a533bd-6fcf-4d7d-cc8e-dc3056b7ef54"
      },
      "execution_count": null,
      "outputs": [
        {
          "output_type": "execute_result",
          "data": {
            "text/plain": [
              "46"
            ]
          },
          "metadata": {},
          "execution_count": 177
        }
      ]
    },
    {
      "cell_type": "markdown",
      "source": [
        "Здесь скобки в выражении `(arr > 0).sum()` необходимы, чтобы функция `sum()`\n",
        "применялась к временному результату вычисления `arr > 0`.\n",
        "\n",
        "Существует еще два метода, `any` и `all`, особенно полезных в случае булевых\n",
        "массивов. Метод `any` проверяет, есть ли в массиве хотя бы одно значение, равное `True`, а `all` – что все значения в массиве равны `True`:"
      ],
      "metadata": {
        "id": "jU1o5z_q1KzY"
      }
    },
    {
      "cell_type": "code",
      "source": [
        "bools = np.array([False, False, True, False])"
      ],
      "metadata": {
        "id": "T-IAdlAp1VOe"
      },
      "execution_count": null,
      "outputs": []
    },
    {
      "cell_type": "code",
      "source": [
        "bools.any()"
      ],
      "metadata": {
        "colab": {
          "base_uri": "https://localhost:8080/"
        },
        "id": "CKKki4ea1i5N",
        "outputId": "3b363d49-bf3d-4f45-c751-b2db6eb109b6"
      },
      "execution_count": null,
      "outputs": [
        {
          "output_type": "execute_result",
          "data": {
            "text/plain": [
              "True"
            ]
          },
          "metadata": {},
          "execution_count": 179
        }
      ]
    },
    {
      "cell_type": "code",
      "source": [
        "bools.all()"
      ],
      "metadata": {
        "colab": {
          "base_uri": "https://localhost:8080/"
        },
        "id": "rwSpSqR31jXv",
        "outputId": "ac1f321c-c505-49ef-8833-f15eb86a8d75"
      },
      "execution_count": null,
      "outputs": [
        {
          "output_type": "execute_result",
          "data": {
            "text/plain": [
              "False"
            ]
          },
          "metadata": {},
          "execution_count": 180
        }
      ]
    },
    {
      "cell_type": "markdown",
      "source": [
        "Эти методы работают и для небулевых массивов, и тогда все отличные от нуля элементы считаются равными `True`."
      ],
      "metadata": {
        "id": "eiR_BDhV1nuE"
      }
    },
    {
      "cell_type": "markdown",
      "source": [
        "## Сортировка"
      ],
      "metadata": {
        "id": "8jWCWFx41spU"
      }
    },
    {
      "cell_type": "markdown",
      "source": [
        "Как и встроенные в `Python` списки, массивы `NumPy` можно сортировать на месте\n",
        "методом `sort`:"
      ],
      "metadata": {
        "id": "2S66m7j41wQp"
      }
    },
    {
      "cell_type": "code",
      "source": [
        "arr = np.arange(1, 15)\n",
        "arr"
      ],
      "metadata": {
        "colab": {
          "base_uri": "https://localhost:8080/"
        },
        "id": "zE5U9UrL1kbX",
        "outputId": "ce9e73f1-d3e4-4b7b-9f1b-1911b9060178"
      },
      "execution_count": null,
      "outputs": [
        {
          "output_type": "execute_result",
          "data": {
            "text/plain": [
              "array([ 1,  2,  3,  4,  5,  6,  7,  8,  9, 10, 11, 12, 13, 14])"
            ]
          },
          "metadata": {},
          "execution_count": 183
        }
      ]
    },
    {
      "cell_type": "code",
      "source": [
        "np.random.shuffle(arr)\n",
        "arr"
      ],
      "metadata": {
        "colab": {
          "base_uri": "https://localhost:8080/"
        },
        "id": "awcLeGg012Rx",
        "outputId": "ebb2bddc-fc08-4773-86a4-5c602da95362"
      },
      "execution_count": null,
      "outputs": [
        {
          "output_type": "execute_result",
          "data": {
            "text/plain": [
              "array([ 8, 12,  4, 13,  5,  6,  3,  7, 10, 11, 14,  9,  2,  1])"
            ]
          },
          "metadata": {},
          "execution_count": 186
        }
      ]
    },
    {
      "cell_type": "code",
      "source": [
        "arr.sort()\n",
        "arr"
      ],
      "metadata": {
        "colab": {
          "base_uri": "https://localhost:8080/"
        },
        "id": "jfqg-Hc72JrE",
        "outputId": "029ea177-ffac-4a84-a081-a7eca9ef7428"
      },
      "execution_count": null,
      "outputs": [
        {
          "output_type": "execute_result",
          "data": {
            "text/plain": [
              "array([ 1,  2,  3,  4,  5,  6,  7,  8,  9, 10, 11, 12, 13, 14])"
            ]
          },
          "metadata": {},
          "execution_count": 187
        }
      ]
    },
    {
      "cell_type": "markdown",
      "source": [
        "Любой одномерный участок многомерного массива можно отсортировать на месте, передав методу `sort` номер оси."
      ],
      "metadata": {
        "id": "E2B1Uxs_2pha"
      }
    },
    {
      "cell_type": "code",
      "source": [
        "arr = np.random.standard_normal((5, 3))\n",
        "arr"
      ],
      "metadata": {
        "colab": {
          "base_uri": "https://localhost:8080/"
        },
        "id": "3GhG79j72SGa",
        "outputId": "06456fdb-a830-4832-85df-b99cd0335559"
      },
      "execution_count": null,
      "outputs": [
        {
          "output_type": "execute_result",
          "data": {
            "text/plain": [
              "array([[-0.0537317 , -1.55935886, -1.18075676],\n",
              "       [-1.23762176,  1.46629137,  0.48258266],\n",
              "       [-0.09773422, -1.03745662, -0.86121072],\n",
              "       [-2.04536368, -0.9671008 , -0.61121583],\n",
              "       [-1.48112904, -3.4510048 ,  0.98781799]])"
            ]
          },
          "metadata": {},
          "execution_count": 188
        }
      ]
    },
    {
      "cell_type": "markdown",
      "source": [
        "Вызов `arr.sort(axis=0)` сортирует значения в каждом столбце, в `arr.sort(axis=1)` – в каждой строке:"
      ],
      "metadata": {
        "id": "CVh76AwZ21-j"
      }
    },
    {
      "cell_type": "code",
      "source": [
        "arr.sort(axis=0)\n",
        "arr"
      ],
      "metadata": {
        "colab": {
          "base_uri": "https://localhost:8080/"
        },
        "id": "sU7wwaNV2wiO",
        "outputId": "bde5edca-56f4-4745-e7de-7631648d2dbf"
      },
      "execution_count": null,
      "outputs": [
        {
          "output_type": "execute_result",
          "data": {
            "text/plain": [
              "array([[-2.04536368, -3.4510048 , -1.18075676],\n",
              "       [-1.48112904, -1.55935886, -0.86121072],\n",
              "       [-1.23762176, -1.03745662, -0.61121583],\n",
              "       [-0.09773422, -0.9671008 ,  0.48258266],\n",
              "       [-0.0537317 ,  1.46629137,  0.98781799]])"
            ]
          },
          "metadata": {},
          "execution_count": 189
        }
      ]
    },
    {
      "cell_type": "code",
      "source": [
        "arr.sort(axis=1)\n",
        "arr"
      ],
      "metadata": {
        "colab": {
          "base_uri": "https://localhost:8080/"
        },
        "id": "qOOxw0AB2zrC",
        "outputId": "3312016e-9fb3-4af0-a0f3-06354c718d0c"
      },
      "execution_count": null,
      "outputs": [
        {
          "output_type": "execute_result",
          "data": {
            "text/plain": [
              "array([[-3.4510048 , -2.04536368, -1.18075676],\n",
              "       [-1.55935886, -1.48112904, -0.86121072],\n",
              "       [-1.23762176, -1.03745662, -0.61121583],\n",
              "       [-0.9671008 , -0.09773422,  0.48258266],\n",
              "       [-0.0537317 ,  0.98781799,  1.46629137]])"
            ]
          },
          "metadata": {},
          "execution_count": 190
        }
      ]
    },
    {
      "cell_type": "markdown",
      "source": [
        "Метод верхнего уровня `numpy.sort` возвращает отсортированную копию массива (как встроенная функция `sorted`), а не сортирует массив на месте."
      ],
      "metadata": {
        "id": "czBjO1XT3H5F"
      }
    },
    {
      "cell_type": "code",
      "source": [
        "arr2 = np.array([5, -10, 7, 1, 0, -3])\n",
        "sorted_arr2 = np.sort(arr2)\n",
        "sorted_arr2"
      ],
      "metadata": {
        "colab": {
          "base_uri": "https://localhost:8080/"
        },
        "id": "7AdqM4jh21VQ",
        "outputId": "5ff5e242-2740-4789-ad99-3c8aafb8ac4a"
      },
      "execution_count": null,
      "outputs": [
        {
          "output_type": "execute_result",
          "data": {
            "text/plain": [
              "array([-10,  -3,   0,   1,   5,   7])"
            ]
          },
          "metadata": {},
          "execution_count": 191
        }
      ]
    },
    {
      "cell_type": "markdown",
      "source": [
        "## Устранение дубликатов и другие теоретико-множественные операции"
      ],
      "metadata": {
        "id": "8o8cdvtW3WSs"
      }
    },
    {
      "cell_type": "markdown",
      "source": [
        "В `NumPy` имеются основные теоретико-множественные операции для одномерных массивов. Пожалуй, самой употребительной является `numpy.unique`, она возвращает отсортированное множество уникальных значений в массиве:"
      ],
      "metadata": {
        "id": "huG5t_My3a-a"
      }
    },
    {
      "cell_type": "code",
      "source": [
        "names = np.array([\"Bob\", \"Will\", \"Joe\", \"Bob\", \"Will\", \"Joe\", \"Joe\"])\n",
        "np.unique(names)"
      ],
      "metadata": {
        "colab": {
          "base_uri": "https://localhost:8080/"
        },
        "id": "0iDRihW63QwE",
        "outputId": "0c422f43-9403-4b46-9aca-c4bee1f29062"
      },
      "execution_count": null,
      "outputs": [
        {
          "output_type": "execute_result",
          "data": {
            "text/plain": [
              "array(['Bob', 'Joe', 'Will'], dtype='<U4')"
            ]
          },
          "metadata": {},
          "execution_count": 192
        }
      ]
    },
    {
      "cell_type": "code",
      "source": [
        "ints = np.array([3, 3, 3, 2, 2, 1, 1, 4, 4])\n",
        "np.unique(ints)"
      ],
      "metadata": {
        "colab": {
          "base_uri": "https://localhost:8080/"
        },
        "id": "mQcOD1nh3hbx",
        "outputId": "6fdae6f8-5b54-448c-e8a2-b58a1737d4ea"
      },
      "execution_count": null,
      "outputs": [
        {
          "output_type": "execute_result",
          "data": {
            "text/plain": [
              "array([1, 2, 3, 4])"
            ]
          },
          "metadata": {},
          "execution_count": 193
        }
      ]
    },
    {
      "cell_type": "markdown",
      "source": [
        "Сравним `numpy.unique` с альтернативой на чистом `Python`:"
      ],
      "metadata": {
        "id": "AYLjmdZr3pLm"
      }
    },
    {
      "cell_type": "code",
      "source": [
        "sorted(set(names))"
      ],
      "metadata": {
        "colab": {
          "base_uri": "https://localhost:8080/"
        },
        "id": "poo271db3nbK",
        "outputId": "d7d2ed0e-2dac-4442-91fa-3cbcdcb7102c"
      },
      "execution_count": null,
      "outputs": [
        {
          "output_type": "execute_result",
          "data": {
            "text/plain": [
              "['Bob', 'Joe', 'Will']"
            ]
          },
          "metadata": {},
          "execution_count": 194
        }
      ]
    },
    {
      "cell_type": "markdown",
      "source": [
        "Во многих случаях вариант из `NumPy` быстрее и возвращает массив `NumPy`, а не список `Python`.\n",
        "\n",
        "Функция `numpy.in1d` проверяет, присутствуют ли значения из одного массива\n",
        "в другом, и возвращает булев массив:"
      ],
      "metadata": {
        "id": "Ch1lAOdt34G-"
      }
    },
    {
      "cell_type": "code",
      "source": [
        "values = np.array([6, 0, 0, 3, 2, 5, 6])\n",
        "np.in1d(values, [2, 3, 6])"
      ],
      "metadata": {
        "colab": {
          "base_uri": "https://localhost:8080/"
        },
        "id": "oySekLsP3wGW",
        "outputId": "3ca028a2-20de-4c67-db35-6873d4daae32"
      },
      "execution_count": null,
      "outputs": [
        {
          "output_type": "execute_result",
          "data": {
            "text/plain": [
              "array([ True, False, False,  True,  True, False,  True])"
            ]
          },
          "metadata": {},
          "execution_count": 195
        }
      ]
    },
    {
      "cell_type": "markdown",
      "source": [
        "**Теоретико-множественные операции с массивами**\n",
        "\n",
        "|Метод|Описание|\n",
        "|:-|:-|\n",
        "|unique(x)|Вычисляет отсортированное множество уникальных элементов|\n",
        "|intersect1d(x, y)|Вычисляет отсортированное множество элементов, общих для x и y|\n",
        "|union1d(x, y)|Вычисляет отсортированное объединение элементов|\n",
        "|in1d(x, y)|Вычисляет булев массив, показывающий, какие элементы x встречаются в y|\n",
        "|setdiff1d(x, y)|Вычисляет разность множеств, т.е. элементы, принадлежащие x, но не принадлежащие y|\n",
        "|setxor1d(x, y)|Симметрическая разность множеств; элементы, принадлежащие одному массиву, но не обоим сразу|"
      ],
      "metadata": {
        "id": "Iz0dZgSV4KEU"
      }
    },
    {
      "cell_type": "markdown",
      "source": [
        "## Файловый ввод-вывод массивов"
      ],
      "metadata": {
        "id": "sw78oMal5GdK"
      }
    },
    {
      "cell_type": "markdown",
      "source": [
        "`NumPy` умеет сохранять на диске и загружать с диска данные в текстовом или двоичном формате. Мы с вами рассмотрим только встроенный в `NumPy` двоичный формат, поскольку для загрузки текстовых и табличных данных большинство пользователей предпочитают `pandas` и другие инструменты.\n",
        "\n",
        "`numpy.save` и `numpy.load` – основные функции для эффективного сохранения и загрузки данных с диска. По умолчанию массивы хранятся в несжатом двоичном формате в файле с расширением `.npy`."
      ],
      "metadata": {
        "id": "7R8vMwPi5LK3"
      }
    },
    {
      "cell_type": "code",
      "source": [
        "arr = np.arange(10)\n",
        "np.save(\"some_array\", arr)"
      ],
      "metadata": {
        "id": "YtoyUTRK4A7K"
      },
      "execution_count": null,
      "outputs": []
    },
    {
      "cell_type": "code",
      "source": [
        "np.load(\"some_array.npy\")"
      ],
      "metadata": {
        "colab": {
          "base_uri": "https://localhost:8080/"
        },
        "id": "xv6H5Txo5v4v",
        "outputId": "6bb0c3ed-a686-4808-9c5d-9ff317b79beb"
      },
      "execution_count": null,
      "outputs": [
        {
          "output_type": "execute_result",
          "data": {
            "text/plain": [
              "array([0, 1, 2, 3, 4, 5, 6, 7, 8, 9])"
            ]
          },
          "metadata": {},
          "execution_count": 197
        }
      ]
    },
    {
      "cell_type": "markdown",
      "source": [
        "## Линейная алгебра\n",
        "\n",
        "Линейно-алгебраические операции – умножение и разложение матриц, вы-\n",
        "числение определителей и другие – важная часть любой библиотеки для работы с массивами. В отличие от некоторых языков, например `MATLAB`, в `NumPy` применение оператора `*` к двум двумерным массивам вычисляет поэлементное, а не матричное произведение. А для перемножения матриц имеется функция `dot` – как в виде метода массива, так и в виде функции в пространстве имен `numpy`:"
      ],
      "metadata": {
        "id": "XZtCsRUa58ve"
      }
    },
    {
      "cell_type": "code",
      "source": [
        "x = np.array([[1., 2., 3.], [4., 5., 6.]])\n",
        "y = np.array([[6., 23.], [-1, 7], [8, 9]])"
      ],
      "metadata": {
        "id": "r1erAaw06MNN"
      },
      "execution_count": null,
      "outputs": []
    },
    {
      "cell_type": "code",
      "source": [
        "x.dot(y)"
      ],
      "metadata": {
        "colab": {
          "base_uri": "https://localhost:8080/"
        },
        "id": "IfWBAbvB6QX6",
        "outputId": "dbee9351-d3ae-4d09-f2dc-8e5c9e3b6713"
      },
      "execution_count": null,
      "outputs": [
        {
          "output_type": "execute_result",
          "data": {
            "text/plain": [
              "array([[ 28.,  64.],\n",
              "       [ 67., 181.]])"
            ]
          },
          "metadata": {},
          "execution_count": 200
        }
      ]
    },
    {
      "cell_type": "markdown",
      "source": [
        "`x.dot(y)` эквивалентно `np.dot(x, y)`:"
      ],
      "metadata": {
        "id": "63Nl4jHk6WNi"
      }
    },
    {
      "cell_type": "code",
      "source": [
        "np.dot(x, y)"
      ],
      "metadata": {
        "colab": {
          "base_uri": "https://localhost:8080/"
        },
        "id": "NB4pNSqp6UYk",
        "outputId": "b19cfda5-f434-4e26-dc85-2f5dbd1f2f70"
      },
      "execution_count": null,
      "outputs": [
        {
          "output_type": "execute_result",
          "data": {
            "text/plain": [
              "array([[ 28.,  64.],\n",
              "       [ 67., 181.]])"
            ]
          },
          "metadata": {},
          "execution_count": 201
        }
      ]
    },
    {
      "cell_type": "markdown",
      "source": [
        "В модуле `numpy.linalg` есть стандартный набор алгоритмов, в частности разложение матриц, нахождение обратной матрицы и вычисление определителя:"
      ],
      "metadata": {
        "id": "Ebx_24wM6htC"
      }
    },
    {
      "cell_type": "code",
      "source": [
        "arr = np.array([1, 2, 3, 4]).reshape(2, 2)\n",
        "arr"
      ],
      "metadata": {
        "colab": {
          "base_uri": "https://localhost:8080/"
        },
        "id": "cr0YnikG9lfN",
        "outputId": "ead4bb4c-0f40-44fd-b619-613c95740ebe"
      },
      "execution_count": null,
      "outputs": [
        {
          "output_type": "execute_result",
          "data": {
            "text/plain": [
              "array([[1, 2],\n",
              "       [3, 4]])"
            ]
          },
          "metadata": {},
          "execution_count": 210
        }
      ]
    },
    {
      "cell_type": "code",
      "source": [
        "arr_inv = np.linalg.inv(arr)\n",
        "arr_inv"
      ],
      "metadata": {
        "colab": {
          "base_uri": "https://localhost:8080/"
        },
        "id": "2XsT33pt7nvR",
        "outputId": "d6aa9184-e139-437f-c083-0f43910349aa"
      },
      "execution_count": null,
      "outputs": [
        {
          "output_type": "execute_result",
          "data": {
            "text/plain": [
              "array([[-2. ,  1. ],\n",
              "       [ 1.5, -0.5]])"
            ]
          },
          "metadata": {},
          "execution_count": 212
        }
      ]
    },
    {
      "cell_type": "markdown",
      "source": [
        "Проверим, равно ли произведение матрицы на ее обратную матрицу единичной матрице:"
      ],
      "metadata": {
        "id": "yk_kfaFK-SVw"
      }
    },
    {
      "cell_type": "code",
      "source": [
        "arr.dot(arr_inv)"
      ],
      "metadata": {
        "colab": {
          "base_uri": "https://localhost:8080/"
        },
        "id": "WHJHTRV2-AJK",
        "outputId": "24315691-9e76-45c9-f85b-92d9678dea02"
      },
      "execution_count": null,
      "outputs": [
        {
          "output_type": "execute_result",
          "data": {
            "text/plain": [
              "array([[1.0000000e+00, 0.0000000e+00],\n",
              "       [8.8817842e-16, 1.0000000e+00]])"
            ]
          },
          "metadata": {},
          "execution_count": 213
        }
      ]
    },
    {
      "cell_type": "markdown",
      "source": [
        "**Пример.** Решим следующую систему уравнений:\n",
        "\n",
        "\\begin{equation*}\n",
        " \\begin{cases}\n",
        "    x_1 + 2*x_2 = 1\n",
        "   \\\\\n",
        "    3*x_1 + 5*x_2 = 2\n",
        " \\end{cases}\n",
        "\\end{equation*}"
      ],
      "metadata": {
        "id": "jN6evfs0_p8i"
      }
    },
    {
      "cell_type": "code",
      "source": [
        "a = np.array([[1, 2], [3, 5]])\n",
        "b = np.array([1, 2])\n",
        "x = np.linalg.solve(a, b)\n",
        "x"
      ],
      "metadata": {
        "colab": {
          "base_uri": "https://localhost:8080/"
        },
        "id": "EaPN-cjp_JIE",
        "outputId": "47adca34-4cbe-4a8b-ded8-80c186a95bde"
      },
      "execution_count": null,
      "outputs": [
        {
          "output_type": "execute_result",
          "data": {
            "text/plain": [
              "array([-1.,  1.])"
            ]
          },
          "metadata": {},
          "execution_count": 214
        }
      ]
    },
    {
      "cell_type": "markdown",
      "source": [
        "Проверим решение на правильность:"
      ],
      "metadata": {
        "id": "IvRCEBbeAyk6"
      }
    },
    {
      "cell_type": "code",
      "source": [
        "np.allclose(np.dot(a, x), b)"
      ],
      "metadata": {
        "colab": {
          "base_uri": "https://localhost:8080/"
        },
        "id": "jzO-PsiqARxO",
        "outputId": "22346284-1a5f-458c-f69f-2e9ce24b6290"
      },
      "execution_count": null,
      "outputs": [
        {
          "output_type": "execute_result",
          "data": {
            "text/plain": [
              "True"
            ]
          },
          "metadata": {},
          "execution_count": 216
        }
      ]
    },
    {
      "cell_type": "markdown",
      "source": [
        "**Пример.** Проведем линию вида $y = k*x + m$ через некоторые зашумленные точки данных $(x, y)$:"
      ],
      "metadata": {
        "id": "doODPY4ZBT7S"
      }
    },
    {
      "cell_type": "code",
      "source": [
        "x = np.array([0, 1, 2, 3])\n",
        "y = np.array([-1, 0.2, 0.9, 2.1])"
      ],
      "metadata": {
        "id": "1iosdWW6Cx-C"
      },
      "execution_count": null,
      "outputs": []
    },
    {
      "cell_type": "code",
      "source": [
        "A = np.vstack([x, np.ones(len(x))]).T\n",
        "A"
      ],
      "metadata": {
        "colab": {
          "base_uri": "https://localhost:8080/"
        },
        "id": "GWUQmTlvC5Ez",
        "outputId": "59ba69cd-2828-4d41-dfd9-e007f54448a8"
      },
      "execution_count": null,
      "outputs": [
        {
          "output_type": "execute_result",
          "data": {
            "text/plain": [
              "array([[0., 1.],\n",
              "       [1., 1.],\n",
              "       [2., 1.],\n",
              "       [3., 1.]])"
            ]
          },
          "metadata": {},
          "execution_count": 220
        }
      ]
    },
    {
      "cell_type": "code",
      "source": [
        "k, m = np.linalg.lstsq(A, y, rcond=None)[0]\n",
        "k, m"
      ],
      "metadata": {
        "colab": {
          "base_uri": "https://localhost:8080/"
        },
        "id": "8qRyGJ5LEU3A",
        "outputId": "be604c21-4c56-40bf-db8e-291ca839a372"
      },
      "execution_count": null,
      "outputs": [
        {
          "output_type": "execute_result",
          "data": {
            "text/plain": [
              "(0.9999999999999999, -0.9499999999999997)"
            ]
          },
          "metadata": {},
          "execution_count": 225
        }
      ]
    },
    {
      "cell_type": "code",
      "source": [
        "plt.plot(x, y, 'o', label='Original data', markersize=10)\n",
        "plt.plot(x, k*x + m, 'r', label='Fitted line')\n",
        "plt.legend()"
      ],
      "metadata": {
        "colab": {
          "base_uri": "https://localhost:8080/",
          "height": 447
        },
        "id": "qTquZVhpEq1z",
        "outputId": "4c28f3dc-e307-481b-baeb-7ca0c265498a"
      },
      "execution_count": null,
      "outputs": [
        {
          "output_type": "execute_result",
          "data": {
            "text/plain": [
              "<matplotlib.legend.Legend at 0x7cabd191dbd0>"
            ]
          },
          "metadata": {},
          "execution_count": 226
        },
        {
          "output_type": "display_data",
          "data": {
            "text/plain": [
              "<Figure size 640x480 with 1 Axes>"
            ],
            "image/png": "[encoded data removed]"
          },
          "metadata": {}
        }
      ]
    },
    {
      "cell_type": "markdown",
      "source": [
        "**Наиболее употребительные функции из модуля numpy.linalg**\n",
        "\n",
        "|Функция|Описание|\n",
        "|:-|:-|\n",
        "|diag|Возвращает диагональные элементы квадратной матрицы в виде одномерного массива или преобразует одномерный массив в квадратную матрицу, в которой все элементы, кроме находящихся на главной диагонали, равны нулю|\n",
        "|dot|Вычисляет произведение матриц|\n",
        "|trace|Вычисляет след матрицы – сумму диагональных элементов|\n",
        "|det|Вычисляет определитель матрицы|\n",
        "|eig|Вычисляет собственные значения и собственные векторы квадратной матрицы|\n",
        "|inv|Вычисляет обратную матрицу|\n",
        "|solve|Решает линейную систему Ax = b, где A – квадратная матрица|\n",
        "|lstsq|Вычисляет решение уравнения y = Xb по методу наименьших квадратов|"
      ],
      "metadata": {
        "id": "Lz44YPWo6sqe"
      }
    },
    {
      "cell_type": "markdown",
      "source": [
        "## Контрольные вопросы\n",
        "\n",
        "1. Функциональные возможности пакета `Numerical Python`. Импорт `NumPy`.\n",
        "2. Что такое `NumPy ndarray`? Атрибуты данного объекта.\n",
        "3. Способы создания массива `ndarray`.\n",
        "4. Типы данных для `ndarray`. Приведение типов.\n",
        "5. Арифметические операции с массивами `NumPy`.\n",
        "6. Индексирование и вырезание.\n",
        "7. Индексирование срезами.\n",
        "8. Булево индексирование.\n",
        "9. Прихотливое индексирование\n",
        "10. Транспонирование массивов и перестановка осей.\n",
        "11. Методы генератора случайных чисел `NumPy`. Примеры получения случайной выборки, перестановки элементов, выборок из различных законов распределения.\n",
        "12. Принцип работы функции `numpy.where`.\n",
        "13. Математические и статистические операции. Примеры.\n",
        "14. Вычисление статистик по столбцам и строкам массива.\n",
        "15. Методы булевых массивов.\n",
        "16. Устранение дубликатов и другие теоретико-множественные операции.\n",
        "17. Файловый ввод-вывод массивов.\n",
        "18. Линейная алгебра. Пример решения системы уравнений с 3 неизвестными. Пример построения уравнения линейной зависимости по данным проведенного эксперимента (заданному набору точек $(x, y)$) с помощью метода наименьших квадратов.\n",
        "\n",
        "\n",
        "\n",
        "\n"
      ],
      "metadata": {
        "id": "4NhGcpOA6sw1"
      }
    }
  ]
}