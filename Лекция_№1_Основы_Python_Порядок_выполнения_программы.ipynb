{
  "cells": [
    {
      "cell_type": "markdown",
      "metadata": {
        "id": "view-in-github",
        "colab_type": "text"
      },
      "source": [
        "<a href=\"https://colab.research.google.com/github/sudlenia/Python-lections/blob/main/%D0%9B%D0%B5%D0%BA%D1%86%D0%B8%D1%8F_%E2%84%961_%D0%9E%D1%81%D0%BD%D0%BE%D0%B2%D1%8B_Python_%D0%9F%D0%BE%D1%80%D1%8F%D0%B4%D0%BE%D0%BA_%D0%B2%D1%8B%D0%BF%D0%BE%D0%BB%D0%BD%D0%B5%D0%BD%D0%B8%D1%8F_%D0%BF%D1%80%D0%BE%D0%B3%D1%80%D0%B0%D0%BC%D0%BC%D1%8B.ipynb\" target=\"_parent\"><img src=\"https://colab.research.google.com/assets/colab-badge.svg\" alt=\"Open In Colab\"/></a>"
      ]
    },
    {
      "cell_type": "markdown",
      "id": "7e09988e-0a35-4586-b1f9-3cb7a3bae3d2",
      "metadata": {
        "id": "7e09988e-0a35-4586-b1f9-3cb7a3bae3d2"
      },
      "source": [
        "# 1 Основные понятия языка Python"
      ]
    },
    {
      "cell_type": "code",
      "source": [],
      "metadata": {
        "id": "B-gKTyd8o-VU"
      },
      "id": "B-gKTyd8o-VU",
      "execution_count": null,
      "outputs": []
    },
    {
      "cell_type": "markdown",
      "id": "b636a338-66ed-41ff-9bc5-3f33885be7e9",
      "metadata": {
        "id": "b636a338-66ed-41ff-9bc5-3f33885be7e9"
      },
      "source": [
        "Язык программирования **Python** предлагает богатейший набор синтаксических конструкций, функций\n",
        "стандартной библиотеки и средств интерактивной разработки. Прежде чем мы приступим непосредственно к анализу данных с использованием специализированных библиотек, мы с вами познакомимся с основами программирования на языке **Python**.\n",
        "\n",
        "Мы с вами будем работать с интерактивной оболочкой Google Colab, которая позволяет выполнять инструкции Python по отдельности и сразу видеть результат.\n",
        "\n",
        "Выполните следующую инструкцию и посмотрите на результат:\n"
      ]
    },
    {
      "cell_type": "code",
      "execution_count": null,
      "id": "419074f6-c5b0-47e3-b8c6-2e791f8e7750",
      "metadata": {
        "id": "419074f6-c5b0-47e3-b8c6-2e791f8e7750",
        "outputId": "0cb4ce82-f735-4bfc-ae0b-9441b972dedf",
        "colab": {
          "base_uri": "https://localhost:8080/"
        }
      },
      "outputs": [
        {
          "output_type": "execute_result",
          "data": {
            "text/plain": [
              "4"
            ]
          },
          "metadata": {},
          "execution_count": 1
        }
      ],
      "source": [
        "2+2"
      ]
    },
    {
      "cell_type": "markdown",
      "id": "a1391f1e-a80d-4984-9e92-627f1414f78d",
      "metadata": {
        "id": "a1391f1e-a80d-4984-9e92-627f1414f78d"
      },
      "source": [
        "В Python запись **2+2** называется ***выражением***. Это наиболее фундаментальная разновидность программных инструкций языка. Выражение состоит из значений (таких как **2**) и операторов (таких как **+**), а их результатом всегда будет единственное значение. Это означает, что в коде Python выражения могут использоваться везде, где ожидается значение.\n",
        "\n",
        "В рассматриваемом примере результатом выражения **2+2** будет число 4. Одиночное значение без операторов тоже считается выражением, результат которого равен самому значению."
      ]
    },
    {
      "cell_type": "code",
      "execution_count": null,
      "id": "de5dbb7e-9107-4fab-a796-e7e0d35c06e5",
      "metadata": {
        "id": "de5dbb7e-9107-4fab-a796-e7e0d35c06e5",
        "outputId": "23bbb190-a6db-4cd4-ed07-655377c8dcca"
      },
      "outputs": [
        {
          "data": {
            "text/plain": [
              "2"
            ]
          },
          "execution_count": 2,
          "metadata": {},
          "output_type": "execute_result"
        }
      ],
      "source": [
        "2"
      ]
    },
    {
      "cell_type": "markdown",
      "id": "e5839a86-0b4c-4df1-bb1b-f3875fc7c3d3",
      "metadata": {
        "id": "e5839a86-0b4c-4df1-bb1b-f3875fc7c3d3"
      },
      "source": [
        "Кроме оператора **+**, существует множество других операторов. В таблице ниже приведены математические операторы Python.\n",
        "\n",
        "| Оператор | Операция | Пример | Результат |\n",
        "|:-:|:-|:-:|:-:|\n",
        "| **\\*\\*** | Возведение в степень | 2**3 | 8 |\n",
        "| **%** | Деление по модулю/остаток | 22%8 | 6 |\n",
        "| **//** | Целочисленное деление с отбрасыванием дробной части | 22//8 | 2 |\n",
        "| **/** | Деление | 22/8 | 2.75 |\n",
        "| **\\*** | Умножение | 3*5 | 15 |\n",
        "| **-** | Вычитание | 5-2 | 3 |\n",
        "| **+** | Сложение | 2+2 | 4 |"
      ]
    },
    {
      "cell_type": "markdown",
      "id": "fb68c939-f4ea-4ccc-a8b3-b94b66a743ae",
      "metadata": {
        "id": "fb68c939-f4ea-4ccc-a8b3-b94b66a743ae"
      },
      "source": [
        "Приоритет математических операторов Python соответствует порядку выполнения операций, принятому в математике.\n",
        "\n",
        "| Операции | Направление |\n",
        "|:-:|:-|\n",
        "| **\\*\\*** | Справа налево |\n",
        "| **\\* / // %** | Слева направо |\n",
        "| **+ -** | Слева направо |"
      ]
    },
    {
      "cell_type": "code",
      "execution_count": null,
      "id": "c523d99c-41b0-44bf-9d13-21fc80db19e2",
      "metadata": {
        "id": "c523d99c-41b0-44bf-9d13-21fc80db19e2",
        "outputId": "2adcaae4-590d-4daa-e4f0-1ff7b6365a24"
      },
      "outputs": [
        {
          "data": {
            "text/plain": [
              "20"
            ]
          },
          "execution_count": 10,
          "metadata": {},
          "output_type": "execute_result"
        }
      ],
      "source": [
        "2 + 3 * 6"
      ]
    },
    {
      "cell_type": "code",
      "execution_count": null,
      "id": "0c240c55-b6a5-4252-ada1-45fd407ba29d",
      "metadata": {
        "id": "0c240c55-b6a5-4252-ada1-45fd407ba29d",
        "outputId": "16ab72f3-1be8-4e08-f0f5-5a4b7a380b50"
      },
      "outputs": [
        {
          "data": {
            "text/plain": [
              "30"
            ]
          },
          "execution_count": 11,
          "metadata": {},
          "output_type": "execute_result"
        }
      ],
      "source": [
        "(2 + 3) * 6"
      ]
    },
    {
      "cell_type": "code",
      "execution_count": null,
      "id": "223f76dd-1827-4fbb-a7f3-2bb0667ba93f",
      "metadata": {
        "id": "223f76dd-1827-4fbb-a7f3-2bb0667ba93f",
        "outputId": "3c578db4-448b-4a29-a718-6841e5ac4075"
      },
      "outputs": [
        {
          "data": {
            "text/plain": [
              "256"
            ]
          },
          "execution_count": 12,
          "metadata": {},
          "output_type": "execute_result"
        }
      ],
      "source": [
        "2 ** 8"
      ]
    },
    {
      "cell_type": "code",
      "execution_count": null,
      "id": "c0261416-474c-4ce0-8e29-fd7249f5493c",
      "metadata": {
        "id": "c0261416-474c-4ce0-8e29-fd7249f5493c",
        "outputId": "635a8913-c219-410b-be24-57fa7bda7c3f"
      },
      "outputs": [
        {
          "data": {
            "text/plain": [
              "3.2857142857142856"
            ]
          },
          "execution_count": 13,
          "metadata": {},
          "output_type": "execute_result"
        }
      ],
      "source": [
        "23 / 7"
      ]
    },
    {
      "cell_type": "code",
      "execution_count": null,
      "id": "43f8f40e-3037-4afc-b70f-e50657c76006",
      "metadata": {
        "id": "43f8f40e-3037-4afc-b70f-e50657c76006",
        "outputId": "872998f5-6b74-43d2-f3e5-c0f7eb954349"
      },
      "outputs": [
        {
          "data": {
            "text/plain": [
              "3"
            ]
          },
          "execution_count": 14,
          "metadata": {},
          "output_type": "execute_result"
        }
      ],
      "source": [
        "23 // 7"
      ]
    },
    {
      "cell_type": "code",
      "execution_count": null,
      "id": "a2c3ba99-dd45-4513-92e4-20151898acb4",
      "metadata": {
        "id": "a2c3ba99-dd45-4513-92e4-20151898acb4",
        "outputId": "acfa424c-6ead-465c-e660-7577e34250ac"
      },
      "outputs": [
        {
          "data": {
            "text/plain": [
              "2"
            ]
          },
          "execution_count": 15,
          "metadata": {},
          "output_type": "execute_result"
        }
      ],
      "source": [
        "23 % 7"
      ]
    },
    {
      "cell_type": "code",
      "execution_count": null,
      "id": "d3245ba5-ff6e-4892-a812-d70c360ce999",
      "metadata": {
        "id": "d3245ba5-ff6e-4892-a812-d70c360ce999",
        "outputId": "20704637-75fa-4914-c4e2-365f4b9b8293"
      },
      "outputs": [
        {
          "data": {
            "text/plain": [
              "16.0"
            ]
          },
          "execution_count": 16,
          "metadata": {},
          "output_type": "execute_result"
        }
      ],
      "source": [
        "(5 - 1) * ((7 + 1) / (3 - 1))"
      ]
    },
    {
      "cell_type": "markdown",
      "id": "b990d95c-fce0-411c-90ac-fa2d26e3515d",
      "metadata": {
        "id": "b990d95c-fce0-411c-90ac-fa2d26e3515d"
      },
      "source": [
        "Как можно заметить, Python последовательно вычисляет отдельные части выражения до тех пор, пока не получит итоговое значение.\n",
        "\n",
        "Рассмотрим **пример** вычисления следующего выражения, расставив предварительно порядок действий:\n",
        "\n",
        "![Снимок экрана 2023-08-26 181208.png](data:image/png;base64,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)"
      ]
    },
    {
      "cell_type": "code",
      "execution_count": null,
      "id": "9034ccad-8be9-4bd6-87a6-47b1f95c83b5",
      "metadata": {
        "id": "9034ccad-8be9-4bd6-87a6-47b1f95c83b5",
        "outputId": "9cf83e0e-e204-4d7f-862c-0b44bcdc12a0"
      },
      "outputs": [
        {
          "data": {
            "text/plain": [
              "1544"
            ]
          },
          "execution_count": 17,
          "metadata": {},
          "output_type": "execute_result"
        }
      ],
      "source": [
        "1 + 3 * 2 ** 3 ** 2 + 7"
      ]
    },
    {
      "cell_type": "markdown",
      "id": "5aebffdb-95b4-4b2a-995e-f7604ae9766d",
      "metadata": {
        "id": "5aebffdb-95b4-4b2a-995e-f7604ae9766d"
      },
      "source": [
        "## 1.1 Переменные"
      ]
    },
    {
      "cell_type": "markdown",
      "id": "8061ea38-c6ed-44be-98a7-fe888982ffd9",
      "metadata": {
        "id": "8061ea38-c6ed-44be-98a7-fe888982ffd9"
      },
      "source": [
        "**Переменная** - область памяти компьютера, в которой может храниться одиночное значение. Переменная в Python не хранит значение напрямую — она хранит лишь ссылку на объект. Если вы хотите сохранить результат выражения для дальнейшей работы, то необходимо записать его в переменную.\n",
        "\n",
        "Для сохранения значений в переменных используется ***оператор присваивания***. Инструкция присваивания создает новые переменные и связывает с ними значения."
      ]
    },
    {
      "cell_type": "code",
      "execution_count": null,
      "id": "8c120e4c-3981-42da-8b7c-c6c3c85fe41a",
      "metadata": {
        "id": "8c120e4c-3981-42da-8b7c-c6c3c85fe41a",
        "outputId": "14687964-b9d6-450f-cc59-fe93b2f3a48d"
      },
      "outputs": [
        {
          "data": {
            "text/plain": [
              "140703380664936"
            ]
          },
          "execution_count": 41,
          "metadata": {},
          "output_type": "execute_result"
        }
      ],
      "source": [
        "a = 123\n",
        "id(a) # получение адреса в памяти"
      ]
    },
    {
      "cell_type": "markdown",
      "id": "7ddae097-a32c-449f-a216-add7c5b967bc",
      "metadata": {
        "id": "7ddae097-a32c-449f-a216-add7c5b967bc"
      },
      "source": [
        "![image.png](data:image/png;base64,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)"
      ]
    },
    {
      "cell_type": "code",
      "execution_count": null,
      "id": "52514ac3-8d40-499e-acbc-b5d286a171c3",
      "metadata": {
        "id": "52514ac3-8d40-499e-acbc-b5d286a171c3",
        "outputId": "d28010a0-ea23-4f85-e4d0-286f816c0d62"
      },
      "outputs": [
        {
          "name": "stdout",
          "output_type": "stream",
          "text": [
            "140703380664936\n",
            "140703380664936\n"
          ]
        }
      ],
      "source": [
        "# Посмотрим что произойдет, если одной переменной присвоить другую переменную\n",
        "\n",
        "b = a\n",
        "print(id(a))\n",
        "print(id(b))"
      ]
    },
    {
      "cell_type": "markdown",
      "id": "ded1ce9f-0641-4870-b0a8-eaf7ad905f80",
      "metadata": {
        "id": "ded1ce9f-0641-4870-b0a8-eaf7ad905f80"
      },
      "source": [
        "В примере выше Python не создает новый объект — он просто создает переменную, которая ссылается на тот же объект, что и переменная ***a***."
      ]
    },
    {
      "cell_type": "markdown",
      "id": "066d770e-c316-4c23-bba9-673d70bf49be",
      "metadata": {
        "id": "066d770e-c316-4c23-bba9-673d70bf49be"
      },
      "source": [
        "При первой записи значения в переменную происходит инициализация (создание) переменной (1). После этого переменную можно использовать в выражениях наряду с другими переменными и значениями. Когда в переменную записывается новое значение (2), прежнее значение теряется; именно поэтому в приведенном выше примере значение переменной ***a*** становится 42, а не 40. В таком случае говорят, что переменная перезаписана."
      ]
    },
    {
      "cell_type": "code",
      "execution_count": null,
      "id": "e5c20aea-fee8-40f4-bdb3-9b74cf58e119",
      "metadata": {
        "id": "e5c20aea-fee8-40f4-bdb3-9b74cf58e119",
        "outputId": "d7e5131a-f862-4540-acf6-b1c10d6c28a3"
      },
      "outputs": [
        {
          "data": {
            "text/plain": [
              "42"
            ]
          },
          "execution_count": 28,
          "metadata": {},
          "output_type": "execute_result"
        }
      ],
      "source": [
        "a = 40 # (1)\n",
        "b = 2\n",
        "a = a + b # (2)\n",
        "a"
      ]
    },
    {
      "cell_type": "markdown",
      "id": "fc4263c8-9fd7-4105-aac3-052f7de7bfa1",
      "metadata": {
        "id": "fc4263c8-9fd7-4105-aac3-052f7de7bfa1"
      },
      "source": [
        "### Имена переменных\n",
        "\n",
        "Переменной желательно дать описательное имя, чтобы было понятно, какие именно данные она содержит.\n",
        "Правила именования переменных:\n",
        "1. имя переменной должно представлять собой одно слово (без пробелов):\n",
        "2. в имени переменной могут использоваться только буквы, цифры и символы нижнего подчеркивания (_);\n",
        "3. имя переменной не может начинаться с цифры;\n",
        "4. в имени переменной нельзя использовать ключевые слова языка Python, которые представлены в таблице ниже.\n",
        "\n",
        "![Снимок экрана 2023-08-26 191822.png](data:image/png;base64,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)"
      ]
    },
    {
      "cell_type": "markdown",
      "id": "b1d4b1e4-e335-4009-81b6-7d9339040687",
      "metadata": {
        "id": "b1d4b1e4-e335-4009-81b6-7d9339040687"
      },
      "source": [
        "## 1.2 Типы данных: целые числа, вещественные числа и строки"
      ]
    },
    {
      "cell_type": "markdown",
      "id": "953ee972-8da9-4bcc-ab43-943f3b7b67a6",
      "metadata": {
        "id": "953ee972-8da9-4bcc-ab43-943f3b7b67a6"
      },
      "source": [
        "Каждая переменная в Python — объект с определенным типом данных. Тип переменной – это тип значения, на которое она указывает.\n",
        "\n",
        "**Тип** переменной нужен для того, чтобы:\n",
        "* определить область допустимых значений переменной;\n",
        "* определить допустимые операции с переменной;\n",
        "* определить, какой объем памяти нужно выделить переменной и в каком формате будут храниться данные.\n",
        "\n",
        "| Тип данных | Примеры | Описание |\n",
        "|:-|:-|-|\n",
        "| Целые числа **(int)** | -2, -1, 0, 1, 2 | Целые числа неограниченной длины |\n",
        "| Числа с плавающей точкой (вещественные) **(float)** | -1.25, -1.0, -0.5, 0.0, 0.5 | Целая и дробная части вещественного числа разделяется точкой (точность до 15 знаков после запятой) |\n",
        "| Логические значения **(bool)** | True, False | True (истина, «да») или False (ложь, «нет») |\n",
        "| Строки **(str)** | 'a', 'abc', '11', '123a', 'Hello!' | Последовательность символов Юникода. Для объявления строк можно использовать двойные или одинарные кавычки |\n",
        "| Списки **(list)** | ['a', 1, 12.0] | Упорядоченная последовательность элементов. Элементы списка не обязательно должно быть одного типа |\n",
        "| Кортежи **(tuple)** | (1, 2.3, 'abc') | Упорядоченная последовательность элементов, похожая на список. Единственное отличие — кортежи неизменяемы. После их объявления вы не сможете изменить значения внутри кортежа |\n",
        "| Множество **(set)** | {1, 2, 3.0, 'abc'} | Неупорядоченный набор уникальных элементов |\n",
        "| Словарь **(dict)** | {'Россия': 'Москва', 'Китай': 'Пекин'} | Неупорядоченный набор пар «ключ-значение» |"
      ]
    },
    {
      "cell_type": "markdown",
      "source": [
        "В языке Python используется динамическая типизация, это значит, что тип переменной определяется по значению, которое ей присваивается (а не при объявлении переменной). Таким образом, в Python переменная не привязана жестко к определенному типу.\n",
        "\n",
        "Так, при присвоении строки в двойных или одинарных кавычках переменная имеет тип str. При присвоении целого числа Python автоматически определяет тип переменной как int. Чтобы определить переменную как объект float, ей присваивается дробное число, в котором разделителем целой и дробной части является точка.\n",
        "\n",
        "При этом в разных частях программы одна и та же переменная может хранить значения разных типов:"
      ],
      "metadata": {
        "id": "0ml4zzT567ys"
      },
      "id": "0ml4zzT567ys"
    },
    {
      "cell_type": "code",
      "source": [
        "userId = \"abc\"  # тип str\n",
        "print(userId)\n",
        "\n",
        "userId = 234  # тип int\n",
        "print(userId)"
      ],
      "metadata": {
        "colab": {
          "base_uri": "https://localhost:8080/"
        },
        "id": "xQ2vn9GuWDqm",
        "outputId": "6e78d592-6e23-4f49-a3e2-4dc7570c2994"
      },
      "id": "xQ2vn9GuWDqm",
      "execution_count": null,
      "outputs": [
        {
          "output_type": "stream",
          "name": "stdout",
          "text": [
            "abc\n",
            "234\n"
          ]
        }
      ]
    },
    {
      "cell_type": "markdown",
      "id": "db9e47c9-00f2-4954-b7bd-b9a2da24ea1b",
      "metadata": {
        "id": "db9e47c9-00f2-4954-b7bd-b9a2da24ea1b"
      },
      "source": [
        "С помощью функции **type()** можно узнать класс, к которому принадлежит переменная. А функция **isinstance()** проверяет принадлежность объекта к определенному классу."
      ]
    },
    {
      "cell_type": "code",
      "execution_count": null,
      "id": "69656165-ac52-449d-8840-eb0ae6ddb125",
      "metadata": {
        "id": "69656165-ac52-449d-8840-eb0ae6ddb125",
        "outputId": "a7f01514-9a82-49e1-d11f-8ccaf4e5c45b"
      },
      "outputs": [
        {
          "data": {
            "text/plain": [
              "float"
            ]
          },
          "execution_count": 19,
          "metadata": {},
          "output_type": "execute_result"
        }
      ],
      "source": [
        "type(1.0)"
      ]
    },
    {
      "cell_type": "code",
      "execution_count": null,
      "id": "a81d47c9-4041-48cf-9acb-5b69bce35516",
      "metadata": {
        "id": "a81d47c9-4041-48cf-9acb-5b69bce35516",
        "outputId": "afdf62a5-2ebb-40b2-87a4-2ba44a96e35e"
      },
      "outputs": [
        {
          "data": {
            "text/plain": [
              "False"
            ]
          },
          "execution_count": 20,
          "metadata": {},
          "output_type": "execute_result"
        }
      ],
      "source": [
        "isinstance('11', int)"
      ]
    },
    {
      "cell_type": "markdown",
      "id": "27ffdf5d-21ce-43e9-a682-0139074b385c",
      "metadata": {
        "id": "27ffdf5d-21ce-43e9-a682-0139074b385c"
      },
      "source": [
        "### Операции со строками"
      ]
    },
    {
      "cell_type": "markdown",
      "id": "3bdd1c38-f48b-43c7-a59f-3a77d88d3565",
      "metadata": {
        "id": "3bdd1c38-f48b-43c7-a59f-3a77d88d3565"
      },
      "source": [
        "Смысл оператора может меняться в зависимости от типа операндов (используемых значений).\n",
        "\n",
        "**Оператор +** работает со строками, но это не сложение в математическом смысле. Вместо этого он выполняет их объединение (сцепление – concatenation), т.е. соединение конца одной строки с началом другой. Например:"
      ]
    },
    {
      "cell_type": "code",
      "execution_count": null,
      "id": "a02a5a6c-0748-4d1b-99df-fbaf9fc6f7ee",
      "metadata": {
        "id": "a02a5a6c-0748-4d1b-99df-fbaf9fc6f7ee",
        "outputId": "bff1f39c-eb6d-4dbb-ede0-960aca9fc13c"
      },
      "outputs": [
        {
          "data": {
            "text/plain": [
              "25"
            ]
          },
          "execution_count": 36,
          "metadata": {},
          "output_type": "execute_result"
        }
      ],
      "source": [
        "first = 10\n",
        "second = 15\n",
        "first + second"
      ]
    },
    {
      "cell_type": "code",
      "execution_count": null,
      "id": "cb661532-3c1f-422c-b508-c4377d42eead",
      "metadata": {
        "id": "cb661532-3c1f-422c-b508-c4377d42eead",
        "outputId": "3eb4acbb-f14e-4fd9-91fd-4ad1a1738ac9"
      },
      "outputs": [
        {
          "data": {
            "text/plain": [
              "'1015'"
            ]
          },
          "execution_count": 37,
          "metadata": {},
          "output_type": "execute_result"
        }
      ],
      "source": [
        "first = '10'\n",
        "second = '15'\n",
        "first + second"
      ]
    },
    {
      "cell_type": "markdown",
      "id": "f704111f-298d-4b36-82d6-96f6d6a13bdd",
      "metadata": {
        "id": "f704111f-298d-4b36-82d6-96f6d6a13bdd"
      },
      "source": [
        "**Оператор \\*** также работает со строками, умножая их содержимое на целое число (операция репликации), т.е. повторяя содержимое строки заданное целое число раз. Например:"
      ]
    },
    {
      "cell_type": "code",
      "execution_count": null,
      "id": "e17cd062-35d8-4800-9cb2-1b34236ec4f0",
      "metadata": {
        "id": "e17cd062-35d8-4800-9cb2-1b34236ec4f0",
        "outputId": "9545c1ef-c755-400c-df6f-afad802bd4c8"
      },
      "outputs": [
        {
          "data": {
            "text/plain": [
              "'Test Test Test '"
            ]
          },
          "execution_count": 38,
          "metadata": {},
          "output_type": "execute_result"
        }
      ],
      "source": [
        "first = 'Test '\n",
        "second = 3\n",
        "first * second"
      ]
    },
    {
      "cell_type": "markdown",
      "id": "b91e1f1e-76bd-4424-8cb5-ac431b5f7bd4",
      "metadata": {
        "id": "b91e1f1e-76bd-4424-8cb5-ac431b5f7bd4"
      },
      "source": [
        "## Ваша первая программа"
      ]
    },
    {
      "cell_type": "code",
      "execution_count": null,
      "id": "25e81039-436e-4398-94fd-b90371580781",
      "metadata": {
        "id": "25e81039-436e-4398-94fd-b90371580781",
        "outputId": "da388951-0608-442a-8cc4-d2349073c779"
      },
      "outputs": [
        {
          "name": "stdout",
          "output_type": "stream",
          "text": [
            "Здравствуй, мир!\n"
          ]
        },
        {
          "name": "stdin",
          "output_type": "stream",
          "text": [
            "Как тебя зовут? Андрей\n"
          ]
        },
        {
          "name": "stdout",
          "output_type": "stream",
          "text": [
            "Рад познакомиться с тобой, Андрей\n",
            "В твоем имени 6 букв(ы)\n"
          ]
        },
        {
          "name": "stdin",
          "output_type": "stream",
          "text": [
            "Сколько тебе лет? 20\n"
          ]
        },
        {
          "name": "stdout",
          "output_type": "stream",
          "text": [
            "Через год тебе будет 21 год.\n"
          ]
        }
      ],
      "source": [
        "# Эта программа выдает приветствие и запрашивает имя пользователя\n",
        "\n",
        "print('Здравствуй, мир!')\n",
        "name = input('Как тебя зовут?') # запрос имени\n",
        "print('Рад познакомиться с тобой, ' + name)\n",
        "print('В твоем имени', len(name), 'букв(ы)')\n",
        "age = input('Сколько тебе лет?') # запрос возраста\n",
        "print('Через год тебе будет ' + str(int(age) + 1) + ' год.')"
      ]
    },
    {
      "cell_type": "markdown",
      "id": "94561946-1d1a-494c-8378-14ae59d9f2d5",
      "metadata": {
        "id": "94561946-1d1a-494c-8378-14ae59d9f2d5"
      },
      "source": [
        "**Анализ программы**\n",
        "\n",
        "Функция **print()** необходима для вывода сообщения на экран.\n",
        "\n",
        "Функция **input()** ожидает, пока пользователь не введет с клавиатуры какой-нибудь текст и нажмет Enter. В скобках можно указать текст-подсказку, сообщающий пользователю, что именно он должен ввести.\n",
        "\n",
        "Функция **len()** в нашем случае получает в качестве аргумента строковую переменную и возвращает кол-во символов в данной строке.\n",
        "\n",
        "Если необходимо объединить целое число, например, 20 со строкой, чтобы передать результат в функцию print(), то число должно быть представлено в строковом виде как '20'. Соответствующее преобразование позволяет выполнить функция **str()**. Данную функцию удобно использовать, когда необходимо конкатенировать целое или вещественное число со строкой.\n",
        "\n",
        "функция **int()** позволяет выполнить операции над числом, которое хранится в строковом виде. Например, функция input() всегда возвращает строку, даже когда пользователь вводит число."
      ]
    },
    {
      "cell_type": "code",
      "execution_count": null,
      "id": "5fc824bf-b046-40cd-8594-ad7bb9f9afb9",
      "metadata": {
        "id": "5fc824bf-b046-40cd-8594-ad7bb9f9afb9",
        "outputId": "254e5369-cfc7-4b12-d5da-f3f2a0c3fd95"
      },
      "outputs": [
        {
          "name": "stdin",
          "output_type": "stream",
          "text": [
            " 123\n"
          ]
        },
        {
          "data": {
            "text/plain": [
              "str"
            ]
          },
          "execution_count": 32,
          "metadata": {},
          "output_type": "execute_result"
        }
      ],
      "source": [
        "a = input()\n",
        "type(a)"
      ]
    },
    {
      "cell_type": "code",
      "execution_count": null,
      "id": "ccd74dc3-3fbb-4046-bd93-9b0f5503f7a6",
      "metadata": {
        "id": "ccd74dc3-3fbb-4046-bd93-9b0f5503f7a6",
        "outputId": "15bee433-e2b2-4483-a908-df05c076ad99"
      },
      "outputs": [
        {
          "data": {
            "text/plain": [
              "125"
            ]
          },
          "execution_count": 33,
          "metadata": {},
          "output_type": "execute_result"
        }
      ],
      "source": [
        "int(a)+2"
      ]
    },
    {
      "cell_type": "markdown",
      "id": "706951bb-6f23-4703-9c1e-73448c2adeba",
      "metadata": {
        "id": "706951bb-6f23-4703-9c1e-73448c2adeba"
      },
      "source": [
        "Функцию **int()** удобно использовать для округления вещественных чисел \"вниз\" - с отбрасыванием дробной части."
      ]
    },
    {
      "cell_type": "code",
      "execution_count": null,
      "id": "816d4227-b36a-405b-af0f-983a125d02e0",
      "metadata": {
        "id": "816d4227-b36a-405b-af0f-983a125d02e0",
        "outputId": "75735b6b-dcc6-4b5c-ca78-e96d6071d0a9"
      },
      "outputs": [
        {
          "data": {
            "text/plain": [
              "7"
            ]
          },
          "execution_count": 35,
          "metadata": {},
          "output_type": "execute_result"
        }
      ],
      "source": [
        "int(7.9)"
      ]
    },
    {
      "cell_type": "markdown",
      "id": "027cf6b6-7c40-40dc-a886-1220dc105ca4",
      "metadata": {
        "id": "027cf6b6-7c40-40dc-a886-1220dc105ca4"
      },
      "source": [
        "## Подведем итог"
      ]
    },
    {
      "cell_type": "markdown",
      "id": "5bb5578c-3ec9-497a-abbd-a07bce4e0219",
      "metadata": {
        "id": "5bb5578c-3ec9-497a-abbd-a07bce4e0219"
      },
      "source": [
        "Выражения и их компоненты - операторы, переменные и вызовы функций - это те строительные блоки, на основе которых создаются программы. Освоив выражения, вы сможете с помощью Python оперировать большими объемами данных."
      ]
    },
    {
      "cell_type": "markdown",
      "id": "8cf2a221-871b-49e7-9372-86c721b8133c",
      "metadata": {
        "id": "8cf2a221-871b-49e7-9372-86c721b8133c"
      },
      "source": [
        "## Контрольные вопросы"
      ]
    },
    {
      "cell_type": "markdown",
      "id": "2223e44d-4795-46aa-bc7d-245203bcb2a9",
      "metadata": {
        "id": "2223e44d-4795-46aa-bc7d-245203bcb2a9"
      },
      "source": [
        "1. Что из перечисленного ниже является оператором, а что - значением?\n",
        "    * \\*\n",
        "    * 'привет'\n",
        "    * -88.8\n",
        "    * \\-\n",
        "    * /\n",
        "    * \\+\n",
        "    * 5\n",
        "2. Что такое переменная? Как транслятор определяет тип переменной?\n",
        "3. Опишите правила построения имён переменных в языке Python.\n",
        "4. Зачем нужен тип переменной?\n",
        "5. Что из этого является переменной, а что - строкой?\n",
        "    * abc\n",
        "    * 'abc'\n",
        "\n",
        "6. Назовите основные типы данных в Python.\n",
        "7. Из чего состоит выражение? К чему сводится любое выражение?\n",
        "8. Почему apple - допустимое имя переменной, а 100 - нет?\n",
        "9. Какие три функции можно использовать для получения целочисленного, вещественного и строкового представления числа?\n",
        "10. Почему следующее выражение вызывает ошибку? Как ее можно исправить?\n",
        "\n",
        "    ```'Я съел ' + 5 + ' котлет'```\n",
        "11. Приоритет математических операторов.\n",
        "12. Написать программу вычисления 𝑦 при целых значениях 𝑎 и 𝑏. Значения переменных 𝑎 и 𝑏 вводятся с клавиатуры.\n",
        "\n",
        "$$ y = b^3*2*a^{2*b^2}+a+10-5*a*b $$\n",
        "\n",
        "13. Предположим, что мы выполняем следующие инструкции присваивания:\n",
        "\n",
        "    ```\n",
        "    width = 17\n",
        "    height = 12.0\n",
        "    ```\n",
        "\n",
        "    Для каждого из приведенных ниже выражений напишите значение, полученное при его вычислении, и тип (значения выражения).\n",
        "    \n",
        "    * width // 2\n",
        "    * width / 2.0\n",
        "    * height / 3\n",
        "    * 1 + 2 * 5\n",
        "\n",
        "  Используйте интерпретатор Python, чтобы проверить правильность своих ответов.\n",
        "\n",
        "14. Напишите программу, которая предлагает пользователю ввести температуру по шкале Цельсия, выполняет преобразование в температуру по шкале Фаренгейта и выводит преобразованное значение температуры."
      ]
    },
    {
      "cell_type": "markdown",
      "id": "67d83212-1a89-4ac7-81b3-697573f4bc43",
      "metadata": {
        "id": "67d83212-1a89-4ac7-81b3-697573f4bc43"
      },
      "source": [
        "# 2 Порядок выполнения программы"
      ]
    },
    {
      "cell_type": "markdown",
      "id": "7614e04c-19e9-4659-9933-14bdb45e35f0",
      "metadata": {
        "id": "7614e04c-19e9-4659-9933-14bdb45e35f0"
      },
      "source": [
        "Мы с вами познакомились с простейшими инструкциями, которые выполнялись в программе одна за другой. Однако не всегда достаточно последовательного выполнения команд. Иногда необходимо проанализировать выражение и принять решение: какие инструкции следует пропустить, а какие повторить. В Python имеются управляющие инструкции, или инструкции ветвления, которые позволяют выбрать, какой фрагмент программы следует выполнить и при каких условиях."
      ]
    },
    {
      "cell_type": "markdown",
      "id": "2c88c386-2625-49b1-96fd-1b7a6ff16e28",
      "metadata": {
        "id": "2c88c386-2625-49b1-96fd-1b7a6ff16e28"
      },
      "source": [
        "## Булевы значения\n",
        "Целочисленные, вещественные и строковые переменные могут иметь неограниченное количество значений, в то время как булев тип данных (bool) предполагает всего два возможных значения *True* (истина) и *False* (ложь). В коде Python булевы значения *True* и *False* не заключаются в кавычки и всегда начинаются с прописной буквы *T* или *F*, тогда как остальная часть слова записывается строчными буквами.\n",
        "\n",
        "Как и любые другие значения, булевы значения можно использовать в выражениях и сохранять в переменных."
      ]
    },
    {
      "cell_type": "markdown",
      "id": "251e3074-ba3d-4984-8f5d-ce1ea4aa45b3",
      "metadata": {
        "id": "251e3074-ba3d-4984-8f5d-ce1ea4aa45b3"
      },
      "source": [
        "## Операторы сравнения\n",
        "Операторы сравнения сопоставляют два значения и возвращают результат в виде булева значения.\n",
        "\n",
        "| Оператор | Операция |\n",
        "|:-:|:-|\n",
        "| **==** | Равно |\n",
        "| **!=** | Не равно |\n",
        "| **<** | Меньше |\n",
        "| **>** | Больше |\n",
        "| **\\*** | Умножение |\n",
        "| **<=** | Меньше или равно |\n",
        "| **>=** | Больше или равно |"
      ]
    },
    {
      "cell_type": "code",
      "execution_count": null,
      "id": "dc19547f-9d37-42ec-b870-e7dac9247763",
      "metadata": {
        "id": "dc19547f-9d37-42ec-b870-e7dac9247763",
        "outputId": "544e3b1a-da0f-4e83-9f77-2e5d560c1933"
      },
      "outputs": [
        {
          "data": {
            "text/plain": [
              "True"
            ]
          },
          "execution_count": 3,
          "metadata": {},
          "output_type": "execute_result"
        }
      ],
      "source": [
        "42 == 42"
      ]
    },
    {
      "cell_type": "code",
      "execution_count": null,
      "id": "cb855ff3-7633-47dd-a066-f8a308586431",
      "metadata": {
        "id": "cb855ff3-7633-47dd-a066-f8a308586431",
        "outputId": "d92206cb-c1d7-4081-b1bc-88cb4a6d9059"
      },
      "outputs": [
        {
          "data": {
            "text/plain": [
              "False"
            ]
          },
          "execution_count": 5,
          "metadata": {},
          "output_type": "execute_result"
        }
      ],
      "source": [
        "2 != 2"
      ]
    },
    {
      "cell_type": "code",
      "execution_count": null,
      "id": "467e81d8-350a-45d4-8188-50189322fc22",
      "metadata": {
        "id": "467e81d8-350a-45d4-8188-50189322fc22",
        "outputId": "d35098d0-722f-4663-f87c-bc0bfe322f42"
      },
      "outputs": [
        {
          "data": {
            "text/plain": [
              "False"
            ]
          },
          "execution_count": 6,
          "metadata": {},
          "output_type": "execute_result"
        }
      ],
      "source": [
        "'привет' == 'Привет'"
      ]
    },
    {
      "cell_type": "code",
      "execution_count": null,
      "id": "18c9b156-85f1-42cd-a2b5-8a07bd3eab6d",
      "metadata": {
        "id": "18c9b156-85f1-42cd-a2b5-8a07bd3eab6d",
        "outputId": "bf11f315-0126-4c21-e708-8c4311a5fad5"
      },
      "outputs": [
        {
          "data": {
            "text/plain": [
              "False"
            ]
          },
          "execution_count": 7,
          "metadata": {},
          "output_type": "execute_result"
        }
      ],
      "source": [
        "'абвгд' > 'абгде'"
      ]
    },
    {
      "cell_type": "markdown",
      "id": "64d35d73-2959-42ed-8a09-7e6a2f78b80e",
      "metadata": {
        "id": "64d35d73-2959-42ed-8a09-7e6a2f78b80e"
      },
      "source": [
        "## Булевы операторы\n",
        "\n",
        "Для сравнения булевых значений используются три булевых оператора: **and**, **or** и **not**. Подобно операторам сравнения, они вычисляют булевы выражения, сводя их к единственному булевому значению.\n",
        "\n",
        "Операторы **and** и **or** всегда работают с двумя булевыми значениями (или выражениями), поэтому их называют бинарными. Оператор **and** возвращает *True* только в одном случае, когда оба булевых операнда равны *True*; иначе результат равен *False*.\n",
        "\n",
        "Таблица истинности для оператора **and**:\n",
        "\n",
        "| Выражение | Результат |\n",
        "|:-:|:-|\n",
        "| True **and** True | True |\n",
        "| True **and** False | False |\n",
        "| False **and** True | False |\n",
        "| False **and** False | False |\n",
        "\n",
        "Оператор **or** возвращает *True*, когда **хотя бы один** из булевых операндов равен *True*; иначе результат равен *False*.\n",
        "\n",
        "Таблица истинности для оператора **or**:\n",
        "\n",
        "| Выражение | Результат |\n",
        "|:-:|:-|\n",
        "| True **or** True | True |\n",
        "| True **or** False | True |\n",
        "| False **or** True | True |\n",
        "| False **or** False | False |\n",
        "\n",
        "В отличие от операторов **and** и **or**, оператор **not** применяется только к одному булевому значению (выражению), поэтому его называют унарным. Он возвращает значение противоположное значению операнда.\n",
        "\n",
        "Таблица истинности для оператора **not**:\n",
        "\n",
        "| Выражение | Результат |\n",
        "|:-:|:-|\n",
        "| **not** True | False |\n",
        "| **not** False | True |"
      ]
    },
    {
      "cell_type": "markdown",
      "id": "e7ac0e32-8ca1-4866-bffa-68ee644be8d5",
      "metadata": {
        "id": "e7ac0e32-8ca1-4866-bffa-68ee644be8d5"
      },
      "source": [
        "## Сочетание операторов сравнения и булевых операторов\n",
        "\n",
        "Поскольку операторы сравнения возвращают булевы значения, их можно использовать в выражениях совместно с булевыми операторами.\n",
        "Рассмотрим пример вычисления следующего выражения:"
      ]
    },
    {
      "cell_type": "code",
      "execution_count": null,
      "id": "2dceffe1-00be-4761-90e6-a8b2ca3b1ea1",
      "metadata": {
        "id": "2dceffe1-00be-4761-90e6-a8b2ca3b1ea1",
        "outputId": "5c95d60f-077d-47a7-ef51-715a9aee6621"
      },
      "outputs": [
        {
          "data": {
            "text/plain": [
              "False"
            ]
          },
          "execution_count": 8,
          "metadata": {},
          "output_type": "execute_result"
        }
      ],
      "source": [
        "(4 < 5) and (5 >= 6)"
      ]
    },
    {
      "cell_type": "markdown",
      "id": "5aca3bb8-56f1-4441-8174-96e94e875edd",
      "metadata": {
        "id": "5aca3bb8-56f1-4441-8174-96e94e875edd"
      },
      "source": [
        "Сначала компьютер вычисляет левое выражение (4 < 5), затем – правое (5 >= 6). Когда оба этих результата становятся известными, вычисляется результат всего выражения в виде единственного булевого значения.\n",
        "\n",
        "Подобно математическим операторам, булевы операторы подчиняются приоритету операций. Сначала вычисляются все математические операторы и операторы сравнения, затем – операторы **not**, далее – операторы **and** и в последнюю очередь – операторы **or** (порядок вычислений можно изменить с помощью скобок)."
      ]
    },
    {
      "cell_type": "markdown",
      "id": "5f387000-e2c2-45cb-a156-578dd30de11c",
      "metadata": {
        "id": "5f387000-e2c2-45cb-a156-578dd30de11c"
      },
      "source": [
        "## Блоки кода\n",
        "\n",
        "Строки кода Python могут группироваться в блоки. О том, где начинается и заканчивается блок, можно судить по отступам в коде. В отношении блоков действуют следующие три правила:\n",
        "\n",
        "1. Признаком начала блока служит увеличение отступа.\n",
        "2. Блоки могут содержать вложенные блоки.\n",
        "3. Признаком конца блока служит уменьшение отступа до нулевой величины или до величины отступа внешнего блока.\n",
        "\n",
        "Рассмотрим пример:"
      ]
    },
    {
      "cell_type": "code",
      "execution_count": null,
      "id": "77f32ac6-552a-4168-8149-5515ffe41ee4",
      "metadata": {
        "id": "77f32ac6-552a-4168-8149-5515ffe41ee4",
        "outputId": "a575746a-52ba-4ed9-a60c-73c87e2a4325"
      },
      "outputs": [
        {
          "name": "stdin",
          "output_type": "stream",
          "text": [
            "Введите Ваше имя:  Андрей\n"
          ]
        },
        {
          "name": "stdout",
          "output_type": "stream",
          "text": [
            "Привет, Андрей\n"
          ]
        },
        {
          "name": "stdin",
          "output_type": "stream",
          "text": [
            "Введите пароль:  123456\n"
          ]
        },
        {
          "name": "stdout",
          "output_type": "stream",
          "text": [
            "Предоставлен доступ\n"
          ]
        }
      ],
      "source": [
        "name = 'Андрей'\n",
        "password = '123456'\n",
        "if input('Введите Ваше имя: ') == name:\n",
        "    print('Привет,', name) # (1)\n",
        "    if input('Введите пароль: ') == password:\n",
        "        print('Предоставлен доступ') # (2)\n",
        "    else:\n",
        "        print('Неверный пароль') # (3)"
      ]
    },
    {
      "cell_type": "markdown",
      "id": "65e17d67-bdcf-4b04-8033-14d374ab5404",
      "metadata": {
        "id": "65e17d67-bdcf-4b04-8033-14d374ab5404"
      },
      "source": [
        "Первый блок кода (1) начинается строкой print('Привет,', name) и включает все последующие строки. В этом блоке есть вложенный блок (2), содержащий всего одну строку: print('Предоставлен доступ'). Третий блок (3) также состоит только из одной строки: print('Неверный пароль')."
      ]
    },
    {
      "cell_type": "markdown",
      "id": "e354adf4-3677-4c30-9004-0632d0282129",
      "metadata": {
        "id": "e354adf4-3677-4c30-9004-0632d0282129"
      },
      "source": [
        "## 2.1 Условный оператор"
      ]
    },
    {
      "cell_type": "markdown",
      "id": "bf390400-60f8-4a4f-9576-57cfb487fa41",
      "metadata": {
        "id": "bf390400-60f8-4a4f-9576-57cfb487fa41"
      },
      "source": [
        "Условный оператор можно реализовать в полной или сокращенной формах."
      ]
    },
    {
      "cell_type": "markdown",
      "id": "93b1f4e1-7bb0-4c8a-b316-c3bb9504efc9",
      "metadata": {
        "id": "93b1f4e1-7bb0-4c8a-b316-c3bb9504efc9"
      },
      "source": [
        "### Полная форма условного оператора"
      ]
    },
    {
      "cell_type": "markdown",
      "id": "6058869f-2f7b-4ed2-b40e-6b2fa00c3095",
      "metadata": {
        "id": "6058869f-2f7b-4ed2-b40e-6b2fa00c3095"
      },
      "source": [
        "Полная форма условного оператора имеет следующий синтаксис:\n",
        "\n",
        "```\n",
        "if условие:\n",
        "    оператор P1\n",
        "else:\n",
        "    оператор P2\n",
        "```\n",
        "\n",
        "**Алгоритм работы**: сначала вычисляется логическое выражение (условие). Если результат - True (Истина), то мы переходим к выполнению оператора P1, а оператор P2 пропускается. Если результат проверки условия - False (Ложь), то выполняется оператор P2, а оператор P1 пропускается.\n",
        "\n",
        "Например, в следующем коде в зависимости от результата сравнения двух переменных выводится тот или иной ответ. Оператор if – это блочный оператор,  поэтому отступы в коде обязательны."
      ]
    },
    {
      "cell_type": "code",
      "execution_count": null,
      "id": "5320662a-88e9-49fa-9ea3-b6672cc9b51b",
      "metadata": {
        "id": "5320662a-88e9-49fa-9ea3-b6672cc9b51b",
        "outputId": "983fd4ae-5290-4d11-d8d9-a43a69eb83da"
      },
      "outputs": [
        {
          "name": "stdin",
          "output_type": "stream",
          "text": [
            "Введите значение a:  5\n",
            "Введите значение b:  8\n"
          ]
        },
        {
          "name": "stdout",
          "output_type": "stream",
          "text": [
            "Выполнение 1 ветви\n"
          ]
        }
      ],
      "source": [
        "a = int(input(\"Введите значение a: \"))\n",
        "b = int(input(\"Введите значение b: \"))\n",
        "\n",
        "if a < b:\n",
        "    print(\"Выполнение 1 ветви\")\n",
        "else:\n",
        "     print(\"Выполнение 2 ветви\")"
      ]
    },
    {
      "cell_type": "markdown",
      "id": "f5c89c18-87ae-4a54-8862-07dce392d1aa",
      "metadata": {
        "id": "f5c89c18-87ae-4a54-8862-07dce392d1aa"
      },
      "source": [
        "### Сокращенная форма условного оператора\n",
        "\n",
        "Если необходимо выполнить некоторое действие только при истинности проверяемого условия, то в таком случае применяется сокращенный условный оператор (без альтернативного блока else).\n",
        "\n",
        "Синтаксис:\n",
        "```\n",
        "if условие:   \n",
        "    оператор P1\n",
        "```"
      ]
    },
    {
      "cell_type": "code",
      "execution_count": null,
      "id": "f2402549-8f69-4f03-b146-0651bfb1c9f0",
      "metadata": {
        "id": "f2402549-8f69-4f03-b146-0651bfb1c9f0",
        "outputId": "109b496d-f74e-4deb-e64f-b24b3ae52ead"
      },
      "outputs": [
        {
          "name": "stdin",
          "output_type": "stream",
          "text": [
            "Введите значение a:  5\n",
            "Введите значение b:  8\n"
          ]
        },
        {
          "name": "stdout",
          "output_type": "stream",
          "text": [
            "Выполнение 1 ветви\n"
          ]
        }
      ],
      "source": [
        "a = int(input(\"Введите значение a: \"))\n",
        "b = int(input(\"Введите значение b: \"))\n",
        "\n",
        "if a < b:\n",
        "    print(\"Выполнение 1 ветви\")"
      ]
    },
    {
      "cell_type": "markdown",
      "id": "f6f8db06-5f30-44c8-aaf1-4ebfa4fa3394",
      "metadata": {
        "id": "f6f8db06-5f30-44c8-aaf1-4ebfa4fa3394"
      },
      "source": [
        "### Вложенные условия\n",
        "\n",
        "Внутри условного оператора может находиться другой условный оператор. Ограничений для уровней вложенности в Python не предусмотрено, а регулируются они так же отступами.\n",
        "\n",
        "**Пример 1.** Проверим принадлежность числа диапазону чисел от 1 до 10.\n"
      ]
    },
    {
      "cell_type": "code",
      "execution_count": null,
      "id": "e14c4f0d-19a7-4cf9-8459-5495ccd7c3aa",
      "metadata": {
        "id": "e14c4f0d-19a7-4cf9-8459-5495ccd7c3aa",
        "outputId": "1e4e7554-f090-4169-83dc-f98a4e21cb05"
      },
      "outputs": [
        {
          "name": "stdin",
          "output_type": "stream",
          "text": [
            "Введите число:  8\n"
          ]
        },
        {
          "name": "stdout",
          "output_type": "stream",
          "text": [
            "Число находится в диапазоне чисел от 1 до 10.\n"
          ]
        }
      ],
      "source": [
        "x = int(input('Введите число: '))\n",
        "if x >= 1:\n",
        "    if x <= 10:\n",
        "        print('Число находится в диапазоне чисел от 1 до 10.')\n",
        "    else:\n",
        "        print('Число > 10')\n",
        "else:\n",
        "        print('Число < 1')"
      ]
    },
    {
      "cell_type": "markdown",
      "id": "eda31bea-a42b-477e-b154-f016fac7a22d",
      "metadata": {
        "id": "eda31bea-a42b-477e-b154-f016fac7a22d"
      },
      "source": [
        "**Пример 2.** Рассчитаем размер комиссионного вознаграждения продавцу: если сумма продаж меньше 20000 руб., то комиссионные составляют 10 % от этой суммы, если больше или равна 20000, но меньше 30000, то 20 %, а если больше 30000, то 30 %."
      ]
    },
    {
      "cell_type": "code",
      "execution_count": null,
      "id": "b6ed2a33-9ce2-45c0-9617-70d249116763",
      "metadata": {
        "id": "b6ed2a33-9ce2-45c0-9617-70d249116763",
        "outputId": "86f21eb8-39f5-487d-f417-90f222dab859"
      },
      "outputs": [
        {
          "name": "stdin",
          "output_type": "stream",
          "text": [
            "Введите сумму продаж продавца:  35555\n"
          ]
        },
        {
          "name": "stdout",
          "output_type": "stream",
          "text": [
            "Комиссионное вознаграждение 10666.5 руб.\n"
          ]
        }
      ],
      "source": [
        "s = int(input('Введите сумму продаж продавца: '))\n",
        "if s < 20000:\n",
        "    print(f'Комиссионное вознаграждение {s * 0.1} руб.')\n",
        "else:\n",
        "    if s < 30000:\n",
        "        print(f'Комиссионное вознаграждение {s * 0.2} руб.')\n",
        "    else:\n",
        "        print(f'Комиссионное вознаграждение {s * 0.3} руб.')"
      ]
    },
    {
      "cell_type": "markdown",
      "id": "8233a1a2-9a29-492c-b8a5-5c07f215bd19",
      "metadata": {
        "id": "8233a1a2-9a29-492c-b8a5-5c07f215bd19"
      },
      "source": [
        "### Каскадное ветвление"
      ]
    },
    {
      "cell_type": "markdown",
      "id": "9fb624f1-17ac-4e46-b234-e9c4ec2685f2",
      "metadata": {
        "id": "9fb624f1-17ac-4e46-b234-e9c4ec2685f2"
      },
      "source": [
        "Если после блока **else** сразу следует еще один оператор **if**, можно использовать «каскадное» ветвление с ключевыми словами **elif** (сокращение от else if).\n",
        "\n",
        "**Синтаксис:**\n",
        "```\n",
        "if условие1:\n",
        "    оператор P1\n",
        "elif условие2:\n",
        "    оператор P2\n",
        "else:\n",
        "    оператор P3\n",
        "```"
      ]
    },
    {
      "cell_type": "markdown",
      "id": "837927f7-a8a5-4ecc-9fef-21f6730b9565",
      "metadata": {
        "id": "837927f7-a8a5-4ecc-9fef-21f6730b9565"
      },
      "source": [
        "Запишем **пример 2** с использованием каскадного ветвления:"
      ]
    },
    {
      "cell_type": "code",
      "execution_count": null,
      "id": "2f4659b2-ccb4-45f3-b5d8-4bc345694544",
      "metadata": {
        "id": "2f4659b2-ccb4-45f3-b5d8-4bc345694544",
        "outputId": "4951122a-8da6-412f-e125-78923d8dc45a"
      },
      "outputs": [
        {
          "name": "stdin",
          "output_type": "stream",
          "text": [
            "Введите сумму продаж продавца:  25600\n"
          ]
        },
        {
          "name": "stdout",
          "output_type": "stream",
          "text": [
            "Комиссионное вознаграждение 5120.0 руб.\n"
          ]
        }
      ],
      "source": [
        "s = int(input('Введите сумму продаж продавца: '))\n",
        "if s < 20000:\n",
        "    print(f'Комиссионное вознаграждение {s * 0.1} руб.')\n",
        "elif s < 30000:\n",
        "    print(f'Комиссионное вознаграждение {s * 0.2} руб.')\n",
        "else:\n",
        "    print(f'Комиссионное вознаграждение {s * 0.3} руб.')"
      ]
    },
    {
      "cell_type": "markdown",
      "id": "0a42925f-ae1a-4f18-956a-f4053fdb9b8f",
      "metadata": {
        "id": "0a42925f-ae1a-4f18-956a-f4053fdb9b8f"
      },
      "source": [
        "Инструкция elif может стоять **только** после инструкции if или другой инструкции elif. Она позволяет проверить еще одно условие в том случае, если все предыдущие условия оказались ложными. Если одно из условий оказывается истинным, все остальные блоки elif автоматически пропускаются. При необходимости за последней инструкцией elif можно поместить инструкцию else. В этом случае гарантируется, что будет выполнен хотя бы один (и только один) блок кода."
      ]
    },
    {
      "cell_type": "markdown",
      "id": "bd66859e-8341-4bc6-aa7e-ada49815e5d9",
      "metadata": {
        "id": "bd66859e-8341-4bc6-aa7e-ada49815e5d9"
      },
      "source": [
        "**Пример 3.** Напишем условную инструкцию определения процента скидки для покупателя в зависимости от суммы его покупки."
      ]
    },
    {
      "cell_type": "code",
      "execution_count": null,
      "id": "9877c5c3-cdcc-48a8-a746-7110c85598a0",
      "metadata": {
        "id": "9877c5c3-cdcc-48a8-a746-7110c85598a0",
        "outputId": "e34dc5f4-8183-440e-ece1-cf815291ddb3"
      },
      "outputs": [
        {
          "name": "stdout",
          "output_type": "stream",
          "text": [
            "Скидка 2%\n"
          ]
        }
      ],
      "source": [
        "cost = 1500\n",
        "if cost < 1000:\n",
        "    print('Скидок нет')\n",
        "elif cost < 2000:\n",
        "    print('Скидка 2%')\n",
        "elif cost < 5000:\n",
        "    print('Скидка 5%')\n",
        "else:\n",
        "    print('Скидка 10%')"
      ]
    },
    {
      "cell_type": "markdown",
      "id": "6b5e7952-73f3-43fe-9b50-313919e83c6d",
      "metadata": {
        "id": "6b5e7952-73f3-43fe-9b50-313919e83c6d"
      },
      "source": [
        "Обратите внимание, что в предыдущем примере сумма покупки 1500 руб. меньше 2000 и 5000, но программа вывела размер скидки 2%. Это связано с тем, что как только будет выполнено одно из условий цепочки инструкций elif, все остальные дальше проверяться не будут."
      ]
    },
    {
      "cell_type": "markdown",
      "id": "cfcf0fdb-4ef0-43f0-b21e-1965eed424fe",
      "metadata": {
        "id": "cfcf0fdb-4ef0-43f0-b21e-1965eed424fe"
      },
      "source": [
        "Порядок расположения инстукций elif важен. Попробуем намеренно внести в код предыдущего примера ошибку, переставив инструкции местами. Как мы с вами уже знаем, если одно из условий оказывается истинным, все остальные блоки elif автоматически пропускаются, поэтому перестановка условий может создавать проблемы."
      ]
    },
    {
      "cell_type": "code",
      "execution_count": null,
      "id": "dcc28a84-5ed5-4f9e-95ea-6bb4787adbdb",
      "metadata": {
        "id": "dcc28a84-5ed5-4f9e-95ea-6bb4787adbdb",
        "outputId": "26fc3e34-13b4-4e5b-9fb5-8e5c35447020"
      },
      "outputs": [
        {
          "name": "stdout",
          "output_type": "stream",
          "text": [
            "Скидка 5%\n"
          ]
        }
      ],
      "source": [
        "cost = 1500\n",
        "if cost < 1000:\n",
        "    print('Скидок нет')\n",
        "elif cost < 5000:\n",
        "    print('Скидка 5%')\n",
        "elif cost < 2000:\n",
        "    print('Скидка 2%')\n",
        "else:\n",
        "    print('Скидка 10%')"
      ]
    },
    {
      "cell_type": "markdown",
      "id": "7bcb5ef1-ffec-404c-aba2-ea493f74cbf9",
      "metadata": {
        "id": "7bcb5ef1-ffec-404c-aba2-ea493f74cbf9"
      },
      "source": [
        "Стоимость покупки клиента составила 1500 руб. и мы с вами ожидали получить скидку 2% как в предыдущем примере. Но поскольку условие cost < 5000 равно True, то клиент получил скидку 5%, и все остальные инструкции elif были автоматически пропущены.\n",
        "\n",
        "**Таким образом, в каскадном условном операторе выполняется максимум один блок elif  и поэтому порядок их следования важен!**"
      ]
    },
    {
      "cell_type": "markdown",
      "id": "0f969f9d-e233-49ca-81ad-18c8c25f2c6c",
      "metadata": {
        "id": "0f969f9d-e233-49ca-81ad-18c8c25f2c6c"
      },
      "source": [
        "### Сложные условия"
      ]
    },
    {
      "cell_type": "markdown",
      "id": "a0ed68a6-13b8-4fba-9759-898da2b5c07b",
      "metadata": {
        "id": "a0ed68a6-13b8-4fba-9759-898da2b5c07b"
      },
      "source": [
        "Логические операторы часто предоставляют возможность упрощения вложенных условных инструкций. Простейшие условия состоят из одного отношения (больше, меньше и т.п.) Но иногда необходимо объединение простых условий в более сложные, Например, на улице холодно и идет дождь. Два простых условия (на улице холодно), (на улице идет дождь) здесь связаны связкой И.\n",
        "\n",
        "**Сложное условие** - условие, которое состоит из двух или нескольких простых отношений (условий), которые объединяются с помощью логических операций: **and**, **or** и **not**."
      ]
    },
    {
      "cell_type": "markdown",
      "id": "f871fed9-093d-418d-8516-4fabf0923b54",
      "metadata": {
        "id": "f871fed9-093d-418d-8516-4fabf0923b54"
      },
      "source": [
        "Приоритет выполнения логических операций и отношений:\n",
        "1. Операции отношения >, <, >=, <=, ==, !=\n",
        "2. Операция not\n",
        "3. Операция and\n",
        "4. Операция or\n",
        "\n",
        "Для изменения порядка действий используются круглые скобки."
      ]
    },
    {
      "cell_type": "markdown",
      "id": "2ce66f5c-fb61-4ab9-a3af-8dfa27454bf1",
      "metadata": {
        "id": "2ce66f5c-fb61-4ab9-a3af-8dfa27454bf1"
      },
      "source": [
        "**Пример 4.** Пользователь должен ввести первую и последнюю буквы русского алфавита. Ввод производится в двух отдельных строках и в любом регистре."
      ]
    },
    {
      "cell_type": "code",
      "execution_count": null,
      "id": "9a65c4d1-571c-4391-8d3d-77f597530ee6",
      "metadata": {
        "id": "9a65c4d1-571c-4391-8d3d-77f597530ee6",
        "outputId": "d329f9e3-33b8-49d3-8951-0568f9d9097c"
      },
      "outputs": [
        {
          "name": "stdout",
          "output_type": "stream",
          "text": [
            "Введите первую и последнюю буквы русского алфавита.\n"
          ]
        },
        {
          "name": "stdin",
          "output_type": "stream",
          "text": [
            " а\n",
            " Я\n"
          ]
        },
        {
          "name": "stdout",
          "output_type": "stream",
          "text": [
            "Верно.\n"
          ]
        }
      ],
      "source": [
        "print(\"Введите первую и последнюю буквы русского алфавита.\")\n",
        "first_letter = input()\n",
        "last_letter = input()\n",
        "if (first_letter == \"а\" or first_letter == \"А\") and (\n",
        "        last_letter == \"я\" or last_letter == \"Я\"):\n",
        "    print(\"Верно.\")\n",
        "else:\n",
        "    print(\"Неверно.\")"
      ]
    },
    {
      "cell_type": "markdown",
      "id": "8a02f4cb-25ff-409b-b252-2a4b0fd7c33f",
      "metadata": {
        "id": "8a02f4cb-25ff-409b-b252-2a4b0fd7c33f"
      },
      "source": [
        "В логическом операторе можно использовать двойное неравенство. Например, неравенство:"
      ]
    },
    {
      "cell_type": "code",
      "execution_count": null,
      "id": "cd339c03-4e08-46dc-9546-8eb6b11da061",
      "metadata": {
        "id": "cd339c03-4e08-46dc-9546-8eb6b11da061",
        "outputId": "21abb49f-08b2-4b70-cd2e-b93019c9ea5c"
      },
      "outputs": [
        {
          "data": {
            "text/plain": [
              "True"
            ]
          },
          "execution_count": 29,
          "metadata": {},
          "output_type": "execute_result"
        }
      ],
      "source": [
        "a = 5\n",
        "a >= 0 and a < 100"
      ]
    },
    {
      "cell_type": "markdown",
      "id": "6efaebe5-62e1-495d-9657-7a77192a6155",
      "metadata": {
        "id": "6efaebe5-62e1-495d-9657-7a77192a6155"
      },
      "source": [
        "можно записать так:"
      ]
    },
    {
      "cell_type": "code",
      "execution_count": null,
      "id": "3d3b9a8e-542e-4a5f-afa2-e577983cb40a",
      "metadata": {
        "id": "3d3b9a8e-542e-4a5f-afa2-e577983cb40a",
        "outputId": "9afec672-2ba9-443e-a07e-c72615bb71a0"
      },
      "outputs": [
        {
          "data": {
            "text/plain": [
              "True"
            ]
          },
          "execution_count": 30,
          "metadata": {},
          "output_type": "execute_result"
        }
      ],
      "source": [
        "0 <= a < 100"
      ]
    },
    {
      "cell_type": "markdown",
      "id": "bcec8aa6-4a77-4b3a-99ed-cecaac6c6243",
      "metadata": {
        "id": "bcec8aa6-4a77-4b3a-99ed-cecaac6c6243"
      },
      "source": [
        "## 2.2 Циклические алгоритмы"
      ]
    },
    {
      "cell_type": "markdown",
      "id": "7921bf84-96b4-4b48-8668-2225128884cc",
      "metadata": {
        "id": "7921bf84-96b4-4b48-8668-2225128884cc"
      },
      "source": [
        "Использование циклов предоставляет программисту возможность многократного исполнения определенного участка кода.\n",
        "Циклы в языке Python представлены двумя основными конструкциями: **while** и **for**. **Цикл while** считается универсальным, в то время как **for** нужен для обхода последовательности поэлементно."
      ]
    },
    {
      "cell_type": "markdown",
      "id": "4b8cc3a9-9fb3-4eb2-8852-8ff5d46cff1c",
      "metadata": {
        "id": "4b8cc3a9-9fb3-4eb2-8852-8ff5d46cff1c"
      },
      "source": [
        "### Цикл while"
      ]
    },
    {
      "cell_type": "markdown",
      "id": "e209ab22-5efd-4526-85da-27810f4fc97a",
      "metadata": {
        "id": "e209ab22-5efd-4526-85da-27810f4fc97a"
      },
      "source": [
        "**Цикл while** (“пока”) позволяет выполнить одну и ту же последовательность действий, пока проверяемое условие истинно. Условие записывается до тела цикла и проверяется до выполнения тела цикла. Как правило, **цикл while** используется, когда невозможно определить точное значение количества проходов исполнения цикла. *Например, пользователь должен вводить пароль, для того чтобы начать работу с какой-нибудь программой. Какое количество попыток он использует? Неизвестно.*\n",
        "\n",
        "Каждое отдельное выполнение тела цикла называется **итерацией**. В **цикле while** условие всегда проверяется перед началом каждой итерации (т.е. перед заходом в тело цикла). Если условие равно True, то блок кода выполняется, после чего условие проверяется вновь. Как только обнаруживается, что условие равно False, цикл while завершается.\n",
        "\n",
        "**Синтаксис:**\n",
        "```\n",
        "while условное_выражение:\n",
        "   инструкции\n",
        "```"
      ]
    },
    {
      "cell_type": "markdown",
      "id": "5d153416-0c44-4f5d-b382-0f7317677f4a",
      "metadata": {
        "id": "5d153416-0c44-4f5d-b382-0f7317677f4a"
      },
      "source": [
        "**Пример 5.** Напишем программу, которая складывает натуральные числа от 1 до n."
      ]
    },
    {
      "cell_type": "code",
      "execution_count": null,
      "id": "96ea9249-699c-42cf-8a60-ee05755a2df8",
      "metadata": {
        "id": "96ea9249-699c-42cf-8a60-ee05755a2df8",
        "outputId": "23b5ec79-240e-4d69-9a94-4e50fd725206"
      },
      "outputs": [
        {
          "name": "stdin",
          "output_type": "stream",
          "text": [
            "Введите n:  8\n"
          ]
        },
        {
          "name": "stdout",
          "output_type": "stream",
          "text": [
            "Сумма чисел от 1 до 8: 36\n"
          ]
        }
      ],
      "source": [
        "n = int(input(\"Введите n: \"))\n",
        "# объявляем переменные: сумма и счетчик\n",
        "sum = 0\n",
        "i = 1\n",
        "while i <= n:\n",
        "    sum = sum + i\n",
        "    i = i+1  # обновляем счетчик\n",
        "# выводим сумму на экран\n",
        "print(f\"Сумма чисел от 1 до {n}: {sum}\")"
      ]
    },
    {
      "cell_type": "markdown",
      "id": "740b0053-6db3-4a5e-8ed9-af40ae018122",
      "metadata": {
        "id": "740b0053-6db3-4a5e-8ed9-af40ae018122"
      },
      "source": [
        "**Главное не забывать увеличивать значение счетчика в теле цикла while, иначе получится бесконечный цикл.**"
      ]
    },
    {
      "cell_type": "markdown",
      "id": "80a2805e-762c-409e-a3d9-0a5d1ccdc5e6",
      "metadata": {
        "id": "80a2805e-762c-409e-a3d9-0a5d1ccdc5e6"
      },
      "source": [
        "### Цикл while с блоком else"
      ]
    },
    {
      "cell_type": "markdown",
      "id": "c4f77649-6dc7-4bf0-875a-776c888bf12a",
      "metadata": {
        "id": "c4f77649-6dc7-4bf0-875a-776c888bf12a"
      },
      "source": [
        "С циклами while можно использовать дополнительный блок else. Блок else начнет выполняться, когда условие цикла while станет равно False.\n",
        "\n",
        "Цикл while можно принудительно завершить с помощью инструкции **break**. В таких случаях блок else игнорируется. Иначе говоря, блок else выполняется только в том случае, если внутри тела while не использовался оператор break, а условие цикла while ложно.\n",
        "\n",
        "Запишем вывод результата для нашего предыдущего примера в блоке else:"
      ]
    },
    {
      "cell_type": "code",
      "execution_count": null,
      "id": "4594a363-84f0-4833-a141-80fe33610293",
      "metadata": {
        "id": "4594a363-84f0-4833-a141-80fe33610293",
        "outputId": "045f35ff-25bc-4fea-b9bc-718a659f242f"
      },
      "outputs": [
        {
          "name": "stdin",
          "output_type": "stream",
          "text": [
            "Введите n:  8\n"
          ]
        },
        {
          "name": "stdout",
          "output_type": "stream",
          "text": [
            "Сумма чисел от 1 до 8: 36\n"
          ]
        }
      ],
      "source": [
        "n = int(input(\"Введите n: \"))\n",
        "sum = 0\n",
        "i = 1\n",
        "while i <= n:\n",
        "    sum = sum + i\n",
        "    i = i+1\n",
        "else:\n",
        "    print(f\"Сумма чисел от 1 до {n}: {sum}\")"
      ]
    },
    {
      "cell_type": "markdown",
      "id": "60da91d6-ab97-4cbb-bd4c-e51b333cd206",
      "metadata": {
        "id": "60da91d6-ab97-4cbb-bd4c-e51b333cd206"
      },
      "source": [
        "### Инструкция break"
      ]
    },
    {
      "cell_type": "markdown",
      "id": "b551319d-c928-4a89-b0b0-61ed76f529e2",
      "metadata": {
        "id": "b551319d-c928-4a89-b0b0-61ed76f529e2"
      },
      "source": [
        "Существует простой способ заставить программу досрочно выйти из цикла while. Если в блоке кода встречается инструкция **break**, то выполнение цикла немедленно прекращается."
      ]
    },
    {
      "cell_type": "markdown",
      "id": "30fd20c4-6120-44bf-b31a-7e16679db06e",
      "metadata": {
        "id": "30fd20c4-6120-44bf-b31a-7e16679db06e"
      },
      "source": [
        "**Пример 6.** Напишем программу проверки пароля для входа в систему."
      ]
    },
    {
      "cell_type": "code",
      "execution_count": null,
      "id": "930c97d7-1f4b-4b09-ad49-b10172d69dbb",
      "metadata": {
        "id": "930c97d7-1f4b-4b09-ad49-b10172d69dbb",
        "outputId": "08867f7e-d784-4897-d4e4-406524e4b30e"
      },
      "outputs": [
        {
          "name": "stdin",
          "output_type": "stream",
          "text": [
            "Введите пароль для входа:  123\n",
            "Введите пароль для входа:  123456\n"
          ]
        },
        {
          "name": "stdout",
          "output_type": "stream",
          "text": [
            "Пароль верный. Вход разрешён.\n"
          ]
        }
      ],
      "source": [
        "saved_pwd = \"123456\"\n",
        "while True: # бесконечный цикл\n",
        "    pwd = input(\"Введите пароль для входа: \")\n",
        "    if pwd == saved_pwd:\n",
        "        break\n",
        "print(\"Пароль верный. Вход разрешён.\")"
      ]
    },
    {
      "cell_type": "markdown",
      "id": "4d037875-42b9-4e36-8312-c14fdcb63d9f",
      "metadata": {
        "id": "4d037875-42b9-4e36-8312-c14fdcb63d9f"
      },
      "source": [
        "### Инструкция continue"
      ]
    },
    {
      "cell_type": "markdown",
      "id": "ca15eeef-dce7-4900-9953-a941bdff259a",
      "metadata": {
        "id": "ca15eeef-dce7-4900-9953-a941bdff259a"
      },
      "source": [
        "Подобно инструкции break, инструкция **continue** тоже применяется внутри цикла. Когда программа встречает такую инструкцию, управление немедленно передается в начало цикла (новая итерация), где заново проверяется условие."
      ]
    },
    {
      "cell_type": "markdown",
      "id": "b09a97f0-bd3f-45e0-bf16-00e78a305760",
      "metadata": {
        "id": "b09a97f0-bd3f-45e0-bf16-00e78a305760"
      },
      "source": [
        "**Пример 7.** Напишем программу проверки пароля для пользователя Андрей."
      ]
    },
    {
      "cell_type": "code",
      "execution_count": null,
      "id": "39bea450-362f-44d7-81d6-d45d3d869445",
      "metadata": {
        "id": "39bea450-362f-44d7-81d6-d45d3d869445",
        "outputId": "5e87448d-c37a-4c0f-c708-51f4d36d3487"
      },
      "outputs": [
        {
          "name": "stdin",
          "output_type": "stream",
          "text": [
            "Как вас зовут? Максим\n",
            "Как вас зовут? Андрей\n",
            "Привет, Андрей! Введите пароль:  123\n",
            "Как вас зовут? Андрей\n",
            "Привет, Андрей! Введите пароль:  123456\n"
          ]
        },
        {
          "name": "stdout",
          "output_type": "stream",
          "text": [
            "Доступ разрешен\n"
          ]
        }
      ],
      "source": [
        "while True:\n",
        "    name = input('Как вас зовут?')\n",
        "    if name != 'Андрей':\n",
        "        continue\n",
        "    password = input('Привет, Андрей! Введите пароль: ')\n",
        "    if password == '123456':\n",
        "        break\n",
        "print('Доступ разрешен')"
      ]
    },
    {
      "cell_type": "markdown",
      "id": "2eae2921-59f5-4061-9293-f6b69f99041d",
      "metadata": {
        "id": "2eae2921-59f5-4061-9293-f6b69f99041d"
      },
      "source": [
        "### Цикл for"
      ]
    },
    {
      "cell_type": "markdown",
      "id": "4b1580f7-6f5d-40b9-97fa-7b66a69d03bd",
      "metadata": {
        "id": "4b1580f7-6f5d-40b9-97fa-7b66a69d03bd"
      },
      "source": [
        "Цикл while выполняется до тех пор, пока условие остается истинным. Но что если необходимо выполнить блок кода строго определенное количество раз? Это можно сделать с помощью **цикла for** и функции range().\n",
        "\n",
        "**Синтаксис:**\n",
        "```\n",
        "for переменная in набор_значений:\n",
        "    инструкции\n",
        "```\n",
        "\n",
        "Функция range() может принимать от одного до трёх целочисленных аргументов:\n",
        "\n",
        "| Выражение | Результат | Пример |\n",
        "|:-|:-|:-|\n",
        "| range(n) | возвращает диапазон целых чисел от 0 до n - 1 | range(4): 0, 1, 2, 3 |\n",
        "| range(k, n) | возвращает диапазон целых чисел от k до n - 1 | range(1, 5): 1, 2, 3, 4 |\n",
        "| range(k, n, s) | возвращает диапазон целых чисел от k до n - 1 с шагом s | range(1, 10, 2): 1, 3, 5, 7, 9 |"
      ]
    },
    {
      "cell_type": "markdown",
      "id": "6021e415-1fe2-4a7c-a659-d712ece91691",
      "metadata": {
        "id": "6021e415-1fe2-4a7c-a659-d712ece91691"
      },
      "source": [
        "**Пример 8.** Выведем на экран числа от n до 0."
      ]
    },
    {
      "cell_type": "code",
      "execution_count": null,
      "id": "71a4f7b6-95ca-444a-9013-b092523312c9",
      "metadata": {
        "id": "71a4f7b6-95ca-444a-9013-b092523312c9",
        "outputId": "842562a8-1524-4e42-e31c-1ae5721f4fa9"
      },
      "outputs": [
        {
          "name": "stdin",
          "output_type": "stream",
          "text": [
            "Введите число n:  8\n"
          ]
        },
        {
          "name": "stdout",
          "output_type": "stream",
          "text": [
            "8\n",
            "7\n",
            "6\n",
            "5\n",
            "4\n",
            "3\n",
            "2\n",
            "1\n",
            "0\n"
          ]
        }
      ],
      "source": [
        "n = int(input(\"Введите число n: \"))\n",
        "for i in range(n, -1, -1):\n",
        "    print(i)"
      ]
    },
    {
      "cell_type": "markdown",
      "id": "ae8a91ac-c6bd-4781-8669-651371588e03",
      "metadata": {
        "id": "ae8a91ac-c6bd-4781-8669-651371588e03"
      },
      "source": [
        "Обратите внимание: изменение значения итерируемой переменной внутри тела цикла не имеет смысла, так как будет перезаписано на следующей итерации очередным значением из диапазона функции range(). Например, следующий код по-прежнему выведет числа от 0 до n - 1, несмотря на изменение значения итерируемой переменной в теле цикла:"
      ]
    },
    {
      "cell_type": "code",
      "execution_count": null,
      "id": "ce6ae469-0544-4dee-b44e-eae893368aa3",
      "metadata": {
        "id": "ce6ae469-0544-4dee-b44e-eae893368aa3",
        "outputId": "0d309719-d7d5-4d2d-9533-6132b830143c"
      },
      "outputs": [
        {
          "name": "stdin",
          "output_type": "stream",
          "text": [
            "Введите n:  8\n"
          ]
        },
        {
          "name": "stdout",
          "output_type": "stream",
          "text": [
            "0\n",
            "1\n",
            "2\n",
            "3\n",
            "4\n",
            "5\n",
            "6\n",
            "7\n"
          ]
        }
      ],
      "source": [
        "n = int(input(\"Введите n: \"))\n",
        "for i in range(n):\n",
        "    print(i)\n",
        "    i = 100"
      ]
    },
    {
      "cell_type": "markdown",
      "id": "09b549b8-e44e-46d1-8315-44c9597e1812",
      "metadata": {
        "id": "09b549b8-e44e-46d1-8315-44c9597e1812"
      },
      "source": [
        "В циклах for, как и в циклах while, допускается использование инструкций break и continue.\n",
        "\n",
        "Также цикл for может иметь дополнительный блок else, который выполняется после завершения цикла:"
      ]
    },
    {
      "cell_type": "code",
      "source": [
        "message = \"Hello\"\n",
        "for c in message:\n",
        "    print(c)\n",
        "else:\n",
        "    print(f\"Последний символ: {c}. Цикл завершен\");\n",
        "print(\"Работа программы завершена\")  # инструкция не имеет отступа, поэтому не относится к else"
      ],
      "metadata": {
        "colab": {
          "base_uri": "https://localhost:8080/"
        },
        "id": "ApT20tFpX3Tu",
        "outputId": "6b4d6b0d-8528-4643-b6a6-beae894b0552"
      },
      "id": "ApT20tFpX3Tu",
      "execution_count": null,
      "outputs": [
        {
          "output_type": "stream",
          "name": "stdout",
          "text": [
            "H\n",
            "e\n",
            "l\n",
            "l\n",
            "o\n",
            "Последний символ: o. Цикл завершен\n",
            "Работа программы завершена\n"
          ]
        }
      ]
    },
    {
      "cell_type": "markdown",
      "source": [
        "Множество перебираемых значений может быть также задано списком, кортежем или строкой.\n",
        "\n",
        "Например, выведем приветствие для 3 друзей:"
      ],
      "metadata": {
        "id": "I-lKl9j0OS5I"
      },
      "id": "I-lKl9j0OS5I"
    },
    {
      "cell_type": "code",
      "source": [
        "friends = ['Андрей', 'Максим', 'Ирина']\n",
        "for friend in friends:\n",
        "  print('Привет,', friend + '!')\n",
        "print('Готово!')"
      ],
      "metadata": {
        "id": "-WLkrl2lOSjd",
        "colab": {
          "base_uri": "https://localhost:8080/"
        },
        "outputId": "1d907b02-b52f-4830-830b-052a01207e58"
      },
      "id": "-WLkrl2lOSjd",
      "execution_count": null,
      "outputs": [
        {
          "output_type": "stream",
          "name": "stdout",
          "text": [
            "Привет, Андрей!\n",
            "Привет, Максим!\n",
            "Привет, Ирина!\n",
            "Готово!\n"
          ]
        }
      ]
    },
    {
      "cell_type": "markdown",
      "source": [
        "В данном примере переменная friends – это список из трех строк, а цикл for проходит по этому списку и выполняет тело по одному разу для каждой из этих строк."
      ],
      "metadata": {
        "id": "1Atq9R-JPGdm"
      },
      "id": "1Atq9R-JPGdm"
    },
    {
      "cell_type": "markdown",
      "id": "e40347c2-2aee-4dc0-9d86-23ea8be2ee87",
      "metadata": {
        "id": "e40347c2-2aee-4dc0-9d86-23ea8be2ee87"
      },
      "source": [
        "### Вложенные циклы"
      ]
    },
    {
      "cell_type": "markdown",
      "id": "2a4c257b-7e1f-4ef7-938d-bf4e40131d57",
      "metadata": {
        "id": "2a4c257b-7e1f-4ef7-938d-bf4e40131d57"
      },
      "source": [
        "Если телом цикла является циклическая структура, то такие циклы называются **вложенными**. Цикл, содержащий в себе другой цикл, называют внешним,\n",
        "а цикл, содержащийся в теле другого цикла, называют внутренним."
      ]
    },
    {
      "cell_type": "markdown",
      "id": "f962e237-fba1-4089-88e9-3e32cc615849",
      "metadata": {
        "id": "f962e237-fba1-4089-88e9-3e32cc615849"
      },
      "source": [
        "**Пример 9.** Разработайте приложение, которое осуществляет вывод на экран  таблицы умножения для значений от 1 до 5."
      ]
    },
    {
      "cell_type": "code",
      "execution_count": null,
      "id": "24d7d28a-fb9a-42db-b553-56df464c8674",
      "metadata": {
        "id": "24d7d28a-fb9a-42db-b553-56df464c8674",
        "outputId": "e5244a80-dbe5-4e25-f6b7-27e05b4f6b8e"
      },
      "outputs": [
        {
          "name": "stdout",
          "output_type": "stream",
          "text": [
            "1 * 1 = 1\t1 * 2 = 2\t1 * 3 = 3\t1 * 4 = 4\t1 * 5 = 5\t\n",
            "2 * 1 = 2\t2 * 2 = 4\t2 * 3 = 6\t2 * 4 = 8\t2 * 5 = 10\t\n",
            "3 * 1 = 3\t3 * 2 = 6\t3 * 3 = 9\t3 * 4 = 12\t3 * 5 = 15\t\n",
            "4 * 1 = 4\t4 * 2 = 8\t4 * 3 = 12\t4 * 4 = 16\t4 * 5 = 20\t\n",
            "5 * 1 = 5\t5 * 2 = 10\t5 * 3 = 15\t5 * 4 = 20\t5 * 5 = 25\t\n"
          ]
        }
      ],
      "source": [
        "for i in range(1,6):\n",
        "    for j in range(1,6):\n",
        "        print(i, '*', j, '=', i*j, end='\\t')\n",
        "    print()"
      ]
    },
    {
      "cell_type": "markdown",
      "source": [
        "Внешний цикл срабатывает 5 раз. Внутри этого цикла срабатывает внутренний цикл также 5 раз. Причем все 5 итераций внутреннего цикла срабатывают в рамках одной итерации внешнего цикла."
      ],
      "metadata": {
        "id": "DLR8zDbfYBP6"
      },
      "id": "DLR8zDbfYBP6"
    },
    {
      "cell_type": "markdown",
      "source": [
        "## Подведем итог"
      ],
      "metadata": {
        "id": "gApQkZ2_HQgW"
      },
      "id": "gApQkZ2_HQgW"
    },
    {
      "cell_type": "markdown",
      "source": [
        "Благодаря булевым выражениям, результат вычисления которых равен True или False (такие выражения называются условиями), можно писать программы, способные принимать решения относительно того, какие фрагменты кода должны выполняться, а какие - пропускаться. Кроме того, можно организовать многократное выполнение кода в цикле до тех пор, пока заданное условие остается истинным. В тех случаях, когда требуется досрочно выйти из цикла или вернуться к его началу, применяются инструкции break и continue.\n",
        "\n",
        "Управляющие инструкции позволяют писать более сложные и разветвленные программы. Другой способ структурирования программы - написание собственных функций, о чем мы с вами поговорим в следующей лекции."
      ],
      "metadata": {
        "id": "DD4jYIlNI8FR"
      },
      "id": "DD4jYIlNI8FR"
    },
    {
      "cell_type": "markdown",
      "id": "b996554a-9ad6-40be-bc35-7e88bccf3e92",
      "metadata": {
        "id": "b996554a-9ad6-40be-bc35-7e88bccf3e92"
      },
      "source": [
        "## Контрольные вопросы"
      ]
    },
    {
      "cell_type": "markdown",
      "id": "4eec1658-65ea-4cca-85c0-0f22a57d6c2c",
      "metadata": {
        "id": "4eec1658-65ea-4cca-85c0-0f22a57d6c2c"
      },
      "source": [
        "1. Каковы два возможных значения булевого типа? Как они записываются?\n",
        "2. Назовите три булевых оператора. Постройте таблицы истинности.\n",
        "3. Каковы результаты вычисления следующих выражений?\n",
        "   * (5 > 4) and (3 == 5)\n",
        "   * not (5 > 4)\n",
        "   * (5 > 4) or (3 == 5)\n",
        "   * not ((5 > 4) or (3 == 5))\n",
        "   * (True and True) and (True == False)\n",
        "   * (not False) or (not True)\n",
        "4. Виды операторов: арифметические, операторы сравнения, логические.\n",
        "5. Виды условных операторов. **Приведите примеры использования.**\n",
        "6. Как организовать выбор из нескольких вариантов?\n",
        "7. Что такое сложное условие? Как определяется порядок вычислений в сложном условии?\n",
        "8. Виды циклических алгоритмов. **Приведите примеры использованния.**\n",
        "9. Может ли цикл while не выполниться ни разу? Возможно ли зацикливание?\n",
        "10. Верно ли, что любой цикл с переменной можно заменить циклом с условием? Верно ли обратное утверждение?\n",
        "11. Инструкции управления циклом.\n",
        "12. Вложенные циклы: структура и назначение.\n",
        "13. В чем разница между вызовами range(10), range(0, 10) и range(0, 10, 1) в цикле for.\n",
        "14. Напишите короткую программу, которая выводит на экран числа от 1 до 10 в цикле for. Затем напишите аналогичную программу с использованием цикла while."
      ]
    }
  ],
  "metadata": {
    "kernelspec": {
      "display_name": "Python 3 (ipykernel)",
      "language": "python",
      "name": "python3"
    },
    "language_info": {
      "codemirror_mode": {
        "name": "ipython",
        "version": 3
      },
      "file_extension": ".py",
      "mimetype": "text/x-python",
      "name": "python",
      "nbconvert_exporter": "python",
      "pygments_lexer": "ipython3",
      "version": "3.11.1"
    },
    "colab": {
      "provenance": [],
      "include_colab_link": true
    }
  },
  "nbformat": 4,
  "nbformat_minor": 5
}