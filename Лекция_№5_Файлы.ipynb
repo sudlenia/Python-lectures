{
  "nbformat": 4,
  "nbformat_minor": 0,
  "metadata": {
    "colab": {
      "provenance": [],
      "include_colab_link": true
    },
    "kernelspec": {
      "name": "python3",
      "display_name": "Python 3"
    },
    "language_info": {
      "name": "python"
    }
  },
  "cells": [
    {
      "cell_type": "markdown",
      "metadata": {
        "id": "view-in-github",
        "colab_type": "text"
      },
      "source": [
        "<a href=\"https://colab.research.google.com/github/sudlenia/Python-lections/blob/main/%D0%9B%D0%B5%D0%BA%D1%86%D0%B8%D1%8F_%E2%84%965_%D0%A4%D0%B0%D0%B9%D0%BB%D1%8B.ipynb\" target=\"_parent\"><img src=\"https://colab.research.google.com/assets/colab-badge.svg\" alt=\"Open In Colab\"/></a>"
      ]
    },
    {
      "cell_type": "markdown",
      "source": [
        "# Файлы"
      ],
      "metadata": {
        "id": "Zq4PPqmCB8-H"
      }
    },
    {
      "cell_type": "markdown",
      "source": [
        "Переменные - отличное средство хранения данных на этапе выполнения программы, но если требуется, чтобы данные существовали и после ее завершения, их необходимо сохранить в файле. Содержимое файла можно рассматривать как огромную строку, размер которой способен исчисляться гигабайтами. В данной лекции мы поговорим о том, как использовать Python для создания, чтения и сохранения файлов на жестком диске.\n",
        "\n",
        "**Файл** - набор данных на диске, имеющий имя."
      ],
      "metadata": {
        "id": "-fk9v3qSBAPy"
      }
    },
    {
      "cell_type": "markdown",
      "source": [
        "## Файлы и папки\n",
        "\n",
        "Две ключевые характеристики файла - *имя* (обычно записывается в виде одного слова) и *путь*. Путь определяет, где именно в структуре каталогов располагается файл. Например, у нас хранится на компьютере файл с именем *project.docx*, который находится в каталоге *C:\\Users\\Andrey\\Documents*. Часть имени файла, стоящая после точки, называется *расширением*. Оно определяет тип файла. Файл *project.docx* - это документ Word, а *Users*, *Andrey* и *Documents* - названия папок. Папки могут содержать файлы и другие папки. Например, файл *project.docx* находится в папке *Documents*, которая сама находится в папке *Andrey*, а та, в свою очередь, содержится в папке *Users*.\n",
        "\n",
        "Компонент `C:\\` - это *корневая папка*, которая содержит все остальные папки. В Windows корневая папка - `C:\\`, в macOS и Linux - `/`.\n",
        "\n",
        "Дополнительные *тома*, соответствующие DVD-приводу или USB-носителям, будут отображаться по-разному в разных операционных системах. В Windows они представлены буквами дисков: `D:\\`, `E:\\` и т.д. В macOS они отображаются в виде новых папок в папке `/Volumes`, а в Linux - в виде новых папок в папке `/mnt` (точки монтирования). Кроме того, необходимо помнить, что в Linux имена файлов и папок чувствительны к регистру символов, а в Windows и macOS - нет."
      ],
      "metadata": {
        "id": "RR2pFGYsCBFl"
      }
    },
    {
      "cell_type": "markdown",
      "source": [
        "## Использование обратной косой черты\n",
        "\n",
        "В Windows имена папок разделяются обратной косой чертой (`\\`). В macOS и Linux разделителем служит косая черта (`/`). Если нам нужно, чтобы программа работала во всех операционных системах, то ее нужно написать так, чтобы обрабатывались оба случая.\n",
        "\n",
        "К счастью, это делается очень просто - с помощью функции `Path()` из модуля `pathlib`. Если передать ей строки с именами папок, то она вернет строку пути с использованием корректной версии разделителя."
      ],
      "metadata": {
        "id": "7vdN_4EIqvxA"
      }
    },
    {
      "cell_type": "code",
      "source": [
        "import sys\n",
        "sys.platform # ОС среды Google Colab"
      ],
      "metadata": {
        "colab": {
          "base_uri": "https://localhost:8080/",
          "height": 35
        },
        "id": "FXtYX4xcuu94",
        "outputId": "53e0a0f5-2da8-4b03-eca8-7b01a54ab5f5"
      },
      "execution_count": null,
      "outputs": [
        {
          "output_type": "execute_result",
          "data": {
            "text/plain": [
              "'linux'"
            ],
            "application/vnd.google.colaboratory.intrinsic+json": {
              "type": "string"
            }
          },
          "metadata": {},
          "execution_count": 1
        }
      ]
    },
    {
      "cell_type": "code",
      "execution_count": null,
      "metadata": {
        "id": "lzb2h8hs6wnB",
        "colab": {
          "base_uri": "https://localhost:8080/"
        },
        "outputId": "2c48e8a8-7aad-42f1-e869-3e7b51783b3a"
      },
      "outputs": [
        {
          "output_type": "execute_result",
          "data": {
            "text/plain": [
              "PosixPath('documents/python/lec5')"
            ]
          },
          "metadata": {},
          "execution_count": 2
        }
      ],
      "source": [
        "from pathlib import Path\n",
        "Path('documents','python','lec5')"
      ]
    },
    {
      "cell_type": "markdown",
      "source": [
        "В Windows функция `Path()` возвращает объект `WindowsPath`, а в Linux - объект `PosixPath` (`POSIX` - набор стандартов для Unix-подобных операционных систем, таких как Linux).\n",
        "\n",
        "Эти объекты `Path` можно передавать различным функциям. Например, можно добавить имена из списка имен файлов к концу имени папки:"
      ],
      "metadata": {
        "id": "gvGFxIyAsEBM"
      }
    },
    {
      "cell_type": "code",
      "source": [
        "from pathlib import Path\n",
        "for filename in ['accounts.txt', 'details.csv', 'invite.docx']:\n",
        "  print(Path(r'/Documents/Andrey', filename)) # путь для ОС Linux"
      ],
      "metadata": {
        "colab": {
          "base_uri": "https://localhost:8080/"
        },
        "id": "zM0fp-ferxkQ",
        "outputId": "95e69023-7f68-40eb-ea03-ee1d49b55a88"
      },
      "execution_count": null,
      "outputs": [
        {
          "output_type": "stream",
          "name": "stdout",
          "text": [
            "/Documents/Andrey/accounts.txt\n",
            "/Documents/Andrey/details.csv\n",
            "/Documents/Andrey/invite.docx\n"
          ]
        }
      ]
    },
    {
      "cell_type": "markdown",
      "source": [
        "В Windows имена папок разделяются обратной косой чертой, поэтому использовать ее в именах файлов нельзя. Но ее можно использовать в именах файлов в macOS и Linux. Таким образом, в Windows вызов `Path(r'documents\\lec5')` относится к двум разным папкам, но в macOS или Linux этот же вызов будет относиться к одной папке с именем `documents\\lec5`. Модуль `pathlib` гарантирует работоспособность такого кода во всех операционных системах."
      ],
      "metadata": {
        "id": "ElDWTsdNvqUH"
      }
    },
    {
      "cell_type": "markdown",
      "source": [
        "## Текущий каталог\n",
        "\n",
        "Каждой программе, выполняемой на компьютере, назначается *текущий* каталог. Предполагается, что любые имена файлов и папок, которые не начинаются с указания корневой папки, заданы относительно текущего каталога.\n",
        "\n",
        "**Примечание.** Несмотря на то что более современный эквивалент термина каталог - папка, обычно говорят текущий каталог (или рабочий каталог), а не текущая папка.\n",
        "\n",
        "Функция `Path.cwd()` возвращает объект текущего каталога. Сменить текущий каталог можно с помощью функции `os.chdir()`."
      ],
      "metadata": {
        "id": "OY_gW76lyF56"
      }
    },
    {
      "cell_type": "code",
      "source": [
        "from pathlib import PurePath\n",
        "import os\n",
        "Path.cwd()"
      ],
      "metadata": {
        "colab": {
          "base_uri": "https://localhost:8080/"
        },
        "id": "kT2_ChK5zJQa",
        "outputId": "af518be5-c60a-4b06-8d49-24407ad6ea8b"
      },
      "execution_count": null,
      "outputs": [
        {
          "output_type": "execute_result",
          "data": {
            "text/plain": [
              "PosixPath('/content')"
            ]
          },
          "metadata": {},
          "execution_count": 4
        }
      ]
    },
    {
      "cell_type": "code",
      "source": [
        "os.chdir('/content/sample_data')\n",
        "Path.cwd()"
      ],
      "metadata": {
        "colab": {
          "base_uri": "https://localhost:8080/"
        },
        "id": "TXhl34CPzREF",
        "outputId": "6a57961f-e0dc-40f4-8e5b-3905b953fcc8"
      },
      "execution_count": null,
      "outputs": [
        {
          "output_type": "execute_result",
          "data": {
            "text/plain": [
              "PosixPath('/content/sample_data')"
            ]
          },
          "metadata": {},
          "execution_count": 5
        }
      ]
    },
    {
      "cell_type": "markdown",
      "source": [
        "Если попытаться перейти в несуществующий каталог, Python выдаст сообщение об ошибке."
      ],
      "metadata": {
        "id": "Um_HG5E7z5_z"
      }
    },
    {
      "cell_type": "code",
      "source": [
        "os.chdir('/content/data')"
      ],
      "metadata": {
        "colab": {
          "base_uri": "https://localhost:8080/",
          "height": 178
        },
        "id": "BTyMhH93znKR",
        "outputId": "f0f3c749-203f-4678-97d2-4f722ad88315"
      },
      "execution_count": null,
      "outputs": [
        {
          "output_type": "error",
          "ename": "FileNotFoundError",
          "evalue": "ignored",
          "traceback": [
            "\u001b[0;31m---------------------------------------------------------------------------\u001b[0m",
            "\u001b[0;31mFileNotFoundError\u001b[0m                         Traceback (most recent call last)",
            "\u001b[0;32m<ipython-input-6-82cb742efcde>\u001b[0m in \u001b[0;36m<cell line: 1>\u001b[0;34m()\u001b[0m\n\u001b[0;32m----> 1\u001b[0;31m \u001b[0mos\u001b[0m\u001b[0;34m.\u001b[0m\u001b[0mchdir\u001b[0m\u001b[0;34m(\u001b[0m\u001b[0;34m'/content/data'\u001b[0m\u001b[0;34m)\u001b[0m\u001b[0;34m\u001b[0m\u001b[0;34m\u001b[0m\u001b[0m\n\u001b[0m",
            "\u001b[0;31mFileNotFoundError\u001b[0m: [Errno 2] No such file or directory: '/content/data'"
          ]
        }
      ]
    },
    {
      "cell_type": "markdown",
      "source": [
        "В модуле `pathlib` не существует функции для смены текущего каталога. Это связано с тем, что смена текущего каталога во время работы программы часто приводит к трудно обнаруживаемым ошибкам."
      ],
      "metadata": {
        "id": "ycM7glgD0Ig_"
      }
    },
    {
      "cell_type": "markdown",
      "source": [
        "## Домашний каталог\n",
        "\n",
        "У каждого пользователя системы имеется папка для собственных файлов, называемая *домашним каталогом*. Функция `Path.home()` возвращает объект `Path` домашнего каталога."
      ],
      "metadata": {
        "id": "khW4qild0i4H"
      }
    },
    {
      "cell_type": "code",
      "source": [
        "Path.home()"
      ],
      "metadata": {
        "colab": {
          "base_uri": "https://localhost:8080/"
        },
        "id": "z8h_H8K4z43S",
        "outputId": "d4018f6a-a13a-4cb0-e8c0-bffeeeffa3f3"
      },
      "execution_count": null,
      "outputs": [
        {
          "output_type": "execute_result",
          "data": {
            "text/plain": [
              "PosixPath('/root')"
            ]
          },
          "metadata": {},
          "execution_count": 7
        }
      ]
    },
    {
      "cell_type": "markdown",
      "source": [
        "## Расположение домашних каталогов пользователей зависит от операционной системы:\n",
        "\n",
        "* Windows - папка C:\\Users;\n",
        "* macOS - папка /Users;\n",
        "* Linux - папка /home."
      ],
      "metadata": {
        "id": "7t8iEJJA1JrA"
      }
    },
    {
      "cell_type": "markdown",
      "source": [
        "## Абсолютные и относительные пути\n",
        "\n",
        "Есть два способа задать путь к файлу:\n",
        "\n",
        "* *абсолютный путь* - всегда начинается с имени корневой папки;\n",
        "* *относительный путь* - указывается относительно текущего каталога программы.\n",
        "\n",
        "Существуют также каталоги, обозначаемые одной (.) или двумя (..) точками. Это не реальные папки, а специальные имена, которые можно использовать при задании путей. Одиночная точка соответствует текущей папке, а двойная точка - родительской папке."
      ],
      "metadata": {
        "id": "YOjryh0P6v1n"
      }
    },
    {
      "cell_type": "markdown",
      "source": [
        "## Создание новых папок с помощью функции os.makedirs()\n",
        "\n",
        "В программе можно создавать новые папки с помощью функции `os.makedirs()`."
      ],
      "metadata": {
        "id": "74fMakP675ke"
      }
    },
    {
      "cell_type": "code",
      "source": [
        "import os\n",
        "os.makedirs('../data/lec')"
      ],
      "metadata": {
        "id": "6bNueMzf1AfT"
      },
      "execution_count": null,
      "outputs": []
    },
    {
      "cell_type": "markdown",
      "source": [
        "В результате была создана не только папка `data`, но и расположенная в ней папка `lec`. Таким образом данная функция создает все необходимые промежуточные папки, гарантируя существование полного пути.\n",
        "\n",
        "Для создания каталога из объекта `Path`, необходимо вызвать для него метод `mkdir()`."
      ],
      "metadata": {
        "id": "-2ekyAkD9dzq"
      }
    },
    {
      "cell_type": "code",
      "source": [
        "Path(\"../data/lec/lec5\").mkdir()"
      ],
      "metadata": {
        "id": "j22cu7dK8RRd"
      },
      "execution_count": null,
      "outputs": []
    },
    {
      "cell_type": "markdown",
      "source": [
        "Обратите внимание, что метод `mkdir()` способен за один раз создать всего один каталог. Он не может создавать несколько подкаталогов одновременно, в отличие от функции `os.makedirs()`."
      ],
      "metadata": {
        "id": "Gnbnc7hW-sFy"
      }
    },
    {
      "cell_type": "markdown",
      "source": [
        "## Обработка абсолютных и относительных путей\n",
        "\n",
        "Модуль `pathlib` содержит методы, позволяющие проверить, является ли данный путь абсолютным, и получить абсолютный путь из относительного.\n",
        "\n",
        "Метод `is_absolute()` объекта `Path` вернет `True`, если объект представляет абсолютный путь, или `False`, если объект представляет относительный путь."
      ],
      "metadata": {
        "id": "HTIuEv0X_M5g"
      }
    },
    {
      "cell_type": "code",
      "source": [
        "Path.cwd()"
      ],
      "metadata": {
        "colab": {
          "base_uri": "https://localhost:8080/"
        },
        "id": "DSwgQUDa94so",
        "outputId": "6c6fbe82-5712-494e-ff7a-609c0c6101d8"
      },
      "execution_count": null,
      "outputs": [
        {
          "output_type": "execute_result",
          "data": {
            "text/plain": [
              "PosixPath('/content/sample_data')"
            ]
          },
          "metadata": {},
          "execution_count": 10
        }
      ]
    },
    {
      "cell_type": "code",
      "source": [
        "Path.cwd().is_absolute()"
      ],
      "metadata": {
        "colab": {
          "base_uri": "https://localhost:8080/"
        },
        "id": "KerxnGnND5ho",
        "outputId": "14cccbf1-e9ae-4016-c051-fca00d5ec171"
      },
      "execution_count": null,
      "outputs": [
        {
          "output_type": "execute_result",
          "data": {
            "text/plain": [
              "True"
            ]
          },
          "metadata": {},
          "execution_count": 11
        }
      ]
    },
    {
      "cell_type": "code",
      "source": [
        "Path('lec/lec5').is_absolute()"
      ],
      "metadata": {
        "colab": {
          "base_uri": "https://localhost:8080/"
        },
        "id": "ZYnzJGpID_x1",
        "outputId": "dc592497-14d2-4528-9e06-cb4e66151fb1"
      },
      "execution_count": null,
      "outputs": [
        {
          "output_type": "execute_result",
          "data": {
            "text/plain": [
              "False"
            ]
          },
          "metadata": {},
          "execution_count": 12
        }
      ]
    },
    {
      "cell_type": "markdown",
      "source": [
        "Чтобы получить абсолютный путь на основе относительного, можно поместить `Path.cwd() /` перед объектом `Path` относительного пути. Когда говорят \"относительный путь\", почти всегда подразумевают путь относительно текущего каталога.\n"
      ],
      "metadata": {
        "id": "CnoKscKsEpdu"
      }
    },
    {
      "cell_type": "code",
      "source": [
        "Path.cwd()"
      ],
      "metadata": {
        "colab": {
          "base_uri": "https://localhost:8080/"
        },
        "id": "TUDl8lLPEENA",
        "outputId": "3b36409c-7939-4785-9eb7-9e25b6f7ced1"
      },
      "execution_count": null,
      "outputs": [
        {
          "output_type": "execute_result",
          "data": {
            "text/plain": [
              "PosixPath('/content/sample_data')"
            ]
          },
          "metadata": {},
          "execution_count": 13
        }
      ]
    },
    {
      "cell_type": "code",
      "source": [
        "os.chdir('/content/data')"
      ],
      "metadata": {
        "id": "5ptC21jSF5_y"
      },
      "execution_count": null,
      "outputs": []
    },
    {
      "cell_type": "code",
      "source": [
        "Path('lec/lec5')"
      ],
      "metadata": {
        "colab": {
          "base_uri": "https://localhost:8080/"
        },
        "id": "alFdCWbpG197",
        "outputId": "601add72-2c03-4176-85df-b476f6115f11"
      },
      "execution_count": null,
      "outputs": [
        {
          "output_type": "execute_result",
          "data": {
            "text/plain": [
              "PosixPath('lec/lec5')"
            ]
          },
          "metadata": {},
          "execution_count": 15
        }
      ]
    },
    {
      "cell_type": "code",
      "source": [
        "Path.cwd() / Path('lec/lec5')"
      ],
      "metadata": {
        "colab": {
          "base_uri": "https://localhost:8080/"
        },
        "id": "olcqj12xHNDs",
        "outputId": "9b719236-044f-4d50-9b95-cc2e63b77785"
      },
      "execution_count": null,
      "outputs": [
        {
          "output_type": "execute_result",
          "data": {
            "text/plain": [
              "PosixPath('/content/data/lec/lec5')"
            ]
          },
          "metadata": {},
          "execution_count": 16
        }
      ]
    },
    {
      "cell_type": "markdown",
      "source": [
        "Оператор '/', который обычно обозначает деление, в данном случае позволяет объединить объекты `Path' и строки."
      ],
      "metadata": {
        "id": "10wgeR0vHrPN"
      }
    },
    {
      "cell_type": "markdown",
      "source": [
        "## Получение отдельных частей пути\n",
        "\n",
        "С помощью атрибутов объекта `Path` можно извлекать различные фрагменты пути в строковом виде. Это может быть полезно для создания новых каталогов на основе существующих.\n",
        "\n",
        "Полное имя файла состоит из следующих частей:\n",
        "* *Якорь* `anchor` - корневой каталог файловой системы;\n",
        "* В Windows *диск* `drive` - одиночная буква, которая обычно обозначает физический жесткий диск или другое устройство хранения;\n",
        "* *Родительская папка* `(parent)` - папка, содержащая файл;\n",
        "* *Имя файла* `name` - имя.расширение.\n",
        "\n",
        "Обратите внимание, что в Windows объекты `Path` включают атрибут *диск*, которого нет у объектов `Path` в macOS и Linux. Атрибут *диск* не содержит начальную обратную косую черту.\n"
      ],
      "metadata": {
        "id": "27owFbdrIVjl"
      }
    },
    {
      "cell_type": "code",
      "source": [
        "p = Path('/home/Python/lec/lec5.ipynb')"
      ],
      "metadata": {
        "id": "JqrwF39OHREX"
      },
      "execution_count": null,
      "outputs": []
    },
    {
      "cell_type": "code",
      "source": [
        "p.anchor"
      ],
      "metadata": {
        "colab": {
          "base_uri": "https://localhost:8080/",
          "height": 35
        },
        "id": "Qv9dEimWLf7W",
        "outputId": "4ef42b91-dda1-4362-840a-ee4938f60b5e"
      },
      "execution_count": null,
      "outputs": [
        {
          "output_type": "execute_result",
          "data": {
            "text/plain": [
              "'/'"
            ],
            "application/vnd.google.colaboratory.intrinsic+json": {
              "type": "string"
            }
          },
          "metadata": {},
          "execution_count": 18
        }
      ]
    },
    {
      "cell_type": "code",
      "source": [
        "p.parent"
      ],
      "metadata": {
        "colab": {
          "base_uri": "https://localhost:8080/"
        },
        "id": "YnI_tjpeLgvR",
        "outputId": "2b85f925-ee24-4f05-ff98-2679e1fefe7a"
      },
      "execution_count": null,
      "outputs": [
        {
          "output_type": "execute_result",
          "data": {
            "text/plain": [
              "PosixPath('/home/Python/lec')"
            ]
          },
          "metadata": {},
          "execution_count": 19
        }
      ]
    },
    {
      "cell_type": "code",
      "source": [
        "p.name"
      ],
      "metadata": {
        "colab": {
          "base_uri": "https://localhost:8080/",
          "height": 35
        },
        "id": "70uzr2WOLw0t",
        "outputId": "204a8744-be08-460b-921b-447c94833b49"
      },
      "execution_count": null,
      "outputs": [
        {
          "output_type": "execute_result",
          "data": {
            "text/plain": [
              "'lec5.ipynb'"
            ],
            "application/vnd.google.colaboratory.intrinsic+json": {
              "type": "string"
            }
          },
          "metadata": {},
          "execution_count": 20
        }
      ]
    },
    {
      "cell_type": "code",
      "source": [
        "p.stem # основа имени файла"
      ],
      "metadata": {
        "colab": {
          "base_uri": "https://localhost:8080/",
          "height": 35
        },
        "id": "ra-QhaRHMDs0",
        "outputId": "153880c0-12ed-404d-8cfa-293402b86d23"
      },
      "execution_count": null,
      "outputs": [
        {
          "output_type": "execute_result",
          "data": {
            "text/plain": [
              "'lec5'"
            ],
            "application/vnd.google.colaboratory.intrinsic+json": {
              "type": "string"
            }
          },
          "metadata": {},
          "execution_count": 21
        }
      ]
    },
    {
      "cell_type": "code",
      "source": [
        "p.suffix # суффикс (расширение) имени файла"
      ],
      "metadata": {
        "colab": {
          "base_uri": "https://localhost:8080/",
          "height": 35
        },
        "id": "ATsp6r6AMN-I",
        "outputId": "9522df91-43f3-4f08-f8a9-99cbdbfa151f"
      },
      "execution_count": null,
      "outputs": [
        {
          "output_type": "execute_result",
          "data": {
            "text/plain": [
              "'.ipynb'"
            ],
            "application/vnd.google.colaboratory.intrinsic+json": {
              "type": "string"
            }
          },
          "metadata": {},
          "execution_count": 22
        }
      ]
    },
    {
      "cell_type": "markdown",
      "source": [
        "Все атрибуты содержат строки, кроме атрибута `parent`, который содержит объект `Path`.\n",
        "\n",
        "С помощью атрибута `parents` можно узнать родительские папки объекта `Path` (целочисленный индекс определяет количество переходов вверх по дереву каталогов)."
      ],
      "metadata": {
        "id": "X_44t42qMdfU"
      }
    },
    {
      "cell_type": "code",
      "source": [
        "Path('/home/Python/lec/lec5.ipynb').parents[0]"
      ],
      "metadata": {
        "colab": {
          "base_uri": "https://localhost:8080/"
        },
        "id": "LLml0CMqNiHg",
        "outputId": "73af28ca-ad87-47d0-c23d-48d5157e8962"
      },
      "execution_count": null,
      "outputs": [
        {
          "output_type": "execute_result",
          "data": {
            "text/plain": [
              "PosixPath('/home/Python/lec')"
            ]
          },
          "metadata": {},
          "execution_count": 52
        }
      ]
    },
    {
      "cell_type": "code",
      "source": [
        "Path('/home/Python/lec/lec5.ipynb').parents[1]"
      ],
      "metadata": {
        "colab": {
          "base_uri": "https://localhost:8080/"
        },
        "id": "zt0OBWuCNn1r",
        "outputId": "3fa9f45d-d2e0-4d4e-f52d-20eb923cbe04"
      },
      "execution_count": null,
      "outputs": [
        {
          "output_type": "execute_result",
          "data": {
            "text/plain": [
              "PosixPath('/home/Python')"
            ]
          },
          "metadata": {},
          "execution_count": 53
        }
      ]
    },
    {
      "cell_type": "markdown",
      "source": [
        "## Проверка существования пути\n",
        "\n",
        "Многие функции Python аварийно завершаются с выдачей сообщения об ошибке, если предоставленный им путь не существует. К счастью, у объектов `Path` есть методы для проверки того, существует ли заданный путь и соответствует ли он файлу или папке. Если переменная `p` содержит объект `Path`, то можно ожидать следующее:\n",
        "\n",
        "* метод `p.exists()` возвращает `True`, если путь существует; в противном случае возвращается `False`;\n",
        "* метод `p.is_file()` возвращает `True`, если путь существует и соответствует файлу; в противном случае возвращается `False`;\n",
        "* метод `p.is_dir()` возвращает `True`, если путь существует и соответствует каталогу; в противном случае возвращается `False`."
      ],
      "metadata": {
        "id": "L1RYTVpLPZIo"
      }
    },
    {
      "cell_type": "code",
      "source": [
        "Dir = Path('/content/data')\n",
        "Dir.exists()"
      ],
      "metadata": {
        "colab": {
          "base_uri": "https://localhost:8080/"
        },
        "id": "1RDr1A3oNwc0",
        "outputId": "5d579dbd-2da0-499e-af30-9fd25b6e580e"
      },
      "execution_count": null,
      "outputs": [
        {
          "output_type": "execute_result",
          "data": {
            "text/plain": [
              "True"
            ]
          },
          "metadata": {},
          "execution_count": 23
        }
      ]
    },
    {
      "cell_type": "code",
      "source": [
        "Dir.is_file()"
      ],
      "metadata": {
        "colab": {
          "base_uri": "https://localhost:8080/"
        },
        "id": "2XvGaQpERPMX",
        "outputId": "eb03065d-70b5-42dd-ffc8-6bc4bdf783e5"
      },
      "execution_count": null,
      "outputs": [
        {
          "output_type": "execute_result",
          "data": {
            "text/plain": [
              "False"
            ]
          },
          "metadata": {},
          "execution_count": 24
        }
      ]
    },
    {
      "cell_type": "code",
      "source": [
        "Dir.is_dir()"
      ],
      "metadata": {
        "colab": {
          "base_uri": "https://localhost:8080/"
        },
        "id": "bBQCkN86Rqhw",
        "outputId": "1165a819-f622-46ef-93cb-36bfae194607"
      },
      "execution_count": null,
      "outputs": [
        {
          "output_type": "execute_result",
          "data": {
            "text/plain": [
              "True"
            ]
          },
          "metadata": {},
          "execution_count": 25
        }
      ]
    },
    {
      "cell_type": "markdown",
      "source": [
        "## Процесс чтения и записи файлов\n",
        "\n",
        "Теперь мы с вами знаем, как задать путь к файлу для операций чтения и записи. Файлы можно разделить на 2 группы:\n",
        "* текстовые,\n",
        "* бинарные.\n",
        "\n",
        "**Текстовые файлы** содержат только текстовые символы, не сопровождающиеся информацией о шрифте, кегле и цвете текста. Например, файлы с расширением `.txt` или файлы сценариев Python с расширением `.py`. Подобные файлы можно открыть с помощью приложения Блокнот в Windows. Содержимое простых текстовых файлов можно обрабатывать как обычную строку.\n",
        "\n",
        "Другой тип файлов - **бинарные файлы**, к которым относятся, в частности, документы, создаваемые текстовыми процессорами, PDF-файлы, графические файлы, файлы электронных таблиц, а также исполняемые программы. Открыв бинарный файл в приложении Блокнот, мы увидим бессмысленный набор странных символов.\n",
        "\n",
        "Поскольку различные типы бинарных файлов должны обрабатываться по-разному, мы не будем пытаться непосредственно читать и записывать такие файлы. Существуют специальные модули, которые упрощают работу с бинарными файлами. Один из них - модуль `shelve`, с которым мы познакомимся далее.\n",
        "\n",
        "В Python операции чтения/записи файлов выполняются в три этапа:\n",
        "\n",
        "1. вызов функции `open()`, которая возвращает объект `File`;\n",
        "2. вызов метода `read()` или `write()` объекта `File`;\n",
        "3. закрытие файла путем вызова метода `close()` объекта `File`."
      ],
      "metadata": {
        "id": "oa2PXPC3R3H1"
      }
    },
    {
      "cell_type": "markdown",
      "source": [
        "## Открытие файла с помощью функции open()\n",
        "\n",
        "Для открытия файла с помощью функции `open()` необходимо в качестве аргумента передать путь к файлу в виде строки. Это может быть как абсолютный, так и относительный путь. Функция `open()` возвращает объект `File`, через который идёт вся дальнейшая работа с файлом (файловый указатель).\n",
        "\n",
        "Функция `open()` принимает два параметра: имя файла (или путь к файлу, если файл находится не в том каталоге, где записана программа) и режим открытия файла:\n",
        "* `\"r\"` – открыть на чтение,\n",
        "* `\"w\"` – открыть на запись,\n",
        "* `\"a\"` – открыть на добавление.\n"
      ],
      "metadata": {
        "id": "BtnDjozVd8uF"
      }
    },
    {
      "cell_type": "code",
      "source": [
        "helloFile = open('/content/data/lec/lec5/hello.txt')\n",
        "# или используя текущий каталог\n",
        "# helloFile = open(Path.cwd() / 'lec/lec5/hello.txt')"
      ],
      "metadata": {
        "id": "dKBsrkhbRshX"
      },
      "execution_count": null,
      "outputs": []
    },
    {
      "cell_type": "markdown",
      "source": [
        "Обе приведенные выше команды открывают файл в режиме чтения. В этом режиме Python позволяет только считывать данные из файла; мы не сможем записать данные в файл или каким-то образом изменить его содержимое. Такой режим устанавливается по умолчанию для файлов, открываемых в Python. Чаще всего открытый файл блокируется так, что другие программы не могут использовать его.\n",
        "\n",
        "Функция `open()` возвращает объект `File`, который представляет файл. Это еще один тип данных в Python, как списки или словари, с которыми мы уже знакомы.\n",
        "\n",
        "В примере выше мы сохранили объект `File` в переменной `helloFile` и теперь каждый раз, когда нам понадобится прочитать или записать данный файл, достаточно будет вызвать соответствующий метод объекта `File` для переменной `helloFile`.\n",
        "\n",
        "Если файл, который открывается на чтение, не найден, возникает ошибка. Если существующий файл открывается на запись, его содержимое уничтожается.\n",
        "\n",
        "После окончания работы программы все открытые файлы закрываются автоматически.\n"
      ],
      "metadata": {
        "id": "qsgeo92BgPRs"
      }
    },
    {
      "cell_type": "markdown",
      "source": [
        "## Чтение содержимого файла\n",
        "\n",
        "Для чтения файла он открывается с режимом `r` (Read), и затем мы можем считать его содержимое различными методами:\n",
        "\n",
        "* `readline()`: считывает одну строку из файла;\n",
        "* `read()`: считывает все содержимое файла в одну строку;\n",
        "* `readlines()`: считывает все строки файла в список.\n",
        "\n",
        "Если требуется прочитать все содержимое файла в виде одной большой строки, следует использовать метод `read()` объекта `File`."
      ],
      "metadata": {
        "id": "62XLl7xChnln"
      }
    },
    {
      "cell_type": "code",
      "source": [
        "helloContent = helloFile.read()\n",
        "helloFile.close()\n",
        "helloContent"
      ],
      "metadata": {
        "colab": {
          "base_uri": "https://localhost:8080/",
          "height": 35
        },
        "id": "YzxvS2fXhlHR",
        "outputId": "4b831fda-41af-4844-fb9b-8817b02c6025"
      },
      "execution_count": null,
      "outputs": [
        {
          "output_type": "execute_result",
          "data": {
            "text/plain": [
              "'Привет, мир!'"
            ],
            "application/vnd.google.colaboratory.intrinsic+json": {
              "type": "string"
            }
          },
          "metadata": {},
          "execution_count": 28
        }
      ]
    },
    {
      "cell_type": "markdown",
      "source": [
        "Альтернативный вариант - использование метода `readlines()` для чтения списка строк из файла."
      ],
      "metadata": {
        "id": "Xz_VS5Hwh_Gn"
      }
    },
    {
      "cell_type": "code",
      "source": [
        "hello3File = open('/content/data/lec/lec5/hello3.txt')\n",
        "hello3Content = hello3File.readlines()\n",
        "hello3File.close()\n",
        "hello3Content"
      ],
      "metadata": {
        "colab": {
          "base_uri": "https://localhost:8080/"
        },
        "id": "viLysKNEh8DZ",
        "outputId": "d5c12a92-6884-42af-877f-873060203646"
      },
      "execution_count": null,
      "outputs": [
        {
          "output_type": "execute_result",
          "data": {
            "text/plain": [
              "['Привет, мир!\\n', 'Привет, мир!\\n', 'Привет, мир!']"
            ]
          },
          "metadata": {},
          "execution_count": 29
        }
      ]
    },
    {
      "cell_type": "markdown",
      "source": [
        "Обратите внимание на то, что каждое из строковых значений, за исключением последнего, заканчивается символом новой строки (`\\n`). Зачастую работать со списком строк проще, чем с одной длинной строкой."
      ],
      "metadata": {
        "id": "X_y90x4-ipKK"
      }
    },
    {
      "cell_type": "markdown",
      "source": [
        "Чтение одной строки из текстового файла выполняет метод `readline()`, связанный с файловой переменной:"
      ],
      "metadata": {
        "id": "et0WzuiBx6pL"
      }
    },
    {
      "cell_type": "code",
      "source": [
        "hello3File = open('/content/data/lec/lec5/hello3.txt')\n",
        "helloContent = hello3File.readline()\n",
        "hello3File.close()\n",
        "helloContent"
      ],
      "metadata": {
        "colab": {
          "base_uri": "https://localhost:8080/",
          "height": 35
        },
        "id": "UssM54yKx-SO",
        "outputId": "58960fd4-1e22-4a93-de33-3e2de009745a"
      },
      "execution_count": null,
      "outputs": [
        {
          "output_type": "execute_result",
          "data": {
            "text/plain": [
              "'Привет, мир!\\n'"
            ],
            "application/vnd.google.colaboratory.intrinsic+json": {
              "type": "string"
            }
          },
          "metadata": {},
          "execution_count": 30
        }
      ]
    },
    {
      "cell_type": "markdown",
      "source": [
        "Как правило, текстовый файл – это «устройство» **последовательного доступа** к данным. Это значит, что для того, чтобы прочитать 100-е по счёту значение из файла, нужно сначала прочитать предыдущие 99. В своей внутренней памяти система хранит положение указателя (файлового курсора), который определяет текущее место в файле. При открытии файла указатель устанавливается в самое начало файла, при чтении смещается на позицию, следующую за прочитанными данными, а при записи – на следующую свободную позицию.\n",
        "\n",
        "Если нужно повторить чтение с начала файла, можно закрыть его, а потом снова открыть."
      ],
      "metadata": {
        "id": "mOlWl6XZy7nC"
      }
    },
    {
      "cell_type": "markdown",
      "source": [
        "Построчное чтение данных с файла можно осуществлять без явного использования метода `readline()`:"
      ],
      "metadata": {
        "id": "ANgraqEFJJRd"
      }
    },
    {
      "cell_type": "code",
      "source": [
        "file = open(\"/content/data/lec/lec5/hello3.txt\", \"r\")\n",
        "\n",
        "for line in file:\n",
        "  print(line, end=\"\")\n",
        "\n",
        "file.close()"
      ],
      "metadata": {
        "colab": {
          "base_uri": "https://localhost:8080/"
        },
        "id": "IUWRYDW3JR9t",
        "outputId": "f2c694fc-cb72-4bf9-f691-bb80494f6ac8"
      },
      "execution_count": null,
      "outputs": [
        {
          "output_type": "stream",
          "name": "stdout",
          "text": [
            "Привет, мир!\n",
            "Привет, мир!\n",
            "Привет, мир!"
          ]
        }
      ]
    },
    {
      "cell_type": "markdown",
      "source": [
        "Несмотря на то, что мы явно не применяем метод `readline()` для чтения каждой строки, при переборе файла этот метод автоматически вызывается для получения каждой новой строки. Поэтому в цикле вручную нет смысла вызывать метод `readline()`. И поскольку строки разделяются символом перевода строки `\"\\n\"`, то для того, чтобы исключить излишнего переноса на другую строку, в функцию `print()` передается значение `end=\"\"`.\n",
        "\n",
        "Теперь явным образом вызовем метод `readline()` для чтения отдельных строк:"
      ],
      "metadata": {
        "id": "Ju6vi3zXJf32"
      }
    },
    {
      "cell_type": "code",
      "source": [
        "file = open(\"/content/data/lec/lec5/hello3.txt\", \"r\")\n",
        "\n",
        "str1 = file.readline()\n",
        "print(str1, end=\"\")\n",
        "str2 = file.readline()\n",
        "print(str2)\n",
        "\n",
        "file.close()"
      ],
      "metadata": {
        "colab": {
          "base_uri": "https://localhost:8080/"
        },
        "id": "BNL5UN9oJwyj",
        "outputId": "913a0bdd-f45c-476e-b882-f9fd0752bb8b"
      },
      "execution_count": null,
      "outputs": [
        {
          "output_type": "stream",
          "name": "stdout",
          "text": [
            "Привет, мир!\n",
            "Привет, мир!\n",
            "\n"
          ]
        }
      ]
    },
    {
      "cell_type": "markdown",
      "source": [
        "### Неизвестное количество данных\n",
        "\n",
        "Предположим, что в текстовом файле записано в столбик неизвестное количество чисел и требуется найти их сумму. В этой задаче не нужно одновременно хранить все числа в памяти (и не нужно выделять массив!), достаточно читать по одному числу и сразу его обрабатывать:\n",
        "```\n",
        "while не конец файла:\n",
        "  прочитать число из файла\n",
        "  добавить его к сумме\n",
        "```\n",
        "\n",
        "Для того, чтобы определить, когда данные закончились, будем использовать особенность метода `readline()`: когда файловый курсор указывает на конец файла, метод `readline()` возвращает пустую строку, которая воспринимается как ложное логическое значение:\n"
      ],
      "metadata": {
        "id": "jnNSVrqwzGXR"
      }
    },
    {
      "cell_type": "code",
      "source": [
        "fileNums = open('/content/data/lec/lec5/nums.txt')\n",
        "s = 0\n",
        "while True:\n",
        "  num = fileNums.readline()\n",
        "  if not num: break\n",
        "  s += int(num)\n",
        "fileNums.close()\n",
        "print(s)"
      ],
      "metadata": {
        "colab": {
          "base_uri": "https://localhost:8080/"
        },
        "id": "eIuH5AV9zn-4",
        "outputId": "799ddbc0-502b-4f33-e67a-445267a09776"
      },
      "execution_count": null,
      "outputs": [
        {
          "output_type": "stream",
          "name": "stdout",
          "text": [
            "199\n"
          ]
        }
      ]
    },
    {
      "cell_type": "markdown",
      "source": [
        "В этом примере при получении пустой строки цикл чтения заканчивается с помощью оператора `break`. Возможны и другие варианты. Например, метод `readlines()` позволяет прочитать все строки сразу в список:"
      ],
      "metadata": {
        "id": "53k44ZNw0Mff"
      }
    },
    {
      "cell_type": "code",
      "source": [
        "fileNums = open('/content/data/lec/lec5/nums.txt')\n",
        "lst = fileNums.readlines()\n",
        "for num in lst:\n",
        "  print(num.strip())\n",
        "fileNums.close()"
      ],
      "metadata": {
        "colab": {
          "base_uri": "https://localhost:8080/"
        },
        "id": "rCVKOas40YCd",
        "outputId": "8ff51676-0d0f-45b1-8baa-c33bf2b6bfbf"
      },
      "execution_count": null,
      "outputs": [
        {
          "output_type": "stream",
          "name": "stdout",
          "text": [
            "10\n",
            "5\n",
            "8\n",
            "123\n",
            "52\n",
            "1\n"
          ]
        }
      ]
    },
    {
      "cell_type": "markdown",
      "source": [
        "## Запись в файл\n",
        "\n",
        "Python позволяет записывать содержимое в файл аналогично тому, как функция `print()` выводит строки на экран. Но записывать что-либо в файл, открытый в режиме чтения, невозможно. Вместо этого файл должен быть открыт в режиме записи.\n",
        "\n",
        "В режиме записи содержимое существующего файла удаляется, и новые данные записываются \"с чистого листа\", аналогично тому, как в операции присваивания старое значение переменной заменяется новым. Чтобы открыть файл в режиме записи, следует передать методу `open()` строку `'w'` в качестве второго аргумента. Поддерживается также *режим добавления*, в котором новый текст добавляется в конец существующего файла. Эту операцию можно рассматривать как присоединение нового значения к списку, хранящемуся в переменной, а не полную перезапись содержимого переменной. Чтобы открыть файл в режиме добавления, следует передать методу `open()` строку `'a'` в качестве второго аргумента.\n",
        "\n",
        "Если файла с именем, переданным методу `open()`, не существует, то как в режиме записи, так и в режиме добавления будет создан новый, пустой файл. Прежде чем повторно открывать файл после завершения операции чтения или записи, его предварительно нужно закрыть с помощью метода `close()`. Именно при закрытии файла все последние изменения, сделанные программой в этом файле, записываются на диск."
      ],
      "metadata": {
        "id": "QOGw0LTyjEh1"
      }
    },
    {
      "cell_type": "code",
      "source": [
        "# Октрываем файл в режиме записи\n",
        "# Файл изначально не существует, поэтому Python создаст его\n",
        "file = open('data.txt', 'w')\n",
        "file.write('Файл - набор данных на диске, имеющий имя.\\n')\n",
        "file.close()"
      ],
      "metadata": {
        "id": "CxzS636yiewj"
      },
      "execution_count": null,
      "outputs": []
    },
    {
      "cell_type": "code",
      "source": [
        "# Октрываем файл в режиме добавления текста\n",
        "file = open('data.txt', 'a')\n",
        "file.write('Файлы бывают двух типов: текстовые и бинарные.')\n",
        "file.close()"
      ],
      "metadata": {
        "id": "Rz0y5Rj_l-Tu"
      },
      "execution_count": null,
      "outputs": []
    },
    {
      "cell_type": "code",
      "source": [
        "# Октрываем файл в режиме чтения текста\n",
        "file = open('data.txt')\n",
        "content = file.read()\n",
        "file.close()\n",
        "print(content)"
      ],
      "metadata": {
        "colab": {
          "base_uri": "https://localhost:8080/"
        },
        "id": "bmanO2J8mt7b",
        "outputId": "f349d102-e43b-4fed-93c8-1c070afbe24b"
      },
      "execution_count": null,
      "outputs": [
        {
          "output_type": "stream",
          "name": "stdout",
          "text": [
            "Файл - набор данных на диске, имеющий имя.\n",
            "Файлы бывают двух типов: текстовые и бинарные.\n"
          ]
        }
      ]
    },
    {
      "cell_type": "markdown",
      "source": [
        "Обратите внимание, что метод `write()` не добавляет автоматически символ новой строки в конец записываемой строки, как это делает функция `print()`. Данный символ нужно добавлять самостоятельно.\n",
        "\n",
        "Начиная с Python 3.6 вместо строки имени файла можно передавать в функцию `open()` объект `Path`."
      ],
      "metadata": {
        "id": "1njicrRHnmNY"
      }
    },
    {
      "cell_type": "markdown",
      "source": [
        "## Конструкция with-as\n",
        "\n",
        "В Python есть ещё один способ работы с файлами, при котором закрывать файл не нужно, он закроется автоматически. Это конструкция `with-as`:"
      ],
      "metadata": {
        "id": "gQ3o2ekt1INO"
      }
    },
    {
      "cell_type": "code",
      "source": [
        "with open(\"/content/data/lec/lec5/nums.txt\") as file:\n",
        "  for num in file:\n",
        "    print(num, end = \"\")"
      ],
      "metadata": {
        "colab": {
          "base_uri": "https://localhost:8080/"
        },
        "id": "hs8dbg9c1ZyB",
        "outputId": "ecdc5950-544e-467a-d8e3-beb4fb84030c"
      },
      "execution_count": null,
      "outputs": [
        {
          "output_type": "stream",
          "name": "stdout",
          "text": [
            "10\n",
            "5\n",
            "8\n",
            "123\n",
            "52\n",
            "1"
          ]
        }
      ]
    },
    {
      "cell_type": "markdown",
      "source": [
        "В первой строке файл `input.txt` открывается в режиме чтения и связывается с файловым указателем `file`. Затем в цикле перебираются все строки в этом файле, каждая из них по очереди попадает в переменную `num` и выводится на экран. Закрывать файл с помощью `close()` не нужно, он закроется автоматически после окончания цикла."
      ],
      "metadata": {
        "id": "NzJ4zL1v1tkx"
      }
    },
    {
      "cell_type": "markdown",
      "source": [
        "## Упаковка объектов Python с помощью модуля pickle"
      ],
      "metadata": {
        "id": "29ShW_bd-S_c"
      }
    },
    {
      "cell_type": "markdown",
      "source": [
        "В программах, которые работают с данными на диске, бывает нужно читать массивы структур из файла и записывать в файл. Конечно, можно хранить структуры в текстовых файлах, например, записывая все поля одной структуры в одну строку и разделяя их каким-то символом-разделителем, который не встречался внутри самих полей.\n",
        "\n",
        "Но есть другой способ, который позволяет хранить данные в файлах во внутреннем формате, т.е. так, как они представлены в памяти компьютера во время работы программы. Для этого в Python используется стандартный модуль `pickle`, позволяющий работать с **бинарными файлами**.\n",
        "\n",
        "Этот модуль предоставляет два метода:\n",
        "* `dump(obj, file)`: записывает объект `obj` в бинарный файл `file`;\n",
        "* `load(file)`: считывает данные из бинарного файла в объект.\n",
        "\n",
        "При открытии бинарного файла на чтение или запись также надо учитывать, что нам нужно применять режим `\"b\"` в дополнение к режиму записи (`\"w\"`) или чтения (`\"r\"`)."
      ],
      "metadata": {
        "id": "1hOZXXm4-vXj"
      }
    },
    {
      "cell_type": "markdown",
      "source": [
        "Рассмотрим пример хранения данных о книгофонде библиотеки."
      ],
      "metadata": {
        "id": "hlQP-tNipfal"
      }
    },
    {
      "cell_type": "code",
      "source": [
        "class Book:\n",
        "  def __init__(self, author, title, count):\n",
        "    self.author = author\n",
        "    self.title = title\n",
        "    self.count = count\n",
        "  def info(self):\n",
        "    print(f'{self.author} {self.title} в наличии {self.count} шт.')\n",
        "\n",
        "book1 = Book('Тургенев И.С.', 'Муму', 5)\n",
        "book2 = Book('Лермонтов М.Ю.', 'Герой нашего времени', 10)\n",
        "book3 = Book('Пушкин А.С.', 'Капитанская дочка', 8)\n",
        "lst_books = [book1, book2, book3]"
      ],
      "metadata": {
        "id": "FltikVd8CBlv"
      },
      "execution_count": null,
      "outputs": []
    },
    {
      "cell_type": "markdown",
      "source": [
        "Запись структуры в файл выполняется с помощью процедуры `dump()`:"
      ],
      "metadata": {
        "id": "71jqYvMcDlNg"
      }
    },
    {
      "cell_type": "code",
      "source": [
        "import pickle\n",
        "with open(\"books.dat\", \"wb\") as F:\n",
        "  pickle.dump(lst_books, F)"
      ],
      "metadata": {
        "id": "imkhOYn0-muh"
      },
      "execution_count": null,
      "outputs": []
    },
    {
      "cell_type": "markdown",
      "source": [
        "Обратите внимание, что файл открывается в режиме `wb` (write binary) - запись данных в двоичном (внутреннем формате).\n",
        "\n",
        "При чтении этих данных нужно использовать тот же способ, что и при записи: если структуры записывались по одной, читать их тоже нужно по одной, а если записывался весь массив за один раз (как это сделали мы), так же его нужно и читать."
      ],
      "metadata": {
        "id": "8xIB7fkODjjH"
      }
    },
    {
      "cell_type": "code",
      "source": [
        "with open(\"books.dat\", \"rb\") as F:\n",
        "  B = pickle.load(F)\n",
        "for book in B:\n",
        "  book.info()"
      ],
      "metadata": {
        "colab": {
          "base_uri": "https://localhost:8080/"
        },
        "id": "PpgyJjKJE5E3",
        "outputId": "e7ab862b-5a88-40d6-9bc3-fedd0bd090d5"
      },
      "execution_count": null,
      "outputs": [
        {
          "output_type": "stream",
          "name": "stdout",
          "text": [
            "Тургенев И.С. Муму в наличии 5 шт.\n",
            "Лермонтов М.Ю. Герой нашего времени в наличии 10 шт.\n",
            "Пушкин А.С. Капитанская дочка в наличии 8 шт.\n"
          ]
        }
      ]
    },
    {
      "cell_type": "markdown",
      "source": [
        "Если бы мы, например, записывали каждую книгу по отдельности:"
      ],
      "metadata": {
        "id": "mViMZPLDFe0W"
      }
    },
    {
      "cell_type": "code",
      "source": [
        "with open(\"books.dat\", \"wb\") as F:\n",
        "  pickle.dump(book1, F)\n",
        "  pickle.dump(book2, F)\n",
        "  pickle.dump(book3, F)"
      ],
      "metadata": {
        "id": "qYiCVjgBFlWZ"
      },
      "execution_count": null,
      "outputs": []
    },
    {
      "cell_type": "markdown",
      "source": [
        "То для чтения данных при известном количестве структур можно применить цикл с переменной:"
      ],
      "metadata": {
        "id": "i7Ln1Nl5FrH_"
      }
    },
    {
      "cell_type": "code",
      "source": [
        "B = []\n",
        "with open(\"books.dat\", \"rb\") as F:\n",
        "  for _ in range(3):\n",
        "    B.append(pickle.load(F))\n",
        "\n",
        "for book in B:\n",
        "  book.info()"
      ],
      "metadata": {
        "colab": {
          "base_uri": "https://localhost:8080/"
        },
        "id": "cWTV-286GAKJ",
        "outputId": "20d4f49b-f3c1-49c2-ee7e-965010537079"
      },
      "execution_count": null,
      "outputs": [
        {
          "output_type": "stream",
          "name": "stdout",
          "text": [
            "Тургенев И.С. Муму в наличии 5 шт.\n",
            "Лермонтов М.Ю. Герой нашего времени в наличии 10 шт.\n",
            "Пушкин А.С. Капитанская дочка в наличии 8 шт.\n"
          ]
        }
      ]
    },
    {
      "cell_type": "markdown",
      "source": [
        "Если же число структур неизвестно, нужно выполнять чтение до тех пор, пока файл не закончится, т.е. при очередном чтении не произойдет ошибка:"
      ],
      "metadata": {
        "id": "kw7nfcLjGUDP"
      }
    },
    {
      "cell_type": "code",
      "source": [
        "B = []\n",
        "with open(\"books.dat\", \"rb\") as F:\n",
        "  while True:\n",
        "    try:\n",
        "      B.append(pickle.load(F))\n",
        "    except:\n",
        "      break\n",
        "\n",
        "for book in B:\n",
        "  book.info()"
      ],
      "metadata": {
        "colab": {
          "base_uri": "https://localhost:8080/"
        },
        "id": "LaoxtJkzGjSz",
        "outputId": "a1a8a736-bb4d-48a3-c86b-edf6b2f445a2"
      },
      "execution_count": null,
      "outputs": [
        {
          "output_type": "stream",
          "name": "stdout",
          "text": [
            "Тургенев И.С. Муму в наличии 5 шт.\n",
            "Лермонтов М.Ю. Герой нашего времени в наличии 10 шт.\n",
            "Пушкин А.С. Капитанская дочка в наличии 8 шт.\n"
          ]
        }
      ]
    },
    {
      "cell_type": "markdown",
      "source": [
        "## Сохранение переменных с помощью модуля shelve\n",
        "\n",
        "Для работы с бинарными файлами в Python может применяться еще один модуль - `shelve`. Модуль `shelve` реализует постоянное хранилище для произвольных объектов Python, значения которого можно извлекать, используя словарные методы. Он сохраняет объекты в файл с определенным ключом. Затем по этому ключу может извлечь ранее сохраненный объект из файла. В качестве ключей хранилища `shelve` используются обычные строки.\n",
        "\n",
        "С помощью модуля `shelve` можно сохранить переменные в бинарных файлах-хранилищах. Благодаря этому программа сможет впоследствии восстановить значения переменных, считывая данные с жесткого диска, что позволяет реализовать в программе функции сохранения и открытия файлов. Например, можно задать конфигурационные настройки, сохранить их в файле хранилища и загрузить при последующем запуске программы."
      ],
      "metadata": {
        "id": "GrIndQmuohoY"
      }
    },
    {
      "cell_type": "code",
      "source": [
        "import shelve\n",
        "shelfFile = shelve.open('mydata') # записываем содержимое хранилища\n",
        "cats = ['Софи', 'Питер', 'Саймон']\n",
        "shelfFile['кошки'] = cats # доступ к хранилищу осуществляется по ключу\n",
        "shelfFile.close()"
      ],
      "metadata": {
        "id": "6OqLYh-bm4AY"
      },
      "execution_count": null,
      "outputs": []
    },
    {
      "cell_type": "markdown",
      "source": [
        "В результате мы получили бинарный файл, в котором содержатся данные, помещенные в хранилище. Точный формат хранения данных не имеет значения: достаточно знать лишь то, *что* делает модуль `shelve`, а не *как* он это делает. Данный модуль освобождает нас от всех забот, связанных с организацией хранения данных в файлах.\n",
        "\n",
        "Программа может использовать модуль `shelve` для последующего открытия файлов хранилища и извлечения из них данных. Хранилища не нужно открывать в режиме чтения или записи - как только хранилище будет открыто, вы сможете выполнять оба типа операций."
      ],
      "metadata": {
        "id": "uCZxfLXGqkJR"
      }
    },
    {
      "cell_type": "code",
      "source": [
        "shelfFile = shelve.open('mydata')\n",
        "type(shelfFile)"
      ],
      "metadata": {
        "colab": {
          "base_uri": "https://localhost:8080/"
        },
        "id": "9xoJ6amXqAdk",
        "outputId": "a89812b5-b3f5-4999-ebe5-09fca90b94f0"
      },
      "execution_count": null,
      "outputs": [
        {
          "output_type": "execute_result",
          "data": {
            "text/plain": [
              "shelve.DbfilenameShelf"
            ]
          },
          "metadata": {},
          "execution_count": 47
        }
      ]
    },
    {
      "cell_type": "code",
      "source": [
        "shelfFile['кошки']"
      ],
      "metadata": {
        "colab": {
          "base_uri": "https://localhost:8080/"
        },
        "id": "cFucZ_5PrwL7",
        "outputId": "b174a4a7-8d7f-4d09-c26e-16c92cc83aaa"
      },
      "execution_count": null,
      "outputs": [
        {
          "output_type": "execute_result",
          "data": {
            "text/plain": [
              "['Софи', 'Питер', 'Саймон']"
            ]
          },
          "metadata": {},
          "execution_count": 48
        }
      ]
    },
    {
      "cell_type": "code",
      "source": [
        "shelfFile.close()"
      ],
      "metadata": {
        "id": "3CIVE217rzEn"
      },
      "execution_count": null,
      "outputs": []
    },
    {
      "cell_type": "markdown",
      "source": [
        "Как и словари, хранилища поддерживают методы `keys()` и `values()`, извлекающие из хранилища коллекции ключей и значений."
      ],
      "metadata": {
        "id": "B2_PRa8Er6E9"
      }
    },
    {
      "cell_type": "code",
      "source": [
        "shelfFile = shelve.open('mydata')\n",
        "print(list(shelfFile.keys()))\n",
        "print(list(shelfFile.values()))\n",
        "shelfFile.close()"
      ],
      "metadata": {
        "colab": {
          "base_uri": "https://localhost:8080/"
        },
        "id": "ccvixVW8r4Pg",
        "outputId": "feabdd4a-7943-4bc8-f280-d6316ff9ed0e"
      },
      "execution_count": null,
      "outputs": [
        {
          "output_type": "stream",
          "name": "stdout",
          "text": [
            "['кошки']\n",
            "[['Софи', 'Питер', 'Саймон']]\n"
          ]
        }
      ]
    },
    {
      "cell_type": "markdown",
      "source": [
        "Создадим словарь для хранения стран и их столиц:"
      ],
      "metadata": {
        "id": "buUNm_DBNkw1"
      }
    },
    {
      "cell_type": "code",
      "source": [
        "# import shelve\n",
        "\n",
        "FILENAME = \"states\"\n",
        "with shelve.open(FILENAME) as states:\n",
        "    states[\"London\"] = \"Great Britain\"\n",
        "    states[\"Paris\"] = \"France\"\n",
        "    states[\"Berlin\"] = \"Germany\"\n",
        "    states[\"Madrid\"] = \"Spain\"\n",
        "\n",
        "with shelve.open(FILENAME) as states:\n",
        "    print(states[\"London\"])\n",
        "    print(states[\"Madrid\"])"
      ],
      "metadata": {
        "colab": {
          "base_uri": "https://localhost:8080/"
        },
        "id": "_gYByxFXMSF4",
        "outputId": "94030af1-4e33-499b-9303-ac1c8f5d8b6b"
      },
      "execution_count": null,
      "outputs": [
        {
          "output_type": "stream",
          "name": "stdout",
          "text": [
            "Great Britain\n",
            "Spain\n"
          ]
        }
      ]
    },
    {
      "cell_type": "markdown",
      "source": [
        "### Получение данных\n",
        "\n",
        "Чтение данных из файла эквивалентно получению значения по ключу в словаре.\n",
        "\n",
        "Попробуем получить значение по несуществующему ключу:"
      ],
      "metadata": {
        "id": "Sz06Wx5cNeLT"
      }
    },
    {
      "cell_type": "code",
      "source": [
        "with shelve.open(FILENAME) as states:\n",
        "  key = \"Brussels\"\n",
        "  print(states[key])\n",
        "\n",
        "  #1 проверка наличия ключа с помощью оператора in\n",
        "  # if key in states:\n",
        "  #     print(states[key])\n",
        "\n",
        "  #2 проверка с помощью метода get()\n",
        "  # print(states.get(\"Brussels\", \"Undefined\"))"
      ],
      "metadata": {
        "colab": {
          "base_uri": "https://localhost:8080/"
        },
        "id": "1xZ0x_spMiHD",
        "outputId": "0c92fb7c-ec14-408e-edde-3084bbdf273a"
      },
      "execution_count": null,
      "outputs": [
        {
          "output_type": "stream",
          "name": "stdout",
          "text": [
            "Belgium\n"
          ]
        }
      ]
    },
    {
      "cell_type": "markdown",
      "source": [
        "### Обновление данных\n",
        "\n",
        "Для изменения данных достаточно присвоить по ключу новое значение, а для добавления данных - определить новый ключ:"
      ],
      "metadata": {
        "id": "W2rlKYz0NS1i"
      }
    },
    {
      "cell_type": "code",
      "source": [
        "with shelve.open(FILENAME) as states:\n",
        "  states[\"London\"] = \"United Kingdom\"\n",
        "  states[\"Brussels\"] = \"Belgium\""
      ],
      "metadata": {
        "id": "CFqWSYCVNVA9"
      },
      "execution_count": null,
      "outputs": []
    },
    {
      "cell_type": "markdown",
      "source": [
        "### Удаление данных\n",
        "\n",
        "Для удаления с одновременным получением значения можно использовать функцию `pop()`, в которую передается ключ элемента и значение по умолчанию, если ключ не найден:"
      ],
      "metadata": {
        "id": "4HYWJVtwN8AL"
      }
    },
    {
      "cell_type": "code",
      "source": [
        "with shelve.open(FILENAME) as states:\n",
        "    state = states.pop(\"London\", \"NotFound\")\n",
        "    print(state)"
      ],
      "metadata": {
        "colab": {
          "base_uri": "https://localhost:8080/"
        },
        "id": "mfbS0GoZOF9t",
        "outputId": "39e1ce69-e371-407d-cfd4-af96d9dfd4d7"
      },
      "execution_count": null,
      "outputs": [
        {
          "output_type": "stream",
          "name": "stdout",
          "text": [
            "United Kingdom\n"
          ]
        }
      ]
    },
    {
      "cell_type": "markdown",
      "source": [
        "Также для удаления может применяться оператор `del`:"
      ],
      "metadata": {
        "id": "CbEJ68vwOJNo"
      }
    },
    {
      "cell_type": "code",
      "source": [
        "with shelve.open(FILENAME) as states:\n",
        "    del states[\"Madrid\"]    # удаляем объект с ключом Madrid"
      ],
      "metadata": {
        "id": "lmcj9eOiOLyh"
      },
      "execution_count": null,
      "outputs": []
    },
    {
      "cell_type": "markdown",
      "source": [
        "Для удаления всех элементов можно использовать метод `clear()`:"
      ],
      "metadata": {
        "id": "x1UqdgF2OPz8"
      }
    },
    {
      "cell_type": "code",
      "source": [
        "with shelve.open(FILENAME) as states:\n",
        "    states.clear()"
      ],
      "metadata": {
        "id": "gZRkAM7xOS-p"
      },
      "execution_count": null,
      "outputs": []
    },
    {
      "cell_type": "markdown",
      "source": [
        "Формат простого текста удобно использовать для создания файлов, которые будут просматриваться в текстовом редакторе наподобие Блокнот. Если же нужно сохранять данные из программ Python, можно воспользоваться методом `shelve`."
      ],
      "metadata": {
        "id": "PGkcNQlAseg_"
      }
    },
    {
      "cell_type": "markdown",
      "source": [
        "## Обработка списков\n",
        "\n",
        "В текстовом файле записаны целые числа. Требуется вывести в другой текстовый файл те же числа, отсортированные в порядке убывания последней цифры.\n",
        "Особенность этой задачи в том, что для сортировки нам нужно удерживать в памяти все числа, то есть для их хранения нужно выделить массив (список).\n",
        "\n",
        "В большинстве языков программирования память под массив нужно выделить заранее, поэтому необходимо знать наибольшее возможное число элементов массива. Поскольку список в Python может расширяться, у нас этой проблемы нет. Цикл чтения может выглядеть так:\n"
      ],
      "metadata": {
        "id": "bnbBS9jT2Aly"
      }
    },
    {
      "cell_type": "code",
      "source": [
        "fileNums = open('/content/data/lec/lec5/nums.txt')\n",
        "A = []\n",
        "while True:\n",
        "  s = fileNums.readline()\n",
        "  if not s: break\n",
        "  A.append(int(s))\n",
        "A"
      ],
      "metadata": {
        "colab": {
          "base_uri": "https://localhost:8080/"
        },
        "id": "3y6baqKqsR2w",
        "outputId": "6162bd45-5e25-4a3c-e63e-009f7702ef3d"
      },
      "execution_count": null,
      "outputs": [
        {
          "output_type": "execute_result",
          "data": {
            "text/plain": [
              "[10, 5, 8, 123, 52, 1]"
            ]
          },
          "metadata": {},
          "execution_count": 59
        }
      ]
    },
    {
      "cell_type": "markdown",
      "source": [
        "Есть и другой вариант, в стиле Python. Метод `read()` для файлового указателя читает (в отличие от `readline()`) не одну сроку, а весь файл. Затем мы разобьём получившуюся символьную строку на слова с помощью метода `split()` и с помощью функции `map()` выполним преобразование элементов списка к целым числам:"
      ],
      "metadata": {
        "id": "oYZ-dJ772dU6"
      }
    },
    {
      "cell_type": "code",
      "source": [
        "fileNums = open('/content/data/lec/lec5/nums.txt')\n",
        "nums = fileNums.read().split()\n",
        "nums = list(map(int, nums))"
      ],
      "metadata": {
        "id": "Dtz9T8Jd2mnK"
      },
      "execution_count": null,
      "outputs": []
    },
    {
      "cell_type": "markdown",
      "source": [
        "Теперь нужно отсортировать массив `nums` в порядке убывания последней цифры:"
      ],
      "metadata": {
        "id": "QZzkudDZ3kwh"
      }
    },
    {
      "cell_type": "code",
      "source": [
        "nums.sort(key = lambda x: x%10, reverse = True)\n",
        "nums"
      ],
      "metadata": {
        "colab": {
          "base_uri": "https://localhost:8080/"
        },
        "id": "ltxsT_VV2ymd",
        "outputId": "e424bb16-e053-4d2a-e414-58c7eba5f354"
      },
      "execution_count": null,
      "outputs": [
        {
          "output_type": "execute_result",
          "data": {
            "text/plain": [
              "[8, 5, 123, 52, 1, 10]"
            ]
          },
          "metadata": {},
          "execution_count": 61
        }
      ]
    },
    {
      "cell_type": "markdown",
      "source": [
        "Запишем результат во второй файл, открытый на запись:"
      ],
      "metadata": {
        "id": "mzlnMoSc3zXV"
      }
    },
    {
      "cell_type": "code",
      "source": [
        "Fout = open(\"output.txt\", \"w\")\n",
        "Fout.write(str(nums))\n",
        "Fout.close()"
      ],
      "metadata": {
        "id": "KCrjP4vb3lTf"
      },
      "execution_count": null,
      "outputs": []
    },
    {
      "cell_type": "markdown",
      "source": [
        "В этом варианте мы использовали функцию `str()`, которая возвращает символьную запись объекта, такую, которая выводится на экран. Если нам нужно форматировать данные по-своему, например, вывести их в столбик, можно обработать каждый элемент вручную в цикле:"
      ],
      "metadata": {
        "id": "lUrDTIz64KR8"
      }
    },
    {
      "cell_type": "code",
      "source": [
        "Fout = open(\"output.txt\", \"w\")\n",
        "for x in nums:\n",
        "  Fout.write(str(x)+\"\\n\")\n",
        "Fout.close()"
      ],
      "metadata": {
        "id": "KC1349WL4O9W"
      },
      "execution_count": null,
      "outputs": []
    },
    {
      "cell_type": "markdown",
      "source": [
        "К символьной записи очередного элемента массива мы добавляем символ перехода на новую строку, который обозначается как `\"\\n\"`. В этом случае числа выводятся в файл в столбик."
      ],
      "metadata": {
        "id": "2AcBk_Wj4eTN"
      }
    },
    {
      "cell_type": "markdown",
      "source": [
        "## Обработка строк\n",
        "\n",
        "Как известно, современные компьютеры бóльшую часть времени заняты обработкой символьной, а не числовой информации. Предположим, что в текстовом файле записаны данные о собаках, привезенных на выставку: в каждой строчке кличка собаки, ее возраст (целое число) и порода, например:\n",
        "\n",
        "*Мухтар 4 немецкая овчарка*\n",
        "\n",
        "Все элементы отделяются друг от друга одним пробелом. Нужно вывести в другой файл сведения о собаках, которым меньше 5 лет.\n",
        "\n",
        "В этой задаче данные можно обрабатывать по одной строке (не нужно загружать все строки в оперативную память):\n",
        "\n",
        "```\n",
        "while не конец файла (Fin):\n",
        "  прочитать строку из файла Fin\n",
        "  разобрать строку – выделить возраст\n",
        "  if возраст < 5:\n",
        "    записать строку в файл Fout\n",
        "```\n",
        "\n",
        "Здесь, как и раньше, `Fin` и `Fout` – файловые переменные, связанные с файлами, открытыми на чтение и запись соответственно.\n",
        "\n",
        "Будем считать, что все данные корректны, то есть первый пробел отделяет кличку от возраста, а второй – возраст от породы. Тогда для разбора очередной прочитанной строки `s` можно использовать метод `split()`, который вернет список, где второй по счёту элемент (он имеет индекс 1) – это возраст собаки. Его и нужно преобразовать в целое число:\n"
      ],
      "metadata": {
        "id": "7fRzNkH64m2T"
      }
    },
    {
      "cell_type": "code",
      "source": [
        "Fin = open('/content/data/lec/lec5/dogs.txt')\n",
        "s = Fin.readline()\n",
        "data = s.split()\n",
        "sAge = data[1]\n",
        "age = int(sAge)\n",
        "age"
      ],
      "metadata": {
        "id": "H0E3k3hT4gV2",
        "colab": {
          "base_uri": "https://localhost:8080/"
        },
        "outputId": "b2de986c-4d7d-41c1-8d90-a41050626a97"
      },
      "execution_count": null,
      "outputs": [
        {
          "output_type": "execute_result",
          "data": {
            "text/plain": [
              "4"
            ]
          },
          "metadata": {},
          "execution_count": 65
        }
      ]
    },
    {
      "cell_type": "markdown",
      "source": [
        "Эти операции можно записать в краткой форме:"
      ],
      "metadata": {
        "id": "kL4F-Qmi510L"
      }
    },
    {
      "cell_type": "code",
      "source": [
        "s = Fin.readline()\n",
        "age = int(s.split()[1])\n",
        "age"
      ],
      "metadata": {
        "id": "RsdMTGPB52OC",
        "colab": {
          "base_uri": "https://localhost:8080/"
        },
        "outputId": "3003eb80-8c2e-4fc2-cb68-ddae88eb67f0"
      },
      "execution_count": null,
      "outputs": [
        {
          "output_type": "execute_result",
          "data": {
            "text/plain": [
              "2"
            ]
          },
          "metadata": {},
          "execution_count": 67
        }
      ]
    },
    {
      "cell_type": "markdown",
      "source": [
        "Полная программа выглядит так:"
      ],
      "metadata": {
        "id": "3jvGnO_i59wk"
      }
    },
    {
      "cell_type": "code",
      "source": [
        "Fin = open('/content/data/lec/lec5/dogs.txt')\n",
        "Fout = open('/content/data/lec/lec5/dogs5.txt', 'w')\n",
        "while True:\n",
        "  s = Fin.readline()\n",
        "  if not s: break\n",
        "  age = int(s.split()[1])\n",
        "  if age < 5:\n",
        "    Fout.write(s)\n",
        "Fin.close()\n",
        "Fout.close()"
      ],
      "metadata": {
        "id": "5hlYxIyL5-KO"
      },
      "execution_count": null,
      "outputs": []
    },
    {
      "cell_type": "markdown",
      "source": [
        "Её можно записать несколько иначе, используя метод `readlines()`, который читает сразу все строки в список:"
      ],
      "metadata": {
        "id": "IFLhBNzB6oP6"
      }
    },
    {
      "cell_type": "code",
      "source": [
        "Fin = open('/content/data/lec/lec5/dogs.txt')\n",
        "Fout = open('/content/data/lec/lec5/dogs5.txt', 'w')\n",
        "lst = Fin.readlines()\n",
        "for s in lst:\n",
        "  age = int(s.split()[1])\n",
        "  if age < 5:\n",
        "    Fout.write(s)\n",
        "Fin.close()\n",
        "Fout.close()"
      ],
      "metadata": {
        "id": "57AbBDXa6qOF"
      },
      "execution_count": null,
      "outputs": []
    },
    {
      "cell_type": "markdown",
      "source": [
        "или конструкцию `with-as`:"
      ],
      "metadata": {
        "id": "WoDg20cg7LSd"
      }
    },
    {
      "cell_type": "code",
      "source": [
        "with open(\"/content/data/lec/lec5/dogs.txt\") as Fin, open('/content/data/lec/lec5/dogs5.txt', 'w') as Fout:\n",
        "  for s in Fin:\n",
        "    age = int(s.split()[1])\n",
        "    if age < 5:\n",
        "      Fout.write(s)"
      ],
      "metadata": {
        "id": "goSBn-uC62UU"
      },
      "execution_count": null,
      "outputs": []
    },
    {
      "cell_type": "markdown",
      "source": [
        "## Подведем итог\n",
        "\n",
        "Файлы хранятся в папках (каталогах), и местоположение файла описывается строкой пути. У каждой запущенной программы есть свой текущий каталог, что позволяет указывать пути относительно текущего каталога вместо того, чтобы всегда задавать полный (абсолютный) путь. Модули `pathlib` и `os.path` содержат множество функций, предназначенных для работы с путями доступра к файлам.\n",
        "\n",
        "В программе можно непосредственно работать с содержимым текстовых файлов. Функция `open()` позволяет открывать такие файлы для чтения их содержимого в виде одной длинной строки (с помощью метода `read()`) или в виде списка строк (метод `readlines()`). Функция `open()` позволяет открывать файлы в режиме записи или добавления, что дает возможность создавать новые текстовые файлы или добавлять данные в конец существующих файлов."
      ],
      "metadata": {
        "id": "IbEHe1kfP5vy"
      }
    }
  ]
}