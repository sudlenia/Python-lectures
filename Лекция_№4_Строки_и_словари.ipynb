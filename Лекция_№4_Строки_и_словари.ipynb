{
  "nbformat": 4,
  "nbformat_minor": 0,
  "metadata": {
    "colab": {
      "provenance": [],
      "include_colab_link": true
    },
    "kernelspec": {
      "name": "python3",
      "display_name": "Python 3"
    },
    "language_info": {
      "name": "python"
    }
  },
  "cells": [
    {
      "cell_type": "markdown",
      "metadata": {
        "id": "view-in-github",
        "colab_type": "text"
      },
      "source": [
        "<a href=\"https://colab.research.google.com/github/sudlenia/Python-lections/blob/main/%D0%9B%D0%B5%D0%BA%D1%86%D0%B8%D1%8F_%E2%84%964_%D0%A1%D1%82%D1%80%D0%BE%D0%BA%D0%B8_%D0%B8_%D1%81%D0%BB%D0%BE%D0%B2%D0%B0%D1%80%D0%B8.ipynb\" target=\"_parent\"><img src=\"https://colab.research.google.com/assets/colab-badge.svg\" alt=\"Open In Colab\"/></a>"
      ]
    },
    {
      "cell_type": "markdown",
      "source": [
        "# Строки\n",
        "\n",
        "Чаще всего в программах приходится работать именно с текстом. Мы с вами уже знаем, как конкатенировать две строки с помощью оператора `+`, но возможности Python гораздо шире. Можно извлекать фрагменты строк, добавлять и удалять пробелы, преобразовывать буквы из нижнего регистра в верхний и обратно, а также проверять форматирование строк. Можно даже обратиться к буферу обмена для копирования и вставки текста.\n",
        "\n",
        "**Строка** представляет последовательность символов в кодировке Unicode, заключенных в кавычки. Причем для определения строк Python позволяет использовать как одинарные, так и двойные кавычки."
      ],
      "metadata": {
        "id": "1m3qlD5Wu9Sx"
      }
    },
    {
      "cell_type": "markdown",
      "source": [
        "## Строковые литералы\n",
        "\n",
        "Строки в Python начинаются и заканчиваются одинарными кавычками. Но как быть, если кавычка стоит в самой строке? Вводить строки вида `'This is Alice's cat.'` нельзя, поскольку Python интерпретирует апостроф как закрывающую кавычку, и оставшаяся часть текста (`s cat.'`) будет воспринята как недопустимый код. К счастью, есть разные способы ввода строк."
      ],
      "metadata": {
        "id": "IKSRitxdvxLv"
      }
    },
    {
      "cell_type": "markdown",
      "source": [
        "## Двойные кавычки\n",
        "\n",
        "Начало и конец строки можно обзначать не только одинарными, но и двойными кавычками. Преимущество двойных кавычек в том, что они позволяют трактовать одинарную кавычку как апостроф."
      ],
      "metadata": {
        "id": "qWyeFk4CwtFk"
      }
    },
    {
      "cell_type": "code",
      "source": [
        "s = \"This is Alice's cat.\"\n",
        "s"
      ],
      "metadata": {
        "colab": {
          "base_uri": "https://localhost:8080/",
          "height": 36
        },
        "id": "NzA6wSGWvwg6",
        "outputId": "e3aa3c41-06e2-4463-b146-e1f8e59f5b5f"
      },
      "execution_count": null,
      "outputs": [
        {
          "output_type": "execute_result",
          "data": {
            "text/plain": [
              "\"This is Alice's cat.\""
            ],
            "application/vnd.google.colaboratory.intrinsic+json": {
              "type": "string"
            }
          },
          "metadata": {},
          "execution_count": 1
        }
      ]
    },
    {
      "cell_type": "markdown",
      "source": [
        "Поскольку строка начинается с двойной кавычки, Python считает одинарную кавычку апострофом в составе строки и не помечает оставшийся текст как ошибочный. Если же в строке нужны как одинарные, так и двойные кавычки, то необходимо прибегнуть к экранированию символов."
      ],
      "metadata": {
        "id": "VR4WfrXAxISa"
      }
    },
    {
      "cell_type": "markdown",
      "source": [
        "## Экранирование символов\n",
        "\n",
        "Благодаря экранированию в строке можно использовать символы, вставить которые по-другому невозможно. *Экранированный символ* предваряется обратной косой чертой (\\\\), за которой следует сам символ, добавляемый в строку. Например, экранированная кавычка записывается так: `\\'`. Её можно использовать даже в строке, которая начинается и заканчивается одинарной кавычкой."
      ],
      "metadata": {
        "id": "NkDrpJMHxll6"
      }
    },
    {
      "cell_type": "code",
      "source": [
        "s = 'This is Alice\\'s cat.'\n",
        "s"
      ],
      "metadata": {
        "colab": {
          "base_uri": "https://localhost:8080/",
          "height": 36
        },
        "id": "h5dyoi2lxHDk",
        "outputId": "44231baa-778e-42b6-e803-b5040816aefd"
      },
      "execution_count": null,
      "outputs": [
        {
          "output_type": "execute_result",
          "data": {
            "text/plain": [
              "\"This is Alice's cat.\""
            ],
            "application/vnd.google.colaboratory.intrinsic+json": {
              "type": "string"
            }
          },
          "metadata": {},
          "execution_count": 2
        }
      ]
    },
    {
      "cell_type": "markdown",
      "source": [
        "Доступные экранированные символы представлены в таблице ниже:\n",
        "\n",
        "|Экранированный символ|Отображаемый символ|\n",
        "|:-:|:-|\n",
        "| `\\'` |Одинарная кавычка (апостроф)|\n",
        "| `\\\"` |Двойная кавычка|\n",
        "| `\\t` |Табуляция|\n",
        "| `\\n` |Новая строка (разрыв строки)|\n",
        "| `\\\\` |Обратная косая черта|"
      ],
      "metadata": {
        "id": "NqsBBfNJyveS"
      }
    },
    {
      "cell_type": "code",
      "source": [
        "print(\"Hello there!\\nHow are you?\\nI\\'m doing fine.\")"
      ],
      "metadata": {
        "colab": {
          "base_uri": "https://localhost:8080/"
        },
        "id": "Ck1r_4o10H57",
        "outputId": "ce2828c1-d029-41d7-a106-f4d79dc52a25"
      },
      "execution_count": null,
      "outputs": [
        {
          "output_type": "stream",
          "name": "stdout",
          "text": [
            "Hello there!\n",
            "How are you?\n",
            "I'm doing fine.\n"
          ]
        }
      ]
    },
    {
      "cell_type": "markdown",
      "source": [
        "## Необработанные строки\n",
        "\n",
        "Хотя управляющие последовательности могут нам помочь в некоторых делах, например, поместить в строку кавычку, сделать табуляцию, перенос на другую строку. Но они также могут и мешать."
      ],
      "metadata": {
        "id": "HRVNLdb83BeW"
      }
    },
    {
      "cell_type": "code",
      "source": [
        "path = \"C:\\python\\name.txt\"\n",
        "print(path)"
      ],
      "metadata": {
        "colab": {
          "base_uri": "https://localhost:8080/"
        },
        "id": "K-xH6B4I_5mR",
        "outputId": "82138646-e9a5-48b8-bc3a-a57593a2cfbd"
      },
      "execution_count": null,
      "outputs": [
        {
          "output_type": "stream",
          "name": "stdout",
          "text": [
            "C:\\python\n",
            "ame.txt\n"
          ]
        }
      ]
    },
    {
      "cell_type": "markdown",
      "source": [
        "Здесь переменная path содержит некоторый путь к файлу. Однако внутри строки встречаются символы \"\\n\", которые будут интерпретированы как управляющая последовательность."
      ],
      "metadata": {
        "id": "yyicKMUu_615"
      }
    },
    {
      "cell_type": "markdown",
      "source": [
        "Поместив символ `r` перед открывающейся кавычкой, можно пометить строку как *необработанную*. В такой строке экранирование полностью игнорируется, поэтому на экран выводятся все символы обратной косой черты, которые встречаются в строке."
      ],
      "metadata": {
        "id": "s8M7J58E_0JC"
      }
    },
    {
      "cell_type": "code",
      "source": [
        "path = r\"C:\\python\\name.txt\"\n",
        "print(path)"
      ],
      "metadata": {
        "colab": {
          "base_uri": "https://localhost:8080/"
        },
        "id": "BLkHXnd7BBiO",
        "outputId": "1cbf6aa7-af39-4c59-e46a-6cd84c9c2070"
      },
      "execution_count": null,
      "outputs": [
        {
          "output_type": "stream",
          "name": "stdout",
          "text": [
            "C:\\python\\name.txt\n"
          ]
        }
      ]
    },
    {
      "cell_type": "code",
      "source": [
        "print(r'That is Carol\\'s cat.')"
      ],
      "metadata": {
        "colab": {
          "base_uri": "https://localhost:8080/"
        },
        "id": "oOPSkUzR0a9F",
        "outputId": "80621ef6-61d2-41a2-9f32-ac4c55cd2c6c"
      },
      "execution_count": null,
      "outputs": [
        {
          "output_type": "stream",
          "name": "stdout",
          "text": [
            "That is Carol\\'s cat.\n"
          ]
        }
      ]
    },
    {
      "cell_type": "markdown",
      "source": [
        "Поскольку это необработанная строка, Python считает все символы обратной косой черты ее частью, а не началом экранированного символа. Такая возможность удобна в тех случаях, когда вводятся строки, содержащие множество символов обратной косой черты, как, например, в файловых путях вида:"
      ],
      "metadata": {
        "id": "N_DPkAYC3xD1"
      }
    },
    {
      "cell_type": "code",
      "source": [
        "print(r'C:\\Users\\Andrey\\Desktop')"
      ],
      "metadata": {
        "colab": {
          "base_uri": "https://localhost:8080/"
        },
        "id": "Aq8q1kFR3tLC",
        "outputId": "9601ca0e-d9b7-46bb-9121-8ea9b4dbafec"
      },
      "execution_count": null,
      "outputs": [
        {
          "output_type": "stream",
          "name": "stdout",
          "text": [
            "C:\\Users\\Andrey\\Desktop\n"
          ]
        }
      ]
    },
    {
      "cell_type": "markdown",
      "source": [
        "## Многострочные текстовые блоки с тройными кавычками\n",
        "\n",
        "Несмотря на то что в строку всегда можно добавить экранированный символ новой строки (\\n), во многих случаях удобнее использовать многострочные блоки. В Python многострочный текст представляет собой группу строк, заключенных в тройные кавычки (три одинарные или три двойные). Любые кавычки, табуляции или символы новой строки в блоке, ограниченном тройными кавычками, считаются частью строки. Правила Python, регламентирующие форматирование блоков кода с помощью отступов в отношении многостроных блоков не действуют.\n",
        "\n"
      ],
      "metadata": {
        "id": "lQfhl-FaDO3S"
      }
    },
    {
      "cell_type": "code",
      "source": [
        "print('''Hello there!\n",
        "How are you?\n",
        "I'm doing fine.''')"
      ],
      "metadata": {
        "colab": {
          "base_uri": "https://localhost:8080/"
        },
        "id": "RAxOD2fgC95B",
        "outputId": "248c967e-f57e-4a20-d861-4f05b00e74a1"
      },
      "execution_count": null,
      "outputs": [
        {
          "output_type": "stream",
          "name": "stdout",
          "text": [
            "Hello there!\n",
            "How are you?\n",
            "I'm doing fine.\n"
          ]
        }
      ]
    },
    {
      "cell_type": "markdown",
      "source": [
        "Обратите внимание, что для апострофа в слове `I'm` не понадобилось экранирование. В многострочных блоках экранировать одинарные и двойные кавычки необязательно."
      ],
      "metadata": {
        "id": "ArbEgh5QGCG6"
      }
    },
    {
      "cell_type": "markdown",
      "source": [
        "## Многострочные комментарии\n",
        "\n",
        "Однострочный комментарий начинается с символа решетки (#) и длится до конца строки. Если требуется ввести многострочный комментарий, то для этого можно использовать текстовый блок."
      ],
      "metadata": {
        "id": "nlxy5jRiGm2P"
      }
    },
    {
      "cell_type": "code",
      "source": [
        "\"\"\"\n",
        "Это тестовая программа.\n",
        "Функция вывода приветственного сообщения.\n",
        "\"\"\"\n",
        "\n",
        "def hello(name):\n",
        "  \"\"\"Это многострочный комментарий, объясняющий\n",
        "  назначение функции hello().\"\"\"\n",
        "  print(f'Привет, {name}!')\n",
        "\n",
        "help(hello)\n",
        "\n",
        "hello('Андрей')"
      ],
      "metadata": {
        "colab": {
          "base_uri": "https://localhost:8080/"
        },
        "id": "Qx3p71loF2xc",
        "outputId": "f6794d68-e4b7-4da4-87f0-9fcb598802e7"
      },
      "execution_count": null,
      "outputs": [
        {
          "output_type": "stream",
          "name": "stdout",
          "text": [
            "Help on function hello in module __main__:\n",
            "\n",
            "hello(name)\n",
            "    Это многострочный комментарий, объясняющий\n",
            "    назначение функции hello().\n",
            "\n",
            "Привет, Андрей!\n"
          ]
        }
      ]
    },
    {
      "cell_type": "markdown",
      "source": [
        "## Индексирование строк и извлечение срезов\n",
        "\n",
        "**Срез** (slice) — извлечение из данной строки одного символа или некоторого фрагмента подстроки или подпоследовательности.\n",
        "\n",
        "В случае строк операции индексирования и извлечения срезов выполняются точно так же, как и в случае списков. Например, строку `'Hello, world!'` можно рассматривать как список, в котором каждый символ имеет соответствующий индекс."
      ],
      "metadata": {
        "id": "92q2RwtJHxJf"
      }
    },
    {
      "cell_type": "code",
      "source": [
        "s = 'Hello, world!'\n",
        "print(s[0])\n",
        "print(s[4])\n",
        "print(s[-1])\n",
        "print(s[:5])\n",
        "print(s[7:])"
      ],
      "metadata": {
        "colab": {
          "base_uri": "https://localhost:8080/"
        },
        "id": "fqAbsn7fHfKN",
        "outputId": "821e9e0e-4eff-49c3-e681-0fd6b9e758fb"
      },
      "execution_count": null,
      "outputs": [
        {
          "output_type": "stream",
          "name": "stdout",
          "text": [
            "H\n",
            "o\n",
            "!\n",
            "Hello\n",
            "world!\n"
          ]
        }
      ]
    },
    {
      "cell_type": "markdown",
      "source": [
        "Указав *индекс*, мы получаем символ, находящийся в соответствующей позиции строки. В случае диапазона индексов, т.е. среза, элемент с начальным индексом включается в срез, а элемент с конечным - нет.\n",
        "\n",
        "Если задать срез с тремя параметрами, то третий параметр задает шаг."
      ],
      "metadata": {
        "id": "KNMwUvkZIiLt"
      }
    },
    {
      "cell_type": "code",
      "source": [
        "'0123456789'[::2]"
      ],
      "metadata": {
        "colab": {
          "base_uri": "https://localhost:8080/",
          "height": 36
        },
        "id": "YuDziqWrCIdi",
        "outputId": "53aa5705-bc32-4676-a3b2-b63589447c99"
      },
      "execution_count": null,
      "outputs": [
        {
          "output_type": "execute_result",
          "data": {
            "text/plain": [
              "'02468'"
            ],
            "application/vnd.google.colaboratory.intrinsic+json": {
              "type": "string"
            }
          },
          "metadata": {},
          "execution_count": 123
        }
      ]
    },
    {
      "cell_type": "code",
      "source": [
        "'0123456789'[2:5:2]"
      ],
      "metadata": {
        "colab": {
          "base_uri": "https://localhost:8080/",
          "height": 36
        },
        "id": "2AXZ20b1CZ4m",
        "outputId": "d6f531d6-22b4-48b8-da42-889dffb47aee"
      },
      "execution_count": null,
      "outputs": [
        {
          "output_type": "execute_result",
          "data": {
            "text/plain": [
              "'24'"
            ],
            "application/vnd.google.colaboratory.intrinsic+json": {
              "type": "string"
            }
          },
          "metadata": {},
          "execution_count": 124
        }
      ]
    },
    {
      "cell_type": "markdown",
      "source": [
        "Обратите внимание, что операция создания среза не сопровождается изменением исходной строки, а создает новую строку. Срез, извлеченный из одной переменной, можно сохранить в другой переменной."
      ],
      "metadata": {
        "id": "cfHUYQWpB8fY"
      }
    },
    {
      "cell_type": "code",
      "source": [
        "ss = s[:5]\n",
        "ss"
      ],
      "metadata": {
        "colab": {
          "base_uri": "https://localhost:8080/",
          "height": 36
        },
        "id": "aGg_WXkQIfQY",
        "outputId": "b65eb56c-55b0-448c-9d53-b510668efd42"
      },
      "execution_count": null,
      "outputs": [
        {
          "output_type": "execute_result",
          "data": {
            "text/plain": [
              "'Hello'"
            ],
            "application/vnd.google.colaboratory.intrinsic+json": {
              "type": "string"
            }
          },
          "metadata": {},
          "execution_count": 15
        }
      ]
    },
    {
      "cell_type": "markdown",
      "source": [
        "Вспомним также, что в Python строки являются неизменяемыми объектами, их невозможно изменить. Можно лишь переменной, связанной со старой строкой, присвоить новую строку."
      ],
      "metadata": {
        "id": "UKLFGxAW5P1s"
      }
    },
    {
      "cell_type": "code",
      "source": [
        "s"
      ],
      "metadata": {
        "colab": {
          "base_uri": "https://localhost:8080/",
          "height": 36
        },
        "id": "DJ-cG-T55zFr",
        "outputId": "930433bb-930f-4597-d609-c0673be5986c"
      },
      "execution_count": null,
      "outputs": [
        {
          "output_type": "execute_result",
          "data": {
            "text/plain": [
              "'hello, world!'"
            ],
            "application/vnd.google.colaboratory.intrinsic+json": {
              "type": "string"
            }
          },
          "metadata": {},
          "execution_count": 97
        }
      ]
    },
    {
      "cell_type": "code",
      "source": [
        "s[0] = 'H'"
      ],
      "metadata": {
        "colab": {
          "base_uri": "https://localhost:8080/",
          "height": 175
        },
        "id": "Lzi9cdTh5vMO",
        "outputId": "4954b5b6-1832-40f7-ec29-b39e130336f9"
      },
      "execution_count": null,
      "outputs": [
        {
          "output_type": "error",
          "ename": "TypeError",
          "evalue": "ignored",
          "traceback": [
            "\u001b[0;31m---------------------------------------------------------------------------\u001b[0m",
            "\u001b[0;31mTypeError\u001b[0m                                 Traceback (most recent call last)",
            "\u001b[0;32m<ipython-input-98-d6f3b193531a>\u001b[0m in \u001b[0;36m<cell line: 1>\u001b[0;34m()\u001b[0m\n\u001b[0;32m----> 1\u001b[0;31m \u001b[0ms\u001b[0m\u001b[0;34m[\u001b[0m\u001b[0;36m0\u001b[0m\u001b[0;34m]\u001b[0m \u001b[0;34m=\u001b[0m \u001b[0;34m'H'\u001b[0m\u001b[0;34m\u001b[0m\u001b[0;34m\u001b[0m\u001b[0m\n\u001b[0m",
            "\u001b[0;31mTypeError\u001b[0m: 'str' object does not support item assignment"
          ]
        }
      ]
    },
    {
      "cell_type": "markdown",
      "source": [
        "Заметим, что в Python нет отдельного типа для символов строки. Каждый объект, который получается в результате среза — это тоже строка типа str."
      ],
      "metadata": {
        "id": "nje_NH3o7xpd"
      }
    },
    {
      "cell_type": "markdown",
      "source": [
        "## Операторы in и not in со строками\n",
        "\n",
        "Операторы `in` и `not in` применяются к строкам точно так же, как и к спискам. Результатом операции будет булево значение `True` или `False`.\n",
        "\n",
        "С помощью данных операторов мы можем проверить, содержится ли некоторая подстрока в строке (с учётом регистра)."
      ],
      "metadata": {
        "id": "68AFv3bXKBVS"
      }
    },
    {
      "cell_type": "code",
      "source": [
        "'Hello' in 'Hello, world!'"
      ],
      "metadata": {
        "colab": {
          "base_uri": "https://localhost:8080/"
        },
        "id": "56l_JlR2JnZX",
        "outputId": "2fd87768-94e9-4f29-a5be-dafb78a5b20b"
      },
      "execution_count": null,
      "outputs": [
        {
          "output_type": "execute_result",
          "data": {
            "text/plain": [
              "True"
            ]
          },
          "metadata": {},
          "execution_count": 16
        }
      ]
    },
    {
      "cell_type": "code",
      "source": [
        "'HELLO' in 'Hello, world!'"
      ],
      "metadata": {
        "colab": {
          "base_uri": "https://localhost:8080/"
        },
        "id": "pfiA1uJ_KbMX",
        "outputId": "bd18943f-48a2-4b08-dc35-08306908efbb"
      },
      "execution_count": null,
      "outputs": [
        {
          "output_type": "execute_result",
          "data": {
            "text/plain": [
              "False"
            ]
          },
          "metadata": {},
          "execution_count": 17
        }
      ]
    },
    {
      "cell_type": "code",
      "source": [
        "'cats' not in 'cats and dogs'"
      ],
      "metadata": {
        "colab": {
          "base_uri": "https://localhost:8080/"
        },
        "id": "8kEyK8PFKgc6",
        "outputId": "480ee04f-9808-46e0-dc88-969a2afa97b0"
      },
      "execution_count": null,
      "outputs": [
        {
          "output_type": "execute_result",
          "data": {
            "text/plain": [
              "False"
            ]
          },
          "metadata": {},
          "execution_count": 18
        }
      ]
    },
    {
      "cell_type": "markdown",
      "source": [
        "## Вставка строк в другие строки\n",
        "\n",
        "В программах часто приходится вставлять строки в другие строки. До сих пор мы применяли для этого `оператор +`, выполняющий конкатенацию строк."
      ],
      "metadata": {
        "id": "Usk_t8QLQjtm"
      }
    },
    {
      "cell_type": "code",
      "source": [
        "name = 'Андрей'\n",
        "age = 20\n",
        "'Меня зовут ' + name + '. Мне ' + str(age) + ' лет.'"
      ],
      "metadata": {
        "colab": {
          "base_uri": "https://localhost:8080/",
          "height": 36
        },
        "id": "J7L-KeCVKkW8",
        "outputId": "278801b9-1cf5-4973-df4a-1154321e9d61"
      },
      "execution_count": null,
      "outputs": [
        {
          "output_type": "execute_result",
          "data": {
            "text/plain": [
              "'Меня зовут Андрей. Мне 20 лет.'"
            ],
            "application/vnd.google.colaboratory.intrinsic+json": {
              "type": "string"
            }
          },
          "metadata": {},
          "execution_count": 21
        }
      ]
    },
    {
      "cell_type": "markdown",
      "source": [
        "Такой подход немного утомителен. Более простой способ - *строковая интерполяция* (подстановка), при которой оператор `%s` внутри строки действует как маркер, который следует заменить значениями, указанными после строки. Одно из преимуществ интерполяции заключается в том, что нет необходимости вызывать функцию `str()` для преобразования чисел в строки.\n",
        "\n",
        "Синтаксис: `строка % (параметр1, параметр2, ..., параметрN)`"
      ],
      "metadata": {
        "id": "e0BPjX1dREyz"
      }
    },
    {
      "cell_type": "code",
      "source": [
        "'Меня зовут %s. Мне %s лет.' % (name, age)"
      ],
      "metadata": {
        "colab": {
          "base_uri": "https://localhost:8080/",
          "height": 36
        },
        "id": "HakXbmaDRAUc",
        "outputId": "707f087c-08d6-4eff-c350-d7d6b52ef0d2"
      },
      "execution_count": null,
      "outputs": [
        {
          "output_type": "execute_result",
          "data": {
            "text/plain": [
              "'Меня зовут Андрей. Мне 20 лет.'"
            ],
            "application/vnd.google.colaboratory.intrinsic+json": {
              "type": "string"
            }
          },
          "metadata": {},
          "execution_count": 22
        }
      ]
    },
    {
      "cell_type": "markdown",
      "source": [
        "Для форматирования мы можем использовать следующие подстановки:\n",
        "* s: для вставки строк\n",
        "* d: для вставки целых чисел\n",
        "* f: для вставки дробных чисел. Для этого типа также можно определить через точку количество знаков в дробной части.\n",
        "* e: выводит число в экспоненциальной записи"
      ],
      "metadata": {
        "id": "37dpZ7688Lzy"
      }
    },
    {
      "cell_type": "code",
      "source": [
        "info = \"Имя: %s \\t Возраст: %d\" % (\"Андрей\", 20)\n",
        "print(info)"
      ],
      "metadata": {
        "colab": {
          "base_uri": "https://localhost:8080/"
        },
        "id": "2yd_V8F38cdx",
        "outputId": "0d862f62-a60f-4f3e-ff31-0685b9613e55"
      },
      "execution_count": null,
      "outputs": [
        {
          "output_type": "stream",
          "name": "stdout",
          "text": [
            "Имя: Андрей \t Возраст: 20\n"
          ]
        }
      ]
    },
    {
      "cell_type": "code",
      "source": [
        "number = 23.8589578\n",
        "print(\"%0.2f - %e\" % (number, number))"
      ],
      "metadata": {
        "colab": {
          "base_uri": "https://localhost:8080/"
        },
        "id": "U8PpDH-Z9cSo",
        "outputId": "7fc19171-e1b6-4222-8c4e-5670599e9a5d"
      },
      "execution_count": null,
      "outputs": [
        {
          "output_type": "stream",
          "name": "stdout",
          "text": [
            "23.86 - 2.385896e+01\n"
          ]
        }
      ]
    },
    {
      "cell_type": "markdown",
      "source": [
        "В Python 3.6 появились *f-строки*, имеющие аналогичное назначение, за исключением того, что вместо оператора `%s` в строку включаются выражения в фигурных скобках. Подобно необработанным строкам, *f-строки* предваряются префиксом `f` перед открывающей кавычкой."
      ],
      "metadata": {
        "id": "GiShsC_QR9d9"
      }
    },
    {
      "cell_type": "code",
      "source": [
        "f'Меня зовут {name}. Мне {age} лет.'"
      ],
      "metadata": {
        "colab": {
          "base_uri": "https://localhost:8080/",
          "height": 36
        },
        "id": "CRdvbey_R6uf",
        "outputId": "cf02e316-22a3-4612-e385-1651a3c8cadd"
      },
      "execution_count": null,
      "outputs": [
        {
          "output_type": "execute_result",
          "data": {
            "text/plain": [
              "'Меня зовут Андрей. Мне 20 лет.'"
            ],
            "application/vnd.google.colaboratory.intrinsic+json": {
              "type": "string"
            }
          },
          "metadata": {},
          "execution_count": 23
        }
      ]
    },
    {
      "cell_type": "markdown",
      "source": [
        "## Методы для работы со строками\n",
        "\n",
        "Строки представляют собой пример объектов языка Python. Объект содержит данные (сами строки) и методы – эффективные функции, встроенные в объект и доступные любому экземпляру этого объекта.\n",
        "\n",
        "Существует целый ряд методов, позволяющих анализировать строки и выполнять над ними различные преобразования.\n",
        "\n",
        "### Методы upper(), lower(), isupper(), islower()\n",
        "\n",
        "Методы `upper()` и `lower()` возвращают новую строку, в которой все буквы исходной строки преобразованы соответственно в верхний или нижний регистр. Небуквенные символы не затрагиваются."
      ],
      "metadata": {
        "id": "7gOWOtH9SuLG"
      }
    },
    {
      "cell_type": "code",
      "source": [
        "s"
      ],
      "metadata": {
        "colab": {
          "base_uri": "https://localhost:8080/",
          "height": 36
        },
        "id": "mjicBpd5SqJH",
        "outputId": "749a8181-b11b-4cb9-df9c-cb6e99c729f6"
      },
      "execution_count": null,
      "outputs": [
        {
          "output_type": "execute_result",
          "data": {
            "text/plain": [
              "'Hello, world!'"
            ],
            "application/vnd.google.colaboratory.intrinsic+json": {
              "type": "string"
            }
          },
          "metadata": {},
          "execution_count": 24
        }
      ]
    },
    {
      "cell_type": "code",
      "source": [
        "s = s.upper()\n",
        "s"
      ],
      "metadata": {
        "colab": {
          "base_uri": "https://localhost:8080/",
          "height": 36
        },
        "id": "M-CCDbb6Tf2M",
        "outputId": "3334f9b2-3748-48aa-dcf6-74c7a003e5a0"
      },
      "execution_count": null,
      "outputs": [
        {
          "output_type": "execute_result",
          "data": {
            "text/plain": [
              "'HELLO, WORLD!'"
            ],
            "application/vnd.google.colaboratory.intrinsic+json": {
              "type": "string"
            }
          },
          "metadata": {},
          "execution_count": 25
        }
      ]
    },
    {
      "cell_type": "code",
      "source": [
        "s = s.lower()\n",
        "s"
      ],
      "metadata": {
        "colab": {
          "base_uri": "https://localhost:8080/",
          "height": 36
        },
        "id": "QKAF3n8YTkNM",
        "outputId": "4b118202-81ed-4e99-959e-0ab69116e68b"
      },
      "execution_count": null,
      "outputs": [
        {
          "output_type": "execute_result",
          "data": {
            "text/plain": [
              "'hello, world!'"
            ],
            "application/vnd.google.colaboratory.intrinsic+json": {
              "type": "string"
            }
          },
          "metadata": {},
          "execution_count": 27
        }
      ]
    },
    {
      "cell_type": "markdown",
      "source": [
        "Обратите внимание, что эти методы возвращают новые строковые значения, не изменяя исходную строку. Чтобы изменить саму строку, необходимо вызвать для нее метод `upper()` или `lower()` и присвоить результат той же переменной, в которой хранилась исходная строка.\n",
        "\n",
        "Методы `upper()` и `lower()` удобно применять в тех случаях, когда при сравнении строк не должен учитываться регистр букв. Строки 'отлично' и 'Отлично' считаются разными. Но в приведенном ниже примере не имеет значение, как именно будет введено это слово - 'Отлично', 'ОТЛИЧНО' или 'отЛИЧНО', - поскольку строка предварительно переводится в нижний регистр."
      ],
      "metadata": {
        "id": "Ti-nPOm8Tqxv"
      }
    },
    {
      "cell_type": "code",
      "source": [
        "feeling = input('Как дела?\\n')\n",
        "if feeling.lower() == 'отлично':\n",
        "  print('Я тоже чувствую себя отлично.')\n",
        "else:\n",
        "  print('Я надеюсь, что остаток дня будет лучше.')"
      ],
      "metadata": {
        "colab": {
          "base_uri": "https://localhost:8080/"
        },
        "id": "M5xhUbbhTmiD",
        "outputId": "1142f617-aae1-4828-d076-862a0a36f478"
      },
      "execution_count": null,
      "outputs": [
        {
          "output_type": "stream",
          "name": "stdout",
          "text": [
            "Как дела?\n",
            "ОтЛиЧнО\n",
            "Я тоже чувствую себя отлично.\n"
          ]
        }
      ]
    },
    {
      "cell_type": "markdown",
      "source": [
        "Добавляя в программу код, нивелирующий различия в написании слов и игнорирующий ошибки, связанные с неправильным использованием регистра букв, мы упрощаем работу с ней и уменьшаем вероятность ее аварийного завершения из-за ошибок, допущенных пользователем при вводе текста."
      ],
      "metadata": {
        "id": "Q69WuHnfVjgV"
      }
    },
    {
      "cell_type": "markdown",
      "source": [
        "Методы `isupper()` и `islower()` возвращают булево значение `True`, если в строке имеется хотя бы одна буква и все буквы записаны соответственно в верхнем или нижнем регистре. В противном случае возвращается значение `False`."
      ],
      "metadata": {
        "id": "nj12a1-xWOS4"
      }
    },
    {
      "cell_type": "code",
      "source": [
        "'ПРИВЕТ'.isupper()"
      ],
      "metadata": {
        "colab": {
          "base_uri": "https://localhost:8080/"
        },
        "id": "aM3xR6n_VMBt",
        "outputId": "93345be6-71d1-4518-b519-db33ebbcdd93"
      },
      "execution_count": null,
      "outputs": [
        {
          "output_type": "execute_result",
          "data": {
            "text/plain": [
              "True"
            ]
          },
          "metadata": {},
          "execution_count": 33
        }
      ]
    },
    {
      "cell_type": "code",
      "source": [
        "'abc12345'.islower()"
      ],
      "metadata": {
        "colab": {
          "base_uri": "https://localhost:8080/"
        },
        "id": "79Ej9wtvW6tZ",
        "outputId": "f47da6a6-5951-44e1-a393-49101d420600"
      },
      "execution_count": null,
      "outputs": [
        {
          "output_type": "execute_result",
          "data": {
            "text/plain": [
              "True"
            ]
          },
          "metadata": {},
          "execution_count": 34
        }
      ]
    },
    {
      "cell_type": "code",
      "source": [
        "'12345'.isupper()"
      ],
      "metadata": {
        "colab": {
          "base_uri": "https://localhost:8080/"
        },
        "id": "v3EWaVb6XFzi",
        "outputId": "3fb4aea2-fde9-42bb-8f06-e10f72c8b63e"
      },
      "execution_count": null,
      "outputs": [
        {
          "output_type": "execute_result",
          "data": {
            "text/plain": [
              "False"
            ]
          },
          "metadata": {},
          "execution_count": 35
        }
      ]
    },
    {
      "cell_type": "code",
      "source": [
        "'12345'.islower()"
      ],
      "metadata": {
        "colab": {
          "base_uri": "https://localhost:8080/"
        },
        "id": "50jmrfpBXJP8",
        "outputId": "9014c3af-a88c-49a4-c83d-8e8e198aacae"
      },
      "execution_count": null,
      "outputs": [
        {
          "output_type": "execute_result",
          "data": {
            "text/plain": [
              "False"
            ]
          },
          "metadata": {},
          "execution_count": 36
        }
      ]
    },
    {
      "cell_type": "markdown",
      "source": [
        "Поскольку методы `upper()` и `lower()` сами возвращают строки, для этих строк тоже можно вызвать строковые методы. Соответствующие выражения выглядят как цепочки вызовов."
      ],
      "metadata": {
        "id": "Oa5SuK1dXS5A"
      }
    },
    {
      "cell_type": "code",
      "source": [
        "'Привет'.upper().lower()"
      ],
      "metadata": {
        "colab": {
          "base_uri": "https://localhost:8080/",
          "height": 36
        },
        "id": "EAh-AKQzXMsZ",
        "outputId": "6af8ae0d-9676-4430-92ee-f5ac4d6f920b"
      },
      "execution_count": null,
      "outputs": [
        {
          "output_type": "execute_result",
          "data": {
            "text/plain": [
              "'привет'"
            ],
            "application/vnd.google.colaboratory.intrinsic+json": {
              "type": "string"
            }
          },
          "metadata": {},
          "execution_count": 37
        }
      ]
    },
    {
      "cell_type": "code",
      "source": [
        "'ПРИВЕТ'.lower().islower()"
      ],
      "metadata": {
        "colab": {
          "base_uri": "https://localhost:8080/"
        },
        "id": "aPRCDlEWXt-X",
        "outputId": "211d554d-afdd-4d80-febe-3143373ba05f"
      },
      "execution_count": null,
      "outputs": [
        {
          "output_type": "execute_result",
          "data": {
            "text/plain": [
              "True"
            ]
          },
          "metadata": {},
          "execution_count": 38
        }
      ]
    },
    {
      "cell_type": "markdown",
      "source": [
        "### Строковы методы isX()\n",
        "\n",
        "Наряду с методами `isupper()` и `islower()` существует ряд других строковых методов, имена которых начинаются со слова `'is'`. Методы этой группы возвращают булево значение, соответствующее определенной характеристике строки.\n",
        "В таблице ниже приведен перечень наиболее популярных методов группы `'isX'`.\n",
        "\n",
        "|Метод|Описание|\n",
        "|:-|:-|\n",
        "|isalpha()|возвращает True, если строка непустая и состоит только из букв.|\n",
        "|isalnum()|возвращает True, если строка непустая и состоит только из буквенно-цифровых символов.|\n",
        "|isdecimal()|возвращает True, если строка непустая и состоит только из цифр.|\n",
        "|isspace()|возвращает True, если строка непустая и состоит только из символов пробела, табуляции и новой строки.|\n",
        "|istitle()|возвращает True, если строка непустая и состоит только из слов, в которых все буквы строчные, кроме первой.|"
      ],
      "metadata": {
        "id": "RITSXmk2X36E"
      }
    },
    {
      "cell_type": "code",
      "source": [
        "'Привет'.isalpha()"
      ],
      "metadata": {
        "colab": {
          "base_uri": "https://localhost:8080/"
        },
        "id": "5me-N9RXX0KT",
        "outputId": "dd725433-230e-4cb8-d548-370719ebb606"
      },
      "execution_count": null,
      "outputs": [
        {
          "output_type": "execute_result",
          "data": {
            "text/plain": [
              "True"
            ]
          },
          "metadata": {},
          "execution_count": 40
        }
      ]
    },
    {
      "cell_type": "code",
      "source": [
        "'Привет123'.isalpha()"
      ],
      "metadata": {
        "colab": {
          "base_uri": "https://localhost:8080/"
        },
        "id": "iYjQn94YZ32Y",
        "outputId": "a18f4029-e678-47fe-d3fa-977dc9e203f5"
      },
      "execution_count": null,
      "outputs": [
        {
          "output_type": "execute_result",
          "data": {
            "text/plain": [
              "False"
            ]
          },
          "metadata": {},
          "execution_count": 41
        }
      ]
    },
    {
      "cell_type": "code",
      "source": [
        "'Привет!'.isalnum()"
      ],
      "metadata": {
        "colab": {
          "base_uri": "https://localhost:8080/"
        },
        "id": "yugHEGi6Z8d4",
        "outputId": "70dc9d1a-ba77-4bc2-e198-376bade74540"
      },
      "execution_count": null,
      "outputs": [
        {
          "output_type": "execute_result",
          "data": {
            "text/plain": [
              "False"
            ]
          },
          "metadata": {},
          "execution_count": 43
        }
      ]
    },
    {
      "cell_type": "code",
      "source": [
        "'123'.isdecimal()"
      ],
      "metadata": {
        "colab": {
          "base_uri": "https://localhost:8080/"
        },
        "id": "ZutU1twaaBow",
        "outputId": "282b71de-4733-4959-ca80-7e86e99b4076"
      },
      "execution_count": null,
      "outputs": [
        {
          "output_type": "execute_result",
          "data": {
            "text/plain": [
              "True"
            ]
          },
          "metadata": {},
          "execution_count": 44
        }
      ]
    },
    {
      "cell_type": "code",
      "source": [
        "'   \\n\\t'.isspace()"
      ],
      "metadata": {
        "colab": {
          "base_uri": "https://localhost:8080/"
        },
        "id": "QENbXNgjaJ6_",
        "outputId": "6cc8f62d-3a73-4ed6-eb1e-877d8e94d057"
      },
      "execution_count": null,
      "outputs": [
        {
          "output_type": "execute_result",
          "data": {
            "text/plain": [
              "True"
            ]
          },
          "metadata": {},
          "execution_count": 46
        }
      ]
    },
    {
      "cell_type": "code",
      "source": [
        "'Это Строка Заголовка'.istitle()"
      ],
      "metadata": {
        "colab": {
          "base_uri": "https://localhost:8080/"
        },
        "id": "Zyexp0_GaPOV",
        "outputId": "36659fe4-acac-4c39-f5cb-cb791bdedb5f"
      },
      "execution_count": null,
      "outputs": [
        {
          "output_type": "execute_result",
          "data": {
            "text/plain": [
              "True"
            ]
          },
          "metadata": {},
          "execution_count": 47
        }
      ]
    },
    {
      "cell_type": "code",
      "source": [
        "'Это не Строка Заголовка'.istitle()"
      ],
      "metadata": {
        "colab": {
          "base_uri": "https://localhost:8080/"
        },
        "id": "u0pCQztsacci",
        "outputId": "e341164a-2c16-4eca-9993-95aff2cf536f"
      },
      "execution_count": null,
      "outputs": [
        {
          "output_type": "execute_result",
          "data": {
            "text/plain": [
              "False"
            ]
          },
          "metadata": {},
          "execution_count": 48
        }
      ]
    },
    {
      "cell_type": "markdown",
      "source": [
        "Такие методы удобно применять для проверки допустимости введенных пользователем значений. Например, приведенная ниже программа повторяет запрос до тех пор, пока пользователь не введет корректный возраст и пароль."
      ],
      "metadata": {
        "id": "Wr-eapNCah_C"
      }
    },
    {
      "cell_type": "code",
      "source": [
        "while True:\n",
        "  age = input('Сколько Вам лет? ')\n",
        "  if age.isdecimal():\n",
        "    break\n",
        "  print('Пожалуйста, введите число.')\n",
        "\n",
        "while True:\n",
        "  password = input('Выберите пароль (только буквы и цифры): ')\n",
        "  if password.isalnum():\n",
        "    break\n",
        "  print('Пароли могут состоять только из букв и цифр.')"
      ],
      "metadata": {
        "colab": {
          "base_uri": "https://localhost:8080/"
        },
        "id": "Ogtzbzsbafhg",
        "outputId": "d6003dd5-e868-4821-87c4-4d2d42fcd10b"
      },
      "execution_count": null,
      "outputs": [
        {
          "name": "stdout",
          "output_type": "stream",
          "text": [
            "Сколько Вам лет? 20\n",
            "Выберите пароль (только буквы и цифры): 123*\n",
            "Пароли могут состоять только из букв и цифр.\n",
            "Выберите пароль (только буквы и цифры): 123anr\n"
          ]
        }
      ]
    },
    {
      "cell_type": "markdown",
      "source": [
        "### Методы startswith() и endswith()\n",
        "\n",
        "Методы `startswith()` и `endswith()` возвращают `True`, если строка, для которой они вызываются, соответственно начинается или заканчивается строкой, переданной методу. В противном случае возвращается значение `False`."
      ],
      "metadata": {
        "id": "gcU6EVXScJH8"
      }
    },
    {
      "cell_type": "code",
      "source": [
        "'Привет, мир!'.startswith('Привет')"
      ],
      "metadata": {
        "colab": {
          "base_uri": "https://localhost:8080/"
        },
        "id": "gbOrTSP7b3EU",
        "outputId": "ea0b0a96-88bd-4bbf-a1a7-d5e02959c144"
      },
      "execution_count": null,
      "outputs": [
        {
          "output_type": "execute_result",
          "data": {
            "text/plain": [
              "True"
            ]
          },
          "metadata": {},
          "execution_count": 50
        }
      ]
    },
    {
      "cell_type": "code",
      "source": [
        "'Привет, мир!'.endswith('мир!')"
      ],
      "metadata": {
        "colab": {
          "base_uri": "https://localhost:8080/"
        },
        "id": "KFJSI9RTc1Oz",
        "outputId": "d82740a1-ce98-41b2-8a20-bd902aa3cd97"
      },
      "execution_count": null,
      "outputs": [
        {
          "output_type": "execute_result",
          "data": {
            "text/plain": [
              "True"
            ]
          },
          "metadata": {},
          "execution_count": 51
        }
      ]
    },
    {
      "cell_type": "code",
      "source": [
        "'abc123'.endswith('12')"
      ],
      "metadata": {
        "colab": {
          "base_uri": "https://localhost:8080/"
        },
        "id": "BKAe5Dg_c49J",
        "outputId": "48dcb35d-e211-4216-b5a9-c529386a950e"
      },
      "execution_count": null,
      "outputs": [
        {
          "output_type": "execute_result",
          "data": {
            "text/plain": [
              "False"
            ]
          },
          "metadata": {},
          "execution_count": 52
        }
      ]
    },
    {
      "cell_type": "markdown",
      "source": [
        "Эти методы - полезная альтернатива оператору сравнения `==`, если сравнение с другой строкой требуется выполнить не для всей исходной строки, а только для первой или последней ее части."
      ],
      "metadata": {
        "id": "gkJMRPTgdGdL"
      }
    },
    {
      "cell_type": "markdown",
      "source": [
        "### Методы join() и split()\n",
        "\n",
        "Метод `join()` удобно использовать в тех случаях, когда несколько строк, представленных в виде списка, необходимо объединить в одну строку. Этот метод вызывается для строки, которая используется в качестве разделителя. Он получает список строк в качестве аргумента и возвращает объединенную строку."
      ],
      "metadata": {
        "id": "Lm0BAnPzdgIx"
      }
    },
    {
      "cell_type": "code",
      "source": [
        "', '.join(['яблоко', 'апельсин', 'виноград'])"
      ],
      "metadata": {
        "colab": {
          "base_uri": "https://localhost:8080/",
          "height": 36
        },
        "id": "I2UKaRcJc-o9",
        "outputId": "46561882-376b-4c36-afeb-7a276cc6c712"
      },
      "execution_count": null,
      "outputs": [
        {
          "output_type": "execute_result",
          "data": {
            "text/plain": [
              "'яблоко, апельсин, виноград'"
            ],
            "application/vnd.google.colaboratory.intrinsic+json": {
              "type": "string"
            }
          },
          "metadata": {},
          "execution_count": 53
        }
      ]
    },
    {
      "cell_type": "markdown",
      "source": [
        "Обратите внимание, что строка, для которой вызывается метод `join()`, вставляется между элементами списка.\n",
        "\n",
        "Метод `split()` имеет противоположное назначение: он вызывается для строки и разбивает ее на список слов."
      ],
      "metadata": {
        "id": "XEmcrojNeUOA"
      }
    },
    {
      "cell_type": "code",
      "source": [
        "'1\\n2 3\\t 4'.split()"
      ],
      "metadata": {
        "colab": {
          "base_uri": "https://localhost:8080/"
        },
        "id": "TZRk32SxeRlG",
        "outputId": "52db786c-fc55-44e7-aaf3-0756c2efaf8c"
      },
      "execution_count": null,
      "outputs": [
        {
          "output_type": "execute_result",
          "data": {
            "text/plain": [
              "['1', '2', '3', '4']"
            ]
          },
          "metadata": {},
          "execution_count": 56
        }
      ]
    },
    {
      "cell_type": "markdown",
      "source": [
        "По умолчанию метод `split()` использует для разбиения в качестве разделителей пробельные символы: пробел, табуляция или символ новой строки. Сами эти символы не включаются в строки, возвращаемые в виде списка. Можно явным образом указать и другой разделитель."
      ],
      "metadata": {
        "id": "TJQCYuIge7-G"
      }
    },
    {
      "cell_type": "code",
      "source": [
        "'1,2,3,4,5'.split(',')"
      ],
      "metadata": {
        "colab": {
          "base_uri": "https://localhost:8080/"
        },
        "id": "zWGtMzqle2WV",
        "outputId": "3785cee6-6086-4e7f-8e67-b2236ee8e0aa"
      },
      "execution_count": null,
      "outputs": [
        {
          "output_type": "execute_result",
          "data": {
            "text/plain": [
              "['1', '2', '3', '4', '5']"
            ]
          },
          "metadata": {},
          "execution_count": 59
        }
      ]
    },
    {
      "cell_type": "markdown",
      "source": [
        "### Разбиение строк с помощью метода partition()\n",
        "\n",
        "Строковый метод `partition()` разбивает строку на текст, стоящий до и после разделителя. Этот метод находит в строке, для которой вызывается, строку-разделитель, которая передается в качестве аргумента, и возвращает кортеж из трех подстрок: до разделителя, сам разделитель и после разделителя."
      ],
      "metadata": {
        "id": "WIAncR0PgG1v"
      }
    },
    {
      "cell_type": "code",
      "source": [
        "'Привет, мир!'.partition('мир')"
      ],
      "metadata": {
        "colab": {
          "base_uri": "https://localhost:8080/"
        },
        "id": "K9iQSWFNf5MX",
        "outputId": "98d8b2db-61f9-416a-cdf4-c8d58cf91b58"
      },
      "execution_count": null,
      "outputs": [
        {
          "output_type": "execute_result",
          "data": {
            "text/plain": [
              "('Привет, ', 'мир', '!')"
            ]
          },
          "metadata": {},
          "execution_count": 60
        }
      ]
    },
    {
      "cell_type": "markdown",
      "source": [
        "Если строка-разделитель встречается в исходной строке несколько раз, то данный метод разбивает строку только на первом разделителе."
      ],
      "metadata": {
        "id": "gxSRIesBg9aU"
      }
    },
    {
      "cell_type": "code",
      "source": [
        "'Привет, мир!'.partition('р')"
      ],
      "metadata": {
        "colab": {
          "base_uri": "https://localhost:8080/"
        },
        "id": "MqLQwVuXg5T_",
        "outputId": "664bc0e2-69d1-46ea-bf63-6a1360c67c0d"
      },
      "execution_count": null,
      "outputs": [
        {
          "output_type": "execute_result",
          "data": {
            "text/plain": [
              "('П', 'р', 'ивет, мир!')"
            ]
          },
          "metadata": {},
          "execution_count": 61
        }
      ]
    },
    {
      "cell_type": "markdown",
      "source": [
        "Если строка-разделитель не найдена, то первым элементом возвращаемого кортежа будет исходная строка, а два других элемента будут пустыми."
      ],
      "metadata": {
        "id": "gxuD0Pc2hYEW"
      }
    },
    {
      "cell_type": "code",
      "source": [
        "'Привет, мир!'.partition('абв')"
      ],
      "metadata": {
        "colab": {
          "base_uri": "https://localhost:8080/"
        },
        "id": "P-xV8xashTaR",
        "outputId": "becd375a-c871-410e-8b41-5505982c686a"
      },
      "execution_count": null,
      "outputs": [
        {
          "output_type": "execute_result",
          "data": {
            "text/plain": [
              "('Привет, мир!', '', '')"
            ]
          },
          "metadata": {},
          "execution_count": 62
        }
      ]
    },
    {
      "cell_type": "markdown",
      "source": [
        "С помощью операции множественного присваивания можно записать три возвращаемые строки в три переменные:"
      ],
      "metadata": {
        "id": "O9JNCdF1hy9L"
      }
    },
    {
      "cell_type": "code",
      "source": [
        "before, sep, after = 'Привет, мир!'.partition(' ')\n",
        "before, after"
      ],
      "metadata": {
        "colab": {
          "base_uri": "https://localhost:8080/"
        },
        "id": "zaAlDG4NhwFl",
        "outputId": "45a34af3-a3ab-4949-ebf7-5ff5c172f592"
      },
      "execution_count": null,
      "outputs": [
        {
          "output_type": "execute_result",
          "data": {
            "text/plain": [
              "('Привет,', 'мир!')"
            ]
          },
          "metadata": {},
          "execution_count": 63
        }
      ]
    },
    {
      "cell_type": "markdown",
      "source": [
        "### Выравнивание текста с помощью методов rjust(), ljust() и center()\n",
        "\n",
        "Строковые методы `rjust()` и `ljust()` возвращают версию строки, для которой они вызываются, выровненную за счет вставки пробелов. В обоих методах первый аргумент - целое число, определяющее длину выровненной строки."
      ],
      "metadata": {
        "id": "BQEdo3wHiY8E"
      }
    },
    {
      "cell_type": "code",
      "source": [
        "'Привет'.rjust(15)"
      ],
      "metadata": {
        "colab": {
          "base_uri": "https://localhost:8080/",
          "height": 36
        },
        "id": "4mLIM27viFpn",
        "outputId": "ad5902e3-a9ae-4b6b-a526-58c6f63bb303"
      },
      "execution_count": null,
      "outputs": [
        {
          "output_type": "execute_result",
          "data": {
            "text/plain": [
              "'         Привет'"
            ],
            "application/vnd.google.colaboratory.intrinsic+json": {
              "type": "string"
            }
          },
          "metadata": {},
          "execution_count": 64
        }
      ]
    },
    {
      "cell_type": "code",
      "source": [
        "'Привет'.ljust(15)"
      ],
      "metadata": {
        "colab": {
          "base_uri": "https://localhost:8080/",
          "height": 36
        },
        "id": "ZWsBjoZLjNJK",
        "outputId": "e689ad3f-3a38-4538-d5a7-3697249bf2d7"
      },
      "execution_count": null,
      "outputs": [
        {
          "output_type": "execute_result",
          "data": {
            "text/plain": [
              "'Привет         '"
            ],
            "application/vnd.google.colaboratory.intrinsic+json": {
              "type": "string"
            }
          },
          "metadata": {},
          "execution_count": 65
        }
      ]
    },
    {
      "cell_type": "markdown",
      "source": [
        "Первое выражение с методом `rjust()` означает, что необходимо выровнять строку `'Привет'` вправо в пределах 15 символов. В слове `'Привет'` насчитывается 6 символов, поэтому слева от него будет добавлено 9 пробелов, в результате чего общая длина строки составит 15 символов. Аналогичным образом работает метод `ljust()`.\n",
        "\n",
        "Необязательный второй аргумент в обоих методах задает символ-заполнитель, отличающийся от пробела."
      ],
      "metadata": {
        "id": "M24Z6eHNjZ8A"
      }
    },
    {
      "cell_type": "code",
      "source": [
        "'Привет'.rjust(15, '*')"
      ],
      "metadata": {
        "colab": {
          "base_uri": "https://localhost:8080/",
          "height": 36
        },
        "id": "U4O2PgfXjS37",
        "outputId": "dd3dd4d6-5c49-40d9-9820-e8ebf9003a95"
      },
      "execution_count": null,
      "outputs": [
        {
          "output_type": "execute_result",
          "data": {
            "text/plain": [
              "'*********Привет'"
            ],
            "application/vnd.google.colaboratory.intrinsic+json": {
              "type": "string"
            }
          },
          "metadata": {},
          "execution_count": 66
        }
      ]
    },
    {
      "cell_type": "markdown",
      "source": [
        "Метод `center()` работает аналогично методам `rjust()` и `ljust()`, но центрирует текст, а не выравнивает его по правому или левому краю."
      ],
      "metadata": {
        "id": "FfPGZedvkk5N"
      }
    },
    {
      "cell_type": "code",
      "source": [
        "'Привет'.center(16, '~')"
      ],
      "metadata": {
        "colab": {
          "base_uri": "https://localhost:8080/",
          "height": 36
        },
        "id": "v4wvS1ygkblI",
        "outputId": "d263b3e4-87cc-460b-920a-72d98aa8ab08"
      },
      "execution_count": null,
      "outputs": [
        {
          "output_type": "execute_result",
          "data": {
            "text/plain": [
              "'~~~~~Привет~~~~~'"
            ],
            "application/vnd.google.colaboratory.intrinsic+json": {
              "type": "string"
            }
          },
          "metadata": {},
          "execution_count": 68
        }
      ]
    },
    {
      "cell_type": "markdown",
      "source": [
        "Эти методы особенно полезны в ситуациях, когда необходимо вывести табулированные значения."
      ],
      "metadata": {
        "id": "A5ztTI3hk-2Y"
      }
    },
    {
      "cell_type": "code",
      "source": [
        "def printPicnic(itemsDict, leftWidth, rightWidth):\n",
        "  print('Набор для пикника'.center(leftWidth + rightWidth, '-'))\n",
        "  for k, v in itemsDict.items():\n",
        "   print(k.ljust(leftWidth, '.') + str(v).rjust(rightWidth))\n",
        "\n",
        "picnicItems = {'сэндвичи': 4, 'яблоки': 12, 'чашки': 4, 'печенье': 15}\n",
        "printPicnic(picnicItems, 12, 5)\n",
        "printPicnic(picnicItems, 20, 6)"
      ],
      "metadata": {
        "colab": {
          "base_uri": "https://localhost:8080/"
        },
        "id": "IrW53Tajk8VJ",
        "outputId": "dc110f6a-2b88-44ff-ebbc-b8e30f3b5190"
      },
      "execution_count": null,
      "outputs": [
        {
          "output_type": "stream",
          "name": "stdout",
          "text": [
            "Набор для пикника\n",
            "сэндвичи....    4\n",
            "яблоки......   12\n",
            "чашки.......    4\n",
            "печенье.....   15\n",
            "----Набор для пикника-----\n",
            "сэндвичи............     4\n",
            "яблоки..............    12\n",
            "чашки...............     4\n",
            "печенье.............    15\n"
          ]
        }
      ]
    },
    {
      "cell_type": "markdown",
      "source": [
        "Таким образом, используя методы `rjust()`, `ljust()` и `center()`, мы можем быть уверенными в том, что колонки таблицы аккуратно выравниваются, даже если точное количество символов, содержащихся в каждой строке, неизвестно."
      ],
      "metadata": {
        "id": "Sl8lEinHni4i"
      }
    },
    {
      "cell_type": "markdown",
      "source": [
        "### Удаление пробелов с помощью методов strip(), rstrip() и lstrip()\n",
        "\n",
        "Иногда возникает необходимость удалить из строки ведущие и/или замыкающие пробельные символы (пробелы, табуляции, символы новой строки). Метод `strip()` возвращает новую строку без начальных и конечных пробельных символов. Методы `lstrip()` и `rstrip()` удаляют пробельные символы соответственно в начале и в конце строки."
      ],
      "metadata": {
        "id": "gtBO-UIhoX2G"
      }
    },
    {
      "cell_type": "code",
      "source": [
        "'     Привет   \\n  \\t'.strip()"
      ],
      "metadata": {
        "colab": {
          "base_uri": "https://localhost:8080/",
          "height": 36
        },
        "id": "uWdlrRVIoEfH",
        "outputId": "52514ba7-b89a-4929-f7cd-e7824e42a7c5"
      },
      "execution_count": null,
      "outputs": [
        {
          "output_type": "execute_result",
          "data": {
            "text/plain": [
              "'Привет'"
            ],
            "application/vnd.google.colaboratory.intrinsic+json": {
              "type": "string"
            }
          },
          "metadata": {},
          "execution_count": 76
        }
      ]
    },
    {
      "cell_type": "code",
      "source": [
        "'     Привет   \\n  \\t'.lstrip()"
      ],
      "metadata": {
        "colab": {
          "base_uri": "https://localhost:8080/",
          "height": 36
        },
        "id": "PUP6g8-8pTxI",
        "outputId": "4691a242-0c5e-4b95-86d2-786c74abb00c"
      },
      "execution_count": null,
      "outputs": [
        {
          "output_type": "execute_result",
          "data": {
            "text/plain": [
              "'Привет   \\n  \\t'"
            ],
            "application/vnd.google.colaboratory.intrinsic+json": {
              "type": "string"
            }
          },
          "metadata": {},
          "execution_count": 77
        }
      ]
    },
    {
      "cell_type": "code",
      "source": [
        "'     Привет   \\n  \\t'.rstrip()"
      ],
      "metadata": {
        "colab": {
          "base_uri": "https://localhost:8080/",
          "height": 36
        },
        "id": "sSbUeAQApVuq",
        "outputId": "7099f37a-19cc-4e07-925d-742f4d8367b3"
      },
      "execution_count": null,
      "outputs": [
        {
          "output_type": "execute_result",
          "data": {
            "text/plain": [
              "'     Привет'"
            ],
            "application/vnd.google.colaboratory.intrinsic+json": {
              "type": "string"
            }
          },
          "metadata": {},
          "execution_count": 78
        }
      ]
    },
    {
      "cell_type": "markdown",
      "source": [
        "С помощью необязательного строкового аргумента можно указать, какие именно символы должны удаляться с обоих концов строки."
      ],
      "metadata": {
        "id": "sNiO8WTCpate"
      }
    },
    {
      "cell_type": "code",
      "source": [
        "'abcdefg'.strip('ga')"
      ],
      "metadata": {
        "colab": {
          "base_uri": "https://localhost:8080/",
          "height": 36
        },
        "id": "VGX6X0LEpXgx",
        "outputId": "8ad80bde-27e3-4c85-d65a-3aac77f608d4"
      },
      "execution_count": null,
      "outputs": [
        {
          "output_type": "execute_result",
          "data": {
            "text/plain": [
              "'bcdef'"
            ],
            "application/vnd.google.colaboratory.intrinsic+json": {
              "type": "string"
            }
          },
          "metadata": {},
          "execution_count": 82
        }
      ]
    },
    {
      "cell_type": "markdown",
      "source": [
        "Передавая в данном случае методу `strip()` аргумент `ga`, мы сообщаем ему, что в начале и в конце строки должны быть удалены все вхождения символов `g` и `a`. Порядок символов в строке, передаваемой методу `strip()`, **не важен**."
      ],
      "metadata": {
        "id": "XpGNcpH6p_iX"
      }
    },
    {
      "cell_type": "markdown",
      "source": [
        "### Поиск в строке: методы find() и rfind()\n",
        "\n",
        "Метод `find()` находит в данной строке (к которой применяется метод) данную подстроку (которая передается в качестве параметра). Функция возвращает индекс первого вхождения искомой подстроки. Если же подстрока не найдена, то метод возвращает значение -1."
      ],
      "metadata": {
        "id": "Bi__BRHc3ebe"
      }
    },
    {
      "cell_type": "code",
      "source": [
        "'Hello'.find('l')"
      ],
      "metadata": {
        "colab": {
          "base_uri": "https://localhost:8080/"
        },
        "id": "QOVU3vRW33po",
        "outputId": "b3281778-efe9-471e-b984-2687902a7738"
      },
      "execution_count": null,
      "outputs": [
        {
          "output_type": "execute_result",
          "data": {
            "text/plain": [
              "2"
            ]
          },
          "metadata": {},
          "execution_count": 87
        }
      ]
    },
    {
      "cell_type": "code",
      "source": [
        "'Hello'.find('h')"
      ],
      "metadata": {
        "colab": {
          "base_uri": "https://localhost:8080/"
        },
        "id": "NZzcVy-x36mp",
        "outputId": "13d1d2ab-bec7-48bd-d70c-66b1a0a1f1e2"
      },
      "execution_count": null,
      "outputs": [
        {
          "output_type": "execute_result",
          "data": {
            "text/plain": [
              "-1"
            ]
          },
          "metadata": {},
          "execution_count": 88
        }
      ]
    },
    {
      "cell_type": "markdown",
      "source": [
        "Аналогичным образом, метод `rfind()` возвращает индекс последнего вхождения данной строки (“поиск справа”)."
      ],
      "metadata": {
        "id": "pCbCOEXS4BUF"
      }
    },
    {
      "cell_type": "code",
      "source": [
        "'Hello'.rfind('l')"
      ],
      "metadata": {
        "colab": {
          "base_uri": "https://localhost:8080/"
        },
        "id": "EA-xICUr4GnW",
        "outputId": "dd3e774c-fd01-439d-8f79-ac6dca97aeb1"
      },
      "execution_count": null,
      "outputs": [
        {
          "output_type": "execute_result",
          "data": {
            "text/plain": [
              "3"
            ]
          },
          "metadata": {},
          "execution_count": 89
        }
      ]
    },
    {
      "cell_type": "markdown",
      "source": [
        "Если для строки `S` вызвать метод `find()` с тремя параметрами `S.find(T, a, b)`, то поиск будет осуществляться в срезе `S[a:b]`. Если указать только два параметра `S.find(T, a)`, то поиск будет осуществляться в срезе `S[a:]`, то есть начиная с символа с индексом `a` и до конца строки. Метод `S.find(T, a, b)` возращает индекс в строке `S`, а не индекс относительно среза."
      ],
      "metadata": {
        "id": "ZcTS6lbk4Pjb"
      }
    },
    {
      "cell_type": "code",
      "source": [
        "'abcabcabc'.find('abc', 3)"
      ],
      "metadata": {
        "colab": {
          "base_uri": "https://localhost:8080/"
        },
        "id": "e5BcBH064fnt",
        "outputId": "3512f5ab-a5aa-49da-89b1-076a942ecb5d"
      },
      "execution_count": null,
      "outputs": [
        {
          "output_type": "execute_result",
          "data": {
            "text/plain": [
              "3"
            ]
          },
          "metadata": {},
          "execution_count": 95
        }
      ]
    },
    {
      "cell_type": "markdown",
      "source": [
        "### Метод replace()\n",
        "\n",
        "Метод `replace()` заменяет все вхождения одной строки на другую.\n",
        "\n",
        "Формат: `S.replace(old, new)` — заменить в строке `S` все вхождения подстроки `old` на подстроку `new`."
      ],
      "metadata": {
        "id": "bFdx_j5I6LQI"
      }
    },
    {
      "cell_type": "code",
      "source": [
        "'Hello'.replace('l', 'L')"
      ],
      "metadata": {
        "colab": {
          "base_uri": "https://localhost:8080/",
          "height": 36
        },
        "id": "dKJA3oYo6Kn9",
        "outputId": "b7ad8fa3-b740-4e39-f997-317bc52453d2"
      },
      "execution_count": null,
      "outputs": [
        {
          "output_type": "execute_result",
          "data": {
            "text/plain": [
              "'HeLLo'"
            ],
            "application/vnd.google.colaboratory.intrinsic+json": {
              "type": "string"
            }
          },
          "metadata": {},
          "execution_count": 99
        }
      ]
    },
    {
      "cell_type": "markdown",
      "source": [
        "Если методу `replace()` задать еще один параметр: `S.replace(old, new, count)`, то заменены будут не все вхождения, а только не больше, чем первые `count` из них."
      ],
      "metadata": {
        "id": "ibEu1Dow6cu2"
      }
    },
    {
      "cell_type": "code",
      "source": [
        "'abcabcabcabc'.replace('abc', 'xyz', 2)"
      ],
      "metadata": {
        "colab": {
          "base_uri": "https://localhost:8080/",
          "height": 36
        },
        "id": "ZlrRx-Qb6pHG",
        "outputId": "d224cd24-fd63-4e8e-bb47-46d55a10b127"
      },
      "execution_count": null,
      "outputs": [
        {
          "output_type": "execute_result",
          "data": {
            "text/plain": [
              "'xyzxyzabcabc'"
            ],
            "application/vnd.google.colaboratory.intrinsic+json": {
              "type": "string"
            }
          },
          "metadata": {},
          "execution_count": 101
        }
      ]
    },
    {
      "cell_type": "markdown",
      "source": [
        "### Метод count()\n",
        "\n",
        "Метод `count()` подсчитывает количество вхождений одной строки в другую строку. Простейшая форма вызова `S.count(T)`  возвращает число вхождений строки `T` внутри строки `S`. При этом подсчитываются только непересекающиеся вхождения."
      ],
      "metadata": {
        "id": "varjjQy_6t3Z"
      }
    },
    {
      "cell_type": "code",
      "source": [
        "('a' * 10).count('aa')"
      ],
      "metadata": {
        "colab": {
          "base_uri": "https://localhost:8080/"
        },
        "id": "dT-a-hJJ69V6",
        "outputId": "d770d295-3710-46e9-fb94-bbcf9531f39f"
      },
      "execution_count": null,
      "outputs": [
        {
          "output_type": "execute_result",
          "data": {
            "text/plain": [
              "5"
            ]
          },
          "metadata": {},
          "execution_count": 102
        }
      ]
    },
    {
      "cell_type": "markdown",
      "source": [
        "При указании трех параметров `S.count(T, a, b)`, будет выполнен подсчет числа вхождений строки `T` в срезе `S[a:b]`."
      ],
      "metadata": {
        "id": "04Xtr6sq6_Hp"
      }
    },
    {
      "cell_type": "markdown",
      "source": [
        "### Получение числовых значений символов с помощью функций ord() и chr()\n",
        "\n",
        "Компьютеры хранят информацию в виде байтов, т.е. двоичных чисел, поэтому важно иметь возможность преобразовать текст в числа. Каждому текстовому символу соответствует числовое значение, называемое *кодом Unicode*. Например, символу `A` соответствует код 65, а символу `4` - код 52, а символу `!` - код 33. С помощью функции `ord()` можно узнать код символа, а с помощью функции `chr()` - символ, соответствующий целочисленному коду."
      ],
      "metadata": {
        "id": "vsCU8ZMHqx99"
      }
    },
    {
      "cell_type": "code",
      "source": [
        "ord('A')"
      ],
      "metadata": {
        "colab": {
          "base_uri": "https://localhost:8080/"
        },
        "id": "dI59vXj6prL8",
        "outputId": "d2c9546e-9db2-4eec-8d67-e208926d9ca1"
      },
      "execution_count": null,
      "outputs": [
        {
          "output_type": "execute_result",
          "data": {
            "text/plain": [
              "65"
            ]
          },
          "metadata": {},
          "execution_count": 83
        }
      ]
    },
    {
      "cell_type": "code",
      "source": [
        "chr(100)"
      ],
      "metadata": {
        "colab": {
          "base_uri": "https://localhost:8080/",
          "height": 36
        },
        "id": "dazDo_oMsHZQ",
        "outputId": "5b44158a-a3b2-4836-ad2f-9e124c8452bf"
      },
      "execution_count": null,
      "outputs": [
        {
          "output_type": "execute_result",
          "data": {
            "text/plain": [
              "'d'"
            ],
            "application/vnd.google.colaboratory.intrinsic+json": {
              "type": "string"
            }
          },
          "metadata": {},
          "execution_count": 84
        }
      ]
    },
    {
      "cell_type": "markdown",
      "source": [
        "Эти функции могут быть полезны, когда необходимо сравнить символы или выполнить математические операции над ними."
      ],
      "metadata": {
        "id": "rky0tcvrsMO-"
      }
    },
    {
      "cell_type": "code",
      "source": [
        "ord('A') < ord('B')"
      ],
      "metadata": {
        "colab": {
          "base_uri": "https://localhost:8080/"
        },
        "id": "aWkQ8YENsJI4",
        "outputId": "8e40442a-9a0e-4bfb-d950-ceefa9ce818d"
      },
      "execution_count": null,
      "outputs": [
        {
          "output_type": "execute_result",
          "data": {
            "text/plain": [
              "True"
            ]
          },
          "metadata": {},
          "execution_count": 85
        }
      ]
    },
    {
      "cell_type": "code",
      "source": [
        "chr(ord('A') + 3)"
      ],
      "metadata": {
        "colab": {
          "base_uri": "https://localhost:8080/",
          "height": 36
        },
        "id": "2oLyxq1mscIl",
        "outputId": "a0f41f84-0f04-4778-d81c-f8a530a2f143"
      },
      "execution_count": null,
      "outputs": [
        {
          "output_type": "execute_result",
          "data": {
            "text/plain": [
              "'D'"
            ],
            "application/vnd.google.colaboratory.intrinsic+json": {
              "type": "string"
            }
          },
          "metadata": {},
          "execution_count": 86
        }
      ]
    },
    {
      "cell_type": "markdown",
      "source": [
        "## Сравнение строк\n",
        "\n",
        "При сравнении строк принимается во внимание символы и их регистр. Так, цифровой символ условно меньше, чем любой алфавитный символ. Алфавитный символ в верхнем регистре условно меньше, чем алфавитные символы в нижнем регистре."
      ],
      "metadata": {
        "id": "aGUUYOTP9zCW"
      }
    },
    {
      "cell_type": "code",
      "source": [
        "str1 = \"1a\"\n",
        "str2 = \"ab\"\n",
        "str3 = \"Ab\"\n",
        "print(str1 > str2)  # False, так как первый символ в str1 - цифра\n",
        "print(str2 > str3)  # True, так как первый символ в str2 - в нижнем регистре"
      ],
      "metadata": {
        "colab": {
          "base_uri": "https://localhost:8080/"
        },
        "id": "4GHRwJu8-aou",
        "outputId": "a362a7fa-f2aa-472a-8411-4729212fac18"
      },
      "execution_count": null,
      "outputs": [
        {
          "output_type": "stream",
          "name": "stdout",
          "text": [
            "False\n",
            "True\n"
          ]
        }
      ]
    },
    {
      "cell_type": "markdown",
      "source": [
        "Поэтому строка \"1a\" условно меньше, чем строка \"ab\". Вначале сравнение идет по первому символу. Если начальные символы обоих строк представляют цифры, то меньшей считается меньшая цифра, например, \"1a\" меньше, чем \"2a\".\n",
        "\n",
        "Если начальные символы представляют алфавитные символы в одном и том же регистре, то смотрят по алфавиту. Так, \"aa\" меньше, чем \"ba\", а \"ba\" меньше, чем \"ca\".\n",
        "\n",
        "Если первые символы одинаковые, в расчет берутся вторые символы при их наличии.\n",
        "\n",
        "Зависимость от регистра не всегда желательна, так как, по сути, мы имеем дело с одинаковыми строками. В этом случае перед сравнением мы можем привести обе строки к одному из регистров.\n"
      ],
      "metadata": {
        "id": "BSUPQuWN-ikB"
      }
    },
    {
      "cell_type": "markdown",
      "source": [
        "## Синтаксический разбор (парсинг) строк\n",
        "\n",
        "Часто необходимо рассмотреть некоторую строку и найти в ней определенную подстроку. Например, если бы нам предоставили последовательность строк, отформатированных следующим образом:\n",
        "```\n",
        "От agfeldman@sfu-kras.ru Пятница, 7 июля 2023, 16:30\n",
        "```\n",
        "\n",
        "и при этом требуется извлечь только вторую часть адреса (т.е. sfu-kras.ru) из каждой строки, то мы можем сделать это, используя метод `find()` и срез из строки.\n",
        "Сначала найдем позицию символа «собака» (@) в строке. Затем найдем позицию первого пробела после символа @. Далее воспользуемся операцией среза для извлечения той части строки, которую мы ищем."
      ],
      "metadata": {
        "id": "-7xYHiuc-pbC"
      }
    },
    {
      "cell_type": "code",
      "source": [
        "data = ' agfeldman@sfu-kras.ru Пятница, 7 июля 2023, 16:30'\n",
        "atpos = data.find('@')\n",
        "print(atpos)\n",
        "\n",
        "sppos = data.find(' ',atpos)\n",
        "print(sppos)\n",
        "\n",
        "host = data[atpos+1: sppos]\n",
        "print(host)"
      ],
      "metadata": {
        "colab": {
          "base_uri": "https://localhost:8080/"
        },
        "id": "q3sSRBk8-xKN",
        "outputId": "45c028da-6fd0-4b54-8c5c-5562eced3bba"
      },
      "execution_count": null,
      "outputs": [
        {
          "output_type": "stream",
          "name": "stdout",
          "text": [
            "10\n",
            "22\n",
            "sfu-kras.ru\n"
          ]
        }
      ]
    },
    {
      "cell_type": "markdown",
      "source": [
        "Мы используем версию метода `find()`, позволяющую задать позицию в строке, с которой необходимо начать поиск. При выполнении вырезки мы извлекаем символы, начиная «со следующего за символом @ и до первого найденного пробельного символа, не включая этот символ»."
      ],
      "metadata": {
        "id": "c3o5VMWN_CHr"
      }
    },
    {
      "cell_type": "markdown",
      "source": [
        "# Словари\n",
        "\n",
        "Подобно списку, *словарь* - изменяемая коллекция значений. Однако в словарях, в отличие от списков, индексами могут быть не только целые числа, но и другие типы данных. Индексы в словарях называются *ключами*, а ключ вместе с соответствующим ему значением - *парой \"ключ - значение\"*.\n",
        "\n",
        "**Словарь** — структура данных, хранящая информацию в виде набора записей - пар “ключ-значение”.\n",
        "\n",
        "**Ключи** в словаре должны быть уникальными. Уникальность ключей в словаре обеспечивает обращение к конкретному элементу словаря (как обращение по индексу в списках и строках.\n",
        "\n",
        "В Python словари обозначаются фигурными скобками ({})."
      ],
      "metadata": {
        "id": "zCUjBC7dC2La"
      }
    },
    {
      "cell_type": "code",
      "source": [
        "myCat = {'размер': 'толстый', 'цвет': 'серый', 'характер': 'шумный'}"
      ],
      "metadata": {
        "id": "qDfZ6qxOEXAo"
      },
      "execution_count": null,
      "outputs": []
    },
    {
      "cell_type": "markdown",
      "source": [
        "В примере выше переменной `myCat` присваивается словарь. Ключами в нем служат строки 'размер', 'цвет' и 'характер', а значениями - строки 'толстый', 'серый', и 'шумный' соответственно. Доступ к значениям осуществляется с помощью ключей."
      ],
      "metadata": {
        "id": "3KiIYjXBEpQG"
      }
    },
    {
      "cell_type": "code",
      "source": [
        "myCat['размер']"
      ],
      "metadata": {
        "colab": {
          "base_uri": "https://localhost:8080/",
          "height": 36
        },
        "id": "Ai0NA58JFD76",
        "outputId": "3dc61cf8-6037-4ba3-8087-de2e94d3b192"
      },
      "execution_count": null,
      "outputs": [
        {
          "output_type": "execute_result",
          "data": {
            "text/plain": [
              "'толстый'"
            ],
            "application/vnd.google.colaboratory.intrinsic+json": {
              "type": "string"
            }
          },
          "metadata": {},
          "execution_count": 126
        }
      ]
    },
    {
      "cell_type": "code",
      "source": [
        "'У моего кота ' + myCat['цвет'] + ' мех.'"
      ],
      "metadata": {
        "colab": {
          "base_uri": "https://localhost:8080/",
          "height": 36
        },
        "id": "qaj9-yLrFRCi",
        "outputId": "2a8bd2a7-b2a0-4e1f-c39a-69eb7a94aace"
      },
      "execution_count": null,
      "outputs": [
        {
          "output_type": "execute_result",
          "data": {
            "text/plain": [
              "'У моего кота серый мех.'"
            ],
            "application/vnd.google.colaboratory.intrinsic+json": {
              "type": "string"
            }
          },
          "metadata": {},
          "execution_count": 129
        }
      ]
    },
    {
      "cell_type": "markdown",
      "source": [
        "Индексами в словарях, как и в списках, могут быть целые числа, однако их отсчет необязательно должен начинаться с нуля. Кроме того, это могут быть любые числа."
      ],
      "metadata": {
        "id": "MPvQUKRSFIS-"
      }
    },
    {
      "cell_type": "markdown",
      "source": [
        "## Сравнение словарей и списков\n",
        "\n",
        "В отличие от списков, в словарях элементы неупорядочены. К словарям понятие \"первый элемент\" неприменимо. Порядок элементов важен при проверке идентичности двух списков, но для словарей не имеет значения, в каком порядке в них были включены пары \"ключ-значение\"."
      ],
      "metadata": {
        "id": "XoQDmep1F1nA"
      }
    },
    {
      "cell_type": "code",
      "source": [
        "a = [1, 2, 3]\n",
        "b = [1, 3, 2]\n",
        "a == b"
      ],
      "metadata": {
        "colab": {
          "base_uri": "https://localhost:8080/"
        },
        "id": "M2K7yA1mFuQ2",
        "outputId": "6b7554c8-df28-4d83-b494-086ffa443b4c"
      },
      "execution_count": null,
      "outputs": [
        {
          "output_type": "execute_result",
          "data": {
            "text/plain": [
              "False"
            ]
          },
          "metadata": {},
          "execution_count": 130
        }
      ]
    },
    {
      "cell_type": "code",
      "source": [
        "c = [1, 2, 3]\n",
        "a == c"
      ],
      "metadata": {
        "colab": {
          "base_uri": "https://localhost:8080/"
        },
        "id": "ebAMjzJ9Ha7U",
        "outputId": "804c745a-bbfe-4b98-d398-49a6fdc192f6"
      },
      "execution_count": null,
      "outputs": [
        {
          "output_type": "execute_result",
          "data": {
            "text/plain": [
              "True"
            ]
          },
          "metadata": {},
          "execution_count": 131
        }
      ]
    },
    {
      "cell_type": "code",
      "source": [
        "myCat"
      ],
      "metadata": {
        "colab": {
          "base_uri": "https://localhost:8080/"
        },
        "id": "Xc8NrD35HqaL",
        "outputId": "ac8ca0a8-61f9-4e38-b830-4fb715890faa"
      },
      "execution_count": null,
      "outputs": [
        {
          "output_type": "execute_result",
          "data": {
            "text/plain": [
              "{'размер': 'толстый', 'цвет': 'серый', 'характер': 'шумный'}"
            ]
          },
          "metadata": {},
          "execution_count": 133
        }
      ]
    },
    {
      "cell_type": "code",
      "source": [
        "myCat2 = {'размер': 'толстый', 'характер': 'шумный', 'цвет': 'серый'}\n",
        "myCat == myCat2"
      ],
      "metadata": {
        "colab": {
          "base_uri": "https://localhost:8080/"
        },
        "id": "cLbJvgfyHfZ7",
        "outputId": "7fde1eaf-009e-45ea-d3de-dc3dc21593f0"
      },
      "execution_count": null,
      "outputs": [
        {
          "output_type": "execute_result",
          "data": {
            "text/plain": [
              "True"
            ]
          },
          "metadata": {},
          "execution_count": 132
        }
      ]
    },
    {
      "cell_type": "markdown",
      "source": [
        "Поскольку словари неупорядочены, для них нельзя создавать срезы, в отличие от списков.\n",
        "\n",
        "При попытке обратиться к ключу, отсутствующему в словаре, будет сгенерировано исключение `KeyError`, напоминающее исключение `IndexError`, которое возникает при выходе за пределы допустимого диапазона индексов в списке."
      ],
      "metadata": {
        "id": "vVlQAMEmHuDf"
      }
    },
    {
      "cell_type": "code",
      "source": [
        "myCat['глаза']"
      ],
      "metadata": {
        "colab": {
          "base_uri": "https://localhost:8080/",
          "height": 175
        },
        "id": "jpKkbczDIQil",
        "outputId": "a0c2ffa2-3a6e-40c2-fa44-586b692403a4"
      },
      "execution_count": null,
      "outputs": [
        {
          "output_type": "error",
          "ename": "KeyError",
          "evalue": "ignored",
          "traceback": [
            "\u001b[0;31m---------------------------------------------------------------------------\u001b[0m",
            "\u001b[0;31mKeyError\u001b[0m                                  Traceback (most recent call last)",
            "\u001b[0;32m<ipython-input-134-839342e02261>\u001b[0m in \u001b[0;36m<cell line: 1>\u001b[0;34m()\u001b[0m\n\u001b[0;32m----> 1\u001b[0;31m \u001b[0mmyCat\u001b[0m\u001b[0;34m[\u001b[0m\u001b[0;34m'глаза'\u001b[0m\u001b[0;34m]\u001b[0m\u001b[0;34m\u001b[0m\u001b[0;34m\u001b[0m\u001b[0m\n\u001b[0m",
            "\u001b[0;31mKeyError\u001b[0m: 'глаза'"
          ]
        }
      ]
    },
    {
      "cell_type": "markdown",
      "source": [
        "Несмотря на то что словари неупорядочены, возможность извлечь произвольное значение по его ключу делает их очень удобными структурами. Предположим, что в программе необходимо хранить данные о днях рождения ваших друзей. Для этой цели вполне подойдет словарь, в котором ключами будут имена друзей, а значениями - даты их рождения."
      ],
      "metadata": {
        "id": "K-F8KZWmIat2"
      }
    },
    {
      "cell_type": "code",
      "source": [
        "birthdays = {'Андрей': '8 августа', 'Иван': '12 декабря', 'Марина': '4 марта'}\n",
        "\n",
        "while True:\n",
        "  print('Введите имя: (<Enter> для выхода)')\n",
        "  name = input()\n",
        "  if name == '':\n",
        "    break\n",
        "\n",
        "  if name in birthdays:\n",
        "    print(birthdays[name] + ' день рождения - ' + name)\n",
        "  else:\n",
        "    print('Я не знаю, когда день рождения у ' + name)\n",
        "    print('Когда день рождения у этого человека?')\n",
        "    bday = input()\n",
        "    birthdays[name] = bday\n",
        "    print('Обновлена информация о днях рождения.')"
      ],
      "metadata": {
        "colab": {
          "base_uri": "https://localhost:8080/"
        },
        "id": "P5buJjhhJKB0",
        "outputId": "324d4e2e-5efc-4ec3-88bd-6d966d22169b"
      },
      "execution_count": null,
      "outputs": [
        {
          "name": "stdout",
          "output_type": "stream",
          "text": [
            "Введите имя: (<Enter> для выхода)\n",
            "Игорь\n",
            "Я не знаю, когда день рождения у Игорь\n",
            "Когда день рождения у этого человека?\n",
            "2 июля\n",
            "Обновлена информация о днях рождения.\n",
            "Введите имя: (<Enter> для выхода)\n",
            "\n"
          ]
        }
      ]
    },
    {
      "cell_type": "code",
      "source": [
        "birthdays['Марина']"
      ],
      "metadata": {
        "colab": {
          "base_uri": "https://localhost:8080/",
          "height": 36
        },
        "id": "wA2RSY6BJ5y1",
        "outputId": "e8864d2c-610a-4fde-8f2d-7e929517e9bf"
      },
      "execution_count": null,
      "outputs": [
        {
          "output_type": "execute_result",
          "data": {
            "text/plain": [
              "'4 марта'"
            ],
            "application/vnd.google.colaboratory.intrinsic+json": {
              "type": "string"
            }
          },
          "metadata": {},
          "execution_count": 137
        }
      ]
    },
    {
      "cell_type": "code",
      "source": [
        "'Игорь' in birthdays"
      ],
      "metadata": {
        "colab": {
          "base_uri": "https://localhost:8080/"
        },
        "id": "cXxp1kYwJ_wd",
        "outputId": "e6589edb-6437-48f5-96b3-4526b488825f"
      },
      "execution_count": null,
      "outputs": [
        {
          "output_type": "execute_result",
          "data": {
            "text/plain": [
              "True"
            ]
          },
          "metadata": {},
          "execution_count": 138
        }
      ]
    },
    {
      "cell_type": "code",
      "source": [
        "birthdays['Игорь']"
      ],
      "metadata": {
        "colab": {
          "base_uri": "https://localhost:8080/",
          "height": 36
        },
        "id": "IfsRvT3KJ2iN",
        "outputId": "7cea90f5-6836-4367-b24b-1d7a14f0e99e"
      },
      "execution_count": null,
      "outputs": [
        {
          "output_type": "execute_result",
          "data": {
            "text/plain": [
              "'2 июля'"
            ],
            "application/vnd.google.colaboratory.intrinsic+json": {
              "type": "string"
            }
          },
          "metadata": {},
          "execution_count": 136
        }
      ]
    },
    {
      "cell_type": "markdown",
      "source": [
        "### Методы keys(), values() и items()\n",
        "\n",
        "Для работы со словарями предусмотрены методы `keys()`, `values()` и `items()`, которые возвращают соответственно ключи, значения и пары \"ключ-значение\". Возвращаемые этими методами коллекции не являются списками: их нельзя изменять и у них нет метода `append()`. В то же время эти типы данных (`dict_keys` и `dict_values` и `dict_items` соответственно) можно использовать в циклах for."
      ],
      "metadata": {
        "id": "govX42RQKMQV"
      }
    },
    {
      "cell_type": "code",
      "source": [
        "birthdays.keys()"
      ],
      "metadata": {
        "colab": {
          "base_uri": "https://localhost:8080/"
        },
        "id": "czFiXbZAK8zt",
        "outputId": "dbcf15cf-1729-417d-edbf-1dfa0d1eb686"
      },
      "execution_count": null,
      "outputs": [
        {
          "output_type": "execute_result",
          "data": {
            "text/plain": [
              "dict_keys(['Андрей', 'Иван', 'Марина', 'Игорь'])"
            ]
          },
          "metadata": {},
          "execution_count": 140
        }
      ]
    },
    {
      "cell_type": "code",
      "source": [
        "birthdays.values()"
      ],
      "metadata": {
        "colab": {
          "base_uri": "https://localhost:8080/"
        },
        "id": "gkfhelXTLEMT",
        "outputId": "ca33ce2c-c29f-449c-c3f9-c077bab7bcbc"
      },
      "execution_count": null,
      "outputs": [
        {
          "output_type": "execute_result",
          "data": {
            "text/plain": [
              "dict_values(['8 августа', '12 декабря', '4 марта', '2 июля'])"
            ]
          },
          "metadata": {},
          "execution_count": 141
        }
      ]
    },
    {
      "cell_type": "code",
      "source": [
        "birthdays.items()"
      ],
      "metadata": {
        "colab": {
          "base_uri": "https://localhost:8080/"
        },
        "id": "8hc-eluYLFBA",
        "outputId": "f9f87d6a-4c09-46d9-ae4d-fc42d55c156d"
      },
      "execution_count": null,
      "outputs": [
        {
          "output_type": "execute_result",
          "data": {
            "text/plain": [
              "dict_items([('Андрей', '8 августа'), ('Иван', '12 декабря'), ('Марина', '4 марта'), ('Игорь', '2 июля')])"
            ]
          },
          "metadata": {},
          "execution_count": 142
        }
      ]
    },
    {
      "cell_type": "markdown",
      "source": [
        "Обратите внимание, что значения типа `dict_items`, возвращаемые методом `items()`, представляют собой кортежи, образуемые ключами и связанными с ними значениями словаря.\n",
        "\n",
        "Если необходимо получить результат в виде списка, передайте функции `list()` значение, возвращаемое любым из этих трёх методов."
      ],
      "metadata": {
        "id": "uR3FF9IRLObh"
      }
    },
    {
      "cell_type": "code",
      "source": [
        "list(birthdays.items())"
      ],
      "metadata": {
        "colab": {
          "base_uri": "https://localhost:8080/"
        },
        "id": "wSN945y8LvI_",
        "outputId": "f5f6ef8d-5529-418a-bcb2-9cf1795f3e65"
      },
      "execution_count": null,
      "outputs": [
        {
          "output_type": "execute_result",
          "data": {
            "text/plain": [
              "[('Андрей', '8 августа'),\n",
              " ('Иван', '12 декабря'),\n",
              " ('Марина', '4 марта'),\n",
              " ('Игорь', '2 июля')]"
            ]
          },
          "metadata": {},
          "execution_count": 143
        }
      ]
    },
    {
      "cell_type": "markdown",
      "source": [
        "Кроме того, можно воспользоваться групповым присваиванием в `цикле for` для присваивания ключей и связанных с ними значений отдельным переменным."
      ],
      "metadata": {
        "id": "8zlnXGFzL1He"
      }
    },
    {
      "cell_type": "code",
      "source": [
        "for k, v in birthdays.items():\n",
        "  print(f'{k} празднует свой День Рождения {v}.')"
      ],
      "metadata": {
        "colab": {
          "base_uri": "https://localhost:8080/"
        },
        "id": "PyHYTr5PMMXe",
        "outputId": "61d26ea2-7d75-40d7-b4d6-e0cc5b5b11dd"
      },
      "execution_count": null,
      "outputs": [
        {
          "output_type": "stream",
          "name": "stdout",
          "text": [
            "Андрей празднует свой День Рождения 8 августа.\n",
            "Иван празднует свой День Рождения 12 декабря.\n",
            "Марина празднует свой День Рождения 4 марта.\n",
            "Игорь празднует свой День Рождения 2 июля.\n"
          ]
        }
      ]
    },
    {
      "cell_type": "markdown",
      "source": [
        "## Метод get()\n",
        "\n",
        "Для того, чтобы не проверять каждый раз наличие ключа в словаре перед обращением к нему, можно воспользоваться методом `get()`. Метод `get()` имеет два аргумента: ключ извлекаемого значения и значение по умолчанию, возвращаемое в случае отсутствия данного ключа в словаре."
      ],
      "metadata": {
        "id": "jSw6vklqMunG"
      }
    },
    {
      "cell_type": "code",
      "source": [
        "picnicItems = {'яблоки': 5, 'чашки': 2}\n",
        "'Я несу ' + str(picnicItems.get('тарелки', 0)) + ' тарелки'"
      ],
      "metadata": {
        "colab": {
          "base_uri": "https://localhost:8080/",
          "height": 36
        },
        "id": "pgWa24riNkvo",
        "outputId": "7f42dc85-77d6-479b-c693-fbb2621bfa2d"
      },
      "execution_count": null,
      "outputs": [
        {
          "output_type": "execute_result",
          "data": {
            "text/plain": [
              "'Я несу 0 тарелки'"
            ],
            "application/vnd.google.colaboratory.intrinsic+json": {
              "type": "string"
            }
          },
          "metadata": {},
          "execution_count": 148
        }
      ]
    },
    {
      "cell_type": "code",
      "source": [
        "'Я несу ' + str(picnicItems.get('чашки', 0)) + ' чашки'"
      ],
      "metadata": {
        "colab": {
          "base_uri": "https://localhost:8080/",
          "height": 36
        },
        "id": "t18jd-vRN-Ss",
        "outputId": "ca34b4d4-f84d-4950-c19d-93be5c7d111b"
      },
      "execution_count": null,
      "outputs": [
        {
          "output_type": "execute_result",
          "data": {
            "text/plain": [
              "'Я несу 2 чашки'"
            ],
            "application/vnd.google.colaboratory.intrinsic+json": {
              "type": "string"
            }
          },
          "metadata": {},
          "execution_count": 149
        }
      ]
    },
    {
      "cell_type": "markdown",
      "source": [
        "Без использования метода `get()` в случае получения значения по отсутствующему ключу будет сгенерировано исключение."
      ],
      "metadata": {
        "id": "VpjkvXt4OFpx"
      }
    },
    {
      "cell_type": "code",
      "source": [
        "picnicItems['вилки']"
      ],
      "metadata": {
        "colab": {
          "base_uri": "https://localhost:8080/",
          "height": 175
        },
        "id": "pD5VLkDhOEMw",
        "outputId": "b045881b-5492-44a4-ee85-b1a2842f032c"
      },
      "execution_count": null,
      "outputs": [
        {
          "output_type": "error",
          "ename": "KeyError",
          "evalue": "ignored",
          "traceback": [
            "\u001b[0;31m---------------------------------------------------------------------------\u001b[0m",
            "\u001b[0;31mKeyError\u001b[0m                                  Traceback (most recent call last)",
            "\u001b[0;32m<ipython-input-150-b7d207e0c465>\u001b[0m in \u001b[0;36m<cell line: 1>\u001b[0;34m()\u001b[0m\n\u001b[0;32m----> 1\u001b[0;31m \u001b[0mpicnicItems\u001b[0m\u001b[0;34m[\u001b[0m\u001b[0;34m'вилки'\u001b[0m\u001b[0;34m]\u001b[0m\u001b[0;34m\u001b[0m\u001b[0;34m\u001b[0m\u001b[0m\n\u001b[0m",
            "\u001b[0;31mKeyError\u001b[0m: 'вилки'"
          ]
        }
      ]
    },
    {
      "cell_type": "markdown",
      "source": [
        "## Метод setdefault()\n",
        "\n",
        "Зачастую нужно установить значение для определенного ключа лишь в случае, если этому ключу еще не присвоено значение."
      ],
      "metadata": {
        "id": "4Qf4dbUZOgZo"
      }
    },
    {
      "cell_type": "code",
      "source": [
        "picnicItems"
      ],
      "metadata": {
        "colab": {
          "base_uri": "https://localhost:8080/"
        },
        "id": "d03dDXKxOxqV",
        "outputId": "9a1fbc6f-22fd-4d50-b821-2c4664c731fc"
      },
      "execution_count": null,
      "outputs": [
        {
          "output_type": "execute_result",
          "data": {
            "text/plain": [
              "{'яблоки': 5, 'чашки': 2}"
            ]
          },
          "metadata": {},
          "execution_count": 152
        }
      ]
    },
    {
      "cell_type": "code",
      "source": [
        "if 'вилки' not in picnicItems:\n",
        "  picnicItems['вилки'] = 5"
      ],
      "metadata": {
        "id": "kh30eKDKO5Us"
      },
      "execution_count": null,
      "outputs": []
    },
    {
      "cell_type": "markdown",
      "source": [
        "С помощью метода `setdefault()` то же самое можно сделать в одной строке кода. У данного метода есть два аргумента: первый - проверяемый ключ, второй - устанавливаемое значение для ключа в случае его отсутствия в словаре. Если же ключ существует, данный метод возвращает его значение."
      ],
      "metadata": {
        "id": "eW92XKLJPBT0"
      }
    },
    {
      "cell_type": "code",
      "source": [
        "picnicItems.setdefault('ложки', 7)\n",
        "picnicItems"
      ],
      "metadata": {
        "colab": {
          "base_uri": "https://localhost:8080/"
        },
        "id": "qRtZgSVkPkBC",
        "outputId": "6ebb0a1d-e0fd-420a-ab0a-bf32f1c58455"
      },
      "execution_count": null,
      "outputs": [
        {
          "output_type": "execute_result",
          "data": {
            "text/plain": [
              "{'яблоки': 5, 'чашки': 2, 'вилки': 5, 'ложки': 7}"
            ]
          },
          "metadata": {},
          "execution_count": 154
        }
      ]
    },
    {
      "cell_type": "code",
      "source": [
        "picnicItems.setdefault('ложки', 10)"
      ],
      "metadata": {
        "colab": {
          "base_uri": "https://localhost:8080/"
        },
        "id": "T8g_osDAPw9S",
        "outputId": "5bbe5a8e-e4f8-4ac4-c27b-3d12c7e3b1d2"
      },
      "execution_count": null,
      "outputs": [
        {
          "output_type": "execute_result",
          "data": {
            "text/plain": [
              "7"
            ]
          },
          "metadata": {},
          "execution_count": 155
        }
      ]
    },
    {
      "cell_type": "markdown",
      "source": [
        "Метод `setdefault()` удобно использовать тогда, когда необходимо гарантировать наличие ключа.\n",
        "\n",
        "Рассмотрим пример, в котором подсчитывается, сколько раз в строке встречается каждая из входящих в нее букв."
      ],
      "metadata": {
        "id": "YtEnP-PyP1K_"
      }
    },
    {
      "cell_type": "code",
      "source": [
        "message = \"Словарь — набор пар “ключ-значение”.\"\n",
        "count = {}\n",
        "\n",
        "for character in message:\n",
        "  count.setdefault(character, 0)\n",
        "  count[character] += 1\n",
        "print(count)"
      ],
      "metadata": {
        "colab": {
          "base_uri": "https://localhost:8080/"
        },
        "id": "QoDuCq3lxrxy",
        "outputId": "47281184-d3a1-40da-ffa9-79973ffe7176"
      },
      "execution_count": null,
      "outputs": [
        {
          "output_type": "stream",
          "name": "stdout",
          "text": [
            "{'С': 1, 'л': 2, 'о': 2, 'в': 1, 'а': 4, 'р': 3, 'ь': 1, ' ': 4, '—': 1, 'н': 3, 'б': 1, 'п': 1, '“': 1, 'к': 1, 'ю': 1, 'ч': 2, '-': 1, 'з': 1, 'е': 2, 'и': 1, '”': 1, '.': 1}\n"
          ]
        }
      ]
    },
    {
      "cell_type": "markdown",
      "source": [
        "Данная программа циклически перебирает все символы строки и подсчитывает, как часто встречается каждый из них. Вызов метода `setdefault()` гарантирует существование ключа в словаре (значение которого по умолчанию равно 0), поэтому при выполнении инструкции `count[character] += 1` ошибка `KeyError` возникать не будет."
      ],
      "metadata": {
        "id": "bWqhStYvzUdo"
      }
    },
    {
      "cell_type": "markdown",
      "source": [
        "## Красивый вывод\n",
        "\n",
        "Импортировав модуль `pprint`, мы получим доступ к функциям `pprint()` и `pformat()`, которые обеспечивают красивый вывод значений словаря. Это может понадобиться, если необходимо расширить возможности функции `print()`.\n",
        "\n",
        "Произведем вывод результата подсчёта частоты встречаемости букв в строке для нашего прошлого примера с помощью модуля `pprint`:"
      ],
      "metadata": {
        "id": "elDssDxe0JAa"
      }
    },
    {
      "cell_type": "code",
      "source": [
        "import pprint\n",
        "pprint.pprint(count)"
      ],
      "metadata": {
        "colab": {
          "base_uri": "https://localhost:8080/"
        },
        "id": "Z4To_7lH1wK_",
        "outputId": "5f06182b-ac8d-4c10-cad4-c1c9a67769ba"
      },
      "execution_count": null,
      "outputs": [
        {
          "output_type": "stream",
          "name": "stdout",
          "text": [
            "{' ': 4,\n",
            " '-': 1,\n",
            " '.': 1,\n",
            " 'С': 1,\n",
            " 'а': 4,\n",
            " 'б': 1,\n",
            " 'в': 1,\n",
            " 'е': 2,\n",
            " 'з': 1,\n",
            " 'и': 1,\n",
            " 'к': 1,\n",
            " 'л': 2,\n",
            " 'н': 3,\n",
            " 'о': 2,\n",
            " 'п': 1,\n",
            " 'р': 3,\n",
            " 'ч': 2,\n",
            " 'ь': 1,\n",
            " 'ю': 1,\n",
            " '—': 1,\n",
            " '“': 1,\n",
            " '”': 1}\n"
          ]
        }
      ]
    },
    {
      "cell_type": "markdown",
      "source": [
        "На этот раз результат выглядит намного аккуратнее и к тому же отсортирован по ключам.\n",
        "\n",
        "Функция `pprint.pprint()` особенно полезна в тех случаях, когда словарь содержит вложенные списки или словари.\n",
        "\n",
        "Если нужно получить аккуратно оформленный текст в виде строки, а не выводить его на экран, то воспользуйтесь функцией `pprint.pformat()`."
      ],
      "metadata": {
        "id": "aEumhlhS2HSH"
      }
    },
    {
      "cell_type": "code",
      "source": [
        "pprint.pformat(count)"
      ],
      "metadata": {
        "colab": {
          "base_uri": "https://localhost:8080/",
          "height": 53
        },
        "id": "ONfBBRFD31m1",
        "outputId": "6c48aab2-9ada-4777-f404-da1ad9a5a2f9"
      },
      "execution_count": null,
      "outputs": [
        {
          "output_type": "execute_result",
          "data": {
            "text/plain": [
              "\"{' ': 4,\\n '-': 1,\\n '.': 1,\\n 'С': 1,\\n 'а': 4,\\n 'б': 1,\\n 'в': 1,\\n 'е': 2,\\n 'з': 1,\\n 'и': 1,\\n 'к': 1,\\n 'л': 2,\\n 'н': 3,\\n 'о': 2,\\n 'п': 1,\\n 'р': 3,\\n 'ч': 2,\\n 'ь': 1,\\n 'ю': 1,\\n '—': 1,\\n '“': 1,\\n '”': 1}\""
            ],
            "application/vnd.google.colaboratory.intrinsic+json": {
              "type": "string"
            }
          },
          "metadata": {},
          "execution_count": 6
        }
      ]
    },
    {
      "cell_type": "markdown",
      "source": [
        "## Множества\n",
        "\n",
        "**Множества (set)** представляют еще один вид набора данных, который хранит только уникальные элементы. Для определения множества используются фигурные скобки, в которых перечисляются элементы:"
      ],
      "metadata": {
        "id": "vzwu3hoKCmeU"
      }
    },
    {
      "cell_type": "code",
      "source": [
        "fruits = {\"яблоко\", \"банан\", \"яблоко\", \"апельсин\"}\n",
        "print(fruits)"
      ],
      "metadata": {
        "colab": {
          "base_uri": "https://localhost:8080/"
        },
        "id": "HRj8INWpCx6k",
        "outputId": "05029bde-ec5f-40ef-a0d3-75ffeb04ae9a"
      },
      "execution_count": null,
      "outputs": [
        {
          "output_type": "stream",
          "name": "stdout",
          "text": [
            "{'апельсин', 'яблоко', 'банан'}\n"
          ]
        }
      ]
    },
    {
      "cell_type": "markdown",
      "source": [
        "Обратите внимание, что несмотря на то, что функция `print()` вывела один раз элемент `\"яблоко\"`, хотя в определении множества этот элемент содержится два раза. Все потому что множество содержит только уникальные значения.\n",
        "\n",
        "Также для определения множества может применяться функция `set()`, в которую передается список или кортеж элементов:"
      ],
      "metadata": {
        "id": "XErEKxugDDzW"
      }
    },
    {
      "cell_type": "code",
      "source": [
        "people = [\"Андрей\", \"Илья\", \"Ольга\"]\n",
        "users = set(people)\n",
        "print(users)"
      ],
      "metadata": {
        "colab": {
          "base_uri": "https://localhost:8080/"
        },
        "id": "Z5Lv2rp3DPIl",
        "outputId": "552f37df-e5a3-4a94-d7e3-fe591ea6c26b"
      },
      "execution_count": null,
      "outputs": [
        {
          "output_type": "stream",
          "name": "stdout",
          "text": [
            "{'Ольга', 'Андрей', 'Илья'}\n"
          ]
        }
      ]
    },
    {
      "cell_type": "markdown",
      "source": [
        "Для получения кол-ва элементов множества применяется встроенная функция `len()`:"
      ],
      "metadata": {
        "id": "Bzu_nPh3DbXd"
      }
    },
    {
      "cell_type": "code",
      "source": [
        "len(users)"
      ],
      "metadata": {
        "colab": {
          "base_uri": "https://localhost:8080/"
        },
        "id": "iLEnJQzJDfZe",
        "outputId": "c99e65e9-fff1-4983-f9be-5b444458f6c6"
      },
      "execution_count": null,
      "outputs": [
        {
          "output_type": "execute_result",
          "data": {
            "text/plain": [
              "3"
            ]
          },
          "metadata": {},
          "execution_count": 12
        }
      ]
    },
    {
      "cell_type": "markdown",
      "source": [
        "Функцию `set()` удобно применять для создания пустого множества:"
      ],
      "metadata": {
        "id": "9oE9RbqTDjgf"
      }
    },
    {
      "cell_type": "code",
      "source": [
        "students = set()\n",
        "students"
      ],
      "metadata": {
        "colab": {
          "base_uri": "https://localhost:8080/"
        },
        "id": "eOfBEPRgDmMI",
        "outputId": "6b581daa-c50e-43a3-abab-3ca82782908a"
      },
      "execution_count": null,
      "outputs": [
        {
          "output_type": "execute_result",
          "data": {
            "text/plain": [
              "set()"
            ]
          },
          "metadata": {},
          "execution_count": 14
        }
      ]
    },
    {
      "cell_type": "markdown",
      "source": [
        "В качестве самостоятельной работы ознакомьтесь с операциями над множествами, перейдя по [ссылке](https://metanit.com/python/tutorial/3.4.php)."
      ],
      "metadata": {
        "id": "lE8I83o6DtIJ"
      }
    },
    {
      "cell_type": "markdown",
      "source": [
        "# Подведем итог\n",
        "\n",
        "Символьная строка - это последовательность символов, расположенных в памяти рядом (в соседних ячейках). Строка в языке Python - это неизменяемый объект. В Python имеется множество полезных методов, предназначенных для работы с текстом и строковыми переменными. Для работы с частями строк применяют срезы. Сравнение строк происходит посимвольно с использованием таблицы кодов символов.\n",
        "\n",
        "Списки и словари - это изменяемые типы данных, которые могут содеражть множество значений, включая другие списки и словари. Словари удобны тем, что позволяют сопоставлять одни элементы (ключи) с другими (значения), в отличие от списков, которые просто содержат упорядоченные последовательности значений. Доступ к элементам словаря осуществляется посредством квадратных скобок как и в случае списков. Но вместо целочисленных индексов в словарях допускается использование ключей самых разных **неизменяемых** типов: целых и вещественных чисел, строк и даже кортежей.\n",
        "\n",
        "Множества представляют еще один вид набора данных, который хранит только уникальные элементы."
      ],
      "metadata": {
        "id": "YVz_siKT4Xfr"
      }
    },
    {
      "cell_type": "markdown",
      "source": [
        "# Контрольные вопросы\n",
        "\n",
        "1. Что такое строка?\n",
        "2. Что такое экранированные символы?\n",
        "3. Что означают экранированные символы `\\n` и `\\t`?\n",
        "4. Как вставить обратную косую черту (\\) в строку?\n",
        "5. Строка `\"Howl's Moving Castle\"` вполне допустима. Почему она не вызовет ошибку, несмотря на наличие неэкранированного апострофа в слове `\"Howl's\"`?\n",
        "6. Как можно написать многострочный текст без использования символов `\\n`?\n",
        "7. Чему равны следующие выражения:\n",
        "* `\"Здравствуй, мир!\"[1]`\n",
        "* `\"Здравствуй, мир!\"[0:5]`\n",
        "* `\"Здравствуй, мир!\"[:5]`\n",
        "* `\"Здравствуй, мир!\"[3:]`\n",
        "8. Способы форматирования строк.\n",
        "9. Чему равны следующие выражения?\n",
        "* `\"Здравствуй\".upper()`\n",
        "* `\"Здравствуй\".upper().isupper()`\n",
        "* `\"Здравствуй\".upper().lower()`\n",
        "10. Чему равны следующие выражения?\n",
        "* `'Привет123'.isalpha()`\n",
        "* `'Привет123'.isalnum()`\n",
        "* `'Привет!'.isalnum()`\n",
        "* `'123'.isdecimal()`\n",
        "* `'   \\n\\t'.isspace()`\n",
        "* `'Это cтрока Заголовка'.istitle()`\n",
        "11. Как можно проверить, начинается ли строка `\"Мама мыла раму\"` со слова \"Мама\" и оканчивается ли словом `\"раму\"`?\n",
        "12. Чему равны следующие выражения?\n",
        "* `\"Строка - набор символов, заключенных в кавычки\".split(\" \", 3)`\n",
        "* `'-'.join('Должен остаться только один.'.split())`\n",
        "13. Какие методы применяются для выравнивания строки по правому краю, по левому краю и по центру?\n",
        "14. Как удалить пробельные символы в начале или в конце строки?\n",
        "15. Как найти индекс первого вхождения подстроки в строку? Последнего вхождения?\n",
        "16. Как узнать, сколько раз подстрока содержится в строке?\n",
        "17. Как заменить первые 2 вхождения одной подстроки на другую?\n",
        "18. Как происходит сравнение строк между собой? Сравните следующие строки:\n",
        "* `\"abc\" > \"abd\"`\n",
        "* `\"ABC\" == \"abc\"`\n",
        "* `\"Abc\" < \"abc\"`\n",
        "* `\"abc\" < \"abcd\"`"
      ],
      "metadata": {
        "id": "yitIiavu80YX"
      }
    },
    {
      "cell_type": "markdown",
      "source": [
        "# Дополнительные вопросы\n",
        "\n",
        "1. Что такое словарь? Могут ли быть ключами словаря изменяемые типы данных?\n",
        "2. Как выглядит пустой словарь? Способы его создания.\n",
        "3. Можно ли обратиться к элементам словаря по индексу? Как вы думаете, почему сделано именно так?\n",
        "4. Как получить значение элемента словаря?\n",
        "5. Как получить список всех ключей словаря? Всех значений словаря?\n",
        "6. Как перебрать все пары \"ключ-значение\"?\n",
        "7. В чем основная разница между словарем и списком?\n",
        "8. Что произойдет при попытке получить доступ к элементу `fruits['яблоко']`, если `fruits` - это словарь вида `{'банан': 5}`?\n",
        "9. Если в переменной `fruits` хранится словарь, то в чем разница между выражениями `'яблоко' in fruits` и `'яблоко' in fruits.keys()`?\n",
        "10. Если в переменной `fruits` хранится словарь, то в чем разница между выражениями `'яблоко' in fruits` и `'яблоко' in fruits.values()`?\n",
        "11. Как можно короче записать приведенный ниже код?\n",
        "```\n",
        "if 'яблоко' in fruits`:\n",
        "      print(fruits['яблоко'])\n",
        "else:\n",
        "      print('Такого фрукта нет.')\n",
        "```\n",
        "12. Как можно короче записать приведенный ниже код?\n",
        "```\n",
        "if 'яблоко' not in fruits`:\n",
        "      fruits['яблоко'] = 8\n",
        "```\n",
        "13. Какую функцию можно использовать для \"красивого вывода\" значений словаря?\n",
        "14. Что такое множество? Способы определения множества.\n",
        "15. Добавление, удаление и перебор элементов множества.\n",
        "16. Операции с множествами: объединение, пересечение и разность.\n",
        "17. Отношения между множествами: подмножество и надмножество.\n",
        "18. Тип `frozen set`.\n",
        "19. Результат работы следующей программы:\n",
        "```\n",
        "set1 = { 5, 10, 20, 35}\n",
        "set2 = {20, 25, 35}\n",
        "set3 = set1.union(set2)\n",
        "print(set3)\n",
        "```\n",
        "20. Результат работы следующей программы:\n",
        "```\n",
        "set1 = { 5, 10, 20, 30}\n",
        "set2 = {20, 25, 35}\n",
        "set1.intersection_update(set2)\n",
        "print(set1)\n",
        "```\n",
        "21. Результат работы следующей программы:\n",
        "```\n",
        "a = {1, 2, 3}\n",
        "b = {1, 2, 3}\n",
        "print(a + b)\n",
        "```"
      ],
      "metadata": {
        "id": "0pzzEYrPuGok"
      }
    }
  ]
}