{
  "nbformat": 4,
  "nbformat_minor": 0,
  "metadata": {
    "colab": {
      "provenance": [],
      "include_colab_link": true
    },
    "kernelspec": {
      "name": "python3",
      "display_name": "Python 3"
    },
    "language_info": {
      "name": "python"
    }
  },
  "cells": [
    {
      "cell_type": "markdown",
      "metadata": {
        "id": "view-in-github",
        "colab_type": "text"
      },
      "source": [
        "<a href=\"https://colab.research.google.com/github/sudlenia/Python-lections/blob/main/%D0%9B%D0%B5%D0%BA%D1%86%D0%B8%D1%8F_%E2%84%963_%D0%A1%D0%BF%D0%B8%D1%81%D0%BA%D0%B8.ipynb\" target=\"_parent\"><img src=\"https://colab.research.google.com/assets/colab-badge.svg\" alt=\"Open In Colab\"/></a>"
      ]
    },
    {
      "cell_type": "markdown",
      "source": [
        "# Списки\n",
        "В данной лекции мы познакомимся с вами со списками и родственным им типом данных - кортежами. Списки и кортежи могут содержать наборы значений, что упрощает написание программ, обрабатывающих большие объемы данных. А поскольку списки могут включать вложенные списки, появляется возможность создавать вложенные структуры данных."
      ],
      "metadata": {
        "id": "x6y9xPbaQtz1"
      }
    },
    {
      "cell_type": "markdown",
      "source": [
        "**Список** – набор значений, образующих упорядоченную последовательность. Весь набор трактуется как единое значение, которое можно сохранить в переменной или передать в функцию."
      ],
      "metadata": {
        "id": "w9vg29Tufpgf"
      }
    },
    {
      "cell_type": "code",
      "source": [
        "['кот', 'собака', 'лошадь', 'кролик']"
      ],
      "metadata": {
        "id": "VFAcHdtuQvY8",
        "colab": {
          "base_uri": "https://localhost:8080/"
        },
        "outputId": "97a14e11-e9e5-4163-d6be-4c2b46a2792f"
      },
      "execution_count": null,
      "outputs": [
        {
          "output_type": "execute_result",
          "data": {
            "text/plain": [
              "['кот', 'собака', 'лошадь', 'кролик']"
            ]
          },
          "metadata": {},
          "execution_count": 1
        }
      ]
    },
    {
      "cell_type": "markdown",
      "source": [
        "Подобно тому как строковые значения заключаются в кавычки, показывающие, где начинается и заканчивается строка, список заключается в квадратные скобки ([]). Значения, входящие в список, называются элементами списка. Элементы списка разделяются запятыми.\n",
        "\n",
        "Пустой список записывается как []. В таком списке отсутствуют элементы, аналогично тому, как значению \"\" соответствует пустая строка."
      ],
      "metadata": {
        "id": "uonNkLNEhUfs"
      }
    },
    {
      "cell_type": "code",
      "source": [
        "[]"
      ],
      "metadata": {
        "colab": {
          "base_uri": "https://localhost:8080/"
        },
        "id": "WsE2GnA6hWML",
        "outputId": "2df8e25f-f220-46bb-a70a-14b7e52db946"
      },
      "execution_count": null,
      "outputs": [
        {
          "output_type": "execute_result",
          "data": {
            "text/plain": [
              "[]"
            ]
          },
          "metadata": {},
          "execution_count": 4
        }
      ]
    },
    {
      "cell_type": "markdown",
      "source": [
        "В списке допускается любое количество элементов разных типов (целые числа, числа с плавающей точкой, строки и т. д.)."
      ],
      "metadata": {
        "id": "P4XaXTJl29TW"
      }
    },
    {
      "cell_type": "code",
      "source": [
        "my_list = [1, \"Привет\", 3.4]\n",
        "my_list"
      ],
      "metadata": {
        "colab": {
          "base_uri": "https://localhost:8080/"
        },
        "id": "ZF_azpwz3Dld",
        "outputId": "15f4cf91-21f0-46f1-bc4b-1f1b8bb8dc79"
      },
      "execution_count": null,
      "outputs": [
        {
          "output_type": "execute_result",
          "data": {
            "text/plain": [
              "[1, 'Привет', 3.4]"
            ]
          },
          "metadata": {},
          "execution_count": 11
        }
      ]
    },
    {
      "cell_type": "markdown",
      "source": [
        "## Доступ к элементам списка с помощью индексов\n",
        "Предположим, у нас есть следующий список фруктов, хранящийся в переменной `fruits`:"
      ],
      "metadata": {
        "id": "mNp_uEb4ketR"
      }
    },
    {
      "cell_type": "code",
      "source": [
        "fruits = ['яблоко', 'банан', 'мандарин', 'апельсин', 'манго']"
      ],
      "metadata": {
        "id": "bKysUWjYkvZw"
      },
      "execution_count": null,
      "outputs": []
    },
    {
      "cell_type": "markdown",
      "source": [
        "Для получения элемента из списка нам нужно обратиться к нему по индексу. *Индекс* - целое число, которое указывается в квадратных скобках после имени списка. Первому значению списка соответствует индекс 0, второму - индекс 1 и т.д. Обратите внимание, что индекс последнего элемента на 1 меньше длины списка (кол-ва элементов)."
      ],
      "metadata": {
        "id": "cKifMGHulZXp"
      }
    },
    {
      "cell_type": "markdown",
      "source": [
        "Получим первый фрукт в списке:"
      ],
      "metadata": {
        "id": "tkVAWiVGlTXb"
      }
    },
    {
      "cell_type": "code",
      "source": [
        "fruits[0]"
      ],
      "metadata": {
        "colab": {
          "base_uri": "https://localhost:8080/",
          "height": 35
        },
        "id": "9G17_rugk9zk",
        "outputId": "8c152920-a868-40e4-eda3-b95442ea65c1"
      },
      "execution_count": null,
      "outputs": [
        {
          "output_type": "execute_result",
          "data": {
            "text/plain": [
              "'яблоко'"
            ],
            "application/vnd.google.colaboratory.intrinsic+json": {
              "type": "string"
            }
          },
          "metadata": {},
          "execution_count": 2
        }
      ]
    },
    {
      "cell_type": "markdown",
      "source": [
        "Если попытаться использовать индекс, значение которого превышает количество элементов в списке, будет выдано исключение `IndexError`."
      ],
      "metadata": {
        "id": "a2RrkvSembwO"
      }
    },
    {
      "cell_type": "code",
      "source": [
        "fruits[5]"
      ],
      "metadata": {
        "colab": {
          "base_uri": "https://localhost:8080/",
          "height": 175
        },
        "id": "fWbTC0xslVGn",
        "outputId": "7edcda39-008f-475c-909d-3468786aefc0"
      },
      "execution_count": null,
      "outputs": [
        {
          "output_type": "error",
          "ename": "IndexError",
          "evalue": "ignored",
          "traceback": [
            "\u001b[0;31m---------------------------------------------------------------------------\u001b[0m",
            "\u001b[0;31mIndexError\u001b[0m                                Traceback (most recent call last)",
            "\u001b[0;32m<ipython-input-7-1753250162d1>\u001b[0m in \u001b[0;36m<cell line: 1>\u001b[0;34m()\u001b[0m\n\u001b[0;32m----> 1\u001b[0;31m \u001b[0mfruits\u001b[0m\u001b[0;34m[\u001b[0m\u001b[0;36m5\u001b[0m\u001b[0;34m]\u001b[0m\u001b[0;34m\u001b[0m\u001b[0;34m\u001b[0m\u001b[0m\n\u001b[0m",
            "\u001b[0;31mIndexError\u001b[0m: list index out of range"
          ]
        }
      ]
    },
    {
      "cell_type": "markdown",
      "source": [
        "Индексы могут иметь только целочисленные значения (не вещественные). В следующем примере возникает ошибка `TypeError`."
      ],
      "metadata": {
        "id": "exiVQiAOmyVl"
      }
    },
    {
      "cell_type": "code",
      "source": [
        "fruits[1.0]"
      ],
      "metadata": {
        "colab": {
          "base_uri": "https://localhost:8080/",
          "height": 175
        },
        "id": "FQLSxi8rmrza",
        "outputId": "b3e60c5c-2aea-4d38-c325-0e4cd443542b"
      },
      "execution_count": null,
      "outputs": [
        {
          "output_type": "error",
          "ename": "TypeError",
          "evalue": "ignored",
          "traceback": [
            "\u001b[0;31m---------------------------------------------------------------------------\u001b[0m",
            "\u001b[0;31mTypeError\u001b[0m                                 Traceback (most recent call last)",
            "\u001b[0;32m<ipython-input-8-64759e29453d>\u001b[0m in \u001b[0;36m<cell line: 1>\u001b[0;34m()\u001b[0m\n\u001b[0;32m----> 1\u001b[0;31m \u001b[0mfruits\u001b[0m\u001b[0;34m[\u001b[0m\u001b[0;36m1.0\u001b[0m\u001b[0;34m]\u001b[0m\u001b[0;34m\u001b[0m\u001b[0;34m\u001b[0m\u001b[0m\n\u001b[0m",
            "\u001b[0;31mTypeError\u001b[0m: list indices must be integers or slices, not float"
          ]
        }
      ]
    },
    {
      "cell_type": "markdown",
      "source": [
        "Элементы списков сами могут быть списками. Доступ к значениям в таких вложенных списках осуществляется с помощью нескольких индексов. Первый индекс указывает, какой из вложенных списков следует использовать, а второй - к какому элементу в этом вложенном списке осуществляется доступ."
      ],
      "metadata": {
        "id": "bGS6VcyQt3za"
      }
    },
    {
      "cell_type": "code",
      "source": [
        "s = [[1, 2, 3], ['4', '5', '6', '7']]\n",
        "s[1][1]"
      ],
      "metadata": {
        "id": "wI8XVUQQnBqi",
        "colab": {
          "base_uri": "https://localhost:8080/",
          "height": 36
        },
        "outputId": "3fbe29df-226f-42c0-b551-5890dec659cb"
      },
      "execution_count": null,
      "outputs": [
        {
          "output_type": "execute_result",
          "data": {
            "text/plain": [
              "'5'"
            ],
            "application/vnd.google.colaboratory.intrinsic+json": {
              "type": "string"
            }
          },
          "metadata": {},
          "execution_count": 4
        }
      ]
    },
    {
      "cell_type": "markdown",
      "source": [
        "Если указан только один индекс, то программа выведет в качестве значения весь вложенный список, соответствующий данному индексу."
      ],
      "metadata": {
        "id": "gnjnZN5bvQBW"
      }
    },
    {
      "cell_type": "code",
      "source": [
        "s[0]"
      ],
      "metadata": {
        "colab": {
          "base_uri": "https://localhost:8080/"
        },
        "id": "_ZPzakb7vBqY",
        "outputId": "097d8924-4f05-49b7-b1b4-70397291439b"
      },
      "execution_count": null,
      "outputs": [
        {
          "output_type": "execute_result",
          "data": {
            "text/plain": [
              "[1, 2, 3]"
            ]
          },
          "metadata": {},
          "execution_count": 5
        }
      ]
    },
    {
      "cell_type": "markdown",
      "source": [
        "## Отрицательные индексы\n",
        "В качестве индексов элементов списка в Python разрешается использовать отрицательные значения. Отрицательному значению -1 соответствует последний элемент списка, значению -2 - предпоследний и т.д."
      ],
      "metadata": {
        "id": "22ww8bKfvXHp"
      }
    },
    {
      "cell_type": "code",
      "source": [
        "f'{s[0][-2]} + {s[0][-1]} = {s[1][1]}'"
      ],
      "metadata": {
        "colab": {
          "base_uri": "https://localhost:8080/",
          "height": 36
        },
        "id": "-XYrlwHTvH_8",
        "outputId": "b35e3be2-bbf7-4c8a-d52b-54f87d33a9b4"
      },
      "execution_count": null,
      "outputs": [
        {
          "output_type": "execute_result",
          "data": {
            "text/plain": [
              "'2 + 3 = 5'"
            ],
            "application/vnd.google.colaboratory.intrinsic+json": {
              "type": "string"
            }
          },
          "metadata": {},
          "execution_count": 9
        }
      ]
    },
    {
      "cell_type": "markdown",
      "source": [
        "## Получение фрагмента списка с помощью среза\n",
        "С помощью индексов можно извлекать из списка одиночные элементы, тогда как срезы позволяют получать сразу несколько значений в виде нового списка. Срез, как и индекс, обозначается квадратными скобками, в которых указываются два индекса, разделенных двоеточием. **Первое** целое число в квадратных скобках в записи среза - это индекс, с которого начиается срез. **Второе** целое число - это индекс, на котором срез заканчивается (сам этот индекс в срез не включается). Значением среза является **новый список**."
      ],
      "metadata": {
        "id": "8s30PSDnwRI0"
      }
    },
    {
      "cell_type": "code",
      "source": [
        "s = [1, 2, 3, 4, 5]\n",
        "s[0:4]"
      ],
      "metadata": {
        "colab": {
          "base_uri": "https://localhost:8080/"
        },
        "id": "kJtShTlvv97j",
        "outputId": "e9ca76c4-1f49-459c-8ed2-e4792c207500"
      },
      "execution_count": null,
      "outputs": [
        {
          "output_type": "execute_result",
          "data": {
            "text/plain": [
              "[1, 2, 3, 4]"
            ]
          },
          "metadata": {},
          "execution_count": 3
        }
      ]
    },
    {
      "cell_type": "code",
      "source": [
        "s[1:3]"
      ],
      "metadata": {
        "colab": {
          "base_uri": "https://localhost:8080/"
        },
        "id": "5sh0DnRd050I",
        "outputId": "8480199a-5aea-4ee3-9ae1-34b968d233cb"
      },
      "execution_count": null,
      "outputs": [
        {
          "output_type": "execute_result",
          "data": {
            "text/plain": [
              "[2, 3]"
            ]
          },
          "metadata": {},
          "execution_count": 12
        }
      ]
    },
    {
      "cell_type": "code",
      "source": [
        "s[0:-1]"
      ],
      "metadata": {
        "colab": {
          "base_uri": "https://localhost:8080/"
        },
        "id": "fvRSkpJC0-eh",
        "outputId": "d6c0c421-7a2e-44a1-e509-99237614f270"
      },
      "execution_count": null,
      "outputs": [
        {
          "output_type": "execute_result",
          "data": {
            "text/plain": [
              "[1, 2, 3, 4]"
            ]
          },
          "metadata": {},
          "execution_count": 13
        }
      ]
    },
    {
      "cell_type": "code",
      "source": [
        "s[::-1] # третье число в записи среза отвечает за шаг"
      ],
      "metadata": {
        "colab": {
          "base_uri": "https://localhost:8080/"
        },
        "id": "1e4jYwjvW_ZN",
        "outputId": "018c5945-e039-4f21-d735-1bae6cf42b4d"
      },
      "execution_count": null,
      "outputs": [
        {
          "output_type": "execute_result",
          "data": {
            "text/plain": [
              "[5, 4, 3, 2, 1]"
            ]
          },
          "metadata": {},
          "execution_count": 5
        }
      ]
    },
    {
      "cell_type": "markdown",
      "source": [
        "Допускается сокращенная запись среза с пропуском одного или обоих индексов по обе стороны от двоеточия. Отсутствующий первый индекс равносилен значению 0, т.е. соответствует началу списка. Отсутствующий второй индекс означает расширение среза до конца списка."
      ],
      "metadata": {
        "id": "obSKl7Hl1FBu"
      }
    },
    {
      "cell_type": "code",
      "source": [
        "s[:2]"
      ],
      "metadata": {
        "colab": {
          "base_uri": "https://localhost:8080/"
        },
        "id": "PBb8FpZc1AcP",
        "outputId": "bc4a34ae-8d94-42df-8710-f3ee998a6410"
      },
      "execution_count": null,
      "outputs": [
        {
          "output_type": "execute_result",
          "data": {
            "text/plain": [
              "[1, 2]"
            ]
          },
          "metadata": {},
          "execution_count": 14
        }
      ]
    },
    {
      "cell_type": "code",
      "source": [
        "s[1:]"
      ],
      "metadata": {
        "colab": {
          "base_uri": "https://localhost:8080/"
        },
        "id": "mwMIdZp01h_o",
        "outputId": "dbed304c-6d76-4be9-ff4e-a028d151fb2f"
      },
      "execution_count": null,
      "outputs": [
        {
          "output_type": "execute_result",
          "data": {
            "text/plain": [
              "[2, 3, 4, 5]"
            ]
          },
          "metadata": {},
          "execution_count": 15
        }
      ]
    },
    {
      "cell_type": "code",
      "source": [
        "s[:]"
      ],
      "metadata": {
        "colab": {
          "base_uri": "https://localhost:8080/"
        },
        "id": "BvjkvyJG1jaC",
        "outputId": "560f0009-d689-48ee-e980-778da8a00d0b"
      },
      "execution_count": null,
      "outputs": [
        {
          "output_type": "execute_result",
          "data": {
            "text/plain": [
              "[1, 2, 3, 4, 5]"
            ]
          },
          "metadata": {},
          "execution_count": 16
        }
      ]
    },
    {
      "cell_type": "markdown",
      "source": [
        "## Определение длины списка с помощью функции len()\n",
        "Функция `len()` возвращает количество элементов в переданном ей списке, а в случае строкового значения - количество символов в строке."
      ],
      "metadata": {
        "id": "OJmQ7Vf71oZi"
      }
    },
    {
      "cell_type": "code",
      "source": [
        "s"
      ],
      "metadata": {
        "colab": {
          "base_uri": "https://localhost:8080/"
        },
        "id": "D1t9dNtH1kN9",
        "outputId": "a4f0dc32-859b-49ba-dd53-8497094d03e0"
      },
      "execution_count": null,
      "outputs": [
        {
          "output_type": "execute_result",
          "data": {
            "text/plain": [
              "[1, 2, 3, 4, 5]"
            ]
          },
          "metadata": {},
          "execution_count": 17
        }
      ]
    },
    {
      "cell_type": "code",
      "source": [
        "len(s)"
      ],
      "metadata": {
        "colab": {
          "base_uri": "https://localhost:8080/"
        },
        "id": "ljsPqoqv2Bp-",
        "outputId": "08c4ea2f-d2c2-4508-cf31-ecd577ab6665"
      },
      "execution_count": null,
      "outputs": [
        {
          "output_type": "execute_result",
          "data": {
            "text/plain": [
              "5"
            ]
          },
          "metadata": {},
          "execution_count": 18
        }
      ]
    },
    {
      "cell_type": "markdown",
      "source": [
        "## Изменение элементов списка с помощью индексов\n",
        "\n",
        "Обычно слева от оператора присваивания указывается имя переменной. Но это может быть и элемент списка с заданным индексом."
      ],
      "metadata": {
        "id": "lzdcWn_E2Eg9"
      }
    },
    {
      "cell_type": "code",
      "source": [
        "s[0] = 8\n",
        "s"
      ],
      "metadata": {
        "colab": {
          "base_uri": "https://localhost:8080/"
        },
        "id": "nEfB1KZ22Cqn",
        "outputId": "82e520d4-9eba-421d-c385-1341db410f9d"
      },
      "execution_count": null,
      "outputs": [
        {
          "output_type": "execute_result",
          "data": {
            "text/plain": [
              "[8, 2, 3, 4, 5]"
            ]
          },
          "metadata": {},
          "execution_count": 30
        }
      ]
    },
    {
      "cell_type": "code",
      "source": [
        "# изменяем элементы со второго по 5\n",
        "s[1:5] = [7, 6, 5, 4]\n",
        "s"
      ],
      "metadata": {
        "colab": {
          "base_uri": "https://localhost:8080/"
        },
        "id": "Xdd6T3j_-a-3",
        "outputId": "08f2d56f-10a4-4ab3-8aed-a463589911a2"
      },
      "execution_count": null,
      "outputs": [
        {
          "output_type": "execute_result",
          "data": {
            "text/plain": [
              "[8, 7, 6, 5, 4]"
            ]
          },
          "metadata": {},
          "execution_count": 32
        }
      ]
    },
    {
      "cell_type": "markdown",
      "source": [
        "## Конкатенация и репликация списков\n",
        "\n",
        "С помощью `оператора +` можно объединить два списка в новый список. `Оператор *` позволяет продублировать список заданное кол-во раз."
      ],
      "metadata": {
        "id": "7LQHmuxS2fSc"
      }
    },
    {
      "cell_type": "code",
      "source": [
        "[1, 2, 3] + ['A', 'B', 'C']"
      ],
      "metadata": {
        "colab": {
          "base_uri": "https://localhost:8080/"
        },
        "id": "y7-Nc_xX2c6N",
        "outputId": "e90ee8ac-7da2-4e2e-f100-411260f767d0"
      },
      "execution_count": null,
      "outputs": [
        {
          "output_type": "execute_result",
          "data": {
            "text/plain": [
              "[1, 2, 3, 'A', 'B', 'C']"
            ]
          },
          "metadata": {},
          "execution_count": 20
        }
      ]
    },
    {
      "cell_type": "code",
      "source": [
        "['X', 'Y', 'Z'] * 3"
      ],
      "metadata": {
        "colab": {
          "base_uri": "https://localhost:8080/"
        },
        "id": "bzBuz0AE23eX",
        "outputId": "9a794550-fb1e-4b1c-be26-03604d687e1e"
      },
      "execution_count": null,
      "outputs": [
        {
          "output_type": "execute_result",
          "data": {
            "text/plain": [
              "['X', 'Y', 'Z', 'X', 'Y', 'Z', 'X', 'Y', 'Z']"
            ]
          },
          "metadata": {},
          "execution_count": 21
        }
      ]
    },
    {
      "cell_type": "markdown",
      "source": [
        "## Удаление значений из списка с помощью инструкции del\n",
        "\n",
        "Инструкция `del` удаляет из списка элемент с заданным индексом. Все значения, находящиеся после удаленного, сдвигаются к началу списка на одну позицию."
      ],
      "metadata": {
        "id": "VCIIjeAn2-qI"
      }
    },
    {
      "cell_type": "code",
      "source": [
        "del s[0]\n",
        "s"
      ],
      "metadata": {
        "colab": {
          "base_uri": "https://localhost:8080/"
        },
        "id": "ag74mzpy28No",
        "outputId": "c22dcf47-1ebc-419a-d4a6-0ee253355450"
      },
      "execution_count": null,
      "outputs": [
        {
          "output_type": "execute_result",
          "data": {
            "text/plain": [
              "[2, 3, 4, 5]"
            ]
          },
          "metadata": {},
          "execution_count": 22
        }
      ]
    },
    {
      "cell_type": "markdown",
      "source": [
        "## Использование циклов for со списками\n",
        "\n",
        "В первой лекции мы с вами узнали, как использовать `циклы for` для выполнения одного и того же фрагмента кода заданное количество раз. С технической точки зрения `цикл for` выполняет блок кода по одному разу для каждого элемента указанного списка.\n",
        "\n",
        "Например следующий код последовательно выведет значения от 0 до 3:"
      ],
      "metadata": {
        "id": "z_f8ZOcS5PX3"
      }
    },
    {
      "cell_type": "code",
      "source": [
        "for i in range(4):\n",
        "  print(i)"
      ],
      "metadata": {
        "colab": {
          "base_uri": "https://localhost:8080/"
        },
        "id": "Gwlyyi2O3d0b",
        "outputId": "4e6ccc4b-4c83-48d5-fa6b-fb56b09a677e"
      },
      "execution_count": null,
      "outputs": [
        {
          "output_type": "stream",
          "name": "stdout",
          "text": [
            "0\n",
            "1\n",
            "2\n",
            "3\n"
          ]
        }
      ]
    },
    {
      "cell_type": "markdown",
      "source": [
        "Это происходит потому, что возвращаемое функцией `range(4)` значение трактуется как список: [0, 1, 2, 3]. Поэтому предыдущий код можно переписать так:"
      ],
      "metadata": {
        "id": "uVFglZT46jsT"
      }
    },
    {
      "cell_type": "code",
      "source": [
        "for i in [0, 1, 2, 3]:\n",
        "  print(i)"
      ],
      "metadata": {
        "colab": {
          "base_uri": "https://localhost:8080/"
        },
        "id": "yBI4HjAI6T_v",
        "outputId": "cee100e5-2938-4913-acaf-2e302ee3ee29"
      },
      "execution_count": null,
      "outputs": [
        {
          "output_type": "stream",
          "name": "stdout",
          "text": [
            "0\n",
            "1\n",
            "2\n",
            "3\n"
          ]
        }
      ]
    },
    {
      "cell_type": "markdown",
      "source": [
        "На каждой итерации цикла переменная i принимает очередное значение из списка [0, 1, 2, 3]."
      ],
      "metadata": {
        "id": "k5Shfi5K69VF"
      }
    },
    {
      "cell_type": "markdown",
      "source": [
        "Популярный прием - использование выражения `range(len(список))` в `цикле for`, что позволяет пройти по всем индексам в списке."
      ],
      "metadata": {
        "id": "wnWIG9Ys7KVD"
      }
    },
    {
      "cell_type": "code",
      "source": [
        "supplies = ['ручки', 'степлеры', 'карандаши', 'скоросшиватели']\n",
        "for i in range(len(supplies)):\n",
        "  print('Индекс ' + str(i) + ': ' + supplies[i])"
      ],
      "metadata": {
        "colab": {
          "base_uri": "https://localhost:8080/"
        },
        "id": "IXjMnSyt66nN",
        "outputId": "c2530e92-7a6d-4d2e-fe50-5488a4593207"
      },
      "execution_count": null,
      "outputs": [
        {
          "output_type": "stream",
          "name": "stdout",
          "text": [
            "Индекс 0: ручки\n",
            "Индекс 1: степлеры\n",
            "Индекс 2: карандаши\n",
            "Индекс 3: скоросшиватели\n"
          ]
        }
      ]
    },
    {
      "cell_type": "markdown",
      "source": [
        "## Генераторы списков\n",
        "\n",
        "В языке программирования Python существует специальная синтаксическая конструкция, которая позволяет по определенным правилам создавать заполненные списки. Такие конструкции называются **генераторами списков**. Их удобство заключается в более короткой записи программного кода, чем если бы создавался список обычным способом."
      ],
      "metadata": {
        "id": "0JvwbGki4O-Z"
      }
    },
    {
      "cell_type": "code",
      "source": [
        "A =[i for i in range(10)]\n",
        "A"
      ],
      "metadata": {
        "colab": {
          "base_uri": "https://localhost:8080/"
        },
        "id": "qb2uU6oV4Xaq",
        "outputId": "a1a6116f-8241-4fa6-f441-9fd93366fe37"
      },
      "execution_count": null,
      "outputs": [
        {
          "output_type": "execute_result",
          "data": {
            "text/plain": [
              "[0, 1, 2, 3, 4, 5, 6, 7, 8, 9]"
            ]
          },
          "metadata": {},
          "execution_count": 15
        }
      ]
    },
    {
      "cell_type": "markdown",
      "source": [
        "То же самое можно получить, если использовать функцию `list` для того,\n",
        "чтобы создать список из данных, которые получаются с помощью функции\n",
        "`range`:"
      ],
      "metadata": {
        "id": "W3W2BQ9V4jxW"
      }
    },
    {
      "cell_type": "code",
      "source": [
        "list(range(10))"
      ],
      "metadata": {
        "colab": {
          "base_uri": "https://localhost:8080/"
        },
        "id": "zpfjeHGZ4n1k",
        "outputId": "3f10548d-7db5-4308-ccee-fdb5350db989"
      },
      "execution_count": null,
      "outputs": [
        {
          "output_type": "execute_result",
          "data": {
            "text/plain": [
              "[0, 1, 2, 3, 4, 5, 6, 7, 8, 9]"
            ]
          },
          "metadata": {},
          "execution_count": 16
        }
      ]
    },
    {
      "cell_type": "markdown",
      "source": [
        "Для заполнения списка квадратами этих чисел можно использовать\n",
        "такой генератор:"
      ],
      "metadata": {
        "id": "IB_FoIxJ4rba"
      }
    },
    {
      "cell_type": "code",
      "source": [
        "A =[i*i for i in range(10)]\n",
        "A"
      ],
      "metadata": {
        "colab": {
          "base_uri": "https://localhost:8080/"
        },
        "id": "LFTL56KW4uJX",
        "outputId": "8b6f04c5-c847-47b7-d34a-420119d0f5c2"
      },
      "execution_count": null,
      "outputs": [
        {
          "output_type": "execute_result",
          "data": {
            "text/plain": [
              "[0, 1, 4, 9, 16, 25, 36, 49, 64, 81]"
            ]
          },
          "metadata": {},
          "execution_count": 17
        }
      ]
    },
    {
      "cell_type": "markdown",
      "source": [
        "В конце записи генератора можно добавить условие отбора. В этом\n",
        "случае в список включаются лишь те из элементов, перебираемых в цикле,\n",
        "которые удовлетворяют этому условию.\n",
        "\n",
        "Например, следующий генератор составляет список из всех нечетных чисел в диапазоне от 0 до 10:"
      ],
      "metadata": {
        "id": "nypCIjz14tsc"
      }
    },
    {
      "cell_type": "code",
      "source": [
        "A = [i for i in range(10) if i % 2 != 0]\n",
        "print(*A)"
      ],
      "metadata": {
        "colab": {
          "base_uri": "https://localhost:8080/"
        },
        "id": "Am_eiblE45l2",
        "outputId": "85dedbc5-666f-4137-943a-092b6ad66fd5"
      },
      "execution_count": null,
      "outputs": [
        {
          "output_type": "stream",
          "name": "stdout",
          "text": [
            "1 3 5 7 9\n"
          ]
        }
      ]
    },
    {
      "cell_type": "markdown",
      "source": [
        "Часто в тестовых и учебных программах массив заполняют случайными числами. Это тоже можно сделать с помощью генератора:"
      ],
      "metadata": {
        "id": "MvHt3JMl5OH8"
      }
    },
    {
      "cell_type": "code",
      "source": [
        "from random import randint\n",
        "A = [randint(20,100) for x in range(10)]\n",
        "A"
      ],
      "metadata": {
        "colab": {
          "base_uri": "https://localhost:8080/"
        },
        "id": "yRF8xHLr5SkR",
        "outputId": "f8506da2-04b0-440f-af8d-3e8472007c75"
      },
      "execution_count": null,
      "outputs": [
        {
          "output_type": "execute_result",
          "data": {
            "text/plain": [
              "[89, 22, 87, 50, 49, 30, 83, 97, 93, 38]"
            ]
          },
          "metadata": {},
          "execution_count": 22
        }
      ]
    },
    {
      "cell_type": "markdown",
      "source": [
        "В генераторе списка можно использовать вложенные циклы:"
      ],
      "metadata": {
        "id": "wxKeVynPDptJ"
      }
    },
    {
      "cell_type": "code",
      "source": [
        "numbers = [i * j for i in range(1, 5) for j in range(2)]\n",
        "numbers"
      ],
      "metadata": {
        "colab": {
          "base_uri": "https://localhost:8080/"
        },
        "id": "0XAzBZV3D1xf",
        "outputId": "c7e067f9-ff3a-4d2d-951c-297572346efd"
      },
      "execution_count": null,
      "outputs": [
        {
          "output_type": "execute_result",
          "data": {
            "text/plain": [
              "[0, 1, 0, 2, 0, 3, 0, 4]"
            ]
          },
          "metadata": {},
          "execution_count": 45
        }
      ]
    },
    {
      "cell_type": "markdown",
      "source": [
        "## Операторы in и not in\n",
        "\n",
        "С помощью операторов `in` и `not in` можно определить, имеется ли заданное значение в списке. Это бинарные операторы: слева от оператора указывается проверяемое значение, справа - список, в котором оно может находиться. Результатом вычисления таких выражений будет булево значение."
      ],
      "metadata": {
        "id": "aiGJ_I-X8Efs"
      }
    },
    {
      "cell_type": "code",
      "source": [
        "'Здравствуй' in ['Привет', 'Здравствуй', 'Салют']"
      ],
      "metadata": {
        "colab": {
          "base_uri": "https://localhost:8080/"
        },
        "id": "ZhYfY8hu715P",
        "outputId": "ecc719d7-8430-417d-8648-6cf6f0ab6db3"
      },
      "execution_count": null,
      "outputs": [
        {
          "output_type": "execute_result",
          "data": {
            "text/plain": [
              "True"
            ]
          },
          "metadata": {},
          "execution_count": 27
        }
      ]
    },
    {
      "cell_type": "code",
      "source": [
        "'Добрый день' in ['Привет', 'Здравствуй', 'Салют']"
      ],
      "metadata": {
        "colab": {
          "base_uri": "https://localhost:8080/"
        },
        "id": "gxP1PBc681Nn",
        "outputId": "e85b61c1-002b-4373-8e53-12f76bb50129"
      },
      "execution_count": null,
      "outputs": [
        {
          "output_type": "execute_result",
          "data": {
            "text/plain": [
              "False"
            ]
          },
          "metadata": {},
          "execution_count": 28
        }
      ]
    },
    {
      "cell_type": "code",
      "source": [
        "'Добрый день' not in ['Привет', 'Здравствуй', 'Салют']"
      ],
      "metadata": {
        "colab": {
          "base_uri": "https://localhost:8080/"
        },
        "id": "9KKiQIk48-Ma",
        "outputId": "793809e5-f01a-4bc6-c661-277c948f7067"
      },
      "execution_count": null,
      "outputs": [
        {
          "output_type": "execute_result",
          "data": {
            "text/plain": [
              "True"
            ]
          },
          "metadata": {},
          "execution_count": 29
        }
      ]
    },
    {
      "cell_type": "markdown",
      "source": [
        "## Групповое присваивание\n",
        "\n",
        "Используя групповое присваивание можно быстро присвоить значения сразу нескольким переменным в одной строке кода.\n",
        "\n",
        "Рассмотрим пример:"
      ],
      "metadata": {
        "id": "4GgIfNe-9M9i"
      }
    },
    {
      "cell_type": "code",
      "source": [
        "cat = ['толстый', 'серый', 'громкий']\n",
        "size = cat[0]\n",
        "color = cat[1]\n",
        "disposition = cat[2]"
      ],
      "metadata": {
        "id": "dYZZcWxN9B7v"
      },
      "execution_count": null,
      "outputs": []
    },
    {
      "cell_type": "markdown",
      "source": [
        "Его можно переписать более компактно:"
      ],
      "metadata": {
        "id": "_zSl-Icg-zuP"
      }
    },
    {
      "cell_type": "code",
      "source": [
        "size, color, disposition = cat"
      ],
      "metadata": {
        "id": "B93s3S2P97vq"
      },
      "execution_count": null,
      "outputs": []
    },
    {
      "cell_type": "markdown",
      "source": [
        "Количество переменных должно совпадать сс длиной списка, иначе будет выдано исключение `ValueError`."
      ],
      "metadata": {
        "id": "2UrK_6zs-_dO"
      }
    },
    {
      "cell_type": "code",
      "source": [
        "size, color, disposition, name = cat"
      ],
      "metadata": {
        "colab": {
          "base_uri": "https://localhost:8080/",
          "height": 175
        },
        "id": "6f8jw-_X-9n7",
        "outputId": "9787666c-c392-4f7e-d135-5b460e1b0e10"
      },
      "execution_count": null,
      "outputs": [
        {
          "output_type": "error",
          "ename": "ValueError",
          "evalue": "ignored",
          "traceback": [
            "\u001b[0;31m---------------------------------------------------------------------------\u001b[0m",
            "\u001b[0;31mValueError\u001b[0m                                Traceback (most recent call last)",
            "\u001b[0;32m<ipython-input-32-1149c93a978e>\u001b[0m in \u001b[0;36m<cell line: 1>\u001b[0;34m()\u001b[0m\n\u001b[0;32m----> 1\u001b[0;31m \u001b[0msize\u001b[0m\u001b[0;34m,\u001b[0m \u001b[0mcolor\u001b[0m\u001b[0;34m,\u001b[0m \u001b[0mdisposition\u001b[0m\u001b[0;34m,\u001b[0m \u001b[0mname\u001b[0m \u001b[0;34m=\u001b[0m \u001b[0mcat\u001b[0m\u001b[0;34m\u001b[0m\u001b[0;34m\u001b[0m\u001b[0m\n\u001b[0m",
            "\u001b[0;31mValueError\u001b[0m: not enough values to unpack (expected 4, got 3)"
          ]
        }
      ]
    },
    {
      "cell_type": "markdown",
      "source": [
        "## Использование функции enumerate() со списками\n",
        "\n",
        "Вместо того чтобы использовать вызов `range(len(список))` в `цикле for` для получения целочисленных индексов элементов списка, можно вызвать функцию `enumerate()`. На каждой итерации цикла она будет возвращать два значения: индекс элемента в списке и сам элемент."
      ],
      "metadata": {
        "id": "-IRK-shN_Vns"
      }
    },
    {
      "cell_type": "code",
      "source": [
        "supplies = ['ручки', 'степлеры', 'карандаши', 'скоросшиватели']\n",
        "for index, item in enumerate(supplies):\n",
        "  print('Индекс ' + str(index) + ': ' + item)"
      ],
      "metadata": {
        "colab": {
          "base_uri": "https://localhost:8080/"
        },
        "id": "J9n6UgoW_NGE",
        "outputId": "349cbb31-92e3-4543-893e-6476f120a839"
      },
      "execution_count": null,
      "outputs": [
        {
          "output_type": "stream",
          "name": "stdout",
          "text": [
            "Индекс 0: ручки\n",
            "Индекс 1: степлеры\n",
            "Индекс 2: карандаши\n",
            "Индекс 3: скоросшиватели\n"
          ]
        }
      ]
    },
    {
      "cell_type": "markdown",
      "source": [
        "Функция `enumerate()` полезна, если в цикле нужен как элемент списка, так и его индекс."
      ],
      "metadata": {
        "id": "8Dotzv03ALw5"
      }
    },
    {
      "cell_type": "markdown",
      "source": [
        "## Методы списков\n",
        "\n",
        "Метод - это та же функция, с тем лишь отличием, что она вызывается для конкретного значения. Например, если список хранится в переменной `supplies`, то для него можно вызвать метод `index()`:"
      ],
      "metadata": {
        "id": "KKCiwaS5ApGb"
      }
    },
    {
      "cell_type": "code",
      "source": [
        "supplies.index('карандаши')"
      ],
      "metadata": {
        "colab": {
          "base_uri": "https://localhost:8080/"
        },
        "id": "W_bI-_nxAJX6",
        "outputId": "679bbb22-391e-40e4-8608-0ed5b0b05777"
      },
      "execution_count": null,
      "outputs": [
        {
          "output_type": "execute_result",
          "data": {
            "text/plain": [
              "2"
            ]
          },
          "metadata": {},
          "execution_count": 34
        }
      ]
    },
    {
      "cell_type": "markdown",
      "source": [
        "Метод указывается после имени переменной (или самого значения) и отделяется от него точкой.\n",
        "\n",
        "У каждого типа данных есть свой набор методов. В частности, для списков есть полезные методы, позволяющие искать, добавлять и удалять элементы, а также выполнять с ними другие манипуляции."
      ],
      "metadata": {
        "id": "nzlU_tslBHIj"
      }
    },
    {
      "cell_type": "markdown",
      "source": [
        "### Поиск значения в списке с помощью метода index()\n",
        "\n",
        "У списков есть метод `index()`, который возвращает индекс указанного значения при условии, что оно содержится в списке. Если значение отсутствует в списке, то генерируется исключение `ValueError`."
      ],
      "metadata": {
        "id": "aV-1NlLYB2tl"
      }
    },
    {
      "cell_type": "code",
      "source": [
        "hello = ['Привет', 'Здравствуй', 'Салют']\n",
        "hello.index('Привет')"
      ],
      "metadata": {
        "colab": {
          "base_uri": "https://localhost:8080/"
        },
        "id": "hh_tACs_BFm2",
        "outputId": "fc9da3c5-34ad-462b-d0d9-fb42dbb58566"
      },
      "execution_count": null,
      "outputs": [
        {
          "output_type": "execute_result",
          "data": {
            "text/plain": [
              "0"
            ]
          },
          "metadata": {},
          "execution_count": 1
        }
      ]
    },
    {
      "cell_type": "code",
      "source": [
        "hello.index('Привет привет')"
      ],
      "metadata": {
        "colab": {
          "base_uri": "https://localhost:8080/",
          "height": 175
        },
        "id": "rDSIy3bSC02R",
        "outputId": "e4da41fe-e80a-4c12-b4b5-abf1de3cfdab"
      },
      "execution_count": null,
      "outputs": [
        {
          "output_type": "error",
          "ename": "ValueError",
          "evalue": "ignored",
          "traceback": [
            "\u001b[0;31m---------------------------------------------------------------------------\u001b[0m",
            "\u001b[0;31mValueError\u001b[0m                                Traceback (most recent call last)",
            "\u001b[0;32m<ipython-input-36-bbe8c21268fa>\u001b[0m in \u001b[0;36m<cell line: 1>\u001b[0;34m()\u001b[0m\n\u001b[0;32m----> 1\u001b[0;31m \u001b[0mhello\u001b[0m\u001b[0;34m.\u001b[0m\u001b[0mindex\u001b[0m\u001b[0;34m(\u001b[0m\u001b[0;34m'Привет привет'\u001b[0m\u001b[0;34m)\u001b[0m\u001b[0;34m\u001b[0m\u001b[0;34m\u001b[0m\u001b[0m\n\u001b[0m",
            "\u001b[0;31mValueError\u001b[0m: 'Привет привет' is not in list"
          ]
        }
      ]
    },
    {
      "cell_type": "markdown",
      "source": [
        "При наличии дубликатов возвращается индекс первого из найденных элементов."
      ],
      "metadata": {
        "id": "OgKKLBNMC6eU"
      }
    },
    {
      "cell_type": "code",
      "source": [
        "['Привет', 'Здравствуй', 'Салют', 'Здравствуй'].index('Здравствуй')"
      ],
      "metadata": {
        "colab": {
          "base_uri": "https://localhost:8080/"
        },
        "id": "Yhv4pPvvC468",
        "outputId": "4ae97e4b-d6f0-4d45-ed7e-60d62c92bc9d"
      },
      "execution_count": null,
      "outputs": [
        {
          "output_type": "execute_result",
          "data": {
            "text/plain": [
              "1"
            ]
          },
          "metadata": {},
          "execution_count": 37
        }
      ]
    },
    {
      "cell_type": "markdown",
      "source": [
        "### Добавление значений в список с помощью методов append(), extend() и insert()\n",
        "\n",
        "Для добавления новых значений в список используются методы `append()` и `insert()`."
      ],
      "metadata": {
        "id": "RdF9Blf8DJWQ"
      }
    },
    {
      "cell_type": "code",
      "source": [
        "hello"
      ],
      "metadata": {
        "colab": {
          "base_uri": "https://localhost:8080/"
        },
        "id": "9oEDqJhDDF-a",
        "outputId": "68d20bbd-e835-4f48-8c0c-a854456bb911"
      },
      "execution_count": null,
      "outputs": [
        {
          "output_type": "execute_result",
          "data": {
            "text/plain": [
              "['Привет', 'Здравствуй', 'Салют']"
            ]
          },
          "metadata": {},
          "execution_count": 38
        }
      ]
    },
    {
      "cell_type": "code",
      "source": [
        "hello.append('Добрый день')\n",
        "hello"
      ],
      "metadata": {
        "colab": {
          "base_uri": "https://localhost:8080/"
        },
        "id": "yqTsXi8ADZ7E",
        "outputId": "24df4cd3-f3f3-436e-e475-52a9164d14d2"
      },
      "execution_count": null,
      "outputs": [
        {
          "output_type": "execute_result",
          "data": {
            "text/plain": [
              "['Привет', 'Здравствуй', 'Салют', 'Добрый день']"
            ]
          },
          "metadata": {},
          "execution_count": 2
        }
      ]
    },
    {
      "cell_type": "markdown",
      "source": [
        "Для добавления нескольких значений в список используется метод `extend()`."
      ],
      "metadata": {
        "id": "mWx68bea_BlF"
      }
    },
    {
      "cell_type": "code",
      "source": [
        "hello.extend(['Доброе утро', 'Приветствую'])\n",
        "hello"
      ],
      "metadata": {
        "colab": {
          "base_uri": "https://localhost:8080/"
        },
        "id": "un19XRk7_eXB",
        "outputId": "cd45be3d-2274-4648-b50d-effd2394a453"
      },
      "execution_count": null,
      "outputs": [
        {
          "output_type": "execute_result",
          "data": {
            "text/plain": [
              "['Привет', 'Здравствуй', 'Салют', 'Добрый день', 'Доброе утро', 'Приветствую']"
            ]
          },
          "metadata": {},
          "execution_count": 3
        }
      ]
    },
    {
      "cell_type": "markdown",
      "source": [
        "Метод `append()` добавляет элемент в конец списка. Метод `insert()` позволяет добавить в список элемент с конкретным индексом. Первый аргумент метода `insert()` - это индекс нового элемента, а второй аргумент - вставляемое значение."
      ],
      "metadata": {
        "id": "fHQfMr19DgWO"
      }
    },
    {
      "cell_type": "code",
      "source": [
        "hello.insert(1, 'Добрый вечер')\n",
        "hello"
      ],
      "metadata": {
        "colab": {
          "base_uri": "https://localhost:8080/"
        },
        "id": "oX2a53m3Dckm",
        "outputId": "7b4dde3e-fad4-48e3-ae76-5b754eba1c84"
      },
      "execution_count": null,
      "outputs": [
        {
          "output_type": "execute_result",
          "data": {
            "text/plain": [
              "['Привет',\n",
              " 'Добрый вечер',\n",
              " 'Здравствуй',\n",
              " 'Салют',\n",
              " 'Добрый день',\n",
              " 'Доброе утро',\n",
              " 'Приветствую']"
            ]
          },
          "metadata": {},
          "execution_count": 4
        }
      ]
    },
    {
      "cell_type": "markdown",
      "source": [
        "Обратите внимание, что методы append() и insert() не возвращают новый список. Вместо этого они изменяют исходный список и поэтому нам не нужно писать `hello = hello.append('Добрый день')`."
      ],
      "metadata": {
        "id": "X0HjrSXMEMKh"
      }
    },
    {
      "cell_type": "markdown",
      "source": [
        "### Удаление значений из списка с помощью метода remove()\n",
        "\n",
        "Метод `remove()` удаляет из списка указанное значение. При попытке удалить значение, отсутствующее в списке, будет сгенерировано исключение `ValueError`."
      ],
      "metadata": {
        "id": "75tVPSFIE_wr"
      }
    },
    {
      "cell_type": "code",
      "source": [
        "hello"
      ],
      "metadata": {
        "colab": {
          "base_uri": "https://localhost:8080/"
        },
        "id": "dot8Ru0mECFG",
        "outputId": "54a6fad1-5075-4c4b-b00e-2c3bf4fda89d"
      },
      "execution_count": null,
      "outputs": [
        {
          "output_type": "execute_result",
          "data": {
            "text/plain": [
              "['Привет',\n",
              " 'Добрый вечер',\n",
              " 'Здравствуй',\n",
              " 'Салют',\n",
              " 'Добрый день',\n",
              " 'Доброе утро',\n",
              " 'Приветствую']"
            ]
          },
          "metadata": {},
          "execution_count": 5
        }
      ]
    },
    {
      "cell_type": "code",
      "source": [
        "hello.remove('Добрый день')\n",
        "hello"
      ],
      "metadata": {
        "colab": {
          "base_uri": "https://localhost:8080/"
        },
        "id": "DGxInSUWFap7",
        "outputId": "f3839691-d16e-40ef-cf35-be22512569fd"
      },
      "execution_count": null,
      "outputs": [
        {
          "output_type": "execute_result",
          "data": {
            "text/plain": [
              "['Привет', 'Добрый вечер', 'Здравствуй', 'Салют', 'Доброе утро', 'Приветствую']"
            ]
          },
          "metadata": {},
          "execution_count": 6
        }
      ]
    },
    {
      "cell_type": "markdown",
      "source": [
        "Если в списке имеется несколько одинаковых значений, будет удалено первое из них."
      ],
      "metadata": {
        "id": "6NURmfoRFwqD"
      }
    },
    {
      "cell_type": "code",
      "source": [
        "hi = ['Привет', 'Здравствуй', 'Салют', 'Здравствуй']\n",
        "hi.remove('Здравствуй')\n",
        "hi"
      ],
      "metadata": {
        "colab": {
          "base_uri": "https://localhost:8080/"
        },
        "id": "oSdd8garFd2W",
        "outputId": "7c770646-f4ca-46ab-92dc-840ce2d4dceb"
      },
      "execution_count": null,
      "outputs": [
        {
          "output_type": "execute_result",
          "data": {
            "text/plain": [
              "['Привет', 'Салют', 'Здравствуй']"
            ]
          },
          "metadata": {},
          "execution_count": 7
        }
      ]
    },
    {
      "cell_type": "markdown",
      "source": [
        "Удалить все одинаковые значения можно следующим образом:"
      ],
      "metadata": {
        "id": "AKMIZQbC2sWi"
      }
    },
    {
      "cell_type": "code",
      "source": [
        "hi = ['Привет', 'Здравствуй', 'Салют', 'Здравствуй']\n",
        "while 'Здравствуй' in hi:\n",
        "  hi.remove('Здравствуй')\n",
        "hi"
      ],
      "metadata": {
        "colab": {
          "base_uri": "https://localhost:8080/"
        },
        "id": "fvidxtKR1Pkw",
        "outputId": "068dfad0-5700-46fd-b151-3c4883cc4558"
      },
      "execution_count": null,
      "outputs": [
        {
          "output_type": "execute_result",
          "data": {
            "text/plain": [
              "['Привет', 'Салют']"
            ]
          },
          "metadata": {},
          "execution_count": 9
        }
      ]
    },
    {
      "cell_type": "markdown",
      "source": [
        "Инструкцию `del` удобно применять в тех случаях, когда известен индекс удаляемого значения, а метод `remove()` - когда известно само удаляемое значение."
      ],
      "metadata": {
        "id": "Dj9X8AFPGL82"
      }
    },
    {
      "cell_type": "markdown",
      "source": [
        "### Удаление элемента списка по индексу — метод pop()"
      ],
      "metadata": {
        "id": "WtoMDS063Sf5"
      }
    },
    {
      "cell_type": "markdown",
      "source": [
        "Метод `pop()` удаляет и возвращает последний элемент из списка, если не указан индекс. Это помогает применять списки как стек."
      ],
      "metadata": {
        "id": "Q0mjpzfS3dss"
      }
    },
    {
      "cell_type": "code",
      "source": [
        "my_list = [1, 2, '3', 4.0]\n",
        "my_list.pop(2)"
      ],
      "metadata": {
        "colab": {
          "base_uri": "https://localhost:8080/",
          "height": 36
        },
        "id": "ApjD03JI3hQp",
        "outputId": "315214d5-83a8-4144-f9bb-f79e316d2c74"
      },
      "execution_count": null,
      "outputs": [
        {
          "output_type": "execute_result",
          "data": {
            "text/plain": [
              "'3'"
            ],
            "application/vnd.google.colaboratory.intrinsic+json": {
              "type": "string"
            }
          },
          "metadata": {},
          "execution_count": 12
        }
      ]
    },
    {
      "cell_type": "code",
      "source": [
        "my_list"
      ],
      "metadata": {
        "colab": {
          "base_uri": "https://localhost:8080/"
        },
        "id": "VIVxBt6B3tOh",
        "outputId": "d98b6cb9-6763-4b45-d5fb-a3e690b7fb82"
      },
      "execution_count": null,
      "outputs": [
        {
          "output_type": "execute_result",
          "data": {
            "text/plain": [
              "[1, 2, 4.0]"
            ]
          },
          "metadata": {},
          "execution_count": 13
        }
      ]
    },
    {
      "cell_type": "code",
      "source": [
        "my_list.pop()\n",
        "my_list"
      ],
      "metadata": {
        "colab": {
          "base_uri": "https://localhost:8080/"
        },
        "id": "VW6S45hc3wj-",
        "outputId": "db6b6e20-f0b9-4e5f-fd3c-c5e3d8a5b85d"
      },
      "execution_count": null,
      "outputs": [
        {
          "output_type": "execute_result",
          "data": {
            "text/plain": [
              "[1, 2]"
            ]
          },
          "metadata": {},
          "execution_count": 14
        }
      ]
    },
    {
      "cell_type": "markdown",
      "source": [
        "### Сортировка списка с помощью метода sort()\n",
        "\n",
        "Для сортировки списков, содержащих числа или строки, применяется метод `sort()`."
      ],
      "metadata": {
        "id": "BlOSmPe_Gpy7"
      }
    },
    {
      "cell_type": "code",
      "source": [
        "nums = [2, 5, 3.14, 1, -7]\n",
        "nums.sort()\n",
        "nums"
      ],
      "metadata": {
        "colab": {
          "base_uri": "https://localhost:8080/"
        },
        "id": "zIP1CwAmF-jG",
        "outputId": "d84b3b0d-c41b-4857-b15d-3580c44105ac"
      },
      "execution_count": null,
      "outputs": [
        {
          "output_type": "execute_result",
          "data": {
            "text/plain": [
              "[-7, 1, 2, 3.14, 5]"
            ]
          },
          "metadata": {},
          "execution_count": 56
        }
      ]
    },
    {
      "cell_type": "code",
      "source": [
        "animals = ['слоны', 'тигры', 'медведи', 'жирафы']\n",
        "animals.sort()\n",
        "animals"
      ],
      "metadata": {
        "colab": {
          "base_uri": "https://localhost:8080/"
        },
        "id": "Mkqhy0P4G_B3",
        "outputId": "86535b57-7236-4bc9-c0fc-59fc3a5412a4"
      },
      "execution_count": null,
      "outputs": [
        {
          "output_type": "execute_result",
          "data": {
            "text/plain": [
              "['жирафы', 'медведи', 'слоны', 'тигры']"
            ]
          },
          "metadata": {},
          "execution_count": 59
        }
      ]
    },
    {
      "cell_type": "markdown",
      "source": [
        "Чтобы выполнить сортировку в обратном порядке, следует передать методу `sort()` именованный аргумент `reverse` со значением `True`."
      ],
      "metadata": {
        "id": "JeytAY2wHcp5"
      }
    },
    {
      "cell_type": "code",
      "source": [
        "animals.sort(reverse = True)\n",
        "animals"
      ],
      "metadata": {
        "colab": {
          "base_uri": "https://localhost:8080/"
        },
        "id": "k2pCYddEHWfl",
        "outputId": "80deaa0b-2d05-4a47-e6d7-ca85bfdb0665"
      },
      "execution_count": null,
      "outputs": [
        {
          "output_type": "execute_result",
          "data": {
            "text/plain": [
              "['тигры', 'слоны', 'медведи', 'жирафы']"
            ]
          },
          "metadata": {},
          "execution_count": 60
        }
      ]
    },
    {
      "cell_type": "markdown",
      "source": [
        "Замечания по использованию метода `sort()`:\n",
        "1. Метод сортирует исходный список. Не пытайтесь использовать его в выражениях вида `nums = nums.sort()`.\n",
        "2. Невозможно отсортировать список, который содержит одновременно и числа, и строки, поскольку Python не знает, как сравнивать разные типы данных."
      ],
      "metadata": {
        "id": "XoGK71N5H6Kh"
      }
    },
    {
      "cell_type": "code",
      "source": [
        "[1, 2, 3, '4', '5'].sort()"
      ],
      "metadata": {
        "colab": {
          "base_uri": "https://localhost:8080/",
          "height": 175
        },
        "id": "YMiaAQzsHzjf",
        "outputId": "5cdec4f9-4f5a-48f7-9724-4f95ae54ab15"
      },
      "execution_count": null,
      "outputs": [
        {
          "output_type": "error",
          "ename": "TypeError",
          "evalue": "ignored",
          "traceback": [
            "\u001b[0;31m---------------------------------------------------------------------------\u001b[0m",
            "\u001b[0;31mTypeError\u001b[0m                                 Traceback (most recent call last)",
            "\u001b[0;32m<ipython-input-61-2b94197845aa>\u001b[0m in \u001b[0;36m<cell line: 1>\u001b[0;34m()\u001b[0m\n\u001b[0;32m----> 1\u001b[0;31m \u001b[0;34m[\u001b[0m\u001b[0;36m1\u001b[0m\u001b[0;34m,\u001b[0m \u001b[0;36m2\u001b[0m\u001b[0;34m,\u001b[0m \u001b[0;36m3\u001b[0m\u001b[0;34m,\u001b[0m \u001b[0;34m'4'\u001b[0m\u001b[0;34m,\u001b[0m \u001b[0;34m'5'\u001b[0m\u001b[0;34m]\u001b[0m\u001b[0;34m.\u001b[0m\u001b[0msort\u001b[0m\u001b[0;34m(\u001b[0m\u001b[0;34m)\u001b[0m\u001b[0;34m\u001b[0m\u001b[0;34m\u001b[0m\u001b[0m\n\u001b[0m",
            "\u001b[0;31mTypeError\u001b[0m: '<' not supported between instances of 'str' and 'int'"
          ]
        }
      ]
    },
    {
      "cell_type": "markdown",
      "source": [
        "3. Метод `sort()` сортирует строки не в алфавитном порядке, а в соответствии с таблицей ASCII. Это означает, что буквы в верхнем регистре предшествуют буквам в нижнем регистре. Поэтому, например, буква 'а' будет располагаться в процессе сортировки после буквы 'Я'."
      ],
      "metadata": {
        "id": "8KD-8OGPIoM0"
      }
    },
    {
      "cell_type": "code",
      "source": [
        "fruits = ['яблоко', 'Апельсин', 'банан', 'Виноград']\n",
        "fruits.sort()\n",
        "fruits"
      ],
      "metadata": {
        "colab": {
          "base_uri": "https://localhost:8080/"
        },
        "id": "F1UfCDbkImEj",
        "outputId": "32d92b6e-3d44-4bc4-a76d-a9d3605cbe91"
      },
      "execution_count": null,
      "outputs": [
        {
          "output_type": "execute_result",
          "data": {
            "text/plain": [
              "['Апельсин', 'Виноград', 'банан', 'яблоко']"
            ]
          },
          "metadata": {},
          "execution_count": 62
        }
      ]
    },
    {
      "cell_type": "markdown",
      "source": [
        "Если необходимо отсортировать строку в обычном алфавитном порядке, то необходимо передать методу `sort()` именованный аргумент `key` со значением `str.lower`."
      ],
      "metadata": {
        "id": "CXE1Gy3NKI-f"
      }
    },
    {
      "cell_type": "code",
      "source": [
        "fruits.sort(key=str.lower)\n",
        "fruits"
      ],
      "metadata": {
        "colab": {
          "base_uri": "https://localhost:8080/"
        },
        "id": "Hq3oyH4GKHBg",
        "outputId": "d629fb63-6386-47c9-8716-d0a6e2c14cf4"
      },
      "execution_count": null,
      "outputs": [
        {
          "output_type": "execute_result",
          "data": {
            "text/plain": [
              "['Апельсин', 'банан', 'Виноград', 'яблоко']"
            ]
          },
          "metadata": {},
          "execution_count": 63
        }
      ]
    },
    {
      "cell_type": "markdown",
      "source": [
        "Это приведет к тому, что метод `sort()` будет обрабатывать все элементы списка так, как будто они записаны в нижнем регистре, но сами элементы меняться не будут."
      ],
      "metadata": {
        "id": "cBwYPTZjKn2z"
      }
    },
    {
      "cell_type": "markdown",
      "source": [
        "### Сортировка списков с помощью функции sorted\n",
        "\n",
        "Для сортировки списка без его изменения можно воспользоваться встроенной функцией `sorted()`. Она использует алгоритм Timsort.\n"
      ],
      "metadata": {
        "id": "-9rDi6mh70uW"
      }
    },
    {
      "cell_type": "code",
      "source": [
        "A = [15, 8, 25, 1]\n",
        "B = sorted(A)\n",
        "print(\"Список A:\", *A)\n",
        "print(\"Список B:\", *B)"
      ],
      "metadata": {
        "colab": {
          "base_uri": "https://localhost:8080/"
        },
        "id": "AH7HKxbu8Y4n",
        "outputId": "299b9616-25d7-497d-bee6-81809afe7d4e"
      },
      "execution_count": null,
      "outputs": [
        {
          "output_type": "stream",
          "name": "stdout",
          "text": [
            "Список A: 15 8 25 1\n",
            "Список B: 1 8 15 25\n"
          ]
        }
      ]
    },
    {
      "cell_type": "markdown",
      "source": [
        "Иногда требуется особый, нестандартный порядок сортировки,\n",
        "который отличается от сортировок «по возрастанию» и «по убыванию». В\n",
        "этом случае используют еще один именованный параметр функции `sorted`,\n",
        "который называется `key` (от англ. «ключ»). В этот параметр нужно записать\n",
        "название функции (фактически – ссылку на объект-функцию), которая\n",
        "возвращает число (или символ), используемое при сравнении двух элементов\n",
        "массива."
      ],
      "metadata": {
        "id": "XtoriX8_899X"
      }
    },
    {
      "cell_type": "markdown",
      "source": [
        "Предположим, что нам нужно отсортировать числа по возрастанию\n",
        "последней цифры (поставить сначала все числа, оканчивающиеся на 0, затем\n",
        "– все, оканчивающиеся на 1 и т.д.). В этом случае ключ сортировки – это\n",
        "последняя цифра числа."
      ],
      "metadata": {
        "id": "rvZcwv6S9IQ8"
      }
    },
    {
      "cell_type": "code",
      "source": [
        "B = sorted (A, key = lambda x: x % 10)\n",
        "B"
      ],
      "metadata": {
        "colab": {
          "base_uri": "https://localhost:8080/"
        },
        "id": "CbNfe2AQ9Qx2",
        "outputId": "3584ba16-d536-4983-b4eb-7eee4488d1d4"
      },
      "execution_count": null,
      "outputs": [
        {
          "output_type": "execute_result",
          "data": {
            "text/plain": [
              "[1, 15, 25, 8]"
            ]
          },
          "metadata": {},
          "execution_count": 27
        }
      ]
    },
    {
      "cell_type": "markdown",
      "source": [
        "Таким образом, функция `sorted` не изменяет исходный массив и возвращает его\n",
        "отсортированную копию. Если нужно отсортировать массив «на месте»,\n",
        "лучше использовать метод `sort`. Он имеет те же именованные параметры, что и функция `sorted`, но изменяет исходный список."
      ],
      "metadata": {
        "id": "Ads4Nu_n9ZvC"
      }
    },
    {
      "cell_type": "markdown",
      "source": [
        "### Инверсия списка с помощью метода reverse()\n",
        "\n",
        "Чтобы быстро инвертировать порядок элементов в списке, используется метод `reverse()`."
      ],
      "metadata": {
        "id": "8HVPqwxtLo1Q"
      }
    },
    {
      "cell_type": "code",
      "source": [
        "fruits"
      ],
      "metadata": {
        "colab": {
          "base_uri": "https://localhost:8080/"
        },
        "id": "wkvxlEaLKlr3",
        "outputId": "c5f17e4c-813a-4fa1-f182-e9152ac411d8"
      },
      "execution_count": null,
      "outputs": [
        {
          "output_type": "execute_result",
          "data": {
            "text/plain": [
              "['Апельсин', 'банан', 'Виноград', 'яблоко']"
            ]
          },
          "metadata": {},
          "execution_count": 67
        }
      ]
    },
    {
      "cell_type": "code",
      "source": [
        "fruits.reverse()\n",
        "fruits"
      ],
      "metadata": {
        "colab": {
          "base_uri": "https://localhost:8080/"
        },
        "id": "XP20SgfUL_G3",
        "outputId": "8f598351-3588-4487-afe1-97a3ceb8f024"
      },
      "execution_count": null,
      "outputs": [
        {
          "output_type": "execute_result",
          "data": {
            "text/plain": [
              "['яблоко', 'Виноград', 'банан', 'Апельсин']"
            ]
          },
          "metadata": {},
          "execution_count": 68
        }
      ]
    },
    {
      "cell_type": "markdown",
      "source": [
        "Как и метод `sort()`, метод `reverse()` изменяет исходный список, поэтому нет необходимости использовать присваивание для сохранения результата."
      ],
      "metadata": {
        "id": "SAqHo_IgMRlA"
      }
    },
    {
      "cell_type": "markdown",
      "source": [
        "## Списковые типы данных\n",
        "\n",
        "Список - не единственный тип данных, представляющий собой упорядоченную последовательность значений. Строки во многом напоминают списки, если рассматривать строку как список, состоящий из символов. К списковым типам данных относятся списки, строки, объекты диапазона, возвращаемые функцией `range()`, и кортежи. Многое из того, что можно делать со списками, можно делать и со строками, а также остальными списковыми типами. В частности, к ним применимы операции индексирования и получения срезов, операторы `in` и `not in` и функции наподобие `len()`. Также они могут использоваться в `циклах for`."
      ],
      "metadata": {
        "id": "xagHQXZ3N53y"
      }
    },
    {
      "cell_type": "code",
      "source": [
        "name = 'Сократ'\n",
        "name[-2]"
      ],
      "metadata": {
        "colab": {
          "base_uri": "https://localhost:8080/",
          "height": 36
        },
        "id": "ODVgHjd_MAwm",
        "outputId": "87d0d189-357c-463f-fc92-29216e374189"
      },
      "execution_count": null,
      "outputs": [
        {
          "output_type": "execute_result",
          "data": {
            "text/plain": [
              "'а'"
            ],
            "application/vnd.google.colaboratory.intrinsic+json": {
              "type": "string"
            }
          },
          "metadata": {},
          "execution_count": 69
        }
      ]
    },
    {
      "cell_type": "code",
      "source": [
        "name[:4]"
      ],
      "metadata": {
        "colab": {
          "base_uri": "https://localhost:8080/",
          "height": 36
        },
        "id": "iMaEHuCHPZjH",
        "outputId": "88f20b87-ddf9-47a0-e0d3-150e88ca30f2"
      },
      "execution_count": null,
      "outputs": [
        {
          "output_type": "execute_result",
          "data": {
            "text/plain": [
              "'Сокр'"
            ],
            "application/vnd.google.colaboratory.intrinsic+json": {
              "type": "string"
            }
          },
          "metadata": {},
          "execution_count": 70
        }
      ]
    },
    {
      "cell_type": "code",
      "source": [
        "'Со' in name"
      ],
      "metadata": {
        "colab": {
          "base_uri": "https://localhost:8080/"
        },
        "id": "0RIAyzdiPbFn",
        "outputId": "ec8f9b39-08a3-4b88-b780-68278f91d5f7"
      },
      "execution_count": null,
      "outputs": [
        {
          "output_type": "execute_result",
          "data": {
            "text/plain": [
              "True"
            ]
          },
          "metadata": {},
          "execution_count": 72
        }
      ]
    },
    {
      "cell_type": "code",
      "source": [
        "for i in name:\n",
        "  print(i, end = ' ')"
      ],
      "metadata": {
        "colab": {
          "base_uri": "https://localhost:8080/"
        },
        "id": "tjfCaevFPe_2",
        "outputId": "e1cb8254-2214-4fa6-e02a-e572c2c5d096"
      },
      "execution_count": null,
      "outputs": [
        {
          "output_type": "stream",
          "name": "stdout",
          "text": [
            "С о к р а т "
          ]
        }
      ]
    },
    {
      "cell_type": "markdown",
      "source": [
        "## Изменяемые и неизменяемые типы данных\n",
        "\n",
        "Между списками и строками существует одно важное различие. Список - *изменяемый* тип данных: можно добавлять, удалять и изменять значения. Строки же представляют собой *неизменяемый* тип данных: строку нельзя изменить. Попытка заменить одиночный символ в строке приведет к появлению исключения `TypeError`."
      ],
      "metadata": {
        "id": "Tf1iD4PAPyED"
      }
    },
    {
      "cell_type": "code",
      "source": [
        "'яблоко'[0] = 'Я'"
      ],
      "metadata": {
        "colab": {
          "base_uri": "https://localhost:8080/",
          "height": 175
        },
        "id": "9SgWqGDCPoaO",
        "outputId": "9f5db4ea-e1e1-4ff8-dd4e-37d5dc1a9628"
      },
      "execution_count": null,
      "outputs": [
        {
          "output_type": "error",
          "ename": "TypeError",
          "evalue": "ignored",
          "traceback": [
            "\u001b[0;31m---------------------------------------------------------------------------\u001b[0m",
            "\u001b[0;31mTypeError\u001b[0m                                 Traceback (most recent call last)",
            "\u001b[0;32m<ipython-input-74-7c628557e86a>\u001b[0m in \u001b[0;36m<cell line: 1>\u001b[0;34m()\u001b[0m\n\u001b[0;32m----> 1\u001b[0;31m \u001b[0;34m'яблоко'\u001b[0m\u001b[0;34m[\u001b[0m\u001b[0;36m0\u001b[0m\u001b[0;34m]\u001b[0m \u001b[0;34m=\u001b[0m \u001b[0;34m'Я'\u001b[0m\u001b[0;34m\u001b[0m\u001b[0;34m\u001b[0m\u001b[0m\n\u001b[0m",
            "\u001b[0;31mTypeError\u001b[0m: 'str' object does not support item assignment"
          ]
        }
      ]
    },
    {
      "cell_type": "markdown",
      "source": [
        "Несмотря на то что список - изменяемый тип данных, в приведенном ниже примере вторая строка не изменяет список `nums`:"
      ],
      "metadata": {
        "id": "TcXxBbJ0RiKQ"
      }
    },
    {
      "cell_type": "code",
      "source": [
        "nums = [1, 2, 3]\n",
        "nums = [4, 5, 6]\n",
        "nums"
      ],
      "metadata": {
        "colab": {
          "base_uri": "https://localhost:8080/"
        },
        "id": "0FKCYBQSQtgm",
        "outputId": "8833b39f-1f79-4998-9c77-10ababb57783"
      },
      "execution_count": null,
      "outputs": [
        {
          "output_type": "execute_result",
          "data": {
            "text/plain": [
              "[4, 5, 6]"
            ]
          },
          "metadata": {},
          "execution_count": 75
        }
      ]
    },
    {
      "cell_type": "markdown",
      "source": [
        "Список, который хранился в переменной `nums`, в данном случае не подвергся изменениям. Просто было создано новое значение [4, 5, 6], которое заменило прежнее [1, 2, 3].\n",
        "\n",
        "Если бы мы хотели действительно изменить первоначальный список, хранящийся в переменной `nums`, чтобы он содержал значения [4, 5, 6], то нам пришлось бы сделать примерно следующее:"
      ],
      "metadata": {
        "id": "8r7G4l85R5ru"
      }
    },
    {
      "cell_type": "code",
      "source": [
        "nums = [1, 2, 3]\n",
        "del nums[2]\n",
        "del nums[1]\n",
        "del nums[0]\n",
        "nums"
      ],
      "metadata": {
        "colab": {
          "base_uri": "https://localhost:8080/"
        },
        "id": "tqESF-P6R38t",
        "outputId": "aa0d0a13-51f3-4184-b1ca-f2ce8de6f2d5"
      },
      "execution_count": null,
      "outputs": [
        {
          "output_type": "execute_result",
          "data": {
            "text/plain": [
              "[]"
            ]
          },
          "metadata": {},
          "execution_count": 76
        }
      ]
    },
    {
      "cell_type": "code",
      "source": [
        "nums.append(4)\n",
        "nums.append(5)\n",
        "nums.append(6)\n",
        "nums"
      ],
      "metadata": {
        "colab": {
          "base_uri": "https://localhost:8080/"
        },
        "id": "Yjm0z8v-S4wx",
        "outputId": "a52fb79c-6688-42c8-9ca9-e209e5c106e9"
      },
      "execution_count": null,
      "outputs": [
        {
          "output_type": "execute_result",
          "data": {
            "text/plain": [
              "[4, 5, 6]"
            ]
          },
          "metadata": {},
          "execution_count": 77
        }
      ]
    },
    {
      "cell_type": "markdown",
      "source": [
        "В этом примере переменная `nums` содержит тот же самый список. Суть в том, что он редактируется, а не перезаписывается.\n",
        "\n",
        "В случае изменяемых типов данных изменению подвергается исходный объект, поскольку значение переменной не заменяется новым списком."
      ],
      "metadata": {
        "id": "zKKTn9JKTAFA"
      }
    },
    {
      "cell_type": "markdown",
      "source": [
        "## Кортежи\n",
        "\n",
        "Кортеж представляет собой неизменяемую разновидность списка. Заключаются кортежи в круглые скобки."
      ],
      "metadata": {
        "id": "PcCmcxuNT0qj"
      }
    },
    {
      "cell_type": "code",
      "source": [
        "tpl = ('Привет', 8, 10.5)\n",
        "tpl[1]"
      ],
      "metadata": {
        "colab": {
          "base_uri": "https://localhost:8080/"
        },
        "id": "tOmdlaJcS-N0",
        "outputId": "a9dd65f7-fdce-4549-be79-6dedd0294073"
      },
      "execution_count": null,
      "outputs": [
        {
          "output_type": "execute_result",
          "data": {
            "text/plain": [
              "8"
            ]
          },
          "metadata": {},
          "execution_count": 79
        }
      ]
    },
    {
      "cell_type": "markdown",
      "source": [
        "При попытке изменить значение в кортеже возникает исключение `TypeError`."
      ],
      "metadata": {
        "id": "x6lzWaOlUeTT"
      }
    },
    {
      "cell_type": "code",
      "source": [
        "tpl[1] = 10"
      ],
      "metadata": {
        "colab": {
          "base_uri": "https://localhost:8080/",
          "height": 175
        },
        "id": "nAt0u_VFUVb8",
        "outputId": "580024d0-5492-4145-b0d3-23ef48c63e6f"
      },
      "execution_count": null,
      "outputs": [
        {
          "output_type": "error",
          "ename": "TypeError",
          "evalue": "ignored",
          "traceback": [
            "\u001b[0;31m---------------------------------------------------------------------------\u001b[0m",
            "\u001b[0;31mTypeError\u001b[0m                                 Traceback (most recent call last)",
            "\u001b[0;32m<ipython-input-80-d66b7b75f397>\u001b[0m in \u001b[0;36m<cell line: 1>\u001b[0;34m()\u001b[0m\n\u001b[0;32m----> 1\u001b[0;31m \u001b[0mtpl\u001b[0m\u001b[0;34m[\u001b[0m\u001b[0;36m1\u001b[0m\u001b[0;34m]\u001b[0m \u001b[0;34m=\u001b[0m \u001b[0;36m10\u001b[0m\u001b[0;34m\u001b[0m\u001b[0;34m\u001b[0m\u001b[0m\n\u001b[0m",
            "\u001b[0;31mTypeError\u001b[0m: 'tuple' object does not support item assignment"
          ]
        }
      ]
    },
    {
      "cell_type": "markdown",
      "source": [
        "Если кортеж содержит единственное значение, после него внутри скобок необходимо поставить запятую. В противном случае Python считает, что вы просто заключили обычное значение в скобки. Запятая служит признаком кортежа."
      ],
      "metadata": {
        "id": "yRVcty2RU5cT"
      }
    },
    {
      "cell_type": "code",
      "source": [
        "type(('привет',))"
      ],
      "metadata": {
        "colab": {
          "base_uri": "https://localhost:8080/"
        },
        "id": "ESbGb3b7U077",
        "outputId": "8ceb5b27-ed5a-4fcd-f28c-f1add44bfcca"
      },
      "execution_count": null,
      "outputs": [
        {
          "output_type": "execute_result",
          "data": {
            "text/plain": [
              "tuple"
            ]
          },
          "metadata": {},
          "execution_count": 81
        }
      ]
    },
    {
      "cell_type": "code",
      "source": [
        "type(('привет'))"
      ],
      "metadata": {
        "colab": {
          "base_uri": "https://localhost:8080/"
        },
        "id": "NzSlzqzdVVVw",
        "outputId": "134f6bd9-b053-4417-b1db-1ac1dcc61286"
      },
      "execution_count": null,
      "outputs": [
        {
          "output_type": "execute_result",
          "data": {
            "text/plain": [
              "str"
            ]
          },
          "metadata": {},
          "execution_count": 82
        }
      ]
    },
    {
      "cell_type": "markdown",
      "source": [
        "Использование кортежей позволяет гарантировать неизменяемость последовательности значений. Еще одним преимуществом кортежей по сравнению со списками служит то, что, благодаря неизменяемости их содержимого, Python может реализовать определенные схемы оптимизации, ускоряющие работу программы."
      ],
      "metadata": {
        "id": "WRGg8wF3VbYj"
      }
    },
    {
      "cell_type": "markdown",
      "source": [
        "## Преобразование типов с помощью функций list() и tuple()\n",
        "\n",
        "Функции `list()` и `tuple()` позволяют получить переданные им значения в виде списка и кортежа соответственно. Преобразование кортежа в список удобно применять в тех случаях, когда необходимо получить изменяемую версию кортежа."
      ],
      "metadata": {
        "id": "zENi0b_iWeNS"
      }
    },
    {
      "cell_type": "code",
      "source": [
        "tpl = ('Привет', 8, 10.5)\n",
        "tpl = list(tpl)\n",
        "tpl[1] = 10\n",
        "tpl"
      ],
      "metadata": {
        "colab": {
          "base_uri": "https://localhost:8080/"
        },
        "id": "oegwOVe_VW0z",
        "outputId": "d2b796be-e413-435f-ba48-32db0dd0c0f3"
      },
      "execution_count": null,
      "outputs": [
        {
          "output_type": "execute_result",
          "data": {
            "text/plain": [
              "['Привет', 10, 10.5]"
            ]
          },
          "metadata": {},
          "execution_count": 86
        }
      ]
    },
    {
      "cell_type": "code",
      "source": [
        "tpl = tuple(tpl)\n",
        "tpl"
      ],
      "metadata": {
        "colab": {
          "base_uri": "https://localhost:8080/"
        },
        "id": "oPxo2vY4XdPc",
        "outputId": "f016171f-1dae-40e7-a2e0-4dd5b9c0ef0d"
      },
      "execution_count": null,
      "outputs": [
        {
          "output_type": "execute_result",
          "data": {
            "text/plain": [
              "('Привет', 10, 10.5)"
            ]
          },
          "metadata": {},
          "execution_count": 88
        }
      ]
    },
    {
      "cell_type": "markdown",
      "source": [
        "## Ссылки\n",
        "\n",
        "Как вы уже знаете, переменные хранят некоторые значения. Но это упрощенное представление. С технической точки зрения переменные хранят ссылки на области памяти, где находятся значения."
      ],
      "metadata": {
        "id": "dX9FXUFjrw85"
      }
    },
    {
      "cell_type": "code",
      "source": [
        "a = 42\n",
        "b = a\n",
        "a = 50"
      ],
      "metadata": {
        "id": "k7xqEpN7XoOm"
      },
      "execution_count": null,
      "outputs": []
    },
    {
      "cell_type": "code",
      "source": [
        "id(a), id(b)"
      ],
      "metadata": {
        "colab": {
          "base_uri": "https://localhost:8080/"
        },
        "id": "ru0HlLyu25WQ",
        "outputId": "d66a6bda-f19f-4fc3-a6fb-e13cbc09f8e9"
      },
      "execution_count": null,
      "outputs": [
        {
          "output_type": "execute_result",
          "data": {
            "text/plain": [
              "(136512418645776, 136512418645520)"
            ]
          },
          "metadata": {},
          "execution_count": 16
        }
      ]
    },
    {
      "cell_type": "code",
      "source": [
        "a"
      ],
      "metadata": {
        "colab": {
          "base_uri": "https://localhost:8080/"
        },
        "id": "1NdefBqsseWa",
        "outputId": "ae777b2b-3370-449d-9958-c80bc88700aa"
      },
      "execution_count": null,
      "outputs": [
        {
          "output_type": "execute_result",
          "data": {
            "text/plain": [
              "50"
            ]
          },
          "metadata": {},
          "execution_count": 2
        }
      ]
    },
    {
      "cell_type": "code",
      "source": [
        "b"
      ],
      "metadata": {
        "colab": {
          "base_uri": "https://localhost:8080/"
        },
        "id": "qoeb2GrasfEt",
        "outputId": "59004b0d-321c-4b5d-fabc-cdcfd52994a6"
      },
      "execution_count": null,
      "outputs": [
        {
          "output_type": "execute_result",
          "data": {
            "text/plain": [
              "42"
            ]
          },
          "metadata": {},
          "execution_count": 3
        }
      ]
    },
    {
      "cell_type": "markdown",
      "source": [
        "Когда мы присваиваем переменной `a` значение 42, в действительности в памяти компьютера создается значение 42 и сохраняется ссылка на него в переменной `a`. При копировании переменной `a` в переменную `b` копируется ссылка, а не само значение. В результате и переменная `a`, и переменная `b` ссылаются на одно и то же значение 42 в памяти компьютера. Когда затем переменной `a` присваивается новое значение 50, это значение создается в памяти компьютера, а в переменной `a` сохраняется ссылка на него. Это никак не отражается на содержимом переменной `b`. Целые числа являются *неизменяемыми* значениями. Изменение переменной `a` просто приводит к тому, что она начинает ссылаться на другое значение в памяти компьютера.\n",
        "\n",
        "Списки же работают совершенно не так, поскольку представляют собой *изменяемый тип данных*."
      ],
      "metadata": {
        "id": "xi29-V1fslRr"
      }
    },
    {
      "cell_type": "code",
      "source": [
        "a = [0, 1, 2, 3, 4, 5]\n",
        "b = a # копируется ссылка, а не список\n",
        "b[1] = 8 # изменение элемента списка\n",
        "a"
      ],
      "metadata": {
        "colab": {
          "base_uri": "https://localhost:8080/"
        },
        "id": "Kd0a2rNhsfSB",
        "outputId": "e265b068-a7e1-4731-8075-a31c0422d8e3"
      },
      "execution_count": null,
      "outputs": [
        {
          "output_type": "execute_result",
          "data": {
            "text/plain": [
              "[0, 8, 2, 3, 4, 5]"
            ]
          },
          "metadata": {},
          "execution_count": 4
        }
      ]
    },
    {
      "cell_type": "code",
      "source": [
        "b"
      ],
      "metadata": {
        "colab": {
          "base_uri": "https://localhost:8080/"
        },
        "id": "ofQTz77Ju0m5",
        "outputId": "91e39588-b7d0-47bc-875d-72dc9a0d5a3f"
      },
      "execution_count": null,
      "outputs": [
        {
          "output_type": "execute_result",
          "data": {
            "text/plain": [
              "[0, 8, 2, 3, 4, 5]"
            ]
          },
          "metadata": {},
          "execution_count": 5
        }
      ]
    },
    {
      "cell_type": "markdown",
      "source": [
        "Несмотря на то что изменялся только список `b`, изменение также затронуло список `a`, так как обе переменные ссылаются на один и тот же список, который существует в единственном экземпляре."
      ],
      "metadata": {
        "id": "CQZZKwMKu8TC"
      }
    },
    {
      "cell_type": "markdown",
      "source": [
        "## Передача ссылок\n",
        "\n",
        "Ссылки особенно важны для понимания механизма передачи аргументов в функции. Когда вызывается функция, значения аргументов копируются в переменные параметров. Для списков (и словарей, о которых мы подробно поговорим позже) это означает, что в параметры копируются ссылки.\n",
        "\n",
        "Рассмотрим пример:"
      ],
      "metadata": {
        "id": "7qk4uUinxBHE"
      }
    },
    {
      "cell_type": "code",
      "source": [
        "def fun(a):\n",
        "  a.append(1)\n",
        "\n",
        "b = [4, 3, 2]\n",
        "fun(b)\n",
        "print(b)"
      ],
      "metadata": {
        "colab": {
          "base_uri": "https://localhost:8080/"
        },
        "id": "tinnqWrru5CX",
        "outputId": "4ea6005e-dda7-416e-f2cf-9db6d871df54"
      },
      "execution_count": null,
      "outputs": [
        {
          "output_type": "stream",
          "name": "stdout",
          "text": [
            "[4, 3, 2, 1]\n"
          ]
        }
      ]
    },
    {
      "cell_type": "markdown",
      "source": [
        "Несмотря на то что переменные `a` и `b` существуют в разных областях видимости, они ссылаются на один и тот же список. Поэтому вызов метода `append()` внутри функции `fun()` оказывает влияние на список даже после завершения функции."
      ],
      "metadata": {
        "id": "I428UIHLyCF6"
      }
    },
    {
      "cell_type": "markdown",
      "source": [
        "## Функции copy() и deepcopy()\n",
        "\n",
        "Передача ссылок обычно считается самым удобным способом работы со списками и словарями, но если функция изменяет переданный ей объект, нежелательно, чтобы это изменение отражалось на исходном списке или словаре. Для решения данной проблемы в Python имеется модуль copy, в котором содержатся функции `copy()` и `deepcopy()`. Первая из них позволяет создать копию изменяемого значения, такого как список или словарь, а не просто копию ссылки."
      ],
      "metadata": {
        "id": "jPwiyVxSytsp"
      }
    },
    {
      "cell_type": "code",
      "source": [
        "import copy\n",
        "a = [1, 2, 3, 4, 5]\n",
        "id(a)"
      ],
      "metadata": {
        "colab": {
          "base_uri": "https://localhost:8080/"
        },
        "id": "IkzKvio8x288",
        "outputId": "b73c5579-2a00-422d-91eb-df4e83e51bdd"
      },
      "execution_count": null,
      "outputs": [
        {
          "output_type": "execute_result",
          "data": {
            "text/plain": [
              "133717123540416"
            ]
          },
          "metadata": {},
          "execution_count": 7
        }
      ]
    },
    {
      "cell_type": "code",
      "source": [
        "b = copy.copy(a)\n",
        "id(b) # b - другой список с другим идентификатором"
      ],
      "metadata": {
        "colab": {
          "base_uri": "https://localhost:8080/"
        },
        "id": "ctcMehdPz4hI",
        "outputId": "12ddd297-2394-4a4c-de8a-9b1198ad5026"
      },
      "execution_count": null,
      "outputs": [
        {
          "output_type": "execute_result",
          "data": {
            "text/plain": [
              "133717124647296"
            ]
          },
          "metadata": {},
          "execution_count": 8
        }
      ]
    },
    {
      "cell_type": "code",
      "source": [
        "b[1] = 8\n",
        "b"
      ],
      "metadata": {
        "colab": {
          "base_uri": "https://localhost:8080/"
        },
        "id": "kuiAtwjNz_-Z",
        "outputId": "352a571c-d50b-4627-f866-63c087b47601"
      },
      "execution_count": null,
      "outputs": [
        {
          "output_type": "execute_result",
          "data": {
            "text/plain": [
              "[1, 8, 3, 4, 5]"
            ]
          },
          "metadata": {},
          "execution_count": 9
        }
      ]
    },
    {
      "cell_type": "code",
      "source": [
        "a"
      ],
      "metadata": {
        "colab": {
          "base_uri": "https://localhost:8080/"
        },
        "id": "AyZs67tc0Oz-",
        "outputId": "599ff826-c437-44a4-84c4-67a18d1a27b8"
      },
      "execution_count": null,
      "outputs": [
        {
          "output_type": "execute_result",
          "data": {
            "text/plain": [
              "[1, 2, 3, 4, 5]"
            ]
          },
          "metadata": {},
          "execution_count": 10
        }
      ]
    },
    {
      "cell_type": "markdown",
      "source": [
        "Если копируемый список содержит вложенные списки, то в этом случае вместо функции `copy.copy()` следует использовать функцию `copy.deepcopy()`. Она копирует всю структуру вложенных списков."
      ],
      "metadata": {
        "id": "6cYy27Mj0aO-"
      }
    },
    {
      "cell_type": "markdown",
      "source": [
        "# Алгоритмы обработки списков\n",
        "\n",
        "## Поиск в массиве\n",
        "\n",
        "Требуется найти в массиве элемент, равный значению переменной *X*,\n",
        "или сообщить, что его там нет. Алгоритм решения сводится к просмотру всех\n",
        "элементов массива с первого до последнего. Как только найден элемент,\n",
        "равный *X*, нужно выйти из цикла и вывести результат. Напрашивается такой\n",
        "алгоритм:"
      ],
      "metadata": {
        "id": "Xr59-sizsRos"
      }
    },
    {
      "cell_type": "code",
      "source": [
        "A = [1, 5, 18, 6, 8, 3]"
      ],
      "metadata": {
        "id": "VWFrL6qZtN9-"
      },
      "execution_count": null,
      "outputs": []
    },
    {
      "cell_type": "code",
      "source": [
        "i = 0\n",
        "X = int(input('Элемент для поиска: '))\n",
        "while A[i] != X:\n",
        "  i += 1\n",
        "print ( \"A[\", i, \"]=\", X, sep = \"\" )"
      ],
      "metadata": {
        "colab": {
          "base_uri": "https://localhost:8080/"
        },
        "id": "3Y5WLb4GtTDP",
        "outputId": "8a3e2c63-6090-4dec-cbdc-80288042b5a4"
      },
      "execution_count": null,
      "outputs": [
        {
          "output_type": "stream",
          "name": "stdout",
          "text": [
            "Элемент для поиска: 8\n",
            "A[4]=8\n"
          ]
        }
      ]
    },
    {
      "cell_type": "markdown",
      "source": [
        "Он хорошо работает, если нужный элемент в массиве есть, однако приведет к\n",
        "ошибке, если такого элемента нет – получится зацикливание и выход за\n",
        "границы массива. Поэтому в условие нужно добавить еще одно ограничение:\n",
        "`i < N`. Если после окончания цикла это условие нарушено, значит поиск был\n",
        "неудачным – элемента нет:"
      ],
      "metadata": {
        "id": "m8rERrM3t2e1"
      }
    },
    {
      "cell_type": "code",
      "source": [
        "i = 0\n",
        "N = len(A)\n",
        "X = int(input('Элемент для поиска: '))\n",
        "while i < N and A[i] != X:\n",
        "  i += 1\n",
        "\n",
        "if i < N:\n",
        "  print ( \"A[\", i, \"]=\", X, sep = \"\" )\n",
        "else:\n",
        "  print ( \"Не нашли!\" )"
      ],
      "metadata": {
        "colab": {
          "base_uri": "https://localhost:8080/"
        },
        "id": "6bf1qcnNt-tB",
        "outputId": "1d2a9140-6116-4994-84f9-b6930440c738"
      },
      "execution_count": null,
      "outputs": [
        {
          "output_type": "stream",
          "name": "stdout",
          "text": [
            "Элемент для поиска: 15\n",
            "Не нашли!\n"
          ]
        }
      ]
    },
    {
      "cell_type": "markdown",
      "source": [
        "Отметим одну тонкость. В сложном условии `i < N и A[i] != X` первой должно\n",
        "проверяться именно отношение `i < N`. Если первая часть условия,\n",
        "соединенного с помощью операции «И», ложно, то вторая часть, как правило,\n",
        "не вычисляется – уже понятно, что всё условие ложно. Дело в том, что если\n",
        "`i >= N`, проверка условия `A[i] != X` приводит к выходу за границы массива, и\n",
        "программа завершается аварийно.\n",
        "\n",
        "Возможен ещё один поход к решению этой задачи: используя цикл с\n",
        "переменной, перебрать все элементы массива и досрочно завершить цикл,\n",
        "если найдено требуемое значение."
      ],
      "metadata": {
        "id": "w1jVUr4buV9d"
      }
    },
    {
      "cell_type": "code",
      "source": [
        "nX = -1\n",
        "X = int(input('Элемент для поиска: '))\n",
        "for i in range(len(A)):\n",
        "  if A[i] == X:\n",
        "    nX = i\n",
        "    break\n",
        "if nX >= 0:\n",
        "  print(\"A[\", nX, \"]=\", X, sep = \"\")\n",
        "else:\n",
        "  print( \"Не нашли!\" )"
      ],
      "metadata": {
        "colab": {
          "base_uri": "https://localhost:8080/"
        },
        "id": "HeVGiCrnwrGb",
        "outputId": "fa0bc32b-91b0-431a-958c-c88362add36d"
      },
      "execution_count": null,
      "outputs": [
        {
          "output_type": "stream",
          "name": "stdout",
          "text": [
            "Элемент для поиска: 8\n",
            "A[4]=8\n"
          ]
        }
      ]
    },
    {
      "cell_type": "markdown",
      "source": [
        "Для выхода из цикла используется оператор `break`, номер найденного\n",
        "элемента сохраняется в переменной `nX`. Если её значение осталось равным –\n",
        "1 (не изменилось в ходе выполнения цикла), то в массиве нет элемента,\n",
        "равного `X`.\n",
        "\n",
        "Последний пример можно упростить, используя особые возможности\n",
        "`цикла for` в языке Python:"
      ],
      "metadata": {
        "id": "NAogFnoCzNlb"
      }
    },
    {
      "cell_type": "code",
      "source": [
        "for i in range(len(A)):\n",
        "  if A[i] == X:\n",
        "    print(\"A[\", i, \"]=\", X, sep = \"\")\n",
        "    break\n",
        "else:\n",
        "  print(\"Не нашли!\")\n"
      ],
      "metadata": {
        "colab": {
          "base_uri": "https://localhost:8080/"
        },
        "id": "0a6REh3bzgrE",
        "outputId": "d4d1ad0b-9bc6-43fe-b672-45b3a687c474"
      },
      "execution_count": null,
      "outputs": [
        {
          "output_type": "stream",
          "name": "stdout",
          "text": [
            "A[4]=8\n"
          ]
        }
      ]
    },
    {
      "cell_type": "markdown",
      "source": [
        "Итак, здесь мы выводим результат сразу, как только нашли нужный\n",
        "элемент, а не после цикла. Слово `else` после `цикла for` начинает блок, который\n",
        "выполняется при нормальном завершении цикла (без применения `break`). Таким образом, сообщение «Не нашли!» будет выведено только тогда, когда\n",
        "условный оператор в теле цикла ни разу не сработал.\n",
        "\n",
        "Возможен другой способ решения этой задачи, использующий метод\n",
        "(функцию) `index` для типа данных `list`, которая возвращает номер первого\n",
        "найденного элемента, равного `X`:"
      ],
      "metadata": {
        "id": "GWHbH6atz1yf"
      }
    },
    {
      "cell_type": "code",
      "source": [
        "X = 5\n",
        "nX = A.index(X)\n",
        "nX"
      ],
      "metadata": {
        "colab": {
          "base_uri": "https://localhost:8080/"
        },
        "id": "VsWuyCY30RHz",
        "outputId": "f75b4d3c-523a-4281-a62e-c789431cad21"
      },
      "execution_count": null,
      "outputs": [
        {
          "output_type": "execute_result",
          "data": {
            "text/plain": [
              "1"
            ]
          },
          "metadata": {},
          "execution_count": 12
        }
      ]
    },
    {
      "cell_type": "markdown",
      "source": [
        "Тут проблема только в том, что эта строчка вызовет ошибку при\n",
        "выполнении программы, если нужного элемента в массиве нет. Поэтому\n",
        "нужно сначала проверить, есть ли он там (с помощью оператора `in`), а потом\n",
        "использовать метод `index`:\n"
      ],
      "metadata": {
        "id": "B3rvG3870cON"
      }
    },
    {
      "cell_type": "code",
      "source": [
        "X = 10\n",
        "if X in A:\n",
        "  nX = A.index(X)\n",
        "  print(\"A[\", nX, \"]=\", X, sep = \"\")\n",
        "else:\n",
        "  print(\"Не нашли!\")"
      ],
      "metadata": {
        "colab": {
          "base_uri": "https://localhost:8080/"
        },
        "id": "C8q1l4dB0imF",
        "outputId": "6b02a452-1ec3-4234-bf93-baf1439ae94e"
      },
      "execution_count": null,
      "outputs": [
        {
          "output_type": "stream",
          "name": "stdout",
          "text": [
            "Не нашли!\n"
          ]
        }
      ]
    },
    {
      "cell_type": "markdown",
      "source": [
        "Запись **«if X in A»** означает «если значение **X** найдено в списке **A**»."
      ],
      "metadata": {
        "id": "wW9_eKOm00rI"
      }
    },
    {
      "cell_type": "markdown",
      "source": [
        "## Двоичный поиск\n",
        "\n",
        "Ранее мы уже рассматривали задачу поиска элемента в массиве и привели алгоритм, который сводится к просмотру всех элементов массива. Такой поиск называют **линейным**. Для массива из 1000 элементов нужно сделать 1000 сравнений, чтобы убедиться, что заданного элемента в массиве нет. Если число элементов (например, записей в базе данных) очень велико, время поиска может оказаться недопустимым, потому что пользователь не дождется ответа.\n",
        "\n",
        "Как вы помните, основная задача сортировки – облегчить последующий поиск данных. Вспомним, как мы ищем нужное слово (например, слово «гравицапа») в словаре. Сначала открываем словарь примерно в середине и смотрим, какие там слова. Если они начинаются на букву «Л», то слово «гравицапа» явно находится на предыдущих страницах, и вторую часть словаря можно не смотреть. Теперь так же проверяем страницу в середине первой половины, и т.д. Такой поиск называется **двоичным**. Понятно, что он возможен только тогда, когда данные предварительно отсортированы. Для примера на рисунке показан поиск числа `X = 44` в отсортированном массиве:\n",
        "\n",
        "![image.png](data:image/png;base64,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)\n",
        "\n",
        "Серым фоном выделены ячейки, которые уже не рассматриваются, потому что в них не может быть заданного числа. Переменные `L` и `R` ограничивают «рабочую зону» массива: `L` содержит номер первого элемента, а `R` – номер элемента, следующего за последним. Таким образом, нужный элемент (если он есть) находится в части массива, которая начинается с элемента `A[L]` и заканчивается элементом `A[R-1]`.\n",
        "\n",
        "На каждом шаге вычисляется номер среднего элемента «рабочей зоны», он записывается в переменную `c`. Если `X < A[c]`, то этот элемент может находиться только левее `A[c]`, и правая граница `R` перемещается в `c`. В противном случае нужный элемент находится правее середины или совпадает с `A[c]`; при этом левая граница `L` перемещается в `c`.\n",
        "\n",
        "Поиск заканчивается при выполнении условия `L=R-1`, когда в рабочей зоне остался один элемент. Если при этом `A[L]=X`, то в результате найден элемент, равный `X`, иначе такого элемента нет.\n"
      ],
      "metadata": {
        "id": "hnZ-XyWM_GR-"
      }
    },
    {
      "cell_type": "code",
      "source": [
        "X = 8 # ищем элемент\n",
        "A.sort() # выполняем сортировку перед двоичным поиском\n",
        "A"
      ],
      "metadata": {
        "colab": {
          "base_uri": "https://localhost:8080/"
        },
        "id": "ZocwDTN_AnVa",
        "outputId": "24133c64-41ec-4c62-ea08-8817cd98ce71"
      },
      "execution_count": null,
      "outputs": [
        {
          "output_type": "execute_result",
          "data": {
            "text/plain": [
              "[1, 3, 5, 6, 8, 18]"
            ]
          },
          "metadata": {},
          "execution_count": 52
        }
      ]
    },
    {
      "cell_type": "code",
      "source": [
        "L = 0; R = N # начальный отрезок\n",
        "while L < R - 1:\n",
        "  c = (L + R) // 2 # нашли середину\n",
        "  if X < A[c]: # сжатие отрезка\n",
        "    R = c\n",
        "  else: L = c\n",
        "if A[L] == X:\n",
        "  print(\"A[\", L, \"]=\", X, sep = \"\")\n",
        "else: print(\"Не нашли!\")"
      ],
      "metadata": {
        "colab": {
          "base_uri": "https://localhost:8080/"
        },
        "id": "rywpbqMtAX7_",
        "outputId": "1034a7bb-1f30-44da-a71e-f170198cd39b"
      },
      "execution_count": null,
      "outputs": [
        {
          "output_type": "stream",
          "name": "stdout",
          "text": [
            "A[4]=8\n"
          ]
        }
      ]
    },
    {
      "cell_type": "markdown",
      "source": [
        "Двоичный поиск работает значительно быстрее, чем линейный. В нашем примере (для массива из 8 элементов) удается решить задачу за 3 шага вместо 8 при линейном поиске. При увеличении размера массива эта разница становится впечатляющей. В таблице ниже сравнивается количество шагов для двух методов при разных значениях `N`:\n",
        "\n",
        "| N | Линейный поиск | Двоичный поиск |\n",
        "|:-:|:-:|:-:|\n",
        "| 2 | 2 | 2|\n",
        "| 16 | 16 | 5 |\n",
        "| 1024 | 1024 | 11 |\n",
        "| 1048576 | 1048576 | 21 |\n"
      ],
      "metadata": {
        "id": "eRbDQ1ldBx1M"
      }
    },
    {
      "cell_type": "markdown",
      "source": [
        "Однако при этом нельзя сказать, что двоичный поиск лучше линейного. Нужно помнить, что данные необходимо предварительно отсортировать, а это может занять значительно больше времени, чем сам поиск. Поэтому такой подход эффективен, если данные меняются (и сортируются) редко, а поиск выполняется часто. Такая ситуация характерна, например, для баз данных."
      ],
      "metadata": {
        "id": "_sS-oLXdCyh7"
      }
    },
    {
      "cell_type": "markdown",
      "source": [
        "## Максимальный элемент\n",
        "\n",
        "Найдем в массиве максимальный элемент. Для его хранения выделим целочисленную переменную `M`. Будем в цикле просматривать все элементы массива один за другим. Если очередной элемент массива больше, чем максимальный из предыдущих (находящийся в переменной `M`), запомним новое значение максимального элемента в `M`.\n",
        "\n",
        "Остается решить, каково должно быть начальное значение `M`. Вопервых, можно записать туда значение, заведомо меньшее, чем любой из элементов массива. Например, если в массиве записаны натуральные числа, можно записать в `M` ноль или отрицательное число. Если содержимое массива неизвестно, можно сразу записать в `M` значение `A[0]`, а цикл перебора начать со второго счёту элемента, то есть, с `A[1]`:"
      ],
      "metadata": {
        "id": "CzLWxTnI1O1M"
      }
    },
    {
      "cell_type": "code",
      "source": [
        "A"
      ],
      "metadata": {
        "colab": {
          "base_uri": "https://localhost:8080/"
        },
        "id": "5fDprMRy243F",
        "outputId": "57afda22-66d4-4878-cf60-c6df599395a5"
      },
      "execution_count": null,
      "outputs": [
        {
          "output_type": "execute_result",
          "data": {
            "text/plain": [
              "[1, 5, 18, 6, 8, 3]"
            ]
          },
          "metadata": {},
          "execution_count": 17
        }
      ]
    },
    {
      "cell_type": "code",
      "source": [
        "M = A[0]\n",
        "for i in range(1, N):\n",
        "  if A[i] > M:\n",
        "    M = A[i]\n",
        "print(M)"
      ],
      "metadata": {
        "colab": {
          "base_uri": "https://localhost:8080/"
        },
        "id": "Sym0GaWt20Hn",
        "outputId": "152d513f-7f83-4ba0-8951-c89668163eb2"
      },
      "execution_count": null,
      "outputs": [
        {
          "output_type": "stream",
          "name": "stdout",
          "text": [
            "18\n"
          ]
        }
      ]
    },
    {
      "cell_type": "markdown",
      "source": [
        "Вот еще один вариант:"
      ],
      "metadata": {
        "id": "vAI7uH5C29wt"
      }
    },
    {
      "cell_type": "code",
      "source": [
        "M = A[0]\n",
        "for x in A:\n",
        "  if x > M:\n",
        "    M = x\n",
        "M"
      ],
      "metadata": {
        "colab": {
          "base_uri": "https://localhost:8080/"
        },
        "id": "r5M7-bWK2_wc",
        "outputId": "efc74b0e-71e7-44bb-b5c8-41beb8ce3f9b"
      },
      "execution_count": null,
      "outputs": [
        {
          "output_type": "execute_result",
          "data": {
            "text/plain": [
              "18"
            ]
          },
          "metadata": {},
          "execution_count": 18
        }
      ]
    },
    {
      "cell_type": "markdown",
      "source": [
        "Он отличается тем, что мы не используем переменную-индекс, но зато дважды просматриваем элемент `A[0]` (второй раз – в цикле, где выполняется перебор всех элементов).\n",
        "\n",
        "Поскольку операции поиска максимального и минимального элементов нужны очень часто, в Python есть соответствующие встроенные функции `max` и `min`:"
      ],
      "metadata": {
        "id": "ndS8Tg4v3Gck"
      }
    },
    {
      "cell_type": "code",
      "source": [
        "max(A), min(A)"
      ],
      "metadata": {
        "colab": {
          "base_uri": "https://localhost:8080/"
        },
        "id": "EtZDCd0R3QGd",
        "outputId": "47fefd6d-6a31-47ff-d0db-f28362aeb25d"
      },
      "execution_count": null,
      "outputs": [
        {
          "output_type": "execute_result",
          "data": {
            "text/plain": [
              "(18, 1)"
            ]
          },
          "metadata": {},
          "execution_count": 19
        }
      ]
    },
    {
      "cell_type": "markdown",
      "source": [
        "Теперь предположим, что нужно найти не только значение, но и номер максимального элемента. Казалось бы, нужно ввести еще одну переменную `nMax` для хранения номера, сначала записать в нее 0 (считаем элемент `A[0]` максимальным) и затем, когда нашли новый максимальный элемент, запоминать его номер в переменной `nMax`:\n"
      ],
      "metadata": {
        "id": "f3JQap6c3Xme"
      }
    },
    {
      "cell_type": "code",
      "source": [
        "M = A[0]; nMax = 0\n",
        "for i in range(1, N):\n",
        "  if A[i] > M:\n",
        "    M = A[i]\n",
        "    nMax = i\n",
        "print(\"A[\", nMax, \"]=\", M, sep = \"\")"
      ],
      "metadata": {
        "colab": {
          "base_uri": "https://localhost:8080/"
        },
        "id": "YjKTXyth3kpR",
        "outputId": "a984be72-809f-4167-c21a-3e5cf1d149a5"
      },
      "execution_count": null,
      "outputs": [
        {
          "output_type": "stream",
          "name": "stdout",
          "text": [
            "A[2]=18\n"
          ]
        }
      ]
    },
    {
      "cell_type": "markdown",
      "source": [
        "Однако это не самый лучший вариант. Дело в том, что по номеру элемента можно всегда определить его значение. Поэтому достаточно хранить только номер максимального элемента. Если этот номер равен `nMax`, то значение максимального элемента равно `A[nMax]`:"
      ],
      "metadata": {
        "id": "LHiD6McZ3zzo"
      }
    },
    {
      "cell_type": "code",
      "source": [
        "nMax = 0\n",
        "for i in range(1, N):\n",
        "  if A[i] > A[nMax]:\n",
        "    nMax = i\n",
        "print(\"A[\", nMax, \"]=\", A[nMax], sep = \"\")"
      ],
      "metadata": {
        "colab": {
          "base_uri": "https://localhost:8080/"
        },
        "id": "mP1dUnXj386q",
        "outputId": "b42ca2f4-a321-4a97-f1b4-dc89377f14d5"
      },
      "execution_count": null,
      "outputs": [
        {
          "output_type": "stream",
          "name": "stdout",
          "text": [
            "A[2]=18\n"
          ]
        }
      ]
    },
    {
      "cell_type": "markdown",
      "source": [
        "Для решения этой задачи можно использовать встроенные функции Python: сначала найти максимальный элемент, а потом его индекс с помощью функции `index`:"
      ],
      "metadata": {
        "id": "p0EIiNPJ4Eq9"
      }
    },
    {
      "cell_type": "code",
      "source": [
        "M = max(A)\n",
        "nMax = A.index(M)\n",
        "print(\"A[\", nMax, \"]=\", M, sep = \"\")"
      ],
      "metadata": {
        "colab": {
          "base_uri": "https://localhost:8080/"
        },
        "id": "wes94a4f4KD9",
        "outputId": "787fb78f-3c01-4ff6-9f83-cbb5898c94be"
      },
      "execution_count": null,
      "outputs": [
        {
          "output_type": "stream",
          "name": "stdout",
          "text": [
            "A[2]=18\n"
          ]
        }
      ]
    },
    {
      "cell_type": "markdown",
      "source": [
        "В этом случае фактически придётся выполнить два прохода по массиву. Однако такой вариант работает во много раз быстрее, чем «рукописный» цикл с одним проходом, потому что встроенные функции написаны на языке C++ и подключаются в виде готового машинного кода, а не выполняются относительно медленным интерпретатором Python."
      ],
      "metadata": {
        "id": "j-2YSwwP4Tpx"
      }
    },
    {
      "cell_type": "markdown",
      "source": [
        "## Реверс массива\n",
        "\n",
        "Реверс массива – это перестановка его элементов в обратном порядке: первый элемент становится последним, а последний – первым.\n",
        "\n",
        "![image.png](data:image/png;base64,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)\n",
        "\n",
        "Из рисунка следует, что 0-й элемент меняется местами с (N-1)-м, второй – с (N-2)-м и т.д. Сумма индексов элементов, участвующих в обмене, для всех пар равна N-1, поэтому элемент с номером i должен меняться местами с (N-1-i)-м элементом. Кажется, что можно написать такой цикл:\n",
        "\n",
        "```\n",
        "for i in range(N):\n",
        "    поменять местами A[i] и A[N-1-i]\n",
        "```\n",
        "\n",
        "однако это неверно. Посмотрим, что получится для массива из четырёх элементов:\n",
        "\n",
        "![image.png](data:image/png;base64,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)\n",
        "\n",
        "Как видите, массив вернулся в исходное состояние: реверс выполнен дважды. Поэтому нужно остановить цикл на середине массива:\n",
        "\n",
        "```\n",
        "for i in range(N//2):\n",
        "    поменять местами A[i] и A[N-1-i]\n",
        "```\n",
        "\n",
        "Для обмена можно использовать вспомогательную переменную `c`:"
      ],
      "metadata": {
        "id": "4iKrVaab4cZl"
      }
    },
    {
      "cell_type": "code",
      "source": [
        "A"
      ],
      "metadata": {
        "colab": {
          "base_uri": "https://localhost:8080/"
        },
        "id": "pNJ9j4xL61dB",
        "outputId": "980cf0a0-145a-48fb-c417-84a166c6f21b"
      },
      "execution_count": null,
      "outputs": [
        {
          "output_type": "execute_result",
          "data": {
            "text/plain": [
              "[1, 5, 18, 6, 8, 3]"
            ]
          },
          "metadata": {},
          "execution_count": 24
        }
      ]
    },
    {
      "cell_type": "code",
      "source": [
        "for i in range(N//2):\n",
        "  c = A[i]\n",
        "  A[i] = A[N-1-i]\n",
        "  A[N-1-i] = c\n",
        "A"
      ],
      "metadata": {
        "colab": {
          "base_uri": "https://localhost:8080/"
        },
        "id": "lBljzG536yOt",
        "outputId": "6adbbdcb-4864-4d4b-f56f-224dc9824c7e"
      },
      "execution_count": null,
      "outputs": [
        {
          "output_type": "execute_result",
          "data": {
            "text/plain": [
              "[3, 8, 6, 18, 5, 1]"
            ]
          },
          "metadata": {},
          "execution_count": 25
        }
      ]
    },
    {
      "cell_type": "markdown",
      "source": [
        "или возможности Python:"
      ],
      "metadata": {
        "id": "IYqeDX-069HU"
      }
    },
    {
      "cell_type": "code",
      "source": [
        "A = [1, 5, 18, 6, 8, 3]\n",
        "for i in range(N//2):\n",
        "  A[i], A[N-i-1] = A[N-i-1], A[i]\n",
        "A"
      ],
      "metadata": {
        "colab": {
          "base_uri": "https://localhost:8080/"
        },
        "id": "rEh7jL2g6-YG",
        "outputId": "16f44dcf-d391-429d-e097-04903d048940"
      },
      "execution_count": null,
      "outputs": [
        {
          "output_type": "execute_result",
          "data": {
            "text/plain": [
              "[3, 8, 6, 18, 5, 1]"
            ]
          },
          "metadata": {},
          "execution_count": 26
        }
      ]
    },
    {
      "cell_type": "markdown",
      "source": [
        "Эта операция может быть выполнена и с помощью стандартного метода `reverse` (в переводе с англ. – реверс, обратный) типа `list`:"
      ],
      "metadata": {
        "id": "nlCIAVun7K61"
      }
    },
    {
      "cell_type": "code",
      "source": [
        "A = [1, 5, 18, 6, 8, 3]\n",
        "A.reverse()\n",
        "A"
      ],
      "metadata": {
        "colab": {
          "base_uri": "https://localhost:8080/"
        },
        "id": "JoOq50EQ7Kq5",
        "outputId": "f1d39c3f-8659-426e-a59d-d6bc42f2c004"
      },
      "execution_count": null,
      "outputs": [
        {
          "output_type": "execute_result",
          "data": {
            "text/plain": [
              "[3, 8, 6, 18, 5, 1]"
            ]
          },
          "metadata": {},
          "execution_count": 28
        }
      ]
    },
    {
      "cell_type": "markdown",
      "source": [
        "## Сдвиг элементов массива\n",
        "\n",
        "При удалении и вставке элементов необходимо выполнять сдвиг части или всех элементов массива в ту или другую сторону. Массив часто рисуют в виде таблицы, где первый элемент расположен слева. Поэтому сдвиг влево – это перемещение всех элементов на одну ячейку, при котором `A[1]` переходит на место `A[0]`, `A[2]` – на место `A[1]` и т.д.\n",
        "\n",
        "![image.png](data:image/png;base64,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)\n",
        "\n",
        "Последний элемент остается на своем месте, поскольку новое значение для него взять неоткуда – массив кончился. Алгоритм выглядит так:"
      ],
      "metadata": {
        "id": "PTMizE4y7f2r"
      }
    },
    {
      "cell_type": "code",
      "source": [
        "A = [1, 5, 18, 6, 8, 3]\n",
        "for i in range(N-1):\n",
        "  A[i] = A[i+1]\n",
        "A"
      ],
      "metadata": {
        "colab": {
          "base_uri": "https://localhost:8080/"
        },
        "id": "PHxl0PfR8Go5",
        "outputId": "d3440a20-9298-45c2-a0c3-dcc6b12080a9"
      },
      "execution_count": null,
      "outputs": [
        {
          "output_type": "execute_result",
          "data": {
            "text/plain": [
              "[5, 18, 6, 8, 3, 3]"
            ]
          },
          "metadata": {},
          "execution_count": 29
        }
      ]
    },
    {
      "cell_type": "markdown",
      "source": [
        "Обратите внимание, что цикл заканчивается при `i=N-2` (а не` N-1`), чтобы не было выхода за границы массива, то есть обращения к несуществующему элементу `A[N]`.\n",
        "\n",
        "При таком сдвиге первый элемент пропадает, а последний – дублируется. Можно старое значение первого элемента записать на место последнего. Такой сдвиг называется циклическим. Предварительно (до начала цикла) первый элемент нужно запомнить во вспомогательной переменной, а после завершения цикла записать его в последнюю ячейку массива:"
      ],
      "metadata": {
        "id": "NdeNZG_d8QB7"
      }
    },
    {
      "cell_type": "code",
      "source": [
        "\n",
        "c = A[0]\n",
        "for i in range(N-1):\n",
        "  A[i] = A[i+1]\n",
        "  A[N-1] = c\n",
        "A"
      ],
      "metadata": {
        "colab": {
          "base_uri": "https://localhost:8080/"
        },
        "id": "b5Qv0IfJ8jAt",
        "outputId": "531ea38e-ea04-4c2a-b080-c4a658a6c879"
      },
      "execution_count": null,
      "outputs": [
        {
          "output_type": "execute_result",
          "data": {
            "text/plain": [
              "[5, 18, 6, 8, 1, 1]"
            ]
          },
          "metadata": {},
          "execution_count": 30
        }
      ]
    },
    {
      "cell_type": "markdown",
      "source": [
        "Ещё проще выполнить такой сдвиг, используя встроенные возможности списков Python:"
      ],
      "metadata": {
        "id": "KrwoWqBw8wnf"
      }
    },
    {
      "cell_type": "code",
      "source": [
        "A = [1, 5, 18, 6, 8, 3]\n",
        "A = A[1:N] + [A[0]]\n",
        "A"
      ],
      "metadata": {
        "colab": {
          "base_uri": "https://localhost:8080/"
        },
        "id": "UC7v_gtJ8zgv",
        "outputId": "5a84b4a7-6c46-4eef-a424-9bd2f62b2606"
      },
      "execution_count": null,
      "outputs": [
        {
          "output_type": "execute_result",
          "data": {
            "text/plain": [
              "[5, 18, 6, 8, 3, 1]"
            ]
          },
          "metadata": {},
          "execution_count": 31
        }
      ]
    },
    {
      "cell_type": "markdown",
      "source": [
        "Здесь использован так называемый срез – выделение части массива. Срез `A[1:N]` означает «все элементы с `A[1]` до `A[N-1]`», то есть не включая элемент с последним индексом. Таким образом, этот срез «складывается» со списком состоящим из одного элемента `A[0]`, в результате получается новый массив, составленный из «списков-слагаемых».\n",
        "\n",
        "Чтобы такая система (исключение последнего элемента) была более понятной, можно представить, что срез массива выполняется по разрезам – границам между элементами:\n",
        "\n",
        "![image.png](data:image/png;base64,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)\n",
        "\n",
        "Таким образом, срез `A[0:2]` выбирает все элементы между разрезами 0 и 2, то есть элементы `A[0]` и `A[1]`.\n",
        "\n",
        "Если срез заканчивается на последнем элементе массива, второй индекс можно не указывать:\n",
        "```\n",
        "A = A[1:] + [A[0]]\n",
        "```\n",
        "Аналогично, `A[:5]` обозначает «первые 5 элементов массива» (начальный индекс не указан). Если не указать ни начальный, ни конечный индекс, мы получим копию массива:\n",
        "```\n",
        "Acopy = A[:]\n",
        "```\n",
        "Если использованы отрицательные индексы, к ним добавляется длина массива. Например, срез `A[:-1]` выбирает все элементы, кроме последнего (он равносилен `A[:N-1]`). А вот так можно выделить из массива три последних элемента:\n",
        "```\n",
        "B = A[-3:]\n",
        "```\n",
        "Заметим, что с помощью среза можно, например, выполнить реверс массива:\n",
        "```\n",
        "A = A[::-1]\n",
        "```\n",
        "Рассмотрим подробно правую часть оператора присваивания. Число «–1» обозначает шаг выборки значений, то есть, элементы выбираются в обратном порядке. Слева от первого и второго знаков двоеточия записывают начальное и конечное значения индексов; если они не указаны, считается, что рассматривается весь массив."
      ],
      "metadata": {
        "id": "CS-BbtMs87qe"
      }
    },
    {
      "cell_type": "markdown",
      "source": [
        "## Отбор нужных элементов\n",
        "\n",
        "Требуется отобрать все элементы массива `A`, удовлетворяющие некоторому условию, в новый массив `B`. Поскольку списки в Python могут расширяться во время работы программы, можно использовать такой  алгоритм: сначала создаём пустой список, затем перебираем все элементы исходного массива и, если очередной элемент нам нужен, добавляем его в новый список:"
      ],
      "metadata": {
        "id": "ygBzU55a-MuO"
      }
    },
    {
      "cell_type": "code",
      "source": [
        "A"
      ],
      "metadata": {
        "colab": {
          "base_uri": "https://localhost:8080/"
        },
        "id": "adnWo5-Z-gj-",
        "outputId": "7a58156a-417d-45ed-b8b8-a65bcc4241eb"
      },
      "execution_count": null,
      "outputs": [
        {
          "output_type": "execute_result",
          "data": {
            "text/plain": [
              "[5, 18, 6, 8, 3, 1]"
            ]
          },
          "metadata": {},
          "execution_count": 33
        }
      ]
    },
    {
      "cell_type": "code",
      "source": [
        "B = []\n",
        "for x in A:\n",
        "  if x % 2 == 0:\n",
        "    B.append(x)\n",
        "B"
      ],
      "metadata": {
        "colab": {
          "base_uri": "https://localhost:8080/"
        },
        "id": "Otudwh9o-dDP",
        "outputId": "88eb5701-60df-46bf-dfa8-d7a5a3ac17ba"
      },
      "execution_count": null,
      "outputs": [
        {
          "output_type": "execute_result",
          "data": {
            "text/plain": [
              "[18, 6, 8]"
            ]
          },
          "metadata": {},
          "execution_count": 32
        }
      ]
    },
    {
      "cell_type": "markdown",
      "source": [
        "Здесь для добавления элемента в конец списка использован метод `append`.\n",
        "\n",
        "Второй вариант решения – использование генератора списка с условием.\n"
      ],
      "metadata": {
        "id": "JsMQeVCw-j-B"
      }
    },
    {
      "cell_type": "code",
      "source": [
        "B = [x for x in A if x % 2 == 0]\n",
        "B"
      ],
      "metadata": {
        "colab": {
          "base_uri": "https://localhost:8080/"
        },
        "id": "te1ijshB-wVV",
        "outputId": "68125302-fae5-415a-8433-eeec3f4b831d"
      },
      "execution_count": null,
      "outputs": [
        {
          "output_type": "execute_result",
          "data": {
            "text/plain": [
              "[18, 6, 8]"
            ]
          },
          "metadata": {},
          "execution_count": 34
        }
      ]
    },
    {
      "cell_type": "markdown",
      "source": [
        "В цикле перебираются все элементы массива `A`, и только чётные из них включаются в новый массива."
      ],
      "metadata": {
        "id": "suKKJ2N5-qUy"
      }
    },
    {
      "cell_type": "markdown",
      "source": [
        "# Подведём итог\n",
        "\n",
        "Списки - очень полезный тип данных, поскольку они позволяют писать код, способный работать с изменяемым количеством значений в одной переменной.\n",
        "\n",
        "Списки - изменяемый тип данных. В то же время кортежи и строки, несмотря на сходство со списками, относятся к неизменяемым типам данных. Переменная, содержащая кортеж или строку, может быть перезаписана петём присваивания ей нового значения в виде кортежа или строки, но это не то же самое, что изменение существующего значения исходного списка, как в случае методов `append()` и `remove()`.\n",
        "\n",
        "В переменных хранятся не сами списки непосредственно, а *ссылки* на них. Это важное обстоятельство следует учитывать при копировании переменных или передаче списков в виде аргументов функций. Поскольку копируемое значение представляет собой ссылку на список, необходимо помнить о том, что внесение изменений в список может повлиять на другие переменные в программе. Если необходимо иметь возможность изменять список в функции таким образом, чтобы это не влияло на исходный список, можно скопировать список с помощью функции `copy()` или `deepcopy()`."
      ],
      "metadata": {
        "id": "UMwUN7_eXmuu"
      }
    },
    {
      "cell_type": "markdown",
      "source": [
        "# Задачи к лекции\n",
        "1. Напишите функцию `date_range`, которая возвращает список дней между датами `start_date` и `end_date`. Даты должны вводиться в формате YYYY-MM-DD. В случае неверного формата или если `start_date` > `end_date` должен возвращаться пустой список.\n",
        "2. Напишите программу, которая будет запрашивать у пользователя целочисленные значения и сохранять их в виде списка. Индикатором окончания ввода значений должен служить ноль. Затем программа должна вывести на экран все введенные пользователем числа (кроме нуля) в порядке возрастания – по одному значению в строке.\n",
        "3. Напишите программу, которая будет запрашивать у  пользователя числа, пока он не пропустит ввод. Сначала на экран должно быть выведено среднее значение введенного ряда чисел, после этого друг за другом необходимо вывести список чисел ниже среднего, равных ему (если такие найдутся) и выше среднего. Каждый список должен предваряться соответствующим заголовком."
      ],
      "metadata": {
        "id": "k_8AWQQk8W01"
      }
    },
    {
      "cell_type": "markdown",
      "source": [
        "# Контрольные вопросы\n",
        "\n",
        "1. Что такое список? Какие способы создания списков вы знаете?\n",
        "2. Как можно обратиться к отдельному элементу списка? А к сразу нескольким?\n",
        "3. Как ввести список с клавиатуры?\n",
        "4. Как вывести список на экран?\n",
        "5. Что такое генераторы списков? Зачем нужны генераторы списков с условием?\n",
        "6. Как построить список, состоящий из нечётных чисел, делящихся на 3, с помощью генератора списка?\n",
        "7. Как заполнить список случайными числами в диапазоне от 100 до 200?\n",
        "8. С помощью каких функций можно найти сумму и количество элементов списка?\n",
        "9. Дан список `a = ['а', 'б', 'в', 'г', 'д']`. Чему равны следующие выражения:\n",
        "* `a[int('3'*2)//11]`?\n",
        "* `a[-1]`?\n",
        "* `a[:2]`?\n",
        "10. Дан список `b = [3.14, 'кот', 11, 'кот', True]`. Чему равно выражение `b.index('кот')`?\n",
        "11. Как будет выглядеть список из задания 10 после вызова `b.append(99)`?\n",
        "12. Как будет выглядеть список из задания 10 после вызова `b.remove('кот')`?\n",
        "13. Какие операторы используются для конкатенации и репликации списков?\n",
        "14. В чем разница между списковыми методами `append()` и `insert()`?\n",
        "15. Назовите известные Вам способы удаления значений из списков.\n",
        "16. Дан список `fruits = ['Яблоко', 'мандарин', 'Апельсин', 'виноград']`. Выполните сортировку элементов списка без учёта регистра не изменяя сам список.\n",
        "17. Что общего у списков и строк?\n",
        "18. Чем кортежи отличаются от списков?\n",
        "19. Как записать кортеж, содержащий единственное целочисленное значение 42?\n",
        "20. Как преобразовать список в кортеж? Как преобразовать кортеж в список?\n",
        "21. Переменная, \"содержащая\" список, в действительности не содержит непосредственно сам список. Что же тогда она содержит?\n",
        "22. В чем разница между функциями `copy.copy()` и `copy.deepcopy()`?"
      ],
      "metadata": {
        "id": "0eLVh96Jyrnz"
      }
    },
    {
      "cell_type": "markdown",
      "source": [
        "# Дополнительные вопросы\n",
        "\n",
        "1. Реализация и сравнение алгоритмов линейного и двоичного поиска элемента в массиве.\n",
        "2. Алгоритм поиска максимального элемента. Начальное значение для переменной, хранящей максимум.\n",
        "3. Что такое реверс массива? Реализация алгоритма на Python.\n",
        "4. Алгоритм циклического сдвига элементов массива влево/вправо.\n",
        "5. Как вы думаете, какие проблемы (и ошибки) могут возникнуть при циклическом сдвиге массива вправо (без использования срезов)?\n",
        "6. Что произойдет с массивом при выполнении следующего фрагмента программы:\n",
        "```\n",
        "for i in range(N-1):\n",
        "      A[i+1] = A[i]\n",
        "```\n",
        "7. Что такое выход за границы массива?\n",
        "8. Сравните разные методы отбора части элементов одного массива в другой массив. Какой из них вам больше нравится? Почему?\n",
        "9. Что такое сортировка? Какие встроенные средства сортировки списков в Python вы знаете?\n",
        "10. Как с помощью метода `sort()` выполнить сортировку элементов списка по убыванию?\n",
        "11. Как задать нестандартный способ сортировки для функции `sorted`?\n",
        "12. Чем отличаются функция `sorted()` и метод `sort()` для списков?"
      ],
      "metadata": {
        "id": "SKihZqyGZ_DC"
      }
    }
  ]
}