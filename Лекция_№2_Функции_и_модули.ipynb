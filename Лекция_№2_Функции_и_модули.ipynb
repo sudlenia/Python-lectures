{
  "cells": [
    {
      "cell_type": "markdown",
      "metadata": {
        "id": "view-in-github",
        "colab_type": "text"
      },
      "source": [
        "<a href=\"https://colab.research.google.com/github/sudlenia/Python-lections/blob/main/%D0%9B%D0%B5%D0%BA%D1%86%D0%B8%D1%8F_%E2%84%962_%D0%A4%D1%83%D0%BD%D0%BA%D1%86%D0%B8%D0%B8_%D0%B8_%D0%BC%D0%BE%D0%B4%D1%83%D0%BB%D0%B8.ipynb\" target=\"_parent\"><img src=\"https://colab.research.google.com/assets/colab-badge.svg\" alt=\"Open In Colab\"/></a>"
      ]
    },
    {
      "cell_type": "markdown",
      "id": "9c10820e-a5dc-4de7-b104-caa3f0e846fa",
      "metadata": {
        "id": "9c10820e-a5dc-4de7-b104-caa3f0e846fa"
      },
      "source": [
        "# Функции"
      ]
    },
    {
      "cell_type": "markdown",
      "id": "d2eb666c-044c-47ca-a5c8-c0ecb0c231a3",
      "metadata": {
        "id": "d2eb666c-044c-47ca-a5c8-c0ecb0c231a3"
      },
      "source": [
        "В прошлой лекции мы с вами уже познакомились с функциями print(), input() и len(). В Python имеется множество подобных функций, но разрешается писать и собственные функции. ***Функция*** – это своего рода мини-программа внутри большой программы.\n",
        "\n",
        "**Пример  1.** Напишем нашу первую функцию приветствия пользователя.\n"
      ]
    },
    {
      "cell_type": "code",
      "execution_count": null,
      "id": "f192837c-a639-4426-9f57-a7a2dc8282d2",
      "metadata": {
        "id": "f192837c-a639-4426-9f57-a7a2dc8282d2",
        "outputId": "cad2d7f5-22bf-4e08-9591-b3fe8224258a"
      },
      "outputs": [
        {
          "name": "stdout",
          "output_type": "stream",
          "text": [
            "Привет, Андрей!\n"
          ]
        }
      ],
      "source": [
        "def hello(name):\n",
        "    print('Привет, ' + name + '!')\n",
        "\n",
        "hello('Андрей')"
      ]
    },
    {
      "cell_type": "markdown",
      "id": "6404e40a-c298-4359-af9f-be1115370a86",
      "metadata": {
        "id": "6404e40a-c298-4359-af9f-be1115370a86"
      },
      "source": [
        "В первой строке находится инструкция **def**, задающая определение функции hello(). Блок кода, следующий за инструкцией def, образует ***тело функции***. Этот код выполняется при вызове функции, а не при ее первоначальном определении.\n",
        "\n",
        "В последней строке программы происходит вызов функции, который обозначается указанием ее имени с последующей парой круглых скобок (в них может содержаться список ***аргументов***, разделенных запятыми). Когда в программе встречается вызов функции, управление передается первой строке тела функции, после чего выполняется весь ее код. По достижении конца функции управление возвращается строке, которая ее вызвала, и программа продолжает выполняться дальше.\n",
        "\n",
        "**Основное назначение функции** - группирование многократно выполняемого кода. Если бы не пользовательская функция, нам пришлось бы копировать код и вставлять в программу везде, где он требуется.\n",
        "\n",
        "В целом рекомендуется всячески избегать дублирования кода, поскольку, если понадобится обновить его (например, при исправлении ошибок), вам придется вносить изменения везде, где этот код был использован.\n",
        "\n",
        "Структурирование программы с использованием функций позволяет сократить размер кода, тем самым упростив его чтение и обновление."
      ]
    },
    {
      "cell_type": "markdown",
      "id": "99cdb475-7b04-46e5-b14e-f024631f03ef",
      "metadata": {
        "id": "99cdb475-7b04-46e5-b14e-f024631f03ef"
      },
      "source": [
        "В нашем примере определение функции hello() включает параметр name. ***Параметр*** - переменная, в которой сохраняется аргумент функции при ее вызове. Следует учитывать, что после завершения функции сохраненное в параметре значение теряется."
      ]
    },
    {
      "cell_type": "markdown",
      "id": "790e77d0-b77b-43c4-91a8-43c309250c00",
      "metadata": {
        "id": "790e77d0-b77b-43c4-91a8-43c309250c00"
      },
      "source": [
        "### Инструкция return и возвращаемые значения"
      ]
    },
    {
      "cell_type": "markdown",
      "id": "4a28e3bc-e13c-4b14-aa99-d5542074e94d",
      "metadata": {
        "id": "4a28e3bc-e13c-4b14-aa99-d5542074e94d"
      },
      "source": [
        "Кода вы вызываете функцию len() и передаете ей аргумент, например, ‘Привет’, функция вычисляет длину полученной строки. Целочисленное значение 6, вычисленное функцией, называется возвращаемым.\n",
        "Создавая функцию с помощью инструкции def, можно применить инструкцию **return**, чтобы указать, какое значение должно возвращаться.\n",
        "\n",
        "Инструкция return состоит из следующих элементов:\n",
        "* ключевое слово return;\n",
        "* значение или выражение, которое должна вернуть функция.\n",
        "\n",
        "Если в инструкции return используется выражение, то возвращается результат вычисления данного выражения.\n",
        "\n",
        "**Пример 2.** Написать программу, которая по номеру месяца определяет время года."
      ]
    },
    {
      "cell_type": "code",
      "execution_count": null,
      "id": "891c0df2-cd56-41cc-b614-990befa9ea3b",
      "metadata": {
        "id": "891c0df2-cd56-41cc-b614-990befa9ea3b",
        "outputId": "9f69c143-4fe9-488f-ed2a-4fa15de2a8fa"
      },
      "outputs": [
        {
          "name": "stdout",
          "output_type": "stream",
          "text": [
            "осень\n"
          ]
        }
      ],
      "source": [
        "import random as r\n",
        "def season(month):\n",
        "    if month in [12, 1, 2]:\n",
        "        return 'зима'\n",
        "    elif 3 <= month <= 5:\n",
        "        return 'весна'\n",
        "    elif 6 <= month <= 8:\n",
        "        return 'лето'\n",
        "    elif 9 <= month <= 11:\n",
        "        return 'осень'\n",
        "    else:\n",
        "        return 'Некорретные данные'\n",
        "\n",
        "m = r.randint(1, 12)\n",
        "print(season(m))"
      ]
    },
    {
      "cell_type": "markdown",
      "id": "0220b91f-4a9b-481d-a1fc-89e2736877cb",
      "metadata": {
        "id": "0220b91f-4a9b-481d-a1fc-89e2736877cb"
      },
      "source": [
        "В данном примере функция `randint` модуля `random` возвращает случайное число от 1 до 12 - номер месяца, и сохраняет в переменную m. Затем вызывается функция season(), которой передается переменная m в качестве аргумента. Выполнение программы переходит к началу функции season(), и значение переданной переменной m сохраняется в параметре month. Затем в зависимости от номера месяца функция возвращает одно из множества возможных строковых значений.\n",
        "\n",
        "Возвращаемое значение одной функции может служить аргументом для другой функции:"
      ]
    },
    {
      "cell_type": "code",
      "execution_count": null,
      "id": "f2ccd703-c227-48e6-b661-789af1421e58",
      "metadata": {
        "id": "f2ccd703-c227-48e6-b661-789af1421e58",
        "outputId": "4544dd53-5ba6-4e29-fb1a-9e1caa9c0fb5"
      },
      "outputs": [
        {
          "data": {
            "text/plain": [
              "'весна'"
            ]
          },
          "execution_count": 11,
          "metadata": {},
          "output_type": "execute_result"
        }
      ],
      "source": [
        "season(r.randint(1, 12))"
      ]
    },
    {
      "cell_type": "markdown",
      "source": [
        "Функция может возвращать несколько значений. Например, функцию,\n",
        "которая вычисляет сразу и частное, и остаток от деления двух чисел можно\n",
        "написать так:"
      ],
      "metadata": {
        "id": "CBTqJm7DN0A6"
      },
      "id": "CBTqJm7DN0A6"
    },
    {
      "cell_type": "code",
      "source": [
        "def divmod ( x, y ):\n",
        "  d = x // y\n",
        "  m = x % y\n",
        "  return d, m"
      ],
      "metadata": {
        "id": "UJ-DOGO-N44u"
      },
      "id": "UJ-DOGO-N44u",
      "execution_count": null,
      "outputs": []
    },
    {
      "cell_type": "markdown",
      "source": [
        "При вызове такой функции её результат можно записать в две различные\n",
        "переменные:"
      ],
      "metadata": {
        "id": "KlF2OkPYOAdX"
      },
      "id": "KlF2OkPYOAdX"
    },
    {
      "cell_type": "code",
      "source": [
        "a, b = divmod (7, 3)\n",
        "print(a, b)"
      ],
      "metadata": {
        "colab": {
          "base_uri": "https://localhost:8080/"
        },
        "id": "AAWR20XRODVs",
        "outputId": "4c1a2180-d11d-40a4-add0-d75881a503bd"
      },
      "id": "AAWR20XRODVs",
      "execution_count": null,
      "outputs": [
        {
          "output_type": "stream",
          "name": "stdout",
          "text": [
            "2 1\n"
          ]
        }
      ]
    },
    {
      "cell_type": "markdown",
      "source": [
        "Если указать только одну переменную, мы получим кортеж – набор элементов, который заключается в круглые скобки:"
      ],
      "metadata": {
        "id": "U9itTVWFOJJs"
      },
      "id": "U9itTVWFOJJs"
    },
    {
      "cell_type": "code",
      "source": [
        "q = divmod (7, 3)\n",
        "print(q)"
      ],
      "metadata": {
        "colab": {
          "base_uri": "https://localhost:8080/"
        },
        "id": "DnPtCIJqOL2J",
        "outputId": "d646f728-54de-4c96-e525-223367a10698"
      },
      "id": "DnPtCIJqOL2J",
      "execution_count": null,
      "outputs": [
        {
          "output_type": "stream",
          "name": "stdout",
          "text": [
            "(2, 1)\n"
          ]
        }
      ]
    },
    {
      "cell_type": "markdown",
      "source": [
        "**Пример 3.** Вывести на экран все простые числа в диапазоне от 2 до 100. Алгоритм определения простоты числа оформить в виде функции."
      ],
      "metadata": {
        "id": "-cXtR-UAOm1Q"
      },
      "id": "-cXtR-UAOm1Q"
    },
    {
      "cell_type": "markdown",
      "source": [
        "Простейшее (но не самое быстрое) решение такой задачи:"
      ],
      "metadata": {
        "id": "h897aQUVO8uo"
      },
      "id": "h897aQUVO8uo"
    },
    {
      "cell_type": "code",
      "source": [
        "def simple(n):\n",
        "  count = 0\n",
        "  for k in range(2, n):\n",
        "    if n % k == 0:\n",
        "      break\n",
        "  else:\n",
        "    return True\n",
        "  return False\n",
        "\n",
        "for n in range(2,101):\n",
        "  if simple(n): print(n, end=' ')"
      ],
      "metadata": {
        "colab": {
          "base_uri": "https://localhost:8080/"
        },
        "id": "2_ymJCAcO8en",
        "outputId": "8e041fd0-56bf-48c6-9f8f-f9cd0b057357"
      },
      "id": "2_ymJCAcO8en",
      "execution_count": null,
      "outputs": [
        {
          "output_type": "stream",
          "name": "stdout",
          "text": [
            "2 3 5 7 11 13 17 19 23 29 31 37 41 43 47 53 59 61 67 71 73 79 83 89 97 "
          ]
        }
      ]
    },
    {
      "cell_type": "markdown",
      "source": [
        "Попробуем немного ускорить работу программы. Делители числа\n",
        "обязательно идут в парах, причём в любой паре меньший из делителей не\n",
        "превосходит $\\sqrt{n}$ (иначе получается, что произведение двух делителей,\n",
        "каждый из которых больше $\\sqrt{n}$, будет больше, чем $n$). Поэтому поиск делителей можно выполнять только до значения $\\sqrt{n}$ вместо $n–1$. Для того, чтобы работать только с целыми числами (и таким образом избежать вычислительных ошибок), лучше заменить условие $k$ ≤ $\\sqrt{n}$ на равносильное\n",
        "ему условие $k^2 ≤ n$.\n",
        "\n",
        "Если после завершения цикла $k*k > n$ (нарушено условие в заголовке цикла),\n",
        "то число $n$ простое.\n",
        "\n",
        "Таким образом, если число $n$ в интервале от 2 до $\\sqrt{n}$ не имеет ни одного\n",
        "делителя, то оно простое."
      ],
      "metadata": {
        "id": "jfCCcQlHP_-m"
      },
      "id": "jfCCcQlHP_-m"
    },
    {
      "cell_type": "code",
      "source": [
        "def simple_modify(n):\n",
        "  k = 2\n",
        "  while k*k <= n and n % k != 0:\n",
        "    k += 1\n",
        "  return(k*k > n)\n",
        "\n",
        "for n in range(2,101):\n",
        "  if simple_modify(n): print(n, end=' ')"
      ],
      "metadata": {
        "colab": {
          "base_uri": "https://localhost:8080/"
        },
        "id": "URWIcEwHO0DC",
        "outputId": "bbdaef57-7b78-47d5-938f-b335efacb100"
      },
      "id": "URWIcEwHO0DC",
      "execution_count": null,
      "outputs": [
        {
          "output_type": "stream",
          "name": "stdout",
          "text": [
            "2 3 5 7 11 13 17 19 23 29 31 37 41 43 47 53 59 61 67 71 73 79 83 89 97 "
          ]
        }
      ]
    },
    {
      "cell_type": "markdown",
      "id": "c4afce45-9af6-430f-a313-b46bd05a13f3",
      "metadata": {
        "id": "c4afce45-9af6-430f-a313-b46bd05a13f3"
      },
      "source": [
        "### Значение None\n",
        "В Python определено специальное значение None, которое означает отсутствие значения. Подобно булевым значениям True и False, None всегда пишется с прописной буквы.\n",
        "\n",
        "Это специальное значение может оказаться очень полезным, если в переменной нужно сохранить нечто такое, что невозможно спутать с настоящим значением переменной. В частности, оно используется в качестве возвращаемого значения функции print(), которая всего лишь отображает текст на экране, поэтому ей необязательно возвращать значение, как это делают функции len() и input(). Но поскольку любая функция должна что-то возвращать, функция print() возвращает значение None."
      ]
    },
    {
      "cell_type": "code",
      "execution_count": null,
      "id": "a98a0fab-9ac9-4a74-b455-759b4d256ce8",
      "metadata": {
        "id": "a98a0fab-9ac9-4a74-b455-759b4d256ce8",
        "outputId": "cf295687-b169-442a-ae23-3daa8882bf4c"
      },
      "outputs": [
        {
          "name": "stdout",
          "output_type": "stream",
          "text": [
            "Привет!\n"
          ]
        },
        {
          "data": {
            "text/plain": [
              "True"
            ]
          },
          "execution_count": 12,
          "metadata": {},
          "output_type": "execute_result"
        }
      ],
      "source": [
        "value = print('Привет!')\n",
        "value == None"
      ]
    },
    {
      "cell_type": "markdown",
      "id": "f920bf43-3f76-4500-9f9e-30335c5c91f0",
      "metadata": {
        "id": "f920bf43-3f76-4500-9f9e-30335c5c91f0"
      },
      "source": [
        "Python неявно добавляет инструкцию return None в конец определения любой функции, в которой инструкция return отсутствует. То же самое происходит с циклами while или for, в которые неявно добавляется инструкция continue. Кроме того, если вы используете инструкцию return, но не указываете возвращаемое значение (т.е. вводите только ключевое слово return), то функция автоматически возвращает значение None."
      ]
    },
    {
      "cell_type": "markdown",
      "id": "1e2bdbdf-b9b3-4e2e-a0a8-99c18c832457",
      "metadata": {
        "id": "1e2bdbdf-b9b3-4e2e-a0a8-99c18c832457"
      },
      "source": [
        "### Именованные аргументы и функция print()\n",
        "\n",
        "Чаще всего аргументы распознаются по их позиции в вызове функции. Например, вызов random.randint(1, 10) отличается от вызова random.randint(10, 1). В первом случае возвращается случайное целое число в диапазоне от 1 до 10, поскольку первый аргумент задает нижнюю границу диапазона, а второй – верхнюю, тогда как во втором случае будет выдано сообщение об ошибке.\n",
        "\n",
        "***Именованные аргументы*** распознаются по имени, которое указывается перед значением аргумента при вызове функции. Такие аргументы часто используются в качестве необязательных параметров. Например, функция print() имеет необязательные параметры end и sep, с помощью которых  можно задать соответственно текст, выводимый в конце аргументов, и текст, выводимый между аргументами (разделитель).\n",
        "\n",
        "Рассмотрим следующий пример:"
      ]
    },
    {
      "cell_type": "code",
      "execution_count": null,
      "id": "5370d471-8519-43fe-861f-95c1c1db0052",
      "metadata": {
        "id": "5370d471-8519-43fe-861f-95c1c1db0052",
        "outputId": "4a5ebd38-fc77-45e7-9438-4703d013c13f"
      },
      "outputs": [
        {
          "name": "stdout",
          "output_type": "stream",
          "text": [
            "Привет\n",
            "мир\n"
          ]
        }
      ],
      "source": [
        "print('Привет')\n",
        "print('мир')"
      ]
    },
    {
      "cell_type": "markdown",
      "id": "ea0d815c-80b5-45c2-a245-cfbac91b02b0",
      "metadata": {
        "id": "ea0d815c-80b5-45c2-a245-cfbac91b02b0"
      },
      "source": [
        "Каждая функция print() выводит результат в отдельной строке, поскольку в конец текстового аргумента, передаваемого данной функции, автоматически добавляется символ новой строки. в случае необходимости это поведение можно изменить, задав другой символ с помощью именованного аргумента end."
      ]
    },
    {
      "cell_type": "code",
      "execution_count": null,
      "id": "5eabc54c-21bb-49e8-96cd-72b3443e9b73",
      "metadata": {
        "id": "5eabc54c-21bb-49e8-96cd-72b3443e9b73",
        "outputId": "9fa28987-4d16-4f47-dc18-1fccff474a29"
      },
      "outputs": [
        {
          "name": "stdout",
          "output_type": "stream",
          "text": [
            "Привет мир\n"
          ]
        }
      ],
      "source": [
        "print('Привет', end=' ')\n",
        "print('мир')"
      ]
    },
    {
      "cell_type": "markdown",
      "id": "bf44a881-9976-4c9d-b719-05296e7dfeee",
      "metadata": {
        "id": "bf44a881-9976-4c9d-b719-05296e7dfeee"
      },
      "source": [
        "Теперь все выводится в одну строку, поскольку после текста 'Привет' не ставится символ новой строки. Вместо него выводится пробел.\n",
        "\n",
        "Если функция print() получает несколько аргументов, она автоматически разделяет их пробелом:"
      ]
    },
    {
      "cell_type": "code",
      "execution_count": null,
      "id": "914706ba-efbe-4124-be3b-5c3b44ea5c9f",
      "metadata": {
        "id": "914706ba-efbe-4124-be3b-5c3b44ea5c9f",
        "outputId": "0205fa78-bf01-420c-8af4-2653d79354fa"
      },
      "outputs": [
        {
          "name": "stdout",
          "output_type": "stream",
          "text": [
            "яблоки апельсины груши\n"
          ]
        }
      ],
      "source": [
        "print('яблоки','апельсины','груши')"
      ]
    },
    {
      "cell_type": "markdown",
      "id": "23852529-c700-43b9-9b80-83b5049ddaf7",
      "metadata": {
        "id": "23852529-c700-43b9-9b80-83b5049ddaf7"
      },
      "source": [
        "Теперь попробуем использовать другой разделитель, передав функции именованный аргумент sep."
      ]
    },
    {
      "cell_type": "code",
      "execution_count": null,
      "id": "c9e94b79-7ee8-43db-b6ae-3a2a98c0296e",
      "metadata": {
        "id": "c9e94b79-7ee8-43db-b6ae-3a2a98c0296e",
        "outputId": "5e7f3251-4696-45d5-f413-fa1e4555adcf"
      },
      "outputs": [
        {
          "name": "stdout",
          "output_type": "stream",
          "text": [
            "яблоки, апельсины, груши\n"
          ]
        }
      ],
      "source": [
        "print('яблоки','апельсины','груши', sep=', ')"
      ]
    },
    {
      "cell_type": "markdown",
      "source": [
        "Когда мы вызываем функции с использованием именованных аргументов, порядок аргументов можно изменять. Все следующие вызовы функции message дают один и тот же результат:"
      ],
      "metadata": {
        "id": "05-_LW1a2aUg"
      },
      "id": "05-_LW1a2aUg"
    },
    {
      "cell_type": "code",
      "source": [
        "def message(name, msg):\n",
        "    print(\"Привет,\", name + '. ' + msg)\n",
        "\n",
        "# 2 именованных аргумента\n",
        "message(name = \"Борис\", msg = \"Как дела?\")\n",
        "\n",
        "# 2 именованных аргумента (идут не по порядку)\n",
        "message(msg = \"Как дела?\", name = \"Борис\")"
      ],
      "metadata": {
        "colab": {
          "base_uri": "https://localhost:8080/"
        },
        "id": "XAfKb4jo2hrp",
        "outputId": "a52570b0-2841-420f-e19c-72c01981de73"
      },
      "id": "XAfKb4jo2hrp",
      "execution_count": null,
      "outputs": [
        {
          "output_type": "stream",
          "name": "stdout",
          "text": [
            "Привет, Борис. Как дела?\n",
            "Привет, Борис. Как дела?\n"
          ]
        }
      ]
    },
    {
      "cell_type": "markdown",
      "source": [
        "### Необязательные параметры функций\n",
        "В программировании у многих функций и методов есть параметры, которые редко меняются. В таких случаях этим параметрам задают значения по умолчанию, которые можно изменить при необходимости."
      ],
      "metadata": {
        "id": "nSseeYYh1Zf1"
      },
      "id": "nSseeYYh1Zf1"
    },
    {
      "cell_type": "code",
      "source": [
        "# Функция возведения в степень\n",
        "# Второй параметр имеет значение по умолчанию два\n",
        "def pow(x, base=2):\n",
        "    return x ** base\n",
        "\n",
        "# Три во второй степени (двойка задана по умолчанию)\n",
        "print(pow(3))  # 3 * 3 = 9\n",
        "# Три в третьей степени\n",
        "print(pow(3, 3))  # 3 * 3 * 3 = 27"
      ],
      "metadata": {
        "colab": {
          "base_uri": "https://localhost:8080/"
        },
        "id": "95HD93iQ1quL",
        "outputId": "d2b4d018-c504-4852-8ac3-5205dd728312"
      },
      "id": "95HD93iQ1quL",
      "execution_count": null,
      "outputs": [
        {
          "output_type": "stream",
          "name": "stdout",
          "text": [
            "9\n",
            "27\n"
          ]
        }
      ]
    },
    {
      "cell_type": "markdown",
      "source": [
        "Значение по умолчанию выглядит как обычное присваивание в определении. Оно срабатывает только в том случае, если параметр не передали."
      ],
      "metadata": {
        "id": "32wJhx4U14vp"
      },
      "id": "32wJhx4U14vp"
    },
    {
      "cell_type": "markdown",
      "source": [
        "### Произвольный список аргументов\n",
        "\n",
        "Иногда нам заранее неизвестно количество аргументов, которые будут переданы функции. В Python легко можно справиться с такой ситуацией с помощью произвольного списка аргументов.\n",
        "\n",
        "Чтобы обозначить такой тип аргумента, при определении функции нужно использовать звездочку * перед именем параметра."
      ],
      "metadata": {
        "id": "Zrlsj6lT3oGx"
      },
      "id": "Zrlsj6lT3oGx"
    },
    {
      "cell_type": "code",
      "source": [
        "def greet(*names):\n",
        "    \"\"\"Эта функция выводит приветствие для всех\n",
        "    людей, перечисленных в кортеже names.\"\"\"\n",
        "\n",
        "    # names — кортеж с именами\n",
        "    for name in names:\n",
        "        print(\"Привет,\", name)\n",
        "\n",
        "greet(\"Катя\", \"Андрей\", \"Борис\", \"Маша\")"
      ],
      "metadata": {
        "colab": {
          "base_uri": "https://localhost:8080/"
        },
        "id": "32WHkMei346x",
        "outputId": "434e247a-6cc3-4f16-fc0f-40a09d6b1f39"
      },
      "id": "32WHkMei346x",
      "execution_count": null,
      "outputs": [
        {
          "output_type": "stream",
          "name": "stdout",
          "text": [
            "Привет, Катя\n",
            "Привет, Андрей\n",
            "Привет, Борис\n",
            "Привет, Маша\n"
          ]
        }
      ]
    },
    {
      "cell_type": "markdown",
      "source": [
        "Здесь мы вызвали функцию с несколькими аргументами. Но мы обернули их в кортеж перед передачей в функцию. Внутри функции мы используем цикл for, чтобы обработать все аргументы из кортежа names."
      ],
      "metadata": {
        "id": "0BixE9ib3972"
      },
      "id": "0BixE9ib3972"
    },
    {
      "cell_type": "markdown",
      "source": [
        "### Рекурсия\n",
        "\n",
        "Определение натуральных чисел в математике состоит из двух частей:\n",
        "1. 1 – натуральное число;\n",
        "2. если $n$ – натуральное число, то $n+1$– тоже натуральное число.\n",
        "\n",
        "Вторая часть этого определения в математике называется\n",
        "индуктивным: натуральное число определяется через другое натуральное\n",
        "число, и таким образом определяется всё множество натуральных чисел. В\n",
        "программировании этот приём называют *рекурсией*.\n",
        "\n",
        "**Рекурсия** — это способ определения множества объектов через само\n",
        "это множество на основе заданных простых базовых случаев.\n",
        "\n",
        "Первая часть в определении натуральных чисел – это и есть тот самый\n",
        "базовый случай. Если убрать первую часть из определения, оно будет\n",
        "неполно: вторая часть даёт только метод перехода к следующему значению,\n",
        "но не даёт никакой «зацепки», не отвечает на вопрос «откуда начать».\n",
        "\n",
        "Похожим образом задаются числа Фибоначчи: первые два числа равны 1, а каждое из следующих чисел равно сумме двух предыдущих:\n",
        "\n",
        "1. $F_1 = F_2 =1$,\n",
        "2. $F_n = F_{n-1} + F_{n-2}\\ для\\ n > 2$.\n",
        "\n",
        "**Рекурсивная функция** — это функция, которая вызывает сама себя напрямую или через другие процедуры и функции.\n",
        "\n",
        "**Пример 4.** Вычисление факториала.\n",
        "\n",
        "Рассмотрим вычисление факториала $N!$: так называют произведение всех\n",
        "натуральных чисел от 1 до заданного числа $N$: $N! = 1*2*3*…*N$.\n",
        "\n",
        "Факториал может быть также введён с помощью рекуррентной формулы, которая\n",
        "связывает факториал данного числа с факториалом предыдущего:\n",
        "\n",
        "![image.png](data:image/png;base64,iVBORw0KGgoAAAANSUhEUgAAAdYAAACTCAYAAAAz+DgxAAAAAXNSR0IArs4c6QAAAARnQU1BAACxjwv8YQUAAAAJcEhZcwAAEnQAABJ0Ad5mH3gAADQDSURBVHhe7d0HfMz3/wfw143sSXYIYseIICqI7ARVWnsWtUqHLtVWUap7Kf0VrbZGbepPlBrZQiL2iD0iIUZIZMq4u/f/cvcVQcglOXKXvJ99fPXue/e93Ph+vu/v5/P9fN4fESmBMcYYY1ohFv7PGGOMMS3gwMoYY4xpEQdWxhhjTIs4sDLGGGNaxIGVMcYY0yIOrIwxxpgWcWBljDHGtIgDK2OMMaZFHFgZY4wxLeLAyhhjjGkRB1bGGGNMiziwMsYYY1rEgZUxxhjTIg6sjDHGmBZxYGWMMca0iAMrY4wxpkUcWBljjDEt4sDKGGOMaREHVsYYY0yLOLAyxhhjWsSBVe/JkJFyHlczZMJ9xhhj1YkDqx4i2R0c+L8FeHtYMNxbtMeg9xbjyE258ChjjLHqxIFVrxTizH/foG87N3i/tghZLcdjQ9wRhG38EX1aGgnPYYwxVp1EpCTcZrpMcRe7vhmFkbO3Q9RyJH5b9ytecTMTHmSMMaYrOLDqBRmOLHkVwZPXAy3GYf3uXxHgbCA8xhhjTJdwYNUDhVfXoK/nWITluOPn6HC81dFceIQxxpiu4cCq82SI/TwE/rP3wHPyVoT/2hOmwiO1jSI3Cdv+/Al/xDjhy1Ufo42RSHiEMf1EhRlITrqF/MeOwiIYWTmjkaMmJ9EFuHE5GZmFCuH+4ySm9nB1qQOJcF8fZV4Ox28//IrTDafi92ldodNtdsWBlekuRdEJmuppSyKDVvTj/jxhbe0izzpH67+dQJ3qm5EylJKpywSKz1MIjzKmv/LO/h99PHEEhXRuTGZiUXF4FRYR2bh/RKcLy9/PFQWJ9Mf0t2jMQB+qby5+8BoiKTm0DKCRr79DX60+SjLh+fom/cw2mjPWlxyNiz+bhDpN2k4FwmO6igOrjiu49id5W0jJxHk0xebKhbW1Q2HGSfr781HUztFYFVDvHzA4sLKap4gubp9B7esalOznImlT+jI6W3hcE3K6sHI01ZEoA7TYgkKmbqVbRfpaTuR08/gmmj68C9kaljpZ0JPAysNtdFze2bNIuieHVaPmaGBYe5o+85NWYdTLHyI6sxH6DA5EfSPeVVlNJkXjXrOx4ruBqCtRl3OSXcamvyNwT3VPE2I4uLWAo4EYNm0m46cvesNOqo/HDDkSl72BwR9thqxZCAYENIOBnn0MPlrpuIKbt3BHDpg7OMNWLwtJ5Rg3GoE10dux5Ic5mDt/Lb4e4cY7K6vhJGgWEgA3k/tXQuU4EboKselPvnb6qMJbN3FHZojAMePgprd9ECRoPWYxorYvx7ezZ2Ph+p/Rr75+9SzhY5WOy8vNg5xEMLe2qsU/lglat2rAOyur8a5HRuNo7oP0pIW3d2L9lmvQLLTKceXkWdyVeqL3y641pryITVugpauFcE8/8LFKpykgl8tBxT0EjU2V/9ZWIlhYmtXiz89qhxxE7T4AcSN/+DYXkr8osrB79SbclBdfYixPNvbvPwerNgHwbiAV1tUAInNYmunX5+HAquPUg6FEkBpIa3FgEcNAWps/P6sNKD8B4Xuvo3ng25g7pqtwXZGQErsW284Vqp7zNIrceETGp6G1fxBcatJlI7EBpFL9ClUcWPWESFy7fyqRiMMqq9myDkVib6oRvEN80Gn4UHhZqUdqKgoOYcPqYyhvmo2sA9GIu1UHPsEeuj3Gs8JEyvIv3NQTHFgZY6zayXAyPBapxl4I8LOGsUtfDA8W+hVQEeLXrcaJx7NIlCLDEeX2t6294edVW1PI6A4OrIwxVt3kydgVfhr2noHwqqs8LItt0W/0iyXDZbIv/YONkVmq22WSJyEi6jzqdw1EB3M+rFc3/gUYY6yaFd6MQdTRLHQMCoatMI7VPnAY+jazUt0meSpCV/2HHNW9xxVej0H08Tx4BvrDgq+aVDsOrIwxVs1uREbhyL1m8O/RuOSgLDLuhFFDPaCutCpwZvsaRNwoUj32qBvRMTiW74aAIGetHNSzUs/hVGIiErW1nLqEjEJNejbXDBxYGWOsWuUievd+iBv5wcfNSFhXTArPEYPhaa4ealJ0Nxzr/0kuY0xrLmLCEiBt4Y+uTQyFdVVRgG2z+qFtmzZoo6WlrcdQbLxYfs/mmoIDK2OMVSPKP4CwPalo6hcEN+OH23GNXfthqH999VAzykPkmvVIkT1c86OCI4iITUUL30A000ruPzFsm7RG165dtbi0hb1JLQo3Qs5gppPkdG7xADKAlLzfjaBCYW1tlLx0GCnPxYuPKJyEn9UomXGfUWMjO3pnwx1hzcOubpxINsWJ9ZX7vtjAgxYcuSc8opaZMJeaGznSh1syhDU1zV2a39dF9fk5CT9jjLFyyJAYFotrxl0Q6GctrHuYU89h6N1IPS+rougkNv69Hw+utMpxLmIPkk284O9tKaxj1Y0DK2OMVRf5NYRFnIJDp0B41Sm7GVds1g2jhrgLk5TLcHDjShzKEa60Km4gPCIRjl5B6GSljWZgpg0cWBljrJoUpsUg8kgmOgQFwUYYZvM4A3QdMRDupurQmnd1KzbsvKO6Lb8bi6jDyu0DAkumm2PVjwMrY4xVk1uRETiU2wz+IQ+G2ZTFpOVADPVxVndiUqRh26p/kSEH7uyJxoHspvALbsQHcx0iKr7QKtxmOkeB878NRutJW9D53V2ImOdfw3KAai5l2XA0fW0Nijvsm7pMQMTZ39DZhM/QmT7Lw+pxnfDGnmBEn5iHdk+dP1WBpNVj4TFqOTKVAVViEYzViZtg9F13jN7pg6jjP8PjkR7FlSdDwvIZWLLntqq3oDaIpK4YOfsj+DpWZpaaTCx4uS3eCU1R3pag06StiF3UC9oYWPTMqLowMR3FvYLv417BrKZR5O+h15pakefEfylfWPc08qwdNLShubp3rMiI+n+1it5oW5c6jN+i0faay6fV41oV92xV/y0tLCKDTvT7qcq+S/3rFcw1Vp3GNdb7uMbKapqshLnw9PkFvVeewbyBdYW1T1OI7R90R9+fEiCHCKbOLrC8nYNBK85hwRAb4TnaIEdSXChiL+SooqJWiG3g1acnmllWpsGaa6xMq7jGet8VrrGyGqWI9n0eQIZmPemf65qX7Jyj31BrY4lQewNJLHrRpgpsr58yeBwrY9qngEwmLzl7Jrm83LkpGdNlJDuHzdtOwKKJB1rbaH7d0azNYAzp6iBM+i+CU8cAeNlV5rqlHlHIIJPfL/3Ku3KZcEt3cWBleoCQlfWgWaooLxt5pQraw2RIObARP8z+BJ/M/hnbjqaVkVuVseqVEb8aG4/chplDPdgLU8NpRNIQQ0f6wVy1iRTu/kFwqOnDbCgbWTn3U2IokJedrfNlmgMr03mUfwHbdiWWFCZ5zgHs2n2tzMJ1betUdPMegg/nfINv5ryHvl6emPT78VKZahirXnkpO/HpB3/gciHh9tk4JKRWJDm9GI37DUWwswlE0sbwDW5W4w/iWWd3IiIxQ7hHSNm/E7EV+s6ePw6sOq4oM0cZQAh5d7OFNbWEIhWrpo9Anx4+aNO0E2btulISSEmWhB8Ht0WLjn54qf9YrDiQJzwiR3pSEtKKHoRcRUEylk6bik1JHFpZ9VHkJuDrsYPQ068jmrbqjd8SbqpaYPKS16CvW2N08OmDH/5LUz+5HBLrQIx4pQXMnHzg62EqrK1ZCq9uxQdDXkFwdw+0eOEtxN5+EEhzLv+N3q2bo7N/Lwwet0BYq1u4V7BOU2Dva+7wXpaIuu7f48axqbW2V7CmqCAJmxcuwr/H0mHbrBMaZ6zFe/MOYPSKZCwaUUd4FmP6LffECszd7YLZ7/vDWFjHdAcHVp3GgbWq0jZPQrOBy9FvcRKWjncQ1jLG2LNT5abg/PQUnDt7FmcfXc5dwq1czWI25afh0rkyXqNkOYdrd5/SlCe/js1fT0Dvnv0xc/kR3BNWs9quEEfijyFX3ATu7jzzB2PsOSmusVaejI5t+JzGDetNHRtak1ikumygXkQGFDw9XvmM8mUfX0vT3hxHL3s3IZNSryGWWlO7wKE0+d2ZtPnEw3MQPlBE+79/sWQ7sdSVZu26Kzym7+QUO6a16nMpa6y1ehxrZdxLWkU9nUypSc9f6GoRj3tljD0fWksQoShKpQ3TAshS/CAwWjZ7mw5XZCC//AYtGtRUlUpLatmRvtierAwt5ZBdptl+jiV/E5BStylhwoP6jgNrZRXeiqH3u9ejOk2H07+XdH04OWOsJtFar2CR1AkDv/oLc/o0KWlfzr60CRsiM4V7GhDbwM3NGWKRAfzeXIBpvVzKbasmykJ2dukBwwpkpqunVGK1DxXcRMyKGejRZRAi645HaNRS9HbV6eRnjLEaRmuBVUXigh4h7rg/3pnk17F15XZoPlBEjps30gHjLhg13lOjjjoikSUsLEpnHhHByMREuM1qFxkSFn2Ib3YrMH5pAuI3z4Z3PQ6qjLHnS7uBFRmICD+KouLGSxUFzv63FhHXNRxDKL+Gk6fT4PDCSwhsqGH/V4ktHGyNhRRfxcSoa28v3NZ3Yth7NIZU+X8Xj6bcI7hcUnR+dwW2//0VhndvoNtJuhljNZZWA6siex/C49LgFhAIV0N1qCvKjMD6fx4M7n8aedYhHDydDY/AYDhqnKbLEI4OVqUCK2Dn5Czc0nfKb83YUPnZRDC1qJkDwRljrKbRamC9GxeJuDtW6PvuVxjmaacOdpSHyDXrkCwrqcY+UXpsNA5kNahgmi4xHB1tHzxfbAF7Ryvhjr4j5OTkKf8VwZCbtxljTC9oMbAWIWH3PmRaeSPQpz2Gj/SGekJ7ws0D6xF6vED1rCcrRHx4HPIdfeDTriK1MykcnB8EVpHYDk5OEuGevlPg1s0MVWCta2cnrGOMMabLtBZYi6dBCo+6iPpdg9HJ0gDNBw6Fv5062Zai6BQ2roxTTVL9JCRLRHj0Fbj6BsK9ghNYWznYw+J+07HYHk7ONeXqWi4uXrgBhdgcDRo7CusYY4zpMq0F1vzLkYg6dQ+eQQGwUMY4A7teGNm3qfAHZDi0cRUO5jz5Smv+xT3Yc06OLoE+qGijp1QZWG2EwCoxsYOjbc2osVL+cSQcuwORtBXadzAT1jLGGNNlWgqsCqRERuOkrA0CQ5yFFzVHz1F90UDoxJR3bSs27HjS+FIFrii3P4328A+wEdZpztjREbYG6r9jYuuEuhWZ31CH3Y3bjsiUXNRtE4BuLjV8MmPGGKshtJSEPwOLB3lixvkh2HfgSzQXghzJTmJaF3/8ePA2SBlum7+yBHEbx6LuYxVK9fazr76G/Xs+RcMKBkZF3lb0bzQIW9IK4OA1FwnK12ig4WtkpZ7D1Ywi5fvTEpEJnJu6oo5wQlFpiquY398X74fewMAfDmLN+27aa15gjDH27KjyL1WRPHsbDahnTt7vRjySdk9GR3/uQ8ZCHl+JeSCtSXo8MZ88ezsNVG4fNH2fRrmFH6UoiKMJLa2Vf0NETV7+k3KE9eXLp9XjWqlSKBa/P20sIoNO9PupfOH1K6uADiwaQrYSMdVxe5sSsspN7MgYY0xHaKXGmh42FW17r8WYzafxZS8LYa1a4fWV6N12HMLuFCrjnhH6fXMQG6e1eaj2dTfyI7TtuRETdxzHTP9KXEuUX8Is/66Yu+c2Or0eitjFL2qYHKAIu78egc//vabROFtNiAxa4sNli/Fyo0qmc1Dcwe6fJmPMp//gTh0//LJtEyZ0rCnDhxhjrBZQhdcqKaRdH3mRid0QCsssq2Z1l/4a2UKoFYrItv10OltYOjF/IYV/2o1MnV6l6OzK1syyaeGARiSCAfWafbhStd7ql0dnwxfTWB9XMhAZUMMXJtKmxCzhMcYYY/qiypftSHYeYcXDbLqFwNOirJezQp9RL8FJdc2TcOfERmxKyFM/VEyehPDI83DpGoj25pV9O4ZwcLCEWCSCvbMz9KlPsDzrBJbOmYRg9yZo22Mq9pGy5r1qH47F/YZ+rR6u/TPGGNN9VQ6sBSkxiE68h07CMJuy2PgOQ/9W1qrbJLuITX9HI191T7l9qnL7k/fQOcgflR9QIoaToy1EorpwcNSvDEWF18Kw4MctEHX5CGGnryIxZiU+GuYJqyr/MowxxqpDFQ/fClwNj8TxwjYIDHZ64ouJDD0wcngnqDsLy3F8yyrszVBf1bwZFY3jBW3hF+RYhTcjhaOzLSQSW71LDiGxaoz2rUyw989pGNJ3AN6asxyHU++fdjDGGNM3VQys2YjYfQimrfzh/dQ5LyVoN2wIvKzUHXoKbv2HDVuvK8NyLqLDD8ColR+6aTqbzRNYOtjDTKJ/6QwNnV/GX/HnceVkKN4LNMS/349F5xatMfjTjUi+V+V+ZYwxxp6zKvUKVuTuxDC3Qbg+MBThP/k9fVozxW38NrQL3thwQRlQRXDtsQD7/nHHJ+364kKf/0PEPP8qTYuWdWAuOvc5hYWXVsHfVNPzBRkSls/Akj3F42y1QyR1xcjZH8HXsXIJHe6e3YzpE6bg99hUNPSdgQ2bZqFDnSqe/zDGGHt+VF2YKikjYhrVN6xPn+7QrPfqjX/fJgepqDiGkdi4G/205mNqauRMn2zLFJ5RefnJv5Nvu/foWH7pHsfl0c1xrPKck/RNn6YkEUmozYC/KFVWkc/EGGOsOlWhxlqE8E/98dISF/x7YRUCLcuvVVFBHF5v/yKWnL5bXLVDfRcH3M7tgtCL6xBcxd46JLuCmMgseAa3rUAnKDmS4kIReyFHFRW1QmwDrz490UyD7+Npim7vwGivwVibZIkPNhzG9/1qyuTtjDFWs1U6sJLsFD7q5ouNtnNxMHRSGWkKyyJD7Och8J8dCfX0rCI07r0IB7a8ruH2tYkcxxcMQOd3Q+EYPB9x29+qwOTvjDHGqkulq1V5Z7Zhx/FsNG3fAVYaB0UpPEcMgqe5cP1RZAjPwABYc1AtgwQtBw9AFyspUvZtx740mbCeMcaYLqtkYL2HmGX/4FQ+waFevQolZDB27YdhAS7Kumpxa3Br+AU3qGrXZFB+Mnb+9S1mzvgcf247hVLpJ/SaoV0XdG1TB4p7x3HwMA/BYYwxfVCJmFaE89u/wCd/HoJc+V9i3B6kqdt1NSN2xIBRIagrEcGyiS+8m1Vx3KniNpZN7IXe4z/GF19+hvF9u2HSorPCg3pO4oLWLW0hkqch6WK6sJIxxpgu0ziw3on7FaMG9IZPh6Zo1+drHLtb3DQpx5GVr6K5azv49/0UsemapbJ36jEULzWyRHO/ILQwqup1QxlycvJRcqWYCpCTVSDc0XcSNHCxV/1It2/eVK9ijDGm07Q0H2tFybD/zxk41uwTTPSp+swtRelHsWrhcsQmFaBR5yF4/TUf2NWIyc4VOPW//vB4extemLIDsfMDhfWMMcZ0VTUFVqYZBS4uGQq3iZvQYfI2xC/sIaxnjDGmq6rab4g9U2IUZeWBlP/lZWYL62q2wrSj+GfVZpy6/ex7Qd+7eRrnb3Bva21T5CTh7JUc4R5jtQ/XWHWaAntfc4f3skTUdf8eN45NrVLax+KOZ7eTk3Dn3uPXwsUGlqjf2AmazA2UdysJVzMKnpxUQ2QCp8YusKxgczwVHMLU7i9i3oE0uPh+jaiwaXB9Bk36lJ+Ejd/NwrLEJpgx/1N0eUr6SSrMQHLSLeQ/9mFFMLJyRiNHc+H+0xTgxuVkZBY+uQ+CxNQeri519GLKw8zL4fjth19xuuFU/D6t62P7pCLnCH6Y/AmOubyGLz4dDFezqvyGclzaNQ+zfgmHotkgzP78NTQ31+fLPLpdBnXJnTO7sW79v9hz+BxupN+DgaUNGrXohMA+A/GyX1MYC8/TScWBlekqOcWOaV1cdkgZWKlQWFtpsgu0YtZkGvyiF9W3lJKyyKleu3gRG7SleQfvCU98mkJKWDmLJo8dRJ0bWZV6DREZ1WlBvYZNpA9mraQLD01mr5m80/PIw0Ssfj/GPWhTmvanrL97ej2N8XKnwXPDKF2Dl887+3/08cQRFNK5MZmJ1ek4739eG/eP6LQGn1NRkEh/TH+Lxgz0ofrm6s+nWkRScmgZQCNff4e+Wn1U5yfoTz+zjeaM9SVH4+LPIKFOk7ZTgfDYY2TXadMnwdTYfSStPpIhrKy43MQF1MlKWvJ9eb2xnTTZS3WWjpdBXSDPPUtL3vInO8NSZaX0IjKmlgHv046LecIWuocDq07TcmAt5d61XfRmF+dSeZKl5P1O+JMPlGUouL6OXnQ0Vm4rJifP9yj6WtXeYX7SYvIyk6jej8S8L227Kxce0QY5pcZ+T971nGnoDwmVODgX0cXtM6h9XQPh+wKJpE3py+hs4XFNyOnCytFUR6IM0GILCpm6lW4V6frBT043j2+i6cO7kO1DB7pyAmsxeQZtnxlI1nU60uf/JitfqaJkdPSn3iQt+ZsgiyZv0aF7NSN3ti6Wweomzz5Es4IbkUT04DcvexGRWb0e9OfBu8KWuoUDq057doG12L1LKyjY0ahkZzWt/xrFZml++FMUHaX3OtiozrR/2p8rrNVM9oV/ac6UN2n6j5vofKb6byoKDtAbreuo3otdx5l0QQg6uSmx9OusKfTGh/Np//Ui1bqKSov/gbzsTKnT2A10p9JVQxmd+GMY1S0OjKrvTEIdx2+hipw3Zx/6ityMJcra7jQ6WaEJI6qDjE4ufZ18e42iaZ99Rq/3bEEGJQc8DQJrMVkKLR7iRgbm7eiLXTcqGFyLKHq270OB1dB2GEXmavOEq3pVZxksIbtES2fPoX8O3azEyY82ZdLm9zqr9jGR2JSaer1Cb3z0OX33w7c0+8PxFNTa4ZGAKyKrZuMpOq1yx4RniQOrTnu2gZXkV+nrEOcHTUliO5qy7qbwYPkU98JoeENzqu/3PV2rSM1L+Xe/7Vlf+Lsisms9hrZdKp4RqIC2vtNReQYvJb8PY1SfN/3o7xTSwEx4rpjcR22ocG3z3pX19LKrufKgNZLCblWtEOYnL6Fu5kLTpHIxtB9Mu+5ofji68987ZC81ocE/na3mg1jFybP+o8EupsJn1zCwKhXc2EIDGpopv6tAWnYsR1iricdrrCbOY2lvXs2osapUVxksRVF0kqZ62pJYakUd+35Aa+KuVctlibxTC6iThZQsG/amBbsvPX68k92kHd/2J8fSLSciAwr8aI/2j41VJFa+OVZLydL3IOpQqbloFXfw3+pQKOOEsOLp8lNO4ewtBbr06QvHinSSEJvBwd5CldayuGykJS7H6L7vICJVBK9e3WFvWA8+Ie1ReHENxvT7ALuTc9XvUSSBZZ2KdfAh2Xn8/Po0bE0ivPT+p/C3e3JHJU1cj4zG0dwHPYkLb+/E+i3XoFlqFDmunDyLu1JP9H7ZVe+65ItNW6Clq4VwT3OGDr0xZ/qLML4dgY/HfYkTuZp9W8rgDXtHG5TetUxt7VG3aj+hTqm2MliKSFwPvcYMQAdHGQ6H/ojh3i3RodcUrIhJRpHwnGdPhv1rNuCMdV8sC/sHbwe5Pt5RU2KPHtNWYuPcXrC4X3ioCPFr/8aRe5p9X88LB9Za7HZMJBKynREY6CYEKwUuha/BrhTNhqDcTjiEczI3BIQ0rOCOZI3h85bhu9d7oYW9CUQiwu2TSzDipXeQYOOGltZt0NhkA0b1noytl7NByoBq7eKJkR8vw9IvAirQM1qOE39Mxze7k2Bg3xvjRjWv4g6fg6jdByBu5A/f5sLkhIos7F69CTc1OhBmY//+c7BqEwDvBnoYHUTmsDSrzPuWwG3EWxjQ1AI3Dv2EqV/tQ6HwSHlMHOxRp9SsTiZ2TrCrQUet6iuDpYitEfDmYuw/cwKbfpyMzvUIJ3b8gjH+bmgXOAl/hF3EM89lJ7+M8KgbGPPdfLzc1EhYWRYTdH33S0zoYCucmAN5qYdw5JKme9TzwYFVx9m0baQscBI0fsFNWKMtBYjdHY9CO39M+2Ys2pqqi7U8dy/Wrz2jQQ0sDzERByBpWrl8zwZ1X8AHi7fjzPU0XDy4Cyt+mYUXXQ5i4iuf41R+PKYNnI2bLQbis3l/I+LwFVxPPoC/vxqOphUYalGU9i9mf/0fMuVitOw5CN42VdvdKT8B4Xuvo3ng25g7pisMVG+FkBK7FtvOlV+wFbnxiIxPQ2v/ILjo4zAIsQGk0sp9h2KzLhg5sC0kVICIX2di3TnNDtUGDg6wLfmuxLBydIB5jZk+sXrL4KPEZq545f2F2Hv6JLYueBveDQ1wJuI3TAhpg7Y+Y7Fw+1ncE56rbSS7jnv1x+KNAfXKDUoiwzYYPrijcCKiRHdx545ujUfnwKrjJGbGyh9JBGNzU2GNdlDhUYTFpMDVNxjd2g/BMB9n9RkgFWLP2jU4X/T0GhgVHEbknmto7huE5lXJ9yw2QyP3Tujk0QrNmzVHPaN7yCzIg5G9B7x9/BEQ6A8v93qVGLNWhL2/zsPWlFzl36gDv94BqOo3mHUoEntTjeAd4oNOw4fCy0pdd1YUHMKG1ceU9eOnyzoQjbhbdeAT7FHF8cjVRQRRpX9qA3Ts5QcXQxFkmXuw4PsdGs1CZeTgCFuD+4cpMWydnGrMQUtnyuAjxKYN0fvtBYg+nYgdi96HXxMTXIxdijdfckdrr5GY938noCxVWiUy8sEPqz9GS/XZajmUFQ2P1g9OuEQmMDHRrb2CA2stlXcmGrGXFOgS7AczST0MGhkAS9UpICE9cQM2xT+96OSeUG6frAwywV6o1Lmy4i72/T0LgwLawamOHVp1H4I5q66i/3efwNu+N6ZPb4GdX70GH3cX1LFpDO+XJ+PXbWc1bpKSZ4Zh4dIDqgn1Jcbt0a1bxa8NPkyGk+GxSDX2QoCfNYxd+mL4/SkPi6/zrFuNE49nkShFhiPK7W9be8PPS7snSfrCwqMLOtgUnyLJcWzjYmxPKf8KnsTcHvaW9/cwEeydnB/UVPRctZfBcoiM6iFk0o+ISDyF3Us+QnALCyQnrML7AzrCreNgfLvuMLI0vVyuZRIrK5gL0Uts2BBNGj+t+fj548BaK8lxbncULog6KGuEtsr7YjTsOwy96quzCJHsMjatjMSTZ4CV42zkHlxRBhm/Sk2iUIQ93w1DjzFzsTHyOG7myGHsHIKF27fgdbt0nE87j8LmsxG6/iO0tRSj4O5l7A1djCmvBOCDVVc0aCJT4EroGuy8qq4TWTXpiLZV7LQEeTJ2hZ+GvWcgvOoqi43YFv1Gv1gy2UP2pX+UnyVLdbtM8iRERJ1H/a6B6HD/iFDLiE3awsNNvb8UZUZg5UoNmjvFdnCwFdorlDUTe2fbGnLQqu4yqDmRoSMCxn2DnSdOI2LZDLzYyhqpRzbg42Gd0dLjFXzxdzzSKzJ1qBbIs7KQo9p5lCdbHl3hYaW9Grs2cGCtjRS3EB5+AnU8AtHVSR1wxBZ+eHVAK6E2IMeJLasRm/GEw57iJsIjEpVBJgCd61Rih5ZfRfiOIyUFw8jeBz9uXIMx7U1xaEc0rhWcQUx4CuoFzsa6Ja+jsXDtSSG7gb3hh8rvqajIwI7Nsci+X/BatkEDjZqYnqzwZgyijmahY1AwbIVrfPaBw9C3mfqgRvJUhK76D0/KkFt4PQbRx/PgGegPC906Bjw/Eke4NVdPg6iq5W/ZjCvlHJBFUgc42qsDq0hiC0dH/WxEf0x1l8FKEEnt4DNqLrYdO409K2ejTztb3Dq5BTNHe8OtzUuY9ece3C6n+Vo7FEg9fV7dc1pkCt/BA1Ffx/oscGCtheR3YxFxMB3ugSGoV7JDGsF3VH+0NFYX64K0HdgQmlpmjUJ+dy+iDmWgfWBgSZCpEElDjPr4LfTybAOvnm9idVgoJnepozxLP4VtO89CToU4EhWFTJLAbfAChG+bh1eDPNGuyxC8/2aQ8p0+nSIvDmH7bghDGKSo37RJuduU50ZkFI7cawb/Ho1LCo3IuBNGDfUQhoMocGb7GkTcKDvs34iOwbF8NwQEOdfiQidB8xZC87ny10k7Fo5918rpdCKuA0c7U/W1R5EysDrrYW/qMlR7GawKiQ26DP8MoYdOI37dF+jfwQHp57Zj7gQ/tHTrgY8XReO2hsOFKkVxW3lSclx1mce0/kBMerWpzpUpDqy10J09kUjIdIZfyP2zYzWzNoMxpKuD+iCmyMTOVZtwq4wCcic2Srm9K/yCmlRyBxKjcc8Z2H7gBOL++wX921qq1hbdOoiEc5nKW4Trh+NwKr/4kCJBI7+3sWL3ARzdtxqvdlQ/92lyjifgaLrQiCYSwblhcc/qqshF9O79EDfyg49b6RAtheeIwfA0Vx/si+6GY/0/yWUcCHMRE5YAaQt/dG3yLK6G6QsJnFycYCLEAUXhMcTHlTdrk1RZS62j2s/Ehg5wcqgZNdbqL4NaILaG56BPsS5sKz7r3Uz5ORS4c3E3fpj6I+Jznl1gzU/ajPXR10DKk64Bn3yC7nV0L4xxYK11ChC7Kw75dj7w7fjIPBrKmuTQEb5QT0ZCSNmzFtvPPzqMpBDxYXEoqu+D7m21O79E0c00ZMjUYSk/PRU3KlU4FUg7dRbX7jdJiSxhay+MOa0kyj+AsD2paOoXBDfjh2sHxq79MNS/vvpASHmIXLMeKY80b1LBEUTEpqKFbyCaVbFJWt8ZOjrA9v53oMjF6eNn8fTe1GI4Otmovl+jusptDWvC96e7ZbAiiu4mYuXno9GxZTfM+vc8SGqP7sM+w5b4pXjR6lmFljyE/e9PxGfK0dDnI3w2vqpj058NDqy1DBWeQHj0FVUXfw/TR39+ZU2y/1AEO6kLu6LgIDasPvHQgY8KTyI85goa+wSi9SNBpqoM6rnCxaK49ieCRQM3NC5Jr1IRcly+mIL7J/kisSXq1K1afTX7aBRirxUPs+n2eJOy2BEDR4Wgrqo5jnAjYT1CTz7cdzn7eBT2ppjAO7iTng6z0R4Da2tYiO/vNzJcu3ipnGvmEjg626ua203tnGBbA1qCdbkMaqIg7TD+nDkUHk07YtRnK3Dybh34j/4C/x07i5jVs9G7rc0zCyw5J5dgzl+HIa7rj7m/voMmOnqiyoG1lsk7F4k9FwldQ/zKHNcpsQ7CyFdaqHcMKkLc+lU4WfCgBpZ/KQYx5wldgry1Ph+iof1A/LZhPqZMfBcLV85E+0odNBS4eTNDGeIEImOYGFdlN5chMSwW14y7INDPWlj3MKeew9C7kbo3p6LoJDb+vb9UsJDjXMQeJJt4wd+7/GbsJ5PjYsxa/LFkCZZoa/lzM87cLesK3rMjLR4mUXJNkJB96yayy7keZ2xvB2uJGGYOziW9sPWZLpfBp7l3IwGLpg1Am+ZemPDFOpzJs0PIuO8QdvIMwpd9ihC3ssuHtpDsHH5+/yccyXPC5F9+x4hW1VdbL5eQM5jpJDmdWzyADIqnk3o3QguJpmV0/OeXyNg0gNamPPnVMvd/Ts2ERNciiQvN2Hl/aiY5nVrYj0zMQmi9zk5PlUe/D3YtSWouMmhH8w9XYQZPWRJ97u9EDYLm0y3Zk5KcF1LY9G6krBer/qZpg/EUp4wWKvKr9E1IPWrU83+U9sTtNZFPq8e1KjXFWNUXkUEn+v1U8eQHmrpL8/u6CNtrnoS/tKJby8mv1CQG9p1m06VyksfnnPiO2hhLyeO1TcpvQd/pXxnMTo6heVN6UyOL4vljRSQ1a0S9J8+j2MuVnE2nUvIo6sseZCaxpN4zoqgiUzlUh6qcyjN9o7iNsLDjsPYIRBfHJ7epWXYcjMGd1Lk4SX4NoSt3CMNIMhEZfhR12vuji72utskRZHKF6qitpoCiCpWywrQYRB7JRIegINg8sfelAbqOGAh3YVhQ3tWt2LDzjup2ce/PqMPK7QMChebiypKgRdBQTHnnHbyjreXtoWhtU7Vm8ooSGRhAWfksQVT6tyqbkWNx9iUD2Do5Q+9bgvWoDGZeCsO3k0LQsqUf3luwHVfREK9M+R9iz5zCvwvfRbdGzyvRiQJXts/EuC9i0Gb07/hrtg+q1mviORACLNNJ2q2xyjI2Um97M+oxI6GcaaHklLiwP5kIcx8a1H2ZQm8Ukjx7Gw2oZ0E9Zx6olmmlNJNHfw5v+qDGKm1J3+2r/PltyuoxZKlJrVeeQt/2dCmZ3q5Fv78oXfkl3dw8mWyMPGjBkSrUmnVG1Wussjt/k7+y5qN+DZBjt6/pajk1VsW9HTTY2YqG/XJFuWfqN30og+lnttGcsb7kaFxcYxaRgXVzGvzB73QwtaK/tnZkHFtIPg6m1OaVhXRJ5+cwVuMaay2SXtxF/64TfHs83MX/cWI0GzgM/nbqaxhFGeHYsOkqMhKiEJfmAJ/g+zNx6CIJbOren5JOifKQm1t8bKqMPNUwGVEjP/i2KmckrNgZg1+9n5JOgQtha7A7NQdxYXGQNfBB95ZVHUlbM8gLCqE8QRTuiWBSxwZW5V03Lc6+ZG8JBydrve8UortlUIFbJzdjxsiuaO7eB5/9FYMMUzcM/+QvHDx7Eut+mICOTs9/qNi9pE2YOGg6rrWZibV/vw5XLeZEfpY4sNYahYjbtRd59r7w7/BIF/8yGNj1xMi+wsBrykX4mlX4d0cMMu26w+fRIQI6RQKXhg4lOzZRDjIzK9cWXJzkPCzmGpr5B6NluQVajAZ9HqSkk+fEYN3KUOyKTkYT38DHhunUVvK7mcgp6awkho2zc7l5btXZl+zh6KS7p3Oa0dEyqLiOFW/5oEWHAfhyVTxyLNti9My/ceTcUaz6agzc7aunL3vhjV14e8BkxNu+gXUbpqG1HqUC5cBaSxR38Q9TdfEPgvtjXfzLYo5eo/qigWrcIOFG3CLMWn0MDb0DyxgioEskaOTWDFb3r2cqcnD7VnlJCMqWfSwSsSmG8A7uolHmJrGF/4OUdFSIHf/7BJvOAt2CyhimU0sVpqcjs2QslASuLVuUf91U7IABM75B/za6fEJXPl0tg6RIx4n9Z1Fo0wET5q7FsfMHsezzEXCzqb4r2kVpUfjglTH4TzQCa/5vDjqWkwSCCpMRE3bsiSlFnzddPkIyLco7F4HIc4Xw9NW8i75Vl2EY2E49OF8hS0VyqhSdg3yh64c38/YeaFUyITfhVmrqQ+MANSND4s4oXJF2RHdvTWfGMSyVko6Ql5qMNKPO8PetyjAbXVLZJvUHCq5dL8knK5I0QHtPTaaBk6JF9yA0s9Tvw5WulkGR2Aa9Pl6OE+cS8PuMwWhuXX0BtVjhrSi833cENhUNwpp/v0O38jppKdIQOmM0Pt2UqjPjxDmw1goyHN+8E2flrvDoqPnsICKpG0aOUNbWhMqf2KgD/AMfNLPqKkOHbvBubS1cZ5Xj6qWL5Sfuf0TxmLnN207AookHWlfgzP2hlHTKf506BsCrqjPr6AqFDLJSY04V8opOLi1HypWruD+7nqGtF7p46HctVHM6XAbFjggY8CIa68DsEAXXd2PKS8Ow+k53fPHDaFjdTMSxY8ceW44eOoC90Tux/o+vMSa4K4bMu4KQQd11pmWIA2stoMg7iGVrD0EmtodzvYqc0xUnwR+C7jbqq2A2rf3QzUUPgoSkCV7q1Rbq1mAFbp8/i+sVnNYqI341Nh65DTOHerCvSFKC4pR0I/1grtpECnf/IDhUaZiNDqFsZOXcP0VRIC87W/lvRRTi9Kn70/6J0dS/FzzLza5VgPORy/HFzBn4euFWXMp+0u8oQ8qBjfhh9if4ZPbP2HY0rYLv7dmqdWWwEu5dCcXEXsPx+4EbSD+/DmMDOsLDw6PMpb3nC/D264khE6ZjecQFGLn2Rd+uOjQIR+gdzHRS1YfbKApSaP0HvmQmUg80f299RYcs3KWlr7YksfI9+E6N0UKSiucj78wv1ElIRCC17kf/3dX8U+cm76BJLziohs6YNhhOO65WbJiBLCOU+tczIZG0BX1bhaE+uiYzcRF1tzVUfafFi7nrKNp9TfPvRlGUSB++YKvaViRxpmlb7giPPImcLm+cSPZSdaIEZTCmJj1/KXN4ztXQd8hFSKhQvIiNGtCE347pxP6q62VQUXSG5vRoTk5OTlpZnBsOq1B5K5aZ+Df1a25VMkyuYouU/D7UrWMTB1ad9iCwdnlrVwV2nFwKmzeRXunlR23rW5JYGAtXvIil5tTI3ZuGztxKWcKzy5O2ayrVM3ShmTuzhTV6QH6LFg9qqspUJJI0ojnhT3/v8pz99NVrA6mHbwdyMpeUKuAiMrSoR+27v0Tfb78lPLs8ufTPmx5k7jKB4vP0Y9zdkxSkhNL7g1+mIO925GhW+nsRvhvrhvSCX08aNHa+sMWTFVxfRr5WBqrt6rSeSifKHZOo3P+XjiBL8YO/59ztyzIyNcno+IKXybjUfl68SK2Cae3l6jrc6k8ZVBSdpKme6hMebSwio160Ob0CgVV2kT7zdaxkUFX+PYM2NO+gbo0T58Cq0+R0/rfiwCqhjhNCKzwYX1uKC97/PviBDuZU7Cy0ut3Z+xk1M5IoC58BBU2Pf65JLXKOL6ePfoygmpAWQluS14xRB0lxXRq75IJmtTZ5Ou1b/TW9OW4cTZmxmA48IY2fIv8ybfppGo0dPZ6mffEbLf7An0zE5jRpZbrwDP2mr2WwthIV/6OM+kxHXf5rKFqO24AWr67FgRWDeNhGRShuY8U4f7y2LBHWbaZiz+Fv0aqWT9tWfTLw2+BOeGPDJdh1nI6ovXM1GBtceWmbJ6HZwOXotzgJS8c7CGsZez6485KOMzMzhVREyEq7XdKbkmlIbIvBc2ail4sJMk6vxvL/1Pl72fOXf2kDVuxKBoxb4/15U59pUC3uJHUk/hhyxU3g7l5ThjoxfcKBVcepJoaWArm3ruFWBXu2MuVxvMFA/DJ/DOpLrmP53Pk4zWcn1SALO35egv1ZRuj54SJM6f5spxfLv7IR81YcR8PASRjcQYenFmM1FgdWHWfaogUamUiRmXQOyRwUKkEM137fYcXnvZB/dD4++fGAsj7Dnqc78Qsw868TcOs3D4tndnumc4gWpe3Bp69Ow36zVzB/4UTUqwHztzL9w4FVxxnYvgAvN2vIMhOwJyFPWMsqxgx+Hy7F0g88EfXVa/jqv1SdGuNYkxXe3In3x/+MIp8vsG75WLg8o2vcVHATMStmoEeXQYisOx6hUUvR2/X5J41nrBgHVh0nkjZHv77tIFVcxebl25DFldbKEduh31eb8M9cdywfNxA/RVzn4PqMFd6MwtT+b+C857fY9s8HaPXMkqjLkLDoQ3yzW4HxSxMQv3k2vOtxUGXVh3sF64HCGxsxoOMobL/TBF/ujMbHvnWFR1jFyZGyZxHe/XA1Gr6+EF++5qHzuY/1j/I73vs73pu2Bi5jfsTcCZ2gnvOHsdqBA6tekCNxxVgEjluJ3Hr9sXzXCvRvzuGgKhR5SQhdvALykGkY0IY7uGhT4a0d+G5eEnpNGVstc3gyVt04sOqNHETPH4th0/5BjmNPfLfyL0zsrvsJ8RljrLbh47LeMIfvO6sRt2s+XnQ4hinBHdDnrV8Rn8wdmhhjTJdwjVUfKXJwOnIDVq7bivD4cxDX74b3v5uPgdykyRhj1Y4Daw1QmH0L2SI72KjnKmOMMVaNOLAyxhhjWsTXWBljjDEt4sDKGGOMaREHVsYYY0yLOLAyxhhjWsSBlTHGGNMiDqyMMcaYFnFgZYwxxrSIAytjjDGmRRxYGWOMMS3iwMoYY4xpEQdWxhhjTIs4sDLGGGNaxIGVMcYY0yIOrIwxxpgWcWBljDHGtIgDK2OMMaZFHFgZY4wxrQH+Hz470Hjbtf0YAAAAAElFTkSuQmCC)\n",
        "\n",
        "Здесь первая часть описывает базовый случай (условие окончания рекурсии),\n",
        "а вторая – переход к следующему шагу."
      ],
      "metadata": {
        "id": "IwTAl5hvS1vF"
      },
      "id": "IwTAl5hvS1vF"
    },
    {
      "cell_type": "code",
      "source": [
        "def Fact(N):\n",
        "  return 1 if N == 1 else N * Fact(N - 1)\n",
        "\n",
        "Fact(5)"
      ],
      "metadata": {
        "colab": {
          "base_uri": "https://localhost:8080/"
        },
        "id": "_rBBp7lJUn0O",
        "outputId": "d9b938fc-868b-498f-d55f-e1c6a02f2232"
      },
      "id": "_rBBp7lJUn0O",
      "execution_count": null,
      "outputs": [
        {
          "output_type": "execute_result",
          "data": {
            "text/plain": [
              "120"
            ]
          },
          "metadata": {},
          "execution_count": 6
        }
      ]
    },
    {
      "cell_type": "markdown",
      "source": [
        "Если мы вызовем нашу функцию при $N = 3$, то мы увидим, что вызов Fact(2) происходит раньше, чем заканчивается вызов Fact(3). Это значит, что компьютеру нужно где-то (без помощи программиста) запомнить состояние программы (в том числе значения всех локальных переменных) и адрес, по которому нужно вернуться после завершения вызова Fact(2). Для этой цели используется **стек вызовов**.\n",
        "\n",
        "**Стек** (англ. stack – кипа, стопка) – особая область памяти, в которой\n",
        "хранятся локальные переменные и адреса возврата из процедур и функций.\n",
        "Один из регистров процессора называется указателем стека (англ. stack\n",
        "pointer = SP) – в нём записан адрес последней занятой ячейки стека. При\n",
        "вызове процедуры в стек помещаются значения всех ее параметров, адрес\n",
        "возврата и выделяется место под локальные переменные.\n",
        "\n",
        "С каждым новым вызовом расходуется дополнительная стековая память. Если вложенных вызовов будет очень много (или если процедура создает много локальных\n",
        "переменных), эта память закончится, и программа завершится аварийно.\n",
        "\n",
        "При каждом вызове процедуры некоторое время затрачивается на выполнение служебных операций (занесение данных в стек и т.п.), поэтому, как правило, рекурсивные программы выполняются несколько дольше, чем аналогичные нерекурсивные.\n",
        "\n",
        "Всегда ли можно написать нерекурсивную программу? Оказывается всегда. Доказано, что любой рекурсивный алгоритм может быть записан без использования рекурсии (хотя часто при этом программа усложняется и становится менее понятной). Например, для вычисления факториала можно использовать обычный цикл:"
      ],
      "metadata": {
        "id": "XBXInABKUngw"
      },
      "id": "XBXInABKUngw"
    },
    {
      "cell_type": "code",
      "source": [
        "def Fact2(n):\n",
        "  f = 1\n",
        "  for i in range(2, n + 1):\n",
        "    f *= i\n",
        "  return f\n",
        "\n",
        "print(Fact2(5))"
      ],
      "metadata": {
        "colab": {
          "base_uri": "https://localhost:8080/"
        },
        "id": "9YqEA-xCWPwz",
        "outputId": "9afa636d-9797-47d6-b6bc-353d622f6639"
      },
      "id": "9YqEA-xCWPwz",
      "execution_count": null,
      "outputs": [
        {
          "output_type": "stream",
          "name": "stdout",
          "text": [
            "120\n"
          ]
        }
      ]
    },
    {
      "cell_type": "markdown",
      "source": [
        "В данном случае такой итерационный (то есть повторяющийся, циклический) алгоритм значительно лучше, чем рекурсивный: он не расходует стековую память и выполняется быстрее. Поэтому здесь нет никакой необходимости использовать рекурсию.\n",
        "\n",
        "Итак, рекурсия – это мощный инструмент, заменяющий циклы в задачах, которые можно свести к более простым задачам того же типа. В сложных случаях использование рекурсии позволяет значительно упростить программу, сократить ее текст и сделать более понятной.\n",
        "\n",
        "С другой стороны, если существует простое решение задачи без использования рекурсии, лучше применить именно его. Нужно стараться обходиться без рекурсии, если вложенность вызовов получается очень большой, или процедура использует много локальных данных."
      ],
      "metadata": {
        "id": "Qvt1IoZzWPe8"
      },
      "id": "Qvt1IoZzWPe8"
    },
    {
      "cell_type": "markdown",
      "id": "2e43dd0e-ec84-4b1d-a101-45a77771a75b",
      "metadata": {
        "id": "2e43dd0e-ec84-4b1d-a101-45a77771a75b"
      },
      "source": [
        "### Стек вызовов\n",
        "\n",
        "Представьте, что вы беседуете с кем-то о ваших общих знакомых. Вы говорите о своей подруге Алисе, после чего вспоминаете историю о вашем коллеге Бобе, но сначала должны объяснить кое-что о своей кузине Кэрол. Вы завершаете рассказ о Кэрол и возвращаетесь к разговору о Бобе, а когда заканчиваете свой рассказ о Бобе, возвращаетесь к разговору об Алисе. Но тут вам напоминают о вашем брате Дэвиде, поэтому вы рассказываете историю о нем, а затем возвращаетесь к первоначальной истории об Алисе. Структура такого разговора называется **стеком**, на вершине которого всегда находится текущая тема.\n",
        "\n",
        "![image.png](data:image/png;base64,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)\n",
        "\n",
        "Нечто подобное происходит при вызовах функций. Python запоминает строку, из которой была вызвана функция, чтобы впоследствии вернуться к ней, когда встретится функция return. Но если из исходной функции вызывались другие функции, то программа будет сначала возвращаться к ним, прежде чем вернуться из исходной функции.\n",
        "\n",
        "Рассмотрим **пример**:"
      ]
    },
    {
      "cell_type": "code",
      "execution_count": null,
      "id": "a36dd5ac-2913-4d5a-9bca-13e7a2991f05",
      "metadata": {
        "id": "a36dd5ac-2913-4d5a-9bca-13e7a2991f05",
        "outputId": "59de6489-e6a6-45c7-f818-620498d10dfe"
      },
      "outputs": [
        {
          "name": "stdout",
          "output_type": "stream",
          "text": [
            "a() starts\n",
            "b() starts\n",
            "c() starts\n",
            "c() returns\n",
            "b() returns\n",
            "d() starts\n",
            "d() returns\n",
            "a() returns\n"
          ]
        }
      ],
      "source": [
        "def a():\n",
        "    print('a() starts')\n",
        "    b() # (1)\n",
        "    d() # (2)\n",
        "    print('a() returns')\n",
        "\n",
        "def b():\n",
        "    print('b() starts')\n",
        "    c() # (3)\n",
        "    print('b() returns')\n",
        "\n",
        "def c():\n",
        "    print('c() starts') # (4)\n",
        "    print('c() returns')\n",
        "\n",
        "def d():\n",
        "    print('d() starts')\n",
        "    print('d() returns')\n",
        "\n",
        "a() # (5)"
      ]
    },
    {
      "cell_type": "markdown",
      "id": "f8f22a66-412d-4658-949d-d653738efc3b",
      "metadata": {
        "id": "f8f22a66-412d-4658-949d-d653738efc3b"
      },
      "source": [
        "Когда вызывается функция a() **(5)**, в ней вызывается функция b() **(1)**, которая, в свою очередь, вызывает функцию c() **(3)**. Функция c() просто отображает сообщение 'c() starts' **(4)** и 'c() returns', после чего программа возвращается к строке функции b(), из которой была вызвана функция c() **(3)**. После завершения функции b() программа возвращается к строке функции a(), из которой была вызвана функция b() **(1)**. Выполнение продолжается в следующей строке, где содержится вызов функции d() **(2)**. Подобно функции c(), функция d() просто отображает сообщения 'd() starts' и 'd() returns', после чего управление передается в функцию a(), которая ее вызвала **(2)**. В последней строке функции a() отображается сообщение 'a() returns', после чего управление передается в основную программу **(5)**."
      ]
    },
    {
      "cell_type": "markdown",
      "id": "9a6404ae-7f4a-4f81-8134-33464daca0bc",
      "metadata": {
        "id": "9a6404ae-7f4a-4f81-8134-33464daca0bc"
      },
      "source": [
        "***Стек вызовов*** - это структура, с помощью которой интерпретатор Python запоминает, куда следует возвращаться после каждого вызова функции. Стек вызовов не хранится в переменной программы - интерпретатор обрабатывает его самостоятельно. Когда в программе встречается вызов функции, Python создает объект фрейма в верхней части стека вызовов. В этом объекте хранится номер строки исходной функции, чтобы Python знал, куда возвращаться по завершении вызова. Если вызывается другая функция, Python помещает другой объект фрейма в стек вызовов над предыдущим объектом.\n",
        "\n",
        "Когда функция завершается, Python удаляет объект фрейма из верхней части стека и переходит к выполнению строки с номером, хранящимся в нем. Обратите внимание, что объекты фреймов всегда добавляются и удаляются только на вершине стека. На вершине стека вызовов находится функция, которая выполняется в данный момент. Если стек вызовов пуст, значит, точка выполнения находится в основной программе, вне всех остальных функций.\n",
        "![image.png](data:image/png;base64,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)"
      ]
    },
    {
      "cell_type": "markdown",
      "id": "1f7f5605-2a79-4a16-b3ce-a024aa9e27c6",
      "metadata": {
        "id": "1f7f5605-2a79-4a16-b3ce-a024aa9e27c6"
      },
      "source": [
        "### Локальная и глобальная области видимости\n",
        "\n",
        "Параметры и переменные, создаваемые в теле вызываемой функции, существуют в ***локальной области видимости*** этой функции. Переменные, значения которым присваиваются вне функций, существуют в ***глобальной области видимости***. Переменные, существующие в локальной области видимости, называются ***локальными***, тогда как переменные, существующие в глобальной области видимости – ***глобальными***. Переменная может иметь только одну область видимости. Она не может быть и локальной, и глобальной одновременно.\n",
        "\n",
        "Область видимости можно представить как контейнер для переменных. При удалении контейнера все значения хранящихся в нем переменных теряются. Существует только одна глобальная область видимости, которая создается в момент запуска программы. Глобальная область видимости уничтожается, когда программа завершает работу; все глобальные переменные при этом теряются (в противном случае при очередном запуске программы переменные содержали бы те же значения, которые имели в прошлый раз).\n",
        "\n",
        "Локальная область видимости создается при каждом вызове функции. Любая переменная, которой присваивается значение в этой функции, существует только в локальной области видимости. При завершении функции локальная область видимости уничтожается, и все локальные переменные теряются.\n",
        "\n",
        "Области видимости важны по следующим причинам:\n",
        "1. Код в глобальной области видимости (вне всех функций) не может обращаться к локальным переменным."
      ]
    },
    {
      "cell_type": "code",
      "execution_count": null,
      "id": "12861fc1-8ccd-4e10-b729-5ee40c0d925a",
      "metadata": {
        "id": "12861fc1-8ccd-4e10-b729-5ee40c0d925a",
        "outputId": "a0d10bd9-9e33-4b80-edbb-85c09d381802"
      },
      "outputs": [
        {
          "ename": "NameError",
          "evalue": "name 'name' is not defined",
          "output_type": "error",
          "traceback": [
            "\u001b[1;31m---------------------------------------------------------------------------\u001b[0m",
            "\u001b[1;31mNameError\u001b[0m                                 Traceback (most recent call last)",
            "Cell \u001b[1;32mIn[23], line 5\u001b[0m\n\u001b[0;32m      2\u001b[0m     name \u001b[38;5;241m=\u001b[39m \u001b[38;5;124m'\u001b[39m\u001b[38;5;124mАндрей\u001b[39m\u001b[38;5;124m'\u001b[39m\n\u001b[0;32m      4\u001b[0m hello()\n\u001b[1;32m----> 5\u001b[0m \u001b[38;5;28mprint\u001b[39m(\u001b[38;5;124m'\u001b[39m\u001b[38;5;124mПривет, \u001b[39m\u001b[38;5;124m'\u001b[39m \u001b[38;5;241m+\u001b[39m \u001b[43mname\u001b[49m)\n",
            "\u001b[1;31mNameError\u001b[0m: name 'name' is not defined"
          ]
        }
      ],
      "source": [
        "def hello():\n",
        "    name = 'Андрей'\n",
        "\n",
        "hello()\n",
        "print('Привет, ' + name)"
      ]
    },
    {
      "cell_type": "markdown",
      "id": "6e66b2f0-0901-467a-98ff-753e5feab707",
      "metadata": {
        "id": "6e66b2f0-0901-467a-98ff-753e5feab707"
      },
      "source": [
        "Ошибка возникла из-за того, что переменная name существует только в локальной области видимости, создаваемой при вызове функции hello(). Как только функция hello() завершает свое выполнение, эта локальная область видимости уничтожается, и переменная name прекращает свое существование."
      ]
    },
    {
      "cell_type": "markdown",
      "id": "a458efb9-b031-4515-b842-17b81d49b1a4",
      "metadata": {
        "id": "a458efb9-b031-4515-b842-17b81d49b1a4"
      },
      "source": [
        "2. В то же время код в локальной области видимости имеет доступ к глобальным переменным."
      ]
    },
    {
      "cell_type": "code",
      "execution_count": null,
      "id": "44deb4bd-4eb1-45b5-866c-770bdee6877a",
      "metadata": {
        "id": "44deb4bd-4eb1-45b5-866c-770bdee6877a",
        "outputId": "a4c10bee-b953-4a9c-b45c-b36ba1083a3f"
      },
      "outputs": [
        {
          "name": "stdout",
          "output_type": "stream",
          "text": [
            "Привет, Андрей\n",
            "Андрей\n"
          ]
        }
      ],
      "source": [
        "def start():\n",
        "    print('Привет,', name)\n",
        "\n",
        "name = 'Андрей'\n",
        "start()\n",
        "print(name)"
      ]
    },
    {
      "cell_type": "markdown",
      "id": "99297343-77f1-4851-9da8-7eaa18344008",
      "metadata": {
        "id": "99297343-77f1-4851-9da8-7eaa18344008"
      },
      "source": [
        "Поскольку имя name отсутствует в списке параметров функции start() и в теле функции данная переменная не создается, Python считает, что в данном случае имеется в виду ссылка на глобальную переменную name."
      ]
    },
    {
      "cell_type": "markdown",
      "id": "4e376320-585c-4e15-9197-30acc9b7ba97",
      "metadata": {
        "id": "4e376320-585c-4e15-9197-30acc9b7ba97"
      },
      "source": [
        "3. Код, находящийся в локальной области видимости функции, не может использовать переменные из любой другой локальной области видимости."
      ]
    },
    {
      "cell_type": "code",
      "execution_count": null,
      "id": "16d5f98b-130c-4689-baa2-241c523eb285",
      "metadata": {
        "id": "16d5f98b-130c-4689-baa2-241c523eb285",
        "outputId": "b54d1ef5-6950-42f6-ebae-fe3fb6f65934"
      },
      "outputs": [
        {
          "name": "stdout",
          "output_type": "stream",
          "text": [
            "20\n"
          ]
        }
      ],
      "source": [
        "def first():\n",
        "    value = 20\n",
        "    second()\n",
        "    print(value)\n",
        "\n",
        "def second():\n",
        "    value = 25\n",
        "\n",
        "first()"
      ]
    },
    {
      "cell_type": "markdown",
      "id": "af8260f6-7135-4785-9838-6497ea995a58",
      "metadata": {
        "id": "af8260f6-7135-4785-9838-6497ea995a58"
      },
      "source": [
        "Всякий раз, когда вызывается функция (включая случаи, когда она вызывается из другой функции), создается новая локальная область видимости. Таким образом, локальные переменные одной функции полностью изолированы от локальных переменных других функций."
      ]
    },
    {
      "cell_type": "markdown",
      "id": "3ffe17b7-15a7-49fc-8ef2-f3c661ab4754",
      "metadata": {
        "id": "3ffe17b7-15a7-49fc-8ef2-f3c661ab4754"
      },
      "source": [
        "4. Разные переменные могут называться одинаково, если относятся к разным областям видимости."
      ]
    },
    {
      "cell_type": "code",
      "execution_count": null,
      "id": "25ff9a84-3921-4001-9c09-ef3e882c996b",
      "metadata": {
        "id": "25ff9a84-3921-4001-9c09-ef3e882c996b",
        "outputId": "d4b88af4-d92d-4d6f-fa47-dbdd634f0823"
      },
      "outputs": [
        {
          "name": "stdout",
          "output_type": "stream",
          "text": [
            "func2 local\n",
            "func1 local\n",
            "func2 local\n",
            "global\n"
          ]
        }
      ],
      "source": [
        "def func1():\n",
        "    value = 'func1 local'\n",
        "    print(value)\n",
        "\n",
        "def func2():\n",
        "    value = 'func2 local'\n",
        "    print(value)\n",
        "    func1()\n",
        "    print(value)\n",
        "\n",
        "value = 'global'\n",
        "func2()\n",
        "print(value)"
      ]
    },
    {
      "cell_type": "markdown",
      "id": "07668b7c-7460-4df4-8684-dc28abf9f035",
      "metadata": {
        "id": "07668b7c-7460-4df4-8684-dc28abf9f035"
      },
      "source": [
        "Фактически в данном примере существуют три различные переменные с одним и тем же именем value. Подобная ситуация может сбивать с толку, если мы хотим отслеживать, какая из переменных используется в конкретном месте программы. Именно поэтому необходимо стараться избегать использования одинаковых имен переменных в разных областях видимости."
      ]
    },
    {
      "cell_type": "markdown",
      "id": "8517ac5f-856f-4fc2-9a0f-7d599144e25d",
      "metadata": {
        "id": "8517ac5f-856f-4fc2-9a0f-7d599144e25d"
      },
      "source": [
        "___\n",
        "Причина, по которой в Python существуют различные области видимости вместо одной глобальной, заключается в том, что функции взаимодействуют с остальным кодом только через свои аргументы и возвращаемые значения. Это снижает вероятность возникновения ошибок. Если бы все переменные в программе были глобальными, то ошибочное значение какой-либо переменной было бы слишком сложно отследить, особенно когда программа насчитывает тысячи строк! Зато, когда ошибка связана с неверным значением локальной переменной, для поиска причины ошибки достаточно проанализировать лишь код соответствующей функции.\n",
        "\n",
        "В использовании глобальных переменных в небольших программах нет ничего предосудительного, но придерживаться такого подхода в крупных программах – плохая практика."
      ]
    },
    {
      "cell_type": "markdown",
      "id": "817abc9e-7db6-4e3f-829e-b5415e6c1d30",
      "metadata": {
        "id": "817abc9e-7db6-4e3f-829e-b5415e6c1d30"
      },
      "source": [
        "### Инструкция global\n",
        "\n",
        "Если в функции возникает потребность изменить глобальную переменную, необходимо использовать **инструкцию global**."
      ]
    },
    {
      "cell_type": "code",
      "execution_count": null,
      "id": "58ced022-7331-4a8b-848d-8babac6f64fe",
      "metadata": {
        "id": "58ced022-7331-4a8b-848d-8babac6f64fe",
        "outputId": "6ab15048-4875-4559-8b28-ac14ae1e016d"
      },
      "outputs": [
        {
          "name": "stdout",
          "output_type": "stream",
          "text": [
            "Привет, Андрей\n"
          ]
        }
      ],
      "source": [
        "def hello():\n",
        "    global name\n",
        "    name = 'Андрей'\n",
        "\n",
        "name = 'Сергей'\n",
        "hello()\n",
        "print('Привет, ' + name)"
      ]
    },
    {
      "cell_type": "markdown",
      "id": "060454f1-0ad8-48bc-a583-41e106306d91",
      "metadata": {
        "id": "060454f1-0ad8-48bc-a583-41e106306d91"
      },
      "source": [
        "В данном примере в функции hello() переменная name объявлена как глобальная, и поэтому, когда ей присваивается новое значение, эта операция выполняется по отношению к глобальной переменной name. Никакая локальная переменная name не создается."
      ]
    },
    {
      "cell_type": "markdown",
      "id": "af9f56c4-4956-43fb-969f-70bd8564e43e",
      "metadata": {
        "id": "af9f56c4-4956-43fb-969f-70bd8564e43e"
      },
      "source": [
        "### Лямбда-функции\n",
        "\n",
        "С помощью ключевого слова **lambda** в языке Python можно задавать лямбда-функции — анонимные функции, не описанные в пространстве имен. Обычно объявление функции сопровождается ключевым словом `def`. Анонимные же функции объявляются с помощью `lambda`. Лямбда-функции - это функции без названия, предназначенные для однократного использования. Синтаксис их выглядит так:\n",
        "```\n",
        "lambda <аргументы> : <возвращаемое выражение>\n",
        "```\n",
        "У лямбда-функции может быть один или несколько аргументов, разделенных запятыми. После двоеточия (:) описывается возвращаемое выражение, в котором может использоваться (или не использоваться) описанный ранее аргумент. Роль возвращаемого выражения может играть любое выражение или даже другая функция.\n",
        "\n",
        "Лямбда-функции играют важнейшую роль в Python. В коде реальных проектов они встречаются повсеместно: например, для сокращения кода, когда нужны безымянные функции на небольшой промежуток времени, или создания аргументов различных функций Python (например, map() или filter()).\n",
        "\n",
        "Рассмотрим **пример**:"
      ]
    },
    {
      "cell_type": "code",
      "execution_count": null,
      "id": "e83c0974-8751-4368-b10c-98c2d9a5f6b1",
      "metadata": {
        "id": "e83c0974-8751-4368-b10c-98c2d9a5f6b1",
        "outputId": "6a39b0d4-4615-451e-dd3b-9454bab3c3f9"
      },
      "outputs": [
        {
          "name": "stdout",
          "output_type": "stream",
          "text": [
            "6\n"
          ]
        }
      ],
      "source": [
        "print((lambda x: x + 3)(3))"
      ]
    },
    {
      "cell_type": "markdown",
      "id": "b327173a-758a-45dc-919a-c7798c5e095f",
      "metadata": {
        "id": "b327173a-758a-45dc-919a-c7798c5e095f"
      },
      "source": [
        "Сначала мы создаем лямбда-функцию, принимающую на входе значение x и возвращающую результат выражения x + 3. Результат представляет собой объект-функцию, которую можно вызывать точно так же, как любую другую."
      ]
    },
    {
      "cell_type": "markdown",
      "source": [
        "### Функция filter()\n",
        "\n",
        "Функция `filter()` принимает в виде аргументов итерируемый объект и другую функцию.\n",
        "\n",
        "Сначала функция проверяет каждый элемент итерируемого объекта. После этого она возвращает новый список, в котором содержатся только те элементы, для которых функция вернула `True`."
      ],
      "metadata": {
        "id": "YO_riFsMCFLX"
      },
      "id": "YO_riFsMCFLX"
    },
    {
      "cell_type": "code",
      "source": [
        "# Программа, которая находит четные числа в списке\n",
        "\n",
        "my_list = [1, 5, 4, 6, 8, 11, 3, 12]\n",
        "\n",
        "new_list = list(filter(lambda x: (x%2 == 0) , my_list))\n",
        "\n",
        "print(new_list)"
      ],
      "metadata": {
        "colab": {
          "base_uri": "https://localhost:8080/"
        },
        "id": "rE26R2KOCSYX",
        "outputId": "84b45641-3208-4a19-9010-cdf620f2bd09"
      },
      "id": "rE26R2KOCSYX",
      "execution_count": null,
      "outputs": [
        {
          "output_type": "stream",
          "name": "stdout",
          "text": [
            "[4, 6, 8, 12]\n"
          ]
        }
      ]
    },
    {
      "cell_type": "markdown",
      "source": [
        "### Функция map()\n",
        "\n",
        "Функция `map()`, как и `filter()`, принимает в качестве аргументов итерируемый объект и другую функцию.\n",
        "\n",
        "Функция `map()` позволяет применить функцию к каждому элементу итерируемого объекта. После этого она возвращает новый список с преобразованными элементами."
      ],
      "metadata": {
        "id": "XD7q-xvaCXdW"
      },
      "id": "XD7q-xvaCXdW"
    },
    {
      "cell_type": "code",
      "source": [
        "# Программа, которая умножает каждое число в списке на 2\n",
        "\n",
        "my_list = [1, 5, 4, 6, 8, 11, 3, 12]\n",
        "\n",
        "new_list = list(map(lambda x: x * 2 , my_list))\n",
        "\n",
        "print(new_list)"
      ],
      "metadata": {
        "id": "jrhN7u6cCxHY",
        "outputId": "c14e0d2f-29d2-4548-babf-9fd000fb34bc",
        "colab": {
          "base_uri": "https://localhost:8080/"
        }
      },
      "id": "jrhN7u6cCxHY",
      "execution_count": null,
      "outputs": [
        {
          "output_type": "stream",
          "name": "stdout",
          "text": [
            "[2, 10, 8, 12, 16, 22, 6, 24]\n"
          ]
        }
      ]
    },
    {
      "cell_type": "markdown",
      "id": "a7c9f8e3-c320-41da-ae52-2547c1a7a477",
      "metadata": {
        "id": "a7c9f8e3-c320-41da-ae52-2547c1a7a477"
      },
      "source": [
        "### Функции как «черные ящики»\n",
        "\n",
        "Обычно все, что нам нужно знать о функции – это какие входные данные (аргументы) ей следует передавать и какое значение она возвращает. Нам необязательно знать, как написан ее код. При подобном высокоуровневом подходе любую функцию можно рассматривать как «черный ящик». Это фундаментальная концепция современного программирования. Далее мы с вами познакомимся с модулями и библиотеками, которые содержат функции, написанные другими программистами. Мы можем заглянуть в их исходный код, но для использования этих функций нам вовсе необязательно знать их внутреннюю структуру."
      ]
    },
    {
      "cell_type": "markdown",
      "id": "aefec3a4-b2b4-4940-87b2-14af214b0083",
      "metadata": {
        "id": "aefec3a4-b2b4-4940-87b2-14af214b0083"
      },
      "source": [
        "### Обработка исключений\n",
        "\n",
        "Возникновение ошибки в программе, или ***исключения***, означает крах, т.е. аварийное завершение. В реальных программах такого происходить не должно. Программа должна выявлять ошибки, обрабатывать их и продолжать работу.\n",
        "\n",
        "**Пример 5.** Рассмотрим программу, в которой возникает ошибка деления на 0."
      ]
    },
    {
      "cell_type": "code",
      "execution_count": null,
      "id": "7c37e301-be86-4231-adee-2a34f6849ac1",
      "metadata": {
        "id": "7c37e301-be86-4231-adee-2a34f6849ac1",
        "outputId": "09dbc68d-736c-4b0f-cb7f-e4dbd31e566d"
      },
      "outputs": [
        {
          "name": "stdout",
          "output_type": "stream",
          "text": [
            "8.0\n"
          ]
        }
      ],
      "source": [
        "def division(num, divBy):\n",
        "    return num / divBy\n",
        "\n",
        "print(division(40, 5))"
      ]
    },
    {
      "cell_type": "code",
      "execution_count": null,
      "id": "9b847281-fd09-43d8-b4f3-d139e085d6d2",
      "metadata": {
        "id": "9b847281-fd09-43d8-b4f3-d139e085d6d2",
        "outputId": "6fc06f4a-0ec5-446c-c250-ca2f723443ea"
      },
      "outputs": [
        {
          "ename": "ZeroDivisionError",
          "evalue": "division by zero",
          "output_type": "error",
          "traceback": [
            "\u001b[1;31m---------------------------------------------------------------------------\u001b[0m",
            "\u001b[1;31mZeroDivisionError\u001b[0m                         Traceback (most recent call last)",
            "Cell \u001b[1;32mIn[30], line 1\u001b[0m\n\u001b[1;32m----> 1\u001b[0m \u001b[38;5;28mprint\u001b[39m(\u001b[43mdivision\u001b[49m\u001b[43m(\u001b[49m\u001b[38;5;241;43m40\u001b[39;49m\u001b[43m,\u001b[49m\u001b[43m \u001b[49m\u001b[38;5;241;43m0\u001b[39;49m\u001b[43m)\u001b[49m)\n",
            "Cell \u001b[1;32mIn[29], line 2\u001b[0m, in \u001b[0;36mdivision\u001b[1;34m(num, divBy)\u001b[0m\n\u001b[0;32m      1\u001b[0m \u001b[38;5;28;01mdef\u001b[39;00m \u001b[38;5;21mdivision\u001b[39m(num, divBy):\n\u001b[1;32m----> 2\u001b[0m     \u001b[38;5;28;01mreturn\u001b[39;00m \u001b[43mnum\u001b[49m\u001b[43m \u001b[49m\u001b[38;5;241;43m/\u001b[39;49m\u001b[43m \u001b[49m\u001b[43mdivBy\u001b[49m\n",
            "\u001b[1;31mZeroDivisionError\u001b[0m: division by zero"
          ]
        }
      ],
      "source": [
        "print(division(40, 0))"
      ]
    },
    {
      "cell_type": "markdown",
      "id": "f0aba414-09f4-4c85-9b51-689d7d6a964e",
      "metadata": {
        "id": "f0aba414-09f4-4c85-9b51-689d7d6a964e"
      },
      "source": [
        "Исключение ZeroDivisionError возникает при попытке деления на 0.\n",
        "\n",
        "Ошибки можно обрабатывать с помощью инструкций try и except. Если в определенном фрагменте программы потенциально может возникнуть ошибка, следует поместить этот код в блок try. В случае возникновения ошибки выполнение передается в начало блока except.\n",
        "\n",
        "Попробуем поместить строку с делением в блок try и обработать соответствующее исключение в блоке except:"
      ]
    },
    {
      "cell_type": "code",
      "source": [
        "def division(num, divBy):\n",
        "    try:\n",
        "        return num / divBy\n",
        "    except ZeroDivisionError:\n",
        "        print('Ошибка: На 0 делить нельзя!')\n",
        "\n",
        "print(division(40, 5))"
      ],
      "metadata": {
        "colab": {
          "base_uri": "https://localhost:8080/"
        },
        "id": "RIg7qlu8WWCe",
        "outputId": "7b77dcc6-43af-4538-ee6e-d0d5b40970a3"
      },
      "id": "RIg7qlu8WWCe",
      "execution_count": null,
      "outputs": [
        {
          "output_type": "stream",
          "name": "stdout",
          "text": [
            "8.0\n"
          ]
        }
      ]
    },
    {
      "cell_type": "code",
      "execution_count": null,
      "id": "c500f62f-d6c2-4c16-8e9d-422a5a278be9",
      "metadata": {
        "id": "c500f62f-d6c2-4c16-8e9d-422a5a278be9",
        "outputId": "d84f4628-ee70-465f-82bd-ab535a6032e4"
      },
      "outputs": [
        {
          "name": "stdout",
          "output_type": "stream",
          "text": [
            "Ошибка: На 0 делить нельзя!\n",
            "None\n"
          ]
        }
      ],
      "source": [
        "print(division(40, 0))"
      ]
    },
    {
      "cell_type": "markdown",
      "id": "13e36882-7570-4a01-afc2-6274e4df9052",
      "metadata": {
        "id": "13e36882-7570-4a01-afc2-6274e4df9052"
      },
      "source": [
        "Когда в коде, заключенном в блок try, возникает ошибка, программа немедленно переходит в блок except. После завершения этого блока программа продолжает выполняться как обычно."
      ]
    },
    {
      "cell_type": "markdown",
      "id": "76ff4e60-7f2d-4e63-a68a-42a908eb90e5",
      "metadata": {
        "id": "76ff4e60-7f2d-4e63-a68a-42a908eb90e5"
      },
      "source": [
        "## Подведем итог"
      ]
    },
    {
      "cell_type": "markdown",
      "id": "7cb760ab-9396-475d-8c6c-300d39e5406b",
      "metadata": {
        "id": "7cb760ab-9396-475d-8c6c-300d39e5406b"
      },
      "source": [
        "Функции – основной способ структурирования кода на логические блоки. Поскольку переменные в функциях существуют в собственных локальных областях видимости, код одной функции не может непосредственно воздействовать на переменные другой функции. Эти ограничения, накладываемые на возможность изменения переменных, могут оказаться полезными при отладке кода."
      ]
    },
    {
      "cell_type": "markdown",
      "id": "da9eb22f-c58c-4d7a-b9b6-8767cb0ddf42",
      "metadata": {
        "id": "da9eb22f-c58c-4d7a-b9b6-8767cb0ddf42"
      },
      "source": [
        "# Модули\n",
        "\n",
        "Модуль в языке Python представляет отдельный файл с кодом, который можно повторно использовать в других программах."
      ]
    },
    {
      "cell_type": "markdown",
      "id": "5c11d560-a8d2-4c9b-b9b6-08d00c11d5df",
      "metadata": {
        "id": "5c11d560-a8d2-4c9b-b9b6-08d00c11d5df"
      },
      "source": [
        "## Модуль random"
      ]
    },
    {
      "cell_type": "markdown",
      "id": "2a205263-4339-4909-b625-4410d115efb3",
      "metadata": {
        "id": "2a205263-4339-4909-b625-4410d115efb3"
      },
      "source": [
        "Модуль `random` управляет генерацией случайных чисел.\n",
        "\n",
        "Случайные числа широко используются в различных задачах программирования:\n",
        "* случайные числа используются в играх. Например, компьютерным играм, которые позволяют игроку подбрасывать игральный кубик, нужны случайные числа для представления значений кубика;\n",
        "* случайные числа применяются в программах имитационного моделирования. В некоторых симуляциях компьютер должен случайным образом решить, как будет вести себя человек, животное, насекомое или другое живое существо. Нередко конструируются формулы, где случайное число используется для определения различных вариантов действий и событий, происходящих в программе;\n",
        "* случайные числа распространены в статистических программах, случайным образом отбирающих данные для анализа;\n",
        "* случайные числа используются в компьютерной безопасности для шифрования уязвимых данных.\n",
        "\n",
        "Python предлагает встроенные функции для работы со случайными числами. Эти функции хранятся в **модуле random** в стандартной библиотеке."
      ]
    },
    {
      "cell_type": "markdown",
      "id": "84237ee3-fcf1-4940-af69-6a02c76bafbd",
      "metadata": {
        "id": "84237ee3-fcf1-4940-af69-6a02c76bafbd"
      },
      "source": [
        "Модуль random предоставляет функции для генерации случайных чисел, букв и случайного выбора элементов последовательности (списка, строки и т.д.).\n",
        "\n",
        "Для использования этих функций в начале программы необходимо подключить модуль, что делается командой import:\n",
        "```\n",
        "import random\n",
        "```\n",
        "После подключения модуля мы можем использовать его функции."
      ]
    },
    {
      "cell_type": "markdown",
      "id": "aec70fad-14f5-4a00-a8b3-a1774ca6343b",
      "metadata": {
        "id": "aec70fad-14f5-4a00-a8b3-a1774ca6343b"
      },
      "source": [
        "### Функция randint()\n",
        "\n",
        "Функция `randint()` принимает два обязательных аргумента a и b и возвращает случайное целое число из отрезка [a; b].\n",
        "\n",
        "Следующий код выводит два случайных целых числа: num1 из отрезка [0; 17] и num2 из отрезка [-5; 5]."
      ]
    },
    {
      "cell_type": "code",
      "execution_count": null,
      "id": "4a61384a-acc6-4fcb-b23c-b7e93db4e497",
      "metadata": {
        "id": "4a61384a-acc6-4fcb-b23c-b7e93db4e497",
        "outputId": "e68cc406-f902-43b4-e356-e6a2f3e77a00"
      },
      "outputs": [
        {
          "data": {
            "text/plain": [
              "(15, -5)"
            ]
          },
          "execution_count": 38,
          "metadata": {},
          "output_type": "execute_result"
        }
      ],
      "source": [
        "import random\n",
        "\n",
        "num1 = random.randint(0, 17)\n",
        "num2 = random.randint(-5, 5)\n",
        "\n",
        "num1, num2"
      ]
    },
    {
      "cell_type": "markdown",
      "id": "352e97d9-342a-42ca-820b-43b5dca4836e",
      "metadata": {
        "id": "352e97d9-342a-42ca-820b-43b5dca4836e"
      },
      "source": [
        "**Важно:** левая и правая граница a и b включаются в диапазон генерируемых случайных чисел. Результатом вызова функции `random.randint(2, 9)` может быть любое число от 2 до 9 включительно."
      ]
    },
    {
      "cell_type": "markdown",
      "id": "fbc21ddd-1ac0-4ec0-8b20-0e323066f2c6",
      "metadata": {
        "id": "fbc21ddd-1ac0-4ec0-8b20-0e323066f2c6"
      },
      "source": [
        "Следующий код выводит 10 случайных целых чисел из диапазона [1; 100].\n",
        "Среди этих чисел возможны повторения, поскольку каждый раз выбирается случайное."
      ]
    },
    {
      "cell_type": "code",
      "execution_count": null,
      "id": "ec96591e-ae4b-45d7-993b-6d194c8ab068",
      "metadata": {
        "id": "ec96591e-ae4b-45d7-993b-6d194c8ab068",
        "outputId": "797b5a60-b718-4876-d905-25d836ed0c6a"
      },
      "outputs": [
        {
          "name": "stdout",
          "output_type": "stream",
          "text": [
            "21\n",
            "37\n",
            "85\n",
            "72\n",
            "91\n",
            "90\n",
            "81\n",
            "80\n",
            "15\n",
            "69\n"
          ]
        }
      ],
      "source": [
        "import random\n",
        "\n",
        "for _ in range(10):\n",
        "    print(random.randint(1, 100))"
      ]
    },
    {
      "cell_type": "markdown",
      "id": "a3b9b8f1-eed1-4bf1-aa4e-814770987ac8",
      "metadata": {
        "id": "a3b9b8f1-eed1-4bf1-aa4e-814770987ac8"
      },
      "source": [
        "### Функция randrange()\n",
        "\n",
        "Функция `randrange()` принимает такие же аргументы, что и функция `range()`. Различие состоит в том, что функция `randrange()` не возвращает саму последовательность чисел. Вместо этого она возвращает случайно выбранное число из последовательности чисел."
      ]
    },
    {
      "cell_type": "markdown",
      "id": "23113162-c81e-4ae1-a4f4-8c484b6b7860",
      "metadata": {
        "id": "23113162-c81e-4ae1-a4f4-8c484b6b7860"
      },
      "source": [
        "Следующий код присваивает переменной num случайное число в диапазоне от 0 до 9. Аргумент 10 задает конечный предел последовательности значений. Функция возвратит случайно выбранное число из последовательности чисел от 0 до конечного предела, исключая сам предел."
      ]
    },
    {
      "cell_type": "code",
      "execution_count": null,
      "id": "7e80dd11-fb3d-48f5-aa53-ae6a28b99a1d",
      "metadata": {
        "id": "7e80dd11-fb3d-48f5-aa53-ae6a28b99a1d",
        "outputId": "2e40c579-2688-4400-9d65-05915e75f846"
      },
      "outputs": [
        {
          "data": {
            "text/plain": [
              "8"
            ]
          },
          "execution_count": 41,
          "metadata": {},
          "output_type": "execute_result"
        }
      ],
      "source": [
        "import random\n",
        "\n",
        "num = random.randrange(10)\n",
        "num"
      ]
    },
    {
      "cell_type": "markdown",
      "id": "4edaabf4-e62c-48d1-b43e-fb537ba43229",
      "metadata": {
        "id": "4edaabf4-e62c-48d1-b43e-fb537ba43229"
      },
      "source": [
        "Следующий код задает начальное значение и конечный предел последовательности. Таким образом в переменной num будет храниться случайное число в диапазоне от 5 до 9."
      ]
    },
    {
      "cell_type": "code",
      "execution_count": null,
      "id": "5c2d6a9f-6e94-4147-abd8-2d2468e87d94",
      "metadata": {
        "id": "5c2d6a9f-6e94-4147-abd8-2d2468e87d94",
        "outputId": "54c6ada0-19ae-451b-ae99-d1242cb09737"
      },
      "outputs": [
        {
          "data": {
            "text/plain": [
              "7"
            ]
          },
          "execution_count": 42,
          "metadata": {},
          "output_type": "execute_result"
        }
      ],
      "source": [
        "import random\n",
        "\n",
        "num = random.randrange(5, 10)\n",
        "num"
      ]
    },
    {
      "cell_type": "markdown",
      "id": "d3418bc9-17f7-43ee-94cd-fbbfc62d50cd",
      "metadata": {
        "id": "d3418bc9-17f7-43ee-94cd-fbbfc62d50cd"
      },
      "source": [
        "Следующий код задает начальное значение, конечный предел и величину шага. Таким образом в переменной num будет храниться случайное число из последовательности чисел: 0, 10, 20, 30, 40, 50, 60, 70, 80, 90, 100."
      ]
    },
    {
      "cell_type": "code",
      "execution_count": null,
      "id": "33d45d9d-165c-4eb8-b38c-a291555e4f4c",
      "metadata": {
        "id": "33d45d9d-165c-4eb8-b38c-a291555e4f4c",
        "outputId": "9c008621-d46e-45c8-c07f-82c13285e776"
      },
      "outputs": [
        {
          "data": {
            "text/plain": [
              "90"
            ]
          },
          "execution_count": 43,
          "metadata": {},
          "output_type": "execute_result"
        }
      ],
      "source": [
        "import random\n",
        "\n",
        "num = random.randrange(0, 101, 10)\n",
        "num"
      ]
    },
    {
      "cell_type": "markdown",
      "id": "cf9de26f-bbb4-4acf-8bfa-037d7abc9f4f",
      "metadata": {
        "id": "cf9de26f-bbb4-4acf-8bfa-037d7abc9f4f"
      },
      "source": [
        "### Функция random()\n",
        "\n",
        "Функции `randint()` и `randrange()` возвращают случайное целое число. А вот функция `random()` возвращает случайное число с плавающей точкой (вещественное число). В функцию random() никаких аргументов не передается. Функция random() возвращает случайное число с плавающей точкой в диапазоне от 0.0 до 1.0 (исключая 1.0).\n",
        "\n",
        "Следующий код выводит случайное число с плавающей точкой из диапазона [0.0; 1.0):"
      ]
    },
    {
      "cell_type": "code",
      "execution_count": null,
      "id": "35091f2a-8552-4a4f-af38-a3b98a5c17e5",
      "metadata": {
        "id": "35091f2a-8552-4a4f-af38-a3b98a5c17e5",
        "outputId": "f9e64237-7007-4ef1-aec7-8bd1f5bce04b"
      },
      "outputs": [
        {
          "data": {
            "text/plain": [
              "0.8363203557323577"
            ]
          },
          "execution_count": 44,
          "metadata": {},
          "output_type": "execute_result"
        }
      ],
      "source": [
        "import random\n",
        "\n",
        "num = random.random()\n",
        "num"
      ]
    },
    {
      "cell_type": "markdown",
      "id": "1aa54c1e-9952-4516-9e9f-4cfd4089dff7",
      "metadata": {
        "id": "1aa54c1e-9952-4516-9e9f-4cfd4089dff7"
      },
      "source": [
        "### Функция uniform()\n",
        "\n",
        "Функция `uniform()` тоже возвращает случайное число с плавающей точкой, но при этом она позволяет задавать диапазон для отбора значений.\n",
        "\n",
        "Следующий код выводит случайное число с плавающей точкой из диапазона [1.5; 17.3]:"
      ]
    },
    {
      "cell_type": "code",
      "execution_count": null,
      "id": "ab00f07e-acdd-4421-a012-ef706089868c",
      "metadata": {
        "id": "ab00f07e-acdd-4421-a012-ef706089868c",
        "outputId": "4938e0af-1523-4e97-c30b-710eebbebe8e"
      },
      "outputs": [
        {
          "data": {
            "text/plain": [
              "6.956726763516863"
            ]
          },
          "execution_count": 45,
          "metadata": {},
          "output_type": "execute_result"
        }
      ],
      "source": [
        "import random\n",
        "\n",
        "num = random.uniform(1.5, 17.3)\n",
        "num"
      ]
    },
    {
      "cell_type": "markdown",
      "id": "3855ddc5-f4a5-4dce-b01c-fe9cbc56edb6",
      "metadata": {
        "id": "3855ddc5-f4a5-4dce-b01c-fe9cbc56edb6"
      },
      "source": [
        "### Начальные значения случайного числа\n",
        "\n",
        "Числа, генерируемые функциями модуля random, не являются подлинно случайными. Несмотря на то, что обычно их называют случайными числами, это псевдослучайные числа, вычисляемые на основе формулы. Формула, генерирующая случайные числа, должна быть инициализирована начальным значением. Оно используется в вычислении, возвращающем следующее случайное число в ряду. Когда модуль random импортируется, он получает системное время из внутреннего генератора тактовых импульсов компьютера и использует его как начальное значение. Системное время - целое число, представляющее текущую дату и время вплоть до одной сотой секунды. Если бы всегда использовалось одно и то же начальное значение, функции генерации случайных чисел всегда  возвращали бы один и тот же ряд псевдослучайных чисел. Поскольку системное время меняется каждую сотую долю секунды, можно без опасений утверждать, что всякий раз, когда импортируется модуль random, будет сгенерирована отличающаяся от предыдущих последовательность случайных чисел.\n",
        "\n",
        "Вместе с тем, могут иметься некоторые программы, где требуется всегда генерировать одну и ту же последовательность случайных чисел. При необходимости для этого можно вызвать функцию `seed()`, задав начальное значение.\n",
        "\n",
        "Следующий код генерирует 10 случайных чисел, и при этом содержит инструкцию, явно устанавливающую начальное значение для генератора случайных чисел:"
      ]
    },
    {
      "cell_type": "code",
      "execution_count": null,
      "id": "c5b6600d-2889-46e4-86a0-657bd3f62261",
      "metadata": {
        "id": "c5b6600d-2889-46e4-86a0-657bd3f62261",
        "outputId": "634b2d84-a2d3-4977-bf22-2a8646a8f039"
      },
      "outputs": [
        {
          "name": "stdout",
          "output_type": "stream",
          "text": [
            "67\n",
            "54\n",
            "39\n",
            "47\n",
            "38\n",
            "23\n",
            "99\n",
            "91\n",
            "91\n",
            "70\n"
          ]
        }
      ],
      "source": [
        "import random\n",
        "\n",
        "random.seed(17)   # явно устанавливаем начальное значение для генератора случайных чисел\n",
        "\n",
        "for _ in range(10):\n",
        "    print(random.randint(1, 100))"
      ]
    },
    {
      "cell_type": "markdown",
      "id": "da00640d-1675-4b87-bdbe-7e59100ebff6",
      "metadata": {
        "id": "da00640d-1675-4b87-bdbe-7e59100ebff6"
      },
      "source": [
        "Если выполнить такой код еще раз, то мы получим ту же самую последовательность псевдослучайных чисел."
      ]
    },
    {
      "cell_type": "markdown",
      "id": "b927bd52-d635-4706-acc8-d6e80c7c1c60",
      "metadata": {
        "id": "b927bd52-d635-4706-acc8-d6e80c7c1c60"
      },
      "source": [
        "### Функция shuffle()\n",
        "\n",
        "Функция `shuffle()` принимает список в качестве обязательного аргумента и перемешивает его случайным образом.\n",
        "\n",
        "Следующий код перемешивает список numbers случайным образом, а затем выводит его содержимое:"
      ]
    },
    {
      "cell_type": "code",
      "execution_count": null,
      "id": "4cd5e27d-6363-46a6-a2d6-efead09e5780",
      "metadata": {
        "id": "4cd5e27d-6363-46a6-a2d6-efead09e5780",
        "outputId": "96730774-3c8e-40cf-ea58-38ddbc3273e4"
      },
      "outputs": [
        {
          "name": "stdout",
          "output_type": "stream",
          "text": [
            "[6, 8, 3, 4, 2, 7, 1, 5]\n"
          ]
        }
      ],
      "source": [
        "import random\n",
        "\n",
        "numbers = [1, 2, 3, 4, 5, 6, 7, 8]\n",
        "random.shuffle(numbers)\n",
        "print(numbers)"
      ]
    },
    {
      "cell_type": "markdown",
      "id": "f4130780-778f-4123-a0d3-8dd57f7718cb",
      "metadata": {
        "id": "f4130780-778f-4123-a0d3-8dd57f7718cb"
      },
      "source": [
        "### Функция choice()\n",
        "\n",
        "Функция `choice()` принимает список (строку) в качестве обязательного аргумента и возвращает один случайный элемент из переданного списка (строки).\n",
        "\n",
        "Следующий код выводит по одному случайному элементу из строки 'PYTHON' и списков [1, 2, 3, 4], ['a', 'b', 'c', 'd']:"
      ]
    },
    {
      "cell_type": "code",
      "execution_count": null,
      "id": "eabac444-aa44-4d5d-98f5-d68389899095",
      "metadata": {
        "id": "eabac444-aa44-4d5d-98f5-d68389899095",
        "outputId": "f919c539-9cd5-47e7-8a4c-b12bc76065f2"
      },
      "outputs": [
        {
          "name": "stdout",
          "output_type": "stream",
          "text": [
            "T\n",
            "3\n",
            "d\n"
          ]
        }
      ],
      "source": [
        "import random\n",
        "\n",
        "print(random.choice('PYTHON'))\n",
        "print(random.choice([1, 2, 3, 4]))\n",
        "print(random.choice(['a', 'b', 'c', 'd']))"
      ]
    },
    {
      "cell_type": "markdown",
      "id": "72db050f-21a4-46b2-8441-c206f9c4350f",
      "metadata": {
        "id": "72db050f-21a4-46b2-8441-c206f9c4350f"
      },
      "source": [
        "### Функция sample()\n",
        "\n",
        "Функция `sample()` принимает два обязательных аргумента: список (строку) и количество случайных элементов, а возвращает список случайных элементов в указанном количестве."
      ]
    },
    {
      "cell_type": "code",
      "execution_count": null,
      "id": "a1956b98-67df-403b-920f-815a67bc0fa1",
      "metadata": {
        "id": "a1956b98-67df-403b-920f-815a67bc0fa1",
        "outputId": "846f4323-6f88-40b9-c41b-89cb84ddfa92"
      },
      "outputs": [
        {
          "name": "stdout",
          "output_type": "stream",
          "text": [
            "[5]\n",
            "[12, 2]\n",
            "[5, 12, 2]\n",
            "[12, 5, 9, 2, 8]\n"
          ]
        }
      ],
      "source": [
        "import random\n",
        "\n",
        "numbers = [2, 5, 8, 9, 12]\n",
        "\n",
        "print(random.sample(numbers, 1))\n",
        "print(random.sample(numbers, 2))\n",
        "print(random.sample(numbers, 3))\n",
        "print(random.sample(numbers, 5))"
      ]
    },
    {
      "cell_type": "markdown",
      "id": "b82d9eb1-8495-4111-8132-dd83dba4c468",
      "metadata": {
        "id": "b82d9eb1-8495-4111-8132-dd83dba4c468"
      },
      "source": [
        "Количество случайных элементов не должно превышать длину начального списка (строки). Следующий код приведет к ошибке:"
      ]
    },
    {
      "cell_type": "code",
      "execution_count": null,
      "id": "5f3aa096-ca83-4f3f-88ff-6248158e93ef",
      "metadata": {
        "id": "5f3aa096-ca83-4f3f-88ff-6248158e93ef",
        "outputId": "614bfa2b-b16c-482b-f865-93551d8813ea"
      },
      "outputs": [
        {
          "ename": "ValueError",
          "evalue": "Sample larger than population or is negative",
          "output_type": "error",
          "traceback": [
            "\u001b[1;31m---------------------------------------------------------------------------\u001b[0m",
            "\u001b[1;31mValueError\u001b[0m                                Traceback (most recent call last)",
            "Cell \u001b[1;32mIn[51], line 5\u001b[0m\n\u001b[0;32m      1\u001b[0m \u001b[38;5;28;01mimport\u001b[39;00m \u001b[38;5;21;01mrandom\u001b[39;00m\n\u001b[0;32m      3\u001b[0m numbers \u001b[38;5;241m=\u001b[39m [\u001b[38;5;241m2\u001b[39m, \u001b[38;5;241m5\u001b[39m, \u001b[38;5;241m8\u001b[39m, \u001b[38;5;241m9\u001b[39m, \u001b[38;5;241m12\u001b[39m]\n\u001b[1;32m----> 5\u001b[0m \u001b[38;5;28mprint\u001b[39m(\u001b[43mrandom\u001b[49m\u001b[38;5;241;43m.\u001b[39;49m\u001b[43msample\u001b[49m\u001b[43m(\u001b[49m\u001b[43mnumbers\u001b[49m\u001b[43m,\u001b[49m\u001b[43m \u001b[49m\u001b[38;5;241;43m6\u001b[39;49m\u001b[43m)\u001b[49m)\n",
            "File \u001b[1;32m~\\AppData\\Local\\Programs\\Python\\Python311\\Lib\\random.py:453\u001b[0m, in \u001b[0;36mRandom.sample\u001b[1;34m(self, population, k, counts)\u001b[0m\n\u001b[0;32m    451\u001b[0m randbelow \u001b[38;5;241m=\u001b[39m \u001b[38;5;28mself\u001b[39m\u001b[38;5;241m.\u001b[39m_randbelow\n\u001b[0;32m    452\u001b[0m \u001b[38;5;28;01mif\u001b[39;00m \u001b[38;5;129;01mnot\u001b[39;00m \u001b[38;5;241m0\u001b[39m \u001b[38;5;241m<\u001b[39m\u001b[38;5;241m=\u001b[39m k \u001b[38;5;241m<\u001b[39m\u001b[38;5;241m=\u001b[39m n:\n\u001b[1;32m--> 453\u001b[0m     \u001b[38;5;28;01mraise\u001b[39;00m \u001b[38;5;167;01mValueError\u001b[39;00m(\u001b[38;5;124m\"\u001b[39m\u001b[38;5;124mSample larger than population or is negative\u001b[39m\u001b[38;5;124m\"\u001b[39m)\n\u001b[0;32m    454\u001b[0m result \u001b[38;5;241m=\u001b[39m [\u001b[38;5;28;01mNone\u001b[39;00m] \u001b[38;5;241m*\u001b[39m k\n\u001b[0;32m    455\u001b[0m setsize \u001b[38;5;241m=\u001b[39m \u001b[38;5;241m21\u001b[39m        \u001b[38;5;66;03m# size of a small set minus size of an empty list\u001b[39;00m\n",
            "\u001b[1;31mValueError\u001b[0m: Sample larger than population or is negative"
          ]
        }
      ],
      "source": [
        "import random\n",
        "\n",
        "numbers = [2, 5, 8, 9, 12]\n",
        "\n",
        "print(random.sample(numbers, 6))"
      ]
    },
    {
      "cell_type": "markdown",
      "id": "cf4dc568-b22f-4422-a9f0-03b031eb377a",
      "metadata": {
        "id": "cf4dc568-b22f-4422-a9f0-03b031eb377a"
      },
      "source": [
        "## Модуль math"
      ]
    },
    {
      "cell_type": "markdown",
      "id": "cf982e69-e50c-44bd-910b-8cfa014a0a25",
      "metadata": {
        "id": "cf982e69-e50c-44bd-910b-8cfa014a0a25"
      },
      "source": [
        "Встроенный модуль `math` в Python предоставляет набор функций для выполнения математических, тригонометрических и логарифмических операций. Некоторые из основных функций модуля:\n",
        "\n",
        "| Функция | Описание |\n",
        "|:-|:-|\n",
        "| **cos(rad)** | косинус угла в радианах |\n",
        "| **sin(rad)** | синус угла в радианах |\n",
        "| **tan(rad)** | тангенс угла в радианах |\n",
        "| **acos(rad)** | арккосинус угла в радианах |\n",
        "| **asin(rad)** | арксинус угла в радианах |\n",
        "| **atan(rad)** | арктангенс угла в радианах |\n",
        "| **log(n, base)** | логарифм числа n по основанию base |\n",
        "| **log10(n)** | десятичный логарифм числа n |"
      ]
    },
    {
      "cell_type": "code",
      "execution_count": null,
      "id": "e9137c08-23af-47e2-876a-c5a6386fdef0",
      "metadata": {
        "id": "e9137c08-23af-47e2-876a-c5a6386fdef0",
        "outputId": "fa0e877f-6d56-49f3-9f19-f8b8e6fb456b"
      },
      "outputs": [
        {
          "name": "stdout",
          "output_type": "stream",
          "text": [
            "Возведение числа 2 в степень 3: 8.0\n",
            "Или с помощью оператора **: 8\n",
            "Квадратный корень числа: 3.0\n",
            "Ближайшее наибольшее целое число: 5\n",
            "Ближайшее наименьшее целое число: 4\n",
            "Перевод из радиан в градусы: 179.9998479605043\n",
            "Перевод из градусов в радианы: 3.141592653589793\n",
            "Косинус: 0.5000000000000001\n",
            "Синус: 1.0\n",
            "Тангенс: 0.0\n",
            "Логарифм: 3.0\n",
            "Десятичный логарифм: 2.0\n"
          ]
        }
      ],
      "source": [
        "import math\n",
        "\n",
        "n1 = math.pow(2, 3)\n",
        "print('Возведение числа 2 в степень 3:', n1)\n",
        "\n",
        "# ту же самую операцию можно выполнить так\n",
        "n2 = 2**3\n",
        "print('Или с помощью оператора **:', n2)\n",
        "\n",
        "print('Квадратный корень числа:', math.sqrt(9))\n",
        "\n",
        "print('Ближайшее наибольшее целое число:', math.ceil(4.56))\n",
        "\n",
        "print('Ближайшее наименьшее целое число:', math.floor(4.56))\n",
        "\n",
        "print('Перевод из радиан в градусы:', math.degrees(3.14159))\n",
        "\n",
        "print('Перевод из градусов в радианы:', math.radians(180))\n",
        "\n",
        "print('Косинус:', math.cos(math.radians(60)))\n",
        "\n",
        "print('Синус:', math.sin(math.radians(90)))\n",
        "\n",
        "print('Тангенс:', math.tan(math.radians(0)))\n",
        "\n",
        "print('Логарифм:', math.log(8,2))\n",
        "\n",
        "print('Десятичный логарифм:', math.log10(100))"
      ]
    },
    {
      "cell_type": "markdown",
      "id": "0251cd93-f86a-4239-9f0d-ddebd6d1cc0a",
      "metadata": {
        "id": "0251cd93-f86a-4239-9f0d-ddebd6d1cc0a"
      },
      "source": [
        "Также модуль `math` предоставляет ряд встроенных констант, такие как PI и E:"
      ]
    },
    {
      "cell_type": "code",
      "execution_count": null,
      "id": "ba87b65b-a0f3-430f-97b9-9530507726d2",
      "metadata": {
        "id": "ba87b65b-a0f3-430f-97b9-9530507726d2",
        "outputId": "bfa6b402-3bdb-4120-d35f-425224cc1442"
      },
      "outputs": [
        {
          "name": "stdout",
          "output_type": "stream",
          "text": [
            "2827.4333882308138\n",
            "2.302585092994046\n"
          ]
        }
      ],
      "source": [
        "import math\n",
        "radius = 30\n",
        "# площадь круга с радиусом 30\n",
        "area = math.pi * math.pow(radius, 2)\n",
        "print(area)\n",
        "\n",
        "# натуральный логарифм числа 10\n",
        "number = math.log(10, math.e)\n",
        "print(number)"
      ]
    },
    {
      "cell_type": "markdown",
      "id": "cfddcd6c-e01b-4a8b-bc42-f72cfc1d7570",
      "metadata": {
        "id": "cfddcd6c-e01b-4a8b-bc42-f72cfc1d7570"
      },
      "source": [
        "## Модуль datetime"
      ]
    },
    {
      "cell_type": "markdown",
      "id": "d27a3e0b-85d1-4350-b7a3-e95a8b36631a",
      "metadata": {
        "id": "d27a3e0b-85d1-4350-b7a3-e95a8b36631a"
      },
      "source": [
        "Модуль datetime предоставляет классы для обработки времени и даты разными способами. Состоит из объектов следующих типов:\n",
        "* `date` — хранит дату,\n",
        "* `time` — хранит время,\n",
        "* `datetime` — хранит дату и время."
      ]
    },
    {
      "cell_type": "markdown",
      "id": "cd73d205-6f86-41b5-8d90-ff09c89eebd5",
      "metadata": {
        "id": "cd73d205-6f86-41b5-8d90-ff09c89eebd5"
      },
      "source": [
        "### Класс date"
      ]
    },
    {
      "cell_type": "markdown",
      "id": "51985d38-9eee-46a3-9735-3e49b3fa7751",
      "metadata": {
        "id": "51985d38-9eee-46a3-9735-3e49b3fa7751"
      },
      "source": [
        "Для работы с датами воспользуемся классом `date`, который определен в модуле `datetime`. Для создания объекта `date` мы можем использовать конструктор `date`, который последовательно принимает три параметра: год, месяц и день.\n",
        "\n",
        "```\n",
        "date(year, month, day)\n",
        "```\n",
        "\n",
        "Например, создадим какую-либо дату:"
      ]
    },
    {
      "cell_type": "code",
      "execution_count": null,
      "id": "0e609996-72c7-4d17-937e-8c5900b21ca3",
      "metadata": {
        "id": "0e609996-72c7-4d17-937e-8c5900b21ca3",
        "outputId": "779715a3-201f-41a6-a559-2ed19a24ab09"
      },
      "outputs": [
        {
          "name": "stdout",
          "output_type": "stream",
          "text": [
            "2023-09-19\n"
          ]
        }
      ],
      "source": [
        "import datetime\n",
        "\n",
        "yesterday = datetime.date(2023, 9, 19)\n",
        "print(yesterday)"
      ]
    },
    {
      "cell_type": "markdown",
      "id": "b58def8b-6ae9-418c-ac97-0a46a38f1bf4",
      "metadata": {
        "id": "b58def8b-6ae9-418c-ac97-0a46a38f1bf4"
      },
      "source": [
        "Если необходимо получить текущую дату, то можно воспользоваться методом `today()`:"
      ]
    },
    {
      "cell_type": "code",
      "execution_count": null,
      "id": "6bc995df-6fd3-4abe-8e03-1e26596bca28",
      "metadata": {
        "id": "6bc995df-6fd3-4abe-8e03-1e26596bca28",
        "outputId": "e514638d-eb02-4f96-d13f-a988f8d0499c"
      },
      "outputs": [
        {
          "name": "stdout",
          "output_type": "stream",
          "text": [
            "2023-09-20\n",
            "20.9.2023\n"
          ]
        }
      ],
      "source": [
        "from datetime import date\n",
        "\n",
        "today = date.today()\n",
        "print(today)\n",
        "print(\"{}.{}.{}\".format(today.day, today.month, today.year))"
      ]
    },
    {
      "cell_type": "markdown",
      "id": "941e2c75-fe30-484e-805f-ffd8ae908e5f",
      "metadata": {
        "id": "941e2c75-fe30-484e-805f-ffd8ae908e5f"
      },
      "source": [
        "С помощью свойств `day`, `month`, `year` можно получить соответственно день, месяц и год."
      ]
    },
    {
      "cell_type": "markdown",
      "id": "c5ba1b79-da63-4d24-9113-7daecb231783",
      "metadata": {
        "id": "c5ba1b79-da63-4d24-9113-7daecb231783"
      },
      "source": [
        "### Класс time\n",
        "\n",
        "За работу с временем отвечает класс `time`. Используя его конструктор, можно создать объект времени:\n",
        "```\n",
        "time([hour] [, min] [, sec] [, microsec])\n",
        "```\n",
        "Конструктор последовательно принимает часы, минуты, секунды и микросекунды. Все параметры необязательные, и если мы какой-то параметр не передадим, то соответствующее значение будет инициализироваться нулем."
      ]
    },
    {
      "cell_type": "code",
      "execution_count": null,
      "id": "8e947ac0-a973-4bcd-b64f-964c56fd4f50",
      "metadata": {
        "id": "8e947ac0-a973-4bcd-b64f-964c56fd4f50",
        "outputId": "c5e9f538-f9fd-4a30-9a94-8b6a88b709ff"
      },
      "outputs": [
        {
          "name": "stdout",
          "output_type": "stream",
          "text": [
            "00:00:00\n",
            "16:25:00\n",
            "16:25:45\n"
          ]
        }
      ],
      "source": [
        "from datetime import time\n",
        "\n",
        "current_time = time()\n",
        "print(current_time)     # 00:00:00\n",
        "\n",
        "current_time = time(16, 25)\n",
        "print(current_time)     # 16:25:00\n",
        "\n",
        "current_time = time(16, 25, 45)\n",
        "print(current_time)     # 16:25:45"
      ]
    },
    {
      "cell_type": "markdown",
      "id": "32d2836c-f129-4369-acbf-4812da9e1a0e",
      "metadata": {
        "id": "32d2836c-f129-4369-acbf-4812da9e1a0e"
      },
      "source": [
        "### Класс datetime\n",
        "\n",
        "Класс `datetime` из одноименного модуля объединяет возможности работы с датой и временем. Для создания объекта `datetime` можно использовать следующий конструктор:\n",
        "\n",
        "```\n",
        "datetime(year, month, day [, hour] [, min] [, sec] [, microsec])\n",
        "```\n",
        "\n",
        "Первые три параметра, представляющие год, месяц и день, являются **обязательными**. Остальные необязательные, и если мы не укажем для них значения, то по умолчанию они инициализируются нулем."
      ]
    },
    {
      "cell_type": "code",
      "execution_count": null,
      "id": "d2d6498d-53db-47a8-a5a7-20c3cdf29065",
      "metadata": {
        "id": "d2d6498d-53db-47a8-a5a7-20c3cdf29065",
        "outputId": "0af99de3-88fd-4cc6-c3d0-7bf6ce05ed34"
      },
      "outputs": [
        {
          "name": "stdout",
          "output_type": "stream",
          "text": [
            "2017-05-10 00:00:00\n",
            "2017-05-10 04:30:00\n"
          ]
        }
      ],
      "source": [
        "from datetime import datetime\n",
        "\n",
        "deadline = datetime(2017, 5, 10)\n",
        "print(deadline)     # 2017-05-10 00:00:00\n",
        "\n",
        "deadline = datetime(2017, 5, 10, 4, 30)\n",
        "print(deadline)     # 2017-05-10 04:30:00"
      ]
    },
    {
      "cell_type": "markdown",
      "id": "33d17b85-bc96-418a-a28d-2cdf6557832a",
      "metadata": {
        "id": "33d17b85-bc96-418a-a28d-2cdf6557832a"
      },
      "source": [
        "Для получения текущих даты и времени можно вызвать метод `now()`:"
      ]
    },
    {
      "cell_type": "code",
      "execution_count": null,
      "id": "0d0ee8fe-c04e-46a3-92fe-72c46223c06b",
      "metadata": {
        "id": "0d0ee8fe-c04e-46a3-92fe-72c46223c06b",
        "outputId": "a44985d9-a3f4-44fa-aa63-8fd9a44111a1"
      },
      "outputs": [
        {
          "name": "stdout",
          "output_type": "stream",
          "text": [
            "2023-09-20 11:07:48.649133\n",
            "20.9.2023  11:7\n",
            "2023-09-20\n",
            "11:07:48.649133\n"
          ]
        }
      ],
      "source": [
        "from datetime import datetime\n",
        "\n",
        "now = datetime.now()\n",
        "print(now)     # 2017-05-03 11:18:56.239443\n",
        "\n",
        "print(\"{}.{}.{}  {}:{}\".format(now.day, now.month, now.year, now.hour, now.minute))  # 3.5.2017  11:21\n",
        "\n",
        "print(now.date())\n",
        "print(now.time())"
      ]
    },
    {
      "cell_type": "markdown",
      "id": "8baecd8f-5c7b-4cad-a31b-44044adde07e",
      "metadata": {
        "id": "8baecd8f-5c7b-4cad-a31b-44044adde07e"
      },
      "source": [
        "С помощью свойств `day`, `month`, `year`, `hour`, `minute`, `second` можно получить отдельные значения даты и времени. А через методы `date()` и `time()` можно получить отдельно дату и время соответственно."
      ]
    },
    {
      "cell_type": "markdown",
      "id": "e98b271a-a980-45c3-8d44-b86bdf809cf7",
      "metadata": {
        "id": "e98b271a-a980-45c3-8d44-b86bdf809cf7"
      },
      "source": [
        "#### Преобразование из строки в дату\n",
        "\n",
        "Из функциональности класса datetime следует отметить метод `strptime()`, который позволяет распарсить строку и преобразовать ее в дату - объект `datetime`(Буква `'p'` в имени метода - от слова 'parse'). Этот метод принимает два параметра:\n",
        "\n",
        "```\n",
        "strptime(str, format)\n",
        "```\n",
        "\n",
        "**Первый параметр** `str` представляет строковое определение даты и времени, а **второй параметр** - формат, который определяет, как различные части даты и времени расположены в этой строке.\n",
        "\n",
        "Для определения формата мы можем использовать следующие коды:\n",
        "\n",
        "| Код | Описание |\n",
        "|:-|:-|\n",
        "| **%d** | день месяца в виде числа |\n",
        "| **%m** | порядковый номер месяца |\n",
        "| **%y** | год в виде 2-х чисел |\n",
        "| **%Y** | год в виде 4-х чисел |\n",
        "| **%H** | час в 24-х часовом формате |\n",
        "| **%M** | минута |\n",
        "| **%S** | секунда |"
      ]
    },
    {
      "cell_type": "code",
      "execution_count": null,
      "id": "7bab12cd-7909-42f4-99a7-0dfcee6bac10",
      "metadata": {
        "id": "7bab12cd-7909-42f4-99a7-0dfcee6bac10",
        "outputId": "1f660aef-a95f-4a0f-debe-68e7d97b1f35"
      },
      "outputs": [
        {
          "name": "stdout",
          "output_type": "stream",
          "text": [
            "2017-05-22 00:00:00\n",
            "2017-05-22 12:30:00\n",
            "2017-05-22 12:30:00\n"
          ]
        }
      ],
      "source": [
        "from datetime import datetime\n",
        "deadline = datetime.strptime(\"22/05/17\", \"%d/%m/%y\")\n",
        "print(deadline)     # 2017-05-22 00:00:00\n",
        "\n",
        "deadline = datetime.strptime(\"22/05/2017 12:30\", \"%d/%m/%Y %H:%M\")\n",
        "print(deadline)     # 2017-05-22 12:30:00\n",
        "\n",
        "deadline = datetime.strptime(\"05-22-2017 12:30\", \"%m-%d-%Y %H:%M\")\n",
        "print(deadline)     # 2017-05-22 12:30:00"
      ]
    },
    {
      "cell_type": "markdown",
      "id": "769857b4-b4cd-4b66-9b51-d2a08096a303",
      "metadata": {
        "id": "769857b4-b4cd-4b66-9b51-d2a08096a303"
      },
      "source": [
        "#### Фоматирование дат и времени\n",
        "\n",
        "Для представления объектов `date` и `time` **в виде отформатированной строки** в обоих этих классах предусмотрен метод `strftime(format)` (Буква `'f'` в имени метода - от слова 'format'). Этот метод принимает только один параметр, указывающий на формат, в который нужно преобразовать дату или время.\n",
        "\n",
        "Для определения формата мы можем использовать один из следующих кодов форматирования:\n",
        "\n",
        "| Код | Описание |\n",
        "|:-|:-|\n",
        "| **%a** | аббревиатура дня недели. Например, Wed - от слова Wednesday (по умолчанию используются английские наименования) |\n",
        "| **%A** | день недели полностью, например, Wednesday |\n",
        "| **%b** | аббревиатура названия месяца. Например, Oct (сокращение от October) |\n",
        "| **%B** | название месяца полностью, например, October |\n",
        "| **%d** | день месяца, дополненный нулем, например, 01 |\n",
        "| **%m** | номер месяца, дополненный нулем, например, 05 |\n",
        "| **%y** | год в виде 2-х чисел |\n",
        "| **%Y** | год в виде 4-х чисел |\n",
        "| **%H** | час в 24-х часовом формате, например, 13 |\n",
        "| **%I** | час в 12-ти часовом формате, например, 01 |\n",
        "| **%M** | минута |\n",
        "| **%S** | секунда |\n",
        "| **%f** | микросекунда |\n",
        "| **%p** | указатель AM/PM |\n",
        "| **%c** | дата и время, отформатированные под текущую локаль |\n",
        "| **%x** | дата, отформатированная под текущую локаль |\n",
        "| **%X** | время, форматированное под текущую локаль |"
      ]
    },
    {
      "cell_type": "code",
      "execution_count": null,
      "id": "8dd4120e-e4a5-4d48-a635-7301ab0b4911",
      "metadata": {
        "id": "8dd4120e-e4a5-4d48-a635-7301ab0b4911",
        "outputId": "c6691152-782e-467b-f391-8b02601b2132"
      },
      "outputs": [
        {
          "name": "stdout",
          "output_type": "stream",
          "text": [
            "2023-09-20\n",
            "20/09/2023\n",
            "20/09/23\n",
            "20 Сентябрь 2023 (среда)\n",
            "20/09/23 11:48\n",
            "20.09.2023 11:48:06\n"
          ]
        }
      ],
      "source": [
        "from datetime import datetime\n",
        "\n",
        "now = datetime.now()\n",
        "print(now.strftime(\"%Y-%m-%d\"))\n",
        "print(now.strftime(\"%d/%m/%Y\"))\n",
        "print(now.strftime(\"%d/%m/%y\"))\n",
        "print(now.strftime(\"%d %B %Y (%A)\"))\n",
        "print(now.strftime(\"%d/%m/%y %I:%M\"))\n",
        "print(now.strftime(\"%c\"))"
      ]
    },
    {
      "cell_type": "markdown",
      "id": "1cef19d0-3a41-4695-b836-bf30aa747a28",
      "metadata": {
        "id": "1cef19d0-3a41-4695-b836-bf30aa747a28"
      },
      "source": [
        "При выводе названий месяцев и дней недели по умолчанию используются английские наименования. Если мы хотим использовать текущую локаль, то мы можем ее предварительно установить с помощью модуля `locale`:"
      ]
    },
    {
      "cell_type": "code",
      "execution_count": null,
      "id": "f5d54c45-47bb-4181-85e5-dc8ebfb19c02",
      "metadata": {
        "id": "f5d54c45-47bb-4181-85e5-dc8ebfb19c02",
        "outputId": "9d8a4296-82e3-4bb1-e575-1ccad91067b3"
      },
      "outputs": [
        {
          "name": "stdout",
          "output_type": "stream",
          "text": [
            "20 Сентябрь 2023 (среда)\n"
          ]
        }
      ],
      "source": [
        "from datetime import datetime\n",
        "import locale\n",
        "locale.setlocale(locale.LC_ALL, \"\")\n",
        "\n",
        "now = datetime.now()\n",
        "print(now.strftime(\"%d %B %Y (%A)\"))"
      ]
    },
    {
      "cell_type": "markdown",
      "id": "07b8a1fd-b2bc-48a8-9165-6244d06db973",
      "metadata": {
        "id": "07b8a1fd-b2bc-48a8-9165-6244d06db973"
      },
      "source": [
        "#### Сложение и вычитание дат и времени\n",
        "\n",
        "Нередко при работе с датами возникает необходимость добавить к какой-либо дате определенный промежуток времени или, наоборот, вычесть некоторый период. И специально для таких операций в модуле `datetime` определен класс `timedelta`. Фактически этот класс определяет некоторый промежуток времени.\n",
        "\n",
        "Для определения промежутка времени можно использовать конструктор `timedelta`:\n",
        "\n",
        "```\n",
        "timedelta([days] [, seconds] [, microseconds] [, milliseconds] [, minutes] [, hours] [, weeks])\n",
        "```\n",
        "\n",
        "В конструктор мы последовательно передаем дни, секунды, микросекунды, миллисекунды, минуты, часы и недели.\n",
        "\n",
        "Определим несколько периодов:"
      ]
    },
    {
      "cell_type": "code",
      "execution_count": null,
      "id": "33a9eca5-962d-464b-ac5f-770f9bac61a1",
      "metadata": {
        "id": "33a9eca5-962d-464b-ac5f-770f9bac61a1",
        "outputId": "7aa8a537-385d-4393-ad44-b36fe6b7ac69"
      },
      "outputs": [
        {
          "name": "stdout",
          "output_type": "stream",
          "text": [
            "2 days, 3:30:00\n"
          ]
        }
      ],
      "source": [
        "from datetime import timedelta\n",
        "\n",
        "three_hours = timedelta(hours=3) # 3:00:00\n",
        "\n",
        "three_hours_thirty_minutes = timedelta(hours=3, minutes=30)  # 3:30:00\n",
        "\n",
        "two_days = timedelta(2)  # 2 days, 0:00:00\n",
        "\n",
        "two_days_three_hours_thirty_minutes = timedelta(days=2, hours=3, minutes=30)  # 2 days, 3:30:00\n",
        "print(two_days_three_hours_thirty_minutes)"
      ]
    },
    {
      "cell_type": "markdown",
      "id": "4392246b-8e26-4b53-8725-9d3bc2c5abd7",
      "metadata": {
        "id": "4392246b-8e26-4b53-8725-9d3bc2c5abd7"
      },
      "source": [
        "Используя `timedelta`, мы можем складывать или вычитать даты. Например, получим дату, которая будет через два дня:"
      ]
    },
    {
      "cell_type": "code",
      "execution_count": null,
      "id": "6843f9b6-580f-41f7-a5ac-9ed8d8e34518",
      "metadata": {
        "id": "6843f9b6-580f-41f7-a5ac-9ed8d8e34518",
        "outputId": "5974f77e-954a-4575-891f-1a279052c717"
      },
      "outputs": [
        {
          "name": "stdout",
          "output_type": "stream",
          "text": [
            "2023-09-20 11:51:56.922896\n",
            "2023-09-22 11:51:56.922896\n"
          ]
        }
      ],
      "source": [
        "from datetime import timedelta, datetime\n",
        "\n",
        "now = datetime.now()\n",
        "print(now)\n",
        "two_days = timedelta(2)\n",
        "in_two_days = now + two_days\n",
        "print(in_two_days)"
      ]
    },
    {
      "cell_type": "markdown",
      "id": "404db24c-d2f2-4e61-9095-99a0bbd70c96",
      "metadata": {
        "id": "404db24c-d2f2-4e61-9095-99a0bbd70c96"
      },
      "source": [
        "Или узнаем, сколько было времени 10 часов 15 минут назад, то есть фактически нам надо вычесть из текущего времени 10 часов и 15 минут:"
      ]
    },
    {
      "cell_type": "code",
      "execution_count": null,
      "id": "e8bcc2ca-68df-4907-95b8-e522c3f4e5c3",
      "metadata": {
        "id": "e8bcc2ca-68df-4907-95b8-e522c3f4e5c3",
        "outputId": "0d61c300-e9f2-4bb2-f8fa-b9b6945dc589"
      },
      "outputs": [
        {
          "name": "stdout",
          "output_type": "stream",
          "text": [
            "2023-09-20 01:37:41.716575\n"
          ]
        }
      ],
      "source": [
        "from datetime import timedelta, datetime\n",
        "\n",
        "now = datetime.now()\n",
        "till_ten_hours_fifteen_minutes = now - timedelta(hours=10, minutes=15)\n",
        "print(till_ten_hours_fifteen_minutes)"
      ]
    },
    {
      "cell_type": "markdown",
      "id": "ccb8ca66-2dff-4548-80a0-0ffa84c8cde7",
      "metadata": {
        "id": "ccb8ca66-2dff-4548-80a0-0ffa84c8cde7"
      },
      "source": [
        "### Свойства timedelta\n",
        "\n",
        "Класс `timedelta` имеет несколько свойств, с помощью которых мы можем получить временной промежуток:\n",
        "\n",
        "* `days`: возвращает количество дней\n",
        "* `seconds`: возвращает количество секунд\n",
        "* `microseconds`: возвращает количество микросекунд\n",
        "\n",
        "Кроме того, метод `total_seconds()` возвращает общее количество секунд, куда входят и дни, и собственно секунды, и микросекунды.\n",
        "\n",
        "Например, узнаем какой временной период между двумя датами:"
      ]
    },
    {
      "cell_type": "code",
      "execution_count": null,
      "id": "04b0c6df-a758-4271-9aa9-5fbff751201e",
      "metadata": {
        "id": "04b0c6df-a758-4271-9aa9-5fbff751201e",
        "outputId": "dbe2d531-95da-46c1-bb7d-463c99cf1eef"
      },
      "outputs": [
        {
          "name": "stdout",
          "output_type": "stream",
          "text": [
            "1 дней  43455 секунд   265648 микросекунд\n",
            "Всего: 129855.265648 секунд\n"
          ]
        }
      ],
      "source": [
        "from datetime import timedelta, datetime\n",
        "\n",
        "now = datetime.now()\n",
        "twenty_two_september = datetime(2023, 9, 22)\n",
        "period = twenty_two_september - now\n",
        "print(\"{} дней  {} секунд   {} микросекунд\".format(period.days, period.seconds, period.microseconds))\n",
        "\n",
        "print(\"Всего: {} секунд\".format(period.total_seconds()))"
      ]
    },
    {
      "cell_type": "markdown",
      "id": "fb4812ce-8505-41c3-b417-ccb30d67e73f",
      "metadata": {
        "id": "fb4812ce-8505-41c3-b417-ccb30d67e73f"
      },
      "source": [
        "#### Сравнение дат\n",
        "\n",
        "Также как и строки и числа, даты можно сравнивать с помощью стандартных операторов сравнения:"
      ]
    },
    {
      "cell_type": "code",
      "execution_count": null,
      "id": "221d342a-bb93-4539-8cda-bad08aad10a8",
      "metadata": {
        "id": "221d342a-bb93-4539-8cda-bad08aad10a8",
        "outputId": "75f21300-1b8c-4da0-d5e2-a147f83f9191"
      },
      "outputs": [
        {
          "name": "stdout",
          "output_type": "stream",
          "text": [
            "True\n",
            "False\n"
          ]
        }
      ],
      "source": [
        "from datetime import datetime\n",
        "\n",
        "date1 = datetime(2023, 8, 8)\n",
        "date2 = datetime(2023, 9, 20)\n",
        "\n",
        "print(date2 > date1)\n",
        "print(date1 == date2)"
      ]
    },
    {
      "cell_type": "markdown",
      "id": "7371e33c-35d0-4cad-88ab-c809a826f099",
      "metadata": {
        "id": "7371e33c-35d0-4cad-88ab-c809a826f099"
      },
      "source": [
        "**Пример 6.** Напишем программу определения срока сдачи работы."
      ]
    },
    {
      "cell_type": "code",
      "execution_count": null,
      "id": "d56cd2a6-6f85-4805-912a-7da35de53983",
      "metadata": {
        "id": "d56cd2a6-6f85-4805-912a-7da35de53983",
        "outputId": "b809f393-5215-48f0-ddcd-9d96f9059f42",
        "colab": {
          "base_uri": "https://localhost:8080/"
        }
      },
      "outputs": [
        {
          "output_type": "stream",
          "name": "stdout",
          "text": [
            "Осталось 2 дня (дней)\n"
          ]
        }
      ],
      "source": [
        "from datetime import datetime\n",
        "\n",
        "now = datetime.now()\n",
        "deadline = datetime(2023, 9, 23)\n",
        "if now > deadline:\n",
        "    print(\"Срок сдачи работы прошел\")\n",
        "elif now.day == deadline.day and now.month == deadline.month and now.year == deadline.year:\n",
        "    print(\"Срок сдачи работы сегодня\")\n",
        "else:\n",
        "    period = deadline - now\n",
        "    print(\"Осталось {} дня (дней)\".format(period.days))"
      ]
    },
    {
      "cell_type": "markdown",
      "source": [
        "# Задачи к лекции\n",
        "\n",
        "1. В зоопарке цена входного билета зависит от возраста посетителя. Дети до двух лет включительно допускаются бесплатно. Дети в возрасте от трех до 12 лет могут посещать зоопарк за 200 руб. Пенсионерам старше 65 лет вход обойдется в 250 руб., а обычный взрослый билет стоит 300 руб.\n",
        "\n",
        "  Напишите программу, которая будет запрашивать возраст всех посетителей в группе (по одному за раз) и выводить общую цену билетов для посещения зоопарка этой группой. В качестве индикатора окончания ввода можно использовать пустую строку. Общую цену билетов стоит выводить в формате с двумя знаками после запятой.\n",
        "\n",
        "  Зоопарк также оказывает дополнительные услуги, перечень которых указан в таблице ниже. Предусмотрите возможность покупки билетов на эти услуги.\n",
        "\n",
        " ![image.png](data:image/png;base64,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)\n",
        "\n",
        "   Добавьте в программу возможность предоставления бесплатного билета имениннику и 50% скидки на билет для 1 друга.\n",
        "2. «Угадай число» — классическая игра, на которой начинающие могут попрактиковаться в программировании. В этой игре компьютер загадывает случайное число от 1 до 100. У игрока есть 10 попыток угадать его. После каждой из попыток компьютер говорит игроку, больше или меньше загаданного это число в случае, если пользователь не угадал.\n",
        "\n",
        "  Разработайте еще одну версию программы, которая должна гарантированно угадать за 7 попыток число в диапазоне от 1 до 100, которое загадал пользователь.\n",
        "\n",
        "3. Напишите программу, вычисляющую значение тригонометрического выражения по заданному числу градусов $x$:\n",
        " $sin\\ x+cos\\ x+tan^2x$\n",
        "  \n",
        "  **Примечание:** Тригонометрические функции принимают аргумент в радианах.\n",
        "4. Определите дату, которая наступит через 1000 дней от текущей даты."
      ],
      "metadata": {
        "id": "83jN7PI5x_oG"
      },
      "id": "83jN7PI5x_oG"
    },
    {
      "cell_type": "markdown",
      "source": [
        "# Контрольные вопросы\n",
        "1. Для чего нужны функции?\n",
        "2. Когда именно выполняется код функции: когда она определяется или когда вызывается?\n",
        "3. С помощью какой инструкции создается функция?\n",
        "4. В чем разница между определением и вызовом функции?\n",
        "5. Что такое параметры функции? Зачем они используются?\n",
        "6. Как задать функцию с переменным числом аргументов: с аргументом по умолчанию, именованным аргументом и произвольным списком аргументов?\n",
        "7. Сколько глобальных областей видимости может иметь программа на языке Python? А сколько локальных?\n",
        "8. Что происходит с переменными, находящимися в локальной области видимости, при завершении функции?\n",
        "9. Что такое возвращаемое значение? Может ли возвращаемое значение быть частью выражения?\n",
        "10. Что возвращает функция, если в ней отсутствует инструкция `return`?\n",
        "11. Как внутри функции сослаться на глобальную переменную?\n",
        "12. Какие функции называются логическими? Зачем они нужны?\n",
        "13. Что такое рекурсия? Приведите примеры.\n",
        "14. Как вы думаете, почему любое рекурсивное определение состоит из двух частей?\n",
        "15. Что такое рекурсивная функция?\n",
        "16. Что такое стек? Как он используется при выполнении программ?\n",
        "17. Почему при использовании рекурсии может случиться переполнение стека?\n",
        "18. Назовите достоинства и недостатки рекурсии. Когда ее следует использовать, а когда – нет?\n",
        "19. К какому типу данных относится значение `None`?\n",
        "20. Лямбда-функции: синтаксис и назначение.\n",
        "20. Как предотвратить аварийное завершение программы при возникновении ошибки?\n",
        "21. Какой код помещается в блок `try`? Какой код помещается в блок `except`?\n",
        "22. Назначение и основные методы модуля `random`.\n",
        "23. Назначение и основные методы модуля `math`.\n",
        "24. Назначение и основные методы модуля `datetime`."
      ],
      "metadata": {
        "id": "eYoj1cF4XEAn"
      },
      "id": "eYoj1cF4XEAn"
    },
    {
      "cell_type": "markdown",
      "source": [
        "# Дополнительные вопросы\n",
        "1. В чем заключаются особенности модульного построения программ. Обоснуйте достоинства такого способа программирования.\n",
        "2. Опишите словесный алгоритм создания модулей в языке Python.\n",
        "3. Каким образом можно подключить созданный пользовательский модуль к\n",
        "программе, написанной на языке Python?\n",
        "4. В чем заключается объектно-ориентированное программирование?\n",
        "5. Поля и методы класса.\n",
        "6. Синтаксис создания класса в языке Python.\n",
        "7. Синтаксис при обращении к атрибуту/методу класса.\n",
        "8. Чем методы класса отличаются от обычных функций?\n",
        "9. Роль параметра `self`.\n",
        "10. С какой целью создается метод `__init__`?\n",
        "11. Напишите программу, вычисляющую значение тригонометрического выражения по заданному числу градусов $x$.\n",
        "\n",
        " $sin\\ x+cos\\ x+{tan}^2x$\n",
        "\n",
        "12. Выведите случайное целое число от 1 до 100.\n",
        "13. Выведите случайное вещественное число от 10,5 до 12,15.\n",
        "14. Выберите случайным образом 1, 2, 3 элемента из списка случайных чисел, состоящего из 10 элементов.\n",
        "15. Напишите программу, вычисляющую значение тригонометрического выражения при x = 1,42, y = 1,22.\n",
        "\n",
        "  $\\frac{2*cos(x-\\frac{\\pi}{6})}{1/2+{sin}^2y}+{cos}^2x^3*e^x$\n",
        "\n",
        "16. Напишите программу, вычисляющую значение тригонометрического выражения при x = 3,033, y = 0,014.\n",
        "\n",
        "  $\\frac{sinx+cosy}{cosx-siny}*tg(xy)$\n",
        "\n",
        "17. Напишите программу, вычисляющую значение тригонометрического выражения при x = 3,033, y = 0,014.\n",
        "\n",
        "  $\\frac{sinx+cosy}{cosx-siny}*tg(xy)$\n",
        "\n",
        "18. Напишите программу, вычисляющую значение тригонометрического выражения при x = -1,255, y = 5,23.\n",
        "\n",
        "  $\\frac{ln|cosx|}{ln(1+x^2)}$\n",
        "\n",
        "19. Сохраните в виде объекта datetime дату, представленную в форме строки \"04/10/2023 11:30\"\n",
        "\n",
        "20. Представьте в виде строки сегодняшнюю дату в формате `YYYY-MM-DD HH:MM`.\n",
        "21. Узнайте, какой день недели был 4 октября 2020 года.\n",
        "\n",
        "22. Напишите функцию `date_range`, которая возвращает количество дней между датами `start_date` и `end_date`. Даты должны вводиться в формате `YYYY-MM-DD`.\n"
      ],
      "metadata": {
        "id": "XklsVC-xrvL9"
      },
      "id": "XklsVC-xrvL9"
    }
  ],
  "metadata": {
    "kernelspec": {
      "display_name": "Python 3 (ipykernel)",
      "language": "python",
      "name": "python3"
    },
    "language_info": {
      "codemirror_mode": {
        "name": "ipython",
        "version": 3
      },
      "file_extension": ".py",
      "mimetype": "text/x-python",
      "name": "python",
      "nbconvert_exporter": "python",
      "pygments_lexer": "ipython3",
      "version": "3.11.1"
    },
    "colab": {
      "provenance": [],
      "include_colab_link": true
    }
  },
  "nbformat": 4,
  "nbformat_minor": 5
}