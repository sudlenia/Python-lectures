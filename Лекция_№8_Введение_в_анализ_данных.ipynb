{
  "cells": [
    {
      "cell_type": "markdown",
      "source": [
        "# Введение в анализ данных"
      ],
      "metadata": {
        "collapsed": false,
        "id": "79ZrLC_gneVJ"
      }
    },
    {
      "cell_type": "markdown",
      "source": [
        "## 1 Первое знакомство с библиотекой pandas"
      ],
      "metadata": {
        "collapsed": false,
        "id": "_uM5tbbLneVO"
      }
    },
    {
      "cell_type": "markdown",
      "source": [
        "Библиотека `pandas` будет нашим основным инструментом в процессе анализа данных. Она содержит структуры данных и средства манипуляции данными, спроектированные с целью максимально упростить и ускорить очистку и анализ данных в Python.\n",
        "\n",
        "Основные возможности:\n",
        "* удобное чтение и запись данных из csv, txt, xls, SQL databases, HDF5;\n",
        "* удобная работа с пропусками в данных;\n",
        "* поиск, сортировка, выборка объектов, удовлетворяющих заданным критериям;\n",
        "* возможности по соединению датасетов;\n",
        "* красивая визуализация.\n",
        "\n",
        "Основными объектами библиотеки `pandas` являются `Series` и `DataFrame`."
      ],
      "metadata": {
        "collapsed": false,
        "id": "Ck6sYAIIneVP"
      }
    },
    {
      "cell_type": "code",
      "execution_count": null,
      "outputs": [],
      "source": [
        "import pandas as pd"
      ],
      "metadata": {
        "id": "2QR3ZGbyneVQ"
      }
    },
    {
      "cell_type": "markdown",
      "source": [
        "### 1.1 Объект Series"
      ],
      "metadata": {
        "collapsed": false,
        "id": "Kudm7XU3neVS"
      }
    },
    {
      "cell_type": "markdown",
      "source": [
        "<b>Series</b> - это <b>одномерный массив</b>, имеющий специальные <b>метки (индексы)</b> и способные хранить данные <b>любого</b> типа.\n",
        "\n",
        "Простейший объект `Series` состоит только из массива данных:"
      ],
      "metadata": {
        "collapsed": false,
        "id": "WCE7kJaXneVS"
      }
    },
    {
      "cell_type": "code",
      "execution_count": null,
      "metadata": {
        "id": "-Gk9vLbwneVS",
        "outputId": "deccdb16-40e7-4b01-a101-4644160e2e54"
      },
      "outputs": [
        {
          "data": {
            "text/plain": "0    4\n1    7\n2   -5\n3    3\ndtype: int64"
          },
          "execution_count": 4,
          "metadata": {},
          "output_type": "execute_result"
        }
      ],
      "source": [
        "obj = pd.Series([4, 7, -5, 3])\n",
        "obj"
      ]
    },
    {
      "cell_type": "markdown",
      "source": [
        "Поскольку мы не задали индекс для данных, то по умолчанию создается индекс, состоящий из целых чисел от 0 до $N$ – 1\n",
        "(где $N$ – длина массива данных).\n",
        "\n",
        "Имея объект `Series`, получить представление самого массива и его индекса можно с помощью атрибутов `values` и `index` соответственно:"
      ],
      "metadata": {
        "collapsed": false,
        "id": "YmecglKEneVU"
      }
    },
    {
      "cell_type": "code",
      "execution_count": null,
      "outputs": [
        {
          "data": {
            "text/plain": "array([ 4,  7, -5,  3], dtype=int64)"
          },
          "execution_count": 6,
          "metadata": {},
          "output_type": "execute_result"
        }
      ],
      "source": [
        "obj.values"
      ],
      "metadata": {
        "id": "_Fy5k9jtneVU",
        "outputId": "cb5c5258-35c3-4d7d-aba3-2982a0b11c69"
      }
    },
    {
      "cell_type": "code",
      "execution_count": null,
      "outputs": [
        {
          "data": {
            "text/plain": "RangeIndex(start=0, stop=4, step=1)"
          },
          "execution_count": 8,
          "metadata": {},
          "output_type": "execute_result"
        }
      ],
      "source": [
        "obj.index"
      ],
      "metadata": {
        "id": "VnmmhSq7neVU",
        "outputId": "879219dc-4184-44bf-dc9c-85869b973982"
      }
    },
    {
      "cell_type": "markdown",
      "source": [
        "Часто желательно создать объект `Series` с индексом, идентифицирующим каждый элемент данных:"
      ],
      "metadata": {
        "collapsed": false,
        "id": "OHGPY0DPneVV"
      }
    },
    {
      "cell_type": "code",
      "execution_count": null,
      "outputs": [
        {
          "data": {
            "text/plain": "d    4\nb    7\na   -5\nc    3\ndtype: int64"
          },
          "execution_count": 9,
          "metadata": {},
          "output_type": "execute_result"
        }
      ],
      "source": [
        "obj2 = pd.Series([4, 7, -5, 3], index=[\"d\", \"b\", \"a\", \"c\"])\n",
        "obj2"
      ],
      "metadata": {
        "id": "I2RFSAujneVV",
        "outputId": "a447ee9f-a63d-407d-8619-1e702fb68aa4"
      }
    },
    {
      "cell_type": "code",
      "execution_count": null,
      "outputs": [
        {
          "data": {
            "text/plain": "Index(['d', 'b', 'a', 'c'], dtype='object')"
          },
          "execution_count": 20,
          "metadata": {},
          "output_type": "execute_result"
        }
      ],
      "source": [
        "obj2.index"
      ],
      "metadata": {
        "id": "Vuofn1qfneVW",
        "outputId": "9b36818d-a310-428c-c81e-0d05ac4e2d7f"
      }
    },
    {
      "cell_type": "markdown",
      "source": [
        "В отличие от массивов `NumPy`, для выделения одного или нескольких значений можно использовать метки в индексе:"
      ],
      "metadata": {
        "collapsed": false,
        "id": "UBKQ8nNGneVW"
      }
    },
    {
      "cell_type": "code",
      "execution_count": null,
      "outputs": [
        {
          "data": {
            "text/plain": "-5"
          },
          "execution_count": 11,
          "metadata": {},
          "output_type": "execute_result"
        }
      ],
      "source": [
        "obj2[\"a\"]"
      ],
      "metadata": {
        "id": "dFYihfOWneVW",
        "outputId": "2fbf8068-010c-4404-c0cf-60e2df4d59d3"
      }
    },
    {
      "cell_type": "code",
      "execution_count": null,
      "outputs": [],
      "source": [
        "obj2[\"d\"] = 6"
      ],
      "metadata": {
        "id": "WX8HW_qdneVX"
      }
    },
    {
      "cell_type": "code",
      "execution_count": null,
      "outputs": [
        {
          "data": {
            "text/plain": "c    3\na   -5\nd    6\ndtype: int64"
          },
          "execution_count": 13,
          "metadata": {},
          "output_type": "execute_result"
        }
      ],
      "source": [
        "obj2[[\"c\", \"a\", \"d\"]]"
      ],
      "metadata": {
        "id": "RY5B0JeKneVX",
        "outputId": "776b6717-41ce-4977-c8f3-56060c28d3ee"
      }
    },
    {
      "cell_type": "markdown",
      "source": [
        "Здесь `['c', 'a', 'd']` интерпретируется как список индексов, хотя он содержит не целые числа, а строки.\n",
        "\n",
        "Объект `Series` можно также представлять себе как упорядоченный словарь фиксированной длины, поскольку он отображает индекс на данные."
      ],
      "metadata": {
        "collapsed": false,
        "id": "3undze9FneVX"
      }
    },
    {
      "cell_type": "code",
      "execution_count": null,
      "outputs": [
        {
          "data": {
            "text/plain": "d    6\nb    7\nc    3\ndtype: int64"
          },
          "execution_count": 19,
          "metadata": {},
          "output_type": "execute_result"
        }
      ],
      "source": [
        "obj2[obj2 > 0]"
      ],
      "metadata": {
        "id": "LZLfGVf2neVY",
        "outputId": "e26147cb-25bd-4552-872a-5e68784f559a"
      }
    },
    {
      "cell_type": "code",
      "execution_count": null,
      "outputs": [
        {
          "data": {
            "text/plain": "d    12\nb    14\na   -10\nc     6\ndtype: int64"
          },
          "execution_count": 21,
          "metadata": {},
          "output_type": "execute_result"
        }
      ],
      "source": [
        "obj2 * 2"
      ],
      "metadata": {
        "id": "8Nz3jIC5neVY",
        "outputId": "0b673df4-3b2e-4e3f-90c1-0969d1972279"
      }
    },
    {
      "cell_type": "code",
      "execution_count": null,
      "outputs": [
        {
          "data": {
            "text/plain": "d     403.428793\nb    1096.633158\na       0.006738\nc      20.085537\ndtype: float64"
          },
          "execution_count": 17,
          "metadata": {},
          "output_type": "execute_result"
        }
      ],
      "source": [
        "import numpy as np\n",
        "np.exp(obj2)"
      ],
      "metadata": {
        "id": "33xITAkCneVY",
        "outputId": "ffc72c3d-7517-4a39-e58a-fb273fab0901"
      }
    },
    {
      "cell_type": "code",
      "execution_count": null,
      "outputs": [
        {
          "data": {
            "text/plain": "Москва         35000\nКрасноярск     71000\nНовосибирск    16000\nКалининград     5000\ndtype: int64"
          },
          "execution_count": 14,
          "metadata": {},
          "output_type": "execute_result"
        }
      ],
      "source": [
        "sales = {\"Москва\": 35000, \"Красноярск\": 71000, \"Новосибирск\": 16000, \"Калининград\": 5000}\n",
        "obj3 = pd.Series(sales)\n",
        "obj3"
      ],
      "metadata": {
        "id": "juyA5J8FneVZ",
        "outputId": "037fb04b-b552-4aac-fd6d-35ae9da77cc5"
      }
    },
    {
      "cell_type": "markdown",
      "source": [
        "### 1.2 Объект DataFrame"
      ],
      "metadata": {
        "collapsed": false,
        "id": "OcGgV9gSneVZ"
      }
    },
    {
      "cell_type": "markdown",
      "source": [
        "Датафреймы библиотеки `Pandas`, как и электронные таблицы, состоят из столбцов и строк. Каждый столбец — это объект `pandas.Series`. В каком-то смысле датафрейм похож на двумерный массив `NumPy` с метками для столбцов и индексов. Но, в отличие от него, датафрейм может содержать **разные** типы данных.\n"
      ],
      "metadata": {
        "collapsed": false,
        "id": "9NmEZXuXneVZ"
      }
    },
    {
      "cell_type": "markdown",
      "source": [
        "![dataframe.png](data:image/png;base64,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)"
      ],
      "metadata": {
        "collapsed": false,
        "id": "-PeLpJMOneVZ"
      }
    },
    {
      "cell_type": "markdown",
      "source": [
        "Есть много способов сконструировать объект `DataFrame`, один из самых распространенных – на основе словаря списков одинаковой длины или массивов `NumPy`:"
      ],
      "metadata": {
        "collapsed": false,
        "id": "2XKOwYbnneVb"
      }
    },
    {
      "cell_type": "code",
      "execution_count": null,
      "outputs": [
        {
          "data": {
            "text/plain": "        Город   Год  Население\n0      Москва  2008      10425\n1      Москва  2014      12108\n2      Москва  2019      12615\n3  Красноярск  2008        936\n4  Красноярск  2014       1036\n5  Красноярск  2019       1095",
            "text/html": "<div>\n<style scoped>\n    .dataframe tbody tr th:only-of-type {\n        vertical-align: middle;\n    }\n\n    .dataframe tbody tr th {\n        vertical-align: top;\n    }\n\n    .dataframe thead th {\n        text-align: right;\n    }\n</style>\n<table border=\"1\" class=\"dataframe\">\n  <thead>\n    <tr style=\"text-align: right;\">\n      <th></th>\n      <th>Город</th>\n      <th>Год</th>\n      <th>Население</th>\n    </tr>\n  </thead>\n  <tbody>\n    <tr>\n      <th>0</th>\n      <td>Москва</td>\n      <td>2008</td>\n      <td>10425</td>\n    </tr>\n    <tr>\n      <th>1</th>\n      <td>Москва</td>\n      <td>2014</td>\n      <td>12108</td>\n    </tr>\n    <tr>\n      <th>2</th>\n      <td>Москва</td>\n      <td>2019</td>\n      <td>12615</td>\n    </tr>\n    <tr>\n      <th>3</th>\n      <td>Красноярск</td>\n      <td>2008</td>\n      <td>936</td>\n    </tr>\n    <tr>\n      <th>4</th>\n      <td>Красноярск</td>\n      <td>2014</td>\n      <td>1036</td>\n    </tr>\n    <tr>\n      <th>5</th>\n      <td>Красноярск</td>\n      <td>2019</td>\n      <td>1095</td>\n    </tr>\n  </tbody>\n</table>\n</div>"
          },
          "execution_count": 24,
          "metadata": {},
          "output_type": "execute_result"
        }
      ],
      "source": [
        "data = {'Город': [\"Москва\", \"Москва\", \"Москва\", \"Красноярск\", \"Красноярск\", \"Красноярск\"],\n",
        "        'Год': [2008, 2014, 2019, 2008, 2014, 2019],\n",
        "        'Население': [10425, 12108, 12615, 936, 1036, 1095]} # словарь, все значения которого - списки\n",
        "df = pd.DataFrame(data)\n",
        "df"
      ],
      "metadata": {
        "id": "4FYQ4aKmneVb",
        "outputId": "86a5c6de-7560-4e39-c8cf-de0ae75eee23"
      }
    },
    {
      "cell_type": "markdown",
      "source": [
        "Столбец `DataFrame` можно извлечь как объект `Series`, воспользовавшись нотацией словарей, или с помощью атрибута:"
      ],
      "metadata": {
        "collapsed": false,
        "id": "FGZcgE1OneVb"
      }
    },
    {
      "cell_type": "code",
      "execution_count": null,
      "outputs": [
        {
          "data": {
            "text/plain": "0        Москва\n1        Москва\n2        Москва\n3    Красноярск\n4    Красноярск\n5    Красноярск\nName: Город, dtype: object"
          },
          "execution_count": 4,
          "metadata": {},
          "output_type": "execute_result"
        }
      ],
      "source": [
        "df['Город']"
      ],
      "metadata": {
        "id": "hWmqfH8wneVb",
        "outputId": "c9251eb6-f0a7-462c-b1c8-5a83a9b92253"
      }
    },
    {
      "cell_type": "code",
      "execution_count": null,
      "outputs": [
        {
          "data": {
            "text/plain": "0        Москва\n1        Москва\n2        Москва\n3    Красноярск\n4    Красноярск\n5    Красноярск\nName: Город, dtype: object"
          },
          "execution_count": 5,
          "metadata": {},
          "output_type": "execute_result"
        }
      ],
      "source": [
        "df.Город"
      ],
      "metadata": {
        "id": "KSurRAgBneVe",
        "outputId": "116b7c10-100b-41b2-c287-d06c7bcf4273"
      }
    },
    {
      "cell_type": "markdown",
      "source": [
        "Строки также можно извлечь по позиции или по имени с помощью специальных атрибутов `iloc` и `loc`:"
      ],
      "metadata": {
        "collapsed": false,
        "id": "6d-fFNxvneVe"
      }
    },
    {
      "cell_type": "code",
      "execution_count": null,
      "outputs": [
        {
          "data": {
            "text/plain": "Город        Москва\nГод            2019\nНаселение     12615\nName: 2, dtype: object"
          },
          "execution_count": 7,
          "metadata": {},
          "output_type": "execute_result"
        }
      ],
      "source": [
        "df.iloc[2]"
      ],
      "metadata": {
        "id": "LjhPVlO5neVf",
        "outputId": "69a8b600-d9ef-4557-c123-aca0dfdead64"
      }
    },
    {
      "cell_type": "code",
      "execution_count": null,
      "outputs": [
        {
          "data": {
            "text/plain": "Город        Москва\nГод            2014\nНаселение     12108\nName: 1, dtype: object"
          },
          "execution_count": 6,
          "metadata": {},
          "output_type": "execute_result"
        }
      ],
      "source": [
        "df.loc[1]"
      ],
      "metadata": {
        "id": "qNSYTiKBneVe",
        "outputId": "816f1c4f-3388-48b2-fc27-a2c19b07b842"
      }
    },
    {
      "cell_type": "markdown",
      "source": [
        "Столбцы можно модифицировать путем присваивания."
      ],
      "metadata": {
        "collapsed": false,
        "id": "nPlIYiz_neVf"
      }
    },
    {
      "cell_type": "code",
      "execution_count": null,
      "outputs": [
        {
          "data": {
            "text/plain": "        Город   Год  Население\n0      Москва  2008   10425000\n1      Москва  2014   12108000\n2      Москва  2019   12615000\n3  Красноярск  2008     936000\n4  Красноярск  2014    1036000\n5  Красноярск  2019    1095000",
            "text/html": "<div>\n<style scoped>\n    .dataframe tbody tr th:only-of-type {\n        vertical-align: middle;\n    }\n\n    .dataframe tbody tr th {\n        vertical-align: top;\n    }\n\n    .dataframe thead th {\n        text-align: right;\n    }\n</style>\n<table border=\"1\" class=\"dataframe\">\n  <thead>\n    <tr style=\"text-align: right;\">\n      <th></th>\n      <th>Город</th>\n      <th>Год</th>\n      <th>Население</th>\n    </tr>\n  </thead>\n  <tbody>\n    <tr>\n      <th>0</th>\n      <td>Москва</td>\n      <td>2008</td>\n      <td>10425000</td>\n    </tr>\n    <tr>\n      <th>1</th>\n      <td>Москва</td>\n      <td>2014</td>\n      <td>12108000</td>\n    </tr>\n    <tr>\n      <th>2</th>\n      <td>Москва</td>\n      <td>2019</td>\n      <td>12615000</td>\n    </tr>\n    <tr>\n      <th>3</th>\n      <td>Красноярск</td>\n      <td>2008</td>\n      <td>936000</td>\n    </tr>\n    <tr>\n      <th>4</th>\n      <td>Красноярск</td>\n      <td>2014</td>\n      <td>1036000</td>\n    </tr>\n    <tr>\n      <th>5</th>\n      <td>Красноярск</td>\n      <td>2019</td>\n      <td>1095000</td>\n    </tr>\n  </tbody>\n</table>\n</div>"
          },
          "execution_count": 25,
          "metadata": {},
          "output_type": "execute_result"
        }
      ],
      "source": [
        "df['Население'] *= 1000\n",
        "df"
      ],
      "metadata": {
        "id": "tbJh9WHEneVf",
        "outputId": "d46f23be-2cf9-46a2-fda9-c9ac0eb0c55c"
      }
    },
    {
      "cell_type": "markdown",
      "source": [
        "Когда столбцу присваивается список или массив, длина значения должна совпадать с длиной `DataFrame`.\n",
        "\n",
        "Присваивание несуществующему столбцу приводит к созданию нового столбца."
      ],
      "metadata": {
        "collapsed": false,
        "id": "wvIgWK-4neVf"
      }
    },
    {
      "cell_type": "code",
      "execution_count": null,
      "outputs": [
        {
          "data": {
            "text/plain": "        Город   Год  Население  Площадь\n0      Москва  2008   10425000     2511\n1      Москва  2014   12108000     2511\n2      Москва  2019   12615000     2511\n3  Красноярск  2008     936000      348\n4  Красноярск  2014    1036000      348\n5  Красноярск  2019    1095000      348",
            "text/html": "<div>\n<style scoped>\n    .dataframe tbody tr th:only-of-type {\n        vertical-align: middle;\n    }\n\n    .dataframe tbody tr th {\n        vertical-align: top;\n    }\n\n    .dataframe thead th {\n        text-align: right;\n    }\n</style>\n<table border=\"1\" class=\"dataframe\">\n  <thead>\n    <tr style=\"text-align: right;\">\n      <th></th>\n      <th>Город</th>\n      <th>Год</th>\n      <th>Население</th>\n      <th>Площадь</th>\n    </tr>\n  </thead>\n  <tbody>\n    <tr>\n      <th>0</th>\n      <td>Москва</td>\n      <td>2008</td>\n      <td>10425000</td>\n      <td>2511</td>\n    </tr>\n    <tr>\n      <th>1</th>\n      <td>Москва</td>\n      <td>2014</td>\n      <td>12108000</td>\n      <td>2511</td>\n    </tr>\n    <tr>\n      <th>2</th>\n      <td>Москва</td>\n      <td>2019</td>\n      <td>12615000</td>\n      <td>2511</td>\n    </tr>\n    <tr>\n      <th>3</th>\n      <td>Красноярск</td>\n      <td>2008</td>\n      <td>936000</td>\n      <td>348</td>\n    </tr>\n    <tr>\n      <th>4</th>\n      <td>Красноярск</td>\n      <td>2014</td>\n      <td>1036000</td>\n      <td>348</td>\n    </tr>\n    <tr>\n      <th>5</th>\n      <td>Красноярск</td>\n      <td>2019</td>\n      <td>1095000</td>\n      <td>348</td>\n    </tr>\n  </tbody>\n</table>\n</div>"
          },
          "execution_count": 26,
          "metadata": {},
          "output_type": "execute_result"
        }
      ],
      "source": [
        "df['Площадь'] = [2511, 2511, 2511, 348, 348, 348]\n",
        "df"
      ],
      "metadata": {
        "id": "Dc-3PhFmneVg",
        "outputId": "31d2bcc9-18e7-46f3-94bd-3df62351e3ee"
      }
    },
    {
      "cell_type": "markdown",
      "source": [
        "Для удаления столбцов служит ключевое слово `del`, как и в обычном словаре."
      ],
      "metadata": {
        "collapsed": false,
        "id": "b93BVQ7MneVg"
      }
    },
    {
      "cell_type": "code",
      "execution_count": null,
      "outputs": [
        {
          "data": {
            "text/plain": "        Город   Год  Плотность (чел./км2)\n0      Москва  2008                  4152\n1      Москва  2014                  4822\n2      Москва  2019                  5024\n3  Красноярск  2008                  2690\n4  Красноярск  2014                  2977\n5  Красноярск  2019                  3147",
            "text/html": "<div>\n<style scoped>\n    .dataframe tbody tr th:only-of-type {\n        vertical-align: middle;\n    }\n\n    .dataframe tbody tr th {\n        vertical-align: top;\n    }\n\n    .dataframe thead th {\n        text-align: right;\n    }\n</style>\n<table border=\"1\" class=\"dataframe\">\n  <thead>\n    <tr style=\"text-align: right;\">\n      <th></th>\n      <th>Город</th>\n      <th>Год</th>\n      <th>Плотность (чел./км2)</th>\n    </tr>\n  </thead>\n  <tbody>\n    <tr>\n      <th>0</th>\n      <td>Москва</td>\n      <td>2008</td>\n      <td>4152</td>\n    </tr>\n    <tr>\n      <th>1</th>\n      <td>Москва</td>\n      <td>2014</td>\n      <td>4822</td>\n    </tr>\n    <tr>\n      <th>2</th>\n      <td>Москва</td>\n      <td>2019</td>\n      <td>5024</td>\n    </tr>\n    <tr>\n      <th>3</th>\n      <td>Красноярск</td>\n      <td>2008</td>\n      <td>2690</td>\n    </tr>\n    <tr>\n      <th>4</th>\n      <td>Красноярск</td>\n      <td>2014</td>\n      <td>2977</td>\n    </tr>\n    <tr>\n      <th>5</th>\n      <td>Красноярск</td>\n      <td>2019</td>\n      <td>3147</td>\n    </tr>\n  </tbody>\n</table>\n</div>"
          },
          "execution_count": 27,
          "metadata": {},
          "output_type": "execute_result"
        }
      ],
      "source": [
        "df['Плотность (чел./км2)'] = (df['Население'] / df['Площадь']).round().astype('int')\n",
        "del df['Население']\n",
        "del df['Площадь']\n",
        "df"
      ],
      "metadata": {
        "id": "eCWafmpLneVg",
        "outputId": "7cd8194b-eda8-4f4d-eb53-649405e9fa52"
      }
    },
    {
      "cell_type": "markdown",
      "source": [
        "Еще одна распространенная форма данных – словарь словарей. Если передать вложенный словарь объекту `DataFrame`, то `pandas` интерпретирует ключи внешнего словаря как столбцы, а ключи внутреннего словаря – как индексы строк:"
      ],
      "metadata": {
        "collapsed": false,
        "id": "u56hVoCsneVo"
      }
    },
    {
      "cell_type": "code",
      "execution_count": null,
      "outputs": [
        {
          "data": {
            "text/plain": "      Москва  Красноярск\n2008   10425         936\n2014   12108        1036\n2019   12615        1095",
            "text/html": "<div>\n<style scoped>\n    .dataframe tbody tr th:only-of-type {\n        vertical-align: middle;\n    }\n\n    .dataframe tbody tr th {\n        vertical-align: top;\n    }\n\n    .dataframe thead th {\n        text-align: right;\n    }\n</style>\n<table border=\"1\" class=\"dataframe\">\n  <thead>\n    <tr style=\"text-align: right;\">\n      <th></th>\n      <th>Москва</th>\n      <th>Красноярск</th>\n    </tr>\n  </thead>\n  <tbody>\n    <tr>\n      <th>2008</th>\n      <td>10425</td>\n      <td>936</td>\n    </tr>\n    <tr>\n      <th>2014</th>\n      <td>12108</td>\n      <td>1036</td>\n    </tr>\n    <tr>\n      <th>2019</th>\n      <td>12615</td>\n      <td>1095</td>\n    </tr>\n  </tbody>\n</table>\n</div>"
          },
          "execution_count": 28,
          "metadata": {},
          "output_type": "execute_result"
        }
      ],
      "source": [
        "data = {\"Москва\": {2008: 10425, 2014: 12108, 2019: 12615},\n",
        "        \"Красноярск\": {2008: 936, 2014: 1036, 2019: 1095}}\n",
        "\n",
        "populations = pd.DataFrame(data)\n",
        "populations"
      ],
      "metadata": {
        "id": "SIcZB4EQneVo",
        "outputId": "fad84381-9d30-4e29-981d-a28d4357993e"
      }
    },
    {
      "cell_type": "markdown",
      "source": [
        "Объект `DataFrame` можно транспонировать (переставить местами строки и столбцы), воспользовавшись таким же синтаксисом, как для словарей `NumPy`:"
      ],
      "metadata": {
        "collapsed": false,
        "id": "OtIQHgNyneVo"
      }
    },
    {
      "cell_type": "code",
      "execution_count": null,
      "outputs": [
        {
          "data": {
            "text/plain": "             2008   2014   2019\nМосква      10425  12108  12615\nКрасноярск    936   1036   1095",
            "text/html": "<div>\n<style scoped>\n    .dataframe tbody tr th:only-of-type {\n        vertical-align: middle;\n    }\n\n    .dataframe tbody tr th {\n        vertical-align: top;\n    }\n\n    .dataframe thead th {\n        text-align: right;\n    }\n</style>\n<table border=\"1\" class=\"dataframe\">\n  <thead>\n    <tr style=\"text-align: right;\">\n      <th></th>\n      <th>2008</th>\n      <th>2014</th>\n      <th>2019</th>\n    </tr>\n  </thead>\n  <tbody>\n    <tr>\n      <th>Москва</th>\n      <td>10425</td>\n      <td>12108</td>\n      <td>12615</td>\n    </tr>\n    <tr>\n      <th>Красноярск</th>\n      <td>936</td>\n      <td>1036</td>\n      <td>1095</td>\n    </tr>\n  </tbody>\n</table>\n</div>"
          },
          "execution_count": 29,
          "metadata": {},
          "output_type": "execute_result"
        }
      ],
      "source": [
        "populations.T"
      ],
      "metadata": {
        "id": "s-BCUGi3neVp",
        "outputId": "5ddc527b-2d28-4da5-8674-b9e035fe9bcd"
      }
    },
    {
      "cell_type": "markdown",
      "source": [
        "Еще один пример:"
      ],
      "metadata": {
        "collapsed": false,
        "id": "wzrdiv_fneVp"
      }
    },
    {
      "cell_type": "code",
      "execution_count": null,
      "outputs": [
        {
          "data": {
            "text/plain": "     A          B    C  D      E    F\n0  1.0 2013-01-02  1.0  3   test  foo\n1  1.0 2013-01-02  1.0  3  train  foo\n2  1.0 2013-01-02  1.0  3   test  foo\n3  1.0 2013-01-02  1.0  3  train  foo",
            "text/html": "<div>\n<style scoped>\n    .dataframe tbody tr th:only-of-type {\n        vertical-align: middle;\n    }\n\n    .dataframe tbody tr th {\n        vertical-align: top;\n    }\n\n    .dataframe thead th {\n        text-align: right;\n    }\n</style>\n<table border=\"1\" class=\"dataframe\">\n  <thead>\n    <tr style=\"text-align: right;\">\n      <th></th>\n      <th>A</th>\n      <th>B</th>\n      <th>C</th>\n      <th>D</th>\n      <th>E</th>\n      <th>F</th>\n    </tr>\n  </thead>\n  <tbody>\n    <tr>\n      <th>0</th>\n      <td>1.0</td>\n      <td>2013-01-02</td>\n      <td>1.0</td>\n      <td>3</td>\n      <td>test</td>\n      <td>foo</td>\n    </tr>\n    <tr>\n      <th>1</th>\n      <td>1.0</td>\n      <td>2013-01-02</td>\n      <td>1.0</td>\n      <td>3</td>\n      <td>train</td>\n      <td>foo</td>\n    </tr>\n    <tr>\n      <th>2</th>\n      <td>1.0</td>\n      <td>2013-01-02</td>\n      <td>1.0</td>\n      <td>3</td>\n      <td>test</td>\n      <td>foo</td>\n    </tr>\n    <tr>\n      <th>3</th>\n      <td>1.0</td>\n      <td>2013-01-02</td>\n      <td>1.0</td>\n      <td>3</td>\n      <td>train</td>\n      <td>foo</td>\n    </tr>\n  </tbody>\n</table>\n</div>"
          },
          "execution_count": 145,
          "metadata": {},
          "output_type": "execute_result"
        }
      ],
      "source": [
        "df2 = pd.DataFrame({'A': 1.,\n",
        "                    'B': pd.Timestamp('20130102'), # временнАя метка\n",
        "                    'C': pd.Series(1, index=list(range(4)), dtype='float32'), # Серия на основе списка\n",
        "                    'D': np.array([3] * 4, dtype='int32'), # массив целых чисел NumPy\n",
        "                    'E': pd.Categorical([\"test\", \"train\", \"test\", \"train\"]), # категории\n",
        "                    'F': 'foo'})\n",
        "df2"
      ],
      "metadata": {
        "id": "xY8m0ughneVp",
        "outputId": "4c8e2af0-c5a4-46ad-d0e7-77b7cbcbd1b4"
      }
    },
    {
      "cell_type": "markdown",
      "source": [
        "Столбцы итогового [`DataFrame`](https://pandas.pydata.org/pandas-docs/stable/reference/api/pandas.DataFrame.html#pandas.DataFrame) имеют разные [типы данных](https://pandas.pydata.org/pandas-docs/stable/user_guide/basics.html#basics-dtypes), в зависимости от того, что за данные хранятся в столбце."
      ],
      "metadata": {
        "collapsed": false,
        "id": "E028Fpf5neVp"
      }
    },
    {
      "cell_type": "code",
      "execution_count": null,
      "outputs": [
        {
          "data": {
            "text/plain": "A           float64\nB    datetime64[ns]\nC           float32\nD             int32\nE          category\nF            object\ndtype: object"
          },
          "execution_count": 146,
          "metadata": {},
          "output_type": "execute_result"
        }
      ],
      "source": [
        "df2.dtypes"
      ],
      "metadata": {
        "id": "1WY5v2wIneVq",
        "outputId": "bb7932a3-ee62-4b38-b2c5-6d22cd61f46d"
      }
    },
    {
      "cell_type": "markdown",
      "source": [
        "Несмотря на то, что датафрейм можно формировать из словарей и списков, большую часть времени мы будем создавать их из существующих источников данных. Файлы — самые распространенные среди них. `Pandas` поддерживает функции для создания датафреймов из многих распространенных типов файлов, включая CSV, Excel, HTML, JSON и подключения к базе данных SQL.\n",
        "`Pandas` предоставляет функцию `read_csv()` для чтения данных, хранящихся в виде CSV-файла, и преобразования их в `DataFrame`.\n",
        "Проведом анализ данных о пассажирах \"Титаника\".\n",
        "\n",
        "Каждая строчка набора данных содержит следующие поля:\n",
        "- `PassengerId` — номер пассажира;\n",
        "- `Survived` — выжил данный пассажир или нет (0 для умерших, 1 для выживших);\n",
        "- `Pclass` — класс пассажира (1 — высший, 2 — средний, 3 — низший);\n",
        "- `Name` — имя;\n",
        "- `Sex` — пол;\n",
        "- `Age` — возраст;\n",
        "- `SibSp` — количество братьев, сестер, сводных братьев, сводных сестер, супругов на борту титаника;\n",
        "- `Parch` — количество родителей, детей (в том числе приемных) на борту титаника;\n",
        "- `Ticket` — номер билета;\n",
        "- `Fare` — плата за проезд;\n",
        "- `Cabin` — каюта;\n",
        "- `Embarked` — порт посадки (C — Шербур; Q — Квинстаун; S — Саутгемптон)."
      ],
      "metadata": {
        "collapsed": false,
        "id": "Nw8hgQlPneVq"
      }
    },
    {
      "cell_type": "code",
      "execution_count": null,
      "outputs": [],
      "source": [
        "titanic = pd.read_csv(\"titanic.csv\")"
      ],
      "metadata": {
        "id": "YSmmKHigneVq"
      }
    },
    {
      "cell_type": "markdown",
      "source": [
        "При отображении `DataFrame` по умолчанию отображаются первые и последней 5 строк:"
      ],
      "metadata": {
        "collapsed": false,
        "id": "AfSqIRp3neVr"
      }
    },
    {
      "cell_type": "code",
      "execution_count": null,
      "outputs": [
        {
          "data": {
            "text/plain": "     PassengerId  Survived  Pclass  \\\n0              1         0       3   \n1              2         1       1   \n2              3         1       3   \n3              4         1       1   \n4              5         0       3   \n..           ...       ...     ...   \n886          887         0       2   \n887          888         1       1   \n888          889         0       3   \n889          890         1       1   \n890          891         0       3   \n\n                                                  Name     Sex   Age  SibSp  \\\n0                              Braund, Mr. Owen Harris    male  22.0      1   \n1    Cumings, Mrs. John Bradley (Florence Briggs Th...  female  38.0      1   \n2                               Heikkinen, Miss. Laina  female  26.0      0   \n3         Futrelle, Mrs. Jacques Heath (Lily May Peel)  female  35.0      1   \n4                             Allen, Mr. William Henry    male  35.0      0   \n..                                                 ...     ...   ...    ...   \n886                              Montvila, Rev. Juozas    male  27.0      0   \n887                       Graham, Miss. Margaret Edith  female  19.0      0   \n888           Johnston, Miss. Catherine Helen \"Carrie\"  female   NaN      1   \n889                              Behr, Mr. Karl Howell    male  26.0      0   \n890                                Dooley, Mr. Patrick    male  32.0      0   \n\n     Parch            Ticket     Fare Cabin Embarked  \n0        0         A/5 21171   7.2500   NaN        S  \n1        0          PC 17599  71.2833   C85        C  \n2        0  STON/O2. 3101282   7.9250   NaN        S  \n3        0            113803  53.1000  C123        S  \n4        0            373450   8.0500   NaN        S  \n..     ...               ...      ...   ...      ...  \n886      0            211536  13.0000   NaN        S  \n887      0            112053  30.0000   B42        S  \n888      2        W./C. 6607  23.4500   NaN        S  \n889      0            111369  30.0000  C148        C  \n890      0            370376   7.7500   NaN        Q  \n\n[891 rows x 12 columns]",
            "text/html": "<div>\n<style scoped>\n    .dataframe tbody tr th:only-of-type {\n        vertical-align: middle;\n    }\n\n    .dataframe tbody tr th {\n        vertical-align: top;\n    }\n\n    .dataframe thead th {\n        text-align: right;\n    }\n</style>\n<table border=\"1\" class=\"dataframe\">\n  <thead>\n    <tr style=\"text-align: right;\">\n      <th></th>\n      <th>PassengerId</th>\n      <th>Survived</th>\n      <th>Pclass</th>\n      <th>Name</th>\n      <th>Sex</th>\n      <th>Age</th>\n      <th>SibSp</th>\n      <th>Parch</th>\n      <th>Ticket</th>\n      <th>Fare</th>\n      <th>Cabin</th>\n      <th>Embarked</th>\n    </tr>\n  </thead>\n  <tbody>\n    <tr>\n      <th>0</th>\n      <td>1</td>\n      <td>0</td>\n      <td>3</td>\n      <td>Braund, Mr. Owen Harris</td>\n      <td>male</td>\n      <td>22.0</td>\n      <td>1</td>\n      <td>0</td>\n      <td>A/5 21171</td>\n      <td>7.2500</td>\n      <td>NaN</td>\n      <td>S</td>\n    </tr>\n    <tr>\n      <th>1</th>\n      <td>2</td>\n      <td>1</td>\n      <td>1</td>\n      <td>Cumings, Mrs. John Bradley (Florence Briggs Th...</td>\n      <td>female</td>\n      <td>38.0</td>\n      <td>1</td>\n      <td>0</td>\n      <td>PC 17599</td>\n      <td>71.2833</td>\n      <td>C85</td>\n      <td>C</td>\n    </tr>\n    <tr>\n      <th>2</th>\n      <td>3</td>\n      <td>1</td>\n      <td>3</td>\n      <td>Heikkinen, Miss. Laina</td>\n      <td>female</td>\n      <td>26.0</td>\n      <td>0</td>\n      <td>0</td>\n      <td>STON/O2. 3101282</td>\n      <td>7.9250</td>\n      <td>NaN</td>\n      <td>S</td>\n    </tr>\n    <tr>\n      <th>3</th>\n      <td>4</td>\n      <td>1</td>\n      <td>1</td>\n      <td>Futrelle, Mrs. Jacques Heath (Lily May Peel)</td>\n      <td>female</td>\n      <td>35.0</td>\n      <td>1</td>\n      <td>0</td>\n      <td>113803</td>\n      <td>53.1000</td>\n      <td>C123</td>\n      <td>S</td>\n    </tr>\n    <tr>\n      <th>4</th>\n      <td>5</td>\n      <td>0</td>\n      <td>3</td>\n      <td>Allen, Mr. William Henry</td>\n      <td>male</td>\n      <td>35.0</td>\n      <td>0</td>\n      <td>0</td>\n      <td>373450</td>\n      <td>8.0500</td>\n      <td>NaN</td>\n      <td>S</td>\n    </tr>\n    <tr>\n      <th>...</th>\n      <td>...</td>\n      <td>...</td>\n      <td>...</td>\n      <td>...</td>\n      <td>...</td>\n      <td>...</td>\n      <td>...</td>\n      <td>...</td>\n      <td>...</td>\n      <td>...</td>\n      <td>...</td>\n      <td>...</td>\n    </tr>\n    <tr>\n      <th>886</th>\n      <td>887</td>\n      <td>0</td>\n      <td>2</td>\n      <td>Montvila, Rev. Juozas</td>\n      <td>male</td>\n      <td>27.0</td>\n      <td>0</td>\n      <td>0</td>\n      <td>211536</td>\n      <td>13.0000</td>\n      <td>NaN</td>\n      <td>S</td>\n    </tr>\n    <tr>\n      <th>887</th>\n      <td>888</td>\n      <td>1</td>\n      <td>1</td>\n      <td>Graham, Miss. Margaret Edith</td>\n      <td>female</td>\n      <td>19.0</td>\n      <td>0</td>\n      <td>0</td>\n      <td>112053</td>\n      <td>30.0000</td>\n      <td>B42</td>\n      <td>S</td>\n    </tr>\n    <tr>\n      <th>888</th>\n      <td>889</td>\n      <td>0</td>\n      <td>3</td>\n      <td>Johnston, Miss. Catherine Helen \"Carrie\"</td>\n      <td>female</td>\n      <td>NaN</td>\n      <td>1</td>\n      <td>2</td>\n      <td>W./C. 6607</td>\n      <td>23.4500</td>\n      <td>NaN</td>\n      <td>S</td>\n    </tr>\n    <tr>\n      <th>889</th>\n      <td>890</td>\n      <td>1</td>\n      <td>1</td>\n      <td>Behr, Mr. Karl Howell</td>\n      <td>male</td>\n      <td>26.0</td>\n      <td>0</td>\n      <td>0</td>\n      <td>111369</td>\n      <td>30.0000</td>\n      <td>C148</td>\n      <td>C</td>\n    </tr>\n    <tr>\n      <th>890</th>\n      <td>891</td>\n      <td>0</td>\n      <td>3</td>\n      <td>Dooley, Mr. Patrick</td>\n      <td>male</td>\n      <td>32.0</td>\n      <td>0</td>\n      <td>0</td>\n      <td>370376</td>\n      <td>7.7500</td>\n      <td>NaN</td>\n      <td>Q</td>\n    </tr>\n  </tbody>\n</table>\n<p>891 rows × 12 columns</p>\n</div>"
          },
          "execution_count": 31,
          "metadata": {},
          "output_type": "execute_result"
        }
      ],
      "source": [
        "titanic"
      ],
      "metadata": {
        "id": "dCFcM5RjneVr",
        "outputId": "addbc645-2dcc-493d-9ece-92e363a3a9ef"
      }
    },
    {
      "cell_type": "markdown",
      "source": [
        "Иногда удобно вывести не целый `DataFrame`, заполнив экран данными, а выбрать несколько строк. Например, с помощью метода `head()` можно вывести первые 5 строк:"
      ],
      "metadata": {
        "collapsed": false,
        "id": "UUZMuH00neVr"
      }
    },
    {
      "cell_type": "code",
      "execution_count": null,
      "outputs": [
        {
          "data": {
            "text/plain": "   PassengerId  Survived  Pclass  \\\n0            1         0       3   \n1            2         1       1   \n2            3         1       3   \n3            4         1       1   \n4            5         0       3   \n\n                                                Name     Sex   Age  SibSp  \\\n0                            Braund, Mr. Owen Harris    male  22.0      1   \n1  Cumings, Mrs. John Bradley (Florence Briggs Th...  female  38.0      1   \n2                             Heikkinen, Miss. Laina  female  26.0      0   \n3       Futrelle, Mrs. Jacques Heath (Lily May Peel)  female  35.0      1   \n4                           Allen, Mr. William Henry    male  35.0      0   \n\n   Parch            Ticket     Fare Cabin Embarked  \n0      0         A/5 21171   7.2500   NaN        S  \n1      0          PC 17599  71.2833   C85        C  \n2      0  STON/O2. 3101282   7.9250   NaN        S  \n3      0            113803  53.1000  C123        S  \n4      0            373450   8.0500   NaN        S  ",
            "text/html": "<div>\n<style scoped>\n    .dataframe tbody tr th:only-of-type {\n        vertical-align: middle;\n    }\n\n    .dataframe tbody tr th {\n        vertical-align: top;\n    }\n\n    .dataframe thead th {\n        text-align: right;\n    }\n</style>\n<table border=\"1\" class=\"dataframe\">\n  <thead>\n    <tr style=\"text-align: right;\">\n      <th></th>\n      <th>PassengerId</th>\n      <th>Survived</th>\n      <th>Pclass</th>\n      <th>Name</th>\n      <th>Sex</th>\n      <th>Age</th>\n      <th>SibSp</th>\n      <th>Parch</th>\n      <th>Ticket</th>\n      <th>Fare</th>\n      <th>Cabin</th>\n      <th>Embarked</th>\n    </tr>\n  </thead>\n  <tbody>\n    <tr>\n      <th>0</th>\n      <td>1</td>\n      <td>0</td>\n      <td>3</td>\n      <td>Braund, Mr. Owen Harris</td>\n      <td>male</td>\n      <td>22.0</td>\n      <td>1</td>\n      <td>0</td>\n      <td>A/5 21171</td>\n      <td>7.2500</td>\n      <td>NaN</td>\n      <td>S</td>\n    </tr>\n    <tr>\n      <th>1</th>\n      <td>2</td>\n      <td>1</td>\n      <td>1</td>\n      <td>Cumings, Mrs. John Bradley (Florence Briggs Th...</td>\n      <td>female</td>\n      <td>38.0</td>\n      <td>1</td>\n      <td>0</td>\n      <td>PC 17599</td>\n      <td>71.2833</td>\n      <td>C85</td>\n      <td>C</td>\n    </tr>\n    <tr>\n      <th>2</th>\n      <td>3</td>\n      <td>1</td>\n      <td>3</td>\n      <td>Heikkinen, Miss. Laina</td>\n      <td>female</td>\n      <td>26.0</td>\n      <td>0</td>\n      <td>0</td>\n      <td>STON/O2. 3101282</td>\n      <td>7.9250</td>\n      <td>NaN</td>\n      <td>S</td>\n    </tr>\n    <tr>\n      <th>3</th>\n      <td>4</td>\n      <td>1</td>\n      <td>1</td>\n      <td>Futrelle, Mrs. Jacques Heath (Lily May Peel)</td>\n      <td>female</td>\n      <td>35.0</td>\n      <td>1</td>\n      <td>0</td>\n      <td>113803</td>\n      <td>53.1000</td>\n      <td>C123</td>\n      <td>S</td>\n    </tr>\n    <tr>\n      <th>4</th>\n      <td>5</td>\n      <td>0</td>\n      <td>3</td>\n      <td>Allen, Mr. William Henry</td>\n      <td>male</td>\n      <td>35.0</td>\n      <td>0</td>\n      <td>0</td>\n      <td>373450</td>\n      <td>8.0500</td>\n      <td>NaN</td>\n      <td>S</td>\n    </tr>\n  </tbody>\n</table>\n</div>"
          },
          "execution_count": 32,
          "metadata": {},
          "output_type": "execute_result"
        }
      ],
      "source": [
        "titanic.head()"
      ],
      "metadata": {
        "id": "xVKa_aXNneVr",
        "outputId": "60940dd2-20a9-48b1-a7dc-693b810af9e6"
      }
    },
    {
      "cell_type": "markdown",
      "source": [
        "Первые 8 строк:"
      ],
      "metadata": {
        "collapsed": false,
        "id": "COPhp2jTneVs"
      }
    },
    {
      "cell_type": "code",
      "execution_count": null,
      "outputs": [
        {
          "data": {
            "text/plain": "   PassengerId  Survived  Pclass  \\\n0            1         0       3   \n1            2         1       1   \n2            3         1       3   \n3            4         1       1   \n4            5         0       3   \n5            6         0       3   \n6            7         0       1   \n7            8         0       3   \n\n                                                Name     Sex   Age  SibSp  \\\n0                            Braund, Mr. Owen Harris    male  22.0      1   \n1  Cumings, Mrs. John Bradley (Florence Briggs Th...  female  38.0      1   \n2                             Heikkinen, Miss. Laina  female  26.0      0   \n3       Futrelle, Mrs. Jacques Heath (Lily May Peel)  female  35.0      1   \n4                           Allen, Mr. William Henry    male  35.0      0   \n5                                   Moran, Mr. James    male   NaN      0   \n6                            McCarthy, Mr. Timothy J    male  54.0      0   \n7                     Palsson, Master. Gosta Leonard    male   2.0      3   \n\n   Parch            Ticket     Fare Cabin Embarked  \n0      0         A/5 21171   7.2500   NaN        S  \n1      0          PC 17599  71.2833   C85        C  \n2      0  STON/O2. 3101282   7.9250   NaN        S  \n3      0            113803  53.1000  C123        S  \n4      0            373450   8.0500   NaN        S  \n5      0            330877   8.4583   NaN        Q  \n6      0             17463  51.8625   E46        S  \n7      1            349909  21.0750   NaN        S  ",
            "text/html": "<div>\n<style scoped>\n    .dataframe tbody tr th:only-of-type {\n        vertical-align: middle;\n    }\n\n    .dataframe tbody tr th {\n        vertical-align: top;\n    }\n\n    .dataframe thead th {\n        text-align: right;\n    }\n</style>\n<table border=\"1\" class=\"dataframe\">\n  <thead>\n    <tr style=\"text-align: right;\">\n      <th></th>\n      <th>PassengerId</th>\n      <th>Survived</th>\n      <th>Pclass</th>\n      <th>Name</th>\n      <th>Sex</th>\n      <th>Age</th>\n      <th>SibSp</th>\n      <th>Parch</th>\n      <th>Ticket</th>\n      <th>Fare</th>\n      <th>Cabin</th>\n      <th>Embarked</th>\n    </tr>\n  </thead>\n  <tbody>\n    <tr>\n      <th>0</th>\n      <td>1</td>\n      <td>0</td>\n      <td>3</td>\n      <td>Braund, Mr. Owen Harris</td>\n      <td>male</td>\n      <td>22.0</td>\n      <td>1</td>\n      <td>0</td>\n      <td>A/5 21171</td>\n      <td>7.2500</td>\n      <td>NaN</td>\n      <td>S</td>\n    </tr>\n    <tr>\n      <th>1</th>\n      <td>2</td>\n      <td>1</td>\n      <td>1</td>\n      <td>Cumings, Mrs. John Bradley (Florence Briggs Th...</td>\n      <td>female</td>\n      <td>38.0</td>\n      <td>1</td>\n      <td>0</td>\n      <td>PC 17599</td>\n      <td>71.2833</td>\n      <td>C85</td>\n      <td>C</td>\n    </tr>\n    <tr>\n      <th>2</th>\n      <td>3</td>\n      <td>1</td>\n      <td>3</td>\n      <td>Heikkinen, Miss. Laina</td>\n      <td>female</td>\n      <td>26.0</td>\n      <td>0</td>\n      <td>0</td>\n      <td>STON/O2. 3101282</td>\n      <td>7.9250</td>\n      <td>NaN</td>\n      <td>S</td>\n    </tr>\n    <tr>\n      <th>3</th>\n      <td>4</td>\n      <td>1</td>\n      <td>1</td>\n      <td>Futrelle, Mrs. Jacques Heath (Lily May Peel)</td>\n      <td>female</td>\n      <td>35.0</td>\n      <td>1</td>\n      <td>0</td>\n      <td>113803</td>\n      <td>53.1000</td>\n      <td>C123</td>\n      <td>S</td>\n    </tr>\n    <tr>\n      <th>4</th>\n      <td>5</td>\n      <td>0</td>\n      <td>3</td>\n      <td>Allen, Mr. William Henry</td>\n      <td>male</td>\n      <td>35.0</td>\n      <td>0</td>\n      <td>0</td>\n      <td>373450</td>\n      <td>8.0500</td>\n      <td>NaN</td>\n      <td>S</td>\n    </tr>\n    <tr>\n      <th>5</th>\n      <td>6</td>\n      <td>0</td>\n      <td>3</td>\n      <td>Moran, Mr. James</td>\n      <td>male</td>\n      <td>NaN</td>\n      <td>0</td>\n      <td>0</td>\n      <td>330877</td>\n      <td>8.4583</td>\n      <td>NaN</td>\n      <td>Q</td>\n    </tr>\n    <tr>\n      <th>6</th>\n      <td>7</td>\n      <td>0</td>\n      <td>1</td>\n      <td>McCarthy, Mr. Timothy J</td>\n      <td>male</td>\n      <td>54.0</td>\n      <td>0</td>\n      <td>0</td>\n      <td>17463</td>\n      <td>51.8625</td>\n      <td>E46</td>\n      <td>S</td>\n    </tr>\n    <tr>\n      <th>7</th>\n      <td>8</td>\n      <td>0</td>\n      <td>3</td>\n      <td>Palsson, Master. Gosta Leonard</td>\n      <td>male</td>\n      <td>2.0</td>\n      <td>3</td>\n      <td>1</td>\n      <td>349909</td>\n      <td>21.0750</td>\n      <td>NaN</td>\n      <td>S</td>\n    </tr>\n  </tbody>\n</table>\n</div>"
          },
          "execution_count": 33,
          "metadata": {},
          "output_type": "execute_result"
        }
      ],
      "source": [
        "titanic.head(8)"
      ],
      "metadata": {
        "id": "_K7rHWA-neVs",
        "outputId": "39f8329e-a7fb-444f-ed3d-e732a9d60143"
      }
    },
    {
      "cell_type": "markdown",
      "source": [
        "C помощью метода `tail()` получим последние 5 строк:"
      ],
      "metadata": {
        "collapsed": false,
        "id": "m8wgTrO6neVs"
      }
    },
    {
      "cell_type": "code",
      "execution_count": null,
      "outputs": [
        {
          "data": {
            "text/plain": "     PassengerId  Survived  Pclass                                      Name  \\\n886          887         0       2                     Montvila, Rev. Juozas   \n887          888         1       1              Graham, Miss. Margaret Edith   \n888          889         0       3  Johnston, Miss. Catherine Helen \"Carrie\"   \n889          890         1       1                     Behr, Mr. Karl Howell   \n890          891         0       3                       Dooley, Mr. Patrick   \n\n        Sex   Age  SibSp  Parch      Ticket   Fare Cabin Embarked  \n886    male  27.0      0      0      211536  13.00   NaN        S  \n887  female  19.0      0      0      112053  30.00   B42        S  \n888  female   NaN      1      2  W./C. 6607  23.45   NaN        S  \n889    male  26.0      0      0      111369  30.00  C148        C  \n890    male  32.0      0      0      370376   7.75   NaN        Q  ",
            "text/html": "<div>\n<style scoped>\n    .dataframe tbody tr th:only-of-type {\n        vertical-align: middle;\n    }\n\n    .dataframe tbody tr th {\n        vertical-align: top;\n    }\n\n    .dataframe thead th {\n        text-align: right;\n    }\n</style>\n<table border=\"1\" class=\"dataframe\">\n  <thead>\n    <tr style=\"text-align: right;\">\n      <th></th>\n      <th>PassengerId</th>\n      <th>Survived</th>\n      <th>Pclass</th>\n      <th>Name</th>\n      <th>Sex</th>\n      <th>Age</th>\n      <th>SibSp</th>\n      <th>Parch</th>\n      <th>Ticket</th>\n      <th>Fare</th>\n      <th>Cabin</th>\n      <th>Embarked</th>\n    </tr>\n  </thead>\n  <tbody>\n    <tr>\n      <th>886</th>\n      <td>887</td>\n      <td>0</td>\n      <td>2</td>\n      <td>Montvila, Rev. Juozas</td>\n      <td>male</td>\n      <td>27.0</td>\n      <td>0</td>\n      <td>0</td>\n      <td>211536</td>\n      <td>13.00</td>\n      <td>NaN</td>\n      <td>S</td>\n    </tr>\n    <tr>\n      <th>887</th>\n      <td>888</td>\n      <td>1</td>\n      <td>1</td>\n      <td>Graham, Miss. Margaret Edith</td>\n      <td>female</td>\n      <td>19.0</td>\n      <td>0</td>\n      <td>0</td>\n      <td>112053</td>\n      <td>30.00</td>\n      <td>B42</td>\n      <td>S</td>\n    </tr>\n    <tr>\n      <th>888</th>\n      <td>889</td>\n      <td>0</td>\n      <td>3</td>\n      <td>Johnston, Miss. Catherine Helen \"Carrie\"</td>\n      <td>female</td>\n      <td>NaN</td>\n      <td>1</td>\n      <td>2</td>\n      <td>W./C. 6607</td>\n      <td>23.45</td>\n      <td>NaN</td>\n      <td>S</td>\n    </tr>\n    <tr>\n      <th>889</th>\n      <td>890</td>\n      <td>1</td>\n      <td>1</td>\n      <td>Behr, Mr. Karl Howell</td>\n      <td>male</td>\n      <td>26.0</td>\n      <td>0</td>\n      <td>0</td>\n      <td>111369</td>\n      <td>30.00</td>\n      <td>C148</td>\n      <td>C</td>\n    </tr>\n    <tr>\n      <th>890</th>\n      <td>891</td>\n      <td>0</td>\n      <td>3</td>\n      <td>Dooley, Mr. Patrick</td>\n      <td>male</td>\n      <td>32.0</td>\n      <td>0</td>\n      <td>0</td>\n      <td>370376</td>\n      <td>7.75</td>\n      <td>NaN</td>\n      <td>Q</td>\n    </tr>\n  </tbody>\n</table>\n</div>"
          },
          "execution_count": 34,
          "metadata": {},
          "output_type": "execute_result"
        }
      ],
      "source": [
        "titanic.tail()"
      ],
      "metadata": {
        "id": "gLY-J4EZneVt",
        "outputId": "50a41022-59a4-4328-f166-006009e5fc05"
      }
    },
    {
      "cell_type": "markdown",
      "source": [
        "С помощью метода `sample()` получим 5 случайных строк:"
      ],
      "metadata": {
        "collapsed": false,
        "id": "VVmgCULMneVt"
      }
    },
    {
      "cell_type": "code",
      "execution_count": null,
      "outputs": [
        {
          "data": {
            "text/plain": "     PassengerId  Survived  Pclass                        Name     Sex   Age  \\\n877          878         0       3        Petroff, Mr. Nedelio    male  19.0   \n460          461         1       1         Anderson, Mr. Harry    male  48.0   \n20            21         0       2        Fynney, Mr. Joseph J    male  35.0   \n504          505         1       1       Maioni, Miss. Roberta  female  16.0   \n418          419         0       2  Matthews, Mr. William John    male  30.0   \n\n     SibSp  Parch  Ticket     Fare Cabin Embarked  \n877      0      0  349212   7.8958   NaN        S  \n460      0      0   19952  26.5500   E12        S  \n20       0      0  239865  26.0000   NaN        S  \n504      0      0  110152  86.5000   B79        S  \n418      0      0   28228  13.0000   NaN        S  ",
            "text/html": "<div>\n<style scoped>\n    .dataframe tbody tr th:only-of-type {\n        vertical-align: middle;\n    }\n\n    .dataframe tbody tr th {\n        vertical-align: top;\n    }\n\n    .dataframe thead th {\n        text-align: right;\n    }\n</style>\n<table border=\"1\" class=\"dataframe\">\n  <thead>\n    <tr style=\"text-align: right;\">\n      <th></th>\n      <th>PassengerId</th>\n      <th>Survived</th>\n      <th>Pclass</th>\n      <th>Name</th>\n      <th>Sex</th>\n      <th>Age</th>\n      <th>SibSp</th>\n      <th>Parch</th>\n      <th>Ticket</th>\n      <th>Fare</th>\n      <th>Cabin</th>\n      <th>Embarked</th>\n    </tr>\n  </thead>\n  <tbody>\n    <tr>\n      <th>877</th>\n      <td>878</td>\n      <td>0</td>\n      <td>3</td>\n      <td>Petroff, Mr. Nedelio</td>\n      <td>male</td>\n      <td>19.0</td>\n      <td>0</td>\n      <td>0</td>\n      <td>349212</td>\n      <td>7.8958</td>\n      <td>NaN</td>\n      <td>S</td>\n    </tr>\n    <tr>\n      <th>460</th>\n      <td>461</td>\n      <td>1</td>\n      <td>1</td>\n      <td>Anderson, Mr. Harry</td>\n      <td>male</td>\n      <td>48.0</td>\n      <td>0</td>\n      <td>0</td>\n      <td>19952</td>\n      <td>26.5500</td>\n      <td>E12</td>\n      <td>S</td>\n    </tr>\n    <tr>\n      <th>20</th>\n      <td>21</td>\n      <td>0</td>\n      <td>2</td>\n      <td>Fynney, Mr. Joseph J</td>\n      <td>male</td>\n      <td>35.0</td>\n      <td>0</td>\n      <td>0</td>\n      <td>239865</td>\n      <td>26.0000</td>\n      <td>NaN</td>\n      <td>S</td>\n    </tr>\n    <tr>\n      <th>504</th>\n      <td>505</td>\n      <td>1</td>\n      <td>1</td>\n      <td>Maioni, Miss. Roberta</td>\n      <td>female</td>\n      <td>16.0</td>\n      <td>0</td>\n      <td>0</td>\n      <td>110152</td>\n      <td>86.5000</td>\n      <td>B79</td>\n      <td>S</td>\n    </tr>\n    <tr>\n      <th>418</th>\n      <td>419</td>\n      <td>0</td>\n      <td>2</td>\n      <td>Matthews, Mr. William John</td>\n      <td>male</td>\n      <td>30.0</td>\n      <td>0</td>\n      <td>0</td>\n      <td>28228</td>\n      <td>13.0000</td>\n      <td>NaN</td>\n      <td>S</td>\n    </tr>\n  </tbody>\n</table>\n</div>"
          },
          "execution_count": 36,
          "metadata": {},
          "output_type": "execute_result"
        }
      ],
      "source": [
        "titanic.sample(5)"
      ],
      "metadata": {
        "id": "cw80wiCAneVt",
        "outputId": "7c03a1af-12fa-4700-dba4-c57b7d28cc29"
      }
    },
    {
      "cell_type": "markdown",
      "source": [
        "С помощью метода `take()` получим 5, 15 и 125 строки:"
      ],
      "metadata": {
        "collapsed": false,
        "id": "_s7M7XPYneVu"
      }
    },
    {
      "cell_type": "code",
      "execution_count": null,
      "outputs": [
        {
          "data": {
            "text/plain": "     PassengerId  Survived  Pclass                              Name     Sex  \\\n5              6         0       3                  Moran, Mr. James    male   \n15            16         1       2  Hewlett, Mrs. (Mary D Kingcome)   female   \n125          126         1       3      Nicola-Yarred, Master. Elias    male   \n\n      Age  SibSp  Parch  Ticket     Fare Cabin Embarked  \n5     NaN      0      0  330877   8.4583   NaN        Q  \n15   55.0      0      0  248706  16.0000   NaN        S  \n125  12.0      1      0    2651  11.2417   NaN        C  ",
            "text/html": "<div>\n<style scoped>\n    .dataframe tbody tr th:only-of-type {\n        vertical-align: middle;\n    }\n\n    .dataframe tbody tr th {\n        vertical-align: top;\n    }\n\n    .dataframe thead th {\n        text-align: right;\n    }\n</style>\n<table border=\"1\" class=\"dataframe\">\n  <thead>\n    <tr style=\"text-align: right;\">\n      <th></th>\n      <th>PassengerId</th>\n      <th>Survived</th>\n      <th>Pclass</th>\n      <th>Name</th>\n      <th>Sex</th>\n      <th>Age</th>\n      <th>SibSp</th>\n      <th>Parch</th>\n      <th>Ticket</th>\n      <th>Fare</th>\n      <th>Cabin</th>\n      <th>Embarked</th>\n    </tr>\n  </thead>\n  <tbody>\n    <tr>\n      <th>5</th>\n      <td>6</td>\n      <td>0</td>\n      <td>3</td>\n      <td>Moran, Mr. James</td>\n      <td>male</td>\n      <td>NaN</td>\n      <td>0</td>\n      <td>0</td>\n      <td>330877</td>\n      <td>8.4583</td>\n      <td>NaN</td>\n      <td>Q</td>\n    </tr>\n    <tr>\n      <th>15</th>\n      <td>16</td>\n      <td>1</td>\n      <td>2</td>\n      <td>Hewlett, Mrs. (Mary D Kingcome)</td>\n      <td>female</td>\n      <td>55.0</td>\n      <td>0</td>\n      <td>0</td>\n      <td>248706</td>\n      <td>16.0000</td>\n      <td>NaN</td>\n      <td>S</td>\n    </tr>\n    <tr>\n      <th>125</th>\n      <td>126</td>\n      <td>1</td>\n      <td>3</td>\n      <td>Nicola-Yarred, Master. Elias</td>\n      <td>male</td>\n      <td>12.0</td>\n      <td>1</td>\n      <td>0</td>\n      <td>2651</td>\n      <td>11.2417</td>\n      <td>NaN</td>\n      <td>C</td>\n    </tr>\n  </tbody>\n</table>\n</div>"
          },
          "execution_count": 37,
          "metadata": {},
          "output_type": "execute_result"
        }
      ],
      "source": [
        "titanic.take([5, 15, 125])"
      ],
      "metadata": {
        "id": "7N7FD36CneVu",
        "outputId": "28c57297-6475-47db-e3fc-f11cc91ac981"
      }
    },
    {
      "cell_type": "markdown",
      "source": [
        "Посмотрим размер таблички (число наблюдений, число признаков):"
      ],
      "metadata": {
        "collapsed": false,
        "id": "huLGvAbtneVu"
      }
    },
    {
      "cell_type": "code",
      "execution_count": null,
      "outputs": [
        {
          "data": {
            "text/plain": "(891, 15)"
          },
          "execution_count": 147,
          "metadata": {},
          "output_type": "execute_result"
        }
      ],
      "source": [
        "titanic.shape"
      ],
      "metadata": {
        "id": "ZVMV6G5qneVu",
        "outputId": "1334b645-6a13-4688-d0c0-09c34075ecb7"
      }
    },
    {
      "cell_type": "markdown",
      "source": [
        "С помощью обращения к атрибуту `dtypes` можно проверить, какие типы данных хранятся в столбцах таблицы:"
      ],
      "metadata": {
        "collapsed": false,
        "id": "4q_3reM4neVv"
      }
    },
    {
      "cell_type": "code",
      "execution_count": null,
      "outputs": [
        {
          "data": {
            "text/plain": "PassengerId      int64\nSurvived         int64\nPclass           int64\nName            object\nSex             object\nAge            float64\nSibSp            int64\nParch            int64\nTicket          object\nFare           float64\nCabin           object\nEmbarked        object\ndtype: object"
          },
          "execution_count": 38,
          "metadata": {},
          "output_type": "execute_result"
        }
      ],
      "source": [
        "titanic.dtypes"
      ],
      "metadata": {
        "id": "VM53a3onneVv",
        "outputId": "47c5ddd6-e94a-4af2-b686-78665e09bc07"
      }
    },
    {
      "cell_type": "markdown",
      "source": [
        "Типы данных в этом `DataFrame` - целые числа (`int64`), числа с плавающей точкой (`float64`) и строки (`object`).\n",
        "При запросе `dtypes` скобки не используются! `dtypes` является атрибутом `DataFrame` и `Series`. Атрибуты представляют собой характеристику `DataFrame` / `Series`, тогда как метод (для которого требуются скобки) что-то делает с `DataFrame` / `Series`.\n",
        "\n",
        "Техническом детали `DataFrame`:"
      ],
      "metadata": {
        "collapsed": false,
        "id": "5HHX7gWDneVv"
      }
    },
    {
      "cell_type": "code",
      "execution_count": null,
      "outputs": [
        {
          "name": "stdout",
          "output_type": "stream",
          "text": [
            "<class 'pandas.core.frame.DataFrame'>\n",
            "RangeIndex: 891 entries, 0 to 890\n",
            "Data columns (total 12 columns):\n",
            " #   Column       Non-Null Count  Dtype  \n",
            "---  ------       --------------  -----  \n",
            " 0   PassengerId  891 non-null    int64  \n",
            " 1   Survived     891 non-null    int64  \n",
            " 2   Pclass       891 non-null    int64  \n",
            " 3   Name         891 non-null    object \n",
            " 4   Sex          891 non-null    object \n",
            " 5   Age          714 non-null    float64\n",
            " 6   SibSp        891 non-null    int64  \n",
            " 7   Parch        891 non-null    int64  \n",
            " 8   Ticket       891 non-null    object \n",
            " 9   Fare         891 non-null    float64\n",
            " 10  Cabin        204 non-null    object \n",
            " 11  Embarked     889 non-null    object \n",
            "dtypes: float64(2), int64(5), object(5)\n",
            "memory usage: 83.7+ KB\n"
          ]
        }
      ],
      "source": [
        "titanic.info()"
      ],
      "metadata": {
        "id": "8p462qSyneVy",
        "outputId": "3880bfdb-7804-476f-cd57-8f797b53e4e8"
      }
    },
    {
      "cell_type": "markdown",
      "source": [
        "Названия столбцов:"
      ],
      "metadata": {
        "collapsed": false,
        "id": "8lyM89V5neVz"
      }
    },
    {
      "cell_type": "code",
      "execution_count": null,
      "outputs": [
        {
          "data": {
            "text/plain": "Index(['PassengerId', 'Survived', 'Pclass', 'Sex', 'Age', 'SibSp', 'Parch',\n       'Ticket', 'Fare', 'Cabin', 'Embarked'],\n      dtype='object')"
          },
          "execution_count": 91,
          "metadata": {},
          "output_type": "execute_result"
        }
      ],
      "source": [
        "titanic.columns"
      ],
      "metadata": {
        "id": "LmxVgWFdneVz",
        "outputId": "726c798b-36b7-4a24-9c42-0d0b228909bc"
      }
    },
    {
      "cell_type": "markdown",
      "source": [
        "Названия строк:"
      ],
      "metadata": {
        "collapsed": false,
        "id": "dM2puCVPneV0"
      }
    },
    {
      "cell_type": "code",
      "execution_count": null,
      "outputs": [
        {
          "data": {
            "text/plain": "RangeIndex(start=0, stop=891, step=1)"
          },
          "execution_count": 154,
          "metadata": {},
          "output_type": "execute_result"
        }
      ],
      "source": [
        "titanic.index"
      ],
      "metadata": {
        "id": "xkabwzb2neV0",
        "outputId": "af94c556-4afe-416d-a197-b6d98bd552d2"
      }
    },
    {
      "cell_type": "markdown",
      "source": [
        "После просмотра некоторых строк датафрейма и технической информации попробуем получить представление о форме данных. В этом может помочь метод `describe`, позволяющий получить описательную статистику данных."
      ],
      "metadata": {
        "collapsed": false,
        "id": "ifazuCBfneV0"
      }
    },
    {
      "cell_type": "code",
      "execution_count": null,
      "outputs": [
        {
          "data": {
            "text/plain": "       PassengerId    Survived      Pclass         Age       SibSp  \\\ncount   891.000000  891.000000  891.000000  714.000000  891.000000   \nmean    446.000000    0.383838    2.308642   29.699118    0.523008   \nstd     257.353842    0.486592    0.836071   14.526497    1.102743   \nmin       1.000000    0.000000    1.000000    0.420000    0.000000   \n25%     223.500000    0.000000    2.000000   20.125000    0.000000   \n50%     446.000000    0.000000    3.000000   28.000000    0.000000   \n75%     668.500000    1.000000    3.000000   38.000000    1.000000   \nmax     891.000000    1.000000    3.000000   80.000000    8.000000   \n\n            Parch        Fare  \ncount  891.000000  891.000000  \nmean     0.381594   32.204208  \nstd      0.806057   49.693429  \nmin      0.000000    0.000000  \n25%      0.000000    7.910400  \n50%      0.000000   14.454200  \n75%      0.000000   31.000000  \nmax      6.000000  512.329200  ",
            "text/html": "<div>\n<style scoped>\n    .dataframe tbody tr th:only-of-type {\n        vertical-align: middle;\n    }\n\n    .dataframe tbody tr th {\n        vertical-align: top;\n    }\n\n    .dataframe thead th {\n        text-align: right;\n    }\n</style>\n<table border=\"1\" class=\"dataframe\">\n  <thead>\n    <tr style=\"text-align: right;\">\n      <th></th>\n      <th>PassengerId</th>\n      <th>Survived</th>\n      <th>Pclass</th>\n      <th>Age</th>\n      <th>SibSp</th>\n      <th>Parch</th>\n      <th>Fare</th>\n    </tr>\n  </thead>\n  <tbody>\n    <tr>\n      <th>count</th>\n      <td>891.000000</td>\n      <td>891.000000</td>\n      <td>891.000000</td>\n      <td>714.000000</td>\n      <td>891.000000</td>\n      <td>891.000000</td>\n      <td>891.000000</td>\n    </tr>\n    <tr>\n      <th>mean</th>\n      <td>446.000000</td>\n      <td>0.383838</td>\n      <td>2.308642</td>\n      <td>29.699118</td>\n      <td>0.523008</td>\n      <td>0.381594</td>\n      <td>32.204208</td>\n    </tr>\n    <tr>\n      <th>std</th>\n      <td>257.353842</td>\n      <td>0.486592</td>\n      <td>0.836071</td>\n      <td>14.526497</td>\n      <td>1.102743</td>\n      <td>0.806057</td>\n      <td>49.693429</td>\n    </tr>\n    <tr>\n      <th>min</th>\n      <td>1.000000</td>\n      <td>0.000000</td>\n      <td>1.000000</td>\n      <td>0.420000</td>\n      <td>0.000000</td>\n      <td>0.000000</td>\n      <td>0.000000</td>\n    </tr>\n    <tr>\n      <th>25%</th>\n      <td>223.500000</td>\n      <td>0.000000</td>\n      <td>2.000000</td>\n      <td>20.125000</td>\n      <td>0.000000</td>\n      <td>0.000000</td>\n      <td>7.910400</td>\n    </tr>\n    <tr>\n      <th>50%</th>\n      <td>446.000000</td>\n      <td>0.000000</td>\n      <td>3.000000</td>\n      <td>28.000000</td>\n      <td>0.000000</td>\n      <td>0.000000</td>\n      <td>14.454200</td>\n    </tr>\n    <tr>\n      <th>75%</th>\n      <td>668.500000</td>\n      <td>1.000000</td>\n      <td>3.000000</td>\n      <td>38.000000</td>\n      <td>1.000000</td>\n      <td>0.000000</td>\n      <td>31.000000</td>\n    </tr>\n    <tr>\n      <th>max</th>\n      <td>891.000000</td>\n      <td>1.000000</td>\n      <td>3.000000</td>\n      <td>80.000000</td>\n      <td>8.000000</td>\n      <td>6.000000</td>\n      <td>512.329200</td>\n    </tr>\n  </tbody>\n</table>\n</div>"
          },
          "execution_count": 155,
          "metadata": {},
          "output_type": "execute_result"
        }
      ],
      "source": [
        "titanic.describe()"
      ],
      "metadata": {
        "id": "oB5509v-neV1",
        "outputId": "23d9bb6a-246c-4c72-fa40-af2881702be5"
      }
    },
    {
      "cell_type": "markdown",
      "source": [
        "Этот метод вычисляет количество, среднее и стандартное отклонение, минимум, максимум и квантили для столбцов с числовыми данными. По этим статистикам можно понять, одинаковый ли масштаб имеют признаки (например, Age измеряется от 0 до 80, а Pclass в единицах - от 1 до 3). Также можно понять, есть ли пропуски в данных (по count). Например, в графе Age есть пропуски."
      ],
      "metadata": {
        "collapsed": false,
        "id": "-N__ZPvoneV1"
      }
    },
    {
      "cell_type": "code",
      "execution_count": null,
      "outputs": [
        {
          "data": {
            "text/plain": "<Axes: >"
          },
          "execution_count": 42,
          "metadata": {},
          "output_type": "execute_result"
        },
        {
          "data": {
            "text/plain": "<Figure size 640x480 with 1 Axes>",
            "image/png": "[encoded data removed]"
          },
          "metadata": {},
          "output_type": "display_data"
        }
      ],
      "source": [
        "titanic[\"Age\"].hist()"
      ],
      "metadata": {
        "id": "p3qFgKCvneV1",
        "outputId": "ac8e0187-a769-417d-93f4-a54cb50f1ca4"
      }
    },
    {
      "cell_type": "markdown",
      "source": [
        "Чтобы просмотреть статистику, рассчитанную из нечисловых столбцов, укажите типы данных для обработки. Это можно сделать с помощью ключевого слова `include`:"
      ],
      "metadata": {
        "collapsed": false,
        "id": "9qhg89SBneV1"
      }
    },
    {
      "cell_type": "code",
      "execution_count": null,
      "outputs": [
        {
          "data": {
            "text/plain": "                           Name   Sex  Ticket    Cabin Embarked\ncount                       891   891     891      204      889\nunique                      891     2     681      147        3\ntop     Braund, Mr. Owen Harris  male  347082  B96 B98        S\nfreq                          1   577       7        4      644",
            "text/html": "<div>\n<style scoped>\n    .dataframe tbody tr th:only-of-type {\n        vertical-align: middle;\n    }\n\n    .dataframe tbody tr th {\n        vertical-align: top;\n    }\n\n    .dataframe thead th {\n        text-align: right;\n    }\n</style>\n<table border=\"1\" class=\"dataframe\">\n  <thead>\n    <tr style=\"text-align: right;\">\n      <th></th>\n      <th>Name</th>\n      <th>Sex</th>\n      <th>Ticket</th>\n      <th>Cabin</th>\n      <th>Embarked</th>\n    </tr>\n  </thead>\n  <tbody>\n    <tr>\n      <th>count</th>\n      <td>891</td>\n      <td>891</td>\n      <td>891</td>\n      <td>204</td>\n      <td>889</td>\n    </tr>\n    <tr>\n      <th>unique</th>\n      <td>891</td>\n      <td>2</td>\n      <td>681</td>\n      <td>147</td>\n      <td>3</td>\n    </tr>\n    <tr>\n      <th>top</th>\n      <td>Braund, Mr. Owen Harris</td>\n      <td>male</td>\n      <td>347082</td>\n      <td>B96 B98</td>\n      <td>S</td>\n    </tr>\n    <tr>\n      <th>freq</th>\n      <td>1</td>\n      <td>577</td>\n      <td>7</td>\n      <td>4</td>\n      <td>644</td>\n    </tr>\n  </tbody>\n</table>\n</div>"
          },
          "execution_count": 46,
          "metadata": {},
          "output_type": "execute_result"
        }
      ],
      "source": [
        "titanic.describe(include=\"object\")"
      ],
      "metadata": {
        "id": "zkCjWP3HneV2",
        "outputId": "fc5beeec-e39e-4ce5-af9e-fb5502a46532"
      }
    },
    {
      "cell_type": "markdown",
      "source": [
        "Уникальные значения в столбце:"
      ],
      "metadata": {
        "collapsed": false,
        "id": "RFEmES7_neV2"
      }
    },
    {
      "cell_type": "code",
      "execution_count": null,
      "outputs": [
        {
          "data": {
            "text/plain": "{'female', 'male'}"
          },
          "execution_count": 156,
          "metadata": {},
          "output_type": "execute_result"
        }
      ],
      "source": [
        "set(titanic[\"Sex\"])"
      ],
      "metadata": {
        "id": "T3uIF6pzneV2",
        "outputId": "43c01e56-60c0-49f0-9f0a-8e461ffbe05d"
      }
    },
    {
      "cell_type": "code",
      "execution_count": null,
      "outputs": [
        {
          "data": {
            "text/plain": "array(['male', 'female'], dtype=object)"
          },
          "execution_count": 157,
          "metadata": {},
          "output_type": "execute_result"
        }
      ],
      "source": [
        "titanic['Sex'].unique()"
      ],
      "metadata": {
        "id": "JjixtfG2neV3",
        "outputId": "9d044b1c-ed86-4d8b-c90c-53d7ac52f4c1"
      }
    },
    {
      "cell_type": "markdown",
      "source": [
        "Уникальные значения в столбце с числом строк с таким значением:"
      ],
      "metadata": {
        "collapsed": false,
        "id": "EOm3h1qUneV3"
      }
    },
    {
      "cell_type": "code",
      "execution_count": null,
      "outputs": [
        {
          "data": {
            "text/plain": "male      577\nfemale    314\nName: Sex, dtype: int64"
          },
          "execution_count": 158,
          "metadata": {},
          "output_type": "execute_result"
        }
      ],
      "source": [
        "titanic[\"Sex\"].value_counts()"
      ],
      "metadata": {
        "id": "L1eTMLmvneV3",
        "outputId": "71933b6d-a0b5-4c28-f8f3-db92da0d81af"
      }
    },
    {
      "cell_type": "markdown",
      "source": [
        "Итак, для строк мы получаем количество, число уникальных значений, верхнее значение и его частоту.\n",
        "\n",
        "После первичного просмотра фрейма с помощью `head` и `tail` и получения представления о форме данных с помощью `describe` можно начать просматривать данные\n",
        "и отдельные столбцы, строки или ячейки.\n",
        "\n",
        "Попробуем получить информацию о пассажире и его билете:"
      ],
      "metadata": {
        "collapsed": false,
        "id": "Qv95bqZmneV3"
      }
    },
    {
      "cell_type": "code",
      "execution_count": null,
      "outputs": [
        {
          "data": {
            "text/plain": "                                                Name            Ticket\n0                            Braund, Mr. Owen Harris         A/5 21171\n1  Cumings, Mrs. John Bradley (Florence Briggs Th...          PC 17599\n2                             Heikkinen, Miss. Laina  STON/O2. 3101282\n3       Futrelle, Mrs. Jacques Heath (Lily May Peel)            113803\n4                           Allen, Mr. William Henry            373450",
            "text/html": "<div>\n<style scoped>\n    .dataframe tbody tr th:only-of-type {\n        vertical-align: middle;\n    }\n\n    .dataframe tbody tr th {\n        vertical-align: top;\n    }\n\n    .dataframe thead th {\n        text-align: right;\n    }\n</style>\n<table border=\"1\" class=\"dataframe\">\n  <thead>\n    <tr style=\"text-align: right;\">\n      <th></th>\n      <th>Name</th>\n      <th>Ticket</th>\n    </tr>\n  </thead>\n  <tbody>\n    <tr>\n      <th>0</th>\n      <td>Braund, Mr. Owen Harris</td>\n      <td>A/5 21171</td>\n    </tr>\n    <tr>\n      <th>1</th>\n      <td>Cumings, Mrs. John Bradley (Florence Briggs Th...</td>\n      <td>PC 17599</td>\n    </tr>\n    <tr>\n      <th>2</th>\n      <td>Heikkinen, Miss. Laina</td>\n      <td>STON/O2. 3101282</td>\n    </tr>\n    <tr>\n      <th>3</th>\n      <td>Futrelle, Mrs. Jacques Heath (Lily May Peel)</td>\n      <td>113803</td>\n    </tr>\n    <tr>\n      <th>4</th>\n      <td>Allen, Mr. William Henry</td>\n      <td>373450</td>\n    </tr>\n  </tbody>\n</table>\n</div>"
          },
          "execution_count": 49,
          "metadata": {},
          "output_type": "execute_result"
        }
      ],
      "source": [
        "titanic[['Name', 'Ticket']].head()"
      ],
      "metadata": {
        "id": "3oM82oI-neV4",
        "outputId": "76bcdb95-ab48-4530-c5f6-bdc3969a14eb"
      }
    },
    {
      "cell_type": "markdown",
      "source": [
        "Синтаксис скобок перегружен, чтобы мы смогли захватить как строки, так и столбцы. Для указания строк нужно использовать срез в качестве аргумента. Если он использует целые числа, то они представляют возвращаемые номера строк.\n",
        "\n",
        "Например, для возврата строк 3, 4 и 5 из датафрейма мы можем использовать срез 3:6:"
      ],
      "metadata": {
        "collapsed": false,
        "id": "RznnV5ZGneV4"
      }
    },
    {
      "cell_type": "code",
      "execution_count": null,
      "outputs": [
        {
          "data": {
            "text/plain": "                                                    PassengerId  Survived  \\\nName                                                                        \nBraund, Mr. Owen Harris                                       1         0   \nCumings, Mrs. John Bradley (Florence Briggs Tha...            2         1   \nHeikkinen, Miss. Laina                                        3         1   \nFutrelle, Mrs. Jacques Heath (Lily May Peel)                  4         1   \nAllen, Mr. William Henry                                      5         0   \n...                                                         ...       ...   \nMontvila, Rev. Juozas                                       887         0   \nGraham, Miss. Margaret Edith                                888         1   \nJohnston, Miss. Catherine Helen \"Carrie\"                    889         0   \nBehr, Mr. Karl Howell                                       890         1   \nDooley, Mr. Patrick                                         891         0   \n\n                                                    Pclass     Sex   Age  \\\nName                                                                       \nBraund, Mr. Owen Harris                                  3    male  22.0   \nCumings, Mrs. John Bradley (Florence Briggs Tha...       1  female  38.0   \nHeikkinen, Miss. Laina                                   3  female  26.0   \nFutrelle, Mrs. Jacques Heath (Lily May Peel)             1  female  35.0   \nAllen, Mr. William Henry                                 3    male  35.0   \n...                                                    ...     ...   ...   \nMontvila, Rev. Juozas                                    2    male  27.0   \nGraham, Miss. Margaret Edith                             1  female  19.0   \nJohnston, Miss. Catherine Helen \"Carrie\"                 3  female   NaN   \nBehr, Mr. Karl Howell                                    1    male  26.0   \nDooley, Mr. Patrick                                      3    male  32.0   \n\n                                                    SibSp  Parch  \\\nName                                                               \nBraund, Mr. Owen Harris                                 1      0   \nCumings, Mrs. John Bradley (Florence Briggs Tha...      1      0   \nHeikkinen, Miss. Laina                                  0      0   \nFutrelle, Mrs. Jacques Heath (Lily May Peel)            1      0   \nAllen, Mr. William Henry                                0      0   \n...                                                   ...    ...   \nMontvila, Rev. Juozas                                   0      0   \nGraham, Miss. Margaret Edith                            0      0   \nJohnston, Miss. Catherine Helen \"Carrie\"                1      2   \nBehr, Mr. Karl Howell                                   0      0   \nDooley, Mr. Patrick                                     0      0   \n\n                                                              Ticket     Fare  \\\nName                                                                            \nBraund, Mr. Owen Harris                                    A/5 21171   7.2500   \nCumings, Mrs. John Bradley (Florence Briggs Tha...          PC 17599  71.2833   \nHeikkinen, Miss. Laina                              STON/O2. 3101282   7.9250   \nFutrelle, Mrs. Jacques Heath (Lily May Peel)                  113803  53.1000   \nAllen, Mr. William Henry                                      373450   8.0500   \n...                                                              ...      ...   \nMontvila, Rev. Juozas                                         211536  13.0000   \nGraham, Miss. Margaret Edith                                  112053  30.0000   \nJohnston, Miss. Catherine Helen \"Carrie\"                  W./C. 6607  23.4500   \nBehr, Mr. Karl Howell                                         111369  30.0000   \nDooley, Mr. Patrick                                           370376   7.7500   \n\n                                                   Cabin Embarked  \nName                                                               \nBraund, Mr. Owen Harris                              NaN        S  \nCumings, Mrs. John Bradley (Florence Briggs Tha...   C85        C  \nHeikkinen, Miss. Laina                               NaN        S  \nFutrelle, Mrs. Jacques Heath (Lily May Peel)        C123        S  \nAllen, Mr. William Henry                             NaN        S  \n...                                                  ...      ...  \nMontvila, Rev. Juozas                                NaN        S  \nGraham, Miss. Margaret Edith                         B42        S  \nJohnston, Miss. Catherine Helen \"Carrie\"             NaN        S  \nBehr, Mr. Karl Howell                               C148        C  \nDooley, Mr. Patrick                                  NaN        Q  \n\n[891 rows x 11 columns]",
            "text/html": "<div>\n<style scoped>\n    .dataframe tbody tr th:only-of-type {\n        vertical-align: middle;\n    }\n\n    .dataframe tbody tr th {\n        vertical-align: top;\n    }\n\n    .dataframe thead th {\n        text-align: right;\n    }\n</style>\n<table border=\"1\" class=\"dataframe\">\n  <thead>\n    <tr style=\"text-align: right;\">\n      <th></th>\n      <th>PassengerId</th>\n      <th>Survived</th>\n      <th>Pclass</th>\n      <th>Sex</th>\n      <th>Age</th>\n      <th>SibSp</th>\n      <th>Parch</th>\n      <th>Ticket</th>\n      <th>Fare</th>\n      <th>Cabin</th>\n      <th>Embarked</th>\n    </tr>\n    <tr>\n      <th>Name</th>\n      <th></th>\n      <th></th>\n      <th></th>\n      <th></th>\n      <th></th>\n      <th></th>\n      <th></th>\n      <th></th>\n      <th></th>\n      <th></th>\n      <th></th>\n    </tr>\n  </thead>\n  <tbody>\n    <tr>\n      <th>Braund, Mr. Owen Harris</th>\n      <td>1</td>\n      <td>0</td>\n      <td>3</td>\n      <td>male</td>\n      <td>22.0</td>\n      <td>1</td>\n      <td>0</td>\n      <td>A/5 21171</td>\n      <td>7.2500</td>\n      <td>NaN</td>\n      <td>S</td>\n    </tr>\n    <tr>\n      <th>Cumings, Mrs. John Bradley (Florence Briggs Thayer)</th>\n      <td>2</td>\n      <td>1</td>\n      <td>1</td>\n      <td>female</td>\n      <td>38.0</td>\n      <td>1</td>\n      <td>0</td>\n      <td>PC 17599</td>\n      <td>71.2833</td>\n      <td>C85</td>\n      <td>C</td>\n    </tr>\n    <tr>\n      <th>Heikkinen, Miss. Laina</th>\n      <td>3</td>\n      <td>1</td>\n      <td>3</td>\n      <td>female</td>\n      <td>26.0</td>\n      <td>0</td>\n      <td>0</td>\n      <td>STON/O2. 3101282</td>\n      <td>7.9250</td>\n      <td>NaN</td>\n      <td>S</td>\n    </tr>\n    <tr>\n      <th>Futrelle, Mrs. Jacques Heath (Lily May Peel)</th>\n      <td>4</td>\n      <td>1</td>\n      <td>1</td>\n      <td>female</td>\n      <td>35.0</td>\n      <td>1</td>\n      <td>0</td>\n      <td>113803</td>\n      <td>53.1000</td>\n      <td>C123</td>\n      <td>S</td>\n    </tr>\n    <tr>\n      <th>Allen, Mr. William Henry</th>\n      <td>5</td>\n      <td>0</td>\n      <td>3</td>\n      <td>male</td>\n      <td>35.0</td>\n      <td>0</td>\n      <td>0</td>\n      <td>373450</td>\n      <td>8.0500</td>\n      <td>NaN</td>\n      <td>S</td>\n    </tr>\n    <tr>\n      <th>...</th>\n      <td>...</td>\n      <td>...</td>\n      <td>...</td>\n      <td>...</td>\n      <td>...</td>\n      <td>...</td>\n      <td>...</td>\n      <td>...</td>\n      <td>...</td>\n      <td>...</td>\n      <td>...</td>\n    </tr>\n    <tr>\n      <th>Montvila, Rev. Juozas</th>\n      <td>887</td>\n      <td>0</td>\n      <td>2</td>\n      <td>male</td>\n      <td>27.0</td>\n      <td>0</td>\n      <td>0</td>\n      <td>211536</td>\n      <td>13.0000</td>\n      <td>NaN</td>\n      <td>S</td>\n    </tr>\n    <tr>\n      <th>Graham, Miss. Margaret Edith</th>\n      <td>888</td>\n      <td>1</td>\n      <td>1</td>\n      <td>female</td>\n      <td>19.0</td>\n      <td>0</td>\n      <td>0</td>\n      <td>112053</td>\n      <td>30.0000</td>\n      <td>B42</td>\n      <td>S</td>\n    </tr>\n    <tr>\n      <th>Johnston, Miss. Catherine Helen \"Carrie\"</th>\n      <td>889</td>\n      <td>0</td>\n      <td>3</td>\n      <td>female</td>\n      <td>NaN</td>\n      <td>1</td>\n      <td>2</td>\n      <td>W./C. 6607</td>\n      <td>23.4500</td>\n      <td>NaN</td>\n      <td>S</td>\n    </tr>\n    <tr>\n      <th>Behr, Mr. Karl Howell</th>\n      <td>890</td>\n      <td>1</td>\n      <td>1</td>\n      <td>male</td>\n      <td>26.0</td>\n      <td>0</td>\n      <td>0</td>\n      <td>111369</td>\n      <td>30.0000</td>\n      <td>C148</td>\n      <td>C</td>\n    </tr>\n    <tr>\n      <th>Dooley, Mr. Patrick</th>\n      <td>891</td>\n      <td>0</td>\n      <td>3</td>\n      <td>male</td>\n      <td>32.0</td>\n      <td>0</td>\n      <td>0</td>\n      <td>370376</td>\n      <td>7.7500</td>\n      <td>NaN</td>\n      <td>Q</td>\n    </tr>\n  </tbody>\n</table>\n<p>891 rows × 11 columns</p>\n</div>"
          },
          "execution_count": 73,
          "metadata": {},
          "output_type": "execute_result"
        }
      ],
      "source": [
        "# Зададим столбец Name для названий строк (index):\n",
        "titanic = titanic.set_index('Name')\n",
        "titanic"
      ],
      "metadata": {
        "id": "T303tJbmneV4",
        "outputId": "e8c47658-f530-4efb-973a-925ba8ee749d"
      }
    },
    {
      "cell_type": "markdown",
      "source": [
        "Теперь строки индексируются с помощью `Name` (выделено жирным в начале каждой строки)."
      ],
      "metadata": {
        "collapsed": false,
        "id": "ZtZaAX3RneV4"
      }
    },
    {
      "cell_type": "code",
      "execution_count": null,
      "outputs": [
        {
          "data": {
            "text/plain": "                                              PassengerId  Survived  Pclass  \\\nName                                                                          \nFutrelle, Mrs. Jacques Heath (Lily May Peel)            4         1       1   \nAllen, Mr. William Henry                                5         0       3   \nMoran, Mr. James                                        6         0       3   \n\n                                                 Sex   Age  SibSp  Parch  \\\nName                                                                       \nFutrelle, Mrs. Jacques Heath (Lily May Peel)  female  35.0      1      0   \nAllen, Mr. William Henry                        male  35.0      0      0   \nMoran, Mr. James                                male   NaN      0      0   \n\n                                              Ticket     Fare Cabin Embarked  \nName                                                                          \nFutrelle, Mrs. Jacques Heath (Lily May Peel)  113803  53.1000  C123        S  \nAllen, Mr. William Henry                      373450   8.0500   NaN        S  \nMoran, Mr. James                              330877   8.4583   NaN        Q  ",
            "text/html": "<div>\n<style scoped>\n    .dataframe tbody tr th:only-of-type {\n        vertical-align: middle;\n    }\n\n    .dataframe tbody tr th {\n        vertical-align: top;\n    }\n\n    .dataframe thead th {\n        text-align: right;\n    }\n</style>\n<table border=\"1\" class=\"dataframe\">\n  <thead>\n    <tr style=\"text-align: right;\">\n      <th></th>\n      <th>PassengerId</th>\n      <th>Survived</th>\n      <th>Pclass</th>\n      <th>Sex</th>\n      <th>Age</th>\n      <th>SibSp</th>\n      <th>Parch</th>\n      <th>Ticket</th>\n      <th>Fare</th>\n      <th>Cabin</th>\n      <th>Embarked</th>\n    </tr>\n    <tr>\n      <th>Name</th>\n      <th></th>\n      <th></th>\n      <th></th>\n      <th></th>\n      <th></th>\n      <th></th>\n      <th></th>\n      <th></th>\n      <th></th>\n      <th></th>\n      <th></th>\n    </tr>\n  </thead>\n  <tbody>\n    <tr>\n      <th>Futrelle, Mrs. Jacques Heath (Lily May Peel)</th>\n      <td>4</td>\n      <td>1</td>\n      <td>1</td>\n      <td>female</td>\n      <td>35.0</td>\n      <td>1</td>\n      <td>0</td>\n      <td>113803</td>\n      <td>53.1000</td>\n      <td>C123</td>\n      <td>S</td>\n    </tr>\n    <tr>\n      <th>Allen, Mr. William Henry</th>\n      <td>5</td>\n      <td>0</td>\n      <td>3</td>\n      <td>male</td>\n      <td>35.0</td>\n      <td>0</td>\n      <td>0</td>\n      <td>373450</td>\n      <td>8.0500</td>\n      <td>NaN</td>\n      <td>S</td>\n    </tr>\n    <tr>\n      <th>Moran, Mr. James</th>\n      <td>6</td>\n      <td>0</td>\n      <td>3</td>\n      <td>male</td>\n      <td>NaN</td>\n      <td>0</td>\n      <td>0</td>\n      <td>330877</td>\n      <td>8.4583</td>\n      <td>NaN</td>\n      <td>Q</td>\n    </tr>\n  </tbody>\n</table>\n</div>"
          },
          "execution_count": 65,
          "metadata": {},
          "output_type": "execute_result"
        }
      ],
      "source": [
        "titanic[3:6]"
      ],
      "metadata": {
        "id": "O5p0YoDbneV5",
        "outputId": "323035db-f558-43e4-d001-c992453d6a28"
      }
    },
    {
      "cell_type": "markdown",
      "source": [
        "Срез можно производить и с помощью меток индексов. При их использовании будет включено последнее значение."
      ],
      "metadata": {
        "collapsed": false,
        "id": "cFmfIzOPneV5"
      }
    },
    {
      "cell_type": "code",
      "execution_count": null,
      "outputs": [
        {
          "data": {
            "text/plain": "                                              PassengerId  Survived  Pclass  \\\nName                                                                          \nHeikkinen, Miss. Laina                                  3         1       3   \nFutrelle, Mrs. Jacques Heath (Lily May Peel)            4         1       1   \nAllen, Mr. William Henry                                5         0       3   \nMoran, Mr. James                                        6         0       3   \n\n                                                 Sex   Age  SibSp  Parch  \\\nName                                                                       \nHeikkinen, Miss. Laina                        female  26.0      0      0   \nFutrelle, Mrs. Jacques Heath (Lily May Peel)  female  35.0      1      0   \nAllen, Mr. William Henry                        male  35.0      0      0   \nMoran, Mr. James                                male   NaN      0      0   \n\n                                                        Ticket     Fare Cabin  \\\nName                                                                            \nHeikkinen, Miss. Laina                        STON/O2. 3101282   7.9250   NaN   \nFutrelle, Mrs. Jacques Heath (Lily May Peel)            113803  53.1000  C123   \nAllen, Mr. William Henry                                373450   8.0500   NaN   \nMoran, Mr. James                                        330877   8.4583   NaN   \n\n                                             Embarked  \nName                                                   \nHeikkinen, Miss. Laina                              S  \nFutrelle, Mrs. Jacques Heath (Lily May Peel)        S  \nAllen, Mr. William Henry                            S  \nMoran, Mr. James                                    Q  ",
            "text/html": "<div>\n<style scoped>\n    .dataframe tbody tr th:only-of-type {\n        vertical-align: middle;\n    }\n\n    .dataframe tbody tr th {\n        vertical-align: top;\n    }\n\n    .dataframe thead th {\n        text-align: right;\n    }\n</style>\n<table border=\"1\" class=\"dataframe\">\n  <thead>\n    <tr style=\"text-align: right;\">\n      <th></th>\n      <th>PassengerId</th>\n      <th>Survived</th>\n      <th>Pclass</th>\n      <th>Sex</th>\n      <th>Age</th>\n      <th>SibSp</th>\n      <th>Parch</th>\n      <th>Ticket</th>\n      <th>Fare</th>\n      <th>Cabin</th>\n      <th>Embarked</th>\n    </tr>\n    <tr>\n      <th>Name</th>\n      <th></th>\n      <th></th>\n      <th></th>\n      <th></th>\n      <th></th>\n      <th></th>\n      <th></th>\n      <th></th>\n      <th></th>\n      <th></th>\n      <th></th>\n    </tr>\n  </thead>\n  <tbody>\n    <tr>\n      <th>Heikkinen, Miss. Laina</th>\n      <td>3</td>\n      <td>1</td>\n      <td>3</td>\n      <td>female</td>\n      <td>26.0</td>\n      <td>0</td>\n      <td>0</td>\n      <td>STON/O2. 3101282</td>\n      <td>7.9250</td>\n      <td>NaN</td>\n      <td>S</td>\n    </tr>\n    <tr>\n      <th>Futrelle, Mrs. Jacques Heath (Lily May Peel)</th>\n      <td>4</td>\n      <td>1</td>\n      <td>1</td>\n      <td>female</td>\n      <td>35.0</td>\n      <td>1</td>\n      <td>0</td>\n      <td>113803</td>\n      <td>53.1000</td>\n      <td>C123</td>\n      <td>S</td>\n    </tr>\n    <tr>\n      <th>Allen, Mr. William Henry</th>\n      <td>5</td>\n      <td>0</td>\n      <td>3</td>\n      <td>male</td>\n      <td>35.0</td>\n      <td>0</td>\n      <td>0</td>\n      <td>373450</td>\n      <td>8.0500</td>\n      <td>NaN</td>\n      <td>S</td>\n    </tr>\n    <tr>\n      <th>Moran, Mr. James</th>\n      <td>6</td>\n      <td>0</td>\n      <td>3</td>\n      <td>male</td>\n      <td>NaN</td>\n      <td>0</td>\n      <td>0</td>\n      <td>330877</td>\n      <td>8.4583</td>\n      <td>NaN</td>\n      <td>Q</td>\n    </tr>\n  </tbody>\n</table>\n</div>"
          },
          "execution_count": 66,
          "metadata": {},
          "output_type": "execute_result"
        }
      ],
      "source": [
        "titanic['Heikkinen, Miss. Laina': 'Moran, Mr. James']"
      ],
      "metadata": {
        "id": "EBCQw6ztneV6",
        "outputId": "6401e88b-df22-4737-bcde-085d48da558f"
      }
    },
    {
      "cell_type": "markdown",
      "source": [
        "**Оптимизированный доступ по метке**\n",
        "\n",
        "С помощью индексатора `loc` получим информацию о пассажире Palsson, Master. Gosta Leonard:"
      ],
      "metadata": {
        "collapsed": false,
        "id": "HjMtG6NyneV6"
      }
    },
    {
      "cell_type": "code",
      "execution_count": null,
      "outputs": [
        {
          "data": {
            "text/plain": "PassengerId         8\nSurvived            0\nPclass              3\nSex              male\nAge               2.0\nSibSp               3\nParch               1\nTicket         349909\nFare           21.075\nCabin             NaN\nEmbarked            S\nName: Palsson, Master. Gosta Leonard, dtype: object"
          },
          "execution_count": 78,
          "metadata": {},
          "output_type": "execute_result"
        }
      ],
      "source": [
        "titanic.loc['Palsson, Master. Gosta Leonard']"
      ],
      "metadata": {
        "id": "aM6uzN0PneV6",
        "outputId": "76dcd7ee-da5d-4f6a-a47d-81b86c031721"
      }
    },
    {
      "cell_type": "markdown",
      "source": [
        "Второй необязательный аргумент может указывать, какой столбец возвращать. Например, получим информацию о возрасте, кол-ве братьев, сестер или супругов на борту и кол-ве родителей или детей, с которыми путешествовал пассажир Palsson, Master. Gosta Leonard:"
      ],
      "metadata": {
        "collapsed": false,
        "id": "FmuXWg4IneV6"
      }
    },
    {
      "cell_type": "code",
      "execution_count": null,
      "outputs": [
        {
          "data": {
            "text/plain": "Age      2.0\nSibSp      3\nParch      1\nName: Palsson, Master. Gosta Leonard, dtype: object"
          },
          "execution_count": 79,
          "metadata": {},
          "output_type": "execute_result"
        }
      ],
      "source": [
        "titanic.loc['Palsson, Master. Gosta Leonard', ['Age','SibSp','Parch']]"
      ],
      "metadata": {
        "id": "odQIPPk8neV7",
        "outputId": "eed498a5-07d1-489e-a307-d16b3225ccc4"
      }
    },
    {
      "cell_type": "markdown",
      "source": [
        "**Оптимизированный доступ по позиции**\n",
        "\n",
        "С помощью индексатора `iloc` получим информацию о пассажире, который записан в третьей строке датафрейма:"
      ],
      "metadata": {
        "collapsed": false,
        "id": "eOevDZzHneV7"
      }
    },
    {
      "cell_type": "code",
      "execution_count": null,
      "outputs": [
        {
          "data": {
            "text/plain": "PassengerId         4\nSurvived            1\nPclass              1\nSex            female\nAge              35.0\nSibSp               1\nParch               0\nTicket         113803\nFare             53.1\nCabin            C123\nEmbarked            S\nName: Futrelle, Mrs. Jacques Heath (Lily May Peel), dtype: object"
          },
          "execution_count": 80,
          "metadata": {},
          "output_type": "execute_result"
        }
      ],
      "source": [
        "titanic.iloc[3]"
      ],
      "metadata": {
        "id": "n77KVy0DneV7",
        "outputId": "234e71b5-871a-4539-9b15-a3399c80aeb5"
      }
    },
    {
      "cell_type": "markdown",
      "source": [
        "Используя второй срез, можно указать, какой столбец возвращать:"
      ],
      "metadata": {
        "collapsed": false,
        "id": "U0rWJyRLneV8"
      }
    },
    {
      "cell_type": "code",
      "execution_count": null,
      "outputs": [
        {
          "data": {
            "text/plain": "                                                              Ticket     Fare  \\\nName                                                                            \nCumings, Mrs. John Bradley (Florence Briggs Tha...          PC 17599  71.2833   \nHeikkinen, Miss. Laina                              STON/O2. 3101282   7.9250   \nFutrelle, Mrs. Jacques Heath (Lily May Peel)                  113803  53.1000   \n\n                                                   Cabin Embarked  \nName                                                               \nCumings, Mrs. John Bradley (Florence Briggs Tha...   C85        C  \nHeikkinen, Miss. Laina                               NaN        S  \nFutrelle, Mrs. Jacques Heath (Lily May Peel)        C123        S  ",
            "text/html": "<div>\n<style scoped>\n    .dataframe tbody tr th:only-of-type {\n        vertical-align: middle;\n    }\n\n    .dataframe tbody tr th {\n        vertical-align: top;\n    }\n\n    .dataframe thead th {\n        text-align: right;\n    }\n</style>\n<table border=\"1\" class=\"dataframe\">\n  <thead>\n    <tr style=\"text-align: right;\">\n      <th></th>\n      <th>Ticket</th>\n      <th>Fare</th>\n      <th>Cabin</th>\n      <th>Embarked</th>\n    </tr>\n    <tr>\n      <th>Name</th>\n      <th></th>\n      <th></th>\n      <th></th>\n      <th></th>\n    </tr>\n  </thead>\n  <tbody>\n    <tr>\n      <th>Cumings, Mrs. John Bradley (Florence Briggs Thayer)</th>\n      <td>PC 17599</td>\n      <td>71.2833</td>\n      <td>C85</td>\n      <td>C</td>\n    </tr>\n    <tr>\n      <th>Heikkinen, Miss. Laina</th>\n      <td>STON/O2. 3101282</td>\n      <td>7.9250</td>\n      <td>NaN</td>\n      <td>S</td>\n    </tr>\n    <tr>\n      <th>Futrelle, Mrs. Jacques Heath (Lily May Peel)</th>\n      <td>113803</td>\n      <td>53.1000</td>\n      <td>C123</td>\n      <td>S</td>\n    </tr>\n  </tbody>\n</table>\n</div>"
          },
          "execution_count": 84,
          "metadata": {},
          "output_type": "execute_result"
        }
      ],
      "source": [
        "titanic.iloc[1:4, -4:]"
      ],
      "metadata": {
        "id": "Eqpim9QMneV8",
        "outputId": "96d10fff-ae5a-4c22-89fe-174f473dde30"
      }
    },
    {
      "cell_type": "code",
      "execution_count": null,
      "outputs": [
        {
          "data": {
            "text/plain": "                                                  Name  PassengerId  Survived  \\\n0                              Braund, Mr. Owen Harris            1         0   \n1    Cumings, Mrs. John Bradley (Florence Briggs Th...            2         1   \n2                               Heikkinen, Miss. Laina            3         1   \n3         Futrelle, Mrs. Jacques Heath (Lily May Peel)            4         1   \n4                             Allen, Mr. William Henry            5         0   \n..                                                 ...          ...       ...   \n886                              Montvila, Rev. Juozas          887         0   \n887                       Graham, Miss. Margaret Edith          888         1   \n888           Johnston, Miss. Catherine Helen \"Carrie\"          889         0   \n889                              Behr, Mr. Karl Howell          890         1   \n890                                Dooley, Mr. Patrick          891         0   \n\n     Pclass     Sex   Age  SibSp  Parch            Ticket     Fare Cabin  \\\n0         3    male  22.0      1      0         A/5 21171   7.2500   NaN   \n1         1  female  38.0      1      0          PC 17599  71.2833   C85   \n2         3  female  26.0      0      0  STON/O2. 3101282   7.9250   NaN   \n3         1  female  35.0      1      0            113803  53.1000  C123   \n4         3    male  35.0      0      0            373450   8.0500   NaN   \n..      ...     ...   ...    ...    ...               ...      ...   ...   \n886       2    male  27.0      0      0            211536  13.0000   NaN   \n887       1  female  19.0      0      0            112053  30.0000   B42   \n888       3  female   NaN      1      2        W./C. 6607  23.4500   NaN   \n889       1    male  26.0      0      0            111369  30.0000  C148   \n890       3    male  32.0      0      0            370376   7.7500   NaN   \n\n    Embarked  \n0          S  \n1          C  \n2          S  \n3          S  \n4          S  \n..       ...  \n886        S  \n887        S  \n888        S  \n889        C  \n890        Q  \n\n[891 rows x 12 columns]",
            "text/html": "<div>\n<style scoped>\n    .dataframe tbody tr th:only-of-type {\n        vertical-align: middle;\n    }\n\n    .dataframe tbody tr th {\n        vertical-align: top;\n    }\n\n    .dataframe thead th {\n        text-align: right;\n    }\n</style>\n<table border=\"1\" class=\"dataframe\">\n  <thead>\n    <tr style=\"text-align: right;\">\n      <th></th>\n      <th>Name</th>\n      <th>PassengerId</th>\n      <th>Survived</th>\n      <th>Pclass</th>\n      <th>Sex</th>\n      <th>Age</th>\n      <th>SibSp</th>\n      <th>Parch</th>\n      <th>Ticket</th>\n      <th>Fare</th>\n      <th>Cabin</th>\n      <th>Embarked</th>\n    </tr>\n  </thead>\n  <tbody>\n    <tr>\n      <th>0</th>\n      <td>Braund, Mr. Owen Harris</td>\n      <td>1</td>\n      <td>0</td>\n      <td>3</td>\n      <td>male</td>\n      <td>22.0</td>\n      <td>1</td>\n      <td>0</td>\n      <td>A/5 21171</td>\n      <td>7.2500</td>\n      <td>NaN</td>\n      <td>S</td>\n    </tr>\n    <tr>\n      <th>1</th>\n      <td>Cumings, Mrs. John Bradley (Florence Briggs Th...</td>\n      <td>2</td>\n      <td>1</td>\n      <td>1</td>\n      <td>female</td>\n      <td>38.0</td>\n      <td>1</td>\n      <td>0</td>\n      <td>PC 17599</td>\n      <td>71.2833</td>\n      <td>C85</td>\n      <td>C</td>\n    </tr>\n    <tr>\n      <th>2</th>\n      <td>Heikkinen, Miss. Laina</td>\n      <td>3</td>\n      <td>1</td>\n      <td>3</td>\n      <td>female</td>\n      <td>26.0</td>\n      <td>0</td>\n      <td>0</td>\n      <td>STON/O2. 3101282</td>\n      <td>7.9250</td>\n      <td>NaN</td>\n      <td>S</td>\n    </tr>\n    <tr>\n      <th>3</th>\n      <td>Futrelle, Mrs. Jacques Heath (Lily May Peel)</td>\n      <td>4</td>\n      <td>1</td>\n      <td>1</td>\n      <td>female</td>\n      <td>35.0</td>\n      <td>1</td>\n      <td>0</td>\n      <td>113803</td>\n      <td>53.1000</td>\n      <td>C123</td>\n      <td>S</td>\n    </tr>\n    <tr>\n      <th>4</th>\n      <td>Allen, Mr. William Henry</td>\n      <td>5</td>\n      <td>0</td>\n      <td>3</td>\n      <td>male</td>\n      <td>35.0</td>\n      <td>0</td>\n      <td>0</td>\n      <td>373450</td>\n      <td>8.0500</td>\n      <td>NaN</td>\n      <td>S</td>\n    </tr>\n    <tr>\n      <th>...</th>\n      <td>...</td>\n      <td>...</td>\n      <td>...</td>\n      <td>...</td>\n      <td>...</td>\n      <td>...</td>\n      <td>...</td>\n      <td>...</td>\n      <td>...</td>\n      <td>...</td>\n      <td>...</td>\n      <td>...</td>\n    </tr>\n    <tr>\n      <th>886</th>\n      <td>Montvila, Rev. Juozas</td>\n      <td>887</td>\n      <td>0</td>\n      <td>2</td>\n      <td>male</td>\n      <td>27.0</td>\n      <td>0</td>\n      <td>0</td>\n      <td>211536</td>\n      <td>13.0000</td>\n      <td>NaN</td>\n      <td>S</td>\n    </tr>\n    <tr>\n      <th>887</th>\n      <td>Graham, Miss. Margaret Edith</td>\n      <td>888</td>\n      <td>1</td>\n      <td>1</td>\n      <td>female</td>\n      <td>19.0</td>\n      <td>0</td>\n      <td>0</td>\n      <td>112053</td>\n      <td>30.0000</td>\n      <td>B42</td>\n      <td>S</td>\n    </tr>\n    <tr>\n      <th>888</th>\n      <td>Johnston, Miss. Catherine Helen \"Carrie\"</td>\n      <td>889</td>\n      <td>0</td>\n      <td>3</td>\n      <td>female</td>\n      <td>NaN</td>\n      <td>1</td>\n      <td>2</td>\n      <td>W./C. 6607</td>\n      <td>23.4500</td>\n      <td>NaN</td>\n      <td>S</td>\n    </tr>\n    <tr>\n      <th>889</th>\n      <td>Behr, Mr. Karl Howell</td>\n      <td>890</td>\n      <td>1</td>\n      <td>1</td>\n      <td>male</td>\n      <td>26.0</td>\n      <td>0</td>\n      <td>0</td>\n      <td>111369</td>\n      <td>30.0000</td>\n      <td>C148</td>\n      <td>C</td>\n    </tr>\n    <tr>\n      <th>890</th>\n      <td>Dooley, Mr. Patrick</td>\n      <td>891</td>\n      <td>0</td>\n      <td>3</td>\n      <td>male</td>\n      <td>32.0</td>\n      <td>0</td>\n      <td>0</td>\n      <td>370376</td>\n      <td>7.7500</td>\n      <td>NaN</td>\n      <td>Q</td>\n    </tr>\n  </tbody>\n</table>\n<p>891 rows × 12 columns</p>\n</div>"
          },
          "execution_count": 72,
          "metadata": {},
          "output_type": "execute_result"
        }
      ],
      "source": [
        "titanic = titanic.reset_index()\n",
        "titanic"
      ],
      "metadata": {
        "id": "iYMi4oFzneWA",
        "outputId": "8a51e0e1-f4ca-4176-aee5-f2ec3b30a1d1"
      }
    },
    {
      "cell_type": "markdown",
      "source": [
        "**Маски и фильтрация**\n",
        "\n",
        "Полезная особенность датафрейма — способность выбирать данные на основе значений. Мы можем использовать операторы сравнения И (&), ИЛИ (|) и НЕ (~) со столбцами, чтобы увидеть, какие значения удовлетворяют определенным условиям. Операторы & или | применяются для объединения и создания более сложных условий, а ~ — для создания маски, противоположной условию.\n",
        "\n",
        "Например, выведем информация о пассажирах-мужчинах 1 класса:"
      ],
      "metadata": {
        "collapsed": false,
        "id": "u8WvMDFzneWB"
      }
    },
    {
      "cell_type": "code",
      "execution_count": null,
      "outputs": [
        {
          "data": {
            "text/plain": "Name\nBraund, Mr. Owen Harris                                False\nCumings, Mrs. John Bradley (Florence Briggs Thayer)    False\nHeikkinen, Miss. Laina                                 False\nFutrelle, Mrs. Jacques Heath (Lily May Peel)           False\nAllen, Mr. William Henry                               False\n                                                       ...  \nMontvila, Rev. Juozas                                  False\nGraham, Miss. Margaret Edith                           False\nJohnston, Miss. Catherine Helen \"Carrie\"               False\nBehr, Mr. Karl Howell                                   True\nDooley, Mr. Patrick                                    False\nLength: 891, dtype: bool"
          },
          "execution_count": 89,
          "metadata": {},
          "output_type": "execute_result"
        }
      ],
      "source": [
        "mask = (titanic.Sex == 'male') & (titanic.Pclass == 1)\n",
        "mask"
      ],
      "metadata": {
        "id": "Gi4WQtP-neWB",
        "outputId": "38028924-0dfa-4f0d-8df9-a814f038a7e6"
      }
    },
    {
      "cell_type": "markdown",
      "source": [
        "Здесь создается объект `pandas.Series` со значением `True` для каждой строки, удовлетворяющей условию."
      ],
      "metadata": {
        "collapsed": false,
        "id": "Z-bHcKlaneWC"
      }
    },
    {
      "cell_type": "code",
      "execution_count": null,
      "outputs": [
        {
          "data": {
            "text/plain": "                                      PassengerId  Survived  Pclass   Sex  \\\nName                                                                        \nMcCarthy, Mr. Timothy J                         7         0       1  male   \nSloper, Mr. William Thompson                   24         1       1  male   \nFortune, Mr. Charles Alexander                 28         0       1  male   \nUruchurtu, Don. Manuel E                       31         0       1  male   \nMeyer, Mr. Edgar Joseph                        35         0       1  male   \n...                                           ...       ...     ...   ...   \nMarechal, Mr. Pierre                          840         1       1  male   \nDaly, Mr. Peter Denis                         858         1       1  male   \nRoebling, Mr. Washington Augustus II          868         0       1  male   \nCarlsson, Mr. Frans Olof                      873         0       1  male   \nBehr, Mr. Karl Howell                         890         1       1  male   \n\n                                       Age  SibSp  Parch    Ticket      Fare  \\\nName                                                                           \nMcCarthy, Mr. Timothy J               54.0      0      0     17463   51.8625   \nSloper, Mr. William Thompson          28.0      0      0    113788   35.5000   \nFortune, Mr. Charles Alexander        19.0      3      2     19950  263.0000   \nUruchurtu, Don. Manuel E              40.0      0      0  PC 17601   27.7208   \nMeyer, Mr. Edgar Joseph               28.0      1      0  PC 17604   82.1708   \n...                                    ...    ...    ...       ...       ...   \nMarechal, Mr. Pierre                   NaN      0      0     11774   29.7000   \nDaly, Mr. Peter Denis                 51.0      0      0    113055   26.5500   \nRoebling, Mr. Washington Augustus II  31.0      0      0  PC 17590   50.4958   \nCarlsson, Mr. Frans Olof              33.0      0      0       695    5.0000   \nBehr, Mr. Karl Howell                 26.0      0      0    111369   30.0000   \n\n                                            Cabin Embarked  \nName                                                        \nMcCarthy, Mr. Timothy J                       E46        S  \nSloper, Mr. William Thompson                   A6        S  \nFortune, Mr. Charles Alexander        C23 C25 C27        S  \nUruchurtu, Don. Manuel E                      NaN        C  \nMeyer, Mr. Edgar Joseph                       NaN        C  \n...                                           ...      ...  \nMarechal, Mr. Pierre                          C47        C  \nDaly, Mr. Peter Denis                         E17        S  \nRoebling, Mr. Washington Augustus II          A24        S  \nCarlsson, Mr. Frans Olof              B51 B53 B55        S  \nBehr, Mr. Karl Howell                        C148        C  \n\n[122 rows x 11 columns]",
            "text/html": "<div>\n<style scoped>\n    .dataframe tbody tr th:only-of-type {\n        vertical-align: middle;\n    }\n\n    .dataframe tbody tr th {\n        vertical-align: top;\n    }\n\n    .dataframe thead th {\n        text-align: right;\n    }\n</style>\n<table border=\"1\" class=\"dataframe\">\n  <thead>\n    <tr style=\"text-align: right;\">\n      <th></th>\n      <th>PassengerId</th>\n      <th>Survived</th>\n      <th>Pclass</th>\n      <th>Sex</th>\n      <th>Age</th>\n      <th>SibSp</th>\n      <th>Parch</th>\n      <th>Ticket</th>\n      <th>Fare</th>\n      <th>Cabin</th>\n      <th>Embarked</th>\n    </tr>\n    <tr>\n      <th>Name</th>\n      <th></th>\n      <th></th>\n      <th></th>\n      <th></th>\n      <th></th>\n      <th></th>\n      <th></th>\n      <th></th>\n      <th></th>\n      <th></th>\n      <th></th>\n    </tr>\n  </thead>\n  <tbody>\n    <tr>\n      <th>McCarthy, Mr. Timothy J</th>\n      <td>7</td>\n      <td>0</td>\n      <td>1</td>\n      <td>male</td>\n      <td>54.0</td>\n      <td>0</td>\n      <td>0</td>\n      <td>17463</td>\n      <td>51.8625</td>\n      <td>E46</td>\n      <td>S</td>\n    </tr>\n    <tr>\n      <th>Sloper, Mr. William Thompson</th>\n      <td>24</td>\n      <td>1</td>\n      <td>1</td>\n      <td>male</td>\n      <td>28.0</td>\n      <td>0</td>\n      <td>0</td>\n      <td>113788</td>\n      <td>35.5000</td>\n      <td>A6</td>\n      <td>S</td>\n    </tr>\n    <tr>\n      <th>Fortune, Mr. Charles Alexander</th>\n      <td>28</td>\n      <td>0</td>\n      <td>1</td>\n      <td>male</td>\n      <td>19.0</td>\n      <td>3</td>\n      <td>2</td>\n      <td>19950</td>\n      <td>263.0000</td>\n      <td>C23 C25 C27</td>\n      <td>S</td>\n    </tr>\n    <tr>\n      <th>Uruchurtu, Don. Manuel E</th>\n      <td>31</td>\n      <td>0</td>\n      <td>1</td>\n      <td>male</td>\n      <td>40.0</td>\n      <td>0</td>\n      <td>0</td>\n      <td>PC 17601</td>\n      <td>27.7208</td>\n      <td>NaN</td>\n      <td>C</td>\n    </tr>\n    <tr>\n      <th>Meyer, Mr. Edgar Joseph</th>\n      <td>35</td>\n      <td>0</td>\n      <td>1</td>\n      <td>male</td>\n      <td>28.0</td>\n      <td>1</td>\n      <td>0</td>\n      <td>PC 17604</td>\n      <td>82.1708</td>\n      <td>NaN</td>\n      <td>C</td>\n    </tr>\n    <tr>\n      <th>...</th>\n      <td>...</td>\n      <td>...</td>\n      <td>...</td>\n      <td>...</td>\n      <td>...</td>\n      <td>...</td>\n      <td>...</td>\n      <td>...</td>\n      <td>...</td>\n      <td>...</td>\n      <td>...</td>\n    </tr>\n    <tr>\n      <th>Marechal, Mr. Pierre</th>\n      <td>840</td>\n      <td>1</td>\n      <td>1</td>\n      <td>male</td>\n      <td>NaN</td>\n      <td>0</td>\n      <td>0</td>\n      <td>11774</td>\n      <td>29.7000</td>\n      <td>C47</td>\n      <td>C</td>\n    </tr>\n    <tr>\n      <th>Daly, Mr. Peter Denis</th>\n      <td>858</td>\n      <td>1</td>\n      <td>1</td>\n      <td>male</td>\n      <td>51.0</td>\n      <td>0</td>\n      <td>0</td>\n      <td>113055</td>\n      <td>26.5500</td>\n      <td>E17</td>\n      <td>S</td>\n    </tr>\n    <tr>\n      <th>Roebling, Mr. Washington Augustus II</th>\n      <td>868</td>\n      <td>0</td>\n      <td>1</td>\n      <td>male</td>\n      <td>31.0</td>\n      <td>0</td>\n      <td>0</td>\n      <td>PC 17590</td>\n      <td>50.4958</td>\n      <td>A24</td>\n      <td>S</td>\n    </tr>\n    <tr>\n      <th>Carlsson, Mr. Frans Olof</th>\n      <td>873</td>\n      <td>0</td>\n      <td>1</td>\n      <td>male</td>\n      <td>33.0</td>\n      <td>0</td>\n      <td>0</td>\n      <td>695</td>\n      <td>5.0000</td>\n      <td>B51 B53 B55</td>\n      <td>S</td>\n    </tr>\n    <tr>\n      <th>Behr, Mr. Karl Howell</th>\n      <td>890</td>\n      <td>1</td>\n      <td>1</td>\n      <td>male</td>\n      <td>26.0</td>\n      <td>0</td>\n      <td>0</td>\n      <td>111369</td>\n      <td>30.0000</td>\n      <td>C148</td>\n      <td>C</td>\n    </tr>\n  </tbody>\n</table>\n<p>122 rows × 11 columns</p>\n</div>"
          },
          "execution_count": 90,
          "metadata": {},
          "output_type": "execute_result"
        }
      ],
      "source": [
        "titanic[mask]"
      ],
      "metadata": {
        "id": "ZwJ6HSTnneWD",
        "outputId": "d9f1f3fc-0bc3-4223-e1c7-5956a42804a9"
      }
    },
    {
      "cell_type": "code",
      "execution_count": null,
      "outputs": [
        {
          "data": {
            "text/plain": "                                                    PassengerId  Survived  \\\nName                                                                        \nCumings, Mrs. John Bradley (Florence Briggs Tha...            2         1   \nHeikkinen, Miss. Laina                                        3         1   \nFutrelle, Mrs. Jacques Heath (Lily May Peel)                  4         1   \nJohnson, Mrs. Oscar W (Elisabeth Vilhelmina Berg)             9         1   \nNasser, Mrs. Nicholas (Adele Achem)                          10         1   \n...                                                         ...       ...   \nShelley, Mrs. William (Imanita Parrish Hall)                881         1   \nDahlberg, Miss. Gerda Ulrika                                883         0   \nRice, Mrs. William (Margaret Norton)                        886         0   \nGraham, Miss. Margaret Edith                                888         1   \nJohnston, Miss. Catherine Helen \"Carrie\"                    889         0   \n\n                                                    Pclass     Sex   Age  \\\nName                                                                       \nCumings, Mrs. John Bradley (Florence Briggs Tha...       1  female  38.0   \nHeikkinen, Miss. Laina                                   3  female  26.0   \nFutrelle, Mrs. Jacques Heath (Lily May Peel)             1  female  35.0   \nJohnson, Mrs. Oscar W (Elisabeth Vilhelmina Berg)        3  female  27.0   \nNasser, Mrs. Nicholas (Adele Achem)                      2  female  14.0   \n...                                                    ...     ...   ...   \nShelley, Mrs. William (Imanita Parrish Hall)             2  female  25.0   \nDahlberg, Miss. Gerda Ulrika                             3  female  22.0   \nRice, Mrs. William (Margaret Norton)                     3  female  39.0   \nGraham, Miss. Margaret Edith                             1  female  19.0   \nJohnston, Miss. Catherine Helen \"Carrie\"                 3  female   NaN   \n\n                                                    SibSp  Parch  \\\nName                                                               \nCumings, Mrs. John Bradley (Florence Briggs Tha...      1      0   \nHeikkinen, Miss. Laina                                  0      0   \nFutrelle, Mrs. Jacques Heath (Lily May Peel)            1      0   \nJohnson, Mrs. Oscar W (Elisabeth Vilhelmina Berg)       0      2   \nNasser, Mrs. Nicholas (Adele Achem)                     1      0   \n...                                                   ...    ...   \nShelley, Mrs. William (Imanita Parrish Hall)            0      1   \nDahlberg, Miss. Gerda Ulrika                            0      0   \nRice, Mrs. William (Margaret Norton)                    0      5   \nGraham, Miss. Margaret Edith                            0      0   \nJohnston, Miss. Catherine Helen \"Carrie\"                1      2   \n\n                                                              Ticket     Fare  \\\nName                                                                            \nCumings, Mrs. John Bradley (Florence Briggs Tha...          PC 17599  71.2833   \nHeikkinen, Miss. Laina                              STON/O2. 3101282   7.9250   \nFutrelle, Mrs. Jacques Heath (Lily May Peel)                  113803  53.1000   \nJohnson, Mrs. Oscar W (Elisabeth Vilhelmina Berg)             347742  11.1333   \nNasser, Mrs. Nicholas (Adele Achem)                           237736  30.0708   \n...                                                              ...      ...   \nShelley, Mrs. William (Imanita Parrish Hall)                  230433  26.0000   \nDahlberg, Miss. Gerda Ulrika                                    7552  10.5167   \nRice, Mrs. William (Margaret Norton)                          382652  29.1250   \nGraham, Miss. Margaret Edith                                  112053  30.0000   \nJohnston, Miss. Catherine Helen \"Carrie\"                  W./C. 6607  23.4500   \n\n                                                   Cabin Embarked  \nName                                                               \nCumings, Mrs. John Bradley (Florence Briggs Tha...   C85        C  \nHeikkinen, Miss. Laina                               NaN        S  \nFutrelle, Mrs. Jacques Heath (Lily May Peel)        C123        S  \nJohnson, Mrs. Oscar W (Elisabeth Vilhelmina Berg)    NaN        S  \nNasser, Mrs. Nicholas (Adele Achem)                  NaN        C  \n...                                                  ...      ...  \nShelley, Mrs. William (Imanita Parrish Hall)         NaN        S  \nDahlberg, Miss. Gerda Ulrika                         NaN        S  \nRice, Mrs. William (Margaret Norton)                 NaN        Q  \nGraham, Miss. Margaret Edith                         B42        S  \nJohnston, Miss. Catherine Helen \"Carrie\"             NaN        S  \n\n[314 rows x 11 columns]",
            "text/html": "<div>\n<style scoped>\n    .dataframe tbody tr th:only-of-type {\n        vertical-align: middle;\n    }\n\n    .dataframe tbody tr th {\n        vertical-align: top;\n    }\n\n    .dataframe thead th {\n        text-align: right;\n    }\n</style>\n<table border=\"1\" class=\"dataframe\">\n  <thead>\n    <tr style=\"text-align: right;\">\n      <th></th>\n      <th>PassengerId</th>\n      <th>Survived</th>\n      <th>Pclass</th>\n      <th>Sex</th>\n      <th>Age</th>\n      <th>SibSp</th>\n      <th>Parch</th>\n      <th>Ticket</th>\n      <th>Fare</th>\n      <th>Cabin</th>\n      <th>Embarked</th>\n    </tr>\n    <tr>\n      <th>Name</th>\n      <th></th>\n      <th></th>\n      <th></th>\n      <th></th>\n      <th></th>\n      <th></th>\n      <th></th>\n      <th></th>\n      <th></th>\n      <th></th>\n      <th></th>\n    </tr>\n  </thead>\n  <tbody>\n    <tr>\n      <th>Cumings, Mrs. John Bradley (Florence Briggs Thayer)</th>\n      <td>2</td>\n      <td>1</td>\n      <td>1</td>\n      <td>female</td>\n      <td>38.0</td>\n      <td>1</td>\n      <td>0</td>\n      <td>PC 17599</td>\n      <td>71.2833</td>\n      <td>C85</td>\n      <td>C</td>\n    </tr>\n    <tr>\n      <th>Heikkinen, Miss. Laina</th>\n      <td>3</td>\n      <td>1</td>\n      <td>3</td>\n      <td>female</td>\n      <td>26.0</td>\n      <td>0</td>\n      <td>0</td>\n      <td>STON/O2. 3101282</td>\n      <td>7.9250</td>\n      <td>NaN</td>\n      <td>S</td>\n    </tr>\n    <tr>\n      <th>Futrelle, Mrs. Jacques Heath (Lily May Peel)</th>\n      <td>4</td>\n      <td>1</td>\n      <td>1</td>\n      <td>female</td>\n      <td>35.0</td>\n      <td>1</td>\n      <td>0</td>\n      <td>113803</td>\n      <td>53.1000</td>\n      <td>C123</td>\n      <td>S</td>\n    </tr>\n    <tr>\n      <th>Johnson, Mrs. Oscar W (Elisabeth Vilhelmina Berg)</th>\n      <td>9</td>\n      <td>1</td>\n      <td>3</td>\n      <td>female</td>\n      <td>27.0</td>\n      <td>0</td>\n      <td>2</td>\n      <td>347742</td>\n      <td>11.1333</td>\n      <td>NaN</td>\n      <td>S</td>\n    </tr>\n    <tr>\n      <th>Nasser, Mrs. Nicholas (Adele Achem)</th>\n      <td>10</td>\n      <td>1</td>\n      <td>2</td>\n      <td>female</td>\n      <td>14.0</td>\n      <td>1</td>\n      <td>0</td>\n      <td>237736</td>\n      <td>30.0708</td>\n      <td>NaN</td>\n      <td>C</td>\n    </tr>\n    <tr>\n      <th>...</th>\n      <td>...</td>\n      <td>...</td>\n      <td>...</td>\n      <td>...</td>\n      <td>...</td>\n      <td>...</td>\n      <td>...</td>\n      <td>...</td>\n      <td>...</td>\n      <td>...</td>\n      <td>...</td>\n    </tr>\n    <tr>\n      <th>Shelley, Mrs. William (Imanita Parrish Hall)</th>\n      <td>881</td>\n      <td>1</td>\n      <td>2</td>\n      <td>female</td>\n      <td>25.0</td>\n      <td>0</td>\n      <td>1</td>\n      <td>230433</td>\n      <td>26.0000</td>\n      <td>NaN</td>\n      <td>S</td>\n    </tr>\n    <tr>\n      <th>Dahlberg, Miss. Gerda Ulrika</th>\n      <td>883</td>\n      <td>0</td>\n      <td>3</td>\n      <td>female</td>\n      <td>22.0</td>\n      <td>0</td>\n      <td>0</td>\n      <td>7552</td>\n      <td>10.5167</td>\n      <td>NaN</td>\n      <td>S</td>\n    </tr>\n    <tr>\n      <th>Rice, Mrs. William (Margaret Norton)</th>\n      <td>886</td>\n      <td>0</td>\n      <td>3</td>\n      <td>female</td>\n      <td>39.0</td>\n      <td>0</td>\n      <td>5</td>\n      <td>382652</td>\n      <td>29.1250</td>\n      <td>NaN</td>\n      <td>Q</td>\n    </tr>\n    <tr>\n      <th>Graham, Miss. Margaret Edith</th>\n      <td>888</td>\n      <td>1</td>\n      <td>1</td>\n      <td>female</td>\n      <td>19.0</td>\n      <td>0</td>\n      <td>0</td>\n      <td>112053</td>\n      <td>30.0000</td>\n      <td>B42</td>\n      <td>S</td>\n    </tr>\n    <tr>\n      <th>Johnston, Miss. Catherine Helen \"Carrie\"</th>\n      <td>889</td>\n      <td>0</td>\n      <td>3</td>\n      <td>female</td>\n      <td>NaN</td>\n      <td>1</td>\n      <td>2</td>\n      <td>W./C. 6607</td>\n      <td>23.4500</td>\n      <td>NaN</td>\n      <td>S</td>\n    </tr>\n  </tbody>\n</table>\n<p>314 rows × 11 columns</p>\n</div>"
          },
          "execution_count": 94,
          "metadata": {},
          "output_type": "execute_result"
        }
      ],
      "source": [
        "titanic[titanic['Sex'].isin(['female'])] # фильтруем"
      ],
      "metadata": {
        "id": "9xVrCyRRneWD",
        "outputId": "bb71d0a4-ddfd-47d8-f411-859114d4897e"
      }
    },
    {
      "cell_type": "markdown",
      "source": [
        "**Работа с пропусками**"
      ],
      "metadata": {
        "collapsed": false,
        "id": "h7hw96bQneWE"
      }
    },
    {
      "cell_type": "markdown",
      "source": [
        "`Pandas` в основном использует значение [`np.nan`](https://numpy.org/doc/stable/user/misc.html) для представления отсутствующих данных. По умолчанию они не включается в вычисления."
      ],
      "metadata": {
        "collapsed": false,
        "id": "cV5lU_zCneWE"
      }
    },
    {
      "cell_type": "code",
      "execution_count": null,
      "outputs": [
        {
          "data": {
            "text/plain": "PassengerId      0\nSurvived         0\nPclass           0\nName             0\nSex              0\nAge            177\nSibSp            0\nParch            0\nTicket           0\nFare             0\nCabin          687\nEmbarked         2\ndtype: int64"
          },
          "execution_count": 176,
          "metadata": {},
          "output_type": "execute_result"
        }
      ],
      "source": [
        "titanic.isna().sum()"
      ],
      "metadata": {
        "id": "8sezVEytneWF",
        "outputId": "d2060a02-dbbb-4a37-b9f7-c3b0d47ef6ca"
      }
    },
    {
      "cell_type": "markdown",
      "source": [
        "Чтобы удалить строки, в которых отсутствуют данные, воспользуемся методом `dropna()`:"
      ],
      "metadata": {
        "collapsed": false,
        "id": "GIJIxFn2neWF"
      }
    },
    {
      "cell_type": "code",
      "execution_count": null,
      "outputs": [
        {
          "name": "stdout",
          "output_type": "stream",
          "text": [
            "<class 'pandas.core.frame.DataFrame'>\n",
            "Index: 183 entries, Cumings, Mrs. John Bradley (Florence Briggs Thayer) to Behr, Mr. Karl Howell\n",
            "Data columns (total 11 columns):\n",
            " #   Column       Non-Null Count  Dtype  \n",
            "---  ------       --------------  -----  \n",
            " 0   PassengerId  183 non-null    int64  \n",
            " 1   Survived     183 non-null    int64  \n",
            " 2   Pclass       183 non-null    int64  \n",
            " 3   Sex          183 non-null    object \n",
            " 4   Age          183 non-null    float64\n",
            " 5   SibSp        183 non-null    int64  \n",
            " 6   Parch        183 non-null    int64  \n",
            " 7   Ticket       183 non-null    object \n",
            " 8   Fare         183 non-null    float64\n",
            " 9   Cabin        183 non-null    object \n",
            " 10  Embarked     183 non-null    object \n",
            "dtypes: float64(2), int64(5), object(4)\n",
            "memory usage: 17.2+ KB\n"
          ]
        }
      ],
      "source": [
        "titanic_not_na = titanic.dropna()\n",
        "titanic_not_na.info()"
      ],
      "metadata": {
        "id": "QBVUbRh-neWG",
        "outputId": "36a88a4e-601d-4d19-fb7b-be904d9c9185"
      }
    },
    {
      "cell_type": "markdown",
      "source": [
        "Заполнение недостающих данных:"
      ],
      "metadata": {
        "collapsed": false,
        "id": "jtgEu3IKneWH"
      }
    },
    {
      "cell_type": "code",
      "execution_count": null,
      "outputs": [
        {
          "data": {
            "text/plain": "                                                PassengerId  Survived  Pclass  \\\nName                                                                            \nSpencer, Mrs. William Augustus (Marie Eugenie)           32         1       1   \nRugg, Miss. Emily                                        57         1       2   \nMoubarek, Master. Gerios                                 66         1       3   \n\n                                                   Sex   Age  SibSp  Parch  \\\nName                                                                         \nSpencer, Mrs. William Augustus (Marie Eugenie)  female   NaN      1      0   \nRugg, Miss. Emily                               female  21.0      0      0   \nMoubarek, Master. Gerios                          male   NaN      1      1   \n\n                                                    Ticket      Fare Cabin  \\\nName                                                                         \nSpencer, Mrs. William Augustus (Marie Eugenie)    PC 17569  146.5208   B78   \nRugg, Miss. Emily                               C.A. 31026   10.5000   NaN   \nMoubarek, Master. Gerios                              2661   15.2458   NaN   \n\n                                               Embarked  \nName                                                     \nSpencer, Mrs. William Augustus (Marie Eugenie)        C  \nRugg, Miss. Emily                                     S  \nMoubarek, Master. Gerios                              C  ",
            "text/html": "<div>\n<style scoped>\n    .dataframe tbody tr th:only-of-type {\n        vertical-align: middle;\n    }\n\n    .dataframe tbody tr th {\n        vertical-align: top;\n    }\n\n    .dataframe thead th {\n        text-align: right;\n    }\n</style>\n<table border=\"1\" class=\"dataframe\">\n  <thead>\n    <tr style=\"text-align: right;\">\n      <th></th>\n      <th>PassengerId</th>\n      <th>Survived</th>\n      <th>Pclass</th>\n      <th>Sex</th>\n      <th>Age</th>\n      <th>SibSp</th>\n      <th>Parch</th>\n      <th>Ticket</th>\n      <th>Fare</th>\n      <th>Cabin</th>\n      <th>Embarked</th>\n    </tr>\n    <tr>\n      <th>Name</th>\n      <th></th>\n      <th></th>\n      <th></th>\n      <th></th>\n      <th></th>\n      <th></th>\n      <th></th>\n      <th></th>\n      <th></th>\n      <th></th>\n      <th></th>\n    </tr>\n  </thead>\n  <tbody>\n    <tr>\n      <th>Spencer, Mrs. William Augustus (Marie Eugenie)</th>\n      <td>32</td>\n      <td>1</td>\n      <td>1</td>\n      <td>female</td>\n      <td>NaN</td>\n      <td>1</td>\n      <td>0</td>\n      <td>PC 17569</td>\n      <td>146.5208</td>\n      <td>B78</td>\n      <td>C</td>\n    </tr>\n    <tr>\n      <th>Rugg, Miss. Emily</th>\n      <td>57</td>\n      <td>1</td>\n      <td>2</td>\n      <td>female</td>\n      <td>21.0</td>\n      <td>0</td>\n      <td>0</td>\n      <td>C.A. 31026</td>\n      <td>10.5000</td>\n      <td>NaN</td>\n      <td>S</td>\n    </tr>\n    <tr>\n      <th>Moubarek, Master. Gerios</th>\n      <td>66</td>\n      <td>1</td>\n      <td>3</td>\n      <td>male</td>\n      <td>NaN</td>\n      <td>1</td>\n      <td>1</td>\n      <td>2661</td>\n      <td>15.2458</td>\n      <td>NaN</td>\n      <td>C</td>\n    </tr>\n  </tbody>\n</table>\n</div>"
          },
          "execution_count": 102,
          "metadata": {},
          "output_type": "execute_result"
        }
      ],
      "source": [
        "titanic.take([31, 56, 65])"
      ],
      "metadata": {
        "id": "eCyASz2_neWH",
        "outputId": "99ff1b14-49a7-443e-e84c-418e484228c7"
      }
    },
    {
      "cell_type": "code",
      "execution_count": null,
      "outputs": [
        {
          "data": {
            "text/plain": "                                                PassengerId  Survived  Pclass  \\\nName                                                                            \nSpencer, Mrs. William Augustus (Marie Eugenie)           32         1       1   \nRugg, Miss. Emily                                        57         1       2   \nMoubarek, Master. Gerios                                 66         1       3   \n\n                                                   Sex   Age  SibSp  Parch  \\\nName                                                                         \nSpencer, Mrs. William Augustus (Marie Eugenie)  female   0.0      1      0   \nRugg, Miss. Emily                               female  21.0      0      0   \nMoubarek, Master. Gerios                          male   0.0      1      1   \n\n                                                    Ticket      Fare Cabin  \\\nName                                                                         \nSpencer, Mrs. William Augustus (Marie Eugenie)    PC 17569  146.5208   B78   \nRugg, Miss. Emily                               C.A. 31026   10.5000     0   \nMoubarek, Master. Gerios                              2661   15.2458     0   \n\n                                               Embarked  \nName                                                     \nSpencer, Mrs. William Augustus (Marie Eugenie)        C  \nRugg, Miss. Emily                                     S  \nMoubarek, Master. Gerios                              C  ",
            "text/html": "<div>\n<style scoped>\n    .dataframe tbody tr th:only-of-type {\n        vertical-align: middle;\n    }\n\n    .dataframe tbody tr th {\n        vertical-align: top;\n    }\n\n    .dataframe thead th {\n        text-align: right;\n    }\n</style>\n<table border=\"1\" class=\"dataframe\">\n  <thead>\n    <tr style=\"text-align: right;\">\n      <th></th>\n      <th>PassengerId</th>\n      <th>Survived</th>\n      <th>Pclass</th>\n      <th>Sex</th>\n      <th>Age</th>\n      <th>SibSp</th>\n      <th>Parch</th>\n      <th>Ticket</th>\n      <th>Fare</th>\n      <th>Cabin</th>\n      <th>Embarked</th>\n    </tr>\n    <tr>\n      <th>Name</th>\n      <th></th>\n      <th></th>\n      <th></th>\n      <th></th>\n      <th></th>\n      <th></th>\n      <th></th>\n      <th></th>\n      <th></th>\n      <th></th>\n      <th></th>\n    </tr>\n  </thead>\n  <tbody>\n    <tr>\n      <th>Spencer, Mrs. William Augustus (Marie Eugenie)</th>\n      <td>32</td>\n      <td>1</td>\n      <td>1</td>\n      <td>female</td>\n      <td>0.0</td>\n      <td>1</td>\n      <td>0</td>\n      <td>PC 17569</td>\n      <td>146.5208</td>\n      <td>B78</td>\n      <td>C</td>\n    </tr>\n    <tr>\n      <th>Rugg, Miss. Emily</th>\n      <td>57</td>\n      <td>1</td>\n      <td>2</td>\n      <td>female</td>\n      <td>21.0</td>\n      <td>0</td>\n      <td>0</td>\n      <td>C.A. 31026</td>\n      <td>10.5000</td>\n      <td>0</td>\n      <td>S</td>\n    </tr>\n    <tr>\n      <th>Moubarek, Master. Gerios</th>\n      <td>66</td>\n      <td>1</td>\n      <td>3</td>\n      <td>male</td>\n      <td>0.0</td>\n      <td>1</td>\n      <td>1</td>\n      <td>2661</td>\n      <td>15.2458</td>\n      <td>0</td>\n      <td>C</td>\n    </tr>\n  </tbody>\n</table>\n</div>"
          },
          "execution_count": 116,
          "metadata": {},
          "output_type": "execute_result"
        }
      ],
      "source": [
        "titanic.fillna(value=0).take([31, 56, 65])"
      ],
      "metadata": {
        "id": "SmxNQAe4neWI",
        "outputId": "742cafad-9717-4a37-bdb3-cc31b7be4720"
      }
    },
    {
      "cell_type": "code",
      "execution_count": null,
      "outputs": [
        {
          "name": "stderr",
          "output_type": "stream",
          "text": [
            "C:\\Users\\anrfe\\AppData\\Local\\Temp\\ipykernel_7228\\3097319376.py:1: FutureWarning: The default value of numeric_only in DataFrame.mean is deprecated. In a future version, it will default to False. In addition, specifying 'numeric_only=None' is deprecated. Select only valid columns or specify the value of numeric_only to silence this warning.\n",
            "  titanic.fillna(value=titanic.mean()).take([31, 56, 65])\n"
          ]
        },
        {
          "data": {
            "text/plain": "                                                PassengerId  Survived  Pclass  \\\nName                                                                            \nSpencer, Mrs. William Augustus (Marie Eugenie)           32         1       1   \nRugg, Miss. Emily                                        57         1       2   \nMoubarek, Master. Gerios                                 66         1       3   \n\n                                                   Sex        Age  SibSp  \\\nName                                                                       \nSpencer, Mrs. William Augustus (Marie Eugenie)  female  29.699118      1   \nRugg, Miss. Emily                               female  21.000000      0   \nMoubarek, Master. Gerios                          male  29.699118      1   \n\n                                                Parch      Ticket      Fare  \\\nName                                                                          \nSpencer, Mrs. William Augustus (Marie Eugenie)      0    PC 17569  146.5208   \nRugg, Miss. Emily                                   0  C.A. 31026   10.5000   \nMoubarek, Master. Gerios                            1        2661   15.2458   \n\n                                               Cabin Embarked  \nName                                                           \nSpencer, Mrs. William Augustus (Marie Eugenie)   B78        C  \nRugg, Miss. Emily                                NaN        S  \nMoubarek, Master. Gerios                         NaN        C  ",
            "text/html": "<div>\n<style scoped>\n    .dataframe tbody tr th:only-of-type {\n        vertical-align: middle;\n    }\n\n    .dataframe tbody tr th {\n        vertical-align: top;\n    }\n\n    .dataframe thead th {\n        text-align: right;\n    }\n</style>\n<table border=\"1\" class=\"dataframe\">\n  <thead>\n    <tr style=\"text-align: right;\">\n      <th></th>\n      <th>PassengerId</th>\n      <th>Survived</th>\n      <th>Pclass</th>\n      <th>Sex</th>\n      <th>Age</th>\n      <th>SibSp</th>\n      <th>Parch</th>\n      <th>Ticket</th>\n      <th>Fare</th>\n      <th>Cabin</th>\n      <th>Embarked</th>\n    </tr>\n    <tr>\n      <th>Name</th>\n      <th></th>\n      <th></th>\n      <th></th>\n      <th></th>\n      <th></th>\n      <th></th>\n      <th></th>\n      <th></th>\n      <th></th>\n      <th></th>\n      <th></th>\n    </tr>\n  </thead>\n  <tbody>\n    <tr>\n      <th>Spencer, Mrs. William Augustus (Marie Eugenie)</th>\n      <td>32</td>\n      <td>1</td>\n      <td>1</td>\n      <td>female</td>\n      <td>29.699118</td>\n      <td>1</td>\n      <td>0</td>\n      <td>PC 17569</td>\n      <td>146.5208</td>\n      <td>B78</td>\n      <td>C</td>\n    </tr>\n    <tr>\n      <th>Rugg, Miss. Emily</th>\n      <td>57</td>\n      <td>1</td>\n      <td>2</td>\n      <td>female</td>\n      <td>21.000000</td>\n      <td>0</td>\n      <td>0</td>\n      <td>C.A. 31026</td>\n      <td>10.5000</td>\n      <td>NaN</td>\n      <td>S</td>\n    </tr>\n    <tr>\n      <th>Moubarek, Master. Gerios</th>\n      <td>66</td>\n      <td>1</td>\n      <td>3</td>\n      <td>male</td>\n      <td>29.699118</td>\n      <td>1</td>\n      <td>1</td>\n      <td>2661</td>\n      <td>15.2458</td>\n      <td>NaN</td>\n      <td>C</td>\n    </tr>\n  </tbody>\n</table>\n</div>"
          },
          "execution_count": 110,
          "metadata": {},
          "output_type": "execute_result"
        }
      ],
      "source": [
        "titanic.fillna(value=titanic.mean()).take([31, 56, 65])"
      ],
      "metadata": {
        "id": "vNKGivZHneWI",
        "outputId": "058a42ab-0381-45f6-bceb-0f63f2c5ceed"
      }
    },
    {
      "cell_type": "code",
      "execution_count": null,
      "outputs": [
        {
          "name": "stderr",
          "output_type": "stream",
          "text": [
            "C:\\Users\\anrfe\\AppData\\Local\\Temp\\ipykernel_7228\\2289413957.py:1: FutureWarning: The default value of numeric_only in DataFrame.median is deprecated. In a future version, it will default to False. In addition, specifying 'numeric_only=None' is deprecated. Select only valid columns or specify the value of numeric_only to silence this warning.\n",
            "  titanic.fillna(value=titanic.median()).take([31, 56, 65])\n"
          ]
        },
        {
          "data": {
            "text/plain": "                                                PassengerId  Survived  Pclass  \\\nName                                                                            \nSpencer, Mrs. William Augustus (Marie Eugenie)           32         1       1   \nRugg, Miss. Emily                                        57         1       2   \nMoubarek, Master. Gerios                                 66         1       3   \n\n                                                   Sex   Age  SibSp  Parch  \\\nName                                                                         \nSpencer, Mrs. William Augustus (Marie Eugenie)  female  28.0      1      0   \nRugg, Miss. Emily                               female  21.0      0      0   \nMoubarek, Master. Gerios                          male  28.0      1      1   \n\n                                                    Ticket      Fare Cabin  \\\nName                                                                         \nSpencer, Mrs. William Augustus (Marie Eugenie)    PC 17569  146.5208   B78   \nRugg, Miss. Emily                               C.A. 31026   10.5000   NaN   \nMoubarek, Master. Gerios                              2661   15.2458   NaN   \n\n                                               Embarked  \nName                                                     \nSpencer, Mrs. William Augustus (Marie Eugenie)        C  \nRugg, Miss. Emily                                     S  \nMoubarek, Master. Gerios                              C  ",
            "text/html": "<div>\n<style scoped>\n    .dataframe tbody tr th:only-of-type {\n        vertical-align: middle;\n    }\n\n    .dataframe tbody tr th {\n        vertical-align: top;\n    }\n\n    .dataframe thead th {\n        text-align: right;\n    }\n</style>\n<table border=\"1\" class=\"dataframe\">\n  <thead>\n    <tr style=\"text-align: right;\">\n      <th></th>\n      <th>PassengerId</th>\n      <th>Survived</th>\n      <th>Pclass</th>\n      <th>Sex</th>\n      <th>Age</th>\n      <th>SibSp</th>\n      <th>Parch</th>\n      <th>Ticket</th>\n      <th>Fare</th>\n      <th>Cabin</th>\n      <th>Embarked</th>\n    </tr>\n    <tr>\n      <th>Name</th>\n      <th></th>\n      <th></th>\n      <th></th>\n      <th></th>\n      <th></th>\n      <th></th>\n      <th></th>\n      <th></th>\n      <th></th>\n      <th></th>\n      <th></th>\n    </tr>\n  </thead>\n  <tbody>\n    <tr>\n      <th>Spencer, Mrs. William Augustus (Marie Eugenie)</th>\n      <td>32</td>\n      <td>1</td>\n      <td>1</td>\n      <td>female</td>\n      <td>28.0</td>\n      <td>1</td>\n      <td>0</td>\n      <td>PC 17569</td>\n      <td>146.5208</td>\n      <td>B78</td>\n      <td>C</td>\n    </tr>\n    <tr>\n      <th>Rugg, Miss. Emily</th>\n      <td>57</td>\n      <td>1</td>\n      <td>2</td>\n      <td>female</td>\n      <td>21.0</td>\n      <td>0</td>\n      <td>0</td>\n      <td>C.A. 31026</td>\n      <td>10.5000</td>\n      <td>NaN</td>\n      <td>S</td>\n    </tr>\n    <tr>\n      <th>Moubarek, Master. Gerios</th>\n      <td>66</td>\n      <td>1</td>\n      <td>3</td>\n      <td>male</td>\n      <td>28.0</td>\n      <td>1</td>\n      <td>1</td>\n      <td>2661</td>\n      <td>15.2458</td>\n      <td>NaN</td>\n      <td>C</td>\n    </tr>\n  </tbody>\n</table>\n</div>"
          },
          "execution_count": 112,
          "metadata": {},
          "output_type": "execute_result"
        }
      ],
      "source": [
        "titanic.fillna(value=titanic.median()).take([31, 56, 65])"
      ],
      "metadata": {
        "id": "JrsjG2oJneWJ",
        "outputId": "8890abb1-3603-4a8d-fb7d-922318d026d0"
      }
    },
    {
      "cell_type": "markdown",
      "source": [],
      "metadata": {
        "collapsed": false,
        "id": "Bokhq6fVneWJ"
      }
    },
    {
      "cell_type": "markdown",
      "source": [
        "**Работа с дубликатами**"
      ],
      "metadata": {
        "collapsed": false,
        "id": "qIrmMXGpneWJ"
      }
    },
    {
      "cell_type": "code",
      "execution_count": null,
      "outputs": [
        {
          "data": {
            "text/plain": "0"
          },
          "execution_count": 179,
          "metadata": {},
          "output_type": "execute_result"
        }
      ],
      "source": [
        "titanic.duplicated().sum()"
      ],
      "metadata": {
        "id": "Jdf_6idTneWK",
        "outputId": "925a8029-451e-485e-d9de-203528c3aadc"
      }
    },
    {
      "cell_type": "markdown",
      "source": [
        "**Управление данными**"
      ],
      "metadata": {
        "collapsed": false,
        "id": "1WlfxXrxneWK"
      }
    },
    {
      "cell_type": "markdown",
      "source": [
        "Перекодирование столбца с помощью функции `map`:"
      ],
      "metadata": {
        "collapsed": false,
        "id": "_u3OT6gIneWK"
      }
    },
    {
      "cell_type": "code",
      "execution_count": null,
      "outputs": [
        {
          "data": {
            "text/plain": "Name\nBraund, Mr. Owen Harris                                1\nCumings, Mrs. John Bradley (Florence Briggs Thayer)   -1\nHeikkinen, Miss. Laina                                -1\nFutrelle, Mrs. Jacques Heath (Lily May Peel)          -1\nAllen, Mr. William Henry                               1\nName: Sex, dtype: int64"
          },
          "execution_count": 119,
          "metadata": {},
          "output_type": "execute_result"
        }
      ],
      "source": [
        "sex = titanic[\"Sex\"]\n",
        "sex.map({\"male\":1, \"female\":-1}).head()"
      ],
      "metadata": {
        "id": "ANPvPKWyneWK",
        "outputId": "60901fcb-4219-4060-9616-858a8a23b8be"
      }
    },
    {
      "cell_type": "markdown",
      "source": [
        "Функция `apply`: применение функции поэлементно к столбцу или строке"
      ],
      "metadata": {
        "collapsed": false,
        "id": "BCZ9SXIvneWL"
      }
    },
    {
      "cell_type": "code",
      "execution_count": null,
      "outputs": [],
      "source": [
        "def func(x):\n",
        "    return x + 100"
      ],
      "metadata": {
        "id": "xNDuHxnGneWL"
      }
    },
    {
      "cell_type": "code",
      "execution_count": null,
      "outputs": [
        {
          "data": {
            "text/plain": "                                                    PassengerId  Survived  \\\nName                                                                        \nBraund, Mr. Owen Harris                                       1         0   \nCumings, Mrs. John Bradley (Florence Briggs Tha...            2         1   \nHeikkinen, Miss. Laina                                        3         1   \nFutrelle, Mrs. Jacques Heath (Lily May Peel)                  4         1   \nAllen, Mr. William Henry                                      5         0   \n\n                                                    Pclass     Sex   Age  \\\nName                                                                       \nBraund, Mr. Owen Harris                                  3    male  22.0   \nCumings, Mrs. John Bradley (Florence Briggs Tha...       1  female  38.0   \nHeikkinen, Miss. Laina                                   3  female  26.0   \nFutrelle, Mrs. Jacques Heath (Lily May Peel)             1  female  35.0   \nAllen, Mr. William Henry                                 3    male  35.0   \n\n                                                    SibSp  Parch  \\\nName                                                               \nBraund, Mr. Owen Harris                                 1      0   \nCumings, Mrs. John Bradley (Florence Briggs Tha...      1      0   \nHeikkinen, Miss. Laina                                  0      0   \nFutrelle, Mrs. Jacques Heath (Lily May Peel)            1      0   \nAllen, Mr. William Henry                                0      0   \n\n                                                              Ticket     Fare  \\\nName                                                                            \nBraund, Mr. Owen Harris                                    A/5 21171   7.2500   \nCumings, Mrs. John Bradley (Florence Briggs Tha...          PC 17599  71.2833   \nHeikkinen, Miss. Laina                              STON/O2. 3101282   7.9250   \nFutrelle, Mrs. Jacques Heath (Lily May Peel)                  113803  53.1000   \nAllen, Mr. William Henry                                      373450   8.0500   \n\n                                                   Cabin Embarked  NewAge  \nName                                                                       \nBraund, Mr. Owen Harris                              NaN        S   122.0  \nCumings, Mrs. John Bradley (Florence Briggs Tha...   C85        C   138.0  \nHeikkinen, Miss. Laina                               NaN        S   126.0  \nFutrelle, Mrs. Jacques Heath (Lily May Peel)        C123        S   135.0  \nAllen, Mr. William Henry                             NaN        S   135.0  ",
            "text/html": "<div>\n<style scoped>\n    .dataframe tbody tr th:only-of-type {\n        vertical-align: middle;\n    }\n\n    .dataframe tbody tr th {\n        vertical-align: top;\n    }\n\n    .dataframe thead th {\n        text-align: right;\n    }\n</style>\n<table border=\"1\" class=\"dataframe\">\n  <thead>\n    <tr style=\"text-align: right;\">\n      <th></th>\n      <th>PassengerId</th>\n      <th>Survived</th>\n      <th>Pclass</th>\n      <th>Sex</th>\n      <th>Age</th>\n      <th>SibSp</th>\n      <th>Parch</th>\n      <th>Ticket</th>\n      <th>Fare</th>\n      <th>Cabin</th>\n      <th>Embarked</th>\n      <th>NewAge</th>\n    </tr>\n    <tr>\n      <th>Name</th>\n      <th></th>\n      <th></th>\n      <th></th>\n      <th></th>\n      <th></th>\n      <th></th>\n      <th></th>\n      <th></th>\n      <th></th>\n      <th></th>\n      <th></th>\n      <th></th>\n    </tr>\n  </thead>\n  <tbody>\n    <tr>\n      <th>Braund, Mr. Owen Harris</th>\n      <td>1</td>\n      <td>0</td>\n      <td>3</td>\n      <td>male</td>\n      <td>22.0</td>\n      <td>1</td>\n      <td>0</td>\n      <td>A/5 21171</td>\n      <td>7.2500</td>\n      <td>NaN</td>\n      <td>S</td>\n      <td>122.0</td>\n    </tr>\n    <tr>\n      <th>Cumings, Mrs. John Bradley (Florence Briggs Thayer)</th>\n      <td>2</td>\n      <td>1</td>\n      <td>1</td>\n      <td>female</td>\n      <td>38.0</td>\n      <td>1</td>\n      <td>0</td>\n      <td>PC 17599</td>\n      <td>71.2833</td>\n      <td>C85</td>\n      <td>C</td>\n      <td>138.0</td>\n    </tr>\n    <tr>\n      <th>Heikkinen, Miss. Laina</th>\n      <td>3</td>\n      <td>1</td>\n      <td>3</td>\n      <td>female</td>\n      <td>26.0</td>\n      <td>0</td>\n      <td>0</td>\n      <td>STON/O2. 3101282</td>\n      <td>7.9250</td>\n      <td>NaN</td>\n      <td>S</td>\n      <td>126.0</td>\n    </tr>\n    <tr>\n      <th>Futrelle, Mrs. Jacques Heath (Lily May Peel)</th>\n      <td>4</td>\n      <td>1</td>\n      <td>1</td>\n      <td>female</td>\n      <td>35.0</td>\n      <td>1</td>\n      <td>0</td>\n      <td>113803</td>\n      <td>53.1000</td>\n      <td>C123</td>\n      <td>S</td>\n      <td>135.0</td>\n    </tr>\n    <tr>\n      <th>Allen, Mr. William Henry</th>\n      <td>5</td>\n      <td>0</td>\n      <td>3</td>\n      <td>male</td>\n      <td>35.0</td>\n      <td>0</td>\n      <td>0</td>\n      <td>373450</td>\n      <td>8.0500</td>\n      <td>NaN</td>\n      <td>S</td>\n      <td>135.0</td>\n    </tr>\n  </tbody>\n</table>\n</div>"
          },
          "execution_count": 121,
          "metadata": {},
          "output_type": "execute_result"
        }
      ],
      "source": [
        "titanic[\"NewAge\"] = titanic[\"Age\"].apply(lambda x: x+100)\n",
        "titanic.head()"
      ],
      "metadata": {
        "id": "_-HnKq-DneWM",
        "outputId": "909c4e9c-8742-4d43-bc56-7c9ffa2e63f4"
      }
    },
    {
      "cell_type": "markdown",
      "source": [
        "Полезные статистические методы:\n",
        "- `.sum()` – сумма элементов;\n",
        "- `.count()` – количество появлений элемента;\n",
        "- `.mean()` – среднее элементов;\n",
        "- `.min()` – минимальный элемент;\n",
        "- `.max()` – максимальный элемент."
      ],
      "metadata": {
        "collapsed": false,
        "id": "fACDrmqrneWM"
      }
    },
    {
      "cell_type": "code",
      "execution_count": null,
      "outputs": [
        {
          "data": {
            "text/plain": "29.69911764705882"
          },
          "execution_count": 122,
          "metadata": {},
          "output_type": "execute_result"
        }
      ],
      "source": [
        "titanic['Age'].mean()"
      ],
      "metadata": {
        "id": "o3JWbwusneWN",
        "outputId": "ce60b107-b8dd-467c-eb5c-a2019c970e37"
      }
    },
    {
      "cell_type": "markdown",
      "source": [
        "Сортировка данных:"
      ],
      "metadata": {
        "collapsed": false,
        "id": "pIEXO22gneWQ"
      }
    },
    {
      "cell_type": "code",
      "execution_count": null,
      "outputs": [
        {
          "data": {
            "text/plain": "     index                                      Name  PassengerId  Survived  \\\n630    630      Barkworth, Mr. Algernon Henry Wilson          631         1   \n851    851                       Svensson, Mr. Johan          852         0   \n493    493                   Artagaveytia, Mr. Ramon          494         0   \n96      96                 Goldschmidt, Mr. George B           97         0   \n116    116                      Connors, Mr. Patrick          117         0   \n..     ...                                       ...          ...       ...   \n859    859                          Razi, Mr. Raihed          860         0   \n863    863         Sage, Miss. Dorothy Edith \"Dolly\"          864         0   \n868    868               van Melkebeke, Mr. Philemon          869         0   \n878    878                        Laleff, Mr. Kristo          879         0   \n888    888  Johnston, Miss. Catherine Helen \"Carrie\"          889         0   \n\n     Pclass     Sex   Age  SibSp  Parch      Ticket     Fare Cabin Embarked  \\\n630       1    male  80.0      0      0       27042  30.0000   A23        S   \n851       3    male  74.0      0      0      347060   7.7750   NaN        S   \n493       1    male  71.0      0      0    PC 17609  49.5042   NaN        C   \n96        1    male  71.0      0      0    PC 17754  34.6542    A5        C   \n116       3    male  70.5      0      0      370369   7.7500   NaN        Q   \n..      ...     ...   ...    ...    ...         ...      ...   ...      ...   \n859       3    male   NaN      0      0        2629   7.2292   NaN        C   \n863       3  female   NaN      8      2    CA. 2343  69.5500   NaN        S   \n868       3    male   NaN      0      0      345777   9.5000   NaN        S   \n878       3    male   NaN      0      0      349217   7.8958   NaN        S   \n888       3  female   NaN      1      2  W./C. 6607  23.4500   NaN        S   \n\n     NewAge         Family  \n630   180.0      Barkworth  \n851   174.0       Svensson  \n493   171.0   Artagaveytia  \n96    171.0    Goldschmidt  \n116   170.5        Connors  \n..      ...            ...  \n859     NaN           Razi  \n863     NaN           Sage  \n868     NaN  van Melkebeke  \n878     NaN         Laleff  \n888     NaN       Johnston  \n\n[891 rows x 15 columns]",
            "text/html": "<div>\n<style scoped>\n    .dataframe tbody tr th:only-of-type {\n        vertical-align: middle;\n    }\n\n    .dataframe tbody tr th {\n        vertical-align: top;\n    }\n\n    .dataframe thead th {\n        text-align: right;\n    }\n</style>\n<table border=\"1\" class=\"dataframe\">\n  <thead>\n    <tr style=\"text-align: right;\">\n      <th></th>\n      <th>index</th>\n      <th>Name</th>\n      <th>PassengerId</th>\n      <th>Survived</th>\n      <th>Pclass</th>\n      <th>Sex</th>\n      <th>Age</th>\n      <th>SibSp</th>\n      <th>Parch</th>\n      <th>Ticket</th>\n      <th>Fare</th>\n      <th>Cabin</th>\n      <th>Embarked</th>\n      <th>NewAge</th>\n      <th>Family</th>\n    </tr>\n  </thead>\n  <tbody>\n    <tr>\n      <th>630</th>\n      <td>630</td>\n      <td>Barkworth, Mr. Algernon Henry Wilson</td>\n      <td>631</td>\n      <td>1</td>\n      <td>1</td>\n      <td>male</td>\n      <td>80.0</td>\n      <td>0</td>\n      <td>0</td>\n      <td>27042</td>\n      <td>30.0000</td>\n      <td>A23</td>\n      <td>S</td>\n      <td>180.0</td>\n      <td>Barkworth</td>\n    </tr>\n    <tr>\n      <th>851</th>\n      <td>851</td>\n      <td>Svensson, Mr. Johan</td>\n      <td>852</td>\n      <td>0</td>\n      <td>3</td>\n      <td>male</td>\n      <td>74.0</td>\n      <td>0</td>\n      <td>0</td>\n      <td>347060</td>\n      <td>7.7750</td>\n      <td>NaN</td>\n      <td>S</td>\n      <td>174.0</td>\n      <td>Svensson</td>\n    </tr>\n    <tr>\n      <th>493</th>\n      <td>493</td>\n      <td>Artagaveytia, Mr. Ramon</td>\n      <td>494</td>\n      <td>0</td>\n      <td>1</td>\n      <td>male</td>\n      <td>71.0</td>\n      <td>0</td>\n      <td>0</td>\n      <td>PC 17609</td>\n      <td>49.5042</td>\n      <td>NaN</td>\n      <td>C</td>\n      <td>171.0</td>\n      <td>Artagaveytia</td>\n    </tr>\n    <tr>\n      <th>96</th>\n      <td>96</td>\n      <td>Goldschmidt, Mr. George B</td>\n      <td>97</td>\n      <td>0</td>\n      <td>1</td>\n      <td>male</td>\n      <td>71.0</td>\n      <td>0</td>\n      <td>0</td>\n      <td>PC 17754</td>\n      <td>34.6542</td>\n      <td>A5</td>\n      <td>C</td>\n      <td>171.0</td>\n      <td>Goldschmidt</td>\n    </tr>\n    <tr>\n      <th>116</th>\n      <td>116</td>\n      <td>Connors, Mr. Patrick</td>\n      <td>117</td>\n      <td>0</td>\n      <td>3</td>\n      <td>male</td>\n      <td>70.5</td>\n      <td>0</td>\n      <td>0</td>\n      <td>370369</td>\n      <td>7.7500</td>\n      <td>NaN</td>\n      <td>Q</td>\n      <td>170.5</td>\n      <td>Connors</td>\n    </tr>\n    <tr>\n      <th>...</th>\n      <td>...</td>\n      <td>...</td>\n      <td>...</td>\n      <td>...</td>\n      <td>...</td>\n      <td>...</td>\n      <td>...</td>\n      <td>...</td>\n      <td>...</td>\n      <td>...</td>\n      <td>...</td>\n      <td>...</td>\n      <td>...</td>\n      <td>...</td>\n      <td>...</td>\n    </tr>\n    <tr>\n      <th>859</th>\n      <td>859</td>\n      <td>Razi, Mr. Raihed</td>\n      <td>860</td>\n      <td>0</td>\n      <td>3</td>\n      <td>male</td>\n      <td>NaN</td>\n      <td>0</td>\n      <td>0</td>\n      <td>2629</td>\n      <td>7.2292</td>\n      <td>NaN</td>\n      <td>C</td>\n      <td>NaN</td>\n      <td>Razi</td>\n    </tr>\n    <tr>\n      <th>863</th>\n      <td>863</td>\n      <td>Sage, Miss. Dorothy Edith \"Dolly\"</td>\n      <td>864</td>\n      <td>0</td>\n      <td>3</td>\n      <td>female</td>\n      <td>NaN</td>\n      <td>8</td>\n      <td>2</td>\n      <td>CA. 2343</td>\n      <td>69.5500</td>\n      <td>NaN</td>\n      <td>S</td>\n      <td>NaN</td>\n      <td>Sage</td>\n    </tr>\n    <tr>\n      <th>868</th>\n      <td>868</td>\n      <td>van Melkebeke, Mr. Philemon</td>\n      <td>869</td>\n      <td>0</td>\n      <td>3</td>\n      <td>male</td>\n      <td>NaN</td>\n      <td>0</td>\n      <td>0</td>\n      <td>345777</td>\n      <td>9.5000</td>\n      <td>NaN</td>\n      <td>S</td>\n      <td>NaN</td>\n      <td>van Melkebeke</td>\n    </tr>\n    <tr>\n      <th>878</th>\n      <td>878</td>\n      <td>Laleff, Mr. Kristo</td>\n      <td>879</td>\n      <td>0</td>\n      <td>3</td>\n      <td>male</td>\n      <td>NaN</td>\n      <td>0</td>\n      <td>0</td>\n      <td>349217</td>\n      <td>7.8958</td>\n      <td>NaN</td>\n      <td>S</td>\n      <td>NaN</td>\n      <td>Laleff</td>\n    </tr>\n    <tr>\n      <th>888</th>\n      <td>888</td>\n      <td>Johnston, Miss. Catherine Helen \"Carrie\"</td>\n      <td>889</td>\n      <td>0</td>\n      <td>3</td>\n      <td>female</td>\n      <td>NaN</td>\n      <td>1</td>\n      <td>2</td>\n      <td>W./C. 6607</td>\n      <td>23.4500</td>\n      <td>NaN</td>\n      <td>S</td>\n      <td>NaN</td>\n      <td>Johnston</td>\n    </tr>\n  </tbody>\n</table>\n<p>891 rows × 15 columns</p>\n</div>"
          },
          "execution_count": 150,
          "metadata": {},
          "output_type": "execute_result"
        }
      ],
      "source": [
        "titanic.sort_values(by='Age', ascending=False)"
      ],
      "metadata": {
        "id": "rBr9R0YineWR",
        "outputId": "031234e3-7330-44cf-a6c8-03c28e29e1f5"
      }
    },
    {
      "cell_type": "markdown",
      "source": [
        "Функция `groupby`: создание групп по значению какого-то столбца (или группы столбцов)"
      ],
      "metadata": {
        "collapsed": false,
        "id": "-6Jq2yzpneWS"
      }
    },
    {
      "cell_type": "code",
      "execution_count": null,
      "outputs": [
        {
          "data": {
            "text/plain": "Sex\nfemale    27.915709\nmale      30.726645\nName: Age, dtype: float64"
          },
          "execution_count": 124,
          "metadata": {},
          "output_type": "execute_result"
        }
      ],
      "source": [
        "titanic.groupby(\"Sex\")['Age'].mean()"
      ],
      "metadata": {
        "id": "2jdIRV0bneWT",
        "outputId": "efa8e467-6a13-45e2-cc9f-bc929b08ec34"
      }
    },
    {
      "cell_type": "markdown",
      "source": [
        "Создаем столбец с фамилией:"
      ],
      "metadata": {
        "collapsed": false,
        "id": "VJvXUUPHneWU"
      }
    },
    {
      "cell_type": "code",
      "execution_count": null,
      "outputs": [
        {
          "data": {
            "text/plain": "     index                                               Name  PassengerId  \\\n0        0                            Braund, Mr. Owen Harris            1   \n1        1  Cumings, Mrs. John Bradley (Florence Briggs Th...            2   \n2        2                             Heikkinen, Miss. Laina            3   \n3        3       Futrelle, Mrs. Jacques Heath (Lily May Peel)            4   \n4        4                           Allen, Mr. William Henry            5   \n..     ...                                                ...          ...   \n886    886                              Montvila, Rev. Juozas          887   \n887    887                       Graham, Miss. Margaret Edith          888   \n888    888           Johnston, Miss. Catherine Helen \"Carrie\"          889   \n889    889                              Behr, Mr. Karl Howell          890   \n890    890                                Dooley, Mr. Patrick          891   \n\n     Survived  Pclass     Sex   Age  SibSp  Parch            Ticket     Fare  \\\n0           0       3    male  22.0      1      0         A/5 21171   7.2500   \n1           1       1  female  38.0      1      0          PC 17599  71.2833   \n2           1       3  female  26.0      0      0  STON/O2. 3101282   7.9250   \n3           1       1  female  35.0      1      0            113803  53.1000   \n4           0       3    male  35.0      0      0            373450   8.0500   \n..        ...     ...     ...   ...    ...    ...               ...      ...   \n886         0       2    male  27.0      0      0            211536  13.0000   \n887         1       1  female  19.0      0      0            112053  30.0000   \n888         0       3  female   NaN      1      2        W./C. 6607  23.4500   \n889         1       1    male  26.0      0      0            111369  30.0000   \n890         0       3    male  32.0      0      0            370376   7.7500   \n\n    Cabin Embarked  NewAge  \n0     NaN        S   122.0  \n1     C85        C   138.0  \n2     NaN        S   126.0  \n3    C123        S   135.0  \n4     NaN        S   135.0  \n..    ...      ...     ...  \n886   NaN        S   127.0  \n887   B42        S   119.0  \n888   NaN        S     NaN  \n889  C148        C   126.0  \n890   NaN        Q   132.0  \n\n[891 rows x 14 columns]",
            "text/html": "<div>\n<style scoped>\n    .dataframe tbody tr th:only-of-type {\n        vertical-align: middle;\n    }\n\n    .dataframe tbody tr th {\n        vertical-align: top;\n    }\n\n    .dataframe thead th {\n        text-align: right;\n    }\n</style>\n<table border=\"1\" class=\"dataframe\">\n  <thead>\n    <tr style=\"text-align: right;\">\n      <th></th>\n      <th>index</th>\n      <th>Name</th>\n      <th>PassengerId</th>\n      <th>Survived</th>\n      <th>Pclass</th>\n      <th>Sex</th>\n      <th>Age</th>\n      <th>SibSp</th>\n      <th>Parch</th>\n      <th>Ticket</th>\n      <th>Fare</th>\n      <th>Cabin</th>\n      <th>Embarked</th>\n      <th>NewAge</th>\n    </tr>\n  </thead>\n  <tbody>\n    <tr>\n      <th>0</th>\n      <td>0</td>\n      <td>Braund, Mr. Owen Harris</td>\n      <td>1</td>\n      <td>0</td>\n      <td>3</td>\n      <td>male</td>\n      <td>22.0</td>\n      <td>1</td>\n      <td>0</td>\n      <td>A/5 21171</td>\n      <td>7.2500</td>\n      <td>NaN</td>\n      <td>S</td>\n      <td>122.0</td>\n    </tr>\n    <tr>\n      <th>1</th>\n      <td>1</td>\n      <td>Cumings, Mrs. John Bradley (Florence Briggs Th...</td>\n      <td>2</td>\n      <td>1</td>\n      <td>1</td>\n      <td>female</td>\n      <td>38.0</td>\n      <td>1</td>\n      <td>0</td>\n      <td>PC 17599</td>\n      <td>71.2833</td>\n      <td>C85</td>\n      <td>C</td>\n      <td>138.0</td>\n    </tr>\n    <tr>\n      <th>2</th>\n      <td>2</td>\n      <td>Heikkinen, Miss. Laina</td>\n      <td>3</td>\n      <td>1</td>\n      <td>3</td>\n      <td>female</td>\n      <td>26.0</td>\n      <td>0</td>\n      <td>0</td>\n      <td>STON/O2. 3101282</td>\n      <td>7.9250</td>\n      <td>NaN</td>\n      <td>S</td>\n      <td>126.0</td>\n    </tr>\n    <tr>\n      <th>3</th>\n      <td>3</td>\n      <td>Futrelle, Mrs. Jacques Heath (Lily May Peel)</td>\n      <td>4</td>\n      <td>1</td>\n      <td>1</td>\n      <td>female</td>\n      <td>35.0</td>\n      <td>1</td>\n      <td>0</td>\n      <td>113803</td>\n      <td>53.1000</td>\n      <td>C123</td>\n      <td>S</td>\n      <td>135.0</td>\n    </tr>\n    <tr>\n      <th>4</th>\n      <td>4</td>\n      <td>Allen, Mr. William Henry</td>\n      <td>5</td>\n      <td>0</td>\n      <td>3</td>\n      <td>male</td>\n      <td>35.0</td>\n      <td>0</td>\n      <td>0</td>\n      <td>373450</td>\n      <td>8.0500</td>\n      <td>NaN</td>\n      <td>S</td>\n      <td>135.0</td>\n    </tr>\n    <tr>\n      <th>...</th>\n      <td>...</td>\n      <td>...</td>\n      <td>...</td>\n      <td>...</td>\n      <td>...</td>\n      <td>...</td>\n      <td>...</td>\n      <td>...</td>\n      <td>...</td>\n      <td>...</td>\n      <td>...</td>\n      <td>...</td>\n      <td>...</td>\n      <td>...</td>\n    </tr>\n    <tr>\n      <th>886</th>\n      <td>886</td>\n      <td>Montvila, Rev. Juozas</td>\n      <td>887</td>\n      <td>0</td>\n      <td>2</td>\n      <td>male</td>\n      <td>27.0</td>\n      <td>0</td>\n      <td>0</td>\n      <td>211536</td>\n      <td>13.0000</td>\n      <td>NaN</td>\n      <td>S</td>\n      <td>127.0</td>\n    </tr>\n    <tr>\n      <th>887</th>\n      <td>887</td>\n      <td>Graham, Miss. Margaret Edith</td>\n      <td>888</td>\n      <td>1</td>\n      <td>1</td>\n      <td>female</td>\n      <td>19.0</td>\n      <td>0</td>\n      <td>0</td>\n      <td>112053</td>\n      <td>30.0000</td>\n      <td>B42</td>\n      <td>S</td>\n      <td>119.0</td>\n    </tr>\n    <tr>\n      <th>888</th>\n      <td>888</td>\n      <td>Johnston, Miss. Catherine Helen \"Carrie\"</td>\n      <td>889</td>\n      <td>0</td>\n      <td>3</td>\n      <td>female</td>\n      <td>NaN</td>\n      <td>1</td>\n      <td>2</td>\n      <td>W./C. 6607</td>\n      <td>23.4500</td>\n      <td>NaN</td>\n      <td>S</td>\n      <td>NaN</td>\n    </tr>\n    <tr>\n      <th>889</th>\n      <td>889</td>\n      <td>Behr, Mr. Karl Howell</td>\n      <td>890</td>\n      <td>1</td>\n      <td>1</td>\n      <td>male</td>\n      <td>26.0</td>\n      <td>0</td>\n      <td>0</td>\n      <td>111369</td>\n      <td>30.0000</td>\n      <td>C148</td>\n      <td>C</td>\n      <td>126.0</td>\n    </tr>\n    <tr>\n      <th>890</th>\n      <td>890</td>\n      <td>Dooley, Mr. Patrick</td>\n      <td>891</td>\n      <td>0</td>\n      <td>3</td>\n      <td>male</td>\n      <td>32.0</td>\n      <td>0</td>\n      <td>0</td>\n      <td>370376</td>\n      <td>7.7500</td>\n      <td>NaN</td>\n      <td>Q</td>\n      <td>132.0</td>\n    </tr>\n  </tbody>\n</table>\n<p>891 rows × 14 columns</p>\n</div>"
          },
          "execution_count": 130,
          "metadata": {},
          "output_type": "execute_result"
        }
      ],
      "source": [
        "titanic.reset_index(inplace=True)\n",
        "titanic"
      ],
      "metadata": {
        "id": "DY6UNhPeneWU",
        "outputId": "7428149d-a427-4a13-a037-1c5f45984cb6"
      }
    },
    {
      "cell_type": "code",
      "execution_count": null,
      "outputs": [
        {
          "data": {
            "text/plain": "   index                                               Name  PassengerId  \\\n0      0                            Braund, Mr. Owen Harris            1   \n1      1  Cumings, Mrs. John Bradley (Florence Briggs Th...            2   \n2      2                             Heikkinen, Miss. Laina            3   \n3      3       Futrelle, Mrs. Jacques Heath (Lily May Peel)            4   \n4      4                           Allen, Mr. William Henry            5   \n\n   Survived  Pclass     Sex   Age  SibSp  Parch            Ticket     Fare  \\\n0         0       3    male  22.0      1      0         A/5 21171   7.2500   \n1         1       1  female  38.0      1      0          PC 17599  71.2833   \n2         1       3  female  26.0      0      0  STON/O2. 3101282   7.9250   \n3         1       1  female  35.0      1      0            113803  53.1000   \n4         0       3    male  35.0      0      0            373450   8.0500   \n\n  Cabin Embarked  NewAge     Family  \n0   NaN        S   122.0     Braund  \n1   C85        C   138.0    Cumings  \n2   NaN        S   126.0  Heikkinen  \n3  C123        S   135.0   Futrelle  \n4   NaN        S   135.0      Allen  ",
            "text/html": "<div>\n<style scoped>\n    .dataframe tbody tr th:only-of-type {\n        vertical-align: middle;\n    }\n\n    .dataframe tbody tr th {\n        vertical-align: top;\n    }\n\n    .dataframe thead th {\n        text-align: right;\n    }\n</style>\n<table border=\"1\" class=\"dataframe\">\n  <thead>\n    <tr style=\"text-align: right;\">\n      <th></th>\n      <th>index</th>\n      <th>Name</th>\n      <th>PassengerId</th>\n      <th>Survived</th>\n      <th>Pclass</th>\n      <th>Sex</th>\n      <th>Age</th>\n      <th>SibSp</th>\n      <th>Parch</th>\n      <th>Ticket</th>\n      <th>Fare</th>\n      <th>Cabin</th>\n      <th>Embarked</th>\n      <th>NewAge</th>\n      <th>Family</th>\n    </tr>\n  </thead>\n  <tbody>\n    <tr>\n      <th>0</th>\n      <td>0</td>\n      <td>Braund, Mr. Owen Harris</td>\n      <td>1</td>\n      <td>0</td>\n      <td>3</td>\n      <td>male</td>\n      <td>22.0</td>\n      <td>1</td>\n      <td>0</td>\n      <td>A/5 21171</td>\n      <td>7.2500</td>\n      <td>NaN</td>\n      <td>S</td>\n      <td>122.0</td>\n      <td>Braund</td>\n    </tr>\n    <tr>\n      <th>1</th>\n      <td>1</td>\n      <td>Cumings, Mrs. John Bradley (Florence Briggs Th...</td>\n      <td>2</td>\n      <td>1</td>\n      <td>1</td>\n      <td>female</td>\n      <td>38.0</td>\n      <td>1</td>\n      <td>0</td>\n      <td>PC 17599</td>\n      <td>71.2833</td>\n      <td>C85</td>\n      <td>C</td>\n      <td>138.0</td>\n      <td>Cumings</td>\n    </tr>\n    <tr>\n      <th>2</th>\n      <td>2</td>\n      <td>Heikkinen, Miss. Laina</td>\n      <td>3</td>\n      <td>1</td>\n      <td>3</td>\n      <td>female</td>\n      <td>26.0</td>\n      <td>0</td>\n      <td>0</td>\n      <td>STON/O2. 3101282</td>\n      <td>7.9250</td>\n      <td>NaN</td>\n      <td>S</td>\n      <td>126.0</td>\n      <td>Heikkinen</td>\n    </tr>\n    <tr>\n      <th>3</th>\n      <td>3</td>\n      <td>Futrelle, Mrs. Jacques Heath (Lily May Peel)</td>\n      <td>4</td>\n      <td>1</td>\n      <td>1</td>\n      <td>female</td>\n      <td>35.0</td>\n      <td>1</td>\n      <td>0</td>\n      <td>113803</td>\n      <td>53.1000</td>\n      <td>C123</td>\n      <td>S</td>\n      <td>135.0</td>\n      <td>Futrelle</td>\n    </tr>\n    <tr>\n      <th>4</th>\n      <td>4</td>\n      <td>Allen, Mr. William Henry</td>\n      <td>5</td>\n      <td>0</td>\n      <td>3</td>\n      <td>male</td>\n      <td>35.0</td>\n      <td>0</td>\n      <td>0</td>\n      <td>373450</td>\n      <td>8.0500</td>\n      <td>NaN</td>\n      <td>S</td>\n      <td>135.0</td>\n      <td>Allen</td>\n    </tr>\n  </tbody>\n</table>\n</div>"
          },
          "execution_count": 133,
          "metadata": {},
          "output_type": "execute_result"
        }
      ],
      "source": [
        "titanic[\"Family\"] = titanic['Name'].apply(lambda s: s.split(\",\")[0])\n",
        "titanic.head()"
      ],
      "metadata": {
        "id": "RceFX7ZaneWV",
        "outputId": "bc5f79cc-b74d-4568-d438-aace9aa238c3"
      }
    },
    {
      "cell_type": "code",
      "execution_count": null,
      "outputs": [
        {
          "data": {
            "text/plain": "Family\nAbbing     1\nAbbott     2\nAbelson    2\nAdahl      1\nAdams      1\nName: Name, dtype: int64"
          },
          "execution_count": 135,
          "metadata": {},
          "output_type": "execute_result"
        }
      ],
      "source": [
        "titanic.groupby(\"Family\")[\"Name\"].count().head()"
      ],
      "metadata": {
        "id": "VJlskbBMneWb",
        "outputId": "b10abdf6-752e-4036-fc20-58cd4f321d4b"
      }
    },
    {
      "cell_type": "code",
      "execution_count": null,
      "outputs": [
        {
          "data": {
            "text/plain": "Andersson    9\nSage         7\nPanula       6\nSkoog        6\nCarter       6\n            ..\nHanna        1\nLewy         1\nMineff       1\nHaas         1\nDooley       1\nName: Family, Length: 667, dtype: int64"
          },
          "execution_count": 136,
          "metadata": {},
          "output_type": "execute_result"
        }
      ],
      "source": [
        "titanic[\"Family\"].value_counts()"
      ],
      "metadata": {
        "id": "1c8pczHCneWc",
        "outputId": "16a457e7-5bfc-416f-f0ca-351cf2c196c3"
      }
    },
    {
      "cell_type": "markdown",
      "source": [
        "Сколько семей было на корабле, в которых больше трех человек?"
      ],
      "metadata": {
        "collapsed": false,
        "id": "lCZnd-2NneWc"
      }
    },
    {
      "cell_type": "code",
      "execution_count": null,
      "outputs": [
        {
          "data": {
            "text/plain": "16"
          },
          "execution_count": 138,
          "metadata": {},
          "output_type": "execute_result"
        }
      ],
      "source": [
        "(titanic.groupby(\"Family\")[\"Name\"].count() > 3).sum()"
      ],
      "metadata": {
        "id": "LUoqdqxzneWd",
        "outputId": "ea166ee0-9ed4-462a-b020-5cb4fdd2afac"
      }
    },
    {
      "cell_type": "markdown",
      "source": [
        "## Подведем итог\n",
        "\n",
        "Датафреймы `Pandas` — мощный инструмент для работы с данными в среде, похожей на электронную таблицу. Создавать их можно из многих ресурсов, но создание\n",
        "из файла — самое распространенное. Мы можем расширить датафрейм новыми столбцами и строками.\n",
        "Мы можем получить доступ к данным с помощью индексаторов, которые допускается использовать и чтобы задавать эти самые данные. Датафрейм предоставляет отличный способ для изучения данных и управления ими."
      ],
      "metadata": {
        "collapsed": false,
        "id": "3vazV6baneWd"
      }
    },
    {
      "cell_type": "markdown",
      "source": [
        "## Задания к лекции\n",
        "**Задача 1.** Какова доля семей, в которых минимальный возраст меньше 20 (семьи с детьми)?\n",
        "\n",
        "**Задача 2.** Какова доля выживших пассажиров из класса 3? А пассажиров из класса 1?\n",
        "\n",
        "**Задача 3.** Сколько пассажиров выжило, а сколько - нет?\n",
        "\n",
        "**Задача 4.** Создайте столбец \"IsChild\", который равен 1, если возраст меньше 20, и 0 иначе. Для пропущенных значений поведение функции может быть произвольным.\n",
        "\n",
        "**Задача 5.** Какова доля выживших женщин из первого класса? А доля выживших мужчин из 3 класса?"
      ],
      "metadata": {
        "collapsed": false,
        "id": "5X0ouN2YneWd"
      }
    }
  ],
  "metadata": {
    "kernelspec": {
      "display_name": "Python 3",
      "language": "python",
      "name": "python3"
    },
    "language_info": {
      "codemirror_mode": {
        "name": "ipython",
        "version": 2
      },
      "file_extension": ".py",
      "mimetype": "text/x-python",
      "name": "python",
      "nbconvert_exporter": "python",
      "pygments_lexer": "ipython2",
      "version": "2.7.6"
    },
    "colab": {
      "provenance": []
    }
  },
  "nbformat": 4,
  "nbformat_minor": 0
}